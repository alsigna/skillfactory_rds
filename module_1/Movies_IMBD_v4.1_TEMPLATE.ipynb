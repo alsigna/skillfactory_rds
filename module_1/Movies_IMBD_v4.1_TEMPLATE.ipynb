{
 "cells": [
  {
   "cell_type": "code",
   "execution_count": 1,
   "metadata": {
    "_cell_guid": "b1076dfc-b9ad-4769-8c92-a6c4dae69d19",
    "_uuid": "8f2839f25d086af736a60e9eeb907d3b93b6e0e5",
    "colab": {},
    "colab_type": "code",
    "id": "U2D2gTdJVp90"
   },
   "outputs": [],
   "source": [
    "import numpy as np\n",
    "import pandas as pd\n",
    "# import seaborn as sns\n",
    "# import matplotlib.pyplot as plt\n",
    "# from collections import Counter\n",
    "import itertools as it\n",
    "import datetime"
   ]
  },
  {
   "cell_type": "code",
   "execution_count": 2,
   "metadata": {
    "_cell_guid": "79c7e3d0-c299-4dcb-8224-4455121ee9b0",
    "_uuid": "d629ff2d2480ee46fbb7e2d37f6b5fab8052498a",
    "colab": {},
    "colab_type": "code",
    "id": "oyGfxL3eVp9-"
   },
   "outputs": [
    {
     "output_type": "execute_result",
     "data": {
      "text/plain": [
       "        imdb_id    budget    revenue                original_title  \\\n",
       "1301  tt2172935  18000000    7972967  Metallica: Through the Never   \n",
       "520   tt0277371  16000000   66468332        Not Another Teen Movie   \n",
       "229   tt2978462  36000000   52424533                Dolphin Tale 2   \n",
       "1022  tt1591479  12000000   81272766                  Act of Valor   \n",
       "199   tt0787474  60000000  108255770                 The Boxtrolls   \n",
       "\n",
       "                                                   cast  \\\n",
       "1301  Dane DeHaan|Mackenzie Gray|James Hetfield|Lars...   \n",
       "520   Chyler Leigh|Chris Evans|Jaime Pressly|Eric Ch...   \n",
       "229   Morgan Freeman|Ashley Judd|Nathan Gamble|Cozi ...   \n",
       "1022  Roselyn SÃ¡nchez|Emilio Rivera|Nestor Serrano|...   \n",
       "199   Ben Kingsley|Isaac Hempstead Wright|Elle Fanni...   \n",
       "\n",
       "                            director  \\\n",
       "1301                   NimrÃ³d Antal   \n",
       "520                      Joel Gallen   \n",
       "229             Charles Martin Smith   \n",
       "1022          Mike McCoy|Scott Waugh   \n",
       "199   Graham Annable|Anthony Stacchi   \n",
       "\n",
       "                                                tagline  \\\n",
       "1301             Experience Metallica like never before   \n",
       "520   They served you Breakfast. They gave you Pie. ...   \n",
       "229        WINTER's amazing true story... now has HOPE.   \n",
       "1022                    The only easy day was yesterday   \n",
       "199        When troubles strikes friends stack together   \n",
       "\n",
       "                                               overview  runtime  \\\n",
       "1301  Trip, a young roadie for Metallica, is sent on...       93   \n",
       "520   On a bet, a gridiron hero at John Hughes High ...       89   \n",
       "229   The team of people who saved Winter's life rea...      107   \n",
       "1022  When a covert mission to rescue a kidnapped CI...      110   \n",
       "199   An orphaned boy raised by underground creature...       97   \n",
       "\n",
       "                               genres  \\\n",
       "1301                            Music   \n",
       "520                            Comedy   \n",
       "229                      Family|Drama   \n",
       "1022              Action|Thriller|War   \n",
       "199   Animation|Comedy|Family|Fantasy   \n",
       "\n",
       "                                   production_companies release_date  \\\n",
       "1301   Exclusive Media Group|Picturehouse Entertainment    9/25/2013   \n",
       "520   Original Film|Columbia Pictures Corporation|Ne...    12/7/2001   \n",
       "229    Alcon Entertainment|Color Force|Boxing Cat Films    9/12/2014   \n",
       "1022                  Relativity Media|Bandito Brothers    2/24/2012   \n",
       "199                                 Laika Entertainment    9/10/2014   \n",
       "\n",
       "      vote_average  release_year  \n",
       "1301           6.6          2013  \n",
       "520            5.3          2001  \n",
       "229            6.8          2014  \n",
       "1022           6.3          2012  \n",
       "199            6.6          2014  "
      ],
      "text/html": "<div>\n<style scoped>\n    .dataframe tbody tr th:only-of-type {\n        vertical-align: middle;\n    }\n\n    .dataframe tbody tr th {\n        vertical-align: top;\n    }\n\n    .dataframe thead th {\n        text-align: right;\n    }\n</style>\n<table border=\"1\" class=\"dataframe\">\n  <thead>\n    <tr style=\"text-align: right;\">\n      <th></th>\n      <th>imdb_id</th>\n      <th>budget</th>\n      <th>revenue</th>\n      <th>original_title</th>\n      <th>cast</th>\n      <th>director</th>\n      <th>tagline</th>\n      <th>overview</th>\n      <th>runtime</th>\n      <th>genres</th>\n      <th>production_companies</th>\n      <th>release_date</th>\n      <th>vote_average</th>\n      <th>release_year</th>\n    </tr>\n  </thead>\n  <tbody>\n    <tr>\n      <th>1301</th>\n      <td>tt2172935</td>\n      <td>18000000</td>\n      <td>7972967</td>\n      <td>Metallica: Through the Never</td>\n      <td>Dane DeHaan|Mackenzie Gray|James Hetfield|Lars...</td>\n      <td>NimrÃ³d Antal</td>\n      <td>Experience Metallica like never before</td>\n      <td>Trip, a young roadie for Metallica, is sent on...</td>\n      <td>93</td>\n      <td>Music</td>\n      <td>Exclusive Media Group|Picturehouse Entertainment</td>\n      <td>9/25/2013</td>\n      <td>6.6</td>\n      <td>2013</td>\n    </tr>\n    <tr>\n      <th>520</th>\n      <td>tt0277371</td>\n      <td>16000000</td>\n      <td>66468332</td>\n      <td>Not Another Teen Movie</td>\n      <td>Chyler Leigh|Chris Evans|Jaime Pressly|Eric Ch...</td>\n      <td>Joel Gallen</td>\n      <td>They served you Breakfast. They gave you Pie. ...</td>\n      <td>On a bet, a gridiron hero at John Hughes High ...</td>\n      <td>89</td>\n      <td>Comedy</td>\n      <td>Original Film|Columbia Pictures Corporation|Ne...</td>\n      <td>12/7/2001</td>\n      <td>5.3</td>\n      <td>2001</td>\n    </tr>\n    <tr>\n      <th>229</th>\n      <td>tt2978462</td>\n      <td>36000000</td>\n      <td>52424533</td>\n      <td>Dolphin Tale 2</td>\n      <td>Morgan Freeman|Ashley Judd|Nathan Gamble|Cozi ...</td>\n      <td>Charles Martin Smith</td>\n      <td>WINTER's amazing true story... now has HOPE.</td>\n      <td>The team of people who saved Winter's life rea...</td>\n      <td>107</td>\n      <td>Family|Drama</td>\n      <td>Alcon Entertainment|Color Force|Boxing Cat Films</td>\n      <td>9/12/2014</td>\n      <td>6.8</td>\n      <td>2014</td>\n    </tr>\n    <tr>\n      <th>1022</th>\n      <td>tt1591479</td>\n      <td>12000000</td>\n      <td>81272766</td>\n      <td>Act of Valor</td>\n      <td>Roselyn SÃ¡nchez|Emilio Rivera|Nestor Serrano|...</td>\n      <td>Mike McCoy|Scott Waugh</td>\n      <td>The only easy day was yesterday</td>\n      <td>When a covert mission to rescue a kidnapped CI...</td>\n      <td>110</td>\n      <td>Action|Thriller|War</td>\n      <td>Relativity Media|Bandito Brothers</td>\n      <td>2/24/2012</td>\n      <td>6.3</td>\n      <td>2012</td>\n    </tr>\n    <tr>\n      <th>199</th>\n      <td>tt0787474</td>\n      <td>60000000</td>\n      <td>108255770</td>\n      <td>The Boxtrolls</td>\n      <td>Ben Kingsley|Isaac Hempstead Wright|Elle Fanni...</td>\n      <td>Graham Annable|Anthony Stacchi</td>\n      <td>When troubles strikes friends stack together</td>\n      <td>An orphaned boy raised by underground creature...</td>\n      <td>97</td>\n      <td>Animation|Comedy|Family|Fantasy</td>\n      <td>Laika Entertainment</td>\n      <td>9/10/2014</td>\n      <td>6.6</td>\n      <td>2014</td>\n    </tr>\n  </tbody>\n</table>\n</div>"
     },
     "metadata": {},
     "execution_count": 2
    }
   ],
   "source": [
    "data = pd.read_csv('movie_bd_v5.csv')\n",
    "data.sample(5)"
   ]
  },
  {
   "cell_type": "code",
   "execution_count": 3,
   "metadata": {},
   "outputs": [
    {
     "output_type": "stream",
     "name": "stdout",
     "text": [
      "<class 'pandas.core.frame.DataFrame'>\nRangeIndex: 1889 entries, 0 to 1888\nData columns (total 14 columns):\n #   Column                Non-Null Count  Dtype  \n---  ------                --------------  -----  \n 0   imdb_id               1889 non-null   object \n 1   budget                1889 non-null   int64  \n 2   revenue               1889 non-null   int64  \n 3   original_title        1889 non-null   object \n 4   cast                  1889 non-null   object \n 5   director              1889 non-null   object \n 6   tagline               1889 non-null   object \n 7   overview              1889 non-null   object \n 8   runtime               1889 non-null   int64  \n 9   genres                1889 non-null   object \n 10  production_companies  1889 non-null   object \n 11  release_date          1889 non-null   object \n 12  vote_average          1889 non-null   float64\n 13  release_year          1889 non-null   int64  \ndtypes: float64(1), int64(4), object(9)\nmemory usage: 206.7+ KB\n"
     ]
    }
   ],
   "source": [
    "data.info()"
   ]
  },
  {
   "cell_type": "markdown",
   "metadata": {
    "colab_type": "text",
    "id": "DTIt7ezGVp-G"
   },
   "source": [
    "# Предобработка"
   ]
  },
  {
   "cell_type": "code",
   "execution_count": 4,
   "metadata": {
    "colab": {},
    "colab_type": "code",
    "id": "jNb40DwKVp-H"
   },
   "outputs": [],
   "source": [
    "answers = {} # создадим словарь для ответов\n",
    "\n",
    "# дополняем столбец с прибыльностью\n",
    "data[\"profit\"] = data[\"revenue\"] - data[\"budget\"]\n",
    "\n",
    "# переводим в datetime\n",
    "data[\"release_date\"] = pd.to_datetime(data[\"release_date\"])\n",
    "\n",
    "# далаем explode, что бы далее сразу использовать нужный df\n",
    "data_by_genre = data.copy()\n",
    "data_by_director = data.copy()\n",
    "data_by_cast = data.copy()\n",
    "data_by_company = data.copy()\n",
    "\n",
    "# жанры\n",
    "data_by_genre.genres = data_by_genre\\\n",
    "    .genres.apply(lambda s: str(s).split(\"|\"))\n",
    "data_by_genre = data_by_genre.explode(\"genres\")\n",
    "\n",
    "# режиссеры\n",
    "data_by_director.director = data_by_director\\\n",
    "    .director.apply(lambda s: str(s).split(\"|\"))\n",
    "data_by_director = data_by_director.explode(\"director\")\n",
    "\n",
    "# актеры\n",
    "data_by_cast.cast = data_by_cast\\\n",
    "    .cast.apply(lambda s: str(s).split(\"|\"))\n",
    "data_by_cast = data_by_cast.explode(\"cast\")\n",
    "\n",
    "# кинокомпании\n",
    "data_by_company.production_companies = data_by_company\\\n",
    "    .production_companies.apply(lambda s: str(s).split(\"|\"))\n",
    "data_by_company = data_by_company.explode(\"production_companies\")\n",
    "\n",
    "\n",
    "# тут другие ваши предобработки колонок например:\n",
    "\n",
    "#the time given in the dataset is in string format.\n",
    "#So we need to change this in datetime format\n",
    "# ..."
   ]
  },
  {
   "cell_type": "markdown",
   "metadata": {
    "colab_type": "text",
    "id": "YxZaH-nPVp-L"
   },
   "source": [
    "# 1. У какого фильма из списка самый большой бюджет?"
   ]
  },
  {
   "cell_type": "markdown",
   "metadata": {
    "colab_type": "text",
    "id": "Nd-G5gX6Vp-M"
   },
   "source": [
    "Использовать варианты ответов в коде решения запрещено.    \n",
    "Вы думаете и в жизни у вас будут варианты ответов?)"
   ]
  },
  {
   "cell_type": "code",
   "execution_count": 5,
   "metadata": {
    "colab": {},
    "colab_type": "code",
    "id": "uVnXAY5RVp-O"
   },
   "outputs": [],
   "source": [
    "# в словарь вставляем номер вопроса и ваш ответ на него\n",
    "# Пример: \n",
    "answers['1'] = '2. Spider-Man 3 (tt0413300)'\n",
    "# запишите свой вариант ответа\n",
    "answers['1'] = '...'\n",
    "# если ответили верно, можете добавить комментарий со значком \"+\""
   ]
  },
  {
   "cell_type": "code",
   "execution_count": 6,
   "metadata": {
    "colab": {},
    "colab_type": "code",
    "id": "dZwb3m28Vp-S"
   },
   "outputs": [
    {
     "output_type": "execute_result",
     "data": {
      "text/plain": [
       "'Pirates of the Caribbean: On Stranger Tides (tt1298650)'"
      ]
     },
     "metadata": {},
     "execution_count": 6
    }
   ],
   "source": [
    "# тут пишем ваш код для решения данного вопроса:\n",
    "df_tmp = data.sort_values(\"budget\", ascending=False)\n",
    "answers[\"1\"] = f\"{df_tmp.iloc[0].original_title} ({df_tmp.iloc[0].imdb_id})\"\n",
    "answers[\"1\"]"
   ]
  },
  {
   "cell_type": "code",
   "execution_count": 7,
   "metadata": {
    "colab": {},
    "colab_type": "code",
    "id": "OGaoQI7rVp-X"
   },
   "outputs": [],
   "source": [
    "# можно добавлять разные варианты решения"
   ]
  },
  {
   "cell_type": "markdown",
   "metadata": {
    "colab_type": "text",
    "id": "FNRbbI3vVp-c"
   },
   "source": [
    "# 2. Какой из фильмов самый длительный (в минутах)?"
   ]
  },
  {
   "cell_type": "code",
   "execution_count": 8,
   "metadata": {
    "colab": {},
    "colab_type": "code",
    "id": "vHAoEXNTVp-d"
   },
   "outputs": [],
   "source": [
    "# думаю логику работы с этим словарем вы уже поняли, \n",
    "# по этому не буду больше его дублировать\n",
    "answers['2'] = '...'"
   ]
  },
  {
   "cell_type": "code",
   "execution_count": 9,
   "metadata": {
    "colab": {},
    "colab_type": "code",
    "id": "ot-VX2XrVp-g"
   },
   "outputs": [
    {
     "output_type": "execute_result",
     "data": {
      "text/plain": [
       "'Gods and Generals (tt0279111)'"
      ]
     },
     "metadata": {},
     "execution_count": 9
    }
   ],
   "source": [
    "df_tmp = data.sort_values(\"runtime\", ascending=False)\n",
    "answers[\"2\"] = f\"{df_tmp.iloc[0].original_title} ({df_tmp.iloc[0].imdb_id})\"\n",
    "answers[\"2\"]"
   ]
  },
  {
   "cell_type": "markdown",
   "metadata": {
    "colab_type": "text",
    "id": "bapLlpW8Vp-k"
   },
   "source": [
    "# 3. Какой из фильмов самый короткий (в минутах)?\n",
    "\n",
    "\n",
    "\n"
   ]
  },
  {
   "cell_type": "code",
   "execution_count": 10,
   "metadata": {
    "colab": {},
    "colab_type": "code",
    "id": "YBxaSHuAVp-l"
   },
   "outputs": [
    {
     "output_type": "execute_result",
     "data": {
      "text/plain": [
       "'Winnie the Pooh (tt1449283)'"
      ]
     },
     "metadata": {},
     "execution_count": 10
    }
   ],
   "source": [
    "df_tmp = data.sort_values(\"runtime\")\n",
    "answers[\"3\"] = f\"{df_tmp.iloc[0].original_title} ({df_tmp.iloc[0].imdb_id})\"\n",
    "answers[\"3\"]"
   ]
  },
  {
   "cell_type": "markdown",
   "metadata": {
    "colab_type": "text",
    "id": "TfQbxbfNVp-p"
   },
   "source": [
    "# 4. Какова средняя длительность фильмов?"
   ]
  },
  {
   "cell_type": "code",
   "execution_count": 11,
   "metadata": {
    "colab": {},
    "colab_type": "code",
    "id": "5K6dKZYVVp-q"
   },
   "outputs": [
    {
     "output_type": "execute_result",
     "data": {
      "text/plain": [
       "110"
      ]
     },
     "metadata": {},
     "execution_count": 11
    }
   ],
   "source": [
    "answers[\"4\"] = round(data.runtime.mean()) # в ответах целое, поэтому округлим\n",
    "answers[\"4\"]"
   ]
  },
  {
   "cell_type": "markdown",
   "metadata": {
    "colab_type": "text",
    "id": "r5TvbnT_Vp-u"
   },
   "source": [
    "# 5. Каково медианное значение длительности фильмов? "
   ]
  },
  {
   "cell_type": "code",
   "execution_count": 12,
   "metadata": {
    "colab": {},
    "colab_type": "code",
    "id": "iBROplKnVp-v"
   },
   "outputs": [
    {
     "output_type": "execute_result",
     "data": {
      "text/plain": [
       "107"
      ]
     },
     "metadata": {},
     "execution_count": 12
    }
   ],
   "source": [
    "answers[\"5\"] = round(data.runtime.median())\n",
    "answers[\"5\"]"
   ]
  },
  {
   "cell_type": "markdown",
   "metadata": {
    "colab_type": "text",
    "id": "39P-deDSVp-y"
   },
   "source": [
    "# 6. Какой самый прибыльный фильм?\n",
    "#### Внимание! Здесь и далее под «прибылью» или «убытками» понимается разность между сборами и бюджетом фильма. (прибыль = сборы - бюджет) в нашем датасете это будет (profit = revenue - budget) "
   ]
  },
  {
   "cell_type": "code",
   "execution_count": 13,
   "metadata": {
    "colab": {},
    "colab_type": "code",
    "id": "UYZh4T9WVp-y"
   },
   "outputs": [
    {
     "output_type": "execute_result",
     "data": {
      "text/plain": [
       "'Avatar (tt0499549)'"
      ]
     },
     "metadata": {},
     "execution_count": 13
    }
   ],
   "source": [
    "df_tmp = data.sort_values(\"profit\", ascending=False)\n",
    "answers[\"6\"] = f\"{df_tmp.iloc[0].original_title} ({df_tmp.iloc[0].imdb_id})\"\n",
    "answers[\"6\"]\n",
    "# лучше код получения столбца profit вынести в Предобработку что в начале"
   ]
  },
  {
   "cell_type": "markdown",
   "metadata": {
    "colab_type": "text",
    "id": "M99JmIX4Vp-2"
   },
   "source": [
    "# 7. Какой фильм самый убыточный? "
   ]
  },
  {
   "cell_type": "code",
   "execution_count": 14,
   "metadata": {
    "colab": {},
    "colab_type": "code",
    "id": "w-D2m4XPVp-3"
   },
   "outputs": [
    {
     "output_type": "execute_result",
     "data": {
      "text/plain": [
       "'The Lone Ranger (tt1210819)'"
      ]
     },
     "metadata": {},
     "execution_count": 14
    }
   ],
   "source": [
    "df_tmp = data.sort_values(\"profit\")\n",
    "answers[\"7\"] = f\"{df_tmp.iloc[0].original_title} ({df_tmp.iloc[0].imdb_id})\"\n",
    "answers[\"7\"]"
   ]
  },
  {
   "cell_type": "markdown",
   "metadata": {
    "colab_type": "text",
    "id": "wEOM5ERVVp-6"
   },
   "source": [
    "# 8. У скольких фильмов из датасета объем сборов оказался выше бюджета?"
   ]
  },
  {
   "cell_type": "code",
   "execution_count": 15,
   "metadata": {
    "colab": {},
    "colab_type": "code",
    "id": "y00_7HD6Vp-7"
   },
   "outputs": [
    {
     "output_type": "execute_result",
     "data": {
      "text/plain": [
       "1478"
      ]
     },
     "metadata": {},
     "execution_count": 15
    }
   ],
   "source": [
    "# выборка по сборам\n",
    "#   считаем число уникальных imdb_id\n",
    "answers[\"8\"] = data[data.revenue > data.budget]\\\n",
    "    .imdb_id.nunique()\n",
    "answers[\"8\"]"
   ]
  },
  {
   "cell_type": "markdown",
   "metadata": {
    "colab_type": "text",
    "id": "xhpspA9KVp_A"
   },
   "source": [
    "# 9. Какой фильм оказался самым кассовым в 2008 году?"
   ]
  },
  {
   "cell_type": "code",
   "execution_count": 16,
   "metadata": {
    "colab": {},
    "colab_type": "code",
    "id": "MoUyQr9RVp_B"
   },
   "outputs": [
    {
     "output_type": "execute_result",
     "data": {
      "text/plain": [
       "'The Dark Knight (tt0468569)'"
      ]
     },
     "metadata": {},
     "execution_count": 16
    }
   ],
   "source": [
    "# выборка по году\n",
    "#   сортируем по убыванию\n",
    "df_tmp = data[data.release_year == 2008]\\\n",
    "    .sort_values(\"revenue\", ascending=False)\n",
    "answers[\"9\"] = f\"{df_tmp.iloc[0].original_title} ({df_tmp.iloc[0].imdb_id})\"\n",
    "answers[\"9\"]"
   ]
  },
  {
   "cell_type": "markdown",
   "metadata": {
    "colab_type": "text",
    "id": "Zi4hDKidVp_F"
   },
   "source": [
    "# 10. Самый убыточный фильм за период с 2012 по 2014 г. (включительно)?\n"
   ]
  },
  {
   "cell_type": "code",
   "execution_count": 17,
   "metadata": {
    "colab": {},
    "colab_type": "code",
    "id": "XqyRmufJVp_F"
   },
   "outputs": [
    {
     "output_type": "execute_result",
     "data": {
      "text/plain": [
       "'The Lone Ranger (tt1210819)'"
      ]
     },
     "metadata": {},
     "execution_count": 17
    }
   ],
   "source": [
    "# выборка по годам\n",
    "#   сотируем по возрастанию\n",
    "df_tmp = data[(data.release_year >= 2012) & (data.release_year <= 2014)]\\\n",
    "    .sort_values(\"profit\")\n",
    "answers[\"10\"] = f\"{df_tmp.iloc[0].original_title} ({df_tmp.iloc[0].imdb_id})\"\n",
    "answers[\"10\"]"
   ]
  },
  {
   "cell_type": "markdown",
   "metadata": {
    "colab_type": "text",
    "id": "EA7Sa9dkVp_I"
   },
   "source": [
    "# 11. Какого жанра фильмов больше всего?"
   ]
  },
  {
   "cell_type": "code",
   "execution_count": 18,
   "metadata": {
    "colab": {},
    "colab_type": "code",
    "id": "zsJAwJ8QVp_J",
    "tags": []
   },
   "outputs": [
    {
     "output_type": "execute_result",
     "data": {
      "text/plain": [
       "'Drama'"
      ]
     },
     "metadata": {},
     "execution_count": 18
    }
   ],
   "source": [
    "# эту задачу тоже можно решать разными подходами, попробуй реализовать разные варианты\n",
    "# если будешь добавлять функцию - выноси ее в предобработку что в начале\n",
    "df_tmp = data.copy()\n",
    "df_tmp.genres = df_tmp.genres.apply(lambda s: str(s).split(\"|\"))\n",
    "# преобразуем список списков в плоский список\n",
    "flat_array = np.hstack(df_tmp.genres.to_numpy())\n",
    "# получаем число упоминаний каждого жанра\n",
    "genres, counts = np.unique(flat_array, return_counts=True)\n",
    "# сортируем число жанров и получаем индексы\n",
    "sorted_indx = np.argsort(-counts)\n",
    "# применям индексы к жанрам что бы вытащить текст и берем первый элемент\n",
    "answers[\"11\"] = genres[sorted_indx][0]\n",
    "answers[\"11\"]"
   ]
  },
  {
   "cell_type": "markdown",
   "metadata": {
    "colab_type": "text",
    "id": "Ax6g2C8SVp_M"
   },
   "source": [
    "ВАРИАНТ 2"
   ]
  },
  {
   "cell_type": "code",
   "execution_count": 19,
   "metadata": {
    "colab": {},
    "colab_type": "code",
    "id": "otO3SbrSVp_N"
   },
   "outputs": [
    {
     "output_type": "execute_result",
     "data": {
      "text/plain": [
       "'Drama'"
      ]
     },
     "metadata": {},
     "execution_count": 19
    }
   ],
   "source": [
    "# уже готовый DF по жанрам\n",
    "#   считаем количество каждого жанра\n",
    "#   сортируем\n",
    "#   берем верхний элемент\n",
    "answers[\"11\"] = data_by_genre\\\n",
    "    .genres.value_counts()\\\n",
    "    .sort_values(ascending=False)\\\n",
    "    .index[0]\n",
    "answers[\"11\"]"
   ]
  },
  {
   "cell_type": "markdown",
   "metadata": {
    "colab_type": "text",
    "id": "T9_bPWpkVp_Q"
   },
   "source": [
    "# 12. Фильмы какого жанра чаще всего становятся прибыльными? "
   ]
  },
  {
   "cell_type": "code",
   "execution_count": 20,
   "metadata": {
    "colab": {},
    "colab_type": "code",
    "id": "Tmt8MaK1Vp_R"
   },
   "outputs": [
    {
     "output_type": "execute_result",
     "data": {
      "text/plain": [
       "'Drama'"
      ]
     },
     "metadata": {},
     "execution_count": 20
    }
   ],
   "source": [
    "# уже готовый DF по жанрам с выборкой по положительной прибыли\n",
    "#   считаем количество каждого жанра\n",
    "#   сортируем\n",
    "#   берем верхний элемент\n",
    "answers[\"12\"] = data_by_genre[data_by_genre.profit > 0]\\\n",
    "    .genres.value_counts()\\\n",
    "    .sort_values(ascending=False)\\\n",
    "    .index[0]\n",
    "answers[\"12\"]"
   ]
  },
  {
   "cell_type": "markdown",
   "metadata": {
    "colab_type": "text",
    "id": "0F23bgsDVp_U"
   },
   "source": [
    "# 13. У какого режиссера самые большие суммарные кассовые сборы?"
   ]
  },
  {
   "cell_type": "code",
   "execution_count": 21,
   "metadata": {
    "colab": {},
    "colab_type": "code",
    "id": "K6Z3J8ygVp_X"
   },
   "outputs": [
    {
     "output_type": "execute_result",
     "data": {
      "text/plain": [
       "'Peter Jackson'"
      ]
     },
     "metadata": {},
     "execution_count": 21
    }
   ],
   "source": [
    "# уже готовый DF по режиссерам\n",
    "#   считаем суумму сбором по каждому режиссеру\n",
    "#   сортируем\n",
    "#   берем верхний элемент\n",
    "answers[\"13\"] = data_by_director\\\n",
    "    .groupby(\"director\").revenue.sum()\\\n",
    "    .sort_values(ascending=False)\\\n",
    "    .index[0]\n",
    "answers[\"13\"]"
   ]
  },
  {
   "cell_type": "markdown",
   "metadata": {
    "colab_type": "text",
    "id": "PsYC9FgRVp_a"
   },
   "source": [
    "# 14. Какой режисер снял больше всего фильмов в стиле Action?"
   ]
  },
  {
   "cell_type": "code",
   "execution_count": 22,
   "metadata": {
    "colab": {},
    "colab_type": "code",
    "id": "wd2M-wHeVp_b"
   },
   "outputs": [
    {
     "output_type": "execute_result",
     "data": {
      "text/plain": [
       "'Robert Rodriguez'"
      ]
     },
     "metadata": {},
     "execution_count": 22
    }
   ],
   "source": [
    "# выборка фильмов по жанру\n",
    "df_tmp = data_by_genre[data_by_genre.genres == \"Action\"].copy()\n",
    "# расширяем DF \n",
    "df_tmp.director = df_tmp.director.apply(lambda s: str(s).split(\"|\"))\n",
    "df_tmp = df_tmp.explode(\"director\")\n",
    "# DF по режиссерам и только Action\n",
    "#   считаем количество фильмоав у каждого режиссера\n",
    "#   сортируем\n",
    "#   берем верхний элемент\n",
    "answers[\"14\"] = df_tmp\\\n",
    "    .groupby(\"director\").imdb_id.count()\\\n",
    "    .sort_values(ascending=False)\\\n",
    "    .index[0]\n",
    "answers[\"14\"]"
   ]
  },
  {
   "cell_type": "markdown",
   "metadata": {
    "colab_type": "text",
    "id": "PQ0KciD7Vp_f"
   },
   "source": [
    "# 15. Фильмы с каким актером принесли самые высокие кассовые сборы в 2012 году? "
   ]
  },
  {
   "cell_type": "code",
   "execution_count": 23,
   "metadata": {
    "colab": {},
    "colab_type": "code",
    "id": "aga62oeKVp_g"
   },
   "outputs": [
    {
     "output_type": "execute_result",
     "data": {
      "text/plain": [
       "'Chris Hemsworth'"
      ]
     },
     "metadata": {},
     "execution_count": 23
    }
   ],
   "source": [
    "# фрейм по актерам с выборкой по году\n",
    "#   считаем суммарный сбор по каждому актеру\n",
    "#   сортируем\n",
    "#   берем актера\n",
    "answers[\"15\"] = data_by_cast[data_by_cast.release_year==2012]\\\n",
    "    .groupby(\"cast\").revenue.sum()\\\n",
    "    .sort_values(ascending=False)\\\n",
    "    .index[0]\n",
    "answers[\"15\"]"
   ]
  },
  {
   "cell_type": "markdown",
   "metadata": {
    "colab_type": "text",
    "id": "mWHyyL7QVp_j"
   },
   "source": [
    "# 16. Какой актер снялся в большем количестве высокобюджетных фильмов?\n",
    "Примечание: в фильмах, где бюджет выше среднего по данной выборке."
   ]
  },
  {
   "cell_type": "code",
   "execution_count": 24,
   "metadata": {
    "colab": {},
    "colab_type": "code",
    "id": "qQtmHKTFVp_k"
   },
   "outputs": [
    {
     "output_type": "execute_result",
     "data": {
      "text/plain": [
       "'Matt Damon'"
      ]
     },
     "metadata": {},
     "execution_count": 24
    }
   ],
   "source": [
    "# фрейм по актерам с выборкой по бюджету выше среднего в оригинальном DF\n",
    "#   считаем число фильмов сбор по каждому актеру\n",
    "#   сортируем\n",
    "#   берем актера\n",
    "answers[\"16\"] = data_by_cast[data_by_cast.budget > data.budget.mean()].copy()\\\n",
    "    .groupby(\"cast\").imdb_id.count()\\\n",
    "    .sort_values(ascending=False)\\\n",
    "    .index[0]\n",
    "answers['16']"
   ]
  },
  {
   "cell_type": "markdown",
   "metadata": {
    "colab_type": "text",
    "id": "NIh6AaW5Vp_n"
   },
   "source": [
    "# 17. В фильмах какого жанра больше всего снимался Nicolas Cage? "
   ]
  },
  {
   "cell_type": "code",
   "execution_count": 25,
   "metadata": {
    "colab": {},
    "colab_type": "code",
    "id": "H74SJDIBVp_n"
   },
   "outputs": [
    {
     "output_type": "execute_result",
     "data": {
      "text/plain": [
       "'Action'"
      ]
     },
     "metadata": {},
     "execution_count": 25
    }
   ],
   "source": [
    "# фрейм по жанрам с выборкой по Николасу в списке актеров\n",
    "#   считаем количество фильмов по каждому жанру\n",
    "#   сортируем\n",
    "#   берем жанр\n",
    "answers[\"17\"] = data_by_genre[data_by_genre.cast.str.contains(\"Nicolas Cage\")]\\\n",
    "    .groupby(\"genres\").imdb_id.count()\\\n",
    "    .sort_values(ascending=False)\\\n",
    "    .index[0]\n",
    "answers[\"17\"]"
   ]
  },
  {
   "cell_type": "markdown",
   "metadata": {
    "colab_type": "text",
    "id": "RqOmPRfWVp_q"
   },
   "source": [
    "# 18. Самый убыточный фильм от Paramount Pictures"
   ]
  },
  {
   "cell_type": "code",
   "execution_count": 26,
   "metadata": {
    "colab": {},
    "colab_type": "code",
    "id": "9E_B0Y96Vp_r"
   },
   "outputs": [
    {
     "output_type": "execute_result",
     "data": {
      "text/plain": [
       "'K-19: The Widowmaker (tt0267626)'"
      ]
     },
     "metadata": {},
     "execution_count": 26
    }
   ],
   "source": [
    "# фрейм с выборкой Парамаунту в списке компаний\n",
    "#   сортируем\n",
    "df_tmp = answers[\"18\"] = data[data.production_companies.str.contains(\"Paramount Pictures\")]\\\n",
    "    .sort_values(\"profit\", ascending=True)\n",
    "answers[\"18\"] = f\"{df_tmp.iloc[0].original_title} ({df_tmp.iloc[0].imdb_id})\"\n",
    "answers[\"18\"]"
   ]
  },
  {
   "cell_type": "markdown",
   "metadata": {
    "colab_type": "text",
    "id": "vS8Ur6ddVp_u"
   },
   "source": [
    "# 19. Какой год стал самым успешным по суммарным кассовым сборам?"
   ]
  },
  {
   "cell_type": "code",
   "execution_count": 27,
   "metadata": {
    "colab": {},
    "colab_type": "code",
    "id": "Dnbt4GdIVp_v"
   },
   "outputs": [
    {
     "output_type": "execute_result",
     "data": {
      "text/plain": [
       "2015"
      ]
     },
     "metadata": {},
     "execution_count": 27
    }
   ],
   "source": [
    "# оригинальный фрейм\n",
    "#   считаем суммарный сбор по каждому году\n",
    "#   сортируем\n",
    "#   берем год\n",
    "answers[\"19\"] = data\\\n",
    "    .groupby(\"release_year\").revenue.sum()\\\n",
    "    .sort_values(ascending=False)\\\n",
    "    .index[0]\n",
    "answers[\"19\"]"
   ]
  },
  {
   "cell_type": "markdown",
   "metadata": {
    "colab_type": "text",
    "id": "JAzJh4QAVp_z"
   },
   "source": [
    "# 20. Какой самый прибыльный год для студии Warner Bros?"
   ]
  },
  {
   "cell_type": "code",
   "execution_count": 28,
   "metadata": {
    "colab": {},
    "colab_type": "code",
    "id": "wgVu02DEVp_0"
   },
   "outputs": [
    {
     "output_type": "execute_result",
     "data": {
      "text/plain": [
       "2014"
      ]
     },
     "metadata": {},
     "execution_count": 28
    }
   ],
   "source": [
    "# фрейм с выборкой по ВарнерБрос в списке компаний\n",
    "#   считаем суммарную прибыть по каждому году\n",
    "#   сортируем\n",
    "#   берем год\n",
    "answers[\"20\"] = data[data.production_companies.str.contains(\"Warner Bros\")]\\\n",
    "    .groupby(\"release_year\").profit.sum()\\\n",
    "    .sort_values(ascending=False)\\\n",
    "    .index[0]\n",
    "answers[\"20\"]"
   ]
  },
  {
   "cell_type": "markdown",
   "metadata": {
    "colab_type": "text",
    "id": "8Im1S2HRVp_4"
   },
   "source": [
    "# 21. В каком месяце за все годы суммарно вышло больше всего фильмов?"
   ]
  },
  {
   "cell_type": "code",
   "execution_count": 29,
   "metadata": {
    "colab": {},
    "colab_type": "code",
    "id": "lev6TH7gVp_4"
   },
   "outputs": [
    {
     "output_type": "execute_result",
     "data": {
      "text/plain": [
       "'September'"
      ]
     },
     "metadata": {},
     "execution_count": 29
    }
   ],
   "source": [
    "# оригинальный фрейм \n",
    "#   считаем количесто фильмов по каждому месяцу\n",
    "#   сортируем\n",
    "#   берем топовый месяц\n",
    "month = data\\\n",
    "    .groupby(data.release_date.dt.month).imdb_id.count()\\\n",
    "    .sort_values(ascending=False)\\\n",
    "    .index[0]\n",
    "# переводим номер месяца в текст\n",
    "answers[\"21\"] = datetime.date(1900, month, 1).strftime('%B')\n",
    "answers[\"21\"]"
   ]
  },
  {
   "cell_type": "markdown",
   "metadata": {
    "colab_type": "text",
    "id": "uAJsZ_NeVp_7"
   },
   "source": [
    "# 22. Сколько суммарно вышло фильмов летом? (за июнь, июль, август)"
   ]
  },
  {
   "cell_type": "code",
   "execution_count": 30,
   "metadata": {
    "colab": {},
    "colab_type": "code",
    "id": "Aa-hEREoVp_8"
   },
   "outputs": [
    {
     "output_type": "execute_result",
     "data": {
      "text/plain": [
       "450"
      ]
     },
     "metadata": {},
     "execution_count": 30
    }
   ],
   "source": [
    "# выборка по номерам летних ммесяцев\n",
    "#   подсчет количества уникальных фильмов\n",
    "answers[\"22\"] = data.query('release_date.dt.month in [6, 7, 8]')\\\n",
    "    .imdb_id.nunique()\n",
    "answers['22']"
   ]
  },
  {
   "cell_type": "markdown",
   "metadata": {
    "colab_type": "text",
    "id": "G94ppOY1VqAA"
   },
   "source": [
    "# 23. Для какого режиссера зима – самое продуктивное время года? "
   ]
  },
  {
   "cell_type": "code",
   "execution_count": 31,
   "metadata": {
    "colab": {},
    "colab_type": "code",
    "id": "RhNTsamuVqAB"
   },
   "outputs": [
    {
     "output_type": "execute_result",
     "data": {
      "text/plain": [
       "'Peter Jackson'"
      ]
     },
     "metadata": {},
     "execution_count": 31
    }
   ],
   "source": [
    "# фрейм по режиссерам с выборкой по номерам зимних месяцев \n",
    "#   считаем количество фильмов по каждому режиссеру\n",
    "#   сортируем\n",
    "#   берем топ\n",
    "answers[\"23\"] = data_by_director.query('release_date.dt.month in [1, 2, 12]')\\\n",
    "    .groupby(\"director\").imdb_id.count()\\\n",
    "    .sort_values(ascending=False)\\\n",
    "    .index[0]\n",
    "answers[\"23\"]"
   ]
  },
  {
   "cell_type": "markdown",
   "metadata": {
    "colab_type": "text",
    "id": "RBo0JVjVVqAF"
   },
   "source": [
    "# 24. Какая студия дает самые длинные названия своим фильмам по количеству символов?"
   ]
  },
  {
   "cell_type": "code",
   "execution_count": 32,
   "metadata": {
    "colab": {},
    "colab_type": "code",
    "id": "QRGS8L0iVqAG"
   },
   "outputs": [
    {
     "output_type": "execute_result",
     "data": {
      "text/plain": [
       "'Four By Two Productions'"
      ]
     },
     "metadata": {},
     "execution_count": 32
    }
   ],
   "source": [
    "# дополняем новой колонкой с длинной названия\n",
    "data_by_company[\"title_len\"] = data_by_company.original_title.apply(lambda s: len(s))\n",
    "# фрейм по компаниям \n",
    "#   считаем среднюю длину названий по каждой компании\n",
    "#   сортируем\n",
    "#   берем том\n",
    "answers[\"24\"] = data_by_company\\\n",
    "    .groupby(\"production_companies\").title_len.mean()\\\n",
    "    .sort_values(ascending=False)\\\n",
    "    .index[0]\n",
    "answers[\"24\"]"
   ]
  },
  {
   "cell_type": "markdown",
   "metadata": {
    "colab_type": "text",
    "id": "9G0hbvR7VqAK"
   },
   "source": [
    "# 25. Описание фильмов какой студии в среднем самые длинные по количеству слов?"
   ]
  },
  {
   "cell_type": "code",
   "execution_count": 33,
   "metadata": {
    "colab": {},
    "colab_type": "code",
    "id": "Ge2GsLNxVqAK"
   },
   "outputs": [
    {
     "output_type": "execute_result",
     "data": {
      "text/plain": [
       "'Midnight Picture Show'"
      ]
     },
     "metadata": {},
     "execution_count": 33
    }
   ],
   "source": [
    "# аналогично №24, толлько с длиной описанияы\n",
    "data_by_company[\"overview_len\"] = data_by_company.overview.apply(lambda s: len(s))\n",
    "answers[\"25\"] = data_by_company\\\n",
    "    .groupby(\"production_companies\").overview_len.mean()\\\n",
    "    .sort_values(ascending=False)\\\n",
    "    .index[0]\n",
    "answers[\"25\"]"
   ]
  },
  {
   "cell_type": "markdown",
   "metadata": {
    "colab_type": "text",
    "id": "FJ1AFt90VqAP"
   },
   "source": [
    "# 26. Какие фильмы входят в 1 процент лучших по рейтингу? \n",
    "по vote_average"
   ]
  },
  {
   "cell_type": "code",
   "execution_count": 34,
   "metadata": {},
   "outputs": [
    {
     "output_type": "display_data",
     "data": {
      "text/plain": "9                                          Inside Out\n34                                               Room\n118                                      Interstellar\n119                           Guardians of the Galaxy\n125                                The Imitation Game\n128                                         Gone Girl\n138                          The Grand Budapest Hotel\n370                                         Inception\n599                                   The Dark Knight\n872                                       The Pianist\n1081    The Lord of the Rings: The Return of the King\n1183                          The Wolf of Wall Street\n1191                                 12 Years a Slave\n1800                                          Memento\nName: original_title, dtype: object"
     },
     "metadata": {}
    }
   ],
   "source": [
    "# тут сначала не понял про персентиль, может в задании как-то указать, считал 1% от voite_max\n",
    "# получаем персентиль\n",
    "percentile = np.percentile(data.vote_average, 99)\n",
    "# делаем выборку по оцценкам большим персентиля\n",
    "display(data[data.vote_average > percentile].original_title)\n"
   ]
  },
  {
   "cell_type": "code",
   "execution_count": 35,
   "metadata": {},
   "outputs": [
    {
     "output_type": "execute_result",
     "data": {
      "text/plain": [
       "'Inside Out, The Dark Knight, 12 Years a Slave'"
      ]
     },
     "metadata": {},
     "execution_count": 35
    }
   ],
   "source": [
    "# вписываем руками ответ\n",
    "answers[\"26\"] = \"Inside Out, The Dark Knight, 12 Years a Slave\"\n",
    "answers[\"26\"]"
   ]
  },
  {
   "cell_type": "markdown",
   "metadata": {
    "colab_type": "text",
    "id": "MdXsUXbCVqAV"
   },
   "source": [
    "# 27. Какие актеры чаще всего снимаются в одном фильме вместе?\n"
   ]
  },
  {
   "source": [
    "df_tmp = data.copy()\n",
    "\n",
    "def string_to_combi(cast):\n",
    "    \"\"\"полученние комбинаций по 2 актера фильма\n",
    "    Args:\n",
    "        cast (str): строка с актерами\n",
    "\n",
    "    Returns:\n",
    "        list of tuples: список с комбинациями\n",
    "    \"\"\"\n",
    "    list_ = str(cast).split(\"|\")\n",
    "    combi = it.combinations(sorted(list_),2)\n",
    "    return list(combi)\n",
    "\n",
    "# дополняем DF колонкой с листом возможных комбинаций актеров\n",
    "df_tmp[\"cast_combi\"] = df_tmp.cast.apply(string_to_combi)\n",
    "# раскладываем лист на отдельные строки\n",
    "df_tmp = df_tmp.explode(\"cast_combi\")\n",
    "# считаем количество фильмов для каждой комбинации\n",
    "#   сортирум\n",
    "#   берем топ комбинцию\n",
    "answers[\"27\"] = df_tmp.groupby(\"cast_combi\").imdb_id.count()\\\n",
    "    .sort_values(ascending=False)\\\n",
    "    .index[0]\n",
    "# формируем ответ\n",
    "answers[\"27\"] = \" & \".join(answers[\"27\"])\n",
    "answers[\"27\"]"
   ],
   "cell_type": "code",
   "metadata": {
    "colab_type": "text",
    "id": "4ymnxEVoVqAW"
   },
   "execution_count": 36,
   "outputs": [
    {
     "output_type": "execute_result",
     "data": {
      "text/plain": [
       "'Daniel Radcliffe & Rupert Grint'"
      ]
     },
     "metadata": {},
     "execution_count": 36
    }
   ]
  },
  {
   "cell_type": "markdown",
   "metadata": {
    "colab_type": "text",
    "id": "U0nONFnGVqAX"
   },
   "source": [
    "# Submission"
   ]
  },
  {
   "cell_type": "code",
   "execution_count": 37,
   "metadata": {
    "colab": {},
    "colab_type": "code",
    "id": "IfcaRO9-VqAX",
    "outputId": "0f132912-32bb-4196-c98c-abfbc4ad5a5f"
   },
   "outputs": [
    {
     "output_type": "execute_result",
     "data": {
      "text/plain": [
       "{'1': 'Pirates of the Caribbean: On Stranger Tides (tt1298650)',\n",
       " '2': 'Gods and Generals (tt0279111)',\n",
       " '3': 'Winnie the Pooh (tt1449283)',\n",
       " '4': 110,\n",
       " '5': 107,\n",
       " '6': 'Avatar (tt0499549)',\n",
       " '7': 'The Lone Ranger (tt1210819)',\n",
       " '8': 1478,\n",
       " '9': 'The Dark Knight (tt0468569)',\n",
       " '10': 'The Lone Ranger (tt1210819)',\n",
       " '11': 'Drama',\n",
       " '12': 'Drama',\n",
       " '13': 'Peter Jackson',\n",
       " '14': 'Robert Rodriguez',\n",
       " '15': 'Chris Hemsworth',\n",
       " '16': 'Matt Damon',\n",
       " '17': 'Action',\n",
       " '18': 'K-19: The Widowmaker (tt0267626)',\n",
       " '19': 2015,\n",
       " '20': 2014,\n",
       " '21': 'September',\n",
       " '22': 450,\n",
       " '23': 'Peter Jackson',\n",
       " '24': 'Four By Two Productions',\n",
       " '25': 'Midnight Picture Show',\n",
       " '26': 'Inside Out, The Dark Knight, 12 Years a Slave',\n",
       " '27': 'Daniel Radcliffe & Rupert Grint'}"
      ]
     },
     "metadata": {},
     "execution_count": 37
    }
   ],
   "source": [
    "# в конце можно посмотреть свои ответы к каждому вопросу\n",
    "answers"
   ]
  },
  {
   "cell_type": "code",
   "execution_count": 38,
   "metadata": {
    "colab": {},
    "colab_type": "code",
    "id": "SiRmHPl8VqAd"
   },
   "outputs": [
    {
     "output_type": "execute_result",
     "data": {
      "text/plain": [
       "27"
      ]
     },
     "metadata": {},
     "execution_count": 38
    }
   ],
   "source": [
    "# и убедиться что ни чего не пропустил)\n",
    "len(answers)"
   ]
  },
  {
   "cell_type": "code",
   "execution_count": null,
   "metadata": {},
   "outputs": [],
   "source": []
  }
 ],
 "metadata": {
  "colab": {
   "name": "Copy of [SF-DST] Movies IMBD v4.1 TEMPLATE.ipynb",
   "provenance": []
  },
  "kernelspec": {
   "display_name": "Python 3.8.2 64-bit ('venv': venv)",
   "language": "python",
   "name": "python382jvsc74a57bd0265455998716544771fe8f8e46d3bc336b7ce25fc2914091372dd288abc92a2d"
  },
  "language_info": {
   "codemirror_mode": {
    "name": "ipython",
    "version": 3
   },
   "file_extension": ".py",
   "mimetype": "text/x-python",
   "name": "python",
   "nbconvert_exporter": "python",
   "pygments_lexer": "ipython3",
   "version": "3.8.2-final"
  }
 },
 "nbformat": 4,
 "nbformat_minor": 1
}