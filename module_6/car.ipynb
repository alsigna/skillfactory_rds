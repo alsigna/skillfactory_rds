{
 "cells": [
  {
   "cell_type": "code",
   "execution_count": 1,
   "metadata": {},
   "outputs": [],
   "source": [
    "import requests\n",
    "from bs4 import BeautifulSoup\n",
    "import time\n",
    "from pprint import pprint\n",
    "from requests.structures import CaseInsensitiveDict\n",
    "import json\n",
    "from pathlib import Path\n",
    "# from tqdm import tqdm\n",
    "from tqdm.notebook import tqdm\n",
    "import random\n",
    "\n",
    "\n"
   ]
  },
  {
   "cell_type": "code",
   "execution_count": 12,
   "metadata": {},
   "outputs": [],
   "source": [
    "def get_pages(soup):\n",
    "    pagging = soup.find(\n",
    "        \"span\",\n",
    "        class_=\"ControlGroup ControlGroup_responsive_no ControlGroup_size_s ListingPagination__pages\",\n",
    "    )\n",
    "    if pagging is None:\n",
    "        return 1\n",
    "    else:\n",
    "        pages = pagging.find_all(\"span\", class_=\"Button__text\")\n",
    "        return int(pages[-1].text)\n",
    "\n",
    "\n",
    "def get_html(url):\n",
    "    headers = CaseInsensitiveDict()\n",
    "    headers[\"Cache-Control\"] = \"no-cache, no-store, must-revalidate\"\n",
    "    headers[\"Pragma\"] = \"no-cache\"\n",
    "    headers[\"Expires\"] = \"0\"\n",
    "    headers[\"User-Agent\"] = \"Mozilla/5.0\"\n",
    "    response = requests.get(url, headers=headers)\n",
    "    response.encoding = \"utf8\"\n",
    "    return response\n",
    "\n",
    "\n",
    "def get_models_link(url, page=1):\n",
    "    models_link = []\n",
    "    raw_html = get_html(f\"{url}&page={page}\")\n",
    "    soup = BeautifulSoup(raw_html.text, \"html.parser\")\n",
    "\n",
    "    for link in soup.find_all(\n",
    "        \"a\",\n",
    "        class_=\"Link ListingItemTitle__link ListingItemGroup__link\",\n",
    "    ):\n",
    "        models_link.append(link.get(\"href\"))\n",
    "\n",
    "    total_pages = get_pages(soup)\n",
    "\n",
    "    return total_pages, models_link\n",
    "\n",
    "\n",
    "def get_cars_link(url, page=1):\n",
    "    cars_link = []\n",
    "    raw_html = get_html(f\"{url}&page={page}\")\n",
    "    soup = BeautifulSoup(raw_html.text, \"html.parser\")\n",
    "\n",
    "    for link in soup.find_all(\n",
    "        \"a\",\n",
    "        class_=\"Link ListingItemTitle__link\",\n",
    "    ):\n",
    "        cars_link.append(link.get(\"href\"))\n",
    "\n",
    "    total_pages = get_pages(soup)\n",
    "\n",
    "    return total_pages, cars_link\n",
    "\n",
    "\n",
    "def get_car_info(url):\n",
    "    url_to_list = url.split(\"/\")\n",
    "    car_id = url_to_list[-2]\n",
    "    car_vendor = url_to_list[6]\n",
    "    car_model = url_to_list[7]\n",
    "\n",
    "    local_dir = Path(\"./\").absolute()\n",
    "    file_dir = Path(local_dir.joinpath(\"raw_html\").joinpath(car_vendor).joinpath(car_model))\n",
    "    file_dir.mkdir(exist_ok=True, parents=True)\n",
    "    filename = file_dir.joinpath(f\"{car_id}.html\")\n",
    "    if not filename.is_file():\n",
    "        raw_html = get_html(url)\n",
    "        with open(str(filename), \"w\") as file_:\n",
    "            file_.write(raw_html.text)\n",
    "            return True\n",
    "    else:\n",
    "        return False\n",
    "    \n"
   ]
  },
  {
   "cell_type": "code",
   "execution_count": 15,
   "metadata": {},
   "outputs": [],
   "source": [
    "def get_cars_by_vendor(vendor):\n",
    "    url = f\"https://auto.ru/cars/{vendor}/all/?damage_group=ANY&customs_state_group=DOESNT_MATTER&output_type=models_list\"\n",
    "    tqdm.write(f\"Getting models for {vendor}\")\n",
    "    pages, model_links = get_models_link(url)\n",
    "    pbar = tqdm(total=pages)\n",
    "    pbar.update()\n",
    "    for page in range(2, pages+1):\n",
    "        time.sleep(int(random.randint(100,500)/100))\n",
    "        _, links_to_add = get_models_link(url, page)\n",
    "        model_links.extend(links_to_add)\n",
    "        pbar.update()\n",
    "\n",
    "    tqdm.write(f\"Total models: {len(model_links)}\")\n",
    "    pbar = tqdm(total=len(model_links))\n",
    "\n",
    "    car_links = []\n",
    "    for url in model_links:\n",
    "        if \"/sale/\" in url:\n",
    "            car_links.append(url)\n",
    "            pbar.update()\n",
    "        else:\n",
    "            pages, links = get_cars_link(url)\n",
    "            car_links.extend(links)\n",
    "            pbar.update()\n",
    "            for page in range(2, pages+1):\n",
    "                time.sleep(int(random.randint(100,500)/100))\n",
    "                _, links_to_add = get_cars_link(url, page)\n",
    "                car_links.extend(links_to_add)\n",
    "                \n",
    "    tqdm.write(f\"Total cars: {len(car_links)}\")\n",
    "    pbar = tqdm(total=len(car_links))\n",
    "\n",
    "    for url in car_links:\n",
    "        if get_car_info(url):\n",
    "            time.sleep(int(random.randint(100,500)/100))\n",
    "        pbar.update()\n",
    "\n",
    "\n",
    "def get_cars_by_model(model_links):\n",
    "    tqdm.write(f\"Total models: {len(model_links)}\")\n",
    "    pbar = tqdm(total=len(model_links))\n",
    "    car_links = []\n",
    "    for url in model_links:\n",
    "        if \"/sale/\" in url:\n",
    "            car_links.append(url)\n",
    "            pbar.update()\n",
    "        else:\n",
    "            pages, links = get_cars_link(url)\n",
    "            car_links.extend(links)\n",
    "            pbar.update()\n",
    "            for page in range(2, pages+1):\n",
    "                time.sleep(int(random.randint(100,500)/100))\n",
    "                _, links_to_add = get_cars_link(url, page)\n",
    "                car_links.extend(links_to_add)\n",
    "                \n",
    "    tqdm.write(f\"Total cars: {len(car_links)}\")\n",
    "    return car_links\n",
    "\n",
    "def get_models_by_vendor(vendor):\n",
    "    url = f\"https://auto.ru/cars/{vendor}/all/?damage_group=ANY&customs_state_group=DOESNT_MATTER&output_type=models_list\"\n",
    "    tqdm.write(f\"Getting models for {vendor}\")\n",
    "    pages, model_links = get_models_link(url)\n",
    "    pbar = tqdm(total=pages)\n",
    "    pbar.update()\n",
    "    for page in range(2, pages+1):\n",
    "        time.sleep(int(random.randint(100,500)/100))\n",
    "        _, links_to_add = get_models_link(url, page)\n",
    "        model_links.extend(links_to_add)\n",
    "        pbar.update()\n",
    "\n",
    "    tqdm.write(f\"Total models: {len(model_links)}\")\n",
    "\n",
    "    return model_links\n",
    "\n",
    "def get_cars_info(url_cars):\n",
    "    tqdm.write(f\"Total cars: {len(url_cars)}\")\n",
    "    pbar = tqdm(total=len(url_cars))\n",
    "\n",
    "    for url in url_cars:\n",
    "        if get_car_info(url):\n",
    "            time.sleep(int(random.randint(100,500)/100))\n",
    "        pbar.update()"
   ]
  },
  {
   "cell_type": "code",
   "execution_count": 4,
   "metadata": {},
   "outputs": [
    {
     "name": "stdout",
     "output_type": "stream",
     "text": [
      "Getting models for audi\n"
     ]
    },
    {
     "data": {
      "application/vnd.jupyter.widget-view+json": {
       "model_id": "db54f03648d04e318f23e39f87f0582e",
       "version_major": 2,
       "version_minor": 0
      },
      "text/plain": [
       "  0%|          | 0/7 [00:00<?, ?it/s]"
      ]
     },
     "metadata": {},
     "output_type": "display_data"
    },
    {
     "name": "stdout",
     "output_type": "stream",
     "text": [
      "Total models: 224\n"
     ]
    }
   ],
   "source": [
    "url_models = get_models_by_vendor(\"audi\")"
   ]
  },
  {
   "cell_type": "code",
   "execution_count": 14,
   "metadata": {},
   "outputs": [
    {
     "name": "stdout",
     "output_type": "stream",
     "text": [
      "Total models: 224\n"
     ]
    },
    {
     "data": {
      "application/vnd.jupyter.widget-view+json": {
       "model_id": "f14ab78832944aeb87ad09def35e9b9e",
       "version_major": 2,
       "version_minor": 0
      },
      "text/plain": [
       "  0%|          | 0/224 [00:00<?, ?it/s]"
      ]
     },
     "metadata": {},
     "output_type": "display_data"
    },
    {
     "name": "stdout",
     "output_type": "stream",
     "text": [
      "Total cars: 9790\n"
     ]
    }
   ],
   "source": [
    "url_cars = get_cars_by_model(url_models)"
   ]
  },
  {
   "cell_type": "code",
   "execution_count": null,
   "metadata": {},
   "outputs": [],
   "source": []
  },
  {
   "cell_type": "code",
   "execution_count": null,
   "metadata": {},
   "outputs": [],
   "source": [
    "url = f\"https://auto.ru/cars/audi/all/?damage_group=ANY&customs_state_group=DOESNT_MATTER&output_type=models_list\"\n",
    "headers = CaseInsensitiveDict()\n",
    "headers[\"Cache-Control\"] = \"no-cache, no-store, must-revalidate\"\n",
    "headers[\"Pragma\"] = \"no-cache\"\n",
    "headers[\"Expires\"] = \"0\"\n",
    "headers[\"User-Agent\"] = \"Mozilla/5.0\"\n",
    "response = requests.get(url, headers=headers)\n",
    "response.encoding = \"utf8\"\n",
    "print(response.status_code)\n",
    "print(response.text)\n"
   ]
  },
  {
   "cell_type": "code",
   "execution_count": null,
   "metadata": {},
   "outputs": [],
   "source": [
    "with open(\"./raw_html/citroen/c5/1106547075-785b4b04.html\", \"r\") as file_:\n",
    "    html_from_file = file_.read()\n",
    "\n",
    "soup = BeautifulSoup(html_from_file, \"html.parser\")\n",
    "ads = json.loads(soup.find(\"script\", id=\"initial-state\", type=\"application/json\").text)\n",
    "pprint(ads)"
   ]
  },
  {
   "cell_type": "code",
   "execution_count": 299,
   "metadata": {},
   "outputs": [],
   "source": [
    "# pprint(ads[\"card\"][\"vehicle_info\"][\"equipment\"])\n",
    "# pprint(ads[\"card\"][\"price_info\"][\"RUR\"])"
   ]
  }
 ],
 "metadata": {
  "interpreter": {
   "hash": "550056ff3b6c24ef08b20d0608428d73c2737dc12cdd6267fe4ea38c5eab2d02"
  },
  "kernelspec": {
   "display_name": "Python 3.8.9 64-bit ('venv': venv)",
   "language": "python",
   "name": "python3"
  },
  "language_info": {
   "codemirror_mode": {
    "name": "ipython",
    "version": 3
   },
   "file_extension": ".py",
   "mimetype": "text/x-python",
   "name": "python",
   "nbconvert_exporter": "python",
   "pygments_lexer": "ipython3",
   "version": "3.8.9"
  },
  "orig_nbformat": 4
 },
 "nbformat": 4,
 "nbformat_minor": 2
}
