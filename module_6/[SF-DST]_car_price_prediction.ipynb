{
 "cells": [
  {
   "cell_type": "markdown",
   "metadata": {},
   "source": [
    "# Импорт библиотек и определение констант"
   ]
  },
  {
   "cell_type": "code",
   "execution_count": 1,
   "metadata": {},
   "outputs": [],
   "source": [
    "import pandas as pd\n",
    "from pprint import pprint\n",
    "import json\n",
    "import numpy as np\n",
    "import seaborn as sns \n",
    "import matplotlib.pyplot as plt\n",
    "import re\n",
    "from sklearn.preprocessing import MultiLabelBinarizer\n",
    "from sklearn.model_selection import train_test_split\n",
    "from IPython.display import display\n",
    "\n",
    "RANDOM_SEED = 42\n",
    "PRICE_CORRECTION = 0.85\n",
    "VAL_SIZE= 0.2"
   ]
  },
  {
   "cell_type": "markdown",
   "metadata": {},
   "source": [
    "# Загрузка данных и первый обзор"
   ]
  },
  {
   "cell_type": "code",
   "execution_count": 2,
   "metadata": {},
   "outputs": [],
   "source": [
    "# датасет из base_line\n",
    "train_basic = pd.read_csv('./all_auto_ru_09_09_2020.csv')\n",
    "# датасет, найденный на кагл\n",
    "train_extra = pd.read_csv('./train_df_full.csv')\n",
    "# тестовый датасет\n",
    "test = pd.read_csv('./test.csv')\n",
    "# датасет для сабминта на ЛБ\n",
    "sample_submission = pd.read_csv('./sample_submission.csv')"
   ]
  },
  {
   "cell_type": "code",
   "execution_count": 3,
   "metadata": {},
   "outputs": [],
   "source": [
    "# Посмотрим информацию по составу датасетов\n",
    "# print(\"\\n\"+\"=\"*60+\" train_basic\")\n",
    "# display(train_basic.info())\n",
    "# print(\"\\n\"+\"=\"*60+\" train_extra\")\n",
    "# display(train_extra.info())\n",
    "# print(\"\\n\"+\"=\"*60+\" test\")\n",
    "# display(test.info())"
   ]
  },
  {
   "cell_type": "code",
   "execution_count": 4,
   "metadata": {},
   "outputs": [],
   "source": [
    "# Визуально посмотрим на данные в каждом датасете\n",
    "# display(train_basic.head(3))\n",
    "# display(train_extra.head(3))\n",
    "# display(test.head(3))"
   ]
  },
  {
   "cell_type": "code",
   "execution_count": 5,
   "metadata": {},
   "outputs": [],
   "source": [
    "# Видно, что в \"train_basic\" \"Комплектация\" это \"complectation_dict\", и \"model\" это \"model_name\". Переименуем\n",
    "train_basic.rename(\n",
    "    columns={\n",
    "        \"Комплектация\": \"complectation_dict\",\n",
    "        \"model\": \"model_name\",\n",
    "    },\n",
    "    inplace=True,\n",
    ")"
   ]
  },
  {
   "cell_type": "markdown",
   "metadata": {},
   "source": [
    "# Используемые функции"
   ]
  },
  {
   "cell_type": "code",
   "execution_count": 6,
   "metadata": {},
   "outputs": [],
   "source": [
    "def describe_column(df, column):\n",
    "    total = len(df[column])\n",
    "    nan_count = len(df[df[column].isnull()][column])\n",
    "    nan_count_df0 = len(df[(df[column].isnull()) & (df.data_type==0)][column])\n",
    "    nan_count_df1 = len(df[(df[column].isnull()) & (df.data_type==1)][column])\n",
    "    nan_count_df2 = len(df[(df[column].isnull()) & (df.data_type==2)][column])\n",
    "    print(f\"{'Data type':>20}: {str(df[column].dtype)}\")\n",
    "    print(f\"{'Total':>20}: 100.0% = {total}\")\n",
    "    print(f\"{column+' nan':>20}: {round(nan_count/total*100,1):>5}% = {nan_count} ({nan_count_df0}/{nan_count_df1}/{nan_count_df2})\")\n",
    "    df[column].value_counts()\n",
    "    if len(df[column].unique()) < 11:\n",
    "        display(df[column].value_counts())\n",
    "\n",
    "\n",
    "def map_rus_to_end(value, dict_):\n",
    "    if value is np.nan:\n",
    "        return np.nan\n",
    "    if value in list(dict_.values()):\n",
    "        return value\n",
    "    return dict_.get(value, np.nan)\n",
    "\n",
    "def fill_from_groupped_series(groupped_series, brand, model_name, default_value):\n",
    "    try:\n",
    "        result = groupped_series[brand][model_name].index[0]\n",
    "    except:\n",
    "        result = default_value\n",
    "    return result\n",
    "\n",
    "def var_name(obj):\n",
    "    return [name for name in globals() if globals()[name] is obj]\n",
    "\n",
    "def print_collums_diff(df1, df2):\n",
    "    print(f\"Колонки есть в '{var_name(df1)[0]}', но нет в '{var_name(df2)[0]}':\")\n",
    "    print(\n",
    "        \"\\t\", \", \".join(\n",
    "            set(df1.columns).difference(set(df2.columns))\n",
    "        )\n",
    "    )\n",
    "    print(f\"Колонки есть в '{var_name(df2)[0]}', но нет в '{var_name(df1)[0]}':\")\n",
    "    print(\n",
    "        \"\\t\", \", \".join(\n",
    "            set(df2.columns).difference(set(df1.columns))\n",
    "        )\n",
    "    )    \n",
    "\n",
    "def text_to_json(value):\n",
    "    if value is np.nan:\n",
    "        return np.nan\n",
    "    \n",
    "    if not isinstance(value, str):\n",
    "        return np.nan\n",
    "    \n",
    "    if value[1] == \"'\":\n",
    "        value = value.replace(\"'\", '\"')\n",
    "    value = value.lower()\n",
    "\n",
    "    try:\n",
    "        result = json.loads(value)\n",
    "    except:\n",
    "        return np.nan\n",
    "\n",
    "    return result\n",
    "\n",
    "\n",
    "def equipment_dict_to_set(value):\n",
    "    result = text_to_json(value)\n",
    "    if result is np.nan:\n",
    "        return set()\n",
    "\n",
    "    if len(result) == 0:\n",
    "        return set()\n",
    "\n",
    "    return set(result.keys())\n",
    "\n",
    "\n",
    "def complectation_dict_to_set(value):\n",
    "    result = text_to_json(value)\n",
    "\n",
    "    if result is np.nan:\n",
    "        return set()\n",
    "\n",
    "    if len(result) == 0:\n",
    "        return set()\n",
    "\n",
    "    try:\n",
    "        result = result[\"available_options\"]\n",
    "    except:\n",
    "        return set()\n",
    "\n",
    "    return set(result)"
   ]
  },
  {
   "cell_type": "markdown",
   "metadata": {},
   "source": [
    "# Объеденение датасетов"
   ]
  },
  {
   "cell_type": "code",
   "execution_count": 7,
   "metadata": {},
   "outputs": [
    {
     "name": "stdout",
     "output_type": "stream",
     "text": [
      "Колонки есть в 'train_basic', но нет в 'test':\n",
      "\t start_date, price, hidden\n",
      "Колонки есть в 'test', но нет в 'train_basic':\n",
      "\t sell_id, image, equipment_dict, priceCurrency, super_gen, parsing_unixtime, car_url, model_info, vendor\n",
      "----------\n",
      "Колонки есть в 'train_basic', но нет в 'train_extra':\n",
      "\t start_date, hidden\n",
      "Колонки есть в 'train_extra', но нет в 'train_basic':\n",
      "\t sell_id, image, equipment_dict, date_added, priceCurrency, super_gen, parsing_unixtime, car_url, views, model_info, region, vendor\n",
      "----------\n",
      "Колонки есть в 'test', но нет в 'train_extra':\n",
      "\t \n",
      "Колонки есть в 'train_extra', но нет в 'test':\n",
      "\t views, region, date_added, price\n"
     ]
    }
   ],
   "source": [
    "# проверим, какая разница в столбцах между датасетами\n",
    "print_collums_diff(train_basic, test)\n",
    "print(\"-\"*10)\n",
    "print_collums_diff(train_basic, train_extra)\n",
    "print(\"-\"*10)\n",
    "print_collums_diff(test, train_extra)"
   ]
  },
  {
   "cell_type": "markdown",
   "metadata": {},
   "source": [
    "По результатам сравнения колонок делаем изменения:\n",
    "- train_basic:\n",
    "    - hidden: удаляем\n",
    "    - start_date: удаляем\n",
    "    - equipment_dict: добавляем со всем значениями = nan для объеденения датасетов\n",
    "    - super_gen: добавляем со всем значениями = nan для объеденения датасетов\n",
    "    - model_info: добавляем со всем значениями = nan для объеденения датасетов\n",
    "- train_extra:\n",
    "    - image: удаляем\n",
    "    - priceCurrency: удаляем\n",
    "    - vendor: удаляем, определяется производителем (маркой) авто\n",
    "    - car_url: удаляем\n",
    "    - sell_id: удаляем\n",
    "    - views: удаляем\n",
    "    - parsing_unixtime: удаляем\n",
    "    - date_added: удаляем\n",
    "    - region: удаляем\n",
    "- test:\n",
    "    - image: удаляем\n",
    "    - priceCurrency: удаляем\n",
    "    - vendor: удаляем, определяется производителем (маркой) авто\n",
    "    - car_url: удаляем\n",
    "    - sell_id: удаляем\n",
    "    - parsing_unixtime: удаляем\n",
    "    - price: добавляем для объеденения датасетов"
   ]
  },
  {
   "cell_type": "code",
   "execution_count": 8,
   "metadata": {},
   "outputs": [],
   "source": [
    "# удалим описанные выше колонки\n",
    "train_basic.drop(\n",
    "    [\n",
    "        \"hidden\",\n",
    "        \"start_date\",\n",
    "    ],\n",
    "    axis=1,\n",
    "    inplace=True,\n",
    ")\n",
    "train_extra.drop(\n",
    "    [\n",
    "        \"image\",\n",
    "        \"priceCurrency\",\n",
    "        \"vendor\",\n",
    "        \"car_url\",\n",
    "        \"sell_id\",\n",
    "        \"views\",\n",
    "        \"parsing_unixtime\",\n",
    "        \"date_added\",\n",
    "        \"region\",\n",
    "    ],\n",
    "    axis=1,\n",
    "    inplace=True,\n",
    ")\n",
    "test.drop(\n",
    "    [\n",
    "        \"image\",\n",
    "        \"priceCurrency\",\n",
    "        \"vendor\",\n",
    "        \"car_url\",\n",
    "        \"sell_id\",\n",
    "        \"parsing_unixtime\",\n",
    "    ],\n",
    "    axis=1,\n",
    "    inplace=True,\n",
    ")"
   ]
  },
  {
   "cell_type": "code",
   "execution_count": 9,
   "metadata": {},
   "outputs": [],
   "source": [
    "# в \"test\" добавим столбец \"price\" для дальнейшего объединения датасетов, это наш целевой параметр и он отсутсвует в тестовом датасете\n",
    "test[\"price\"] = 0\n",
    "# в \"train_basic\" добавляем недостающие для объединения столбцы\n",
    "train_basic[\"super_gen\"] = np.nan\n",
    "train_basic[\"model_info\"] = np.nan\n",
    "train_basic[\"equipment_dict\"] = np.nan"
   ]
  },
  {
   "cell_type": "code",
   "execution_count": 10,
   "metadata": {},
   "outputs": [
    {
     "name": "stdout",
     "output_type": "stream",
     "text": [
      "Колонки есть в 'train_basic', но нет в 'test':\n",
      "\t \n",
      "Колонки есть в 'test', но нет в 'train_basic':\n",
      "\t \n",
      "----------\n",
      "Колонки есть в 'train_basic', но нет в 'train_extra':\n",
      "\t \n",
      "Колонки есть в 'train_extra', но нет в 'train_basic':\n",
      "\t \n",
      "----------\n",
      "Колонки есть в 'test', но нет в 'train_extra':\n",
      "\t \n",
      "Колонки есть в 'train_extra', но нет в 'test':\n",
      "\t \n"
     ]
    }
   ],
   "source": [
    "# проверим еще раз разницу в колонках:\n",
    "print_collums_diff(train_basic, test)\n",
    "print(\"-\"*10)\n",
    "print_collums_diff(train_basic, train_extra)\n",
    "print(\"-\"*10)\n",
    "print_collums_diff(test, train_extra)"
   ]
  },
  {
   "cell_type": "code",
   "execution_count": 11,
   "metadata": {},
   "outputs": [],
   "source": [
    "# отличий нет, объединяем, добавив еще признак \"data_type\" для разделения различных датасетов\n",
    "# 0 - тестовый для сабмита\n",
    "# 1 - обучение из base line\n",
    "# 2 - обучение с кагла\n",
    "test[\"data_type\"] = 0\n",
    "train_basic[\"data_type\"] = 1\n",
    "train_extra[\"data_type\"] = 2\n",
    "# и объединим датасеты в один общий\n",
    "df = pd.concat([test, train_basic, train_extra], join='inner', ignore_index=True)"
   ]
  },
  {
   "cell_type": "markdown",
   "metadata": {},
   "source": [
    "# Обработка данных\n",
    "Идем по колонкам и чистим мусор, заполняем NaN."
   ]
  },
  {
   "cell_type": "markdown",
   "metadata": {},
   "source": [
    "## equipment\n",
    "Есть две колонки, где присутсвует информация о комплектации: \"complectation_dict\" и \"equipment_dict\". Создаем новую колонку \"equipment\" на основе \"equipment_dict\" путем перевода опций авто в set(). Далее \"complectation_dict\" переводим в json и извлекаем лист \"available_options\", который описывает опции и добавляем их в \"equipment\". После этого \"complectation_dict\" и \"equipment_dict\" можно удалять."
   ]
  },
  {
   "cell_type": "code",
   "execution_count": 12,
   "metadata": {},
   "outputs": [],
   "source": [
    "df[\"equipment\"] = df[\"equipment_dict\"].apply(equipment_dict_to_set)\n",
    "df[\"complectation_dict_tmp\"] = df[\"complectation_dict\"].apply(complectation_dict_to_set)\n",
    "df[\"equipment\"] = df.apply(\n",
    "    lambda row: row[\"equipment\"].union(row[\"complectation_dict_tmp\"]),\n",
    "    axis=1,\n",
    ")\n",
    "df.drop(\n",
    "    [\n",
    "        \"complectation_dict_tmp\",\n",
    "        \"complectation_dict\",\n",
    "        \"equipment_dict\",\n",
    "    ],\n",
    "    axis=1,\n",
    "    inplace=True,\n",
    ") \n"
   ]
  },
  {
   "cell_type": "markdown",
   "metadata": {},
   "source": [
    "## super_gen\n",
    "Есть колонка \"super_gen\", в которой может присутсвовать различная инфоормация: марка/пробег/год выпуска и тд. Попробуем распарсить эту колонку во временные колонки, что бы потом ими воспользоваться для заполнения пропусков:\n",
    "- tmp_engine_type\n",
    "- tmp_engine_power\n",
    "- tmp_transmission\n",
    "- tmp_year\n",
    "- tmp_mileage\n",
    "- tmp_mark\n",
    "- tmp_model\n",
    "- tmp_state\n",
    "\n",
    "\"super_gen\" далее удалим"
   ]
  },
  {
   "cell_type": "code",
   "execution_count": 13,
   "metadata": {},
   "outputs": [],
   "source": [
    "def parse_super_gen(value):\n",
    "    result = {}\n",
    "    # columns = [\"tmp_engine_type\", \"tmp_engine_power\", \"tmp_transmission\", \"tmp_year\", \"tmp_mileage\", \"tmp_brand\", \"tmp_model\", \"tmp_state\"]\n",
    "    columns = [\"engine_type\", \"power\", \"transmission\", \"year\", \"km-age\", \"mark\", \"model\", \"state\"]\n",
    "    for column in columns:\n",
    "        result[\"tmp_\"+column] = np.nan\n",
    "\n",
    "    value = text_to_json(value)\n",
    "    if value is np.nan:\n",
    "        return result\n",
    "    if \"sale-data-attributes\" in value:\n",
    "        value = value[\"sale-data-attributes\"]\n",
    "    for column in columns:\n",
    "        result[\"tmp_\"+column] = value.get(column, np.nan)\n",
    "    if result[\"tmp_engine_type\"] is np.nan:\n",
    "        result[\"tmp_engine_type\"] = value.get(\"engine-type\", np.nan)\n",
    "\n",
    "    # result[\"tmp_engine_type\"] = value.get(\"engine-type\", np.nan)\n",
    "    # if result[\"tmp_engine_type\"] is np.nan:\n",
    "    #     result[\"tmp_engine_type\"] = value.get(\"engine_type\", np.nan)\n",
    "    # result[\"tmp_engine_power\"] = value.get(\"power\", np.nan)\n",
    "    # result[\"tmp_transmission\"] = value.get(\"transmission\", np.nan)\n",
    "    # result[\"tmp_year\"] = value.get(\"year\", np.nan)\n",
    "    # result[\"tmp_mileage\"] = value.get(\"km-age\", np.nan)\n",
    "    # result[\"tmp_brand\"] = value.get(\"mark\", np.nan)\n",
    "    # result[\"tmp_model\"] = value.get(\"model\", np.nan)\n",
    "    # result[\"tmp_state\"] = value.get(\"state\", np.nan)\n",
    "    \n",
    "    return result\n",
    "\n",
    "df[\"super_gen\"] = df[\"super_gen\"].apply(parse_super_gen)\n",
    "df = pd.concat([df.drop([\"super_gen\"], axis=1), df[\"super_gen\"].apply(pd.Series)], axis=1)"
   ]
  },
  {
   "cell_type": "markdown",
   "metadata": {},
   "source": [
    "## engine_power\n",
    "Есть две колонки: \"tmp_engine_power\" и \"enginePower\". Форматируем \"enginePower\" в числовое представление. Потом проопуски пытаемся заполнить из на основе \"tmp_engine_power\". Сводим все в колонку \"engine_power\", исходные данные дропаем."
   ]
  },
  {
   "cell_type": "code",
   "execution_count": 15,
   "metadata": {},
   "outputs": [],
   "source": [
    "def format_engine_power(value):\n",
    "    if value is np.nan:\n",
    "        return np.nan\n",
    "    if isinstance(value, float):\n",
    "        return value\n",
    "    if not isinstance(value, str):\n",
    "        return np.nan\n",
    "    power_value = value.split()[0]\n",
    "    if power_value.isdigit():\n",
    "        return int(power_value)\n",
    "    else:\n",
    "        return np.nan"
   ]
  },
  {
   "cell_type": "code",
   "execution_count": 16,
   "metadata": {},
   "outputs": [],
   "source": [
    "df[\"engine_power\"] = df.enginePower.apply(format_engine_power)"
   ]
  },
  {
   "cell_type": "code",
   "execution_count": 17,
   "metadata": {},
   "outputs": [
    {
     "data": {
      "image/png": "[encoded data removed]",
      "text/plain": [
       "<Figure size 432x288 with 1 Axes>"
      ]
     },
     "metadata": {},
     "output_type": "display_data"
    }
   ],
   "source": [
    "# оценим, а что там в целом с пропусками в датасете, где пропущен \"engine_power\" \n",
    "fig = plt.figure()\n",
    "fig.patch.set_facecolor(\"xkcd:white\")\n",
    "sns.heatmap(df[df.engine_power.isna()].isna(), cbar=False)\n",
    "plt.show()"
   ]
  },
  {
   "cell_type": "code",
   "execution_count": 18,
   "metadata": {},
   "outputs": [],
   "source": [
    "# судя по графику, информация по этим объявлениям отсутсвует полностью. \n",
    "# нет смысла что-то с ними делать, поэтом просто дропнем их, исключив датасет \"test\"\n",
    "df.drop(df[(df.engine_power.isna()) & (df.data_type != 0)].index, inplace=True)\n",
    "# и удалим уже ненужные колонки\n",
    "df.drop([\"tmp_engine_power\", \"enginePower\"], axis=1, inplace=True) "
   ]
  },
  {
   "cell_type": "markdown",
   "metadata": {},
   "source": [
    "## brand\n",
    "Есть две колонки: \"tmp_brand\" и \"brand\". Форматируем \"brand\" и смотрим, есть ли пропуски, если есть, пробуем заполнить из \"tmp_brand\", потом \"tmp_brand\" удаляем."
   ]
  },
  {
   "cell_type": "code",
   "execution_count": 19,
   "metadata": {},
   "outputs": [
    {
     "name": "stdout",
     "output_type": "stream",
     "text": [
      "['SKODA', 'AUDI', 'HONDA', 'VOLVO', 'BMW', 'NISSAN', 'INFINITI', 'MERCEDES', 'TOYOTA', 'LEXUS', 'VOLKSWAGEN', 'MITSUBISHI', 'CADILLAC', 'CHERY', 'CHEVROLET', 'CHRYSLER', 'CITROEN', 'DAEWOO', 'DODGE', 'FORD', 'GEELY', 'HYUNDAI', 'JAGUAR', 'JEEP', 'KIA', 'MAZDA', 'MINI', 'OPEL', 'PEUGEOT', 'PORSCHE', 'RENAULT', 'SUBARU', 'SUZUKI', 'GREAT_WALL', 'LAND_ROVER', 'SSANG_YONG']\n"
     ]
    }
   ],
   "source": [
    "print(list(df.brand.unique()))"
   ]
  },
  {
   "cell_type": "code",
   "execution_count": 20,
   "metadata": {},
   "outputs": [],
   "source": [
    "# видно, что с колонкой \"brand\" все хорошо, приведем в нижний регистр и удалим \"tmp_brand\" (т.к. пропусков в \"brand\" нет)\n",
    "df.brand = df.brand.str.lower()\n",
    "df.drop([\"tmp_brand\"], axis=1, inplace=True) "
   ]
  },
  {
   "cell_type": "markdown",
   "metadata": {},
   "source": [
    "## year\n",
    "Есть две колонки: \"productionDate\" и \"tmp_year\" отвечающие за год производства. Форматируем \"productionDate\". Потом проопуски пытаемся заполнить из на основе \"tmp_year\". Сводим все в колонку \"year\", исходные данные дропаем."
   ]
  },
  {
   "cell_type": "code",
   "execution_count": 21,
   "metadata": {},
   "outputs": [
    {
     "name": "stdout",
     "output_type": "stream",
     "text": [
      "[2014.0, 2017.0, 2012.0, 2011.0, 2019.0, 2018.0, 2010.0, 2020.0, 2016.0, 2013.0, 2006.0, 2007.0, 2015.0, 2005.0, 2008.0, 2009.0, 1997.0, 2004.0, 2002.0, 1987.0, 2003.0, 2001.0, 1976.0, 2000.0, 1998.0, 1995.0, 1999.0, 1993.0, 1939.0, 1996.0, 1984.0, 1990.0, 1991.0, 1992.0, 1989.0, 1982.0, 1985.0, 1994.0, 1938.0, 1981.0, 1988.0, 1983.0, 1980.0, 1986.0, 1978.0, 1970.0, 1979.0, 1977.0, 1972.0, 1975.0, 1969.0, 1950.0, 1953.0, 1949.0, 1937.0, 1959.0, 1968.0, 1936.0, 1904.0, 1974.0, 1967.0, 1961.0, 1960.0, 1965.0, 1963.0, 1957.0, 1952.0, 1973.0, 1948.0, 1955.0, 1964.0, 1971.0, 1931.0, 1927.0, 1923.0, 1924.0, 1932.0, 1951.0, 1954.0, 1966.0, 2021.0]\n"
     ]
    }
   ],
   "source": [
    "print(list(df.productionDate.unique()))"
   ]
  },
  {
   "cell_type": "code",
   "execution_count": 22,
   "metadata": {},
   "outputs": [],
   "source": [
    "# с годом выпуска машины все хорошо, переименум \"productionDate\" и удалим \"tmp_year\"\n",
    "df.rename(columns={\"productionDate\": \"year\"}, inplace=True)\n",
    "df.drop([\"tmp_year\"], axis=1, inplace=True) "
   ]
  },
  {
   "cell_type": "markdown",
   "metadata": {},
   "source": [
    "## model\n",
    "Есть две колонки: \"model_name\" и \"tmp_model\" отвечающие за модель. Как и выше, форматируем \"model_name\", пытаемся заполнить пропуски и удаляем ненужные колонки."
   ]
  },
  {
   "cell_type": "code",
   "execution_count": 23,
   "metadata": {},
   "outputs": [],
   "source": [
    "# сначала приводим все к одному регистру, затем разбираемся с пробелами\n",
    "df.model_name = df.model_name.str.lower()"
   ]
  },
  {
   "cell_type": "code",
   "execution_count": 24,
   "metadata": {},
   "outputs": [],
   "source": [
    "model_dict = {\n",
    "    \"\\+\": \"_plus_\",\n",
    "    \"'\": \"_\",\n",
    "    \"\\s+\": \"_\",\n",
    "    \"-+\": \"_\",\n",
    "    \"\\(|\\)\": \"\",\n",
    "    \":\": \"_\",\n",
    "}\n",
    "for old_str, new_str in model_dict.items():\n",
    "    df.loc[:,\"model_name\"] = df.loc[:,\"model_name\"].str.replace(old_str, new_str, regex=True)\n",
    "    df.loc[:,\"tmp_model\"] = df.loc[:,\"tmp_model\"].str.replace(old_str, new_str, regex=True)"
   ]
  },
  {
   "cell_type": "code",
   "execution_count": 25,
   "metadata": {},
   "outputs": [],
   "source": [
    "# список моделей по брендам \n",
    "# for brand in df.brand.unique():\n",
    "#     model_count = str(df.groupby(\"brand\")[\"model_name\"].nunique()[brand])\n",
    "#     pprint(\"-\"*10 + brand + \"-\"*10+\" models count: \"+model_count)\n",
    "#     pprint(sorted(df.loc[(df.brand==brand) & ~(df.model_name.isna()),\"model_name\"].unique()))"
   ]
  },
  {
   "cell_type": "code",
   "execution_count": 26,
   "metadata": {},
   "outputs": [],
   "source": [
    "def format_model_name(df, brand, column_name, old_str, new_str):\n",
    "    df.loc[df.brand==brand,column_name] = df.loc[df.brand==brand,column_name].str.replace(old_str, new_str, regex=True)\n",
    "    return True"
   ]
  },
  {
   "cell_type": "code",
   "execution_count": 27,
   "metadata": {},
   "outputs": [],
   "source": [
    "# чистка моделей для mercedes\n",
    "\n",
    "model_dict = {\n",
    "    \"190_w201\": \"w201\",\n",
    "    \"190_sl\": \"w121\",\n",
    "    \"_класс\": \"\",\n",
    "    \"_klasse\": \"\",\n",
    "    \"_class\": \"\",\n",
    "    \"s_maybach\": \"maybach_s\",\n",
    "    \"^amg_(.*)$\": \"\\\\1_amg\",\n",
    "}\n",
    "\n",
    "for old_str, new_str in model_dict.items():\n",
    "    format_model_name(df, \"mercedes\", \"model_name\", old_str, new_str)\n",
    "    format_model_name(df, \"mercedes\", \"tmp_model\", old_str, new_str)"
   ]
  },
  {
   "cell_type": "code",
   "execution_count": 28,
   "metadata": {},
   "outputs": [],
   "source": [
    "# чистка моделей для bmw\n",
    "model_dict = {\n",
    "    \"_серии\": \"\",\n",
    "    \"^02$\": \"2\",\n",
    "    \"^3..$\": \"3\",\n",
    "    \"([a-zA-Z]+)tourer\": \"_\\\\1_tourer\",\n",
    "    \"grand_tourer\": \"gran_tourer\",\n",
    "    \"_m$\": \"m\",\n",
    "    \"(\\d)+er$\": \"\\\\1\",\n",
    "}\n",
    "for old_str, new_str in model_dict.items():\n",
    "    format_model_name(df, \"bmw\", \"model_name\", old_str, new_str)\n",
    "    format_model_name(df, \"bmw\", \"tmp_model\", old_str, new_str)\n"
   ]
  },
  {
   "cell_type": "code",
   "execution_count": 29,
   "metadata": {},
   "outputs": [],
   "source": [
    "# чистка моделей для toyota\n",
    "model_dict = {\"rav4\": \"rav_4\"}\n",
    "for old_str, new_str in model_dict.items():\n",
    "    format_model_name(df, \"toyota\", \"model_name\", old_str, new_str)\n",
    "    format_model_name(df, \"toyota\", \"tmp_model\", old_str, new_str)"
   ]
  },
  {
   "cell_type": "code",
   "execution_count": 30,
   "metadata": {},
   "outputs": [],
   "source": [
    "# чистка моделей для nissan\n",
    "model_dict = {\"rnessa\": \"r_nessa\"}\n",
    "for old_str, new_str in model_dict.items():\n",
    "    format_model_name(df, \"nissan\", \"model_name\", old_str, new_str)\n",
    "    format_model_name(df, \"nissan\", \"tmp_model\", old_str, new_str)"
   ]
  },
  {
   "cell_type": "code",
   "execution_count": 31,
   "metadata": {},
   "outputs": [],
   "source": [
    "# чистка моделей для honda\n",
    "model_dict = {\"odyssey_north_america\": \"odyssey_na\"}\n",
    "for old_str, new_str in model_dict.items():\n",
    "    format_model_name(df, \"honda\", \"model_name\", old_str, new_str)\n",
    "    format_model_name(df, \"honda\", \"tmp_model\", old_str, new_str)"
   ]
  },
  {
   "cell_type": "code",
   "execution_count": 32,
   "metadata": {},
   "outputs": [],
   "source": [
    "# чистка моделей для mitsubishi\n",
    "model_dict = {\"delica_d2\": \"delica_d_2\"}\n",
    "for old_str, new_str in model_dict.items():\n",
    "    format_model_name(df, \"mitsubishi\", \"model_name\", old_str, new_str)\n",
    "    format_model_name(df, \"mitsubishi\", \"tmp_model\", old_str, new_str)"
   ]
  },
  {
   "cell_type": "code",
   "execution_count": 33,
   "metadata": {},
   "outputs": [],
   "source": [
    "# чистка моделей для audi\n",
    "model_dict = {\"rs_(\\d)\": \"rs\\\\1\", \"rs_q3\": \"rsq3\"}\n",
    "for old_str, new_str in model_dict.items():\n",
    "    format_model_name(df, \"audi\", \"model_name\", old_str, new_str)\n",
    "    format_model_name(df, \"audi\", \"tmp_model\", old_str, new_str)"
   ]
  },
  {
   "cell_type": "code",
   "execution_count": 34,
   "metadata": {},
   "outputs": [],
   "source": [
    "# чистка моделей для skoda\n",
    "model_dict = {\"105,_120\": \"120\", \"100_series\":\"100\"}\n",
    "for old_str, new_str in model_dict.items():\n",
    "    format_model_name(df, \"skoda\", \"model_name\", old_str, new_str)\n",
    "    format_model_name(df, \"skoda\", \"tmp_model\", old_str, new_str)"
   ]
  },
  {
   "cell_type": "code",
   "execution_count": 35,
   "metadata": {},
   "outputs": [],
   "source": [
    "# чистка моделей для volvo\n",
    "model_dict = {\"_series\": \"\", \"_cc\": \"_cross_country\"}\n",
    "for old_str, new_str in model_dict.items():\n",
    "    format_model_name(df, \"volvo\", \"model_name\", old_str, new_str)\n",
    "    format_model_name(df, \"volvo\", \"tmp_model\", old_str, new_str)"
   ]
  },
  {
   "cell_type": "code",
   "execution_count": 36,
   "metadata": {},
   "outputs": [
    {
     "data": {
      "image/png": "[encoded data removed]",
      "text/plain": [
       "<Figure size 432x288 with 1 Axes>"
      ]
     },
     "metadata": {},
     "output_type": "display_data"
    }
   ],
   "source": [
    "fig = plt.figure()\n",
    "fig.patch.set_facecolor(\"xkcd:white\")\n",
    "sns.heatmap(df[df.model_name.isna()].isna(), cbar=False)\n",
    "plt.show()"
   ]
  },
  {
   "cell_type": "code",
   "execution_count": 37,
   "metadata": {},
   "outputs": [],
   "source": [
    "df.model_name.fillna(df.tmp_model, inplace=True)\n",
    "df.drop([\"tmp_model\"], axis=1, inplace=True) "
   ]
  },
  {
   "cell_type": "code",
   "execution_count": 38,
   "metadata": {},
   "outputs": [
    {
     "data": {
      "text/plain": [
       "29"
      ]
     },
     "execution_count": 38,
     "metadata": {},
     "output_type": "execute_result"
    }
   ],
   "source": [
    "# посмотрим, сколько пропусков в \"model_name\"\n",
    "df[df.model_name.isna()].shape[0]"
   ]
  },
  {
   "cell_type": "code",
   "execution_count": 39,
   "metadata": {},
   "outputs": [
    {
     "data": {
      "image/png": "[encoded data removed]",
      "text/plain": [
       "<Figure size 432x288 with 1 Axes>"
      ]
     },
     "metadata": {},
     "output_type": "display_data"
    }
   ],
   "source": [
    "# графически\n",
    "fig = plt.figure()\n",
    "fig.patch.set_facecolor(\"xkcd:white\")\n",
    "sns.heatmap(df[df.model_name.isna()].isna(), cbar=False)\n",
    "plt.show()"
   ]
  },
  {
   "cell_type": "code",
   "execution_count": 40,
   "metadata": {},
   "outputs": [
    {
     "data": {
      "text/plain": [
       "2    29\n",
       "Name: data_type, dtype: int64"
      ]
     },
     "execution_count": 40,
     "metadata": {},
     "output_type": "execute_result"
    }
   ],
   "source": [
    "# видно, что записей с пропусками всего 29. и у них у всех отсутсвует \"price\", т.е. для нас эти записи бесполезны,\n",
    "# проверим, что среди этих записей нет тестового датасета и удалим эти строки и колонку \"tmp_model\"\n",
    "df[df.model_name.isna()].data_type.value_counts()"
   ]
  },
  {
   "cell_type": "code",
   "execution_count": 41,
   "metadata": {},
   "outputs": [],
   "source": [
    "df.drop(df[(df.model_name.isna()) & (df.data_type != 0)].index, inplace=True)"
   ]
  },
  {
   "cell_type": "markdown",
   "metadata": {},
   "source": [
    "## body_type\n",
    "Тип кузова, пропусков нет. Форматируем следующим образом: все в lowercase и берем только первое слово, так как оно отвечает за тип."
   ]
  },
  {
   "cell_type": "code",
   "execution_count": 42,
   "metadata": {},
   "outputs": [],
   "source": [
    "# посмотреть список всех типов кузова\n",
    "# pprint(sorted(list(df.bodyType.unique())))"
   ]
  },
  {
   "cell_type": "code",
   "execution_count": 43,
   "metadata": {},
   "outputs": [],
   "source": [
    "# регистр\n",
    "df.bodyType = df.bodyType.str.lower()\n",
    "# береп первое слово\n",
    "df.bodyType = df.bodyType.apply(lambda x: x.split()[0].strip())\n",
    "df.bodyType = df.bodyType.apply(lambda x: x.split(\"-\")[0].strip())"
   ]
  },
  {
   "cell_type": "code",
   "execution_count": 44,
   "metadata": {},
   "outputs": [],
   "source": [
    "df.rename(columns={\"bodyType\": \"body_type\"}, inplace=True)"
   ]
  },
  {
   "cell_type": "markdown",
   "metadata": {},
   "source": [
    "## color\n",
    "цвет есть текстом и хексом. Пропусков нет, приводим все к одному виду."
   ]
  },
  {
   "cell_type": "code",
   "execution_count": 45,
   "metadata": {},
   "outputs": [
    {
     "data": {
      "text/plain": [
       "0"
      ]
     },
     "execution_count": 45,
     "metadata": {},
     "output_type": "execute_result"
    }
   ],
   "source": [
    "# пропуски\n",
    "df[df.color.isna()].shape[0]"
   ]
  },
  {
   "cell_type": "code",
   "execution_count": 46,
   "metadata": {},
   "outputs": [],
   "source": [
    "# словарь для замены цвета на текст, ограничимся только нашими данными\n",
    "color_dict = {\n",
    "    '040001': 'чёрный',\n",
    "    'EE1D19': 'красный',\n",
    "    '0000CC': 'синий',\n",
    "    'CACECB': 'серебристый',\n",
    "    '007F00': 'зелёный',\n",
    "    'FAFBFB': 'белый',\n",
    "    '97948F': 'серый',\n",
    "    '22A0F8': 'голубой',\n",
    "    '660099': 'пурпурный',\n",
    "    '200204': 'коричневый',\n",
    "    'C49648': 'бежевый',\n",
    "    'DEA522': 'золотистый',\n",
    "    '4A2197': 'фиолетовый',\n",
    "    'FFD600': 'жёлтый',\n",
    "    'FF8649': 'оранжевый',\n",
    "    'FFC0CB': 'розовый',\n",
    "}\n",
    "df.color.replace(to_replace=color_dict, inplace=True)\n"
   ]
  },
  {
   "cell_type": "markdown",
   "metadata": {},
   "source": [
    "## description\n",
    "удаляем колонку, текст произвольный, вряд ли трудозатраты на парсинг будет оправдан "
   ]
  },
  {
   "cell_type": "code",
   "execution_count": 47,
   "metadata": {},
   "outputs": [],
   "source": [
    "df.drop([\"description\"], axis=1, inplace=True) "
   ]
  },
  {
   "cell_type": "markdown",
   "metadata": {},
   "source": [
    "## engine_displacement\n",
    "объем двигателя. парсим объем во float. пропуски в конце попробуем заполнить на онове модели и мощности двигателя."
   ]
  },
  {
   "cell_type": "code",
   "execution_count": 48,
   "metadata": {},
   "outputs": [],
   "source": [
    "def format_engine_displacement(value):\n",
    "    r = re.search(r\"(\\d+\\.\\d+)\", str(value))\n",
    "    if r:\n",
    "        return float(r.group(1))\n",
    "    return np.nan"
   ]
  },
  {
   "cell_type": "code",
   "execution_count": 49,
   "metadata": {},
   "outputs": [],
   "source": [
    "df[\"engine_displacement\"] = df.engineDisplacement.apply(format_engine_displacement)\n",
    "df.drop([\"engineDisplacement\"], axis=1, inplace=True) "
   ]
  },
  {
   "cell_type": "code",
   "execution_count": 50,
   "metadata": {},
   "outputs": [
    {
     "data": {
      "text/plain": [
       "21538"
      ]
     },
     "execution_count": 50,
     "metadata": {},
     "output_type": "execute_result"
    }
   ],
   "source": [
    "# пропусков достаточно много\n",
    "df[df.engine_displacement.isna()].shape[0]"
   ]
  },
  {
   "cell_type": "code",
   "execution_count": 51,
   "metadata": {},
   "outputs": [
    {
     "data": {
      "text/plain": [
       "1    21068\n",
       "2      415\n",
       "0       55\n",
       "Name: data_type, dtype: int64"
      ]
     },
     "execution_count": 51,
     "metadata": {},
     "output_type": "execute_result"
    }
   ],
   "source": [
    "# посмотрим, сколько пропусков в каждом из типов датасетов\n",
    "# видим, что подавляющее большенство получилось от train_basic. \n",
    "df[df.engine_displacement.isna()].data_type.value_counts()"
   ]
  },
  {
   "cell_type": "code",
   "execution_count": 52,
   "metadata": {},
   "outputs": [
    {
     "data": {
      "text/plain": [
       "name                  520i 2.0 AT (184 л.с.)\n",
       "engineDisplacement                      520i\n",
       "Name: 6231, dtype: object"
      ]
     },
     "execution_count": 52,
     "metadata": {},
     "output_type": "execute_result"
    }
   ],
   "source": [
    "# если посмотреть исходный датасет, то видно, что изначально вместо объема была модель\n",
    "# а объем может быть получен из колонки \"name\"\n",
    "train_basic.loc[6231,[\"name\", \"engineDisplacement\"]]"
   ]
  },
  {
   "cell_type": "code",
   "execution_count": 53,
   "metadata": {},
   "outputs": [],
   "source": [
    "df.engine_displacement.fillna(df.name, inplace=True)"
   ]
  },
  {
   "cell_type": "code",
   "execution_count": 54,
   "metadata": {},
   "outputs": [],
   "source": [
    "df.engine_displacement = df.engine_displacement.apply(format_engine_displacement)"
   ]
  },
  {
   "cell_type": "code",
   "execution_count": 55,
   "metadata": {},
   "outputs": [
    {
     "data": {
      "text/plain": [
       "2    413\n",
       "1    109\n",
       "0     55\n",
       "Name: data_type, dtype: int64"
      ]
     },
     "execution_count": 55,
     "metadata": {},
     "output_type": "execute_result"
    }
   ],
   "source": [
    "df[df.engine_displacement.isna()].data_type.value_counts()"
   ]
  },
  {
   "cell_type": "code",
   "execution_count": 56,
   "metadata": {},
   "outputs": [
    {
     "data": {
      "text/plain": [
       "array(['электро'], dtype=object)"
      ]
     },
     "execution_count": 56,
     "metadata": {},
     "output_type": "execute_result"
    }
   ],
   "source": [
    "# стало значительно лучше. теперь если посмотреть где пропуски, то можно увидеть, что это электрокары\n",
    "# для них этот параметр не актуален, поэтом просто заполним пропуски нулями\n",
    "df[df.engine_displacement.isna()].fuelType.unique()"
   ]
  },
  {
   "cell_type": "code",
   "execution_count": 57,
   "metadata": {},
   "outputs": [],
   "source": [
    "df.engine_displacement.fillna(0, inplace=True)"
   ]
  },
  {
   "cell_type": "markdown",
   "metadata": {},
   "source": [
    "## mileage\n",
    "пробег"
   ]
  },
  {
   "cell_type": "code",
   "execution_count": 58,
   "metadata": {},
   "outputs": [
    {
     "name": "stdout",
     "output_type": "stream",
     "text": [
      "           Data type: float64\n",
      "               Total: 100.0% = 254020\n",
      "         mileage nan:  10.6% = 26925 (0/0/26925)\n"
     ]
    }
   ],
   "source": [
    "# посмотрим характеристики стобца\n",
    "describe_column(df, \"mileage\")"
   ]
  },
  {
   "cell_type": "code",
   "execution_count": 59,
   "metadata": {},
   "outputs": [
    {
     "data": {
      "text/plain": [
       "array(['new'], dtype=object)"
      ]
     },
     "execution_count": 59,
     "metadata": {},
     "output_type": "execute_result"
    }
   ],
   "source": [
    "# пропусков достаточно много, но все они из \"train_extra\", ранее мы парсили \"super_gen\" и там была опция \"state\"\n",
    "# посмотрим, какие статусы у авто с пропусками пробега\n",
    "df[df.mileage.isna()].tmp_state.unique()"
   ]
  },
  {
   "cell_type": "code",
   "execution_count": 60,
   "metadata": {},
   "outputs": [],
   "source": [
    "# получается все пропуски это новые авто, заполним все пропуски пробега нулями\n",
    "df.mileage.fillna(0, inplace=True)"
   ]
  },
  {
   "cell_type": "code",
   "execution_count": 61,
   "metadata": {},
   "outputs": [],
   "source": [
    "df.drop([\"tmp_mileage\"], axis=1, inplace=True)"
   ]
  },
  {
   "cell_type": "markdown",
   "metadata": {},
   "source": [
    "## modelDate\n",
    "Модельный год. У нас есть год выпуска авто, это более важнный фактор для цены. Скорее всего просто удалим этот столбец, но в конце, когда посмотрим на общую картиину и построим матрцу корреляции."
   ]
  },
  {
   "cell_type": "code",
   "execution_count": 62,
   "metadata": {},
   "outputs": [
    {
     "name": "stdout",
     "output_type": "stream",
     "text": [
      "           Data type: float64\n",
      "               Total: 100.0% = 254020\n",
      "       modelDate nan:   0.0% = 0 (0/0/0)\n"
     ]
    }
   ],
   "source": [
    "describe_column(df, \"modelDate\")"
   ]
  },
  {
   "cell_type": "code",
   "execution_count": 63,
   "metadata": {},
   "outputs": [
    {
     "data": {
      "text/plain": [
       "1.0    16\n",
       "2.0     7\n",
       "3.0     2\n",
       "dtype: int64"
      ]
     },
     "execution_count": 63,
     "metadata": {},
     "output_type": "execute_result"
    }
   ],
   "source": [
    "# видно, что такие машины есть, но их мало,\n",
    "# посмотрим, насколько лет расхождение\n",
    "(df[df.modelDate > df.year].modelDate - df[df.modelDate > df.year].year).value_counts()"
   ]
  },
  {
   "cell_type": "code",
   "execution_count": 64,
   "metadata": {},
   "outputs": [],
   "source": [
    "# в основном это ошибка на 1 год, поэтому заменним для этих машин год выпуска на модельный\n",
    "df.loc[df.year-df.modelDate < 0, \"year\"] = df.loc[df.year-df.modelDate < 0, \"modelDate\"]"
   ]
  },
  {
   "cell_type": "code",
   "execution_count": 65,
   "metadata": {},
   "outputs": [],
   "source": [
    "df.rename(columns={\"modelDate\": \"model_date\"}, inplace=True)"
   ]
  },
  {
   "cell_type": "markdown",
   "metadata": {},
   "source": [
    "## fuel_type\n",
    "тип топлива (двигателя)"
   ]
  },
  {
   "cell_type": "code",
   "execution_count": 66,
   "metadata": {},
   "outputs": [
    {
     "name": "stdout",
     "output_type": "stream",
     "text": [
      "           Data type: object\n",
      "               Total: 100.0% = 254020\n",
      "        fuelType nan:   0.0% = 0 (0/0/0)\n"
     ]
    }
   ],
   "source": [
    "describe_column(df, \"fuelType\")"
   ]
  },
  {
   "cell_type": "code",
   "execution_count": 67,
   "metadata": {},
   "outputs": [
    {
     "data": {
      "text/plain": [
       "бензин     204034\n",
       "дизель      47801\n",
       "гибрид       1584\n",
       "электро       581\n",
       "газ            20\n",
       "Name: fuelType, dtype: int64"
      ]
     },
     "execution_count": 67,
     "metadata": {},
     "output_type": "execute_result"
    }
   ],
   "source": [
    "# пропусков нет, посмотрим на значения\n",
    "df.fuelType.value_counts()"
   ]
  },
  {
   "cell_type": "code",
   "execution_count": 68,
   "metadata": {},
   "outputs": [],
   "source": [
    "engine_type_dict = {\n",
    "    \"бензин\": \"gasoline\",\n",
    "    \"дизель\": \"diesel\",\n",
    "    \"гибрид\": \"hybrid\",\n",
    "    \"электро\": \"electro\",\n",
    "    \"газ\": \"lpg\",\n",
    "}\n",
    "\n",
    "df[\"engine_type\"] = df[\"fuelType\"].apply(map_rus_to_end, args=(engine_type_dict,))"
   ]
  },
  {
   "cell_type": "code",
   "execution_count": 69,
   "metadata": {},
   "outputs": [
    {
     "data": {
      "text/plain": [
       "{'clk_amg', 'eqv'}"
      ]
     },
     "execution_count": 69,
     "metadata": {},
     "output_type": "execute_result"
    }
   ],
   "source": [
    "set(df[(df.brand==\"mercedes\") & (df.data_type==2)].model_name.unique())-set(df[(df.brand==\"mercedes\") & (df.data_type==1)].model_name.unique())"
   ]
  },
  {
   "cell_type": "code",
   "execution_count": 70,
   "metadata": {},
   "outputs": [],
   "source": [
    "df.drop([\"fuelType\", \"tmp_engine_type\"], axis=1, inplace=True)"
   ]
  },
  {
   "cell_type": "markdown",
   "metadata": {},
   "source": [
    "## model_info\n",
    "дропаем колонку, модель/производитель у нас уже заполнены, больше в \"model_info\" интересной информации нет"
   ]
  },
  {
   "cell_type": "code",
   "execution_count": 71,
   "metadata": {},
   "outputs": [],
   "source": [
    "df.drop([\"model_info\"], axis=1, inplace=True)"
   ]
  },
  {
   "cell_type": "markdown",
   "metadata": {},
   "source": [
    "## name\n",
    "аналогично, модель/производитель/двигатель у нас уже заполнены, больше в \"name\" интересной информации нет"
   ]
  },
  {
   "cell_type": "code",
   "execution_count": 72,
   "metadata": {},
   "outputs": [],
   "source": [
    "df.drop([\"name\"], axis=1, inplace=True)"
   ]
  },
  {
   "cell_type": "markdown",
   "metadata": {},
   "source": [
    "## numberOfDoors\n",
    "число дверей"
   ]
  },
  {
   "cell_type": "code",
   "execution_count": 73,
   "metadata": {},
   "outputs": [
    {
     "name": "stdout",
     "output_type": "stream",
     "text": [
      "           Data type: float64\n",
      "               Total: 100.0% = 254020\n",
      "   numberOfDoors nan:   0.0% = 0 (0/0/0)\n"
     ]
    }
   ],
   "source": [
    "describe_column(df, \"numberOfDoors\")"
   ]
  },
  {
   "cell_type": "code",
   "execution_count": 74,
   "metadata": {},
   "outputs": [
    {
     "data": {
      "text/plain": [
       "5.0    160993\n",
       "4.0     82898\n",
       "2.0      6023\n",
       "3.0      4104\n",
       "0.0         2\n",
       "Name: numberOfDoors, dtype: int64"
      ]
     },
     "execution_count": 74,
     "metadata": {},
     "output_type": "execute_result"
    }
   ],
   "source": [
    "## посмотрим на значения \n",
    "df.numberOfDoors.value_counts()"
   ]
  },
  {
   "cell_type": "code",
   "execution_count": 75,
   "metadata": {},
   "outputs": [
    {
     "data": {
      "text/html": [
       "<div>\n",
       "<style scoped>\n",
       "    .dataframe tbody tr th:only-of-type {\n",
       "        vertical-align: middle;\n",
       "    }\n",
       "\n",
       "    .dataframe tbody tr th {\n",
       "        vertical-align: top;\n",
       "    }\n",
       "\n",
       "    .dataframe thead th {\n",
       "        text-align: right;\n",
       "    }\n",
       "</style>\n",
       "<table border=\"1\" class=\"dataframe\">\n",
       "  <thead>\n",
       "    <tr style=\"text-align: right;\">\n",
       "      <th></th>\n",
       "      <th>body_type</th>\n",
       "      <th>brand</th>\n",
       "      <th>color</th>\n",
       "      <th>mileage</th>\n",
       "      <th>model_date</th>\n",
       "      <th>model_name</th>\n",
       "      <th>numberOfDoors</th>\n",
       "      <th>year</th>\n",
       "      <th>vehicleConfiguration</th>\n",
       "      <th>vehicleTransmission</th>\n",
       "      <th>...</th>\n",
       "      <th>Состояние</th>\n",
       "      <th>Таможня</th>\n",
       "      <th>price</th>\n",
       "      <th>data_type</th>\n",
       "      <th>equipment</th>\n",
       "      <th>tmp_transmission</th>\n",
       "      <th>tmp_state</th>\n",
       "      <th>engine_power</th>\n",
       "      <th>engine_displacement</th>\n",
       "      <th>engine_type</th>\n",
       "    </tr>\n",
       "  </thead>\n",
       "  <tbody>\n",
       "    <tr>\n",
       "      <th>16944</th>\n",
       "      <td>кабриолет</td>\n",
       "      <td>mercedes</td>\n",
       "      <td>белый</td>\n",
       "      <td>48000.0</td>\n",
       "      <td>1904.0</td>\n",
       "      <td>simplex</td>\n",
       "      <td>0.0</td>\n",
       "      <td>1904.0</td>\n",
       "      <td>CABRIO MECHANICAL 5.3</td>\n",
       "      <td>механическая</td>\n",
       "      <td>...</td>\n",
       "      <td>Не требует ремонта</td>\n",
       "      <td>Растаможен</td>\n",
       "      <td>0.0</td>\n",
       "      <td>0</td>\n",
       "      <td>{}</td>\n",
       "      <td>mechanical</td>\n",
       "      <td>NaN</td>\n",
       "      <td>32.0</td>\n",
       "      <td>5.3</td>\n",
       "      <td>gasoline</td>\n",
       "    </tr>\n",
       "    <tr>\n",
       "      <th>122751</th>\n",
       "      <td>кабриолет</td>\n",
       "      <td>mercedes</td>\n",
       "      <td>белый</td>\n",
       "      <td>48000.0</td>\n",
       "      <td>1904.0</td>\n",
       "      <td>simplex</td>\n",
       "      <td>0.0</td>\n",
       "      <td>1904.0</td>\n",
       "      <td>CABRIO MECHANICAL 5.3</td>\n",
       "      <td>MECHANICAL</td>\n",
       "      <td>...</td>\n",
       "      <td>NaN</td>\n",
       "      <td>True</td>\n",
       "      <td>12000000.0</td>\n",
       "      <td>1</td>\n",
       "      <td>{}</td>\n",
       "      <td>NaN</td>\n",
       "      <td>NaN</td>\n",
       "      <td>32.0</td>\n",
       "      <td>5.3</td>\n",
       "      <td>gasoline</td>\n",
       "    </tr>\n",
       "  </tbody>\n",
       "</table>\n",
       "<p>2 rows × 25 columns</p>\n",
       "</div>"
      ],
      "text/plain": [
       "        body_type     brand  color  mileage  model_date model_name  \\\n",
       "16944   кабриолет  mercedes  белый  48000.0      1904.0    simplex   \n",
       "122751  кабриолет  mercedes  белый  48000.0      1904.0    simplex   \n",
       "\n",
       "        numberOfDoors    year   vehicleConfiguration vehicleTransmission  ...  \\\n",
       "16944             0.0  1904.0  CABRIO MECHANICAL 5.3        механическая  ...   \n",
       "122751            0.0  1904.0  CABRIO MECHANICAL 5.3          MECHANICAL  ...   \n",
       "\n",
       "                 Состояние     Таможня       price data_type equipment  \\\n",
       "16944   Не требует ремонта  Растаможен         0.0         0        {}   \n",
       "122751                 NaN        True  12000000.0         1        {}   \n",
       "\n",
       "       tmp_transmission tmp_state  engine_power  engine_displacement  \\\n",
       "16944        mechanical       NaN          32.0                  5.3   \n",
       "122751              NaN       NaN          32.0                  5.3   \n",
       "\n",
       "       engine_type  \n",
       "16944     gasoline  \n",
       "122751    gasoline  \n",
       "\n",
       "[2 rows x 25 columns]"
      ]
     },
     "execution_count": 75,
     "metadata": {},
     "output_type": "execute_result"
    }
   ],
   "source": [
    "# машины без дверей\n",
    "df[df.numberOfDoors==0]"
   ]
  },
  {
   "cell_type": "code",
   "execution_count": 76,
   "metadata": {},
   "outputs": [],
   "source": [
    "# оба кабриолеты, там, как минимум 2 двери есть, правим это\n",
    "df.loc[df.numberOfDoors==0, \"numberOfDoors\"] = 2"
   ]
  },
  {
   "cell_type": "code",
   "execution_count": 77,
   "metadata": {},
   "outputs": [],
   "source": [
    "df.rename(columns={\"numberOfDoors\": \"number_of_doors\"}, inplace=True)"
   ]
  },
  {
   "cell_type": "markdown",
   "metadata": {},
   "source": [
    "## vehicleConfiguration\n",
    "описание авто: модель/объем двигателя/трансмиссия. у нас уже это все есть, удаляем"
   ]
  },
  {
   "cell_type": "code",
   "execution_count": 78,
   "metadata": {},
   "outputs": [],
   "source": [
    "df.drop([\"vehicleConfiguration\"], axis=1, inplace=True)"
   ]
  },
  {
   "cell_type": "markdown",
   "metadata": {},
   "source": [
    "## transmission\n",
    "тип трансмиссии"
   ]
  },
  {
   "cell_type": "code",
   "execution_count": 79,
   "metadata": {},
   "outputs": [
    {
     "name": "stdout",
     "output_type": "stream",
     "text": [
      "           Data type: object\n",
      "               Total: 100.0% = 254020\n",
      "vehicleTransmission nan:   0.0% = 0 (0/0/0)\n"
     ]
    }
   ],
   "source": [
    "describe_column(df, \"vehicleTransmission\")"
   ]
  },
  {
   "cell_type": "code",
   "execution_count": 80,
   "metadata": {},
   "outputs": [
    {
     "data": {
      "text/plain": [
       "автоматическая      93424\n",
       "AUTOMATIC           49218\n",
       "вариатор            28446\n",
       "MECHANICAL          25264\n",
       "механическая        22694\n",
       "роботизированная    20079\n",
       "ROBOT                7871\n",
       "VARIATOR             7024\n",
       "Name: vehicleTransmission, dtype: int64"
      ]
     },
     "execution_count": 80,
     "metadata": {},
     "output_type": "execute_result"
    }
   ],
   "source": [
    "df.vehicleTransmission.value_counts()"
   ]
  },
  {
   "cell_type": "code",
   "execution_count": 81,
   "metadata": {},
   "outputs": [],
   "source": [
    "# меняем регистр и переводим все в английские имена\n",
    "df.vehicleTransmission = df.vehicleTransmission.str.lower()"
   ]
  },
  {
   "cell_type": "code",
   "execution_count": 82,
   "metadata": {},
   "outputs": [],
   "source": [
    "transmission_dict = {\n",
    "    \"механическая\": \"mechanical\",\n",
    "    \"автоматическая\": \"automatic\",\n",
    "    \"вариатор\": \"variator\",\n",
    "    \"роботизированная\": \"robot\",\n",
    "}\n",
    "\n",
    "df[\"transmission\"] = df[\"vehicleTransmission\"].apply(map_rus_to_end, args=(transmission_dict,))"
   ]
  },
  {
   "cell_type": "code",
   "execution_count": 83,
   "metadata": {},
   "outputs": [
    {
     "data": {
      "text/plain": [
       "automatic     142642\n",
       "mechanical     47958\n",
       "variator       35470\n",
       "robot          27950\n",
       "Name: transmission, dtype: int64"
      ]
     },
     "execution_count": 83,
     "metadata": {},
     "output_type": "execute_result"
    }
   ],
   "source": [
    "df.transmission.value_counts()"
   ]
  },
  {
   "cell_type": "code",
   "execution_count": 84,
   "metadata": {},
   "outputs": [],
   "source": [
    "df.drop([\"vehicleTransmission\", \"tmp_transmission\"], axis=1, inplace=True)"
   ]
  },
  {
   "cell_type": "markdown",
   "metadata": {},
   "source": [
    "## owners\n",
    "число владельцев. помним, что у нас есть новые машины, поэтовы возможные пропуски в первую очередь проверим на состояние машины (новая и нет) и заполним нулями для новых авто. все остальное пропуски заполним единицами."
   ]
  },
  {
   "cell_type": "code",
   "execution_count": 85,
   "metadata": {},
   "outputs": [],
   "source": [
    "df.rename(columns={\"Владельцы\": \"owners\"}, inplace=True)"
   ]
  },
  {
   "cell_type": "code",
   "execution_count": 86,
   "metadata": {},
   "outputs": [
    {
     "name": "stdout",
     "output_type": "stream",
     "text": [
      "           Data type: object\n",
      "               Total: 100.0% = 254020\n",
      "          owners nan:  15.9% = 40513 (0/13588/26925)\n"
     ]
    }
   ],
   "source": [
    "describe_column(df, \"owners\")"
   ]
  },
  {
   "cell_type": "code",
   "execution_count": 87,
   "metadata": {},
   "outputs": [
    {
     "data": {
      "text/plain": [
       "new    26925\n",
       "Name: tmp_state, dtype: int64"
      ]
     },
     "execution_count": 87,
     "metadata": {},
     "output_type": "execute_result"
    }
   ],
   "source": [
    "df[df.owners.isna()].tmp_state.value_counts()"
   ]
  },
  {
   "cell_type": "code",
   "execution_count": 88,
   "metadata": {},
   "outputs": [],
   "source": [
    "# больше половины пропусков это новые авто, заполним это нулями\n",
    "df.loc[(df.owners.isna()) & (df.tmp_state==\"new\"), \"owners\"] = 0"
   ]
  },
  {
   "cell_type": "code",
   "execution_count": 89,
   "metadata": {},
   "outputs": [
    {
     "name": "stdout",
     "output_type": "stream",
     "text": [
      "           Data type: object\n",
      "               Total: 100.0% = 254020\n",
      "          owners nan:   5.3% = 13588 (0/13588/0)\n"
     ]
    }
   ],
   "source": [
    "describe_column(df, \"owners\")"
   ]
  },
  {
   "cell_type": "code",
   "execution_count": 90,
   "metadata": {},
   "outputs": [
    {
     "data": {
      "text/plain": [
       "0.0    13588\n",
       "Name: mileage, dtype: int64"
      ]
     },
     "execution_count": 90,
     "metadata": {},
     "output_type": "execute_result"
    }
   ],
   "source": [
    "# все равно остались пропуски. теперь проверим, заполним пропуски нулями там, где нулевой пробег (mileage)\n",
    "df[df.owners.isna()].mileage.value_counts()"
   ]
  },
  {
   "cell_type": "code",
   "execution_count": 91,
   "metadata": {},
   "outputs": [],
   "source": [
    "# все пропуски у авто с нулевым пробегом, считаем, что это новые машины и заполним владельцев нулями\n",
    "df.loc[(df.owners.isna()) & (df.mileage==0), \"owners\"] = 0"
   ]
  },
  {
   "cell_type": "code",
   "execution_count": 92,
   "metadata": {},
   "outputs": [
    {
     "data": {
      "text/plain": [
       "3 или более    49759\n",
       "1 владелец     40575\n",
       "0              40513\n",
       "3.0            36247\n",
       "2 владельца    28655\n",
       "2.0            21006\n",
       "1.0            18536\n",
       "1 владелец      9459\n",
       "2 владельца     9270\n",
       "Name: owners, dtype: int64"
      ]
     },
     "execution_count": 92,
     "metadata": {},
     "output_type": "execute_result"
    }
   ],
   "source": [
    "# теперь посмотрим на сами значения\n",
    "df.owners.value_counts()"
   ]
  },
  {
   "cell_type": "code",
   "execution_count": 93,
   "metadata": {},
   "outputs": [],
   "source": [
    "# пропусков у нас уже нет, поэтому просто возьмем первое число из текущих значений\n",
    "df.owners = df.owners.apply(lambda x: float(str(x).split()[0]))"
   ]
  },
  {
   "cell_type": "markdown",
   "metadata": {},
   "source": [
    "## ownership\n",
    "с какого года авто у последнего владельца"
   ]
  },
  {
   "cell_type": "code",
   "execution_count": 94,
   "metadata": {},
   "outputs": [
    {
     "name": "stdout",
     "output_type": "stream",
     "text": [
      "           Data type: object\n",
      "               Total: 100.0% = 254020\n",
      "        Владение nan:  78.2% = 198539 (22691/60176/115672)\n"
     ]
    }
   ],
   "source": [
    "describe_column(df, \"Владение\")"
   ]
  },
  {
   "cell_type": "code",
   "execution_count": 95,
   "metadata": {},
   "outputs": [],
   "source": [
    "# пропусков очень много, да и непонятно, что эта колонка может дать. удалим её\n",
    "df.drop([\"Владение\"], axis=1, inplace=True)"
   ]
  },
  {
   "cell_type": "markdown",
   "metadata": {},
   "source": [
    "## vehicle_licence (ПТС)\n",
    "информация о ПТС, оригинал/дубликат"
   ]
  },
  {
   "cell_type": "code",
   "execution_count": 96,
   "metadata": {},
   "outputs": [],
   "source": [
    "df.rename(columns={\"ПТС\": \"vehicle_licence\"}, inplace=True)"
   ]
  },
  {
   "cell_type": "code",
   "execution_count": 97,
   "metadata": {},
   "outputs": [
    {
     "name": "stdout",
     "output_type": "stream",
     "text": [
      "           Data type: object\n",
      "               Total: 100.0% = 254020\n",
      " vehicle_licence nan:  10.7% = 27287 (1/361/26925)\n"
     ]
    }
   ],
   "source": [
    "describe_column(df, \"vehicle_licence\")"
   ]
  },
  {
   "cell_type": "code",
   "execution_count": 98,
   "metadata": {},
   "outputs": [
    {
     "data": {
      "text/plain": [
       "Оригинал     122683\n",
       "ORIGINAL      78596\n",
       "Дубликат      15034\n",
       "DUPLICATE     10420\n",
       "Name: vehicle_licence, dtype: int64"
      ]
     },
     "execution_count": 98,
     "metadata": {},
     "output_type": "execute_result"
    }
   ],
   "source": [
    "# пропусков довольно много, посмотрим какие значения есть\n",
    "df.vehicle_licence.value_counts()"
   ]
  },
  {
   "cell_type": "code",
   "execution_count": 99,
   "metadata": {},
   "outputs": [
    {
     "data": {
      "text/plain": [
       "0.0         27286\n",
       "276000.0        1\n",
       "Name: mileage, dtype: int64"
      ]
     },
     "execution_count": 99,
     "metadata": {},
     "output_type": "execute_result"
    }
   ],
   "source": [
    "# нужно сменить регистр и заменить rus->eng, но сначала посмотрим на пропуски, а конкретне на пробег у машин с пропусками\n",
    "df[df.vehicle_licence.isna()].mileage.value_counts()"
   ]
  },
  {
   "cell_type": "code",
   "execution_count": 100,
   "metadata": {},
   "outputs": [],
   "source": [
    "# получается все, кроме одного, пропуски это новые авто. думаю для них можно поставить ПТС равным \"original\"\n",
    "df.loc[(df.vehicle_licence.isna()) & (df.mileage==0), \"vehicle_licence\"] = \"original\""
   ]
  },
  {
   "cell_type": "code",
   "execution_count": 101,
   "metadata": {},
   "outputs": [
    {
     "data": {
      "text/html": [
       "<div>\n",
       "<style scoped>\n",
       "    .dataframe tbody tr th:only-of-type {\n",
       "        vertical-align: middle;\n",
       "    }\n",
       "\n",
       "    .dataframe tbody tr th {\n",
       "        vertical-align: top;\n",
       "    }\n",
       "\n",
       "    .dataframe thead th {\n",
       "        text-align: right;\n",
       "    }\n",
       "</style>\n",
       "<table border=\"1\" class=\"dataframe\">\n",
       "  <thead>\n",
       "    <tr style=\"text-align: right;\">\n",
       "      <th></th>\n",
       "      <th>body_type</th>\n",
       "      <th>brand</th>\n",
       "      <th>color</th>\n",
       "      <th>mileage</th>\n",
       "      <th>model_date</th>\n",
       "      <th>model_name</th>\n",
       "      <th>number_of_doors</th>\n",
       "      <th>year</th>\n",
       "      <th>owners</th>\n",
       "      <th>vehicle_licence</th>\n",
       "      <th>...</th>\n",
       "      <th>Состояние</th>\n",
       "      <th>Таможня</th>\n",
       "      <th>price</th>\n",
       "      <th>data_type</th>\n",
       "      <th>equipment</th>\n",
       "      <th>tmp_state</th>\n",
       "      <th>engine_power</th>\n",
       "      <th>engine_displacement</th>\n",
       "      <th>engine_type</th>\n",
       "      <th>transmission</th>\n",
       "    </tr>\n",
       "  </thead>\n",
       "  <tbody>\n",
       "    <tr>\n",
       "      <th>10412</th>\n",
       "      <td>седан</td>\n",
       "      <td>bmw</td>\n",
       "      <td>синий</td>\n",
       "      <td>276000.0</td>\n",
       "      <td>1998.0</td>\n",
       "      <td>3</td>\n",
       "      <td>4.0</td>\n",
       "      <td>1999.0</td>\n",
       "      <td>3.0</td>\n",
       "      <td>NaN</td>\n",
       "      <td>...</td>\n",
       "      <td>Не требует ремонта</td>\n",
       "      <td>Растаможен</td>\n",
       "      <td>0.0</td>\n",
       "      <td>0</td>\n",
       "      <td>{}</td>\n",
       "      <td>NaN</td>\n",
       "      <td>170.0</td>\n",
       "      <td>2.5</td>\n",
       "      <td>gasoline</td>\n",
       "      <td>automatic</td>\n",
       "    </tr>\n",
       "  </tbody>\n",
       "</table>\n",
       "<p>1 rows × 22 columns</p>\n",
       "</div>"
      ],
      "text/plain": [
       "      body_type brand  color   mileage  model_date model_name  \\\n",
       "10412     седан   bmw  синий  276000.0      1998.0          3   \n",
       "\n",
       "       number_of_doors    year  owners vehicle_licence  ...  \\\n",
       "10412              4.0  1999.0     3.0             NaN  ...   \n",
       "\n",
       "                Состояние     Таможня price data_type  equipment  tmp_state  \\\n",
       "10412  Не требует ремонта  Растаможен   0.0         0         {}        NaN   \n",
       "\n",
       "      engine_power engine_displacement  engine_type  transmission  \n",
       "10412        170.0                 2.5     gasoline     automatic  \n",
       "\n",
       "[1 rows x 22 columns]"
      ]
     },
     "execution_count": 101,
     "metadata": {},
     "output_type": "execute_result"
    }
   ],
   "source": [
    "# посмотрим на оставшееся авто\n",
    "df[df.vehicle_licence.isna()]"
   ]
  },
  {
   "cell_type": "code",
   "execution_count": 102,
   "metadata": {},
   "outputs": [],
   "source": [
    "# bmw 1999 года, с 3 или более владельцами. ставим ПТС как дубликат\n",
    "df.loc[df.vehicle_licence.isna(), \"vehicle_licence\"] = \"duplicate\""
   ]
  },
  {
   "cell_type": "code",
   "execution_count": 103,
   "metadata": {},
   "outputs": [],
   "source": [
    "vehicle_licence_dict = {\n",
    "    \"оригинал\": \"original\",\n",
    "    \"дубликат\": \"duplicate\",\n",
    "}\n",
    "\n",
    "df.vehicle_licence = df.vehicle_licence.str.lower()\n",
    "df.vehicle_licence = df.vehicle_licence.apply(map_rus_to_end, args=(vehicle_licence_dict,))"
   ]
  },
  {
   "cell_type": "markdown",
   "metadata": {},
   "source": [
    "## drivetrain (привод)\n",
    "колонка с типом привода авто"
   ]
  },
  {
   "cell_type": "code",
   "execution_count": 104,
   "metadata": {},
   "outputs": [],
   "source": [
    "df.rename(columns={\"Привод\": \"drivetrain\"}, inplace=True)"
   ]
  },
  {
   "cell_type": "code",
   "execution_count": 105,
   "metadata": {},
   "outputs": [
    {
     "name": "stdout",
     "output_type": "stream",
     "text": [
      "           Data type: object\n",
      "               Total: 100.0% = 254020\n",
      "      drivetrain nan:  10.6% = 26925 (0/0/26925)\n"
     ]
    }
   ],
   "source": [
    "describe_column(df, \"drivetrain\")"
   ]
  },
  {
   "cell_type": "code",
   "execution_count": 106,
   "metadata": {},
   "outputs": [
    {
     "data": {
      "text/plain": [
       "полный      108584\n",
       "передний    100745\n",
       "задний       17766\n",
       "Name: drivetrain, dtype: int64"
      ]
     },
     "execution_count": 106,
     "metadata": {},
     "output_type": "execute_result"
    }
   ],
   "source": [
    "df.drivetrain.value_counts()"
   ]
  },
  {
   "cell_type": "code",
   "execution_count": 107,
   "metadata": {},
   "outputs": [],
   "source": [
    "groupped_series = df.groupby([\"brand\", \"model_name\"]).drivetrain.value_counts()\n",
    "default_value = df.drivetrain.value_counts().index[0]\n",
    "df.loc[df.drivetrain.isna(), \"drivetrain\"] = df[df.drivetrain.isna()].apply(\n",
    "    lambda row: fill_from_groupped_series(groupped_series, row.brand, row.model_name, default_value),\n",
    "    axis=1,\n",
    ")\n",
    "\n"
   ]
  },
  {
   "cell_type": "code",
   "execution_count": 108,
   "metadata": {},
   "outputs": [],
   "source": [
    "drivetrain_dict = {\n",
    "    \"полный\": \"4wd\",\n",
    "    \"передний\": \"fwd\",\n",
    "    \"задний\": \"rwd\",\n",
    "}\n",
    "\n",
    "df.drivetrain = df.drivetrain.str.lower()\n",
    "df.drivetrain = df.drivetrain.apply(map_rus_to_end, args=(drivetrain_dict,))"
   ]
  },
  {
   "cell_type": "markdown",
   "metadata": {},
   "source": [
    "## steering_wheel (Руль)\n",
    "правый/левый руль. "
   ]
  },
  {
   "cell_type": "code",
   "execution_count": 109,
   "metadata": {},
   "outputs": [],
   "source": [
    "df.rename(columns={\"Руль\": \"steering_wheel\"}, inplace=True)"
   ]
  },
  {
   "cell_type": "code",
   "execution_count": 110,
   "metadata": {},
   "outputs": [
    {
     "name": "stdout",
     "output_type": "stream",
     "text": [
      "           Data type: object\n",
      "               Total: 100.0% = 254020\n",
      "  steering_wheel nan:  10.6% = 26926 (0/0/26926)\n"
     ]
    }
   ],
   "source": [
    "describe_column(df, \"steering_wheel\")"
   ]
  },
  {
   "cell_type": "code",
   "execution_count": 111,
   "metadata": {},
   "outputs": [
    {
     "data": {
      "text/plain": [
       "Левый     132641\n",
       "LEFT       87588\n",
       "Правый      5076\n",
       "RIGHT       1789\n",
       "Name: steering_wheel, dtype: int64"
      ]
     },
     "execution_count": 111,
     "metadata": {},
     "output_type": "execute_result"
    }
   ],
   "source": [
    "df.steering_wheel.value_counts()"
   ]
  },
  {
   "cell_type": "code",
   "execution_count": 112,
   "metadata": {},
   "outputs": [],
   "source": [
    "# сначала приведем существующие значения к одному виду\n",
    "steering_wheel_dict = {\n",
    "    \"левый\": \"left\",\n",
    "    \"правый\": \"right\",\n",
    "}\n",
    "\n",
    "df.steering_wheel = df.steering_wheel.str.lower()\n",
    "df.steering_wheel = df.steering_wheel.apply(map_rus_to_end, args=(steering_wheel_dict,))"
   ]
  },
  {
   "cell_type": "code",
   "execution_count": 113,
   "metadata": {},
   "outputs": [],
   "source": [
    "# подавляющее большенство это леворульные машины, но заполним аналогочно тому, как заполняли привод\n",
    "groupped_series = df.groupby([\"brand\", \"model_name\"]).steering_wheel.value_counts()\n",
    "default_value = df.steering_wheel.value_counts().index[0]\n",
    "df.loc[df.steering_wheel.isna(), \"steering_wheel\"] = df[df.steering_wheel.isna()].apply(\n",
    "    lambda row: fill_from_groupped_series(groupped_series, row.brand, row.model_name, default_value),\n",
    "    axis=1,\n",
    ")"
   ]
  },
  {
   "cell_type": "markdown",
   "metadata": {},
   "source": [
    "## condition (Состояние)\n",
    "колонка с информацией о состоянии авто (нужен ремонт или нет)"
   ]
  },
  {
   "cell_type": "code",
   "execution_count": 114,
   "metadata": {},
   "outputs": [],
   "source": [
    "df.rename(columns={\"Состояние\": \"condition\"}, inplace=True)"
   ]
  },
  {
   "cell_type": "code",
   "execution_count": 115,
   "metadata": {},
   "outputs": [
    {
     "name": "stdout",
     "output_type": "stream",
     "text": [
      "           Data type: object\n",
      "               Total: 100.0% = 254020\n",
      "       condition nan:  45.8% = 116304 (0/89377/26927)\n"
     ]
    }
   ],
   "source": [
    "describe_column(df, \"condition\")"
   ]
  },
  {
   "cell_type": "code",
   "execution_count": 116,
   "metadata": {},
   "outputs": [
    {
     "data": {
      "text/plain": [
       "Не требует ремонта    137716\n",
       "Name: condition, dtype: int64"
      ]
     },
     "execution_count": 116,
     "metadata": {},
     "output_type": "execute_result"
    }
   ],
   "source": [
    "df.condition.value_counts()"
   ]
  },
  {
   "cell_type": "code",
   "execution_count": 117,
   "metadata": {},
   "outputs": [],
   "source": [
    "# значения заполнены только на половину, и единственный вариант в данных это \"не требует ремента\"\n",
    "# заменим это на 1 + новым машинам так же 1 поставим, все остальное сделаем 0,\n",
    "# не факт, что все машины с condition=0 требуют ремонта, но мы об этом не знаем\n",
    "df.condition = df.condition.str.replace(\"Не требует ремонта\", \"1\")\n",
    "df.loc[(df.condition.isna()) & (df.tmp_state==\"new\"), \"condition\"] = \"1\"\n",
    "df.condition.fillna(\"0\", inplace=True)"
   ]
  },
  {
   "cell_type": "code",
   "execution_count": 118,
   "metadata": {},
   "outputs": [],
   "source": [
    "df.condition = df.condition.apply(int).astype(\"Int32\")"
   ]
  },
  {
   "cell_type": "markdown",
   "metadata": {},
   "source": [
    "## customs (Таможня)\n",
    "растаможен или нет"
   ]
  },
  {
   "cell_type": "code",
   "execution_count": 119,
   "metadata": {},
   "outputs": [],
   "source": [
    "df.rename(columns={\"Таможня\": \"customs\"}, inplace=True)"
   ]
  },
  {
   "cell_type": "code",
   "execution_count": 120,
   "metadata": {},
   "outputs": [
    {
     "name": "stdout",
     "output_type": "stream",
     "text": [
      "           Data type: object\n",
      "               Total: 100.0% = 254020\n",
      "         customs nan:  10.6% = 26929 (0/0/26929)\n"
     ]
    }
   ],
   "source": [
    "describe_column(df, \"customs\")"
   ]
  },
  {
   "cell_type": "code",
   "execution_count": 121,
   "metadata": {},
   "outputs": [
    {
     "data": {
      "text/plain": [
       "Растаможен    137714\n",
       "True           89377\n",
       "Name: customs, dtype: int64"
      ]
     },
     "execution_count": 121,
     "metadata": {},
     "output_type": "execute_result"
    }
   ],
   "source": [
    "# достаточно пропусков, но скорее всего все авто растаможены, проверим это\n",
    "df.customs.value_counts()"
   ]
  },
  {
   "cell_type": "code",
   "execution_count": 122,
   "metadata": {},
   "outputs": [],
   "source": [
    "# вариантов \"не растаможен\" нет, думаю колонка бесполезна в существующем виде, удалим её\n",
    "df.drop([\"customs\"], axis=1, inplace=True)"
   ]
  },
  {
   "cell_type": "markdown",
   "metadata": {},
   "source": [
    "## price\n",
    "это наш целевой параметр, делаем следующее: все пропуски удаляем (в \"test\" пропусков быть не должно, т.к. мы сами добавляли эту колонку с нулевыми значениями). Для \"train_extra\" нужна корректировка по цене, т.к. данные собирались во второй половине 2021 года, а тестовый датасет за 2020 год. Исходя из данных автостата подорожание было около 10-15%, но это \"средняя температура по больнице\", так как она не учитывает, что разные сегмент (премиум/эконом/и тд) дорожали по-разному, а так же такие факторы, как выпуск рестайлингов или смену поколения модели. Но у нас другого выхода нет, поэтому уменьшим price в train_extra на корректировочной коэффициент, если нужно будет, можно попробовать его поменять в будущем, что бы подобрать лучшее значение метрики."
   ]
  },
  {
   "cell_type": "code",
   "execution_count": 123,
   "metadata": {},
   "outputs": [
    {
     "name": "stdout",
     "output_type": "stream",
     "text": [
      "           Data type: float64\n",
      "               Total: 100.0% = 254020\n",
      "           price nan:   8.1% = 20603 (0/410/20193)\n"
     ]
    }
   ],
   "source": [
    "describe_column(df, \"price\")"
   ]
  },
  {
   "cell_type": "code",
   "execution_count": 124,
   "metadata": {},
   "outputs": [
    {
     "data": {
      "text/plain": [
       "2    20193\n",
       "1      410\n",
       "Name: data_type, dtype: int64"
      ]
     },
     "execution_count": 124,
     "metadata": {},
     "output_type": "execute_result"
    }
   ],
   "source": [
    "df[df.price.isna()].data_type.value_counts()"
   ]
  },
  {
   "cell_type": "code",
   "execution_count": 125,
   "metadata": {},
   "outputs": [],
   "source": [
    "# видим, что все пропуски из обучающих датасетов, поэтому просто удаляем их, взять информацию о цене нам неоткуда\n",
    "df.dropna(subset=[\"price\"], inplace=True)"
   ]
  },
  {
   "cell_type": "code",
   "execution_count": 126,
   "metadata": {},
   "outputs": [],
   "source": [
    "# корректируем цены в train_extra\n",
    "df.loc[df.data_type==2, \"price\"] = round(df.loc[df.data_type==2, \"price\"] * PRICE_CORRECTION)"
   ]
  },
  {
   "cell_type": "markdown",
   "metadata": {},
   "source": [
    "# state (tmp_state)\n",
    "состояние (новый/подержанная). Эта информация так же опеределяется из пробега, но обработаем столбец и пока оставим."
   ]
  },
  {
   "cell_type": "code",
   "execution_count": 127,
   "metadata": {},
   "outputs": [],
   "source": [
    "df.rename(columns={\"tmp_state\": \"state\"}, inplace=True)"
   ]
  },
  {
   "cell_type": "code",
   "execution_count": 128,
   "metadata": {},
   "outputs": [
    {
     "name": "stdout",
     "output_type": "stream",
     "text": [
      "           Data type: object\n",
      "               Total: 100.0% = 233417\n",
      "           state nan:  53.0% = 123662 (34686/88967/9)\n"
     ]
    }
   ],
   "source": [
    "describe_column(df, \"state\")"
   ]
  },
  {
   "cell_type": "code",
   "execution_count": 133,
   "metadata": {},
   "outputs": [
    {
     "data": {
      "text/plain": [
       "used    198696\n",
       "new      34721\n",
       "Name: state, dtype: int64"
      ]
     },
     "execution_count": 133,
     "metadata": {},
     "output_type": "execute_result"
    }
   ],
   "source": [
    "df.state.value_counts()"
   ]
  },
  {
   "cell_type": "code",
   "execution_count": 130,
   "metadata": {},
   "outputs": [],
   "source": [
    "# пропусков много, но варианта всего два: новая/подержанная, заполним пропуски на основе пробега\n",
    "df.loc[df.state.isna(), \"state\"] = np.where(df.loc[df.state.isna(), \"mileage\"] == 0, \"new\", \"used\")\n"
   ]
  },
  {
   "cell_type": "code",
   "execution_count": 137,
   "metadata": {},
   "outputs": [
    {
     "name": "stdout",
     "output_type": "stream",
     "text": [
      "           Data type: object\n",
      "               Total: 100.0% = 233417\n",
      "           state nan:   0.0% = 0 (0/0/0)\n"
     ]
    }
   ],
   "source": [
    "describe_column(df, \"state\")"
   ]
  },
  {
   "cell_type": "code",
   "execution_count": 146,
   "metadata": {},
   "outputs": [],
   "source": [
    "tmp = df[[\"model_name\", \"equipment\"]]"
   ]
  },
  {
   "cell_type": "code",
   "execution_count": 151,
   "metadata": {},
   "outputs": [],
   "source": [
    "# dummy_city = pd.get_dummies(data.city)\n",
    "# data = pd.concat([data, dummy_city], axis=1)\n",
    "# tmp.get_dummies()\n",
    "# tmp = pd.get_dummies(df.equipment)\n",
    "tmp.loc[:,\"equipment\"] = tmp.loc[:,\"equipment\"].apply(list)"
   ]
  },
  {
   "cell_type": "code",
   "execution_count": 158,
   "metadata": {},
   "outputs": [],
   "source": [
    "\n",
    "mlb = MultiLabelBinarizer()\n",
    "equipment_dummy = pd.DataFrame(mlb.fit_transform(df.equipment), columns=mlb.classes_, index=df.index)\n",
    "df = pd.concat([df, equipment_dummy], axis=1)\n"
   ]
  },
  {
   "cell_type": "code",
   "execution_count": 169,
   "metadata": {},
   "outputs": [],
   "source": [
    "df.drop([\"equipment\"], axis=1, inplace=True)"
   ]
  },
  {
   "cell_type": "markdown",
   "metadata": {},
   "source": [
    "# ML"
   ]
  },
  {
   "cell_type": "code",
   "execution_count": 175,
   "metadata": {},
   "outputs": [],
   "source": [
    "def mape(y_true: np.ndarray, y_pred: np.ndarray):\n",
    "    return np.mean(np.abs((y_pred-y_true)/y_true))"
   ]
  },
  {
   "cell_type": "code",
   "execution_count": 204,
   "metadata": {},
   "outputs": [],
   "source": [
    "from category_encoders import BinaryEncoder\n",
    "encoder = BinaryEncoder(cols=['model_name'])\n",
    "df_bin = encoder.fit_transform(df['model_name'])\n",
    "df = pd.concat([df, df_bin], axis = 1)\n",
    "df.drop([\"model_name\"], axis=1, inplace=True)"
   ]
  },
  {
   "cell_type": "code",
   "execution_count": 218,
   "metadata": {},
   "outputs": [],
   "source": [
    "df = pd.get_dummies(df, columns=[\n",
    "    'brand', 'body_type', 'color',\n",
    "    'vehicle_licence', 'drivetrain', 'steering_wheel',\n",
    "    'state', 'engine_type', 'transmission'])"
   ]
  },
  {
   "cell_type": "code",
   "execution_count": 222,
   "metadata": {},
   "outputs": [],
   "source": [
    "X = df.loc[df.data_type !=0, :].copy()\n",
    "X.drop([\"price\", \"data_type\"], axis=1, inplace=True)\n",
    "\n",
    "y = df.loc[df.data_type !=0, \"price\"].copy()\n",
    "\n",
    "X_lb = df.loc[df.data_type ==0, :].copy()\n",
    "X_lb.drop([\"price\", \"data_type\"], axis=1, inplace=True)"
   ]
  },
  {
   "cell_type": "code",
   "execution_count": 223,
   "metadata": {},
   "outputs": [],
   "source": [
    "X_train, X_test, y_train, y_test = train_test_split(X, y, test_size=VAL_SIZE, shuffle=True, random_state=RANDOM_SEED)"
   ]
  },
  {
   "cell_type": "code",
   "execution_count": 224,
   "metadata": {},
   "outputs": [
    {
     "name": "stderr",
     "output_type": "stream",
     "text": [
      "[Parallel(n_jobs=-1)]: Using backend ThreadingBackend with 8 concurrent workers.\n",
      "[Parallel(n_jobs=-1)]: Done  34 tasks      | elapsed:  1.1min\n",
      "[Parallel(n_jobs=-1)]: Done 100 out of 100 | elapsed:  3.1min finished\n",
      "[Parallel(n_jobs=8)]: Using backend ThreadingBackend with 8 concurrent workers.\n",
      "[Parallel(n_jobs=8)]: Done  34 tasks      | elapsed:    0.4s\n",
      "[Parallel(n_jobs=8)]: Done 100 out of 100 | elapsed:    0.8s finished\n"
     ]
    }
   ],
   "source": [
    "from sklearn.ensemble import RandomForestRegressor\n",
    "\n",
    "rfr = RandomForestRegressor(random_state=RANDOM_SEED, n_jobs=-1, verbose=1)\n",
    "rfr.fit(X_train, y_train)\n",
    "predict_rf = rfr.predict(X_test)\n",
    "\n"
   ]
  },
  {
   "cell_type": "code",
   "execution_count": 225,
   "metadata": {},
   "outputs": [
    {
     "name": "stdout",
     "output_type": "stream",
     "text": [
      "The MAPE mertics of the Random Forest model using MAPE metrics: 8.20%.\n"
     ]
    }
   ],
   "source": [
    "print(f\"The MAPE mertics of the Random Forest model using MAPE metrics: {(mape(y_test, predict_rf) * 100):0.2f}%.\")\n"
   ]
  },
  {
   "cell_type": "code",
   "execution_count": 231,
   "metadata": {},
   "outputs": [
    {
     "name": "stderr",
     "output_type": "stream",
     "text": [
      "[Parallel(n_jobs=8)]: Using backend ThreadingBackend with 8 concurrent workers.\n",
      "[Parallel(n_jobs=8)]: Done  34 tasks      | elapsed:    0.1s\n",
      "[Parallel(n_jobs=8)]: Done 100 out of 100 | elapsed:    0.4s finished\n"
     ]
    },
    {
     "data": {
      "text/html": [
       "<div>\n",
       "<style scoped>\n",
       "    .dataframe tbody tr th:only-of-type {\n",
       "        vertical-align: middle;\n",
       "    }\n",
       "\n",
       "    .dataframe tbody tr th {\n",
       "        vertical-align: top;\n",
       "    }\n",
       "\n",
       "    .dataframe thead th {\n",
       "        text-align: right;\n",
       "    }\n",
       "</style>\n",
       "<table border=\"1\" class=\"dataframe\">\n",
       "  <thead>\n",
       "    <tr style=\"text-align: right;\">\n",
       "      <th></th>\n",
       "      <th>sell_id</th>\n",
       "      <th>price</th>\n",
       "    </tr>\n",
       "  </thead>\n",
       "  <tbody>\n",
       "    <tr>\n",
       "      <th>0</th>\n",
       "      <td>1100575026</td>\n",
       "      <td>732079.0</td>\n",
       "    </tr>\n",
       "    <tr>\n",
       "      <th>1</th>\n",
       "      <td>1100549428</td>\n",
       "      <td>1097437.0</td>\n",
       "    </tr>\n",
       "    <tr>\n",
       "      <th>2</th>\n",
       "      <td>1100658222</td>\n",
       "      <td>941461.0</td>\n",
       "    </tr>\n",
       "    <tr>\n",
       "      <th>3</th>\n",
       "      <td>1100937408</td>\n",
       "      <td>932393.0</td>\n",
       "    </tr>\n",
       "    <tr>\n",
       "      <th>4</th>\n",
       "      <td>1101037972</td>\n",
       "      <td>678018.0</td>\n",
       "    </tr>\n",
       "    <tr>\n",
       "      <th>5</th>\n",
       "      <td>1100912634</td>\n",
       "      <td>743317.0</td>\n",
       "    </tr>\n",
       "    <tr>\n",
       "      <th>6</th>\n",
       "      <td>1101228730</td>\n",
       "      <td>672174.0</td>\n",
       "    </tr>\n",
       "    <tr>\n",
       "      <th>7</th>\n",
       "      <td>1100165896</td>\n",
       "      <td>448855.0</td>\n",
       "    </tr>\n",
       "    <tr>\n",
       "      <th>8</th>\n",
       "      <td>1100768262</td>\n",
       "      <td>1774270.0</td>\n",
       "    </tr>\n",
       "    <tr>\n",
       "      <th>9</th>\n",
       "      <td>1101218501</td>\n",
       "      <td>958190.0</td>\n",
       "    </tr>\n",
       "  </tbody>\n",
       "</table>\n",
       "</div>"
      ],
      "text/plain": [
       "      sell_id      price\n",
       "0  1100575026   732079.0\n",
       "1  1100549428  1097437.0\n",
       "2  1100658222   941461.0\n",
       "3  1100937408   932393.0\n",
       "4  1101037972   678018.0\n",
       "5  1100912634   743317.0\n",
       "6  1101228730   672174.0\n",
       "7  1100165896   448855.0\n",
       "8  1100768262  1774270.0\n",
       "9  1101218501   958190.0"
      ]
     },
     "execution_count": 231,
     "metadata": {},
     "output_type": "execute_result"
    }
   ],
   "source": [
    "# rfr = RandomForestRegressor(random_state=RANDOM_SEED, n_jobs=-1, verbose=1)\n",
    "# rfr.fit(X_train, y_train)\n",
    "# predict_rf = rfr.predict(X_test)\n",
    "\n",
    "y_lb = rfr.predict(X_lb)\n",
    "y_lb = y_lb.round()\n",
    "sample_submission['price'] = y_lb\n",
    "sample_submission.to_csv('./submission_final.csv', index=False)\n",
    "sample_submission.head(10)"
   ]
  }
 ],
 "metadata": {
  "interpreter": {
   "hash": "550056ff3b6c24ef08b20d0608428d73c2737dc12cdd6267fe4ea38c5eab2d02"
  },
  "kernelspec": {
   "display_name": "Python 3.8.9 64-bit ('venv': venv)",
   "language": "python",
   "name": "python3"
  },
  "language_info": {
   "codemirror_mode": {
    "name": "ipython",
    "version": 3
   },
   "file_extension": ".py",
   "mimetype": "text/x-python",
   "name": "python",
   "nbconvert_exporter": "python",
   "pygments_lexer": "ipython3",
   "version": "3.8.9"
  },
  "orig_nbformat": 4
 },
 "nbformat": 4,
 "nbformat_minor": 2
}
