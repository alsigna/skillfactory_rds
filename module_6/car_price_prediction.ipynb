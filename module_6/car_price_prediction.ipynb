{
 "cells": [
  {
   "cell_type": "markdown",
   "metadata": {},
   "source": [
    "# Импорт библиотек и определение констант"
   ]
  },
  {
   "cell_type": "code",
   "execution_count": 1,
   "metadata": {},
   "outputs": [],
   "source": [
    "import json\n",
    "import re\n",
    "\n",
    "import matplotlib.gridspec as gridspec\n",
    "import matplotlib.pyplot as plt\n",
    "import numpy as np\n",
    "import pandas as pd\n",
    "import pandas_profiling\n",
    "import seaborn as sns\n",
    "import xgboost as xgb\n",
    "from catboost import CatBoostRegressor\n",
    "from category_encoders import BinaryEncoder\n",
    "from IPython.display import display\n",
    "from sklearn.ensemble import (AdaBoostRegressor, ExtraTreesRegressor,\n",
    "                              RandomForestRegressor, StackingRegressor)\n",
    "from sklearn.feature_selection import f_regression\n",
    "from sklearn.linear_model import LinearRegression\n",
    "from sklearn.model_selection import KFold, RandomizedSearchCV, train_test_split\n",
    "from sklearn.preprocessing import MinMaxScaler, MultiLabelBinarizer\n",
    "from sklearn.tree import DecisionTreeRegressor\n",
    "\n",
    "%matplotlib inline \n",
    "\n",
    "\n",
    "RANDOM_SEED = 42\n",
    "PRICE_CORRECTION = 0.80 # коррекция цены для датасета от 2021 года\n",
    "VAL_SIZE= 0.2 # размер валидационной выборки"
   ]
  },
  {
   "cell_type": "markdown",
   "metadata": {},
   "source": [
    "# Загрузка данных и первый обзор"
   ]
  },
  {
   "cell_type": "code",
   "execution_count": 2,
   "metadata": {},
   "outputs": [],
   "source": [
    "# датасет из base_line\n",
    "train_basic = pd.read_csv(\"./all_auto_ru_09_09_2020.csv\")\n",
    "# датасет, найденный на кагл\n",
    "train_extra = pd.read_csv(\"./train_df_full.csv\")\n",
    "# тестовый датасет\n",
    "test = pd.read_csv(\"./test.csv\")\n",
    "# датасет для сабминта на ЛБ\n",
    "sample_submission = pd.read_csv(\"./sample_submission.csv\")\n"
   ]
  },
  {
   "cell_type": "code",
   "execution_count": 3,
   "metadata": {},
   "outputs": [
    {
     "name": "stdout",
     "output_type": "stream",
     "text": [
      "\n",
      "============================================================ train_basic\n",
      "<class 'pandas.core.frame.DataFrame'>\n",
      "RangeIndex: 89378 entries, 0 to 89377\n",
      "Data columns (total 26 columns):\n",
      " #   Column                Non-Null Count  Dtype  \n",
      "---  ------                --------------  -----  \n",
      " 0   bodyType              89377 non-null  object \n",
      " 1   brand                 89378 non-null  object \n",
      " 2   color                 89378 non-null  object \n",
      " 3   fuelType              89378 non-null  object \n",
      " 4   modelDate             89377 non-null  float64\n",
      " 5   name                  89377 non-null  object \n",
      " 6   numberOfDoors         89377 non-null  float64\n",
      " 7   productionDate        89378 non-null  int64  \n",
      " 8   vehicleConfiguration  89377 non-null  object \n",
      " 9   vehicleTransmission   89377 non-null  object \n",
      " 10  engineDisplacement    89377 non-null  object \n",
      " 11  enginePower           89377 non-null  float64\n",
      " 12  description           86124 non-null  object \n",
      " 13  mileage               89378 non-null  int64  \n",
      " 14  Комплектация          89378 non-null  object \n",
      " 15  Привод                89377 non-null  object \n",
      " 16  Руль                  89378 non-null  object \n",
      " 17  Состояние             0 non-null      float64\n",
      " 18  Владельцы             75790 non-null  float64\n",
      " 19  ПТС                   89017 non-null  object \n",
      " 20  Таможня               89378 non-null  bool   \n",
      " 21  Владение              29201 non-null  object \n",
      " 22  price                 88968 non-null  float64\n",
      " 23  start_date            89378 non-null  object \n",
      " 24  hidden                0 non-null      float64\n",
      " 25  model                 89378 non-null  object \n",
      "dtypes: bool(1), float64(7), int64(2), object(16)\n",
      "memory usage: 17.1+ MB\n"
     ]
    },
    {
     "data": {
      "text/plain": [
       "None"
      ]
     },
     "metadata": {},
     "output_type": "display_data"
    },
    {
     "name": "stdout",
     "output_type": "stream",
     "text": [
      "\n",
      "============================================================ train_extra\n",
      "<class 'pandas.core.frame.DataFrame'>\n",
      "RangeIndex: 130201 entries, 0 to 130200\n",
      "Data columns (total 36 columns):\n",
      " #   Column                Non-Null Count   Dtype  \n",
      "---  ------                --------------   -----  \n",
      " 0   bodyType              129986 non-null  object \n",
      " 1   brand                 129988 non-null  object \n",
      " 2   car_url               129969 non-null  object \n",
      " 3   color                 129988 non-null  object \n",
      " 4   complectation_dict    105267 non-null  object \n",
      " 5   description           129988 non-null  object \n",
      " 6   engineDisplacement    129988 non-null  object \n",
      " 7   enginePower           129988 non-null  object \n",
      " 8   equipment_dict        129969 non-null  object \n",
      " 9   fuelType              129986 non-null  object \n",
      " 10  image                 130065 non-null  object \n",
      " 11  mileage               103034 non-null  float64\n",
      " 12  modelDate             129986 non-null  float64\n",
      " 13  model_info            0 non-null       float64\n",
      " 14  model_name            103034 non-null  object \n",
      " 15  name                  130153 non-null  object \n",
      " 16  numberOfDoors         129987 non-null  float64\n",
      " 17  parsing_unixtime      130154 non-null  float64\n",
      " 18  priceCurrency         130153 non-null  object \n",
      " 19  productionDate        129988 non-null  float64\n",
      " 20  sell_id               129969 non-null  float64\n",
      " 21  super_gen             130135 non-null  object \n",
      " 22  vehicleConfiguration  129987 non-null  object \n",
      " 23  vehicleTransmission   129986 non-null  object \n",
      " 24  vendor                0 non-null       float64\n",
      " 25  Владельцы             103034 non-null  object \n",
      " 26  Владение              14286 non-null   object \n",
      " 27  ПТС                   103034 non-null  object \n",
      " 28  Привод                103032 non-null  object \n",
      " 29  Руль                  103033 non-null  object \n",
      " 30  Состояние             103032 non-null  object \n",
      " 31  Таможня               103030 non-null  object \n",
      " 32  views                 101998 non-null  float64\n",
      " 33  date_added            103034 non-null  object \n",
      " 34  region                103034 non-null  object \n",
      " 35  price                 109765 non-null  float64\n",
      "dtypes: float64(10), object(26)\n",
      "memory usage: 35.8+ MB\n"
     ]
    },
    {
     "data": {
      "text/plain": [
       "None"
      ]
     },
     "metadata": {},
     "output_type": "display_data"
    },
    {
     "name": "stdout",
     "output_type": "stream",
     "text": [
      "\n",
      "============================================================ test\n",
      "<class 'pandas.core.frame.DataFrame'>\n",
      "RangeIndex: 34686 entries, 0 to 34685\n",
      "Data columns (total 32 columns):\n",
      " #   Column                Non-Null Count  Dtype \n",
      "---  ------                --------------  ----- \n",
      " 0   bodyType              34686 non-null  object\n",
      " 1   brand                 34686 non-null  object\n",
      " 2   car_url               34686 non-null  object\n",
      " 3   color                 34686 non-null  object\n",
      " 4   complectation_dict    6418 non-null   object\n",
      " 5   description           34686 non-null  object\n",
      " 6   engineDisplacement    34686 non-null  object\n",
      " 7   enginePower           34686 non-null  object\n",
      " 8   equipment_dict        24690 non-null  object\n",
      " 9   fuelType              34686 non-null  object\n",
      " 10  image                 34686 non-null  object\n",
      " 11  mileage               34686 non-null  int64 \n",
      " 12  modelDate             34686 non-null  int64 \n",
      " 13  model_info            34686 non-null  object\n",
      " 14  model_name            34686 non-null  object\n",
      " 15  name                  34686 non-null  object\n",
      " 16  numberOfDoors         34686 non-null  int64 \n",
      " 17  parsing_unixtime      34686 non-null  int64 \n",
      " 18  priceCurrency         34686 non-null  object\n",
      " 19  productionDate        34686 non-null  int64 \n",
      " 20  sell_id               34686 non-null  int64 \n",
      " 21  super_gen             34686 non-null  object\n",
      " 22  vehicleConfiguration  34686 non-null  object\n",
      " 23  vehicleTransmission   34686 non-null  object\n",
      " 24  vendor                34686 non-null  object\n",
      " 25  Владельцы             34686 non-null  object\n",
      " 26  Владение              11995 non-null  object\n",
      " 27  ПТС                   34685 non-null  object\n",
      " 28  Привод                34686 non-null  object\n",
      " 29  Руль                  34686 non-null  object\n",
      " 30  Состояние             34686 non-null  object\n",
      " 31  Таможня               34686 non-null  object\n",
      "dtypes: int64(6), object(26)\n",
      "memory usage: 8.5+ MB\n"
     ]
    },
    {
     "data": {
      "text/plain": [
       "None"
      ]
     },
     "metadata": {},
     "output_type": "display_data"
    }
   ],
   "source": [
    "# Посмотрим информацию по составу датасетов\n",
    "print(\"\\n\" + \"=\" * 60 + \" train_basic\")\n",
    "display(train_basic.info())\n",
    "print(\"\\n\" + \"=\" * 60 + \" train_extra\")\n",
    "display(train_extra.info())\n",
    "print(\"\\n\" + \"=\" * 60 + \" test\")\n",
    "display(test.info())"
   ]
  },
  {
   "cell_type": "code",
   "execution_count": 4,
   "metadata": {},
   "outputs": [
    {
     "data": {
      "text/html": [
       "<div>\n",
       "<style scoped>\n",
       "    .dataframe tbody tr th:only-of-type {\n",
       "        vertical-align: middle;\n",
       "    }\n",
       "\n",
       "    .dataframe tbody tr th {\n",
       "        vertical-align: top;\n",
       "    }\n",
       "\n",
       "    .dataframe thead th {\n",
       "        text-align: right;\n",
       "    }\n",
       "</style>\n",
       "<table border=\"1\" class=\"dataframe\">\n",
       "  <thead>\n",
       "    <tr style=\"text-align: right;\">\n",
       "      <th></th>\n",
       "      <th>bodyType</th>\n",
       "      <th>brand</th>\n",
       "      <th>color</th>\n",
       "      <th>fuelType</th>\n",
       "      <th>modelDate</th>\n",
       "      <th>name</th>\n",
       "      <th>numberOfDoors</th>\n",
       "      <th>productionDate</th>\n",
       "      <th>vehicleConfiguration</th>\n",
       "      <th>vehicleTransmission</th>\n",
       "      <th>...</th>\n",
       "      <th>Руль</th>\n",
       "      <th>Состояние</th>\n",
       "      <th>Владельцы</th>\n",
       "      <th>ПТС</th>\n",
       "      <th>Таможня</th>\n",
       "      <th>Владение</th>\n",
       "      <th>price</th>\n",
       "      <th>start_date</th>\n",
       "      <th>hidden</th>\n",
       "      <th>model</th>\n",
       "    </tr>\n",
       "  </thead>\n",
       "  <tbody>\n",
       "    <tr>\n",
       "      <th>0</th>\n",
       "      <td>Седан</td>\n",
       "      <td>AUDI</td>\n",
       "      <td>040001</td>\n",
       "      <td>бензин</td>\n",
       "      <td>1990.0</td>\n",
       "      <td>2.8 MT (174 л.с.) 4WD</td>\n",
       "      <td>4.0</td>\n",
       "      <td>1991</td>\n",
       "      <td>SEDAN MECHANICAL 2.8</td>\n",
       "      <td>MECHANICAL</td>\n",
       "      <td>...</td>\n",
       "      <td>LEFT</td>\n",
       "      <td>NaN</td>\n",
       "      <td>3.0</td>\n",
       "      <td>ORIGINAL</td>\n",
       "      <td>True</td>\n",
       "      <td>NaN</td>\n",
       "      <td>200000.0</td>\n",
       "      <td>2019-10-03T08:09:11Z</td>\n",
       "      <td>NaN</td>\n",
       "      <td>100</td>\n",
       "    </tr>\n",
       "    <tr>\n",
       "      <th>1</th>\n",
       "      <td>Седан</td>\n",
       "      <td>AUDI</td>\n",
       "      <td>EE1D19</td>\n",
       "      <td>бензин</td>\n",
       "      <td>1982.0</td>\n",
       "      <td>1.8 MT (90 л.с.)</td>\n",
       "      <td>4.0</td>\n",
       "      <td>1986</td>\n",
       "      <td>SEDAN MECHANICAL 1.8</td>\n",
       "      <td>MECHANICAL</td>\n",
       "      <td>...</td>\n",
       "      <td>LEFT</td>\n",
       "      <td>NaN</td>\n",
       "      <td>3.0</td>\n",
       "      <td>ORIGINAL</td>\n",
       "      <td>True</td>\n",
       "      <td>NaN</td>\n",
       "      <td>60000.0</td>\n",
       "      <td>2020-09-06T06:49:40Z</td>\n",
       "      <td>NaN</td>\n",
       "      <td>100</td>\n",
       "    </tr>\n",
       "    <tr>\n",
       "      <th>2</th>\n",
       "      <td>Универсал 5 дв.</td>\n",
       "      <td>AUDI</td>\n",
       "      <td>0000CC</td>\n",
       "      <td>бензин</td>\n",
       "      <td>1988.0</td>\n",
       "      <td>2.3 MT (136 л.с.) 4WD</td>\n",
       "      <td>5.0</td>\n",
       "      <td>1989</td>\n",
       "      <td>WAGON_5_DOORS MECHANICAL 2.3</td>\n",
       "      <td>MECHANICAL</td>\n",
       "      <td>...</td>\n",
       "      <td>LEFT</td>\n",
       "      <td>NaN</td>\n",
       "      <td>3.0</td>\n",
       "      <td>ORIGINAL</td>\n",
       "      <td>True</td>\n",
       "      <td>NaN</td>\n",
       "      <td>99000.0</td>\n",
       "      <td>2020-09-02T14:04:21Z</td>\n",
       "      <td>NaN</td>\n",
       "      <td>100</td>\n",
       "    </tr>\n",
       "  </tbody>\n",
       "</table>\n",
       "<p>3 rows × 26 columns</p>\n",
       "</div>"
      ],
      "text/plain": [
       "          bodyType brand   color fuelType  modelDate                   name  \\\n",
       "0            Седан  AUDI  040001   бензин     1990.0  2.8 MT (174 л.с.) 4WD   \n",
       "1            Седан  AUDI  EE1D19   бензин     1982.0       1.8 MT (90 л.с.)   \n",
       "2  Универсал 5 дв.  AUDI  0000CC   бензин     1988.0  2.3 MT (136 л.с.) 4WD   \n",
       "\n",
       "   numberOfDoors  productionDate          vehicleConfiguration  \\\n",
       "0            4.0            1991          SEDAN MECHANICAL 2.8   \n",
       "1            4.0            1986          SEDAN MECHANICAL 1.8   \n",
       "2            5.0            1989  WAGON_5_DOORS MECHANICAL 2.3   \n",
       "\n",
       "  vehicleTransmission  ...  Руль  Состояние Владельцы       ПТС Таможня  \\\n",
       "0          MECHANICAL  ...  LEFT        NaN       3.0  ORIGINAL    True   \n",
       "1          MECHANICAL  ...  LEFT        NaN       3.0  ORIGINAL    True   \n",
       "2          MECHANICAL  ...  LEFT        NaN       3.0  ORIGINAL    True   \n",
       "\n",
       "  Владение     price            start_date  hidden model  \n",
       "0      NaN  200000.0  2019-10-03T08:09:11Z     NaN   100  \n",
       "1      NaN   60000.0  2020-09-06T06:49:40Z     NaN   100  \n",
       "2      NaN   99000.0  2020-09-02T14:04:21Z     NaN   100  \n",
       "\n",
       "[3 rows x 26 columns]"
      ]
     },
     "metadata": {},
     "output_type": "display_data"
    },
    {
     "data": {
      "text/html": [
       "<div>\n",
       "<style scoped>\n",
       "    .dataframe tbody tr th:only-of-type {\n",
       "        vertical-align: middle;\n",
       "    }\n",
       "\n",
       "    .dataframe tbody tr th {\n",
       "        vertical-align: top;\n",
       "    }\n",
       "\n",
       "    .dataframe thead th {\n",
       "        text-align: right;\n",
       "    }\n",
       "</style>\n",
       "<table border=\"1\" class=\"dataframe\">\n",
       "  <thead>\n",
       "    <tr style=\"text-align: right;\">\n",
       "      <th></th>\n",
       "      <th>bodyType</th>\n",
       "      <th>brand</th>\n",
       "      <th>car_url</th>\n",
       "      <th>color</th>\n",
       "      <th>complectation_dict</th>\n",
       "      <th>description</th>\n",
       "      <th>engineDisplacement</th>\n",
       "      <th>enginePower</th>\n",
       "      <th>equipment_dict</th>\n",
       "      <th>fuelType</th>\n",
       "      <th>...</th>\n",
       "      <th>Владение</th>\n",
       "      <th>ПТС</th>\n",
       "      <th>Привод</th>\n",
       "      <th>Руль</th>\n",
       "      <th>Состояние</th>\n",
       "      <th>Таможня</th>\n",
       "      <th>views</th>\n",
       "      <th>date_added</th>\n",
       "      <th>region</th>\n",
       "      <th>price</th>\n",
       "    </tr>\n",
       "  </thead>\n",
       "  <tbody>\n",
       "    <tr>\n",
       "      <th>0</th>\n",
       "      <td>лифтбек</td>\n",
       "      <td>SKODA</td>\n",
       "      <td>https://auto.ru/cars/used/sale/skoda/octavia/1...</td>\n",
       "      <td>белый</td>\n",
       "      <td>['cruise-control', 'multi-wheel', 'xenon', 'he...</td>\n",
       "      <td>Автомобиль приобретался у официального дилера ...</td>\n",
       "      <td>1.8 LTR</td>\n",
       "      <td>180 N12</td>\n",
       "      <td>{'cruise-control': True, 'asr': True, 'tinted-...</td>\n",
       "      <td>бензин</td>\n",
       "      <td>...</td>\n",
       "      <td>NaN</td>\n",
       "      <td>Оригинал</td>\n",
       "      <td>передний</td>\n",
       "      <td>Левый</td>\n",
       "      <td>Не требует ремонта</td>\n",
       "      <td>Растаможен</td>\n",
       "      <td>76.0</td>\n",
       "      <td>24 сентября</td>\n",
       "      <td>в Тюмени</td>\n",
       "      <td>999000.0</td>\n",
       "    </tr>\n",
       "    <tr>\n",
       "      <th>1</th>\n",
       "      <td>лифтбек</td>\n",
       "      <td>SKODA</td>\n",
       "      <td>https://auto.ru/cars/used/sale/skoda/rapid/110...</td>\n",
       "      <td>белый</td>\n",
       "      <td>['cruise-control', 'multi-wheel', 'heated-wash...</td>\n",
       "      <td>Группа компаний Элан Моторс официальный дилер ...</td>\n",
       "      <td>1.6 LTR</td>\n",
       "      <td>110 N12</td>\n",
       "      <td>{'cruise-control': True, 'glonass': True, 'asr...</td>\n",
       "      <td>бензин</td>\n",
       "      <td>...</td>\n",
       "      <td>NaN</td>\n",
       "      <td>Оригинал</td>\n",
       "      <td>передний</td>\n",
       "      <td>Левый</td>\n",
       "      <td>Не требует ремонта</td>\n",
       "      <td>Растаможен</td>\n",
       "      <td>259.0</td>\n",
       "      <td>24 сентября</td>\n",
       "      <td>в Санкт-Петербурге</td>\n",
       "      <td>1179000.0</td>\n",
       "    </tr>\n",
       "    <tr>\n",
       "      <th>2</th>\n",
       "      <td>лифтбек</td>\n",
       "      <td>SKODA</td>\n",
       "      <td>https://auto.ru/cars/new/group/skoda/rapid/217...</td>\n",
       "      <td>белый</td>\n",
       "      <td>['cruise-control', 'heated-wash-system', 'airb...</td>\n",
       "      <td>Специальные предложения на автомобили в наличи...</td>\n",
       "      <td>1.6 LTR</td>\n",
       "      <td>90 N12</td>\n",
       "      <td>{'cruise-control': True, 'glonass': True, 'esp...</td>\n",
       "      <td>бензин</td>\n",
       "      <td>...</td>\n",
       "      <td>NaN</td>\n",
       "      <td>NaN</td>\n",
       "      <td>NaN</td>\n",
       "      <td>NaN</td>\n",
       "      <td>NaN</td>\n",
       "      <td>NaN</td>\n",
       "      <td>NaN</td>\n",
       "      <td>NaN</td>\n",
       "      <td>NaN</td>\n",
       "      <td>1464100.0</td>\n",
       "    </tr>\n",
       "  </tbody>\n",
       "</table>\n",
       "<p>3 rows × 36 columns</p>\n",
       "</div>"
      ],
      "text/plain": [
       "  bodyType  brand                                            car_url  color  \\\n",
       "0  лифтбек  SKODA  https://auto.ru/cars/used/sale/skoda/octavia/1...  белый   \n",
       "1  лифтбек  SKODA  https://auto.ru/cars/used/sale/skoda/rapid/110...  белый   \n",
       "2  лифтбек  SKODA  https://auto.ru/cars/new/group/skoda/rapid/217...  белый   \n",
       "\n",
       "                                  complectation_dict  \\\n",
       "0  ['cruise-control', 'multi-wheel', 'xenon', 'he...   \n",
       "1  ['cruise-control', 'multi-wheel', 'heated-wash...   \n",
       "2  ['cruise-control', 'heated-wash-system', 'airb...   \n",
       "\n",
       "                                         description engineDisplacement  \\\n",
       "0  Автомобиль приобретался у официального дилера ...            1.8 LTR   \n",
       "1  Группа компаний Элан Моторс официальный дилер ...            1.6 LTR   \n",
       "2  Специальные предложения на автомобили в наличи...            1.6 LTR   \n",
       "\n",
       "  enginePower                                     equipment_dict fuelType  \\\n",
       "0     180 N12  {'cruise-control': True, 'asr': True, 'tinted-...   бензин   \n",
       "1     110 N12  {'cruise-control': True, 'glonass': True, 'asr...   бензин   \n",
       "2      90 N12  {'cruise-control': True, 'glonass': True, 'esp...   бензин   \n",
       "\n",
       "   ... Владение       ПТС    Привод   Руль           Состояние     Таможня  \\\n",
       "0  ...      NaN  Оригинал  передний  Левый  Не требует ремонта  Растаможен   \n",
       "1  ...      NaN  Оригинал  передний  Левый  Не требует ремонта  Растаможен   \n",
       "2  ...      NaN       NaN       NaN    NaN                 NaN         NaN   \n",
       "\n",
       "   views   date_added               region      price  \n",
       "0   76.0  24 сентября             в Тюмени   999000.0  \n",
       "1  259.0  24 сентября   в Санкт-Петербурге  1179000.0  \n",
       "2    NaN          NaN                  NaN  1464100.0  \n",
       "\n",
       "[3 rows x 36 columns]"
      ]
     },
     "metadata": {},
     "output_type": "display_data"
    },
    {
     "data": {
      "text/html": [
       "<div>\n",
       "<style scoped>\n",
       "    .dataframe tbody tr th:only-of-type {\n",
       "        vertical-align: middle;\n",
       "    }\n",
       "\n",
       "    .dataframe tbody tr th {\n",
       "        vertical-align: top;\n",
       "    }\n",
       "\n",
       "    .dataframe thead th {\n",
       "        text-align: right;\n",
       "    }\n",
       "</style>\n",
       "<table border=\"1\" class=\"dataframe\">\n",
       "  <thead>\n",
       "    <tr style=\"text-align: right;\">\n",
       "      <th></th>\n",
       "      <th>bodyType</th>\n",
       "      <th>brand</th>\n",
       "      <th>car_url</th>\n",
       "      <th>color</th>\n",
       "      <th>complectation_dict</th>\n",
       "      <th>description</th>\n",
       "      <th>engineDisplacement</th>\n",
       "      <th>enginePower</th>\n",
       "      <th>equipment_dict</th>\n",
       "      <th>fuelType</th>\n",
       "      <th>...</th>\n",
       "      <th>vehicleConfiguration</th>\n",
       "      <th>vehicleTransmission</th>\n",
       "      <th>vendor</th>\n",
       "      <th>Владельцы</th>\n",
       "      <th>Владение</th>\n",
       "      <th>ПТС</th>\n",
       "      <th>Привод</th>\n",
       "      <th>Руль</th>\n",
       "      <th>Состояние</th>\n",
       "      <th>Таможня</th>\n",
       "    </tr>\n",
       "  </thead>\n",
       "  <tbody>\n",
       "    <tr>\n",
       "      <th>0</th>\n",
       "      <td>лифтбек</td>\n",
       "      <td>SKODA</td>\n",
       "      <td>https://auto.ru/cars/used/sale/skoda/octavia/1...</td>\n",
       "      <td>синий</td>\n",
       "      <td>NaN</td>\n",
       "      <td>Все автомобили, представленные в продаже, прох...</td>\n",
       "      <td>1.2 LTR</td>\n",
       "      <td>105 N12</td>\n",
       "      <td>{\"engine-proof\":true,\"tinted-glass\":true,\"airb...</td>\n",
       "      <td>бензин</td>\n",
       "      <td>...</td>\n",
       "      <td>LIFTBACK ROBOT 1.2</td>\n",
       "      <td>роботизированная</td>\n",
       "      <td>EUROPEAN</td>\n",
       "      <td>3 или более</td>\n",
       "      <td>NaN</td>\n",
       "      <td>Оригинал</td>\n",
       "      <td>передний</td>\n",
       "      <td>Левый</td>\n",
       "      <td>Не требует ремонта</td>\n",
       "      <td>Растаможен</td>\n",
       "    </tr>\n",
       "    <tr>\n",
       "      <th>1</th>\n",
       "      <td>лифтбек</td>\n",
       "      <td>SKODA</td>\n",
       "      <td>https://auto.ru/cars/used/sale/skoda/octavia/1...</td>\n",
       "      <td>чёрный</td>\n",
       "      <td>NaN</td>\n",
       "      <td>ЛОТ: 01217195\\nАвтопрага Север\\nДанный автомоб...</td>\n",
       "      <td>1.6 LTR</td>\n",
       "      <td>110 N12</td>\n",
       "      <td>{\"cruise-control\":true,\"asr\":true,\"esp\":true,\"...</td>\n",
       "      <td>бензин</td>\n",
       "      <td>...</td>\n",
       "      <td>LIFTBACK MECHANICAL 1.6</td>\n",
       "      <td>механическая</td>\n",
       "      <td>EUROPEAN</td>\n",
       "      <td>1 владелец</td>\n",
       "      <td>NaN</td>\n",
       "      <td>Оригинал</td>\n",
       "      <td>передний</td>\n",
       "      <td>Левый</td>\n",
       "      <td>Не требует ремонта</td>\n",
       "      <td>Растаможен</td>\n",
       "    </tr>\n",
       "    <tr>\n",
       "      <th>2</th>\n",
       "      <td>лифтбек</td>\n",
       "      <td>SKODA</td>\n",
       "      <td>https://auto.ru/cars/used/sale/skoda/superb/11...</td>\n",
       "      <td>серый</td>\n",
       "      <td>{\"id\":\"20026336\",\"name\":\"Ambition\",\"available_...</td>\n",
       "      <td>Все автомобили, представленные в продаже, прох...</td>\n",
       "      <td>1.8 LTR</td>\n",
       "      <td>152 N12</td>\n",
       "      <td>{\"cruise-control\":true,\"tinted-glass\":true,\"es...</td>\n",
       "      <td>бензин</td>\n",
       "      <td>...</td>\n",
       "      <td>LIFTBACK ROBOT 1.8</td>\n",
       "      <td>роботизированная</td>\n",
       "      <td>EUROPEAN</td>\n",
       "      <td>1 владелец</td>\n",
       "      <td>NaN</td>\n",
       "      <td>Оригинал</td>\n",
       "      <td>передний</td>\n",
       "      <td>Левый</td>\n",
       "      <td>Не требует ремонта</td>\n",
       "      <td>Растаможен</td>\n",
       "    </tr>\n",
       "  </tbody>\n",
       "</table>\n",
       "<p>3 rows × 32 columns</p>\n",
       "</div>"
      ],
      "text/plain": [
       "  bodyType  brand                                            car_url   color  \\\n",
       "0  лифтбек  SKODA  https://auto.ru/cars/used/sale/skoda/octavia/1...   синий   \n",
       "1  лифтбек  SKODA  https://auto.ru/cars/used/sale/skoda/octavia/1...  чёрный   \n",
       "2  лифтбек  SKODA  https://auto.ru/cars/used/sale/skoda/superb/11...   серый   \n",
       "\n",
       "                                  complectation_dict  \\\n",
       "0                                                NaN   \n",
       "1                                                NaN   \n",
       "2  {\"id\":\"20026336\",\"name\":\"Ambition\",\"available_...   \n",
       "\n",
       "                                         description engineDisplacement  \\\n",
       "0  Все автомобили, представленные в продаже, прох...            1.2 LTR   \n",
       "1  ЛОТ: 01217195\\nАвтопрага Север\\nДанный автомоб...            1.6 LTR   \n",
       "2  Все автомобили, представленные в продаже, прох...            1.8 LTR   \n",
       "\n",
       "  enginePower                                     equipment_dict fuelType  \\\n",
       "0     105 N12  {\"engine-proof\":true,\"tinted-glass\":true,\"airb...   бензин   \n",
       "1     110 N12  {\"cruise-control\":true,\"asr\":true,\"esp\":true,\"...   бензин   \n",
       "2     152 N12  {\"cruise-control\":true,\"tinted-glass\":true,\"es...   бензин   \n",
       "\n",
       "   ...     vehicleConfiguration  vehicleTransmission    vendor    Владельцы  \\\n",
       "0  ...       LIFTBACK ROBOT 1.2     роботизированная  EUROPEAN  3 или более   \n",
       "1  ...  LIFTBACK MECHANICAL 1.6         механическая  EUROPEAN   1 владелец   \n",
       "2  ...       LIFTBACK ROBOT 1.8     роботизированная  EUROPEAN   1 владелец   \n",
       "\n",
       "  Владение       ПТС    Привод   Руль           Состояние     Таможня  \n",
       "0      NaN  Оригинал  передний  Левый  Не требует ремонта  Растаможен  \n",
       "1      NaN  Оригинал  передний  Левый  Не требует ремонта  Растаможен  \n",
       "2      NaN  Оригинал  передний  Левый  Не требует ремонта  Растаможен  \n",
       "\n",
       "[3 rows x 32 columns]"
      ]
     },
     "metadata": {},
     "output_type": "display_data"
    }
   ],
   "source": [
    "# Визуально посмотрим на данные в каждом датасете\n",
    "display(train_basic.head(3))\n",
    "display(train_extra.head(3))\n",
    "display(test.head(3))"
   ]
  },
  {
   "cell_type": "code",
   "execution_count": 5,
   "metadata": {},
   "outputs": [],
   "source": [
    "# Видно, что в \"train_basic\" \"Комплектация\" это \"complectation_dict\", и \"model\" это \"model_name\". Переименуем\n",
    "train_basic.rename(\n",
    "    columns={\n",
    "        \"Комплектация\": \"complectation_dict\",\n",
    "        \"model\": \"model_name\",\n",
    "    },\n",
    "    inplace=True,\n",
    ")"
   ]
  },
  {
   "cell_type": "markdown",
   "metadata": {},
   "source": [
    "# Используемые функции"
   ]
  },
  {
   "cell_type": "code",
   "execution_count": 6,
   "metadata": {},
   "outputs": [],
   "source": [
    "def describe_column(df, column):\n",
    "    \"\"\"\n",
    "    Описание колонки: тип данных, пропуски, разбивка пропусков по датасетам\n",
    "    \"\"\"\n",
    "    total = len(df[column])\n",
    "    nan_count = len(df[df[column].isnull()][column])\n",
    "    nan_count_df0 = len(df[(df[column].isnull()) & (df.data_type == 0)][column])\n",
    "    nan_count_df1 = len(df[(df[column].isnull()) & (df.data_type == 1)][column])\n",
    "    nan_count_df2 = len(df[(df[column].isnull()) & (df.data_type == 2)][column])\n",
    "    print(f\"{'data type':>20}: {str(df[column].dtype)}\")\n",
    "    unique = len(df[column].unique())\n",
    "    print(f\"{'unique values':>20}: {unique}\")\n",
    "    print(f\"{'total':>20}: {total}\")\n",
    "    print(\n",
    "        f\"{column+' nan':>20}: {round(nan_count/total*100,1)}% = {nan_count}\\\n",
    "        ({nan_count_df0}/{nan_count_df1}/{nan_count_df2})\"\n",
    "    )\n",
    "    df[column].value_counts()\n",
    "    if len(df[column].unique()) < 11:\n",
    "        display(df[column].value_counts())\n",
    "\n",
    "\n",
    "def map_rus_to_eng(value, dict_):\n",
    "    \"\"\"\n",
    "    Замена значений по словарю, использовалась для перевод в английский\n",
    "    \"\"\"\n",
    "    if value is np.nan:\n",
    "        return np.nan\n",
    "    if value in list(dict_.values()):\n",
    "        return value\n",
    "    return dict_.get(value, np.nan)\n",
    "\n",
    "\n",
    "def fill_from_groupped_series(groupped_series, brand, model_name, default_value):\n",
    "    \"\"\"\n",
    "    Для заполнения пропусков с учетом группировки по брендам/моделям\n",
    "    \"\"\"\n",
    "    try:\n",
    "        result = groupped_series[brand][model_name].index[0]\n",
    "    except:\n",
    "        result = default_value\n",
    "    return result\n",
    "\n",
    "\n",
    "def var_name(obj):\n",
    "    \"\"\"\n",
    "    Возвращает имя переменной\n",
    "    \"\"\"\n",
    "    return [name for name in globals() if globals()[name] is obj]\n",
    "\n",
    "\n",
    "def print_collums_diff(df1, df2):\n",
    "    \"\"\"\n",
    "    Сравнение двух датасетов с точки зрения колонок\n",
    "    \"\"\"\n",
    "    print(f\"Колонки есть в '{var_name(df1)[0]}', но нет в '{var_name(df2)[0]}':\")\n",
    "    print(\"\\t\", \", \".join(set(df1.columns).difference(set(df2.columns))))\n",
    "    print(f\"Колонки есть в '{var_name(df2)[0]}', но нет в '{var_name(df1)[0]}':\")\n",
    "    print(\"\\t\", \", \".join(set(df2.columns).difference(set(df1.columns))))\n",
    "\n",
    "\n",
    "def text_to_json(value):\n",
    "    \"\"\"\n",
    "    Преобразование словаря из строки в json\n",
    "    \"\"\"\n",
    "    if value is np.nan:\n",
    "        return np.nan\n",
    "\n",
    "    if not isinstance(value, str):\n",
    "        return np.nan\n",
    "\n",
    "    if value[1] == \"'\":\n",
    "        value = value.replace(\"'\", '\"')\n",
    "    value = value.lower()\n",
    "\n",
    "    try:\n",
    "        result = json.loads(value)\n",
    "    except:\n",
    "        return np.nan\n",
    "\n",
    "    return result\n",
    "\n",
    "\n",
    "def equipment_dict_to_set(value):\n",
    "    \"\"\"\n",
    "    Преобразование колонки equipment в set\n",
    "    \"\"\"\n",
    "    result = text_to_json(value)\n",
    "    if result is np.nan:\n",
    "        return set()\n",
    "\n",
    "    if len(result) == 0:\n",
    "        return set()\n",
    "\n",
    "    return set(result.keys())\n",
    "\n",
    "\n",
    "def complectation_dict_to_set(value):\n",
    "    \"\"\"\n",
    "    Преобразование комплектации в set\n",
    "    \"\"\"\n",
    "    result = text_to_json(value)\n",
    "\n",
    "    if result is np.nan:\n",
    "        return set()\n",
    "\n",
    "    if len(result) == 0:\n",
    "        return set()\n",
    "\n",
    "    try:\n",
    "        result = result[\"available_options\"]\n",
    "    except:\n",
    "        return set()\n",
    "\n",
    "    return set(result)\n",
    "\n",
    "\n",
    "def format_engine_power(value):\n",
    "    \"\"\"\n",
    "    Форматирование мощности двигателя.\n",
    "    Если просто число или пропуск, так и оставляем, если это строка, то берем первый элемент\n",
    "    \"\"\"\n",
    "    if value is np.nan:\n",
    "        return np.nan\n",
    "    if isinstance(value, float):\n",
    "        return value\n",
    "    if not isinstance(value, str):\n",
    "        return np.nan\n",
    "    power_value = value.split()[0]\n",
    "    if power_value.isdigit():\n",
    "        return int(power_value)\n",
    "    else:\n",
    "        return np.nan\n",
    "\n",
    "\n",
    "def format_model_name(df, brand, column_name, old_str, new_str):\n",
    "    \"\"\"\n",
    "    Форматирование имени модели по предоставленному словарю. Для замены спецсимволов, пробелов и прочее\n",
    "    \"\"\"\n",
    "    df.loc[df.brand == brand, column_name] = df.loc[df.brand == brand, column_name].str.replace(\n",
    "        old_str, new_str, regex=True\n",
    "    )\n",
    "    return True\n",
    "\n",
    "\n",
    "def format_engine_displacement(value):\n",
    "    \"\"\"\n",
    "    Поиск объема двигателя в строке\n",
    "    \"\"\"\n",
    "    r = re.search(r\"(\\d+\\.\\d+)\", str(value))\n",
    "    if r:\n",
    "        return float(r.group(1))\n",
    "    return np.nan\n",
    "\n",
    "\n",
    "def show_histogram(df, column, limit, bins=100):\n",
    "    \"\"\"\n",
    "    Гистограмма параметра, со статистикой по выбросам и квартилям\n",
    "    \"\"\"\n",
    "    fig, _ = plt.subplots(figsize=(15, 3))\n",
    "    fig.patch.set_facecolor(\"xkcd:white\")\n",
    "    iqr = df[column].quantile(0.75) - df[column].quantile(0.25)\n",
    "    per25 = df[column].quantile(0.25)\n",
    "    per75 = df[column].quantile(0.75)\n",
    "    l_out = per25 - 1.5 * iqr\n",
    "    r_out = per75 + 1.5 * iqr\n",
    "    print(f\"max: {df[column].max()}\")\n",
    "    print(f\"min: {df[column].min()}\")\n",
    "    print(f\"med: {df[column].median()}\")\n",
    "    print(f\"25 percentile: {per25}\")\n",
    "    print(f\"75 percentile: {per75}\")\n",
    "    print(f\"Outlier left: {l_out}\")\n",
    "    print(f\"Outlier left count: {len(df[df[column]<l_out])}\")\n",
    "    print(f\"Outlier right: {r_out}\")\n",
    "    print(f\"Outlier right count: {len(df[df[column]>r_out])}\")\n",
    "\n",
    "    df[column].loc[df[column].between(per25 - 1.5 * iqr, per75 + 1.5 * iqr)].hist(\n",
    "        bins=bins,\n",
    "        range=(0, limit),\n",
    "        label=\"Values\",\n",
    "    )\n",
    "    df[column].loc[df[column] > r_out].hist(alpha=0.5, bins=bins, range=(0, limit), label=\"Right Outliers\")\n",
    "    df[column].loc[df[column] < l_out].hist(alpha=0.5, bins=bins, range=(0, limit), label=\"Left Outliers\")\n",
    "    plt.legend()\n",
    "\n",
    "\n",
    "def mape(y_true: np.ndarray, y_pred: np.ndarray):\n",
    "    \"\"\"\n",
    "    Расчет ошибки Mean Absolute Percentage Error\n",
    "    \"\"\"\n",
    "    return np.mean(np.abs((y_pred - y_true) / y_true))\n",
    "\n",
    "\n",
    "class SeabornFig2Grid:\n",
    "    \"\"\"\n",
    "    Прорисовка двух sbn на одном графике, взят со stackoverflow\n",
    "    \"\"\"\n",
    "\n",
    "    def __init__(self, seaborngrid, fig, subplot_spec):\n",
    "        self.fig = fig\n",
    "        self.sg = seaborngrid\n",
    "        self.subplot = subplot_spec\n",
    "        if isinstance(self.sg, sns.axisgrid.FacetGrid) or isinstance(self.sg, sns.axisgrid.PairGrid):\n",
    "            self._movegrid()\n",
    "        elif isinstance(self.sg, sns.axisgrid.JointGrid):\n",
    "            self._movejointgrid()\n",
    "        self._finalize()\n",
    "\n",
    "    def _movegrid(self):\n",
    "        \"\"\" Move PairGrid or Facetgrid \"\"\"\n",
    "        self._resize()\n",
    "        n = self.sg.axes.shape[0]\n",
    "        m = self.sg.axes.shape[1]\n",
    "        self.subgrid = gridspec.GridSpecFromSubplotSpec(n, m, subplot_spec=self.subplot)\n",
    "        for i in range(n):\n",
    "            for j in range(m):\n",
    "                self._moveaxes(self.sg.axes[i, j], self.subgrid[i, j])\n",
    "\n",
    "    def _movejointgrid(self):\n",
    "        \"\"\" Move Jointgrid \"\"\"\n",
    "        h = self.sg.ax_joint.get_position().height\n",
    "        h2 = self.sg.ax_marg_x.get_position().height\n",
    "        r = int(np.round(h / h2))\n",
    "        self._resize()\n",
    "        self.subgrid = gridspec.GridSpecFromSubplotSpec(r + 1, r + 1, subplot_spec=self.subplot)\n",
    "\n",
    "        self._moveaxes(self.sg.ax_joint, self.subgrid[1:, :-1])\n",
    "        self._moveaxes(self.sg.ax_marg_x, self.subgrid[0, :-1])\n",
    "        self._moveaxes(self.sg.ax_marg_y, self.subgrid[1:, -1])\n",
    "\n",
    "    def _moveaxes(self, ax, gs):\n",
    "        ax.remove()\n",
    "        ax.figure = self.fig\n",
    "        self.fig.axes.append(ax)\n",
    "        self.fig.add_axes(ax)\n",
    "        ax._subplotspec = gs\n",
    "        ax.set_position(gs.get_position(self.fig))\n",
    "        ax.set_subplotspec(gs)\n",
    "\n",
    "    def _finalize(self):\n",
    "        plt.close(self.sg.fig)\n",
    "        self.fig.canvas.mpl_connect(\"resize_event\", self._resize)\n",
    "        self.fig.canvas.draw()\n",
    "\n",
    "    def _resize(self, evt=None):\n",
    "        self.sg.fig.set_size_inches(self.fig.get_size_inches())\n",
    "\n",
    "\n",
    "def kfold_validate(model, X, y, n_splits=4):\n",
    "    \"\"\"\n",
    "    K-Fold валидация, возвращаем лист со списком всех МАРЕ + последний элемент равный среднему МАРЕ.\n",
    "    Если n-splits=4, то будет 4 МАРЕ для каждой итерации + 1 средняя МАРЕ\n",
    "    \"\"\"\n",
    "    skf = KFold(\n",
    "        n_splits=n_splits,\n",
    "        shuffle=True,\n",
    "        random_state=RANDOM_SEED,\n",
    "    )\n",
    "\n",
    "    mape_values = []\n",
    "\n",
    "    for train_index, test_index in skf.split(X, y):\n",
    "        X_train = X.iloc[train_index]\n",
    "        y_train = y.iloc[train_index]\n",
    "        X_test = X.iloc[test_index]\n",
    "        y_test = y.iloc[test_index]\n",
    "\n",
    "        model.fit(X_train, np.log(y_train + 1))\n",
    "\n",
    "        y_pred = np.exp(model.predict(X_test)) - 1\n",
    "\n",
    "        mape_value = mape(y_test, y_pred)\n",
    "        mape_values.append(mape_value)\n",
    "\n",
    "    mape_mean = np.mean(mape_values)\n",
    "    mape_values.append(mape_mean)\n",
    "    return mape_values\n",
    "\n",
    "\n",
    "def parse_super_gen(value):\n",
    "    \"\"\"\n",
    "    Разбор колонки super_gen. Это словарь, из которого пытаемся получить параметры, \n",
    "    которые будем использовать для заполнения пропусков в основных колонках\n",
    "    \"\"\"\n",
    "    result = {}\n",
    "    columns = [\"engine_type\", \"power\", \"transmission\", \"year\", \"km-age\", \"mark\", \"model\", \"state\"]\n",
    "    for column in columns:\n",
    "        result[\"tmp_\" + column] = np.nan\n",
    "\n",
    "    value = text_to_json(value)\n",
    "    if value is np.nan:\n",
    "        return result\n",
    "    if \"sale-data-attributes\" in value:\n",
    "        value = value[\"sale-data-attributes\"]\n",
    "    for column in columns:\n",
    "        result[\"tmp_\" + column] = value.get(column, np.nan)\n",
    "    if result[\"tmp_engine_type\"] is np.nan:\n",
    "        result[\"tmp_engine_type\"] = value.get(\"engine-type\", np.nan)\n",
    "\n",
    "    return result\n"
   ]
  },
  {
   "cell_type": "markdown",
   "metadata": {},
   "source": [
    "# Объеденение датасетов"
   ]
  },
  {
   "cell_type": "code",
   "execution_count": 7,
   "metadata": {},
   "outputs": [
    {
     "name": "stdout",
     "output_type": "stream",
     "text": [
      "Колонки есть в 'train_basic', но нет в 'test':\n",
      "\t hidden, start_date, price\n",
      "Колонки есть в 'test', но нет в 'train_basic':\n",
      "\t super_gen, sell_id, equipment_dict, image, parsing_unixtime, vendor, model_info, car_url, priceCurrency\n",
      "----------\n",
      "Колонки есть в 'train_basic', но нет в 'train_extra':\n",
      "\t hidden, start_date\n",
      "Колонки есть в 'train_extra', но нет в 'train_basic':\n",
      "\t region, super_gen, sell_id, views, equipment_dict, image, date_added, parsing_unixtime, vendor, model_info, car_url, priceCurrency\n",
      "----------\n",
      "Колонки есть в 'test', но нет в 'train_extra':\n",
      "\t \n",
      "Колонки есть в 'train_extra', но нет в 'test':\n",
      "\t views, date_added, region, price\n"
     ]
    }
   ],
   "source": [
    "# проверим, какая разница в столбцах между датасетами\n",
    "print_collums_diff(train_basic, test)\n",
    "print(\"-\" * 10)\n",
    "print_collums_diff(train_basic, train_extra)\n",
    "print(\"-\" * 10)\n",
    "print_collums_diff(test, train_extra)"
   ]
  },
  {
   "cell_type": "markdown",
   "metadata": {},
   "source": [
    "По результатам сравнения колонок делаем изменения:\n",
    "- train_basic:\n",
    "    - hidden: удаляем\n",
    "    - start_date: удаляем\n",
    "    - equipment_dict: добавляем со всем значениями = nan для объеденения датасетов\n",
    "    - super_gen: добавляем со всем значениями = nan для объеденения датасетов\n",
    "    - model_info: добавляем со всем значениями = nan для объеденения датасетов\n",
    "- train_extra:\n",
    "    - image: удаляем\n",
    "    - priceCurrency: удаляем\n",
    "    - vendor: удаляем, определяется производителем (маркой) авто\n",
    "    - car_url: удаляем\n",
    "    - sell_id: удаляем\n",
    "    - views: удаляем\n",
    "    - parsing_unixtime: удаляем\n",
    "    - date_added: удаляем\n",
    "    - region: удаляем\n",
    "- test:\n",
    "    - image: удаляем\n",
    "    - priceCurrency: удаляем\n",
    "    - vendor: удаляем, определяется производителем (маркой) авто\n",
    "    - car_url: удаляем\n",
    "    - sell_id: удаляем\n",
    "    - parsing_unixtime: удаляем\n",
    "    - price: добавляем для объеденения датасетов"
   ]
  },
  {
   "cell_type": "code",
   "execution_count": 8,
   "metadata": {},
   "outputs": [],
   "source": [
    "# удалим описанные выше колонки\n",
    "train_basic.drop(\n",
    "    [\n",
    "        \"hidden\",\n",
    "        \"start_date\",\n",
    "    ],\n",
    "    axis=1,\n",
    "    inplace=True,\n",
    ")\n",
    "train_extra.drop(\n",
    "    [\n",
    "        \"image\",\n",
    "        \"priceCurrency\",\n",
    "        \"vendor\",\n",
    "        \"car_url\",\n",
    "        \"sell_id\",\n",
    "        \"views\",\n",
    "        \"parsing_unixtime\",\n",
    "        \"date_added\",\n",
    "        \"region\",\n",
    "    ],\n",
    "    axis=1,\n",
    "    inplace=True,\n",
    ")\n",
    "test.drop(\n",
    "    [\n",
    "        \"image\",\n",
    "        \"priceCurrency\",\n",
    "        \"vendor\",\n",
    "        \"car_url\",\n",
    "        \"sell_id\",\n",
    "        \"parsing_unixtime\",\n",
    "    ],\n",
    "    axis=1,\n",
    "    inplace=True,\n",
    ")"
   ]
  },
  {
   "cell_type": "code",
   "execution_count": 9,
   "metadata": {},
   "outputs": [],
   "source": [
    "# в \"test\" добавим столбец \"price\" для дальнейшего объединения датасетов,\n",
    "# это наш целевой параметр и он отсутсвует в тестовом датасете\n",
    "test[\"price\"] = 0\n",
    "# в \"train_basic\" добавляем недостающие для объединения столбцы\n",
    "train_basic[\"super_gen\"] = np.nan\n",
    "train_basic[\"model_info\"] = np.nan\n",
    "train_basic[\"equipment_dict\"] = np.nan"
   ]
  },
  {
   "cell_type": "code",
   "execution_count": 10,
   "metadata": {},
   "outputs": [
    {
     "name": "stdout",
     "output_type": "stream",
     "text": [
      "Колонки есть в 'train_basic', но нет в 'test':\n",
      "\t \n",
      "Колонки есть в 'test', но нет в 'train_basic':\n",
      "\t \n",
      "----------\n",
      "Колонки есть в 'train_basic', но нет в 'train_extra':\n",
      "\t \n",
      "Колонки есть в 'train_extra', но нет в 'train_basic':\n",
      "\t \n",
      "----------\n",
      "Колонки есть в 'test', но нет в 'train_extra':\n",
      "\t \n",
      "Колонки есть в 'train_extra', но нет в 'test':\n",
      "\t \n"
     ]
    }
   ],
   "source": [
    "# Проверим еще раз разницу в колонках:\n",
    "print_collums_diff(train_basic, test)\n",
    "print(\"-\" * 10)\n",
    "print_collums_diff(train_basic, train_extra)\n",
    "print(\"-\" * 10)\n",
    "print_collums_diff(test, train_extra)"
   ]
  },
  {
   "cell_type": "code",
   "execution_count": 11,
   "metadata": {},
   "outputs": [],
   "source": [
    "# отличий нет, объединяем, добавив еще признак \"data_type\" для разделения различных датасетов\n",
    "# 0 - тестовый для сабмита\n",
    "# 1 - обучение из base line\n",
    "# 2 - обучение с кагла\n",
    "test[\"data_type\"] = 0\n",
    "train_basic[\"data_type\"] = 1\n",
    "train_extra[\"data_type\"] = 2\n",
    "# и объединим датасеты в один общий\n",
    "df = pd.concat([test, train_basic, train_extra], join=\"inner\", ignore_index=True)\n"
   ]
  },
  {
   "cell_type": "markdown",
   "metadata": {},
   "source": [
    "# Обработка данных\n",
    "Идем по колонкам и чистим данные + заполняем NaN."
   ]
  },
  {
   "cell_type": "markdown",
   "metadata": {},
   "source": [
    "## equipment\n",
    "Есть две колонки, где присутсвует информация о комплектации: \"complectation_dict\" и \"equipment_dict\". Создаем новую колонку \"equipment\" на основе \"equipment_dict\" путем перевода опций авто в set(). Далее \"complectation_dict\" переводим в json и извлекаем лист \"available_options\", который описывает опции и добавляем их в \"equipment\". После этого \"complectation_dict\" и \"equipment_dict\" можно удалять."
   ]
  },
  {
   "cell_type": "code",
   "execution_count": 12,
   "metadata": {},
   "outputs": [],
   "source": [
    "df[\"equipment\"] = df[\"equipment_dict\"].apply(equipment_dict_to_set)\n",
    "df[\"complectation_dict_tmp\"] = df[\"complectation_dict\"].apply(complectation_dict_to_set)\n",
    "df[\"equipment\"] = df.apply(\n",
    "    lambda row: row[\"equipment\"].union(row[\"complectation_dict_tmp\"]),\n",
    "    axis=1,\n",
    ")\n",
    "df.drop(\n",
    "    [\n",
    "        \"complectation_dict_tmp\",\n",
    "        \"complectation_dict\",\n",
    "        \"equipment_dict\",\n",
    "    ],\n",
    "    axis=1,\n",
    "    inplace=True,\n",
    ")"
   ]
  },
  {
   "cell_type": "markdown",
   "metadata": {},
   "source": [
    "## super_gen\n",
    "Есть колонка \"super_gen\", в которой может присутсвовать различная инфоормация: марка/пробег/год выпуска и тд. Попробуем распарсить эту колонку во временные колонки, что бы потом ими воспользоваться для заполнения пропусков:\n",
    "- tmp_engine_type\n",
    "- tmp_engine_power\n",
    "- tmp_transmission\n",
    "- tmp_year\n",
    "- tmp_mileage\n",
    "- tmp_mark\n",
    "- tmp_model\n",
    "- tmp_state\n",
    "\n",
    "\"super_gen\" далее удалим"
   ]
  },
  {
   "cell_type": "code",
   "execution_count": 13,
   "metadata": {},
   "outputs": [],
   "source": [
    "df.super_gen = df.super_gen.apply(parse_super_gen)\n",
    "df = pd.concat(\n",
    "    [df.drop([\"super_gen\"], axis=1), df.super_gen.apply(pd.Series)],\n",
    "    axis=1,\n",
    ")"
   ]
  },
  {
   "cell_type": "markdown",
   "metadata": {},
   "source": [
    "## engine_power\n",
    "Есть две колонки: \"tmp_engine_power\" и \"enginePower\". Форматируем \"enginePower\" в числовое представление. Потом проопуски пытаемся заполнить из на основе \"tmp_engine_power\". Сводим все в колонку \"engine_power\", исходные данные дропаем."
   ]
  },
  {
   "cell_type": "code",
   "execution_count": 14,
   "metadata": {},
   "outputs": [
    {
     "name": "stdout",
     "output_type": "stream",
     "text": [
      "           data type: object\n",
      "       unique values: 735\n",
      "               total: 254265\n",
      "     enginePower nan: 0.1% = 214        (0/1/213)\n"
     ]
    }
   ],
   "source": [
    "# краткая информация о колонке:\n",
    "describe_column(df, \"enginePower\")"
   ]
  },
  {
   "cell_type": "code",
   "execution_count": 15,
   "metadata": {},
   "outputs": [],
   "source": [
    "# пропусков мало, переведем в числовой формат\n",
    "df[\"engine_power\"] = df.enginePower.apply(format_engine_power)"
   ]
  },
  {
   "cell_type": "code",
   "execution_count": 16,
   "metadata": {},
   "outputs": [
    {
     "data": {
      "image/png": "[encoded data removed]",
      "text/plain": [
       "<Figure size 1080x144 with 1 Axes>"
      ]
     },
     "metadata": {},
     "output_type": "display_data"
    }
   ],
   "source": [
    "# оценим, а что там в целом с пропусками в датасете, где пропущен \"engine_power\"\n",
    "fig, ax = plt.subplots(figsize=(15, 2))\n",
    "fig.patch.set_facecolor(\"xkcd:white\")\n",
    "sns.heatmap(df[df.engine_power.isna()].isna(), cbar=False, ax=ax)\n",
    "plt.show()"
   ]
  },
  {
   "cell_type": "code",
   "execution_count": 17,
   "metadata": {},
   "outputs": [],
   "source": [
    "# судя по графику, информация по этим объявлениям отсутсвует полностью.\n",
    "# нет смысла что-то с ними делать, поэтом просто дропнем их, исключив датасет \"test\"\n",
    "df.drop(df[(df.engine_power.isna()) & (df.data_type != 0)].index, inplace=True)\n",
    "# и удалим уже ненужные колонки: оригинальную \"enginePower\" и \"tmp_power\", полученную из \"super_gen\"\n",
    "df.drop([\"tmp_power\", \"enginePower\"], axis=1, inplace=True)\n"
   ]
  },
  {
   "cell_type": "markdown",
   "metadata": {},
   "source": [
    "## brand\n",
    "Есть две колонки: \"tmp_mark\" и \"brand\". Форматируем \"brand\" и смотрим, есть ли пропуски. Если есть, пробуем заполнить из \"tmp_mark\", потом \"tmp_brand\" удаляем."
   ]
  },
  {
   "cell_type": "code",
   "execution_count": 18,
   "metadata": {},
   "outputs": [
    {
     "name": "stdout",
     "output_type": "stream",
     "text": [
      "           data type: object\n",
      "       unique values: 36\n",
      "               total: 254049\n",
      "           brand nan: 0.0% = 0        (0/0/0)\n"
     ]
    }
   ],
   "source": [
    "describe_column(df, \"brand\")"
   ]
  },
  {
   "cell_type": "code",
   "execution_count": 19,
   "metadata": {},
   "outputs": [
    {
     "name": "stdout",
     "output_type": "stream",
     "text": [
      "['SKODA', 'AUDI', 'HONDA', 'VOLVO', 'BMW', 'NISSAN', 'INFINITI', 'MERCEDES', 'TOYOTA', 'LEXUS', 'VOLKSWAGEN', 'MITSUBISHI', 'CADILLAC', 'CHERY', 'CHEVROLET', 'CHRYSLER', 'CITROEN', 'DAEWOO', 'DODGE', 'FORD', 'GEELY', 'HYUNDAI', 'JAGUAR', 'JEEP', 'KIA', 'MAZDA', 'MINI', 'OPEL', 'PEUGEOT', 'PORSCHE', 'RENAULT', 'SUBARU', 'SUZUKI', 'GREAT_WALL', 'LAND_ROVER', 'SSANG_YONG']\n"
     ]
    }
   ],
   "source": [
    "print(list(df.brand.unique()))"
   ]
  },
  {
   "cell_type": "code",
   "execution_count": 20,
   "metadata": {},
   "outputs": [],
   "source": [
    "# видно, что с колонкой \"brand\" все хорошо, пропусков нет\n",
    "# переведем в нижний регистр и удалим \"tmp_mark\"\n",
    "df.brand = df.brand.str.lower()\n",
    "df.drop([\"tmp_mark\"], axis=1, inplace=True)\n"
   ]
  },
  {
   "cell_type": "markdown",
   "metadata": {},
   "source": [
    "## year\n",
    "Есть две колонки: \"productionDate\" и \"tmp_year\" отвечающие за год производства. Форматируем \"productionDate\". Потом проопуски пытаемся заполнить из на основе \"tmp_year\". Сводим все в колонку \"year\", исходные данные дропаем."
   ]
  },
  {
   "cell_type": "code",
   "execution_count": 21,
   "metadata": {},
   "outputs": [
    {
     "name": "stdout",
     "output_type": "stream",
     "text": [
      "           data type: float64\n",
      "       unique values: 81\n",
      "               total: 254049\n",
      "  productionDate nan: 0.0% = 0        (0/0/0)\n"
     ]
    }
   ],
   "source": [
    "describe_column(df, \"productionDate\")"
   ]
  },
  {
   "cell_type": "code",
   "execution_count": 22,
   "metadata": {},
   "outputs": [
    {
     "name": "stdout",
     "output_type": "stream",
     "text": [
      "[2014.0, 2017.0, 2012.0, 2011.0, 2019.0, 2018.0, 2010.0, 2020.0, 2016.0, 2013.0, 2006.0, 2007.0, 2015.0, 2005.0, 2008.0, 2009.0, 1997.0, 2004.0, 2002.0, 1987.0, 2003.0, 2001.0, 1976.0, 2000.0, 1998.0, 1995.0, 1999.0, 1993.0, 1939.0, 1996.0, 1984.0, 1990.0, 1991.0, 1992.0, 1989.0, 1982.0, 1985.0, 1994.0, 1938.0, 1981.0, 1988.0, 1983.0, 1980.0, 1986.0, 1978.0, 1970.0, 1979.0, 1977.0, 1972.0, 1975.0, 1969.0, 1950.0, 1953.0, 1949.0, 1937.0, 1959.0, 1968.0, 1936.0, 1904.0, 1974.0, 1967.0, 1961.0, 1960.0, 1965.0, 1963.0, 1957.0, 1952.0, 1973.0, 1948.0, 1955.0, 1964.0, 1971.0, 1931.0, 1927.0, 1923.0, 1924.0, 1932.0, 1951.0, 1954.0, 1966.0, 2021.0]\n"
     ]
    }
   ],
   "source": [
    "print(list(df.productionDate.unique()))"
   ]
  },
  {
   "cell_type": "code",
   "execution_count": 23,
   "metadata": {},
   "outputs": [],
   "source": [
    "# с годом выпуска машины все хорошо, переименум \"productionDate\" и удалим \"tmp_year\"\n",
    "# преобразовывать в DT не будем, оставим просто числом\n",
    "df.rename(columns={\"productionDate\": \"year\"}, inplace=True)\n",
    "df.drop([\"tmp_year\"], axis=1, inplace=True)\n"
   ]
  },
  {
   "cell_type": "markdown",
   "metadata": {},
   "source": [
    "## model\n",
    "Есть две колонки: \"model_name\" и \"tmp_model\" отвечающие за модель. Как и выше, форматируем \"model_name\", пытаемся заполнить пропуски и удаляем ненужные колонки."
   ]
  },
  {
   "cell_type": "code",
   "execution_count": 24,
   "metadata": {},
   "outputs": [
    {
     "name": "stdout",
     "output_type": "stream",
     "text": [
      "           data type: object\n",
      "       unique values: 1507\n",
      "               total: 254049\n",
      "      model_name nan: 10.6% = 26954        (0/0/26954)\n"
     ]
    }
   ],
   "source": [
    "describe_column(df, \"model_name\")"
   ]
  },
  {
   "cell_type": "code",
   "execution_count": 25,
   "metadata": {},
   "outputs": [],
   "source": [
    "# сначала приводим все к одному регистру, затем разбираемся с пробелами\n",
    "df.model_name = df.model_name.str.lower()\n",
    "df.tmp_model = df.tmp_model.str.lower()"
   ]
  },
  {
   "cell_type": "code",
   "execution_count": 26,
   "metadata": {},
   "outputs": [],
   "source": [
    "# попробуем обработать скобки, пробелы, тире и пр, путем заменой на \"_\" или удаления символа\n",
    "model_dict = {\n",
    "    \"\\+\": \"_plus_\",\n",
    "    \"'\": \"_\",\n",
    "    \"\\s+\": \"_\",\n",
    "    \"-+\": \"_\",\n",
    "    \"\\(|\\)\": \"\",\n",
    "    \":\": \"_\",\n",
    "}\n",
    "for old_str, new_str in model_dict.items():\n",
    "    df.loc[:, \"model_name\"] = df.loc[:, \"model_name\"].str.replace(old_str, new_str, regex=True)\n",
    "    df.loc[:, \"tmp_model\"] = df.loc[:, \"tmp_model\"].str.replace(old_str, new_str, regex=True)\n"
   ]
  },
  {
   "cell_type": "code",
   "execution_count": 27,
   "metadata": {},
   "outputs": [],
   "source": [
    "# # список моделей по брендам, визуально оценим ваиративность написания,\n",
    "# # и далее для каждого бренда попробуем отформатировать названия моделей\n",
    "\n",
    "# for brand in df.brand.unique():\n",
    "#     model_count = str(df.groupby(\"brand\")[\"model_name\"].nunique()[brand])\n",
    "#     pprint(\"-\" * 10 + brand + \"-\" * 10 + \" models count: \" + model_count)\n",
    "#     pprint(sorted(df.loc[(df.brand == brand) & ~(df.model_name.isna()), \"model_name\"].unique()))\n",
    "\n",
    "# for brand in df.brand.unique():\n",
    "#     model_count = str(df.groupby(\"brand\")[\"tmp_model\"].nunique()[brand])\n",
    "#     pprint(\"-\" * 10 + brand + \"-\" * 10 + \" models count: \" + model_count)\n",
    "#     pprint(sorted(df.loc[(df.brand == brand) & ~(df.tmp_model.isna()), \"tmp_model\"].unique()))\n"
   ]
  },
  {
   "cell_type": "code",
   "execution_count": 28,
   "metadata": {},
   "outputs": [],
   "source": [
    "# форматирование моделей для mercedes\n",
    "model_dict = {\n",
    "    \"190_w201\": \"w201\",\n",
    "    \"190_sl\": \"w121\",\n",
    "    \"_класс\": \"\",\n",
    "    \"_klasse\": \"\",\n",
    "    \"_class\": \"\",\n",
    "    \"s_maybach\": \"maybach_s\",\n",
    "    \"^amg_(.*)$\": \"\\\\1_amg\",\n",
    "}\n",
    "\n",
    "for old_str, new_str in model_dict.items():\n",
    "    format_model_name(df, \"mercedes\", \"model_name\", old_str, new_str)\n",
    "    format_model_name(df, \"mercedes\", \"tmp_model\", old_str, new_str)"
   ]
  },
  {
   "cell_type": "code",
   "execution_count": 29,
   "metadata": {},
   "outputs": [],
   "source": [
    "# форматирование моделей для bmw\n",
    "model_dict = {\n",
    "    \"_серии\": \"\",\n",
    "    \"^02$\": \"2\",\n",
    "    \"^3..$\": \"3\",\n",
    "    \"([a-zA-Z]+)tourer\": \"_\\\\1_tourer\",\n",
    "    \"grand_tourer\": \"gran_tourer\",\n",
    "    \"_m$\": \"m\",\n",
    "    \"(\\d)+er$\": \"\\\\1\",\n",
    "}\n",
    "for old_str, new_str in model_dict.items():\n",
    "    format_model_name(df, \"bmw\", \"model_name\", old_str, new_str)\n",
    "    format_model_name(df, \"bmw\", \"tmp_model\", old_str, new_str)\n"
   ]
  },
  {
   "cell_type": "code",
   "execution_count": 30,
   "metadata": {},
   "outputs": [],
   "source": [
    "# форматирование моделей для toyota\n",
    "model_dict = {\"rav4\": \"rav_4\"}\n",
    "for old_str, new_str in model_dict.items():\n",
    "    format_model_name(df, \"toyota\", \"model_name\", old_str, new_str)\n",
    "    format_model_name(df, \"toyota\", \"tmp_model\", old_str, new_str)"
   ]
  },
  {
   "cell_type": "code",
   "execution_count": 31,
   "metadata": {},
   "outputs": [],
   "source": [
    "# форматирование моделей для nissan\n",
    "model_dict = {\"rnessa\": \"r_nessa\"}\n",
    "for old_str, new_str in model_dict.items():\n",
    "    format_model_name(df, \"nissan\", \"model_name\", old_str, new_str)\n",
    "    format_model_name(df, \"nissan\", \"tmp_model\", old_str, new_str)"
   ]
  },
  {
   "cell_type": "code",
   "execution_count": 32,
   "metadata": {},
   "outputs": [],
   "source": [
    "# форматирование моделей для honda\n",
    "model_dict = {\"odyssey_north_america\": \"odyssey_na\"}\n",
    "for old_str, new_str in model_dict.items():\n",
    "    format_model_name(df, \"honda\", \"model_name\", old_str, new_str)\n",
    "    format_model_name(df, \"honda\", \"tmp_model\", old_str, new_str)"
   ]
  },
  {
   "cell_type": "code",
   "execution_count": 33,
   "metadata": {},
   "outputs": [],
   "source": [
    "# форматирование моделей для mitsubishi\n",
    "model_dict = {\"delica_d2\": \"delica_d_2\"}\n",
    "for old_str, new_str in model_dict.items():\n",
    "    format_model_name(df, \"mitsubishi\", \"model_name\", old_str, new_str)\n",
    "    format_model_name(df, \"mitsubishi\", \"tmp_model\", old_str, new_str)"
   ]
  },
  {
   "cell_type": "code",
   "execution_count": 34,
   "metadata": {},
   "outputs": [],
   "source": [
    "# форматирование моделей для audi\n",
    "model_dict = {\"rs_(\\d)\": \"rs\\\\1\", \"rs_q3\": \"rsq3\"}\n",
    "for old_str, new_str in model_dict.items():\n",
    "    format_model_name(df, \"audi\", \"model_name\", old_str, new_str)\n",
    "    format_model_name(df, \"audi\", \"tmp_model\", old_str, new_str)"
   ]
  },
  {
   "cell_type": "code",
   "execution_count": 35,
   "metadata": {},
   "outputs": [],
   "source": [
    "# форматирование моделей для skoda\n",
    "model_dict = {\"105,_120\": \"120\", \"100_series\": \"100\"}\n",
    "for old_str, new_str in model_dict.items():\n",
    "    format_model_name(df, \"skoda\", \"model_name\", old_str, new_str)\n",
    "    format_model_name(df, \"skoda\", \"tmp_model\", old_str, new_str)"
   ]
  },
  {
   "cell_type": "code",
   "execution_count": 36,
   "metadata": {},
   "outputs": [],
   "source": [
    "# форматирование моделей для volvo\n",
    "model_dict = {\"_series\": \"\", \"_cc\": \"_cross_country\"}\n",
    "for old_str, new_str in model_dict.items():\n",
    "    format_model_name(df, \"volvo\", \"model_name\", old_str, new_str)\n",
    "    format_model_name(df, \"volvo\", \"tmp_model\", old_str, new_str)"
   ]
  },
  {
   "cell_type": "code",
   "execution_count": 37,
   "metadata": {},
   "outputs": [
    {
     "name": "stdout",
     "output_type": "stream",
     "text": [
      "           data type: object\n",
      "       unique values: 1143\n",
      "               total: 254049\n",
      "      model_name nan: 10.6% = 26954        (0/0/26954)\n"
     ]
    }
   ],
   "source": [
    "describe_column(df, \"model_name\")"
   ]
  },
  {
   "cell_type": "code",
   "execution_count": 38,
   "metadata": {},
   "outputs": [
    {
     "data": {
      "image/png": "[encoded data removed]",
      "text/plain": [
       "<Figure size 1080x144 with 1 Axes>"
      ]
     },
     "metadata": {},
     "output_type": "display_data"
    }
   ],
   "source": [
    "# моделей стало меньше, форматирование помогло.\n",
    "# пропуски есть, попробуем оценить графически\n",
    "fig, ax = plt.subplots(figsize=(15, 2))\n",
    "fig.patch.set_facecolor(\"xkcd:white\")\n",
    "sns.heatmap(df[df.model_name.isna()].isna(), cbar=False, ax=ax)\n",
    "plt.show()"
   ]
  },
  {
   "cell_type": "code",
   "execution_count": 39,
   "metadata": {},
   "outputs": [],
   "source": [
    "# видно, что пропуски можно заполнить на основе \"tmp_model\"\n",
    "df.model_name.fillna(df.tmp_model, inplace=True)\n",
    "# удалим более не нужную колонку \"tmp_model\"\n",
    "df.drop([\"tmp_model\"], axis=1, inplace=True)\n"
   ]
  },
  {
   "cell_type": "code",
   "execution_count": 40,
   "metadata": {},
   "outputs": [
    {
     "data": {
      "text/plain": [
       "29"
      ]
     },
     "execution_count": 40,
     "metadata": {},
     "output_type": "execute_result"
    }
   ],
   "source": [
    "# посмотрим, сколько пропусков осталось в \"model_name\"\n",
    "df[df.model_name.isna()].shape[0]"
   ]
  },
  {
   "cell_type": "code",
   "execution_count": 41,
   "metadata": {},
   "outputs": [
    {
     "data": {
      "image/png": "[encoded data removed]",
      "text/plain": [
       "<Figure size 1080x144 with 1 Axes>"
      ]
     },
     "metadata": {},
     "output_type": "display_data"
    }
   ],
   "source": [
    "# в графическом виде\n",
    "fig, ax = plt.subplots(figsize=(15, 2))\n",
    "fig.patch.set_facecolor(\"xkcd:white\")\n",
    "sns.heatmap(df[df.model_name.isna()].isna(), cbar=False, ax=ax)\n",
    "plt.show()"
   ]
  },
  {
   "cell_type": "code",
   "execution_count": 42,
   "metadata": {},
   "outputs": [
    {
     "data": {
      "text/plain": [
       "2    29\n",
       "Name: data_type, dtype: int64"
      ]
     },
     "execution_count": 42,
     "metadata": {},
     "output_type": "execute_result"
    }
   ],
   "source": [
    "# видно, что записей с пропусками всего 29. и у них у всех отсутсвует \"price\", т.е. для нас эти записи бесполезны,\n",
    "# проверим, что среди этих записей нет тестового датасета\n",
    "df[df.model_name.isna()].data_type.value_counts()"
   ]
  },
  {
   "cell_type": "code",
   "execution_count": 43,
   "metadata": {},
   "outputs": [],
   "source": [
    "# и удалим пропуски\n",
    "df.drop(df[(df.model_name.isna()) & (df.data_type != 0)].index, inplace=True)"
   ]
  },
  {
   "cell_type": "markdown",
   "metadata": {},
   "source": [
    "## body_type (bodyType)\n",
    "Тип кузова, пропусков нет. Форматируем следующим образом: все в lowercase и берем только первое слово, так как оно отвечает за тип."
   ]
  },
  {
   "cell_type": "code",
   "execution_count": 44,
   "metadata": {},
   "outputs": [
    {
     "name": "stdout",
     "output_type": "stream",
     "text": [
      "           data type: object\n",
      "       unique values: 192\n",
      "               total: 254020\n",
      "       body_type nan: 0.0% = 0        (0/0/0)\n"
     ]
    }
   ],
   "source": [
    "# сменим название на snake_case\n",
    "df.rename(columns={\"bodyType\": \"body_type\"}, inplace=True)\n",
    "describe_column(df, \"body_type\")"
   ]
  },
  {
   "cell_type": "code",
   "execution_count": 45,
   "metadata": {},
   "outputs": [],
   "source": [
    "# # Посмотрим список всех типов кузова\n",
    "# pprint(sorted(list(df.body_type.unique())))"
   ]
  },
  {
   "cell_type": "code",
   "execution_count": 46,
   "metadata": {},
   "outputs": [],
   "source": [
    "# регистр\n",
    "df.body_type = df.body_type.str.lower()\n",
    "# берем первое слово\n",
    "df.body_type = df.body_type.apply(lambda x: x.split()[0].strip())\n",
    "df.body_type = df.body_type.apply(lambda x: x.split(\"-\")[0].strip())"
   ]
  },
  {
   "cell_type": "code",
   "execution_count": 47,
   "metadata": {},
   "outputs": [
    {
     "name": "stdout",
     "output_type": "stream",
     "text": [
      "           data type: object\n",
      "       unique values: 16\n",
      "               total: 254020\n",
      "       body_type nan: 0.0% = 0        (0/0/0)\n"
     ]
    }
   ],
   "source": [
    "# пропусков нет\n",
    "describe_column(df, \"body_type\")"
   ]
  },
  {
   "cell_type": "markdown",
   "metadata": {},
   "source": [
    "## color\n",
    "цвет есть текстом и хексом. Пропусков нет, приводим все к одному виду."
   ]
  },
  {
   "cell_type": "code",
   "execution_count": 48,
   "metadata": {},
   "outputs": [
    {
     "name": "stdout",
     "output_type": "stream",
     "text": [
      "           data type: object\n",
      "       unique values: 32\n",
      "               total: 254020\n",
      "           color nan: 0.0% = 0        (0/0/0)\n"
     ]
    }
   ],
   "source": [
    "describe_column(df, \"color\")"
   ]
  },
  {
   "cell_type": "code",
   "execution_count": 49,
   "metadata": {},
   "outputs": [
    {
     "name": "stdout",
     "output_type": "stream",
     "text": [
      "['синий', 'чёрный', 'серый', 'коричневый', 'белый', 'пурпурный', 'бежевый', 'серебристый', 'красный', 'зелёный', 'жёлтый', 'голубой', 'оранжевый', 'фиолетовый', 'золотистый', 'розовый', '040001', 'EE1D19', '0000CC', 'CACECB', '007F00', 'FAFBFB', '97948F', '22A0F8', '660099', '200204', 'C49648', 'DEA522', '4A2197', 'FFD600', 'FF8649', 'FFC0CB']\n"
     ]
    }
   ],
   "source": [
    "# пропусков нет, возможные значения\n",
    "print(list(df.color.unique()))"
   ]
  },
  {
   "cell_type": "code",
   "execution_count": 50,
   "metadata": {},
   "outputs": [],
   "source": [
    "# словарь для замены цвета на текст, ограничимся только нашими данными\n",
    "color_dict = {\n",
    "    \"040001\": \"чёрный\",\n",
    "    \"EE1D19\": \"красный\",\n",
    "    \"0000CC\": \"синий\",\n",
    "    \"CACECB\": \"серебристый\",\n",
    "    \"007F00\": \"зелёный\",\n",
    "    \"FAFBFB\": \"белый\",\n",
    "    \"97948F\": \"серый\",\n",
    "    \"22A0F8\": \"голубой\",\n",
    "    \"660099\": \"пурпурный\",\n",
    "    \"200204\": \"коричневый\",\n",
    "    \"C49648\": \"бежевый\",\n",
    "    \"DEA522\": \"золотистый\",\n",
    "    \"4A2197\": \"фиолетовый\",\n",
    "    \"FFD600\": \"жёлтый\",\n",
    "    \"FF8649\": \"оранжевый\",\n",
    "    \"FFC0CB\": \"розовый\",\n",
    "}\n",
    "df.color.replace(to_replace=color_dict, inplace=True)\n"
   ]
  },
  {
   "cell_type": "code",
   "execution_count": 51,
   "metadata": {},
   "outputs": [
    {
     "name": "stdout",
     "output_type": "stream",
     "text": [
      "           data type: object\n",
      "       unique values: 16\n",
      "               total: 254020\n",
      "           color nan: 0.0% = 0        (0/0/0)\n"
     ]
    }
   ],
   "source": [
    "describe_column(df, \"color\")"
   ]
  },
  {
   "cell_type": "markdown",
   "metadata": {},
   "source": [
    "## fuel_type\n",
    "тип топлива (двигателя)"
   ]
  },
  {
   "cell_type": "code",
   "execution_count": 52,
   "metadata": {},
   "outputs": [
    {
     "name": "stdout",
     "output_type": "stream",
     "text": [
      "           data type: object\n",
      "       unique values: 5\n",
      "               total: 254020\n",
      "     engine_type nan: 0.0% = 0        (0/0/0)\n"
     ]
    },
    {
     "data": {
      "text/plain": [
       "бензин     204034\n",
       "дизель      47801\n",
       "гибрид       1584\n",
       "электро       581\n",
       "газ            20\n",
       "Name: engine_type, dtype: int64"
      ]
     },
     "metadata": {},
     "output_type": "display_data"
    }
   ],
   "source": [
    "df.rename(columns={\"fuelType\": \"engine_type\"}, inplace=True)\n",
    "describe_column(df, \"engine_type\")"
   ]
  },
  {
   "cell_type": "code",
   "execution_count": 53,
   "metadata": {},
   "outputs": [],
   "source": [
    "# пропусков нет, заменим rus->eng\n",
    "engine_type_dict = {\n",
    "    \"бензин\": \"gasoline\",\n",
    "    \"дизель\": \"diesel\",\n",
    "    \"гибрид\": \"hybrid\",\n",
    "    \"электро\": \"electro\",\n",
    "    \"газ\": \"lpg\",\n",
    "}\n",
    "\n",
    "df.engine_type = df.engine_type.apply(map_rus_to_eng, args=(engine_type_dict,))"
   ]
  },
  {
   "cell_type": "code",
   "execution_count": 54,
   "metadata": {},
   "outputs": [],
   "source": [
    "# удалим ненужную колонку\n",
    "df.drop([\"tmp_engine_type\"], axis=1, inplace=True)\n"
   ]
  },
  {
   "cell_type": "markdown",
   "metadata": {},
   "source": [
    "## engine_displacement\n",
    "объем двигателя. парсим объем во float. пропуски в конце попробуем заполнить на основе модели и мощности двигателя."
   ]
  },
  {
   "cell_type": "code",
   "execution_count": 55,
   "metadata": {},
   "outputs": [
    {
     "name": "stdout",
     "output_type": "stream",
     "text": [
      "           data type: object\n",
      "       unique values: 589\n",
      "               total: 254020\n",
      "engine_displacement nan: 0.0% = 0        (0/0/0)\n"
     ]
    }
   ],
   "source": [
    "df.rename(columns={\"engineDisplacement\": \"engine_displacement\"}, inplace=True)\n",
    "describe_column(df, \"engine_displacement\")"
   ]
  },
  {
   "cell_type": "code",
   "execution_count": 56,
   "metadata": {},
   "outputs": [],
   "source": [
    "# форматируем данные\n",
    "df.engine_displacement = df.engine_displacement.apply(format_engine_displacement)"
   ]
  },
  {
   "cell_type": "code",
   "execution_count": 57,
   "metadata": {},
   "outputs": [
    {
     "data": {
      "text/plain": [
       "1    21068\n",
       "2      415\n",
       "0       55\n",
       "Name: data_type, dtype: int64"
      ]
     },
     "execution_count": 57,
     "metadata": {},
     "output_type": "execute_result"
    }
   ],
   "source": [
    "# посмотрим, сколько пропусков осталось в каждом из типов датасетов\n",
    "# видим, что подавляющее большенство получилось от train_basic.\n",
    "df[df.engine_displacement.isna()].data_type.value_counts()"
   ]
  },
  {
   "cell_type": "code",
   "execution_count": 58,
   "metadata": {},
   "outputs": [
    {
     "data": {
      "text/plain": [
       "name                  520i 2.0 AT (184 л.с.)\n",
       "engineDisplacement                      520i\n",
       "Name: 6231, dtype: object"
      ]
     },
     "execution_count": 58,
     "metadata": {},
     "output_type": "execute_result"
    }
   ],
   "source": [
    "# если посмотреть исходный датасет (\"train_dasic\"=1), то видно, что в нем изначально\n",
    "# вместо объема двигателя была модель и объем может быть получен из колонки \"name\"\n",
    "train_basic.loc[6231, [\"name\", \"engineDisplacement\"]]\n"
   ]
  },
  {
   "cell_type": "code",
   "execution_count": 59,
   "metadata": {},
   "outputs": [],
   "source": [
    "# заполним пропуски колонкой \"name\" и снова отформатируем значениия\n",
    "df.engine_displacement.fillna(df.name, inplace=True)\n",
    "df.engine_displacement = df.engine_displacement.apply(format_engine_displacement)"
   ]
  },
  {
   "cell_type": "code",
   "execution_count": 60,
   "metadata": {},
   "outputs": [
    {
     "data": {
      "text/plain": [
       "2    413\n",
       "1    109\n",
       "0     55\n",
       "Name: data_type, dtype: int64"
      ]
     },
     "execution_count": 60,
     "metadata": {},
     "output_type": "execute_result"
    }
   ],
   "source": [
    "df[df.engine_displacement.isna()].data_type.value_counts()"
   ]
  },
  {
   "cell_type": "code",
   "execution_count": 61,
   "metadata": {},
   "outputs": [
    {
     "data": {
      "text/plain": [
       "array(['electro'], dtype=object)"
      ]
     },
     "execution_count": 61,
     "metadata": {},
     "output_type": "execute_result"
    }
   ],
   "source": [
    "# стало лучше. но все равно есть пропуски\n",
    "# теперь посмотрим, что за тип двигатели у записей с пропусками\n",
    "df[df.engine_displacement.isna()].engine_type.unique()"
   ]
  },
  {
   "cell_type": "code",
   "execution_count": 62,
   "metadata": {},
   "outputs": [],
   "source": [
    "# только электрокары, для них этот параметр не актуален, поэтом просто заполним пропуски нулями\n",
    "df.engine_displacement.fillna(0, inplace=True)"
   ]
  },
  {
   "cell_type": "markdown",
   "metadata": {},
   "source": [
    "## mileage\n",
    "пробег"
   ]
  },
  {
   "cell_type": "code",
   "execution_count": 63,
   "metadata": {},
   "outputs": [
    {
     "name": "stdout",
     "output_type": "stream",
     "text": [
      "           data type: float64\n",
      "       unique values: 36560\n",
      "               total: 254020\n",
      "         mileage nan: 10.6% = 26925        (0/0/26925)\n"
     ]
    }
   ],
   "source": [
    "# посмотрим характеристики стобца\n",
    "describe_column(df, \"mileage\")"
   ]
  },
  {
   "cell_type": "code",
   "execution_count": 64,
   "metadata": {},
   "outputs": [
    {
     "data": {
      "text/plain": [
       "array(['new'], dtype=object)"
      ]
     },
     "execution_count": 64,
     "metadata": {},
     "output_type": "execute_result"
    }
   ],
   "source": [
    "# пропусков достаточно много, но все они из \"train_extra\", ранее мы парсили \"super_gen\" и там была опция \"state\"\n",
    "# посмотрим, какие статусы у авто с пропусками пробега\n",
    "df[df.mileage.isna()].tmp_state.unique()"
   ]
  },
  {
   "cell_type": "code",
   "execution_count": 65,
   "metadata": {},
   "outputs": [],
   "source": [
    "# получается все пропуски это новые авто, заполним все пропуски пробега нулями\n",
    "# вероятно test и train_basic собирались только по подержанным авто, а train_extra по новым и подерджанным\n",
    "# возможно стоит в будущем сравнить результаты с и без новых авто\n",
    "# преобразовывать в DT не будем, оставим просто числом\n",
    "df.mileage.fillna(0, inplace=True)"
   ]
  },
  {
   "cell_type": "code",
   "execution_count": 66,
   "metadata": {},
   "outputs": [],
   "source": [
    "df.drop([\"tmp_km-age\"], axis=1, inplace=True)"
   ]
  },
  {
   "cell_type": "markdown",
   "metadata": {},
   "source": [
    "## model_date (modelDate)\n",
    "Модельный год. У нас есть год выпуска авто, это более важнный фактор для цены. Скорее всего просто удалим этот столбец, но в конце, когда посмотрим на общую картину, построим матрцу корреляции и проведем feature engineering"
   ]
  },
  {
   "cell_type": "code",
   "execution_count": 67,
   "metadata": {},
   "outputs": [
    {
     "name": "stdout",
     "output_type": "stream",
     "text": [
      "           data type: float64\n",
      "       unique values: 80\n",
      "               total: 254020\n",
      "      model_date nan: 0.0% = 0        (0/0/0)\n"
     ]
    }
   ],
   "source": [
    "df.rename(columns={\"modelDate\": \"model_date\"}, inplace=True)\n",
    "describe_column(df, \"model_date\")"
   ]
  },
  {
   "cell_type": "code",
   "execution_count": 68,
   "metadata": {},
   "outputs": [
    {
     "data": {
      "text/plain": [
       "1.0    16\n",
       "2.0     7\n",
       "3.0     2\n",
       "dtype: int64"
      ]
     },
     "execution_count": 68,
     "metadata": {},
     "output_type": "execute_result"
    }
   ],
   "source": [
    "# пропусков нет\n",
    "# приверим, есть ли машины у которых год выпуска старше, чем модельный год, и на сколько расхождение\n",
    "(df[df.model_date > df.year].model_date - df[df.model_date > df.year].year).value_counts()"
   ]
  },
  {
   "cell_type": "code",
   "execution_count": 69,
   "metadata": {},
   "outputs": [],
   "source": [
    "# в основном это ошибка на 1 год, поэтому заменним для этих машин год выпуска на модельный\n",
    "df.loc[df.year - df.model_date < 0, \"year\"] = df.loc[df.year - df.model_date < 0, \"model_date\"]\n"
   ]
  },
  {
   "cell_type": "markdown",
   "metadata": {},
   "source": [
    "## model_info\n",
    "дропаем колонку, модель/производитель у нас уже заполнены, больше в \"model_info\" интересной информации нет"
   ]
  },
  {
   "cell_type": "code",
   "execution_count": 70,
   "metadata": {},
   "outputs": [],
   "source": [
    "df.drop([\"model_info\"], axis=1, inplace=True)"
   ]
  },
  {
   "cell_type": "markdown",
   "metadata": {},
   "source": [
    "## name\n",
    "аналогично, модель/производитель/двигатель у нас уже заполнены, больше в \"name\" интересной информации нет"
   ]
  },
  {
   "cell_type": "code",
   "execution_count": 71,
   "metadata": {},
   "outputs": [],
   "source": [
    "df.drop([\"name\"], axis=1, inplace=True)"
   ]
  },
  {
   "cell_type": "markdown",
   "metadata": {},
   "source": [
    "## number_of_doors (numberOfDoors)\n",
    "число дверей"
   ]
  },
  {
   "cell_type": "code",
   "execution_count": 72,
   "metadata": {},
   "outputs": [
    {
     "name": "stdout",
     "output_type": "stream",
     "text": [
      "           data type: float64\n",
      "       unique values: 5\n",
      "               total: 254020\n",
      " number_of_doors nan: 0.0% = 0        (0/0/0)\n"
     ]
    },
    {
     "data": {
      "text/plain": [
       "5.0    160993\n",
       "4.0     82898\n",
       "2.0      6023\n",
       "3.0      4104\n",
       "0.0         2\n",
       "Name: number_of_doors, dtype: int64"
      ]
     },
     "metadata": {},
     "output_type": "display_data"
    }
   ],
   "source": [
    "df.rename(columns={\"numberOfDoors\": \"number_of_doors\"}, inplace=True)\n",
    "describe_column(df, \"number_of_doors\")"
   ]
  },
  {
   "cell_type": "code",
   "execution_count": 73,
   "metadata": {},
   "outputs": [
    {
     "data": {
      "text/html": [
       "<div>\n",
       "<style scoped>\n",
       "    .dataframe tbody tr th:only-of-type {\n",
       "        vertical-align: middle;\n",
       "    }\n",
       "\n",
       "    .dataframe tbody tr th {\n",
       "        vertical-align: top;\n",
       "    }\n",
       "\n",
       "    .dataframe thead th {\n",
       "        text-align: right;\n",
       "    }\n",
       "</style>\n",
       "<table border=\"1\" class=\"dataframe\">\n",
       "  <thead>\n",
       "    <tr style=\"text-align: right;\">\n",
       "      <th></th>\n",
       "      <th>body_type</th>\n",
       "      <th>brand</th>\n",
       "      <th>color</th>\n",
       "      <th>description</th>\n",
       "      <th>engine_displacement</th>\n",
       "      <th>engine_type</th>\n",
       "      <th>mileage</th>\n",
       "      <th>model_date</th>\n",
       "      <th>model_name</th>\n",
       "      <th>number_of_doors</th>\n",
       "      <th>...</th>\n",
       "      <th>Привод</th>\n",
       "      <th>Руль</th>\n",
       "      <th>Состояние</th>\n",
       "      <th>Таможня</th>\n",
       "      <th>price</th>\n",
       "      <th>data_type</th>\n",
       "      <th>equipment</th>\n",
       "      <th>tmp_transmission</th>\n",
       "      <th>tmp_state</th>\n",
       "      <th>engine_power</th>\n",
       "    </tr>\n",
       "  </thead>\n",
       "  <tbody>\n",
       "    <tr>\n",
       "      <th>16944</th>\n",
       "      <td>кабриолет</td>\n",
       "      <td>mercedes</td>\n",
       "      <td>белый</td>\n",
       "      <td>на ходу. 1904 год. стоит в гараже, пылится.Кат...</td>\n",
       "      <td>5.3</td>\n",
       "      <td>gasoline</td>\n",
       "      <td>48000.0</td>\n",
       "      <td>1904.0</td>\n",
       "      <td>simplex</td>\n",
       "      <td>0.0</td>\n",
       "      <td>...</td>\n",
       "      <td>задний</td>\n",
       "      <td>Правый</td>\n",
       "      <td>Не требует ремонта</td>\n",
       "      <td>Растаможен</td>\n",
       "      <td>0.0</td>\n",
       "      <td>0</td>\n",
       "      <td>{}</td>\n",
       "      <td>mechanical</td>\n",
       "      <td>NaN</td>\n",
       "      <td>32.0</td>\n",
       "    </tr>\n",
       "    <tr>\n",
       "      <th>122751</th>\n",
       "      <td>кабриолет</td>\n",
       "      <td>mercedes</td>\n",
       "      <td>белый</td>\n",
       "      <td>на ходу. 1904 год. стоит в гараже, пылится.Кат...</td>\n",
       "      <td>5.3</td>\n",
       "      <td>gasoline</td>\n",
       "      <td>48000.0</td>\n",
       "      <td>1904.0</td>\n",
       "      <td>simplex</td>\n",
       "      <td>0.0</td>\n",
       "      <td>...</td>\n",
       "      <td>задний</td>\n",
       "      <td>RIGHT</td>\n",
       "      <td>NaN</td>\n",
       "      <td>True</td>\n",
       "      <td>12000000.0</td>\n",
       "      <td>1</td>\n",
       "      <td>{}</td>\n",
       "      <td>NaN</td>\n",
       "      <td>NaN</td>\n",
       "      <td>32.0</td>\n",
       "    </tr>\n",
       "  </tbody>\n",
       "</table>\n",
       "<p>2 rows × 26 columns</p>\n",
       "</div>"
      ],
      "text/plain": [
       "        body_type     brand  color  \\\n",
       "16944   кабриолет  mercedes  белый   \n",
       "122751  кабриолет  mercedes  белый   \n",
       "\n",
       "                                              description  \\\n",
       "16944   на ходу. 1904 год. стоит в гараже, пылится.Кат...   \n",
       "122751  на ходу. 1904 год. стоит в гараже, пылится.Кат...   \n",
       "\n",
       "        engine_displacement engine_type  mileage  model_date model_name  \\\n",
       "16944                   5.3    gasoline  48000.0      1904.0    simplex   \n",
       "122751                  5.3    gasoline  48000.0      1904.0    simplex   \n",
       "\n",
       "        number_of_doors  ...  Привод    Руль           Состояние     Таможня  \\\n",
       "16944               0.0  ...  задний  Правый  Не требует ремонта  Растаможен   \n",
       "122751              0.0  ...  задний   RIGHT                 NaN        True   \n",
       "\n",
       "             price data_type equipment tmp_transmission tmp_state engine_power  \n",
       "16944          0.0         0        {}       mechanical       NaN         32.0  \n",
       "122751  12000000.0         1        {}              NaN       NaN         32.0  \n",
       "\n",
       "[2 rows x 26 columns]"
      ]
     },
     "execution_count": 73,
     "metadata": {},
     "output_type": "execute_result"
    }
   ],
   "source": [
    "# машины без дверей\n",
    "df[df.number_of_doors == 0]\n"
   ]
  },
  {
   "cell_type": "code",
   "execution_count": 74,
   "metadata": {},
   "outputs": [],
   "source": [
    "# оба кабриолеты, там, как минимум 2 двери есть, правим это\n",
    "df.loc[df.number_of_doors == 0, \"number_of_doors\"] = 2\n"
   ]
  },
  {
   "cell_type": "markdown",
   "metadata": {},
   "source": [
    "## vehicleConfiguration\n",
    "описание авто: модель/объем двигателя/трансмиссия. у нас уже это все есть, удаляем"
   ]
  },
  {
   "cell_type": "code",
   "execution_count": 75,
   "metadata": {},
   "outputs": [],
   "source": [
    "df.drop([\"vehicleConfiguration\"], axis=1, inplace=True)"
   ]
  },
  {
   "cell_type": "markdown",
   "metadata": {},
   "source": [
    "## transmission\n",
    "тип трансмиссии"
   ]
  },
  {
   "cell_type": "code",
   "execution_count": 76,
   "metadata": {},
   "outputs": [
    {
     "name": "stdout",
     "output_type": "stream",
     "text": [
      "           data type: object\n",
      "       unique values: 8\n",
      "               total: 254020\n",
      "    transmission nan: 0.0% = 0        (0/0/0)\n"
     ]
    },
    {
     "data": {
      "text/plain": [
       "автоматическая      93424\n",
       "AUTOMATIC           49218\n",
       "вариатор            28446\n",
       "MECHANICAL          25264\n",
       "механическая        22694\n",
       "роботизированная    20079\n",
       "ROBOT                7871\n",
       "VARIATOR             7024\n",
       "Name: transmission, dtype: int64"
      ]
     },
     "metadata": {},
     "output_type": "display_data"
    }
   ],
   "source": [
    "df.rename(columns={\"vehicleTransmission\": \"transmission\"}, inplace=True)\n",
    "describe_column(df, \"transmission\")"
   ]
  },
  {
   "cell_type": "code",
   "execution_count": 77,
   "metadata": {},
   "outputs": [],
   "source": [
    "# меняем регистр и переводим все в английские имена\n",
    "df.transmission = df.transmission.str.lower()\n",
    "\n",
    "transmission_dict = {\n",
    "    \"механическая\": \"mechanical\",\n",
    "    \"автоматическая\": \"automatic\",\n",
    "    \"вариатор\": \"variator\",\n",
    "    \"роботизированная\": \"robot\",\n",
    "}\n",
    "\n",
    "df.transmission = df.transmission.apply(map_rus_to_eng, args=(transmission_dict,))"
   ]
  },
  {
   "cell_type": "code",
   "execution_count": 78,
   "metadata": {},
   "outputs": [
    {
     "name": "stdout",
     "output_type": "stream",
     "text": [
      "           data type: object\n",
      "       unique values: 4\n",
      "               total: 254020\n",
      "    transmission nan: 0.0% = 0        (0/0/0)\n"
     ]
    },
    {
     "data": {
      "text/plain": [
       "automatic     142642\n",
       "mechanical     47958\n",
       "variator       35470\n",
       "robot          27950\n",
       "Name: transmission, dtype: int64"
      ]
     },
     "metadata": {},
     "output_type": "display_data"
    }
   ],
   "source": [
    "# финальная проверка\n",
    "describe_column(df, \"transmission\")"
   ]
  },
  {
   "cell_type": "code",
   "execution_count": 79,
   "metadata": {},
   "outputs": [],
   "source": [
    "# удаляем ненужную информацию\n",
    "df.drop([\"tmp_transmission\"], axis=1, inplace=True)"
   ]
  },
  {
   "cell_type": "markdown",
   "metadata": {},
   "source": [
    "## state_new (tmp_state)\n",
    "состояние (новый/подержанная). Эта информация так же опеределяется из пробега, но обработаем столбец и пока оставим. "
   ]
  },
  {
   "cell_type": "code",
   "execution_count": 80,
   "metadata": {},
   "outputs": [
    {
     "name": "stdout",
     "output_type": "stream",
     "text": [
      "           data type: object\n",
      "       unique values: 3\n",
      "               total: 254020\n",
      "       state_new nan: 48.9% = 124124        (34686/89377/61)\n"
     ]
    },
    {
     "data": {
      "text/plain": [
       "used    102971\n",
       "new      26925\n",
       "Name: state_new, dtype: int64"
      ]
     },
     "metadata": {},
     "output_type": "display_data"
    }
   ],
   "source": [
    "df.rename(columns={\"tmp_state\": \"state_new\"}, inplace=True)\n",
    "describe_column(df, \"state_new\")"
   ]
  },
  {
   "cell_type": "code",
   "execution_count": 81,
   "metadata": {},
   "outputs": [],
   "source": [
    "# пропусков много, но варианта всего два: новая/подержанная, заполним пропуски на основе пробега\n",
    "df.loc[df.state_new.isna(), \"state_new\"] = np.where(df.loc[df.state_new.isna(), \"mileage\"] == 0, \"new\", \"used\")"
   ]
  },
  {
   "cell_type": "code",
   "execution_count": 82,
   "metadata": {},
   "outputs": [],
   "source": [
    "df.state_new = df.state_new.apply(lambda value: 1 if value == \"new\" else 0)\n"
   ]
  },
  {
   "cell_type": "code",
   "execution_count": 83,
   "metadata": {},
   "outputs": [
    {
     "name": "stdout",
     "output_type": "stream",
     "text": [
      "           data type: int64\n",
      "       unique values: 2\n",
      "               total: 254020\n",
      "       state_new nan: 0.0% = 0        (0/0/0)\n"
     ]
    },
    {
     "data": {
      "text/plain": [
       "0    213507\n",
       "1     40513\n",
       "Name: state_new, dtype: int64"
      ]
     },
     "metadata": {},
     "output_type": "display_data"
    }
   ],
   "source": [
    "describe_column(df, \"state_new\")"
   ]
  },
  {
   "cell_type": "markdown",
   "metadata": {},
   "source": [
    "## owners\n",
    "число владельцев. помним, что у нас есть новые машины, поэтомы возможные пропуски в первую очередь проверим на состояние машины (новая или нет) и заполним нулями для новых авто. все остальное пропуски заполним единицами."
   ]
  },
  {
   "cell_type": "code",
   "execution_count": 84,
   "metadata": {},
   "outputs": [
    {
     "name": "stdout",
     "output_type": "stream",
     "text": [
      "           data type: object\n",
      "       unique values: 9\n",
      "               total: 254020\n",
      "          owners nan: 15.9% = 40513        (0/13588/26925)\n"
     ]
    },
    {
     "data": {
      "text/plain": [
       "3 или более    49759\n",
       "1 владелец     40575\n",
       "3.0            36247\n",
       "2 владельца    28655\n",
       "2.0            21006\n",
       "1.0            18536\n",
       "1 владелец      9459\n",
       "2 владельца     9270\n",
       "Name: owners, dtype: int64"
      ]
     },
     "metadata": {},
     "output_type": "display_data"
    }
   ],
   "source": [
    "df.rename(columns={\"Владельцы\": \"owners\"}, inplace=True)\n",
    "describe_column(df, \"owners\")"
   ]
  },
  {
   "cell_type": "code",
   "execution_count": 85,
   "metadata": {},
   "outputs": [
    {
     "data": {
      "text/plain": [
       "1    40513\n",
       "Name: state_new, dtype: int64"
      ]
     },
     "execution_count": 85,
     "metadata": {},
     "output_type": "execute_result"
    }
   ],
   "source": [
    "df[df.owners.isna()].state_new.value_counts()"
   ]
  },
  {
   "cell_type": "code",
   "execution_count": 86,
   "metadata": {},
   "outputs": [],
   "source": [
    "# все пропуски это новые авто, заполним нулями\n",
    "df.loc[(df.owners.isna()) & (df.state_new == 1), \"owners\"] = 0\n"
   ]
  },
  {
   "cell_type": "code",
   "execution_count": 87,
   "metadata": {},
   "outputs": [],
   "source": [
    "# пропуски зааполнили, теперь вариацию владельцев приведем к чилу, взяв первое число в строке\n",
    "df.owners = df.owners.apply(lambda x: float(str(x).split()[0]))"
   ]
  },
  {
   "cell_type": "markdown",
   "metadata": {},
   "source": [
    "## ownership\n",
    "с какого года авто у последнего владельца"
   ]
  },
  {
   "cell_type": "code",
   "execution_count": 88,
   "metadata": {},
   "outputs": [
    {
     "name": "stdout",
     "output_type": "stream",
     "text": [
      "           data type: object\n",
      "       unique values: 596\n",
      "               total: 254020\n",
      "        Владение nan: 78.2% = 198539        (22691/60176/115672)\n"
     ]
    }
   ],
   "source": [
    "describe_column(df, \"Владение\")"
   ]
  },
  {
   "cell_type": "code",
   "execution_count": 89,
   "metadata": {},
   "outputs": [],
   "source": [
    "# пропусков очень много, да и непонятно, что эта колонка может дать. удалим её\n",
    "df.drop([\"Владение\"], axis=1, inplace=True)"
   ]
  },
  {
   "cell_type": "markdown",
   "metadata": {},
   "source": [
    "## vehicle_licence_original (ПТС)\n",
    "информация о ПТС, оригинал/дубликат"
   ]
  },
  {
   "cell_type": "code",
   "execution_count": 90,
   "metadata": {},
   "outputs": [
    {
     "name": "stdout",
     "output_type": "stream",
     "text": [
      "           data type: object\n",
      "       unique values: 5\n",
      "               total: 254020\n",
      "vehicle_licence_original nan: 10.7% = 27287        (1/361/26925)\n"
     ]
    },
    {
     "data": {
      "text/plain": [
       "Оригинал     122683\n",
       "ORIGINAL      78596\n",
       "Дубликат      15034\n",
       "DUPLICATE     10420\n",
       "Name: vehicle_licence_original, dtype: int64"
      ]
     },
     "metadata": {},
     "output_type": "display_data"
    }
   ],
   "source": [
    "df.rename(columns={\"ПТС\": \"vehicle_licence_original\"}, inplace=True)\n",
    "describe_column(df, \"vehicle_licence_original\")"
   ]
  },
  {
   "cell_type": "code",
   "execution_count": 91,
   "metadata": {},
   "outputs": [
    {
     "data": {
      "text/plain": [
       "1    27286\n",
       "0        1\n",
       "Name: state_new, dtype: int64"
      ]
     },
     "execution_count": 91,
     "metadata": {},
     "output_type": "execute_result"
    }
   ],
   "source": [
    "# нужно сменить регистр и заменить rus->eng, и поменять на 0/1. но сначала посмотрим на пропуски,\n",
    "# а конкретнее на состояние (или пробег) у машин с пропусками\n",
    "df[df.vehicle_licence_original.isna()].state_new.value_counts()"
   ]
  },
  {
   "cell_type": "code",
   "execution_count": 92,
   "metadata": {},
   "outputs": [],
   "source": [
    "# получается все, кроме одного, пропуски это новые авто. думаю для них можно поставить ПТС равным \"original\"\n",
    "df.loc[(df.vehicle_licence_original.isna()) & (df.mileage == 0), \"vehicle_licence_original\"] = \"original\"\n"
   ]
  },
  {
   "cell_type": "code",
   "execution_count": 93,
   "metadata": {},
   "outputs": [
    {
     "data": {
      "text/html": [
       "<div>\n",
       "<style scoped>\n",
       "    .dataframe tbody tr th:only-of-type {\n",
       "        vertical-align: middle;\n",
       "    }\n",
       "\n",
       "    .dataframe tbody tr th {\n",
       "        vertical-align: top;\n",
       "    }\n",
       "\n",
       "    .dataframe thead th {\n",
       "        text-align: right;\n",
       "    }\n",
       "</style>\n",
       "<table border=\"1\" class=\"dataframe\">\n",
       "  <thead>\n",
       "    <tr style=\"text-align: right;\">\n",
       "      <th></th>\n",
       "      <th>body_type</th>\n",
       "      <th>brand</th>\n",
       "      <th>color</th>\n",
       "      <th>description</th>\n",
       "      <th>engine_displacement</th>\n",
       "      <th>engine_type</th>\n",
       "      <th>mileage</th>\n",
       "      <th>model_date</th>\n",
       "      <th>model_name</th>\n",
       "      <th>number_of_doors</th>\n",
       "      <th>...</th>\n",
       "      <th>vehicle_licence_original</th>\n",
       "      <th>Привод</th>\n",
       "      <th>Руль</th>\n",
       "      <th>Состояние</th>\n",
       "      <th>Таможня</th>\n",
       "      <th>price</th>\n",
       "      <th>data_type</th>\n",
       "      <th>equipment</th>\n",
       "      <th>state_new</th>\n",
       "      <th>engine_power</th>\n",
       "    </tr>\n",
       "  </thead>\n",
       "  <tbody>\n",
       "    <tr>\n",
       "      <th>10412</th>\n",
       "      <td>седан</td>\n",
       "      <td>bmw</td>\n",
       "      <td>синий</td>\n",
       "      <td>Сделано большое Т.О. Фильтра масляный, воздушн...</td>\n",
       "      <td>2.5</td>\n",
       "      <td>gasoline</td>\n",
       "      <td>276000.0</td>\n",
       "      <td>1998.0</td>\n",
       "      <td>3</td>\n",
       "      <td>4.0</td>\n",
       "      <td>...</td>\n",
       "      <td>NaN</td>\n",
       "      <td>задний</td>\n",
       "      <td>Левый</td>\n",
       "      <td>Не требует ремонта</td>\n",
       "      <td>Растаможен</td>\n",
       "      <td>0.0</td>\n",
       "      <td>0</td>\n",
       "      <td>{}</td>\n",
       "      <td>0</td>\n",
       "      <td>170.0</td>\n",
       "    </tr>\n",
       "  </tbody>\n",
       "</table>\n",
       "<p>1 rows × 23 columns</p>\n",
       "</div>"
      ],
      "text/plain": [
       "      body_type brand  color  \\\n",
       "10412     седан   bmw  синий   \n",
       "\n",
       "                                             description  engine_displacement  \\\n",
       "10412  Сделано большое Т.О. Фильтра масляный, воздушн...                  2.5   \n",
       "\n",
       "      engine_type   mileage  model_date model_name  number_of_doors  ...  \\\n",
       "10412    gasoline  276000.0      1998.0          3              4.0  ...   \n",
       "\n",
       "       vehicle_licence_original  Привод   Руль           Состояние  \\\n",
       "10412                       NaN  задний  Левый  Не требует ремонта   \n",
       "\n",
       "          Таможня price data_type equipment  state_new  engine_power  \n",
       "10412  Растаможен   0.0         0        {}          0         170.0  \n",
       "\n",
       "[1 rows x 23 columns]"
      ]
     },
     "execution_count": 93,
     "metadata": {},
     "output_type": "execute_result"
    }
   ],
   "source": [
    "# посмотрим на оставшееся одно авто\n",
    "df[df.vehicle_licence_original.isna()]"
   ]
  },
  {
   "cell_type": "code",
   "execution_count": 94,
   "metadata": {},
   "outputs": [],
   "source": [
    "# bmw 1999 года, с 3 или более владельцами. ставим ПТС как дубликат\n",
    "df.loc[df.vehicle_licence_original.isna(), \"vehicle_licence_original\"] = \"duplicate\""
   ]
  },
  {
   "cell_type": "code",
   "execution_count": 95,
   "metadata": {},
   "outputs": [],
   "source": [
    "# меняем регистр и язык\n",
    "vehicle_licence_dict = {\n",
    "    \"оригинал\": \"original\",\n",
    "    \"дубликат\": \"duplicate\",\n",
    "}\n",
    "\n",
    "df.vehicle_licence_original = df.vehicle_licence_original.str.lower()\n",
    "df.vehicle_licence_original = df.vehicle_licence_original.apply(map_rus_to_eng, args=(vehicle_licence_dict,))\n",
    "df.vehicle_licence_original = df.vehicle_licence_original.apply(lambda value: 1 if value == \"original\" else 0)\n"
   ]
  },
  {
   "cell_type": "markdown",
   "metadata": {},
   "source": [
    "## drivetrain (привод)\n",
    "колонка с типом привода авто"
   ]
  },
  {
   "cell_type": "code",
   "execution_count": 96,
   "metadata": {},
   "outputs": [
    {
     "name": "stdout",
     "output_type": "stream",
     "text": [
      "           data type: object\n",
      "       unique values: 4\n",
      "               total: 254020\n",
      "      drivetrain nan: 10.6% = 26925        (0/0/26925)\n"
     ]
    },
    {
     "data": {
      "text/plain": [
       "полный      108584\n",
       "передний    100745\n",
       "задний       17766\n",
       "Name: drivetrain, dtype: int64"
      ]
     },
     "metadata": {},
     "output_type": "display_data"
    }
   ],
   "source": [
    "df.rename(columns={\"Привод\": \"drivetrain\"}, inplace=True)\n",
    "describe_column(df, \"drivetrain\")"
   ]
  },
  {
   "cell_type": "code",
   "execution_count": 97,
   "metadata": {},
   "outputs": [],
   "source": [
    "# пропусков достаточно много. заполнять будем так: для каждой пары производитель-модель\n",
    "# найдем самый популярный вариант привода и на основе этого заполним пропуски для конкретных моделей\n",
    "# на всякий случай (если в пропуске есть какие-то уникальные авто), передадим в функцию\n",
    "# \"дефолтное значение\" - самый популярный привод во всем датасете\n",
    "groupped_series = df.groupby([\"brand\", \"model_name\"]).drivetrain.value_counts()\n",
    "default_value = df.drivetrain.value_counts().index[0]\n",
    "df.loc[df.drivetrain.isna(), \"drivetrain\"] = df[df.drivetrain.isna()].apply(\n",
    "    lambda row: fill_from_groupped_series(groupped_series, row.brand, row.model_name, default_value),\n",
    "    axis=1,\n",
    ")"
   ]
  },
  {
   "cell_type": "code",
   "execution_count": 98,
   "metadata": {},
   "outputs": [
    {
     "name": "stdout",
     "output_type": "stream",
     "text": [
      "           data type: object\n",
      "       unique values: 3\n",
      "               total: 254020\n",
      "      drivetrain nan: 0.0% = 0        (0/0/0)\n"
     ]
    },
    {
     "data": {
      "text/plain": [
       "полный      130019\n",
       "передний    105288\n",
       "задний       18713\n",
       "Name: drivetrain, dtype: int64"
      ]
     },
     "metadata": {},
     "output_type": "display_data"
    }
   ],
   "source": [
    "# проверим результат - все ок\n",
    "describe_column(df, \"drivetrain\")"
   ]
  },
  {
   "cell_type": "code",
   "execution_count": 99,
   "metadata": {},
   "outputs": [],
   "source": [
    "# меняем регистр и язык\n",
    "drivetrain_dict = {\n",
    "    \"полный\": \"4wd\",\n",
    "    \"передний\": \"fwd\",\n",
    "    \"задний\": \"rwd\",\n",
    "}\n",
    "\n",
    "df.drivetrain = df.drivetrain.str.lower()\n",
    "df.drivetrain = df.drivetrain.apply(map_rus_to_eng, args=(drivetrain_dict,))"
   ]
  },
  {
   "cell_type": "markdown",
   "metadata": {},
   "source": [
    "## steering_wheel_left (Руль)\n",
    "левый/правый руль. "
   ]
  },
  {
   "cell_type": "code",
   "execution_count": 100,
   "metadata": {},
   "outputs": [
    {
     "name": "stdout",
     "output_type": "stream",
     "text": [
      "           data type: object\n",
      "       unique values: 5\n",
      "               total: 254020\n",
      "steering_wheel_left nan: 10.6% = 26926        (0/0/26926)\n"
     ]
    },
    {
     "data": {
      "text/plain": [
       "Левый     132641\n",
       "LEFT       87588\n",
       "Правый      5076\n",
       "RIGHT       1789\n",
       "Name: steering_wheel_left, dtype: int64"
      ]
     },
     "metadata": {},
     "output_type": "display_data"
    }
   ],
   "source": [
    "df.rename(columns={\"Руль\": \"steering_wheel_left\"}, inplace=True)\n",
    "describe_column(df, \"steering_wheel_left\")"
   ]
  },
  {
   "cell_type": "code",
   "execution_count": 101,
   "metadata": {},
   "outputs": [],
   "source": [
    "# сначала приведем существующие значения к одному виду\n",
    "steering_wheel_dict = {\n",
    "    \"левый\": \"left\",\n",
    "    \"правый\": \"right\",\n",
    "}\n",
    "\n",
    "df.steering_wheel_left = df.steering_wheel_left.str.lower()\n",
    "df.steering_wheel_left = df.steering_wheel_left.apply(map_rus_to_eng, args=(steering_wheel_dict,))"
   ]
  },
  {
   "cell_type": "code",
   "execution_count": 102,
   "metadata": {},
   "outputs": [],
   "source": [
    "# подавляющее большенство это леворульные машины, но заполним аналогочно тому, как заполняли привод\n",
    "groupped_series = df.groupby([\"brand\", \"model_name\"]).steering_wheel_left.value_counts()\n",
    "default_value = df.steering_wheel_left.value_counts().index[0]\n",
    "df.loc[df.steering_wheel_left.isna(), \"steering_wheel_left\"] = df[df.steering_wheel_left.isna()].apply(\n",
    "    lambda row: fill_from_groupped_series(groupped_series, row.brand, row.model_name, default_value),\n",
    "    axis=1,\n",
    ")"
   ]
  },
  {
   "cell_type": "code",
   "execution_count": 103,
   "metadata": {},
   "outputs": [],
   "source": [
    "df.steering_wheel_left = df.steering_wheel_left.apply(lambda value: 1 if value == \"left\" else 0)\n"
   ]
  },
  {
   "cell_type": "markdown",
   "metadata": {},
   "source": [
    "## condition_good (Состояние)\n",
    "колонка с информацией о состоянии авто (нужен ремонт или нет)\n",
    "- 1 - хорошее (не требует ремонта)\n",
    "- 0 - плохое"
   ]
  },
  {
   "cell_type": "code",
   "execution_count": 104,
   "metadata": {},
   "outputs": [
    {
     "name": "stdout",
     "output_type": "stream",
     "text": [
      "           data type: object\n",
      "       unique values: 2\n",
      "               total: 254020\n",
      "  condition_good nan: 45.8% = 116304        (0/89377/26927)\n"
     ]
    },
    {
     "data": {
      "text/plain": [
       "Не требует ремонта    137716\n",
       "Name: condition_good, dtype: int64"
      ]
     },
     "metadata": {},
     "output_type": "display_data"
    }
   ],
   "source": [
    "df.rename(columns={\"Состояние\": \"condition_good\"}, inplace=True)\n",
    "describe_column(df, \"condition_good\")"
   ]
  },
  {
   "cell_type": "code",
   "execution_count": 105,
   "metadata": {},
   "outputs": [],
   "source": [
    "# значения заполнены только на половину, и единственный вариант в данных это \"не требует ремента\"\n",
    "# заменим это на 1 + новым машинам так же 1 поставим, все остальное сделаем 0,\n",
    "# не факт, что все машины с condition_good=0 требуют ремонта, но мы об этом не знаем\n",
    "df.condition_good = df.condition_good.str.replace(\"Не требует ремонта\", \"1\")\n",
    "df.loc[(df.condition_good.isna()) & (df.state_new == 1), \"condition_good\"] = \"1\"\n",
    "df.condition_good.fillna(\"0\", inplace=True)\n",
    "df.condition_good = df.condition_good.astype(\"int64\")"
   ]
  },
  {
   "cell_type": "code",
   "execution_count": 106,
   "metadata": {},
   "outputs": [
    {
     "name": "stdout",
     "output_type": "stream",
     "text": [
      "           data type: int64\n",
      "       unique values: 2\n",
      "               total: 254020\n",
      "  condition_good nan: 0.0% = 0        (0/0/0)\n"
     ]
    },
    {
     "data": {
      "text/plain": [
       "1    178229\n",
       "0     75791\n",
       "Name: condition_good, dtype: int64"
      ]
     },
     "metadata": {},
     "output_type": "display_data"
    }
   ],
   "source": [
    "describe_column(df, \"condition_good\")"
   ]
  },
  {
   "cell_type": "code",
   "execution_count": 107,
   "metadata": {},
   "outputs": [],
   "source": [
    "# переведем в числовой формат\n",
    "df.condition_good = df.condition_good.apply(int).astype(\"int64\")"
   ]
  },
  {
   "cell_type": "markdown",
   "metadata": {},
   "source": [
    "## customs (Таможня)\n",
    "растаможен или нет"
   ]
  },
  {
   "cell_type": "code",
   "execution_count": 108,
   "metadata": {},
   "outputs": [
    {
     "name": "stdout",
     "output_type": "stream",
     "text": [
      "           data type: object\n",
      "       unique values: 3\n",
      "               total: 254020\n",
      "         customs nan: 10.6% = 26929        (0/0/26929)\n"
     ]
    },
    {
     "data": {
      "text/plain": [
       "Растаможен    137714\n",
       "True           89377\n",
       "Name: customs, dtype: int64"
      ]
     },
     "metadata": {},
     "output_type": "display_data"
    }
   ],
   "source": [
    "df.rename(columns={\"Таможня\": \"customs\"}, inplace=True)\n",
    "describe_column(df, \"customs\")"
   ]
  },
  {
   "cell_type": "code",
   "execution_count": 109,
   "metadata": {},
   "outputs": [],
   "source": [
    "# вариантов \"не растаможен\" нет, думаю колонка бесполезна в существующем виде, удалим её\n",
    "df.drop([\"customs\"], axis=1, inplace=True)"
   ]
  },
  {
   "cell_type": "markdown",
   "metadata": {},
   "source": [
    "## price\n",
    "это наш целевой параметр, делаем следующее: все пропуски удаляем (в \"test\" пропусков быть не должно, т.к. мы сами добавляли эту колонку с нулевыми значениями). Для \"train_extra\" нужна корректировка по цене, т.к. данные собирались во второй половине 2021 года, а тестовый датасет за 2020 год. Исходя из данных автостата, подорожание год к году (2021-2020) было около 10-15%, но это \"средняя температура по больнице\", так как она не учитывает, что разные сегменты (премиум/эконом/и тд) дорожали по-разному, а так же такие факторы, как выпуск рестайлингов или смену поколения модели. Но у нас другого выхода нет, поэтому уменьшим price в train_extra на корректировочной коэффициент, если нужно будет, можно попробовать его поменять в будущем, что бы подобрать лучшее значение метрики."
   ]
  },
  {
   "cell_type": "code",
   "execution_count": 110,
   "metadata": {},
   "outputs": [
    {
     "name": "stdout",
     "output_type": "stream",
     "text": [
      "           data type: float64\n",
      "       unique values: 13377\n",
      "               total: 254020\n",
      "           price nan: 8.1% = 20603        (0/410/20193)\n"
     ]
    }
   ],
   "source": [
    "describe_column(df, \"price\")"
   ]
  },
  {
   "cell_type": "code",
   "execution_count": 111,
   "metadata": {},
   "outputs": [],
   "source": [
    "# видим, что все пропуски из обучающих датасетов, поэтому просто удаляем их, взять информацию о цене нам неоткуда\n",
    "df.dropna(subset=[\"price\"], inplace=True)"
   ]
  },
  {
   "cell_type": "code",
   "execution_count": 112,
   "metadata": {},
   "outputs": [],
   "source": [
    "# корректируем цены в train_extra\n",
    "df.loc[df.data_type == 2, \"price\"] = round(df.loc[df.data_type == 2, \"price\"] * PRICE_CORRECTION)\n"
   ]
  },
  {
   "cell_type": "markdown",
   "metadata": {},
   "source": [
    "# Feature engineering\n",
    "добавим следующие колонки на основе имещихся данных\n",
    "- binary колонки\n",
    "    - warranty - старше машина трех лет или нет. обычно три года это срок гарантии, возможно цена будет зависеть от того, на гарантии авто (1) или нет (0). При этом для test и train_basic отсчет идет от 2020, а для train_extra с 2021\n",
    "    - popular_body - наиболее популярный тип кузова это внедорожник и седан, сделаем на основе этого колонку, популярный тип кузова получает значение равное 1\n",
    "    - rarity_car - раритетные авто или нет, авто старше 1950 года получают 1 в колонке\n",
    "    - old_car - старые авто, записи старше 2000 г.в. получают 1 в колонке. тут (как и в rarity_car) год мной выбирался субъективно, 20 лет, с моей т.з., уже достаточно, что бы считать машину старой\n",
    "    - new_car - если машина моложе 5 лет, получает 1 в колонке\n",
    "    - color_top5 - топ 5 используемых цветов (определим их после), получают 1 в колонке\n",
    "    - color_rare - топ 5 с конца используемых цветов получают 1\n",
    "- numerical колонки\n",
    "    - description_count - число слов в описании\n",
    "    - model_age - насколько стара машина относительно даты выпуска модели\n",
    "    - mil_per_year - пробег в год\n",
    "    \n"
   ]
  },
  {
   "cell_type": "code",
   "execution_count": 113,
   "metadata": {},
   "outputs": [
    {
     "name": "stdout",
     "output_type": "stream",
     "text": [
      "           data type: float64\n",
      "       unique values: 2\n",
      "               total: 233417\n",
      "        warranty nan: 0.0% = 0        (0/0/0)\n"
     ]
    },
    {
     "data": {
      "text/plain": [
       "0.0    177946\n",
       "1.0     55471\n",
       "Name: warranty, dtype: int64"
      ]
     },
     "metadata": {},
     "output_type": "display_data"
    }
   ],
   "source": [
    "# заполняем колонку \"warranty\"\n",
    "df[\"warranty\"] = np.nan\n",
    "df.loc[df.data_type == 2, \"warranty\"] = (2018 < df.loc[df.data_type == 2, \"year\"]).apply(int)\n",
    "df.loc[df.data_type != 2, \"warranty\"] = (2017 < df.loc[df.data_type != 2, \"year\"]).apply(int)\n",
    "describe_column(df, \"warranty\")"
   ]
  },
  {
   "cell_type": "code",
   "execution_count": 114,
   "metadata": {},
   "outputs": [
    {
     "name": "stdout",
     "output_type": "stream",
     "text": [
      "           data type: int64\n",
      "       unique values: 2\n",
      "               total: 233417\n",
      "    popular_body nan: 0.0% = 0        (0/0/0)\n"
     ]
    },
    {
     "data": {
      "text/plain": [
       "1    178368\n",
       "0     55049\n",
       "Name: popular_body, dtype: int64"
      ]
     },
     "metadata": {},
     "output_type": "display_data"
    }
   ],
   "source": [
    "# заполняем колонку \"popular_body\"\n",
    "df[\"popular_body\"] = np.nan\n",
    "popular_body = list(df.body_type.value_counts().index)[:2]\n",
    "df.popular_body = df.body_type.apply(lambda body_type: 1 if body_type in popular_body else 0)\n",
    "describe_column(df, \"popular_body\")"
   ]
  },
  {
   "cell_type": "code",
   "execution_count": 115,
   "metadata": {},
   "outputs": [
    {
     "name": "stdout",
     "output_type": "stream",
     "text": [
      "           data type: int64\n",
      "       unique values: 2\n",
      "               total: 233417\n",
      "      rarity_car nan: 0.0% = 0        (0/0/0)\n"
     ]
    },
    {
     "data": {
      "text/plain": [
       "0    233386\n",
       "1        31\n",
       "Name: rarity_car, dtype: int64"
      ]
     },
     "metadata": {},
     "output_type": "display_data"
    }
   ],
   "source": [
    "# заполняем колонку \"rarity_car\"\n",
    "df[\"rarity_car\"] = np.nan\n",
    "df.loc[:, \"rarity_car\"] = (1950 > df.loc[:, \"year\"]).apply(int)\n",
    "describe_column(df, \"rarity_car\")"
   ]
  },
  {
   "cell_type": "code",
   "execution_count": 116,
   "metadata": {},
   "outputs": [
    {
     "name": "stdout",
     "output_type": "stream",
     "text": [
      "           data type: int64\n",
      "       unique values: 2\n",
      "               total: 233417\n",
      "         old_car nan: 0.0% = 0        (0/0/0)\n"
     ]
    },
    {
     "data": {
      "text/plain": [
       "0    221328\n",
       "1     12089\n",
       "Name: old_car, dtype: int64"
      ]
     },
     "metadata": {},
     "output_type": "display_data"
    }
   ],
   "source": [
    "# заполняем колонку \"old_car\"\n",
    "df[\"old_car\"] = np.nan\n",
    "df.loc[:, \"old_car\"] = (2000 > df.loc[:, \"year\"]).apply(int)\n",
    "describe_column(df, \"old_car\")"
   ]
  },
  {
   "cell_type": "code",
   "execution_count": 117,
   "metadata": {},
   "outputs": [
    {
     "name": "stdout",
     "output_type": "stream",
     "text": [
      "           data type: float64\n",
      "       unique values: 2\n",
      "               total: 233417\n",
      "         new_car nan: 0.0% = 0        (0/0/0)\n"
     ]
    },
    {
     "data": {
      "text/plain": [
       "0.0    150005\n",
       "1.0     83412\n",
       "Name: new_car, dtype: int64"
      ]
     },
     "metadata": {},
     "output_type": "display_data"
    }
   ],
   "source": [
    "# заполняем колонку \"new_car\"\n",
    "df[\"new_car\"] = np.nan\n",
    "df.loc[df.data_type == 2, \"new_car\"] = (2016 < df.loc[df.data_type == 2, \"year\"]).apply(int)\n",
    "df.loc[df.data_type != 2, \"new_car\"] = (2015 < df.loc[df.data_type != 2, \"year\"]).apply(int)\n",
    "describe_column(df, \"new_car\")"
   ]
  },
  {
   "cell_type": "code",
   "execution_count": 118,
   "metadata": {},
   "outputs": [
    {
     "name": "stdout",
     "output_type": "stream",
     "text": [
      "           data type: int64\n",
      "       unique values: 2\n",
      "               total: 233417\n",
      "      color_top5 nan: 0.0% = 0        (0/0/0)\n"
     ]
    },
    {
     "data": {
      "text/plain": [
       "1    194415\n",
       "0     39002\n",
       "Name: color_top5, dtype: int64"
      ]
     },
     "metadata": {},
     "output_type": "display_data"
    }
   ],
   "source": [
    "# заполняем колонку \"color_top5\"\n",
    "df[\"color_top5\"] = np.nan\n",
    "color_top5 = list(df.color.value_counts().index)[:5]\n",
    "df.color_top5 = df.color.apply(lambda color: 1 if color in color_top5 else 0)\n",
    "describe_column(df, \"color_top5\")"
   ]
  },
  {
   "cell_type": "code",
   "execution_count": 119,
   "metadata": {},
   "outputs": [
    {
     "name": "stdout",
     "output_type": "stream",
     "text": [
      "           data type: int64\n",
      "       unique values: 2\n",
      "               total: 233417\n",
      "      color_rare nan: 0.0% = 0        (0/0/0)\n"
     ]
    },
    {
     "data": {
      "text/plain": [
       "0    229014\n",
       "1      4403\n",
       "Name: color_rare, dtype: int64"
      ]
     },
     "metadata": {},
     "output_type": "display_data"
    }
   ],
   "source": [
    "# заполняем колонку \"color_rare\"\n",
    "df[\"color_rare\"] = np.nan\n",
    "color_rare = list(df.color.value_counts().index)[-5:]\n",
    "df.color_rare = df.color.apply(lambda color: 1 if color in color_rare else 0)\n",
    "describe_column(df, \"color_rare\")"
   ]
  },
  {
   "cell_type": "code",
   "execution_count": 120,
   "metadata": {},
   "outputs": [
    {
     "name": "stdout",
     "output_type": "stream",
     "text": [
      "           data type: int64\n",
      "       unique values: 1144\n",
      "               total: 233417\n",
      "description_count nan: 0.0% = 0        (0/0/0)\n"
     ]
    }
   ],
   "source": [
    "# заполняем колонку \"description_count\" и удаляем \"description\"\n",
    "df[\"description_count\"] = np.nan\n",
    "df.description_count = df.description.apply(\n",
    "    lambda text: len(re.findall(r\"\\w{3,}\", text)) if isinstance(text, str) else 0\n",
    ")\n",
    "df.drop([\"description\"], axis=1, inplace=True)\n",
    "describe_column(df, \"description_count\")"
   ]
  },
  {
   "cell_type": "code",
   "execution_count": 121,
   "metadata": {},
   "outputs": [
    {
     "name": "stdout",
     "output_type": "stream",
     "text": [
      "           data type: float64\n",
      "       unique values: 21572\n",
      "               total: 233417\n",
      "    mil_per_year nan: 0.0% = 0        (0/0/0)\n"
     ]
    }
   ],
   "source": [
    "# заполняем колонку \"mil_per_year\"\n",
    "# возраст расчитываем как 2022 - год.выпуска (для train_extra). Т.о. не будет деления на 0 и учтутся ситууации\n",
    "# когда машина в 2021 году была сделана/куплена, продается и уже успела проехать сколько-то км.\n",
    "df[\"mil_per_year\"] = np.nan\n",
    "df.loc[df.data_type == 2, \"mil_per_year\"] = round(\n",
    "    df.loc[df.data_type == 2, \"mileage\"] / (2022 - df.loc[df.data_type == 2, \"year\"])\n",
    ")\n",
    "df.loc[df.data_type != 2, \"mil_per_year\"] = round(\n",
    "    df.loc[df.data_type != 2, \"mileage\"] / (2021 - df.loc[df.data_type != 2, \"year\"])\n",
    ")\n",
    "describe_column(df, \"mil_per_year\")"
   ]
  },
  {
   "cell_type": "markdown",
   "metadata": {},
   "source": [
    "# Анализ"
   ]
  },
  {
   "cell_type": "code",
   "execution_count": 122,
   "metadata": {},
   "outputs": [],
   "source": [
    "# # сделаем отчет отчет по исходным данным\n",
    "# profile = pandas_profiling.ProfileReport(\n",
    "#     df.loc[:, df.columns != \"equipment\"],\n",
    "#     title=\"Profiling Report\",\n",
    "# )\n",
    "# profile.to_file(\"car_price_prediction.html\")"
   ]
  },
  {
   "cell_type": "markdown",
   "metadata": {},
   "source": [
    "## engine_displacement"
   ]
  },
  {
   "cell_type": "code",
   "execution_count": 123,
   "metadata": {},
   "outputs": [
    {
     "data": {
      "text/html": [
       "<div>\n",
       "<style scoped>\n",
       "    .dataframe tbody tr th:only-of-type {\n",
       "        vertical-align: middle;\n",
       "    }\n",
       "\n",
       "    .dataframe tbody tr th {\n",
       "        vertical-align: top;\n",
       "    }\n",
       "\n",
       "    .dataframe thead th {\n",
       "        text-align: right;\n",
       "    }\n",
       "</style>\n",
       "<table border=\"1\" class=\"dataframe\">\n",
       "  <thead>\n",
       "    <tr style=\"text-align: right;\">\n",
       "      <th></th>\n",
       "      <th>body_type</th>\n",
       "      <th>brand</th>\n",
       "      <th>color</th>\n",
       "      <th>engine_displacement</th>\n",
       "      <th>engine_type</th>\n",
       "      <th>mileage</th>\n",
       "      <th>model_date</th>\n",
       "      <th>model_name</th>\n",
       "      <th>number_of_doors</th>\n",
       "      <th>year</th>\n",
       "      <th>...</th>\n",
       "      <th>engine_power</th>\n",
       "      <th>warranty</th>\n",
       "      <th>popular_body</th>\n",
       "      <th>rarity_car</th>\n",
       "      <th>old_car</th>\n",
       "      <th>new_car</th>\n",
       "      <th>color_top5</th>\n",
       "      <th>color_rare</th>\n",
       "      <th>description_count</th>\n",
       "      <th>mil_per_year</th>\n",
       "    </tr>\n",
       "  </thead>\n",
       "  <tbody>\n",
       "    <tr>\n",
       "      <th>118306</th>\n",
       "      <td>внедорожник</td>\n",
       "      <td>mercedes</td>\n",
       "      <td>чёрный</td>\n",
       "      <td>300.0</td>\n",
       "      <td>electro</td>\n",
       "      <td>1771.0</td>\n",
       "      <td>2019.0</td>\n",
       "      <td>eqc</td>\n",
       "      <td>5.0</td>\n",
       "      <td>2020.0</td>\n",
       "      <td>...</td>\n",
       "      <td>408.0</td>\n",
       "      <td>1.0</td>\n",
       "      <td>1</td>\n",
       "      <td>0</td>\n",
       "      <td>0</td>\n",
       "      <td>1.0</td>\n",
       "      <td>1</td>\n",
       "      <td>0</td>\n",
       "      <td>526</td>\n",
       "      <td>1771.0</td>\n",
       "    </tr>\n",
       "    <tr>\n",
       "      <th>118307</th>\n",
       "      <td>внедорожник</td>\n",
       "      <td>mercedes</td>\n",
       "      <td>чёрный</td>\n",
       "      <td>300.0</td>\n",
       "      <td>electro</td>\n",
       "      <td>90.0</td>\n",
       "      <td>2019.0</td>\n",
       "      <td>eqc</td>\n",
       "      <td>5.0</td>\n",
       "      <td>2020.0</td>\n",
       "      <td>...</td>\n",
       "      <td>408.0</td>\n",
       "      <td>1.0</td>\n",
       "      <td>1</td>\n",
       "      <td>0</td>\n",
       "      <td>0</td>\n",
       "      <td>1.0</td>\n",
       "      <td>1</td>\n",
       "      <td>0</td>\n",
       "      <td>377</td>\n",
       "      <td>90.0</td>\n",
       "    </tr>\n",
       "    <tr>\n",
       "      <th>244013</th>\n",
       "      <td>фургон</td>\n",
       "      <td>mitsubishi</td>\n",
       "      <td>серебристый</td>\n",
       "      <td>16.0</td>\n",
       "      <td>electro</td>\n",
       "      <td>10761.0</td>\n",
       "      <td>1999.0</td>\n",
       "      <td>minicab</td>\n",
       "      <td>5.0</td>\n",
       "      <td>2012.0</td>\n",
       "      <td>...</td>\n",
       "      <td>41.0</td>\n",
       "      <td>0.0</td>\n",
       "      <td>0</td>\n",
       "      <td>0</td>\n",
       "      <td>0</td>\n",
       "      <td>0.0</td>\n",
       "      <td>1</td>\n",
       "      <td>0</td>\n",
       "      <td>119</td>\n",
       "      <td>1076.0</td>\n",
       "    </tr>\n",
       "    <tr>\n",
       "      <th>245505</th>\n",
       "      <td>фургон</td>\n",
       "      <td>mitsubishi</td>\n",
       "      <td>серебристый</td>\n",
       "      <td>16.0</td>\n",
       "      <td>electro</td>\n",
       "      <td>10761.0</td>\n",
       "      <td>1999.0</td>\n",
       "      <td>minicab</td>\n",
       "      <td>5.0</td>\n",
       "      <td>2012.0</td>\n",
       "      <td>...</td>\n",
       "      <td>41.0</td>\n",
       "      <td>0.0</td>\n",
       "      <td>0</td>\n",
       "      <td>0</td>\n",
       "      <td>0</td>\n",
       "      <td>0.0</td>\n",
       "      <td>1</td>\n",
       "      <td>0</td>\n",
       "      <td>119</td>\n",
       "      <td>1076.0</td>\n",
       "    </tr>\n",
       "  </tbody>\n",
       "</table>\n",
       "<p>4 rows × 30 columns</p>\n",
       "</div>"
      ],
      "text/plain": [
       "          body_type       brand        color  engine_displacement engine_type  \\\n",
       "118306  внедорожник    mercedes       чёрный                300.0     electro   \n",
       "118307  внедорожник    mercedes       чёрный                300.0     electro   \n",
       "244013       фургон  mitsubishi  серебристый                 16.0     electro   \n",
       "245505       фургон  mitsubishi  серебристый                 16.0     electro   \n",
       "\n",
       "        mileage  model_date model_name  number_of_doors    year  ...  \\\n",
       "118306   1771.0      2019.0        eqc              5.0  2020.0  ...   \n",
       "118307     90.0      2019.0        eqc              5.0  2020.0  ...   \n",
       "244013  10761.0      1999.0    minicab              5.0  2012.0  ...   \n",
       "245505  10761.0      1999.0    minicab              5.0  2012.0  ...   \n",
       "\n",
       "       engine_power  warranty  popular_body rarity_car  old_car  new_car  \\\n",
       "118306        408.0       1.0             1          0        0      1.0   \n",
       "118307        408.0       1.0             1          0        0      1.0   \n",
       "244013         41.0       0.0             0          0        0      0.0   \n",
       "245505         41.0       0.0             0          0        0      0.0   \n",
       "\n",
       "        color_top5  color_rare description_count  mil_per_year  \n",
       "118306           1           0               526        1771.0  \n",
       "118307           1           0               377          90.0  \n",
       "244013           1           0               119        1076.0  \n",
       "245505           1           0               119        1076.0  \n",
       "\n",
       "[4 rows x 30 columns]"
      ]
     },
     "execution_count": 123,
     "metadata": {},
     "output_type": "execute_result"
    }
   ],
   "source": [
    "# Из профайлинга можно сказать, что есть необычные значения в объеме двигетеля (engine_displacement). посмотрим их\n",
    "df[df.engine_displacement > 10]"
   ]
  },
  {
   "cell_type": "code",
   "execution_count": 124,
   "metadata": {},
   "outputs": [
    {
     "data": {
      "text/plain": [
       "0.0      261\n",
       "16.0       2\n",
       "300.0      2\n",
       "Name: engine_displacement, dtype: int64"
      ]
     },
     "execution_count": 124,
     "metadata": {},
     "output_type": "execute_result"
    }
   ],
   "source": [
    "# электрокары, для них объем должны быть равен 0, поэтому проверим значения для всех электро, и заменим их на 0\n",
    "df.loc[df.engine_type == \"electro\", \"engine_displacement\"].value_counts()"
   ]
  },
  {
   "cell_type": "code",
   "execution_count": 125,
   "metadata": {},
   "outputs": [],
   "source": [
    "# не нулевые только 4 записи, поэтому пройдем по электрокарам еще разз\n",
    "df.loc[df.engine_type == \"electro\", \"engine_displacement\"] = 0\n"
   ]
  },
  {
   "cell_type": "markdown",
   "metadata": {},
   "source": [
    "## description_count"
   ]
  },
  {
   "cell_type": "code",
   "execution_count": 126,
   "metadata": {},
   "outputs": [
    {
     "name": "stdout",
     "output_type": "stream",
     "text": [
      "max: 3506\n",
      "min: 0\n",
      "med: 74.0\n",
      "25 percentile: 28.0\n",
      "75 percentile: 157.0\n",
      "Outlier left: -165.5\n",
      "Outlier left count: 0\n",
      "Outlier right: 350.5\n",
      "Outlier right count: 23669\n"
     ]
    },
    {
     "data": {
      "image/png": "[encoded data removed]",
      "text/plain": [
       "<Figure size 1080x216 with 1 Axes>"
      ]
     },
     "metadata": {},
     "output_type": "display_data"
    }
   ],
   "source": [
    "# из профайлинга так видно, что есть явные выбросы в description_count, посмотрим более детально\n",
    "show_histogram(df, \"description_count\", df.description_count.max(), bins=50)\n"
   ]
  },
  {
   "cell_type": "code",
   "execution_count": 127,
   "metadata": {},
   "outputs": [
    {
     "name": "stdout",
     "output_type": "stream",
     "text": [
      "max: 3506\n",
      "min: 351\n",
      "med: 555.0\n",
      "25 percentile: 444.0\n",
      "75 percentile: 658.0\n",
      "Outlier left: 123.0\n",
      "Outlier left count: 0\n",
      "Outlier right: 979.0\n",
      "Outlier right count: 376\n"
     ]
    },
    {
     "data": {
      "image/png": "[encoded data removed]",
      "text/plain": [
       "<Figure size 1080x216 with 1 Axes>"
      ]
     },
     "metadata": {},
     "output_type": "display_data"
    }
   ],
   "source": [
    "# посмотрим более детально на правый хвост выбросов\n",
    "show_histogram(df.loc[df.description_count > 350, :], \"description_count\", df.description_count.max(), bins=100)"
   ]
  },
  {
   "cell_type": "code",
   "execution_count": 128,
   "metadata": {},
   "outputs": [],
   "source": [
    "# обнулим все значения, большие 600\n",
    "df.loc[df.description_count > 600, \"description_count\"] = 0"
   ]
  },
  {
   "cell_type": "code",
   "execution_count": 129,
   "metadata": {},
   "outputs": [
    {
     "name": "stdout",
     "output_type": "stream",
     "text": [
      "max: 6.398594934535208\n",
      "min: 0.0\n",
      "med: 4.204692619390966\n",
      "25 percentile: 3.2188758248682006\n",
      "75 percentile: 4.948759890378168\n",
      "Outlier left: 0.6240497266032485\n",
      "Outlier left count: 11210\n",
      "Outlier right: 7.5435859886431205\n",
      "Outlier right count: 0\n"
     ]
    },
    {
     "data": {
      "image/png": "[encoded data removed]",
      "text/plain": [
       "<Figure size 1080x216 with 1 Axes>"
      ]
     },
     "metadata": {},
     "output_type": "display_data"
    }
   ],
   "source": [
    "# распределение вцелом смещено влево, посмотрим на логирифмический вид\n",
    "df[\"description_count_log\"] = np.log(df.description_count + 1)\n",
    "show_histogram(df, \"description_count_log\", df.description_count_log.max(), bins=50)"
   ]
  },
  {
   "cell_type": "markdown",
   "metadata": {},
   "source": [
    "## price"
   ]
  },
  {
   "cell_type": "code",
   "execution_count": 130,
   "metadata": {},
   "outputs": [
    {
     "name": "stdout",
     "output_type": "stream",
     "text": [
      "max: 99000000.0\n",
      "min: 16000.0\n",
      "med: 1100000.0\n",
      "25 percentile: 533600.0\n",
      "75 percentile: 2244195.0\n",
      "Outlier left: -2032292.5\n",
      "Outlier left count: 0\n",
      "Outlier right: 4810087.5\n",
      "Outlier right count: 13583\n"
     ]
    },
    {
     "data": {
      "image/png": "[encoded data removed]",
      "text/plain": [
       "<Figure size 1080x216 with 1 Axes>"
      ]
     },
     "metadata": {},
     "output_type": "display_data"
    }
   ],
   "source": [
    "# сильно смещено влево\n",
    "show_histogram(df.loc[df.data_type != 0, :], \"price\", df.price.max())"
   ]
  },
  {
   "cell_type": "code",
   "execution_count": 131,
   "metadata": {},
   "outputs": [
    {
     "name": "stdout",
     "output_type": "stream",
     "text": [
      "max: 18.410630418199872\n",
      "min: 9.680406499268875\n",
      "med: 13.910821646859095\n",
      "25 percentile: 13.187403647644764\n",
      "75 percentile: 14.623857885838977\n",
      "Outlier left: 11.032722290353446\n",
      "Outlier left count: 1036\n",
      "Outlier right: 16.778539243130297\n",
      "Outlier right count: 68\n"
     ]
    },
    {
     "data": {
      "image/png": "[encoded data removed]",
      "text/plain": [
       "<Figure size 1080x216 with 1 Axes>"
      ]
     },
     "metadata": {},
     "output_type": "display_data"
    }
   ],
   "source": [
    "# логарифм выглядит лучше, попробуем его использовать при обучении\n",
    "price_log = np.log(df.loc[df.data_type != 0, \"price\"] + 1).to_frame()\n",
    "show_histogram(price_log, \"price\", price_log.price.max())"
   ]
  },
  {
   "cell_type": "markdown",
   "metadata": {},
   "source": [
    "## Типы колонок"
   ]
  },
  {
   "cell_type": "code",
   "execution_count": 132,
   "metadata": {},
   "outputs": [],
   "source": [
    "# Распределим колонки по типам\n",
    "columns_cat = [\n",
    "    \"body_type\",\n",
    "    \"brand\",\n",
    "    \"color\",\n",
    "    \"engine_type\",\n",
    "    \"model_name\",\n",
    "    \"transmission\",\n",
    "    \"drivetrain\",\n",
    "    \"owners\",\n",
    "    \"number_of_doors\",\n",
    "]\n",
    "columns_num = [\n",
    "    \"engine_displacement\",\n",
    "    \"engine_power\",\n",
    "    \"description_count\",\n",
    "    \"description_count_log\",\n",
    "    \"mileage\",\n",
    "    \"mil_per_year\",\n",
    "    \"year\",\n",
    "    \"model_date\",\n",
    "]\n",
    "columns_bin = [\n",
    "    \"vehicle_licence_original\",\n",
    "    \"steering_wheel_left\",\n",
    "    \"condition_good\",\n",
    "    \"state_new\",\n",
    "    \"warranty\",\n",
    "    \"popular_body\",\n",
    "    \"rarity_car\",\n",
    "    \"old_car\",\n",
    "    \"new_car\",\n",
    "    \"color_top5\",\n",
    "    \"color_rare\",\n",
    "]\n",
    "columns_help = [\"data_type\"]\n",
    "columns_set = [\"equipment\"]\n",
    "columns_target = [\"price\"]"
   ]
  },
  {
   "cell_type": "markdown",
   "metadata": {},
   "source": [
    "## Матрица корреляции числовых параметров"
   ]
  },
  {
   "cell_type": "code",
   "execution_count": 133,
   "metadata": {},
   "outputs": [
    {
     "data": {
      "image/png": "[encoded data removed]",
      "text/plain": [
       "<Figure size 432x288 with 2 Axes>"
      ]
     },
     "metadata": {},
     "output_type": "display_data"
    },
    {
     "data": {
      "text/plain": [
       "<Figure size 432x288 with 0 Axes>"
      ]
     },
     "metadata": {},
     "output_type": "display_data"
    }
   ],
   "source": [
    "# посмотрим корреляцию\n",
    "fig, ax = plt.subplots()\n",
    "fig.patch.set_facecolor(\"xkcd:white\")\n",
    "plt.figure(figsize=(6, 4))\n",
    "sns.heatmap(\n",
    "    df.loc[df.data_type != 0, columns_num + [\"price\"]].corr(),\n",
    "    vmin=-1,\n",
    "    vmax=1,\n",
    "    annot=True,\n",
    "    fmt=\".2f\",\n",
    "    linewidths=0.1,\n",
    "    cmap=\"coolwarm\",\n",
    "    ax=ax,\n",
    ")\n",
    "plt.show()\n"
   ]
  },
  {
   "cell_type": "code",
   "execution_count": 134,
   "metadata": {},
   "outputs": [],
   "source": [
    "# есть корреляция между мощностью двигателя и его объемом, общим пробегом и пробегом в год, количеством слов в описании и\n",
    "# log2 вариантом этого параметра, годом выпуска и пробегом - все связи логичны, но связь, на мой взгляд, недостаточно сильная,\n",
    "# оставим эти столбцы. между годом выпуска и годом модели сильная корреляция, причем год выпуска иимеет бОльшую связь с ценой.\n",
    "# удалим модельный год\n",
    "\n",
    "df.drop([\"model_date\"], axis=1, inplace=True)\n",
    "columns_num.remove(\"model_date\")"
   ]
  },
  {
   "cell_type": "code",
   "execution_count": 135,
   "metadata": {},
   "outputs": [],
   "source": [
    "# description_count_log так же удалим\n",
    "df.drop([\"description_count_log\"], axis=1, inplace=True)\n",
    "columns_num.remove(\"description_count_log\")\n"
   ]
  },
  {
   "cell_type": "markdown",
   "metadata": {},
   "source": [
    "## Бинарные параметры\n",
    "бинарные колонки приведены в профайлинге, дублировать тут смысла нет, никаких изменений делать не будем в них"
   ]
  },
  {
   "cell_type": "markdown",
   "metadata": {},
   "source": [
    "# ML"
   ]
  },
  {
   "cell_type": "code",
   "execution_count": 136,
   "metadata": {},
   "outputs": [],
   "source": [
    "# equipment содержит set с опциями, разобьем их по колонкам и выделим в отдельный датасет,\n",
    "# проверим потом, есть какое-то влияние на МАРЕ или нет\n",
    "mlb = MultiLabelBinarizer()\n",
    "df_equipment = pd.DataFrame(mlb.fit_transform(df.equipment), columns=mlb.classes_, index=df.index)\n",
    "# df = pd.concat([df, df_equipment], axis=1)\n",
    "df.drop([\"equipment\"], axis=1, inplace=True)"
   ]
  },
  {
   "cell_type": "code",
   "execution_count": 137,
   "metadata": {},
   "outputs": [],
   "source": [
    "# сохраним оба датасета в файле\n",
    "df.to_csv(\"./df.csv\", index=False)\n",
    "df_equipment.to_csv(\"./df_equipment.csv\", index=False)"
   ]
  },
  {
   "cell_type": "code",
   "execution_count": 138,
   "metadata": {},
   "outputs": [],
   "source": [
    "# забегая вперед, попробовал catboost и понял, что там нужны колонки определенных типов данных,\n",
    "# и некоторые вещи в обработке я делал зря. Переделывать не буду, так для остальных моделей это подходит,\n",
    "# а вот для catboost сделаю отдельный датасет и зааменю тип колонок\n",
    "\n",
    "df_catboost = df.copy()\n",
    "\n",
    "columns_to_int = [\n",
    "    \"mileage\",\n",
    "    \"mil_per_year\",\n",
    "    \"engine_power\",\n",
    "    \"price\",\n",
    "]\n",
    "columns_to_str = [\n",
    "    \"engine_displacement\",\n",
    "    \"number_of_doors\",\n",
    "    \"year\",\n",
    "    \"owners\",\n",
    "]\n",
    "columns_to_yes_no = [\n",
    "    \"vehicle_licence_original\",\n",
    "    \"steering_wheel_left\",\n",
    "    \"warranty\",\n",
    "    \"popular_body\",\n",
    "    \"rarity_car\",\n",
    "    \"old_car\",\n",
    "    \"new_car\",\n",
    "    \"color_top5\",\n",
    "    \"color_rare\",\n",
    "    \"condition_good\",\n",
    "    \"state_new\",\n",
    "]\n",
    "\n",
    "for column in columns_to_int:\n",
    "    df_catboost[column] = df_catboost[column].apply(int)\n",
    "\n",
    "for column in columns_to_str:\n",
    "    df_catboost[column] = df_catboost[column].apply(str)\n",
    "\n",
    "for column in columns_to_yes_no:\n",
    "    df_catboost[column] = df_catboost[column].apply(lambda value: \"yes\" if value == 1 else \"no\")\n",
    "\n",
    "body_type_dict = {\n",
    "    \"внедорожник\": \"cuv\",\n",
    "    \"седан\": \"sedan\",\n",
    "    \"хэтчбек\": \"hatchback\",\n",
    "    \"лифтбек\": \"liftback\",\n",
    "    \"минивэн\": \"minivan\",\n",
    "    \"универсал\": \"wagon\",\n",
    "    \"купе\": \"coupe\",\n",
    "    \"компактвэн\": \"compact_mpv\",\n",
    "    \"пикап\": \"pickup\",\n",
    "    \"фургон\": \"trailer\",\n",
    "    \"кабриолет\": \"convertible\",\n",
    "    \"родстер\": \"roadster\",\n",
    "    \"микровэн\": \"microvan\",\n",
    "    \"лимузин\": \"limousine\",\n",
    "    \"тарга\": \"targa\",\n",
    "    \"фастбек\": \"fastback\",\n",
    "}\n",
    "\n",
    "df_catboost.body_type = df_catboost.body_type.apply(map_rus_to_eng, args=(body_type_dict,))\n",
    "\n",
    "# сохраним его так же в файл\n",
    "df_catboost.to_csv(\"./df_catboost.csv\", index=False)"
   ]
  },
  {
   "cell_type": "code",
   "execution_count": 139,
   "metadata": {},
   "outputs": [
    {
     "data": {
      "text/html": [
       "<div>\n",
       "<style scoped>\n",
       "    .dataframe tbody tr th:only-of-type {\n",
       "        vertical-align: middle;\n",
       "    }\n",
       "\n",
       "    .dataframe tbody tr th {\n",
       "        vertical-align: top;\n",
       "    }\n",
       "\n",
       "    .dataframe thead th {\n",
       "        text-align: right;\n",
       "    }\n",
       "</style>\n",
       "<table border=\"1\" class=\"dataframe\">\n",
       "  <thead>\n",
       "    <tr style=\"text-align: right;\">\n",
       "      <th></th>\n",
       "      <th>engine_displacement</th>\n",
       "      <th>engine_power</th>\n",
       "      <th>description_count</th>\n",
       "      <th>mileage</th>\n",
       "      <th>mil_per_year</th>\n",
       "      <th>year</th>\n",
       "    </tr>\n",
       "  </thead>\n",
       "  <tbody>\n",
       "    <tr>\n",
       "      <th>count</th>\n",
       "      <td>233417.000000</td>\n",
       "      <td>233417.000000</td>\n",
       "      <td>233417.000000</td>\n",
       "      <td>233417.000000</td>\n",
       "      <td>233417.00000</td>\n",
       "      <td>233417.000000</td>\n",
       "    </tr>\n",
       "    <tr>\n",
       "      <th>mean</th>\n",
       "      <td>2.354892</td>\n",
       "      <td>191.140632</td>\n",
       "      <td>108.530069</td>\n",
       "      <td>120059.455370</td>\n",
       "      <td>12071.67822</td>\n",
       "      <td>2012.531885</td>\n",
       "    </tr>\n",
       "    <tr>\n",
       "      <th>std</th>\n",
       "      <td>0.928022</td>\n",
       "      <td>92.747518</td>\n",
       "      <td>125.517800</td>\n",
       "      <td>99448.911436</td>\n",
       "      <td>8312.02682</td>\n",
       "      <td>6.960645</td>\n",
       "    </tr>\n",
       "    <tr>\n",
       "      <th>min</th>\n",
       "      <td>0.000000</td>\n",
       "      <td>11.000000</td>\n",
       "      <td>0.000000</td>\n",
       "      <td>0.000000</td>\n",
       "      <td>0.00000</td>\n",
       "      <td>1904.000000</td>\n",
       "    </tr>\n",
       "    <tr>\n",
       "      <th>25%</th>\n",
       "      <td>1.600000</td>\n",
       "      <td>130.000000</td>\n",
       "      <td>24.000000</td>\n",
       "      <td>38000.000000</td>\n",
       "      <td>7333.00000</td>\n",
       "      <td>2008.000000</td>\n",
       "    </tr>\n",
       "    <tr>\n",
       "      <th>50%</th>\n",
       "      <td>2.000000</td>\n",
       "      <td>170.000000</td>\n",
       "      <td>66.000000</td>\n",
       "      <td>112000.000000</td>\n",
       "      <td>12143.00000</td>\n",
       "      <td>2013.000000</td>\n",
       "    </tr>\n",
       "    <tr>\n",
       "      <th>75%</th>\n",
       "      <td>2.900000</td>\n",
       "      <td>240.000000</td>\n",
       "      <td>140.000000</td>\n",
       "      <td>177799.000000</td>\n",
       "      <td>16272.00000</td>\n",
       "      <td>2018.000000</td>\n",
       "    </tr>\n",
       "    <tr>\n",
       "      <th>max</th>\n",
       "      <td>8.400000</td>\n",
       "      <td>800.000000</td>\n",
       "      <td>600.000000</td>\n",
       "      <td>1000000.000000</td>\n",
       "      <td>165667.00000</td>\n",
       "      <td>2021.000000</td>\n",
       "    </tr>\n",
       "  </tbody>\n",
       "</table>\n",
       "</div>"
      ],
      "text/plain": [
       "       engine_displacement   engine_power  description_count         mileage  \\\n",
       "count        233417.000000  233417.000000      233417.000000   233417.000000   \n",
       "mean              2.354892     191.140632         108.530069   120059.455370   \n",
       "std               0.928022      92.747518         125.517800    99448.911436   \n",
       "min               0.000000      11.000000           0.000000        0.000000   \n",
       "25%               1.600000     130.000000          24.000000    38000.000000   \n",
       "50%               2.000000     170.000000          66.000000   112000.000000   \n",
       "75%               2.900000     240.000000         140.000000   177799.000000   \n",
       "max               8.400000     800.000000         600.000000  1000000.000000   \n",
       "\n",
       "       mil_per_year           year  \n",
       "count  233417.00000  233417.000000  \n",
       "mean    12071.67822    2012.531885  \n",
       "std      8312.02682       6.960645  \n",
       "min         0.00000    1904.000000  \n",
       "25%      7333.00000    2008.000000  \n",
       "50%     12143.00000    2013.000000  \n",
       "75%     16272.00000    2018.000000  \n",
       "max    165667.00000    2021.000000  "
      ]
     },
     "execution_count": 139,
     "metadata": {},
     "output_type": "execute_result"
    }
   ],
   "source": [
    "# работаем с оригинальным датасетом\n",
    "df[columns_num].describe()"
   ]
  },
  {
   "cell_type": "code",
   "execution_count": 140,
   "metadata": {},
   "outputs": [],
   "source": [
    "# разброс значений большой, сделаем нормализацию числовых колонок\n",
    "scaler = MinMaxScaler()\n",
    "for column in columns_num:\n",
    "    scaled = scaler.fit_transform(df.loc[:, [column]])\n",
    "    df[column] = scaled"
   ]
  },
  {
   "cell_type": "code",
   "execution_count": 141,
   "metadata": {},
   "outputs": [],
   "source": [
    "# BinaryEncoders для кодировки модели автомобилей что бы сократить число колонок, так как моделей много\n",
    "encoder = BinaryEncoder(cols=[\"model_name\"])\n",
    "df_bin = encoder.fit_transform(df[\"model_name\"])\n",
    "df = pd.concat([df, df_bin], axis=1)\n",
    "df.drop([\"model_name\"], axis=1, inplace=True)\n",
    "columns_cat.remove(\"model_name\")"
   ]
  },
  {
   "cell_type": "code",
   "execution_count": 142,
   "metadata": {},
   "outputs": [],
   "source": [
    "# из категориальных колонок делаем dummy колонки\n",
    "df = pd.get_dummies(df, columns=columns_cat)"
   ]
  },
  {
   "cell_type": "code",
   "execution_count": 143,
   "metadata": {},
   "outputs": [],
   "source": [
    "# разделяем датасет на тестовый и тренировочный и выделяем целевой параметр\n",
    "X = df.loc[df.data_type != 0, :].copy()\n",
    "X.drop([\"price\", \"data_type\"], axis=1, inplace=True)\n",
    "\n",
    "y = df.loc[df.data_type != 0, \"price\"].copy()\n",
    "\n",
    "X_lb = df.loc[df.data_type == 0, :].copy()\n",
    "X_lb.drop([\"price\", \"data_type\"], axis=1, inplace=True)\n",
    "\n",
    "# разделям на тренировочную и тестовую выборки\n",
    "X_train, X_test, y_train, y_test = train_test_split(X, y, test_size=VAL_SIZE, shuffle=True, random_state=RANDOM_SEED)"
   ]
  },
  {
   "cell_type": "markdown",
   "metadata": {},
   "source": [
    "## RandomForestRegressor\n",
    "Первое, что попробуем. С параметрами по умолчанию."
   ]
  },
  {
   "cell_type": "code",
   "execution_count": 144,
   "metadata": {},
   "outputs": [
    {
     "name": "stdout",
     "output_type": "stream",
     "text": [
      "MAPE: 8.49%\n"
     ]
    }
   ],
   "source": [
    "model = RandomForestRegressor(\n",
    "    random_state=RANDOM_SEED,\n",
    "    n_jobs=-1,\n",
    ")\n",
    "model.fit(X_train, y_train)\n",
    "y_predict = model.predict(X_test)\n",
    "print(f\"MAPE: {(mape(y_test, y_predict) * 100):0.2f}%\")\n",
    "# MAPE: 8.49\n",
    "# Время: 40 сек"
   ]
  },
  {
   "cell_type": "code",
   "execution_count": 145,
   "metadata": {},
   "outputs": [],
   "source": [
    "# сабмитим на лидер борд\n",
    "y_lb = model.predict(X_lb)\n",
    "y_lb = y_lb.round()\n",
    "sample_submission[\"price\"] = y_lb\n",
    "sample_submission.to_csv(\"./submission_final_01.csv\", index=False)\n",
    "# Kaggle: 13.20330"
   ]
  },
  {
   "cell_type": "code",
   "execution_count": 146,
   "metadata": {},
   "outputs": [
    {
     "name": "stdout",
     "output_type": "stream",
     "text": [
      "MAPE: 7.80%\n"
     ]
    }
   ],
   "source": [
    "# если берем логарифм цены\n",
    "model = RandomForestRegressor(\n",
    "    random_state=RANDOM_SEED,\n",
    "    n_jobs=-1,\n",
    ")\n",
    "model.fit(X_train, np.log(y_train + 1))\n",
    "y_predict = np.exp(model.predict(X_test)) - 1\n",
    "print(f\"MAPE: {(mape(y_test, y_predict) * 100):0.2f}%\")\n",
    "# MAPE: 7.80%\n",
    "# Время: 40 сек"
   ]
  },
  {
   "cell_type": "code",
   "execution_count": 147,
   "metadata": {},
   "outputs": [],
   "source": [
    "# MAPE получилось лучше\n",
    "y_lb = np.exp(model.predict(X_lb)) - 1\n",
    "y_lb = y_lb.round()\n",
    "sample_submission[\"price\"] = y_lb\n",
    "sample_submission.to_csv(\"./submission_final_02.csv\", index=False)\n",
    "# Kaggle: 12.41811"
   ]
  },
  {
   "cell_type": "code",
   "execution_count": 148,
   "metadata": {},
   "outputs": [],
   "source": [
    "# # попробуем найти оптимальные параметры с RandomizedSearchCV\n",
    "# n_estimators = list(range(100, 1000, 100))\n",
    "# max_features = [\"auto\", \"sqrt\"]\n",
    "# max_depth = list(range(10, 110, 10))\n",
    "# max_depth.append(None)\n",
    "# min_samples_split = [2, 5, 10]\n",
    "# min_samples_leaf = [1, 2, 4]\n",
    "# bootstrap = [True, False]\n",
    "# random_grid = {\n",
    "#     \"n_estimators\": n_estimators,\n",
    "#     \"max_features\": max_features,\n",
    "#     \"max_depth\": max_depth,\n",
    "#     \"min_samples_split\": min_samples_split,\n",
    "#     \"min_samples_leaf\": min_samples_leaf,\n",
    "#     \"bootstrap\": bootstrap,\n",
    "# }\n",
    "# rfr = RandomForestRegressor(random_state=RANDOM_SEED, n_jobs=-1)\n",
    "# rfr_random = RandomizedSearchCV(\n",
    "#     estimator=rfr_default_log,\n",
    "#     param_distributions=random_grid,\n",
    "#     n_iter=100,\n",
    "#     cv=3,\n",
    "#     verbose=2,\n",
    "#     random_state=RANDOM_SEED,\n",
    "#     n_jobs=-1,\n",
    "# )\n",
    "# rfr_random.fit(X_train, np.log(y_train + 1))"
   ]
  },
  {
   "cell_type": "code",
   "execution_count": 149,
   "metadata": {},
   "outputs": [],
   "source": [
    "# Считалось долго, результат следующий:\n",
    "# rfr_random.best_params_\n",
    "#  {\n",
    "#     \"n_estimators\": 700,\n",
    "#     \"min_samples_split\": 2,\n",
    "#     \"min_samples_leaf\": 1,\n",
    "#     \"max_features\": \"sqrt\",\n",
    "#     \"max_depth\": 90,\n",
    "#     \"bootstrap\": False,\n",
    "# }"
   ]
  },
  {
   "cell_type": "code",
   "execution_count": 150,
   "metadata": {},
   "outputs": [
    {
     "name": "stdout",
     "output_type": "stream",
     "text": [
      "MAPE: 7.68%\n"
     ]
    }
   ],
   "source": [
    "# попробуем с полученными параметрами. тут и далее будем брать логарифм цены\n",
    "model = RandomForestRegressor(\n",
    "    random_state=RANDOM_SEED,\n",
    "    n_jobs=-1,\n",
    "    n_estimators=700,\n",
    "    min_samples_split=2,\n",
    "    min_samples_leaf=1,\n",
    "    max_features=\"sqrt\",\n",
    "    max_depth=90,\n",
    "    bootstrap=False,\n",
    ")\n",
    "model.fit(X_train, np.log(y_train + 1))\n",
    "y_predict = np.exp(model.predict(X_test)) - 1\n",
    "print(f\"MAPE: {(mape(y_test, y_predict) * 100):0.2f}%\")\n",
    "# MAPE: 7.68%\n",
    "# Время: 1.5 мин"
   ]
  },
  {
   "cell_type": "code",
   "execution_count": 151,
   "metadata": {},
   "outputs": [
    {
     "data": {
      "text/plain": [
       "<AxesSubplot:>"
      ]
     },
     "execution_count": 151,
     "metadata": {},
     "output_type": "execute_result"
    },
    {
     "data": {
      "image/png": "[encoded data removed]",
      "text/plain": [
       "<Figure size 720x288 with 1 Axes>"
      ]
     },
     "metadata": {},
     "output_type": "display_data"
    }
   ],
   "source": [
    "# По топ наиболее влияющим фичам все ожидаемо с обывательской точки зрения.\n",
    "# Интересно, что есть много фич, добавленных в ходе Feature Engineeering'а\n",
    "fig, ax = plt.subplots(figsize=(10, 4))\n",
    "fig.patch.set_facecolor(\"xkcd:white\")\n",
    "feat_importances = pd.Series(model.feature_importances_, index=X.columns)\n",
    "feat_importances.nlargest(15).plot(kind=\"barh\", ax=ax)\n"
   ]
  },
  {
   "cell_type": "code",
   "execution_count": 152,
   "metadata": {},
   "outputs": [],
   "source": [
    "# MAPE почти не поменялась\n",
    "y_lb = np.exp(model.predict(X_lb)) - 1\n",
    "y_lb = y_lb.round()\n",
    "sample_submission[\"price\"] = y_lb\n",
    "sample_submission.to_csv(\"./submission_final_03.csv\", index=False)\n",
    "# Kaggle: 12.69211\n",
    "# результат получился даже чуть хуже, чем на параметрах по умолчанию (12.41811)"
   ]
  },
  {
   "cell_type": "markdown",
   "metadata": {},
   "source": [
    "## CatBoost"
   ]
  },
  {
   "cell_type": "code",
   "execution_count": 153,
   "metadata": {},
   "outputs": [],
   "source": [
    "# разделяем датасет для catboost\n",
    "X_catboost = df_catboost.loc[df_catboost.data_type != 0, :].copy()\n",
    "X_catboost.drop([\"price\", \"data_type\"], axis=1, inplace=True)\n",
    "\n",
    "y_catboost = df_catboost.loc[df_catboost.data_type != 0, \"price\"].copy()\n",
    "\n",
    "X_catboost_lb = df_catboost.loc[df_catboost.data_type == 0, :].copy()\n",
    "X_catboost_lb.drop([\"price\", \"data_type\"], axis=1, inplace=True)\n",
    "\n",
    "# разделям на тренировочную и тестовую выборки\n",
    "X_catboost_train, X_catboost_test, y_catboost_train, y_catboost_test = train_test_split(\n",
    "    X_catboost, y_catboost, test_size=VAL_SIZE, shuffle=True, random_state=RANDOM_SEED\n",
    ")"
   ]
  },
  {
   "cell_type": "code",
   "execution_count": 154,
   "metadata": {},
   "outputs": [
    {
     "name": "stdout",
     "output_type": "stream",
     "text": [
      "0:\tlearn: 2.0802837\ttest: 2.0600175\tbest: 2.0600175 (0)\ttotal: 225ms\tremaining: 7m 30s\n",
      "500:\tlearn: 0.1328843\ttest: 0.1302183\tbest: 0.1302183 (500)\ttotal: 41.3s\tremaining: 2m 3s\n",
      "1000:\tlearn: 0.1171265\ttest: 0.1158091\tbest: 0.1158091 (1000)\ttotal: 1m 24s\tremaining: 1m 24s\n",
      "1500:\tlearn: 0.1084487\ttest: 0.1084620\tbest: 0.1084620 (1500)\ttotal: 2m 5s\tremaining: 41.6s\n",
      "1999:\tlearn: 0.1029890\ttest: 0.1043994\tbest: 0.1043994 (1999)\ttotal: 2m 45s\tremaining: 0us\n",
      "\n",
      "bestTest = 0.1043994193\n",
      "bestIteration = 1999\n",
      "\n",
      "MAPE: 10.44%\n"
     ]
    }
   ],
   "source": [
    "# попробуем сначала без логарифма\n",
    "model = CatBoostRegressor(\n",
    "    iterations=2000,\n",
    "    learning_rate = 0.1,\n",
    "    random_seed=RANDOM_SEED,\n",
    "    eval_metric=\"MAPE\",\n",
    "    custom_metric=[\"R2\", \"MAE\"],\n",
    "    silent=True,\n",
    ")\n",
    "model.fit(\n",
    "    X_catboost_train,\n",
    "    y_catboost_train,\n",
    "    eval_set=(X_catboost_test, y_catboost_test),\n",
    "    verbose_eval=500,\n",
    "    use_best_model=True,\n",
    "    plot=False,\n",
    "    cat_features=list(df_catboost.select_dtypes(include=[\"object\"]).columns)\n",
    ")\n",
    "\n",
    "predict_catboost = model.predict(X_catboost_test)\n",
    "print(f\"MAPE: {(mape(y_catboost_test, predict_catboost) * 100):0.2f}%\")\n",
    "# MAPE: 10.44%\n",
    "# Время: 3 мин"
   ]
  },
  {
   "cell_type": "code",
   "execution_count": 155,
   "metadata": {},
   "outputs": [
    {
     "name": "stdout",
     "output_type": "stream",
     "text": [
      "0:\tlearn: 0.0568287\ttest: 0.0566990\tbest: 0.0566990 (0)\ttotal: 90.5ms\tremaining: 3m\n",
      "500:\tlearn: 0.0071866\ttest: 0.0071596\tbest: 0.0071596 (500)\ttotal: 38.1s\tremaining: 1m 54s\n",
      "1000:\tlearn: 0.0064302\ttest: 0.0065634\tbest: 0.0065634 (1000)\ttotal: 1m 18s\tremaining: 1m 17s\n",
      "1500:\tlearn: 0.0060564\ttest: 0.0063241\tbest: 0.0063241 (1500)\ttotal: 1m 58s\tremaining: 39.5s\n",
      "1999:\tlearn: 0.0058007\ttest: 0.0061879\tbest: 0.0061879 (1999)\ttotal: 2m 38s\tremaining: 0us\n",
      "\n",
      "bestTest = 0.006187943912\n",
      "bestIteration = 1999\n",
      "\n",
      "MAPE: 8.40%\n"
     ]
    }
   ],
   "source": [
    "# MAPE получилась хуже, чем с RandomForest, тепер с логарифмом\n",
    "\n",
    "cat_boost = CatBoostRegressor(\n",
    "    iterations=2000,\n",
    "    learning_rate = 0.1,\n",
    "    random_seed=RANDOM_SEED,\n",
    "    eval_metric=\"MAPE\",\n",
    "    custom_metric=[\"R2\", \"MAE\"],\n",
    ")\n",
    "cat_boost.fit(\n",
    "    X_catboost_train,\n",
    "    np.log(y_catboost_train + 1),\n",
    "    eval_set=(X_catboost_test, np.log(y_catboost_test+1)),\n",
    "    verbose_eval=500,\n",
    "    use_best_model=True,\n",
    "    plot=False,\n",
    "    cat_features=list(df_catboost.select_dtypes(include=[\"object\"]).columns)\n",
    ")\n",
    "\n",
    "predict_catboost = np.exp(cat_boost.predict(X_catboost_test)) - 1\n",
    "print(f\"MAPE: {(mape(y_catboost_test, predict_catboost) * 100):0.2f}%\")\n",
    "# MAPE: 8.40%\n",
    "# Время: 3 мин"
   ]
  },
  {
   "cell_type": "code",
   "execution_count": 156,
   "metadata": {},
   "outputs": [],
   "source": [
    "# МАРЕ стала лучше. Попробуем засабмитить вариант с логарифмом\n",
    "y_lb = np.exp(cat_boost.predict(X_catboost_lb)) - 1\n",
    "y_lb = y_lb.round()\n",
    "sample_submission[\"price\"] = y_lb\n",
    "sample_submission.to_csv(\"./submission_final_04.csv\", index=False)\n",
    "# результат 13.90262, хуже, чем на параметрах по умолчанию для RandomForest (12.41811)"
   ]
  },
  {
   "cell_type": "code",
   "execution_count": 157,
   "metadata": {},
   "outputs": [
    {
     "data": {
      "image/png": "[encoded data removed]",
      "text/plain": [
       "<Figure size 720x504 with 1 Axes>"
      ]
     },
     "metadata": {},
     "output_type": "display_data"
    }
   ],
   "source": [
    "# посмотрим на влияние каждого параметра на целевую переменную\n",
    "fig, ax = plt.subplots(figsize=(10, 7))\n",
    "fig.patch.set_facecolor(\"xkcd:white\")\n",
    "feature_imp = pd.DataFrame({\"imp\": cat_boost.feature_importances_, \"col\": X_catboost.columns})\n",
    "feature_imp = feature_imp.sort_values([\"imp\", \"col\"], ascending=[True, False]).iloc[-20:]\n",
    "feature_imp.plot(kind=\"barh\", x=\"col\", y=\"imp\", legend=None, ax=ax)\n",
    "plt.title(\"CatBoost - Feature Importance\")\n",
    "plt.ylabel(\"Features\")\n",
    "plt.xlabel(\"Importance\")\n",
    "plt.show()"
   ]
  },
  {
   "cell_type": "code",
   "execution_count": 158,
   "metadata": {},
   "outputs": [],
   "source": [
    "# видно, что наиболее влияющие на цену параметры это год/мощность двигателя, а искусственно созданные нами\n",
    "# колонки warranty/popular_body и пр не оказывают сильного влияния"
   ]
  },
  {
   "cell_type": "markdown",
   "metadata": {},
   "source": [
    "## DecisionTreeRegressor"
   ]
  },
  {
   "cell_type": "code",
   "execution_count": 159,
   "metadata": {},
   "outputs": [
    {
     "name": "stdout",
     "output_type": "stream",
     "text": [
      "MAPE: 11.15%\n"
     ]
    }
   ],
   "source": [
    "# без логарифма\n",
    "model = DecisionTreeRegressor(\n",
    "    random_state=RANDOM_SEED,\n",
    ")\n",
    "model.fit(X_train, y_train)\n",
    "y_predict = model.predict(X_test)\n",
    "print(f\"MAPE: {(mape(y_test, y_predict) * 100):0.2f}%\")\n",
    "# MAPE: 11.15%\n",
    "# Время 4 сек"
   ]
  },
  {
   "cell_type": "code",
   "execution_count": 160,
   "metadata": {},
   "outputs": [
    {
     "name": "stdout",
     "output_type": "stream",
     "text": [
      "MAPE: 11.14%\n"
     ]
    }
   ],
   "source": [
    "# с логарифмом\n",
    "model = DecisionTreeRegressor(\n",
    "    random_state=RANDOM_SEED,\n",
    ")\n",
    "model.fit(X_train, np.log(y_train + 1))\n",
    "y_predict = np.exp(model.predict(X_test)) - 1\n",
    "print(f\"MAPE: {(mape(y_test, y_predict) * 100):0.2f}%\")\n",
    "# MAPE: 11.14%\n",
    "# Время: 3 сек"
   ]
  },
  {
   "cell_type": "code",
   "execution_count": 161,
   "metadata": {},
   "outputs": [],
   "source": [
    "# Разницы в МАРЕ никакой, как и в прошлых моделях пробуем засабмитить вариант с логарифмом\n",
    "y_lb = np.exp(model.predict(X_lb)) - 1\n",
    "y_lb = y_lb.round()\n",
    "sample_submission[\"price\"] = y_lb\n",
    "sample_submission.to_csv(\"./submission_final_05.csv\", index=False)\n",
    "# результат 16.18319, пока самый худший результат, но зато считается раз в 10 быстрее чем RandomForest"
   ]
  },
  {
   "cell_type": "markdown",
   "metadata": {},
   "source": [
    "## AdaBoostRegressor"
   ]
  },
  {
   "cell_type": "code",
   "execution_count": 162,
   "metadata": {},
   "outputs": [
    {
     "name": "stdout",
     "output_type": "stream",
     "text": [
      "MAPE: 7.67%\n"
     ]
    }
   ],
   "source": [
    "# Попробуем применит Ada Boost к RandomForest с параметрами по-умолчанию\n",
    "ada = AdaBoostRegressor(\n",
    "    base_estimator=RandomForestRegressor(\n",
    "        random_state=RANDOM_SEED,\n",
    "        n_jobs=-1,\n",
    "    ),\n",
    "    random_state=RANDOM_SEED,\n",
    "    n_estimators=10,\n",
    "    loss=\"exponential\",\n",
    "    learning_rate=0.5,\n",
    ")\n",
    "ada.fit(X_train, np.log(y_train + 1))\n",
    "y_predict = np.exp(ada.predict(X_test)) - 1\n",
    "print(f\"MAPE: {(mape(y_test, y_predict) * 100):0.2f}%\")\n",
    "# MAPE: 7.67%\n",
    "# Время: 7.5 мин"
   ]
  },
  {
   "cell_type": "code",
   "execution_count": 163,
   "metadata": {},
   "outputs": [],
   "source": [
    "# # Дало МАРЕ такое же, как и RandomForest (7.68 было)\n",
    "# # попробуем найти оптимальные параметры с GridSearchCV, параметры в итоге подбирал вручную, так как своих ресурсов на\n",
    "# # полноценный *SearchCV не хватает. Google colab так же не помог, постоянно вылетал из-за нехватки памяти.\n",
    "\n",
    "# n_estimators = [2, 4, 10]\n",
    "# loss = [\"linear\", \"square\"]\n",
    "# learning_rate = [0.2, 0.4, 1.0]\n",
    "# param_grid = {\n",
    "#     \"n_estimators\": n_estimators,\n",
    "#     \"loss\": loss,\n",
    "#     \"learning_rate\": learning_rate,\n",
    "# }\n",
    "# ada_grid = GridSearchCV(\n",
    "#     estimator=AdaBoostRegressor(\n",
    "#         base_estimator=RandomForestRegressor(\n",
    "#             random_state=RANDOM_SEED,\n",
    "#             n_jobs=-1,\n",
    "#         ),\n",
    "#         random_state=RANDOM_SEED,\n",
    "#     ),\n",
    "#     param_grid=param_grid,\n",
    "#     n_jobs=-1,\n",
    "#     verbose=2,\n",
    "#     cv=3,\n",
    "# )\n",
    "# ada_grid.fit(X_train, np.log(y_train + 1))\n"
   ]
  },
  {
   "cell_type": "code",
   "execution_count": 164,
   "metadata": {},
   "outputs": [],
   "source": [
    "# # получили некоторые параметры\n",
    "# # {'learning_rate': 1.0, 'loss': 'linear', 'n_estimators': 10}\n",
    "# ada_grid.best_params_"
   ]
  },
  {
   "cell_type": "markdown",
   "metadata": {},
   "source": [
    "фактически, параметры для AdaBoost подбирал вручную, рандомно выбирая комбинацию. Как отметил выше, ресурсов нехватило на автоматический поиск. В итоге получилось следующее\n",
    "| n_estimators | loss | learning_rate | time to execute | MAPE |\n",
    "| :----------: | :--: | :-----------: | :-------------: | :--: |\n",
    "| 10 | exponential | 0.5 | 8 min | 7.67 |\n",
    "| 10 | square | 0.5 | 8 min | 7.79 |\n",
    "| 25 | exponential | 0.5 | 23 min | 7.59 |\n",
    "| 25 | square | 0.5 | 19 min | 7.64 |\n",
    "| 25 | linear | 0.5 | 19 min | 7.58 |\n",
    "| 50 | exponential | 0.5 | 42 min | 7.58 |\n",
    "| 100 | exponential | 0.5 | 64 min | 7.64 |\n",
    "| 100 | exponential | 0.3 | 75 min | 7.59 |\n",
    "| 150 | exponential | 0.2 | 98 min | 7.58 |\n",
    "| 150 | linear | 0.2 | 99 min | 7.59 |\n"
   ]
  },
  {
   "cell_type": "code",
   "execution_count": 165,
   "metadata": {},
   "outputs": [
    {
     "name": "stdout",
     "output_type": "stream",
     "text": [
      "MAPE: 7.58%\n"
     ]
    }
   ],
   "source": [
    "# В итоге останавливаемся на следующих параметрах\n",
    "ada = AdaBoostRegressor(\n",
    "    base_estimator=RandomForestRegressor(\n",
    "        random_state=RANDOM_SEED,\n",
    "        n_jobs=-1,\n",
    "    ),\n",
    "    random_state=RANDOM_SEED,\n",
    "    n_estimators=150,\n",
    "    loss=\"exponential\",\n",
    "    learning_rate=0.2,\n",
    ")\n",
    "ada.fit(X_train, np.log(y_train + 1))\n",
    "y_predict = np.exp(ada.predict(X_test)) - 1\n",
    "print(f\"MAPE: {(mape(y_test, y_predict) * 100):0.2f}%\")\n",
    "# MAPE: 7.58%\n",
    "# Время: 100 мин"
   ]
  },
  {
   "cell_type": "code",
   "execution_count": 166,
   "metadata": {},
   "outputs": [],
   "source": [
    "# пока самое лучшее МАРЕ, но 100 минут на обучение трбует\n",
    "y_lb = np.exp(ada.predict(X_lb)) - 1\n",
    "y_lb = y_lb.round()\n",
    "sample_submission[\"price\"] = y_lb\n",
    "sample_submission.to_csv(\"./submission_final_07.csv\", index=False)\n",
    "# Kaggle: 11.70037"
   ]
  },
  {
   "cell_type": "code",
   "execution_count": 167,
   "metadata": {},
   "outputs": [],
   "source": [
    "# мы отделяли датафрейм с equipment колонкой, попробуем его вернуть обратно и сделать ada boost c общим датасетом\n",
    "df_full = pd.concat([df, df_equipment], axis=1)\n",
    "\n",
    "# X для нового датасета нужно сделать новые, y будет без изменений\n",
    "X_full = df_full.loc[df_full.data_type != 0, :].copy()\n",
    "X_full.drop([\"price\", \"data_type\"], axis=1, inplace=True)\n",
    "\n",
    "X_full_lb = df_full.loc[df_full.data_type == 0, :].copy()\n",
    "X_full_lb.drop([\"price\", \"data_type\"], axis=1, inplace=True)\n",
    "\n",
    "# разделям на тренировочную и тестовую выборки\n",
    "X_full_train, X_full_test, y_full_train, y_full_test = train_test_split(\n",
    "    X_full, y, test_size=VAL_SIZE, shuffle=True, random_state=RANDOM_SEED\n",
    ")"
   ]
  },
  {
   "cell_type": "code",
   "execution_count": 168,
   "metadata": {},
   "outputs": [
    {
     "name": "stdout",
     "output_type": "stream",
     "text": [
      "MAPE: 7.58%\n"
     ]
    }
   ],
   "source": [
    "# сначала проверим на \"быстрых\" паретрах\n",
    "ada = AdaBoostRegressor(\n",
    "    base_estimator=RandomForestRegressor(\n",
    "        random_state=RANDOM_SEED,\n",
    "        n_jobs=-1,\n",
    "    ),\n",
    "    random_state=RANDOM_SEED,\n",
    "    n_estimators=10,\n",
    "    loss=\"exponential\",\n",
    "    learning_rate=0.5,\n",
    ")\n",
    "ada.fit(X_full_train, np.log(y_full_train + 1))\n",
    "y_predict = np.exp(ada.predict(X_full_test)) - 1\n",
    "print(f\"MAPE: {(mape(y_test, y_predict) * 100):0.2f}%\")\n",
    "# параметр | было | стало с расширенным датсетов\n",
    "# ---------|------|--------\n",
    "#     MAPE | 7.67 | 7.58\n",
    "#    время | 8min | 29min\n",
    "# В итоге MAPE улучшилось, но и время значительно возрасло\n",
    "# MAPE: 7.58%"
   ]
  },
  {
   "cell_type": "code",
   "execution_count": 169,
   "metadata": {},
   "outputs": [],
   "source": [
    "# # запустим на пареметрах, при которых получили лучший результат на лидер борде\n",
    "# ada = AdaBoostRegressor(\n",
    "#     base_estimator=RandomForestRegressor(\n",
    "#         random_state=RANDOM_SEED,\n",
    "#         n_jobs=-1,\n",
    "#     ),\n",
    "#     random_state=RANDOM_SEED,\n",
    "#     n_estimators=150,\n",
    "#     loss=\"exponential\",\n",
    "#     learning_rate=0.2,\n",
    "# )\n",
    "# ada.fit(X_full_train, np.log(y_train + 1))\n",
    "# y_predict = np.exp(ada.predict(X_full_test)) - 1\n",
    "# print(f\"MAPE: {(mape(y_test, y_predict) * 100):0.2f}%\")\n",
    "# # MAPE: 7.42%\n",
    "# # Время: 400 мин"
   ]
  },
  {
   "cell_type": "code",
   "execution_count": 170,
   "metadata": {},
   "outputs": [],
   "source": [
    "# # на полном датасете МАРЕ пока самая лучшая, но время на обучение 400минут\n",
    "# # засабмитим на лидер борд\n",
    "# y_lb = np.exp(ada.predict(X_full_lb)) - 1\n",
    "# y_lb = y_lb.round()\n",
    "# sample_submission[\"price\"] = y_lb\n",
    "# sample_submission.to_csv(\"./submission_final_08.csv\", index=False)\n",
    "# # результат 11.88808, что чуть хуже, чем да датасете без equipment. Но времени в разы больше нужно"
   ]
  },
  {
   "cell_type": "markdown",
   "metadata": {},
   "source": [
    "## ExtraTreesRegressor"
   ]
  },
  {
   "cell_type": "code",
   "execution_count": 171,
   "metadata": {},
   "outputs": [
    {
     "name": "stdout",
     "output_type": "stream",
     "text": [
      "MAPE: 7.62%\n"
     ]
    }
   ],
   "source": [
    "# начнем c параметрами по-умолчанию\n",
    "model = ExtraTreesRegressor(\n",
    "    random_state=RANDOM_SEED,\n",
    "    n_jobs=-1,\n",
    ")\n",
    "model.fit(X_train, np.log(y_train + 1))\n",
    "y_predict = np.exp(model.predict(X_test)) - 1\n",
    "print(f\"MAPE: {(mape(y_test, y_predict) * 100):0.2f}%\")\n",
    "# MAPE: 7.62%\n",
    "# Время: 50 сек"
   ]
  },
  {
   "cell_type": "code",
   "execution_count": 172,
   "metadata": {},
   "outputs": [
    {
     "name": "stdout",
     "output_type": "stream",
     "text": [
      "MAPE: 7.39%\n"
     ]
    }
   ],
   "source": [
    "# увеличим число деревьев\n",
    "model = ExtraTreesRegressor(\n",
    "    random_state=RANDOM_SEED,\n",
    "    n_estimators=300,\n",
    "    bootstrap=True,\n",
    "    n_jobs=-1,\n",
    ")\n",
    "model.fit(X_train, np.log(y_train + 1))\n",
    "y_predict = np.exp(model.predict(X_test)) - 1\n",
    "print(f\"MAPE: {(mape(y_test, y_predict) * 100):0.2f}%\")\n",
    "# MAPE: 7.39%\n",
    "# Время: 2 мин"
   ]
  },
  {
   "cell_type": "code",
   "execution_count": 173,
   "metadata": {},
   "outputs": [],
   "source": [
    "# засабмитим на лидер борд\n",
    "y_lb = np.exp(model.predict(X_lb)) - 1\n",
    "y_lb = y_lb.round()\n",
    "sample_submission[\"price\"] = y_lb\n",
    "sample_submission.to_csv(\"./submission_final_09.csv\", index=False)\n",
    "# Kaggle: 12.37975"
   ]
  },
  {
   "cell_type": "markdown",
   "metadata": {},
   "source": [
    "## XGBoost"
   ]
  },
  {
   "cell_type": "code",
   "execution_count": 174,
   "metadata": {},
   "outputs": [
    {
     "name": "stdout",
     "output_type": "stream",
     "text": [
      "MAPE: 7.46%\n"
     ]
    }
   ],
   "source": [
    "model = xgb.XGBRegressor(\n",
    "    objective=\"reg:squarederror\",\n",
    "    colsample_bytree=0.5,\n",
    "    learning_rate=0.05,\n",
    "    max_depth=15,\n",
    "    alpha=1,\n",
    "    n_estimators=500,\n",
    "    random_state=RANDOM_SEED,\n",
    "    n_jobs=-1,\n",
    ")\n",
    "\n",
    "model.fit(X_train, np.log(y_train + 1))\n",
    "y_predict = np.exp(model.predict(X_test)) - 1\n",
    "print(f\"MAPE: {(mape(y_test, y_predict) * 100):0.2f}%\")\n",
    "# МАРЕ: 7.46\n",
    "# Время: 11 мин"
   ]
  },
  {
   "cell_type": "code",
   "execution_count": 175,
   "metadata": {},
   "outputs": [
    {
     "data": {
      "image/png": "[encoded data removed]",
      "text/plain": [
       "<Figure size 1080x216 with 1 Axes>"
      ]
     },
     "metadata": {},
     "output_type": "display_data"
    }
   ],
   "source": [
    "# топ-10 влиятельных фич. не совсем ожидаемая картина, например количество слов в описании или цвет\n",
    "fig, ax = plt.subplots(figsize=(15, 3))\n",
    "fig.patch.set_facecolor(\"xkcd:white\")\n",
    "xgb.plot_importance(model, max_num_features=10, ax=ax)\n",
    "plt.show()"
   ]
  },
  {
   "cell_type": "code",
   "execution_count": 176,
   "metadata": {},
   "outputs": [],
   "source": [
    "# засабмитим на лидер борд\n",
    "y_lb = np.exp(model.predict(X_lb)) - 1\n",
    "y_lb = y_lb.round()\n",
    "sample_submission[\"price\"] = y_lb\n",
    "sample_submission.to_csv(\"./submission_final_10.csv\", index=False)\n",
    "# Kaggle: 12.71385"
   ]
  },
  {
   "cell_type": "markdown",
   "metadata": {},
   "source": [
    "## StackingRegressor"
   ]
  },
  {
   "cell_type": "code",
   "execution_count": 177,
   "metadata": {},
   "outputs": [
    {
     "name": "stdout",
     "output_type": "stream",
     "text": [
      "MAPE: 7.23%\n"
     ]
    }
   ],
   "source": [
    "estimators = [\n",
    "    (\n",
    "        \"rfr\",\n",
    "        RandomForestRegressor(\n",
    "            random_state=RANDOM_SEED,\n",
    "            n_jobs=-1,\n",
    "        ),\n",
    "    ),\n",
    "    (\n",
    "        \"etr\",\n",
    "        ExtraTreesRegressor(\n",
    "            random_state=RANDOM_SEED,\n",
    "            n_estimators=300,\n",
    "            bootstrap=True,\n",
    "            n_jobs=-1,\n",
    "        ),\n",
    "    ),\n",
    "    (\n",
    "        \"xgb\",\n",
    "        xgb.XGBRegressor(\n",
    "            objective=\"reg:squarederror\",\n",
    "            colsample_bytree=0.5,\n",
    "            learning_rate=0.05,\n",
    "            max_depth=15,\n",
    "            alpha=1,\n",
    "            n_estimators=500,\n",
    "            random_state=RANDOM_SEED,\n",
    "            n_jobs=-1,            \n",
    "        ),\n",
    "    ),\n",
    "]\n",
    "\n",
    "stack = StackingRegressor(\n",
    "    estimators=estimators,\n",
    "    final_estimator=LinearRegression(),\n",
    "    cv=5,\n",
    "    n_jobs=-1,\n",
    ")\n",
    "\n",
    "stack.fit(X_train, np.log(y_train + 1))\n",
    "y_predict = np.exp(stack.predict(X_test)) - 1\n",
    "print(f\"MAPE: {(mape(y_test, y_predict) * 100):0.2f}%\")\n",
    "# MAPE: 7.23%\n",
    "# Время: 35 мин\n"
   ]
  },
  {
   "cell_type": "code",
   "execution_count": 178,
   "metadata": {},
   "outputs": [],
   "source": [
    "# засабмитим на лидер борд\n",
    "y_lb = np.exp(stack.predict(X_lb)) - 1\n",
    "y_lb = y_lb.round()\n",
    "sample_submission[\"price\"] = y_lb\n",
    "sample_submission.to_csv(\"./submission_final_11.csv\", index=False)\n",
    "# Kaggle: 12.19727"
   ]
  },
  {
   "cell_type": "markdown",
   "metadata": {},
   "source": [
    "## Коэффициент цены\n",
    "Предыдущие предсказания мы делали на объедененном датасете (с baseline и найденном на кагле). Попробуем, по возможности, более точно поправить коэффицент цены, а так же сделать предсказания на основе только одного датасета."
   ]
  },
  {
   "cell_type": "code",
   "execution_count": 179,
   "metadata": {},
   "outputs": [],
   "source": [
    "# с кагла, data_type = 2, тренировочный\n",
    "X_train = df.loc[df.data_type == 2, :].copy()\n",
    "X_train.drop([\"price\", \"data_type\"], axis=1, inplace=True)\n",
    "\n",
    "y_train = df.loc[df.data_type == 2, \"price\"].copy()\n",
    "\n",
    "# с baseline, data_type = 1, тестовый\n",
    "X_test = df.loc[df.data_type == 1, :].copy()\n",
    "X_test.drop([\"price\", \"data_type\"], axis=1, inplace=True)\n",
    "\n",
    "y_test = df.loc[df.data_type == 1, \"price\"].copy()\n"
   ]
  },
  {
   "cell_type": "code",
   "execution_count": 180,
   "metadata": {},
   "outputs": [
    {
     "name": "stdout",
     "output_type": "stream",
     "text": [
      "MAPE: 28.15%\n"
     ]
    }
   ],
   "source": [
    "# пробовать будем используя RandomForestRegressor с параметрами по-умолчанию\n",
    "# считалось быстро и результат был не сильно хуже лучшего\n",
    "model = RandomForestRegressor(\n",
    "    random_state=RANDOM_SEED,\n",
    "    n_jobs=-1,\n",
    ")\n",
    "model.fit(X_train, np.log(y_train + 1))\n",
    "y_predict = np.exp(model.predict(X_test)) - 1\n",
    "print(f\"MAPE: {(mape(y_test, y_predict) * 100):0.2f}%\")\n",
    "# MAPE: 28.15%\n",
    "# Время: 20 сек\n",
    "# получается, что ошибка при обучении на датасете с кагла и предсказания цены для датасета из baseline\n",
    "# составляет почти 30%, что очень много"
   ]
  },
  {
   "cell_type": "code",
   "execution_count": 181,
   "metadata": {},
   "outputs": [
    {
     "data": {
      "image/png": "[encoded data removed]",
      "text/plain": [
       "<Figure size 576x288 with 6 Axes>"
      ]
     },
     "metadata": {},
     "output_type": "display_data"
    }
   ],
   "source": [
    "# возьмем на выбор пару моделей и посмотрим, что с ценой в каждом из датасетов\n",
    "jp1 = sns.jointplot(\n",
    "    x=\"mileage\",\n",
    "    y=\"price\",\n",
    "    kind=\"reg\",\n",
    "    data=train_extra[\n",
    "        # (train_extra.model_name==\"Qashqai\")\n",
    "        (train_extra.model_name == \"X-Trail\")\n",
    "        & (train_extra.modelDate == 2017)\n",
    "        & (train_extra.enginePower == \"144 N12\")\n",
    "        & (train_extra.productionDate == 2019)\n",
    "        & (train_extra[\"Владельцы\"] == \"1 владелец\")\n",
    "        & (train_extra[\"Привод\"] == \"полный\")\n",
    "        & (train_extra.mileage != 0)\n",
    "        & (train_extra[\"Состояние\"] == \"Не требует ремонта\")\n",
    "        & (train_extra.vehicleTransmission == \"вариатор\")\n",
    "    ][[\"mileage\", \"price\"]],\n",
    ")\n",
    "\n",
    "jp2 = sns.jointplot(\n",
    "    x=\"mileage\",\n",
    "    y=\"price\",\n",
    "    kind=\"reg\",\n",
    "    data=train_basic[\n",
    "        # (train_basic.model_name==\"QASHQAI\")\n",
    "        (train_basic.model_name == \"X_TRAIL\")\n",
    "        & (train_basic.enginePower == 144)\n",
    "        & (train_basic.productionDate == 2019)\n",
    "        & (train_basic[\"Владельцы\"] == 1)\n",
    "        & (train_basic[\"Привод\"] == \"полный\")\n",
    "        & (train_basic.mileage != 0)\n",
    "        & (train_basic.vehicleTransmission == \"VARIATOR\")\n",
    "        & (train_basic.modelDate == 2017)\n",
    "    ],\n",
    ")\n",
    "\n",
    "fig = plt.figure(figsize=(8, 4))\n",
    "fig.patch.set_facecolor(\"xkcd:white\")\n",
    "gs = gridspec.GridSpec(1, 2)\n",
    "\n",
    "mg0 = SeabornFig2Grid(jp1, fig, gs[0])\n",
    "mg1 = SeabornFig2Grid(jp2, fig, gs[1])\n",
    "\n",
    "gs.tight_layout(fig)\n"
   ]
  },
  {
   "cell_type": "code",
   "execution_count": 182,
   "metadata": {},
   "outputs": [],
   "source": [
    "# странно, что цена на одном графике идет вверх при увеличении пробега, возможно дело в разных комплектациях авто в выборке\n",
    "# или есть битые авто, мы не фильтровали это, в итоге для двух моделей нисана получилось следующее\n",
    "# (оценка \"на глаз\" по среднему значению цены для примерно одинакогового пробега)\n",
    "#  - 1650 т.р. против 1950 т.р. для qashqai\n",
    "#  - 1800 т.р. против 2100 т.р. для x-trail\n",
    "# модели выбирал случайно, что бы просто посмотреть, как менялась цена. В обоих случаях изменение около 14-15%\n",
    "# а не 20% как изначально заложили"
   ]
  },
  {
   "cell_type": "code",
   "execution_count": 183,
   "metadata": {},
   "outputs": [
    {
     "data": {
      "image/png": "[encoded data removed]",
      "text/plain": [
       "<Figure size 576x288 with 6 Axes>"
      ]
     },
     "metadata": {},
     "output_type": "display_data"
    }
   ],
   "source": [
    "# посмотрим тоже самое для вольво\n",
    "jp1 = sns.jointplot(\n",
    "    x=\"mileage\",\n",
    "    y=\"price\",\n",
    "    kind=\"reg\",\n",
    "    data=train_extra[\n",
    "        (train_extra.brand == \"VOLVO\")\n",
    "        & (train_extra.model_name == \"XC60\")\n",
    "        & (train_extra.enginePower == \"181 N12\")\n",
    "        & (train_extra.productionDate == 2014)\n",
    "        & (train_extra[\"Владельцы\"] == \"1 владелец\")\n",
    "        & (train_extra[\"Привод\"] == \"полный\")\n",
    "        & (train_extra.mileage != 0)\n",
    "        & (train_extra.vehicleTransmission == \"автоматическая\")\n",
    "    ][[\"mileage\", \"price\"]],\n",
    ")\n",
    "\n",
    "jp2 = sns.jointplot(\n",
    "    x=\"mileage\",\n",
    "    y=\"price\",\n",
    "    kind=\"reg\",\n",
    "    data=train_basic[\n",
    "        (train_basic.brand == \"VOLVO\")\n",
    "        & (train_basic.model_name == \"XC60\")\n",
    "        & (train_basic.enginePower == 163)\n",
    "        & (train_basic.productionDate == 2012)\n",
    "        & (train_basic[\"Владельцы\"] == 1)\n",
    "        & (train_basic[\"Привод\"] == \"полный\")\n",
    "        & (train_basic.vehicleTransmission == \"AUTOMATIC\")\n",
    "        & (train_basic.mileage != 0)\n",
    "    ][[\"mileage\", \"price\"]],\n",
    ")\n",
    "\n",
    "fig = plt.figure(figsize=(8, 4))\n",
    "fig.patch.set_facecolor(\"xkcd:white\")\n",
    "gs = gridspec.GridSpec(1, 2)\n",
    "\n",
    "mg0 = SeabornFig2Grid(jp1, fig, gs[0])\n",
    "mg1 = SeabornFig2Grid(jp2, fig, gs[1])\n",
    "\n",
    "gs.tight_layout(fig)"
   ]
  },
  {
   "cell_type": "code",
   "execution_count": 184,
   "metadata": {},
   "outputs": [],
   "source": [
    "# по volvo xc60, при примерно одинаковых параметрах авто, получилось следующее\n",
    "# 1900 против 1350 при 100000 км пробега, получается рост около 40% (но из train_basic брались 8ми летние машины,\n",
    "# а из train_extra - 7ми летние), но все равно рост большой, что что еще раз подтверждает,\n",
    "# что разные модели/брэнды дорожали по-разному."
   ]
  },
  {
   "cell_type": "code",
   "execution_count": 185,
   "metadata": {},
   "outputs": [
    {
     "name": "stdout",
     "output_type": "stream",
     "text": [
      "MAPE: 25.03%\n"
     ]
    }
   ],
   "source": [
    "# уменьшим цену датасета от 2021 года еще на 10% и посмотрим MAPE для предсказания цены для датасета 2020 года\n",
    "# затем попробуем по брендам вычислить среднее подорожание и сделать корректировку по каждому бренду отдельно\n",
    "#\n",
    "# RandomForestRegressor с параметрами по-умолчанию\n",
    "model = RandomForestRegressor(\n",
    "    random_state=RANDOM_SEED,\n",
    "    n_jobs=-1,\n",
    ")\n",
    "model.fit(X_train, np.log(y_train * 0.9 + 1))\n",
    "y_predict = np.exp(model.predict(X_test)) - 1\n",
    "print(f\"MAPE: {(mape(y_test, y_predict) * 100):0.2f}%\")\n",
    "# MAPE: 25.03%\n",
    "# Время: 20 сек"
   ]
  },
  {
   "cell_type": "code",
   "execution_count": 186,
   "metadata": {},
   "outputs": [],
   "source": [
    "# получось лучше чем было (28.15%), но все равно большая ошибка. Сабмитить не будем.\n",
    "# Посмотрим, что будет если на лидер борд сабмитить данные, полученные при обучении на датасетах разных годов по отдельности\n",
    "# Делить каждый датасет на трининровочные/валидационные и считать МАРЕ уже не будем.\n",
    "# используем все данные для обучения и сразу заливаем результат на кагл.\n",
    "\n",
    "# Датасет от 2021 года (с кагла) с доп. коррекцией цены 0.9\n",
    "ada = AdaBoostRegressor(\n",
    "    base_estimator=RandomForestRegressor(\n",
    "        random_state=RANDOM_SEED,\n",
    "        n_jobs=-1,\n",
    "    ),\n",
    "    random_state=RANDOM_SEED,\n",
    "    n_estimators=150,\n",
    "    loss=\"exponential\",\n",
    "    learning_rate=0.2,\n",
    ")\n",
    "ada.fit(X_train, np.log(y_train * 0.9 + 1))\n",
    "\n",
    "y_lb = np.exp(ada.predict(X_lb)) - 1\n",
    "y_lb = y_lb.round()\n",
    "sample_submission[\"price\"] = y_lb\n",
    "sample_submission.to_csv(\"./submission_final_12.csv\", index=False)\n",
    "# Время: 53 мин\n",
    "# Kaggle: 19.27023"
   ]
  },
  {
   "cell_type": "code",
   "execution_count": 187,
   "metadata": {},
   "outputs": [],
   "source": [
    "# Датасет от 2020 года (base line)\n",
    "ada = AdaBoostRegressor(\n",
    "    base_estimator=RandomForestRegressor(\n",
    "        random_state=RANDOM_SEED,\n",
    "        n_jobs=-1,\n",
    "    ),\n",
    "    random_state=RANDOM_SEED,\n",
    "    n_estimators=150,\n",
    "    loss=\"exponential\",\n",
    "    learning_rate=0.2,\n",
    ")\n",
    "ada.fit(X_test, np.log(y_test + 1))\n",
    "\n",
    "y_lb = np.exp(ada.predict(X_lb)) - 1\n",
    "y_lb = y_lb.round()\n",
    "sample_submission[\"price\"] = y_lb\n",
    "sample_submission.to_csv(\"./submission_final_13.csv\", index=False)\n",
    "# Время: 55 мин\n",
    "# Kaggle: 10.69384\n",
    "# получился лучший из всех ранее полученных результатов,"
   ]
  },
  {
   "cell_type": "code",
   "execution_count": 188,
   "metadata": {},
   "outputs": [],
   "source": [
    "# Попробуем датасет от 2021 года (с кагла) с доп. коррекцией цены 1.06\n",
    "ada = AdaBoostRegressor(\n",
    "    base_estimator=RandomForestRegressor(\n",
    "        random_state=RANDOM_SEED,\n",
    "        n_jobs=-1,\n",
    "    ),\n",
    "    random_state=RANDOM_SEED,\n",
    "    n_estimators=150,\n",
    "    loss=\"exponential\",\n",
    "    learning_rate=0.2,\n",
    ")\n",
    "ada.fit(X_train, np.log(y_train * 1.06 + 1))\n",
    "\n",
    "y_lb = np.exp(ada.predict(X_lb)) - 1\n",
    "y_lb = y_lb.round()\n",
    "sample_submission[\"price\"] = y_lb\n",
    "sample_submission.to_csv(\"./submission_final_14.csv\", index=False)\n",
    "# Время: 64 мин\n",
    "# Kaggle: 15.90357\n",
    "# лучше чем с корректировкой в 0.9, но все равно плохо"
   ]
  },
  {
   "cell_type": "markdown",
   "metadata": {},
   "source": [
    "## Второй подход\n",
    "Промежуточный вывод такой, что цена в датасете от 2021 нуждается в коррекции с более сложной логикой, чем \"уменьшаем все на Х%\". Так же, возможно, что поменялся срез рынка и это оказывает сильное вляиние на обучение, например в 2020 году было больше машин среднего класса, а в 2021 стало больше премиум сегмента.\n",
    "Последний вариант, который попробуем сделать с выборкой:\n",
    "- проверим и удалим из обучающего датасетов модели авто, которых нет в тестовом\n",
    "- сделаем коэффициент правки цены на основе каждой модели\n",
    "- в тестовом датасете нет новых машин, а в датасете от 2021 есть, поэтому удалим их, так как их цена может сильно влиять на обучение"
   ]
  },
  {
   "cell_type": "code",
   "execution_count": 189,
   "metadata": {},
   "outputs": [],
   "source": [
    "# восстанавливаем наш df из файла, что бы не повторять всю предобработку\n",
    "df = pd.read_csv(\"./df.csv\")\n",
    "\n",
    "# делаем временную колонку вида <brand>_<model_name>, что бы вычистить отсутсвующие в тестовой выборке модели.\n",
    "df[\"full_model\"] = df.brand + \"_\" + df.model_name\n",
    "df.drop(\n",
    "    df[(df.data_type != 0) & ~(df[df.data_type != 0].full_model.isin(df[df.data_type == 0].full_model))].index,\n",
    "    inplace=True,\n",
    ")\n",
    "df.drop([\"full_model\"], axis=1, inplace=True)\n",
    "\n",
    "# удаляем новые машины (пробег=0) из датасета, и колонку \"state_new\" заодно, так как она больше не имеет смыла\n",
    "df = df.drop(df[df.mileage == 0].index)\n",
    "df.drop([\"state_new\"], axis=1, inplace=True)\n",
    "\n",
    "# мы делали корректировку цены в датасете от 2021 года до сохранения в файл, поэтому восстановим оригинальное значение\n",
    "df.loc[df.data_type == 2, \"price\"] = round(df.loc[df.data_type == 2, \"price\"] / PRICE_CORRECTION)\n"
   ]
  },
  {
   "cell_type": "code",
   "execution_count": 190,
   "metadata": {},
   "outputs": [],
   "source": [
    "# делаем корректировку по цене для каждой модели\n",
    "old = df[df.data_type == 1].groupby([\"brand\", \"model_name\"]).price.mean()\n",
    "new = df[df.data_type == 2].groupby([\"brand\", \"model_name\"]).price.mean()\n",
    "\n",
    "price_coef = old / new\n",
    "price_coef.fillna(price_coef.mean(), inplace=True)\n",
    "# на всякий случай ограничим коэффициент границами 0.7 ... 1.0\n",
    "price_coef = price_coef.apply(lambda value: 0.7 if value < 0.7 else value)\n",
    "price_coef = price_coef.apply(lambda value: 1.0 if value > 1.0 else value)\n",
    "price_coef = price_coef.round(2)\n",
    "\n",
    "df.loc[df.data_type == 2, \"price\"] = df.loc[df.data_type == 2].apply(\n",
    "    lambda row: round(price_coef[row.brand][row.model_name] * row.price),\n",
    "    axis=1,\n",
    ")\n"
   ]
  },
  {
   "cell_type": "code",
   "execution_count": 191,
   "metadata": {},
   "outputs": [],
   "source": [
    "# готовим датасет для обчения\n",
    "scaler = MinMaxScaler()\n",
    "for column in columns_num:\n",
    "    scaled = scaler.fit_transform(df.loc[:, [column]])\n",
    "    df[column] = scaled\n",
    "\n",
    "encoder = BinaryEncoder(cols=[\"model_name\"])\n",
    "df_bin = encoder.fit_transform(df[\"model_name\"])\n",
    "df = pd.concat([df, df_bin], axis=1)\n",
    "df.drop([\"model_name\"], axis=1, inplace=True)\n",
    "\n",
    "df = pd.get_dummies(df, columns=columns_cat)"
   ]
  },
  {
   "cell_type": "code",
   "execution_count": 192,
   "metadata": {},
   "outputs": [],
   "source": [
    "# разделяем датасет на тренировочный/валидационный и тестовый, и выделяем целевой параметр\n",
    "X = df.loc[df.data_type != 0, :].copy()\n",
    "X.drop([\"price\", \"data_type\"], axis=1, inplace=True)\n",
    "\n",
    "y = df.loc[df.data_type != 0, \"price\"].copy()\n",
    "\n",
    "X_lb = df.loc[df.data_type == 0, :].copy()\n",
    "X_lb.drop([\"price\", \"data_type\"], axis=1, inplace=True)\n",
    "\n",
    "# разделям на тренировочную и тестовую выборки\n",
    "X_train, X_test, y_train, y_test = train_test_split(X, y, test_size=VAL_SIZE, shuffle=True, random_state=RANDOM_SEED)"
   ]
  },
  {
   "cell_type": "code",
   "execution_count": 193,
   "metadata": {},
   "outputs": [
    {
     "name": "stdout",
     "output_type": "stream",
     "text": [
      "MAPE: 7.56%\n"
     ]
    }
   ],
   "source": [
    "# Начнем с RandomForest с параметрами по-умолчанинию\n",
    "model = RandomForestRegressor(\n",
    "    random_state=RANDOM_SEED,\n",
    "    n_jobs=-1,\n",
    ")\n",
    "model.fit(X_train, np.log(y_train + 1))\n",
    "y_predict = np.exp(model.predict(X_test)) - 1\n",
    "print(f\"MAPE: {(mape(y_test, y_predict) * 100):0.2f}%\")\n",
    "# MAPE: 7.56%\n",
    "# Время: 25 сек"
   ]
  },
  {
   "cell_type": "code",
   "execution_count": 194,
   "metadata": {},
   "outputs": [],
   "source": [
    "# MAPE почти не моменялась, посмотрим на лидер борде\n",
    "y_lb = np.exp(model.predict(X_lb)) - 1\n",
    "y_lb = y_lb.round()\n",
    "sample_submission[\"price\"] = y_lb\n",
    "sample_submission.to_csv(\"./submission_final_16.csv\", index=False)\n",
    "# Kaggle: 15.05435"
   ]
  },
  {
   "cell_type": "code",
   "execution_count": 195,
   "metadata": {},
   "outputs": [
    {
     "name": "stdout",
     "output_type": "stream",
     "text": [
      "MAPE: 7.38%\n"
     ]
    }
   ],
   "source": [
    "# попробуем AdaBoost\n",
    "ada = AdaBoostRegressor(\n",
    "    base_estimator=RandomForestRegressor(\n",
    "        random_state=RANDOM_SEED,\n",
    "        n_jobs=-1,\n",
    "    ),\n",
    "    random_state=RANDOM_SEED,\n",
    "    n_estimators=150,\n",
    "    loss=\"exponential\",\n",
    "    learning_rate=0.2,\n",
    ")\n",
    "ada.fit(X_train, np.log(y_train + 1))\n",
    "\n",
    "y_predict = np.exp(ada.predict(X_test)) - 1\n",
    "print(f\"MAPE: {(mape(y_test, y_predict) * 100):0.2f}%\")\n",
    "\n",
    "y_lb = np.exp(ada.predict(X_lb)) - 1\n",
    "y_lb = y_lb.round()\n",
    "sample_submission[\"price\"] = y_lb\n",
    "sample_submission.to_csv(\"./submission_final_17.csv\", index=False)\n",
    "# MAPE: 7.38\n",
    "# Время: 54 min\n",
    "# Kaggle: 14.33915"
   ]
  },
  {
   "cell_type": "markdown",
   "metadata": {},
   "source": [
    "МАРЕ в итоге получилась хорошая, но на Kaggle результат сильно ухудшился. Возможно модель переобучатся."
   ]
  },
  {
   "cell_type": "markdown",
   "metadata": {},
   "source": [
    "## Датасет из baseline\n",
    "Результаты не очень хорошие. В итоге лучший результат дал датасет из baseline.\n",
    "Попробуем еще раз с ним поработать: удалим несуществующие модели и дубликаты\n"
   ]
  },
  {
   "cell_type": "markdown",
   "metadata": {},
   "source": [
    "### Подготовка"
   ]
  },
  {
   "cell_type": "code",
   "execution_count": 196,
   "metadata": {},
   "outputs": [],
   "source": [
    "# восстанавливаем наш df из файла, что бы не повторять всю предобработку\n",
    "df = pd.read_csv(\"./df.csv\")\n",
    "df = df.drop(df[df.data_type == 2].index)\n",
    "\n",
    "# делаем временную колонку вида <brand>_<model_name>, что бы вычистить отсутсвующие в тестовой выборке модели.\n",
    "df[\"full_model\"] = df.brand + \"_\" + df.model_name\n",
    "df.drop(\n",
    "    df[(df.data_type != 0) & ~(df[df.data_type != 0].full_model.isin(df[df.data_type == 0].full_model))].index,\n",
    "    inplace=True,\n",
    ")\n",
    "df.drop([\"full_model\"], axis=1, inplace=True)\n",
    "\n",
    "# удаляем новые машины (пробег=0) из датасета, и колонку \"state_new\" заодно, так как больше не имеет смыла\n",
    "df = df.drop(df[df.mileage == 0].index)\n",
    "df.drop([\"state_new\"], axis=1, inplace=True)\n"
   ]
  },
  {
   "cell_type": "code",
   "execution_count": 197,
   "metadata": {},
   "outputs": [],
   "source": [
    "# удалим дубликаты\n",
    "df.loc[df.data_type == 1, :] = df.loc[df.data_type == 1, :].drop_duplicates()\n",
    "df.dropna(inplace=True)"
   ]
  },
  {
   "cell_type": "code",
   "execution_count": 198,
   "metadata": {},
   "outputs": [],
   "source": [
    "# columns_num.remove(\"description_count_log\")\n",
    "# columns_num.remove(\"model_date\")\n",
    "# columns_cat.remove(\"model_name\")"
   ]
  },
  {
   "cell_type": "code",
   "execution_count": 199,
   "metadata": {},
   "outputs": [],
   "source": [
    "# готовим датасет для обчения\n",
    "scaler = MinMaxScaler()\n",
    "for column in columns_num:\n",
    "    scaled = scaler.fit_transform(df.loc[:, [column]])\n",
    "    df[column] = scaled\n",
    "\n",
    "encoder = BinaryEncoder(cols=[\"model_name\"])\n",
    "df_bin = encoder.fit_transform(df[\"model_name\"])\n",
    "df = pd.concat([df, df_bin], axis=1)\n",
    "df.drop([\"model_name\"], axis=1, inplace=True)\n",
    "\n",
    "df = pd.get_dummies(df, columns=columns_cat)"
   ]
  },
  {
   "cell_type": "code",
   "execution_count": 200,
   "metadata": {},
   "outputs": [],
   "source": [
    "# разделяем датасет на тренировочный и тестовый, и выделяем целевой параметр\n",
    "# выделять валидационный не будем. сделаем KFold валидацию, или сразу будем\n",
    "# сабмитить на kaggle\n",
    "X = df.loc[df.data_type != 0, :].copy()\n",
    "X.drop([\"price\", \"data_type\"], axis=1, inplace=True)\n",
    "\n",
    "y = df.loc[df.data_type != 0, \"price\"].copy()\n",
    "\n",
    "X_lb = df.loc[df.data_type == 0, :].copy()\n",
    "X_lb.drop([\"price\", \"data_type\"], axis=1, inplace=True)\n"
   ]
  },
  {
   "cell_type": "markdown",
   "metadata": {},
   "source": [
    "### KFold\n",
    "Оценим МАРЕ для ExtraTreesRegressor с параметрами по умолчанию"
   ]
  },
  {
   "cell_type": "code",
   "execution_count": 201,
   "metadata": {},
   "outputs": [
    {
     "name": "stdout",
     "output_type": "stream",
     "text": [
      "mean MAPE: 15.21%\n"
     ]
    }
   ],
   "source": [
    "# сделаем KFold валидацию для ExtraTrees\n",
    "# Результат средний, но посмотрим дальше\n",
    "\n",
    "model = ExtraTreesRegressor(\n",
    "    random_state=RANDOM_SEED,\n",
    "    n_jobs=-1,\n",
    ")\n",
    "\n",
    "mape_values = kfold_validate(model, X, y)\n",
    "print(f\"mean MAPE: {(mape_values[-1] * 100):0.2f}%\")\n",
    "# MAPE: 15.21%\n",
    "# Время: 23 сек"
   ]
  },
  {
   "cell_type": "markdown",
   "metadata": {},
   "source": [
    "### AdaBoost + ExtraTrees + параметры из RandomizedSearchCV"
   ]
  },
  {
   "cell_type": "code",
   "execution_count": 202,
   "metadata": {},
   "outputs": [
    {
     "data": {
      "text/plain": [
       "RandomizedSearchCV(cv=3,\n",
       "                   estimator=ExtraTreesRegressor(n_jobs=-1, random_state=42),\n",
       "                   n_iter=100, n_jobs=-1,\n",
       "                   param_distributions={'bootstrap': [True, False],\n",
       "                                        'max_depth': [5, 10, 20, None],\n",
       "                                        'max_features': ['auto', 'sqrt'],\n",
       "                                        'min_samples_leaf': [1, 2, 4],\n",
       "                                        'min_samples_split': [2, 5, 10],\n",
       "                                        'n_estimators': [100, 200, 500, 1000]},\n",
       "                   random_state=42)"
      ]
     },
     "execution_count": 202,
     "metadata": {},
     "output_type": "execute_result"
    }
   ],
   "source": [
    "# попробуем найти оптимальные параметры с RandomizedSearchCV\n",
    "n_estimators = [100, 200, 500, 1000]\n",
    "max_depth = [5, 10, 20, None]\n",
    "min_samples_split = [2, 5, 10]\n",
    "min_samples_leaf = [1, 2, 4]\n",
    "max_features = [\"auto\", \"sqrt\"]\n",
    "bootstrap = [True, False]\n",
    "random_grid = {\n",
    "    \"n_estimators\": n_estimators,\n",
    "    \"max_depth\": max_depth,\n",
    "    \"min_samples_split\": min_samples_split,\n",
    "    \"min_samples_leaf\": min_samples_leaf,\n",
    "    \"max_features\": max_features,\n",
    "    \"bootstrap\": bootstrap,\n",
    "}\n",
    "model = ExtraTreesRegressor(\n",
    "    random_state=RANDOM_SEED,\n",
    "    n_jobs=-1,\n",
    ")\n",
    "etr_random = RandomizedSearchCV(\n",
    "    estimator=model,\n",
    "    param_distributions=random_grid,\n",
    "    n_iter=100,\n",
    "    cv=3,\n",
    "    random_state=RANDOM_SEED,\n",
    "    n_jobs=-1,\n",
    ")\n",
    "etr_random.fit(X, np.log(y + 1))\n",
    "\n",
    "# Результат\n",
    "# {'n_estimators': 200,\n",
    "#  'min_samples_split': 2,\n",
    "#  'min_samples_leaf': 1,\n",
    "#  'max_features': 'auto',\n",
    "#  'max_depth': 20,\n",
    "#  'bootstrap': True}"
   ]
  },
  {
   "cell_type": "code",
   "execution_count": 203,
   "metadata": {},
   "outputs": [
    {
     "name": "stdout",
     "output_type": "stream",
     "text": [
      "MAPE: 14.51%\n"
     ]
    }
   ],
   "source": [
    "params = {\n",
    "    \"n_estimators\": 200,\n",
    "    \"min_samples_split\": 2,\n",
    "    \"min_samples_leaf\": 1,\n",
    "    \"max_features\": \"auto\",\n",
    "    \"max_depth\": 20,\n",
    "    \"bootstrap\": True,\n",
    "}\n",
    "model = ExtraTreesRegressor(\n",
    "    random_state=RANDOM_SEED,\n",
    "    n_jobs=-1,\n",
    "    **params,\n",
    ")\n",
    "mape_values = kfold_validate(model, X, y)\n",
    "print(f\"MAPE: {(mape_values[-1] * 100):0.2f}%\")\n",
    "\n",
    "# MAPE: 14.51%\n",
    "# Время: 26 сек"
   ]
  },
  {
   "cell_type": "code",
   "execution_count": 204,
   "metadata": {},
   "outputs": [],
   "source": [
    "# и наконец сделаем AdaBoost c указанной моделью и засабмитим, параметры модели берем те, что получились\n",
    "# в RandomizedSearchCV, а для AdaBoost из основного блока про AdaBoost\n",
    "model = AdaBoostRegressor(\n",
    "    base_estimator=ExtraTreesRegressor(\n",
    "        random_state=RANDOM_SEED,\n",
    "        n_jobs=-1,\n",
    "        **params,\n",
    "    ),\n",
    "    random_state=RANDOM_SEED,\n",
    "    n_estimators=150,\n",
    "    loss=\"exponential\",\n",
    "    learning_rate=0.2,\n",
    ")\n",
    "\n",
    "model.fit(X, np.log(y + 1))\n",
    "\n",
    "y_lb = np.exp(model.predict(X_lb)) - 1\n",
    "y_lb = y_lb.round()\n",
    "sample_submission[\"price\"] = y_lb\n",
    "sample_submission.to_csv(\"./submission_final_19.csv\", index=False)\n",
    "# Время: 18 min\n",
    "# Kaggle: 10.79597\n",
    "# результат чуть хуже, чем дал AdaBoost c RandomForest (10.69384)\n",
    "# Попробуем его еще раз (датасет у нас чуть изменился, убрали дубликаты и новые машины)"
   ]
  },
  {
   "cell_type": "markdown",
   "metadata": {},
   "source": [
    "### AdaBoost + RandomForest"
   ]
  },
  {
   "cell_type": "code",
   "execution_count": 205,
   "metadata": {},
   "outputs": [],
   "source": [
    "# Датасет от 2020 года (base line) но без дубликатов и новых машин\n",
    "model = AdaBoostRegressor(\n",
    "    base_estimator=RandomForestRegressor(\n",
    "        random_state=RANDOM_SEED,\n",
    "        n_jobs=-1,\n",
    "    ),\n",
    "    random_state=RANDOM_SEED,\n",
    "    n_estimators=150,\n",
    "    loss=\"exponential\",\n",
    "    learning_rate=0.2,\n",
    ")\n",
    "model.fit(X, np.log(y + 1))\n",
    "\n",
    "y_lb = np.exp(model.predict(X_lb)) - 1\n",
    "y_lb = y_lb.round()\n",
    "sample_submission[\"price\"] = y_lb\n",
    "sample_submission.to_csv(\"./submission_final_20.csv\", index=False)\n",
    "# Kaggle: 10.53045\n",
    "# Время: 19 мин\n"
   ]
  },
  {
   "cell_type": "markdown",
   "metadata": {},
   "source": [
    "### AdaBoost + RandomForest + параметры из RandomizedSearchCV"
   ]
  },
  {
   "cell_type": "code",
   "execution_count": 206,
   "metadata": {},
   "outputs": [
    {
     "data": {
      "text/plain": [
       "RandomizedSearchCV(cv=3,\n",
       "                   estimator=RandomForestRegressor(n_jobs=-1, random_state=42),\n",
       "                   n_iter=100, n_jobs=-1,\n",
       "                   param_distributions={'bootstrap': [True, False],\n",
       "                                        'max_depth': [5, 10, 20, None],\n",
       "                                        'max_features': ['auto', 'sqrt'],\n",
       "                                        'min_samples_leaf': [1, 2, 4],\n",
       "                                        'min_samples_split': [2, 5, 10],\n",
       "                                        'n_estimators': [100, 200, 500, 1000]},\n",
       "                   random_state=42)"
      ]
     },
     "execution_count": 206,
     "metadata": {},
     "output_type": "execute_result"
    }
   ],
   "source": [
    "# попробуем найти оптимальные параметры с RandomizedSearchCV\n",
    "n_estimators = [100, 200, 500, 1000]\n",
    "max_depth = [5, 10, 20, None]\n",
    "min_samples_split = [2, 5, 10]\n",
    "min_samples_leaf = [1, 2, 4]\n",
    "max_features = [\"auto\", \"sqrt\"]\n",
    "bootstrap = [True, False]\n",
    "random_grid = {\n",
    "    \"n_estimators\": n_estimators,\n",
    "    \"max_depth\": max_depth,\n",
    "    \"min_samples_split\": min_samples_split,\n",
    "    \"min_samples_leaf\": min_samples_leaf,\n",
    "    \"max_features\": max_features,\n",
    "    \"bootstrap\": bootstrap,\n",
    "}\n",
    "model = RandomForestRegressor(\n",
    "    random_state=RANDOM_SEED,\n",
    "    n_jobs=-1,\n",
    ")\n",
    "rfr_random = RandomizedSearchCV(\n",
    "    estimator=model,\n",
    "    param_distributions=random_grid,\n",
    "    n_iter=100,\n",
    "    cv=3,\n",
    "    random_state=RANDOM_SEED,\n",
    "    n_jobs=-1,\n",
    ")\n",
    "rfr_random.fit(X, np.log(y + 1))\n",
    "\n",
    "# Время: 41 мин\n",
    "# Результат:\n",
    "# {'n_estimators': 1000,\n",
    "#  'min_samples_split': 5,\n",
    "#  'min_samples_leaf': 2,\n",
    "#  'max_features': 'auto',\n",
    "#  'max_depth': 20,\n",
    "#  'bootstrap': True}\n"
   ]
  },
  {
   "cell_type": "code",
   "execution_count": 207,
   "metadata": {},
   "outputs": [],
   "source": [
    "params_rf = {\n",
    "    # \"n_estimators\": 1000,\n",
    "    \"n_estimators\": 500,\n",
    "    \"min_samples_split\": 5,\n",
    "    \"min_samples_leaf\": 2,\n",
    "    \"max_features\": \"auto\",\n",
    "    \"max_depth\": 20,\n",
    "    \"bootstrap\": True,\n",
    "}\n",
    "\n",
    "model = AdaBoostRegressor(\n",
    "    base_estimator=RandomForestRegressor(\n",
    "        random_state=RANDOM_SEED,\n",
    "        n_jobs=-1,\n",
    "        **params_rf,\n",
    "    ),\n",
    "    random_state=RANDOM_SEED,\n",
    "    n_estimators=150,\n",
    "    loss=\"exponential\",\n",
    "    learning_rate=0.2,\n",
    ")\n",
    "model.fit(X, np.log(y + 1))\n",
    "\n",
    "y_lb = np.exp(model.predict(X_lb)) - 1\n",
    "y_lb = y_lb.round()\n",
    "sample_submission[\"price\"] = y_lb\n",
    "sample_submission.to_csv(\"./submission_final_21.csv\", index=False)\n",
    "# Kaggle: 11.18786\n",
    "# Время: 82 мин\n"
   ]
  },
  {
   "cell_type": "markdown",
   "metadata": {},
   "source": [
    "### Stacking (RandomForest + ExtraTrees XGBRegressor)"
   ]
  },
  {
   "cell_type": "code",
   "execution_count": null,
   "metadata": {},
   "outputs": [],
   "source": [
    "# Попробуем стеккинг:\n",
    "estimators = [\n",
    "    (\n",
    "        \"rfr\",\n",
    "        RandomForestRegressor(\n",
    "            random_state=RANDOM_SEED,\n",
    "            n_jobs=-1,\n",
    "        ),\n",
    "    ),\n",
    "    (\n",
    "        \"etr\",\n",
    "        ExtraTreesRegressor(\n",
    "            random_state=RANDOM_SEED,\n",
    "            n_jobs=-1,\n",
    "        ),\n",
    "    ),\n",
    "    (\n",
    "        \"XGB\",\n",
    "        xgb.XGBRegressor(\n",
    "            objective=\"reg:squarederror\",\n",
    "            colsample_bytree=0.5,\n",
    "            learning_rate=0.05,\n",
    "            max_depth=15,\n",
    "            alpha=1,\n",
    "            n_estimators=500,\n",
    "            random_state=RANDOM_SEED,\n",
    "            n_jobs=-1,            \n",
    "        ),\n",
    "    ),\n",
    "]\n",
    "\n",
    "model = StackingRegressor(\n",
    "    estimators=estimators,\n",
    "    final_estimator=LinearRegression(),\n",
    "    cv=4,\n",
    "    n_jobs=-1,\n",
    ")\n",
    "\n",
    "model.fit(X, np.log(y + 1))\n",
    "\n",
    "y_lb = np.exp(model.predict(X_lb)) - 1\n",
    "y_lb = y_lb.round()\n",
    "sample_submission[\"price\"] = y_lb\n",
    "sample_submission.to_csv(\"./submission_final_24.csv\", index=False)\n",
    "# Kaggle: 10.58144\n",
    "# Время: 6 мин\n"
   ]
  },
  {
   "cell_type": "markdown",
   "metadata": {},
   "source": [
    "# Итоговая таблица\n",
    "\n",
    "| Алгоритм | Время обучения | МАРЕ | LeaderBord | Коментарий |\n",
    "| :------- | :------------: | :--: | :--------: | :--------- |\n",
    "| RandomForestRegressor | 40 сек | 8.49 | 13.20330 | параметры по-умолчанию, price не логарифмированный |\n",
    "| RandomForestRegressor | 40 сек | 7.8 | 12.41811 | параметры по-умолчанию |\n",
    "| RandomForestRegressor | 1.5 мин | 7.68 | 12.69211 | подобранные через RandomizedSearchCV параметры |\n",
    "| СatBoost | 3 мин | 8.40 | 13.90262 | |\n",
    "| DecisionTreeRegressor | 3 сек | 11.14 | 16.18319 | |\n",
    "| AdaBoostRegressor (RandomForest) | 100 мин | 7.58 | 11.70037 | |\n",
    "| AdaBoostRegressor (RandomForest) | 400 мин | 7.42 | 11.88808 | датасет с equipment |\n",
    "| ExtraTreesRegressor | 3 мин | 7.39 | 12.37975 | |\n",
    "| XGBRegressor | 11 мин | 7.46 | 12.71385 | |\n",
    "| StackingRegressor (RandomForest + ExtraTrees + XGBRegressor) | 35 min | 7.23 | 12.19727 |\n",
    "| AdaBoostRegressor (RandomForest) | 53 min | n/a | 19.27023 | датасет от 2021 года с доп. коррекцией цены 0.9 |\n",
    "| AdaBoostRegressor (RandomForest) | 55 min | n/a | 10.69384 | датасет от 2020 года (с baseline) |\n",
    "| AdaBoostRegressor (RandomForest) | 64 min | n/a | 15.90357 | датасет от 2021 года с доп. коррекцией цены 1.06 |\n",
    "| AdaBoostRegressor (RandomForest) | 23 min | n/a | 11.42821 | датасет от 2020 года, с удаленными моделями, которых нет в датасете для сабмита |\n",
    "| RandomForestRegressor | 20 sec | 7.56 | 15.05435 | параметры по-умолчанию, датасет без новых машин и c корректировкой цены для каждой модели |\n",
    "| AdaBoostRegressor (RandomForest) | 55 min | 7.38 | 14.33915 | датасет без новых машин и c корректировкой цены для каждой модели |\n",
    "| AdaBoostRegressor (ExtraTreesRegressor) | 18 min | n/a | 10.79597 | только датасет с baseline и без новых машин |\n",
    "| AdaBoostRegressor (RandomForest) | 19 min | n/a | 10.53045 | только датасет с baseline и без новых машин |\n",
    "| AdaBoostRegressor (RandomForest) | 82 min | n/a | 11.18786 | только датасет с baseline и без новых машин параметры RandomForest из SearchCV |\n",
    "| StackingRegressor (RandomForest + ExtraTrees + XGBRegressor) | 6 min | n/a | 10.58144 | только датасет с baseline и без новых машин |\n"
   ]
  },
  {
   "cell_type": "markdown",
   "metadata": {},
   "source": [
    "# Выводы\n",
    "- лучшая МАРЕ (7.23) получилась на StackingRegressor (RandomForest + ExtraTrees + XGBRegressor), но при этом на Kaggle результат далеко нне лучший.\n",
    "- есть ситуации, когда МАРЕ получается хорошая, но на Kaggle результат очень плохой. Возможно модель переобучается.\n",
    "- править цену свежих датасетов нужно более \"ителлектуально\", чем просто умножить все на X.\n",
    "- во всех случаях AbaBoost давал лучший результат, но время на обучение модели при этом увеличивается на порядок.\n",
    "- наиболее оптимальный выбор, с моей точки зрения, это StackingRegressor, приемлемый результат и не нужнно ждать часы на обученине.\n",
    "- ресурсов на GridSearchCV точно не хватает, RandomSearchCV работает через раз, ядро часто падает из-за нехватки памяти.\n",
    "- лучший результат на Kaggle 10.52269, был получен с AdaBoost (RandomForest), но ячейка с параметрами была случайно удалена, следующиий результат 10.53045 так же получен с AdaBoost (RandomForest)"
   ]
  },
  {
   "cell_type": "markdown",
   "metadata": {},
   "source": [
    "## Нериализованные идеи\n",
    "- в выборке (тестовой и из baseline) присутсвуют раритные и просто старые авто, цена на которые может быть сильно зависеть от конкретной ситуации и не поддаваться прогнозу в принципе. Хотел выделить хотя бы раритетные авто в отдельнный датасет, что бы они не были выбросами, и делать прогнозы отдельно, затем склеивать.\n",
    "- более интелектуально парсить описание, например с целью понять комплектацию или битое/нет авто, просто подсчет числа слов мало что может дать."
   ]
  }
 ],
 "metadata": {
  "interpreter": {
   "hash": "550056ff3b6c24ef08b20d0608428d73c2737dc12cdd6267fe4ea38c5eab2d02"
  },
  "kernelspec": {
   "display_name": "Python 3.8.9 64-bit ('venv': venv)",
   "language": "python",
   "name": "python3"
  },
  "language_info": {
   "codemirror_mode": {
    "name": "ipython",
    "version": 3
   },
   "file_extension": ".py",
   "mimetype": "text/x-python",
   "name": "python",
   "nbconvert_exporter": "python",
   "pygments_lexer": "ipython3",
   "version": "3.8.9"
  },
  "orig_nbformat": 4
 },
 "nbformat": 4,
 "nbformat_minor": 2
}
