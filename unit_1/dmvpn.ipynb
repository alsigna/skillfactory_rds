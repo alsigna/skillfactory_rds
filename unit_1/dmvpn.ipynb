{
 "metadata": {
  "language_info": {
   "codemirror_mode": {
    "name": "ipython",
    "version": 3
   },
   "file_extension": ".py",
   "mimetype": "text/x-python",
   "name": "python",
   "nbconvert_exporter": "python",
   "pygments_lexer": "ipython3",
   "version": "3.8.2-final"
  },
  "orig_nbformat": 2,
  "kernelspec": {
   "name": "python382jvsc74a57bd0050cad58d9358877ef43e15f3ef448f6c3712e035f57e419d6d064988b644dc6",
   "display_name": "Python 3.8.2 64-bit ('venv')"
  }
 },
 "nbformat": 4,
 "nbformat_minor": 2,
 "cells": [
  {
   "cell_type": "code",
   "execution_count": 5,
   "metadata": {},
   "outputs": [],
   "source": [
    "import pandas as pd\n",
    "df = pd.read_csv(\"dmvpn.csv\")\n"
   ]
  },
  {
   "cell_type": "code",
   "execution_count": 10,
   "metadata": {},
   "outputs": [
    {
     "output_type": "execute_result",
     "data": {
      "text/plain": [
       "               status\n",
       "ip                   \n",
       "10.51.119.52        3\n",
       "10.51.119.10        4\n",
       "10.51.119.66        4\n",
       "10.51.119.62        4\n",
       "10.51.119.60        4\n",
       "...               ...\n",
       "10.51.119.131       4\n",
       "10.51.119.130       4\n",
       "10.51.119.13        4\n",
       "10.51.119.141       4\n",
       "10.51.119.99        4\n",
       "\n",
       "[93 rows x 1 columns]"
      ],
      "text/html": "<div>\n<style scoped>\n    .dataframe tbody tr th:only-of-type {\n        vertical-align: middle;\n    }\n\n    .dataframe tbody tr th {\n        vertical-align: top;\n    }\n\n    .dataframe thead th {\n        text-align: right;\n    }\n</style>\n<table border=\"1\" class=\"dataframe\">\n  <thead>\n    <tr style=\"text-align: right;\">\n      <th></th>\n      <th>status</th>\n    </tr>\n    <tr>\n      <th>ip</th>\n      <th></th>\n    </tr>\n  </thead>\n  <tbody>\n    <tr>\n      <th>10.51.119.52</th>\n      <td>3</td>\n    </tr>\n    <tr>\n      <th>10.51.119.10</th>\n      <td>4</td>\n    </tr>\n    <tr>\n      <th>10.51.119.66</th>\n      <td>4</td>\n    </tr>\n    <tr>\n      <th>10.51.119.62</th>\n      <td>4</td>\n    </tr>\n    <tr>\n      <th>10.51.119.60</th>\n      <td>4</td>\n    </tr>\n    <tr>\n      <th>...</th>\n      <td>...</td>\n    </tr>\n    <tr>\n      <th>10.51.119.131</th>\n      <td>4</td>\n    </tr>\n    <tr>\n      <th>10.51.119.130</th>\n      <td>4</td>\n    </tr>\n    <tr>\n      <th>10.51.119.13</th>\n      <td>4</td>\n    </tr>\n    <tr>\n      <th>10.51.119.141</th>\n      <td>4</td>\n    </tr>\n    <tr>\n      <th>10.51.119.99</th>\n      <td>4</td>\n    </tr>\n  </tbody>\n</table>\n<p>93 rows × 1 columns</p>\n</div>"
     },
     "metadata": {},
     "execution_count": 10
    }
   ],
   "source": [
    "df.groupby(df.ip).count().sort_values(\"status\")"
   ]
  },
  {
   "cell_type": "code",
   "execution_count": null,
   "metadata": {},
   "outputs": [],
   "source": []
  }
 ]
}