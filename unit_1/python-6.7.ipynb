{
 "metadata": {
  "language_info": {
   "codemirror_mode": {
    "name": "ipython",
    "version": 3
   },
   "file_extension": ".py",
   "mimetype": "text/x-python",
   "name": "python",
   "nbconvert_exporter": "python",
   "pygments_lexer": "ipython3",
   "version": "3.8.2-final"
  },
  "orig_nbformat": 2,
  "kernelspec": {
   "name": "python382jvsc74a57bd0d46d14bfc67a8d69f82f77af2e60e5b02fcabf25a759a56cf61072a2d590541d",
   "display_name": "Python 3.8.2 64-bit ('venv')"
  }
 },
 "nbformat": 4,
 "nbformat_minor": 2,
 "cells": [
  {
   "cell_type": "code",
   "execution_count": 6,
   "metadata": {},
   "outputs": [],
   "source": [
    "import pandas as pd\n",
    "from pprint import pprint as p\n",
    "df = pd.read_csv(\"/Users/alexigna/projects/skillfactory/unit1/data_sf.csv\")"
   ]
  },
  {
   "cell_type": "code",
   "execution_count": 7,
   "metadata": {},
   "outputs": [
    {
     "output_type": "execute_result",
     "data": {
      "text/plain": [
       "<pandas.core.groupby.generic.DataFrameGroupBy object at 0x114730160>"
      ]
     },
     "metadata": {},
     "execution_count": 7
    }
   ],
   "source": [
    "df.groupby(['Club'])"
   ]
  },
  {
   "source": [
    "grouped_df = df.by(['Club']).sum()\n",
    "display(ed_df)"
   ],
   "cell_type": "code",
   "metadata": {
    "tags": []
   },
   "execution_count": 11,
   "outputs": [
    {
     "output_type": "display_data",
     "data": {
      "text/plain": "                       Unnamed: 0  Age     Value    Wage  Crossing  Finishing  \\\nClub                                                                            \n SSV Jahn Regensburg       129124  609  15195000   90000      1104        944   \n1. FC Heidenheim 1846      117834  473  18290000   76000       961        860   \n1. FC Kaiserslautern       167351  544  11195000   33000      1106        918   \n1. FC Köln                  54865  225  46810000   92000       444        357   \n1. FC Magdeburg            116731  515  57525000   84000       948        903   \n...                           ...  ...       ...     ...       ...        ...   \nZagłębie Sosnowiec         220803  656   6815000   27000      1161       1007   \nÇaykur Rizespor            119137  557  27515000  118000      1110        921   \nÖrebro SK                  224465  622   8465000   36000      1114        974   \nÖstersunds FK              136103  478  11030000   39000       944        805   \nŚląsk Wrocław              172358  628   9170000   50000      1058       1054   \n\n                       HeadingAccuracy  ShortPassing  Volleys  Dribbling  ...  \\\nClub                                                                      ...   \n SSV Jahn Regensburg              1283          1362      944       1196  ...   \n1. FC Heidenheim 1846              955          1136      846       1040  ...   \n1. FC Kaiserslautern              1133          1272      899       1131  ...   \n1. FC Köln                         434           567      320        486  ...   \n1. FC Magdeburg                   1044          1157      769       1024  ...   \n...                                ...           ...      ...        ...  ...   \nZagłębie Sosnowiec                1152          1357      979       1252  ...   \nÇaykur Rizespor                   1137          1290      888       1233  ...   \nÖrebro SK                         1149          1311      965       1270  ...   \nÖstersunds FK                      856          1109      801       1066  ...   \nŚląsk Wrocław                     1289          1313      988       1238  ...   \n\n                       Penalties  Composure  Marking  StandingTackle  \\\nClub                                                                   \n SSV Jahn Regensburg        1042       1332     1205            1146   \n1. FC Heidenheim 1846        923       1093      888             952   \n1. FC Kaiserslautern        1030       1174      938             989   \n1. FC Köln                   431        515      453             458   \n1. FC Magdeburg              938       1057      933             930   \n...                          ...        ...      ...             ...   \nZagłębie Sosnowiec          1113       1371     1219            1187   \nÇaykur Rizespor             1063       1200     1050            1155   \nÖrebro SK                   1066       1393     1112            1045   \nÖstersunds FK                847       1132      920             842   \nŚląsk Wrocław               1150       1314     1047            1161   \n\n                       SlidingTackle  GKDiving  GKHandling  GKKicking  \\\nClub                                                                    \n SSV Jahn Regensburg            1088       405         406        368   \n1. FC Heidenheim 1846            890       335         317        287   \n1. FC Kaiserslautern             996       392         373        348   \n1. FC Köln                       452       272         251        276   \n1. FC Magdeburg                  892       367         373        354   \n...                              ...       ...         ...        ...   \nZagłębie Sosnowiec              1156       427         391        417   \nÇaykur Rizespor                 1143       375         394        387   \nÖrebro SK                       1008       412         406        386   \nÖstersunds FK                    816       342         357        369   \nŚląsk Wrocław                   1129       408         403        367   \n\n                       GKPositioning  GKReflexes  \nClub                                              \n SSV Jahn Regensburg             409         424  \n1. FC Heidenheim 1846            335         306  \n1. FC Kaiserslautern             368         356  \n1. FC Köln                       252         268  \n1. FC Magdeburg                  361         394  \n...                              ...         ...  \nZagłębie Sosnowiec               391         413  \nÇaykur Rizespor                  388         389  \nÖrebro SK                        428         407  \nÖstersunds FK                    337         363  \nŚląsk Wrocław                    394         403  \n\n[650 rows x 38 columns]",
      "text/html": "<div>\n<style scoped>\n    .dataframe tbody tr th:only-of-type {\n        vertical-align: middle;\n    }\n\n    .dataframe tbody tr th {\n        vertical-align: top;\n    }\n\n    .dataframe thead th {\n        text-align: right;\n    }\n</style>\n<table border=\"1\" class=\"dataframe\">\n  <thead>\n    <tr style=\"text-align: right;\">\n      <th></th>\n      <th>Unnamed: 0</th>\n      <th>Age</th>\n      <th>Value</th>\n      <th>Wage</th>\n      <th>Crossing</th>\n      <th>Finishing</th>\n      <th>HeadingAccuracy</th>\n      <th>ShortPassing</th>\n      <th>Volleys</th>\n      <th>Dribbling</th>\n      <th>...</th>\n      <th>Penalties</th>\n      <th>Composure</th>\n      <th>Marking</th>\n      <th>StandingTackle</th>\n      <th>SlidingTackle</th>\n      <th>GKDiving</th>\n      <th>GKHandling</th>\n      <th>GKKicking</th>\n      <th>GKPositioning</th>\n      <th>GKReflexes</th>\n    </tr>\n    <tr>\n      <th>Club</th>\n      <th></th>\n      <th></th>\n      <th></th>\n      <th></th>\n      <th></th>\n      <th></th>\n      <th></th>\n      <th></th>\n      <th></th>\n      <th></th>\n      <th></th>\n      <th></th>\n      <th></th>\n      <th></th>\n      <th></th>\n      <th></th>\n      <th></th>\n      <th></th>\n      <th></th>\n      <th></th>\n      <th></th>\n    </tr>\n  </thead>\n  <tbody>\n    <tr>\n      <th>SSV Jahn Regensburg</th>\n      <td>129124</td>\n      <td>609</td>\n      <td>15195000</td>\n      <td>90000</td>\n      <td>1104</td>\n      <td>944</td>\n      <td>1283</td>\n      <td>1362</td>\n      <td>944</td>\n      <td>1196</td>\n      <td>...</td>\n      <td>1042</td>\n      <td>1332</td>\n      <td>1205</td>\n      <td>1146</td>\n      <td>1088</td>\n      <td>405</td>\n      <td>406</td>\n      <td>368</td>\n      <td>409</td>\n      <td>424</td>\n    </tr>\n    <tr>\n      <th>1. FC Heidenheim 1846</th>\n      <td>117834</td>\n      <td>473</td>\n      <td>18290000</td>\n      <td>76000</td>\n      <td>961</td>\n      <td>860</td>\n      <td>955</td>\n      <td>1136</td>\n      <td>846</td>\n      <td>1040</td>\n      <td>...</td>\n      <td>923</td>\n      <td>1093</td>\n      <td>888</td>\n      <td>952</td>\n      <td>890</td>\n      <td>335</td>\n      <td>317</td>\n      <td>287</td>\n      <td>335</td>\n      <td>306</td>\n    </tr>\n    <tr>\n      <th>1. FC Kaiserslautern</th>\n      <td>167351</td>\n      <td>544</td>\n      <td>11195000</td>\n      <td>33000</td>\n      <td>1106</td>\n      <td>918</td>\n      <td>1133</td>\n      <td>1272</td>\n      <td>899</td>\n      <td>1131</td>\n      <td>...</td>\n      <td>1030</td>\n      <td>1174</td>\n      <td>938</td>\n      <td>989</td>\n      <td>996</td>\n      <td>392</td>\n      <td>373</td>\n      <td>348</td>\n      <td>368</td>\n      <td>356</td>\n    </tr>\n    <tr>\n      <th>1. FC Köln</th>\n      <td>54865</td>\n      <td>225</td>\n      <td>46810000</td>\n      <td>92000</td>\n      <td>444</td>\n      <td>357</td>\n      <td>434</td>\n      <td>567</td>\n      <td>320</td>\n      <td>486</td>\n      <td>...</td>\n      <td>431</td>\n      <td>515</td>\n      <td>453</td>\n      <td>458</td>\n      <td>452</td>\n      <td>272</td>\n      <td>251</td>\n      <td>276</td>\n      <td>252</td>\n      <td>268</td>\n    </tr>\n    <tr>\n      <th>1. FC Magdeburg</th>\n      <td>116731</td>\n      <td>515</td>\n      <td>57525000</td>\n      <td>84000</td>\n      <td>948</td>\n      <td>903</td>\n      <td>1044</td>\n      <td>1157</td>\n      <td>769</td>\n      <td>1024</td>\n      <td>...</td>\n      <td>938</td>\n      <td>1057</td>\n      <td>933</td>\n      <td>930</td>\n      <td>892</td>\n      <td>367</td>\n      <td>373</td>\n      <td>354</td>\n      <td>361</td>\n      <td>394</td>\n    </tr>\n    <tr>\n      <th>...</th>\n      <td>...</td>\n      <td>...</td>\n      <td>...</td>\n      <td>...</td>\n      <td>...</td>\n      <td>...</td>\n      <td>...</td>\n      <td>...</td>\n      <td>...</td>\n      <td>...</td>\n      <td>...</td>\n      <td>...</td>\n      <td>...</td>\n      <td>...</td>\n      <td>...</td>\n      <td>...</td>\n      <td>...</td>\n      <td>...</td>\n      <td>...</td>\n      <td>...</td>\n      <td>...</td>\n    </tr>\n    <tr>\n      <th>Zagłębie Sosnowiec</th>\n      <td>220803</td>\n      <td>656</td>\n      <td>6815000</td>\n      <td>27000</td>\n      <td>1161</td>\n      <td>1007</td>\n      <td>1152</td>\n      <td>1357</td>\n      <td>979</td>\n      <td>1252</td>\n      <td>...</td>\n      <td>1113</td>\n      <td>1371</td>\n      <td>1219</td>\n      <td>1187</td>\n      <td>1156</td>\n      <td>427</td>\n      <td>391</td>\n      <td>417</td>\n      <td>391</td>\n      <td>413</td>\n    </tr>\n    <tr>\n      <th>Çaykur Rizespor</th>\n      <td>119137</td>\n      <td>557</td>\n      <td>27515000</td>\n      <td>118000</td>\n      <td>1110</td>\n      <td>921</td>\n      <td>1137</td>\n      <td>1290</td>\n      <td>888</td>\n      <td>1233</td>\n      <td>...</td>\n      <td>1063</td>\n      <td>1200</td>\n      <td>1050</td>\n      <td>1155</td>\n      <td>1143</td>\n      <td>375</td>\n      <td>394</td>\n      <td>387</td>\n      <td>388</td>\n      <td>389</td>\n    </tr>\n    <tr>\n      <th>Örebro SK</th>\n      <td>224465</td>\n      <td>622</td>\n      <td>8465000</td>\n      <td>36000</td>\n      <td>1114</td>\n      <td>974</td>\n      <td>1149</td>\n      <td>1311</td>\n      <td>965</td>\n      <td>1270</td>\n      <td>...</td>\n      <td>1066</td>\n      <td>1393</td>\n      <td>1112</td>\n      <td>1045</td>\n      <td>1008</td>\n      <td>412</td>\n      <td>406</td>\n      <td>386</td>\n      <td>428</td>\n      <td>407</td>\n    </tr>\n    <tr>\n      <th>Östersunds FK</th>\n      <td>136103</td>\n      <td>478</td>\n      <td>11030000</td>\n      <td>39000</td>\n      <td>944</td>\n      <td>805</td>\n      <td>856</td>\n      <td>1109</td>\n      <td>801</td>\n      <td>1066</td>\n      <td>...</td>\n      <td>847</td>\n      <td>1132</td>\n      <td>920</td>\n      <td>842</td>\n      <td>816</td>\n      <td>342</td>\n      <td>357</td>\n      <td>369</td>\n      <td>337</td>\n      <td>363</td>\n    </tr>\n    <tr>\n      <th>Śląsk Wrocław</th>\n      <td>172358</td>\n      <td>628</td>\n      <td>9170000</td>\n      <td>50000</td>\n      <td>1058</td>\n      <td>1054</td>\n      <td>1289</td>\n      <td>1313</td>\n      <td>988</td>\n      <td>1238</td>\n      <td>...</td>\n      <td>1150</td>\n      <td>1314</td>\n      <td>1047</td>\n      <td>1161</td>\n      <td>1129</td>\n      <td>408</td>\n      <td>403</td>\n      <td>367</td>\n      <td>394</td>\n      <td>403</td>\n    </tr>\n  </tbody>\n</table>\n<p>650 rows × 38 columns</p>\n</div>"
     },
     "metadata": {}
    }
   ]
  },
  {
   "cell_type": "code",
   "execution_count": 12,
   "metadata": {},
   "outputs": [
    {
     "output_type": "execute_result",
     "data": {
      "text/plain": [
       "Unnamed: 0             26041\n",
       "Age                      275\n",
       "Value              152250000\n",
       "Wage                  158000\n",
       "Crossing                 844\n",
       "Finishing                723\n",
       "HeadingAccuracy          848\n",
       "ShortPassing             940\n",
       "Volleys                  696\n",
       "Dribbling                932\n",
       "Curve                    779\n",
       "FKAccuracy               680\n",
       "LongPassing              878\n",
       "BallControl              951\n",
       "Acceleration             944\n",
       "SprintSpeed              969\n",
       "Agility                  969\n",
       "Reactions                924\n",
       "Balance                  918\n",
       "ShotPower                876\n",
       "Jumping                  915\n",
       "Stamina                  974\n",
       "Strength                 896\n",
       "LongShots                720\n",
       "Aggression               847\n",
       "Interceptions            801\n",
       "Positioning              813\n",
       "Vision                   881\n",
       "Penalties                710\n",
       "Composure                929\n",
       "Marking                  750\n",
       "StandingTackle           814\n",
       "SlidingTackle            756\n",
       "GKDiving                 150\n",
       "GKHandling               130\n",
       "GKKicking                139\n",
       "GKPositioning            155\n",
       "GKReflexes               129\n",
       "Name: Ajax, dtype: int64"
      ]
     },
     "metadata": {},
     "execution_count": 12
    }
   ],
   "source": [
    "grouped_df.loc['Ajax']"
   ]
  },
  {
   "cell_type": "code",
   "execution_count": 13,
   "metadata": {},
   "outputs": [
    {
     "output_type": "execute_result",
     "data": {
      "text/plain": [
       "158000"
      ]
     },
     "metadata": {},
     "execution_count": 13
    }
   ],
   "source": [
    "grouped_df.loc['Ajax']['Wage']"
   ]
  },
  {
   "cell_type": "code",
   "execution_count": 14,
   "metadata": {},
   "outputs": [
    {
     "output_type": "display_data",
     "data": {
      "text/plain": "Club\n SSV Jahn Regensburg      90000\n1. FC Heidenheim 1846     76000\n1. FC Kaiserslautern      33000\n1. FC Köln                92000\n1. FC Magdeburg           84000\n                          ...  \nZagłębie Sosnowiec        27000\nÇaykur Rizespor          118000\nÖrebro SK                 36000\nÖstersunds FK             39000\nŚląsk Wrocław             50000\nName: Wage, Length: 650, dtype: int64"
     },
     "metadata": {}
    }
   ],
   "source": [
    "grouped_df = df.groupby(['Club'])['Wage'].sum()\n",
    "display(grouped_df)"
   ]
  },
  {
   "cell_type": "code",
   "execution_count": 19,
   "metadata": {},
   "outputs": [
    {
     "output_type": "execute_result",
     "data": {
      "text/plain": [
       "'Real Madrid'"
      ]
     },
     "metadata": {},
     "execution_count": 19
    }
   ],
   "source": [
    "grouped_df.sort_values(ascending=False).index[0]"
   ]
  },
  {
   "source": [
    "Отметьте позиции (Position), по которым общая сумма зарплат (Wage) игроков превышает 5 млн евро в год."
   ],
   "cell_type": "markdown",
   "metadata": {}
  },
  {
   "cell_type": "code",
   "execution_count": 30,
   "metadata": {},
   "outputs": [
    {
     "output_type": "execute_result",
     "data": {
      "text/plain": [
       "['CAM', 'CB', 'CM', 'GK', 'LB', 'LM', 'RB', 'RM', 'ST']"
      ]
     },
     "metadata": {},
     "execution_count": 30
    }
   ],
   "source": [
    "s = df.groupby(['Position'])[\"Wage\"].sum() #series of wage sum by position\n",
    "s[s > 5000000].index.to_list()"
   ]
  },
  {
   "cell_type": "code",
   "execution_count": null,
   "metadata": {},
   "outputs": [],
   "source": []
  }
 ]
}