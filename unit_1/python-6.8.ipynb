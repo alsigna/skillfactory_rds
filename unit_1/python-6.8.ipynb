{
 "metadata": {
  "language_info": {
   "codemirror_mode": {
    "name": "ipython",
    "version": 3
   },
   "file_extension": ".py",
   "mimetype": "text/x-python",
   "name": "python",
   "nbconvert_exporter": "python",
   "pygments_lexer": "ipython3",
   "version": "3.8.2-final"
  },
  "orig_nbformat": 2,
  "kernelspec": {
   "name": "python382jvsc74a57bd0d46d14bfc67a8d69f82f77af2e60e5b02fcabf25a759a56cf61072a2d590541d",
   "display_name": "Python 3.8.2 64-bit ('venv': venv)"
  }
 },
 "nbformat": 4,
 "nbformat_minor": 2,
 "cells": [
  {
   "cell_type": "code",
   "execution_count": 1,
   "metadata": {},
   "outputs": [],
   "source": [
    "import pandas as pd\n",
    "df = pd.read_csv(\"/Users/alexigna/projects/skillfactory/unit1/data_sf.csv\")"
   ]
  },
  {
   "source": [
    "Построим такую таблицу, где сгруппируем игроков по национальностям (Nationality) и посчитаем среднюю зарплату, средний возраст и среднюю силу удара. Для подсчета среднего мы будем использовать агрегирующую функцию mean:"
   ],
   "cell_type": "markdown",
   "metadata": {}
  },
  {
   "cell_type": "code",
   "execution_count": 2,
   "metadata": {},
   "outputs": [
    {
     "output_type": "execute_result",
     "data": {
      "text/plain": [
       "                     Wage        Age  ShotPower\n",
       "Nationality                                    \n",
       "Afghanistan   1250.000000  22.500000  53.750000\n",
       "Albania       5931.034483  23.689655  54.551724\n",
       "Algeria      15810.810811  27.027027  56.567568\n",
       "Andorra       1000.000000  28.000000  58.000000\n",
       "Angola        7100.000000  24.700000  63.700000\n",
       "...                   ...        ...        ...\n",
       "Uzbekistan    9000.000000  29.500000  71.500000\n",
       "Venezuela     6611.111111  23.638889  57.222222\n",
       "Wales         9529.411765  24.754902  48.558824\n",
       "Zambia        2833.333333  21.833333  66.833333\n",
       "Zimbabwe      5000.000000  26.555556  62.888889\n",
       "\n",
       "[156 rows x 3 columns]"
      ],
      "text/html": "<div>\n<style scoped>\n    .dataframe tbody tr th:only-of-type {\n        vertical-align: middle;\n    }\n\n    .dataframe tbody tr th {\n        vertical-align: top;\n    }\n\n    .dataframe thead th {\n        text-align: right;\n    }\n</style>\n<table border=\"1\" class=\"dataframe\">\n  <thead>\n    <tr style=\"text-align: right;\">\n      <th></th>\n      <th>Wage</th>\n      <th>Age</th>\n      <th>ShotPower</th>\n    </tr>\n    <tr>\n      <th>Nationality</th>\n      <th></th>\n      <th></th>\n      <th></th>\n    </tr>\n  </thead>\n  <tbody>\n    <tr>\n      <th>Afghanistan</th>\n      <td>1250.000000</td>\n      <td>22.500000</td>\n      <td>53.750000</td>\n    </tr>\n    <tr>\n      <th>Albania</th>\n      <td>5931.034483</td>\n      <td>23.689655</td>\n      <td>54.551724</td>\n    </tr>\n    <tr>\n      <th>Algeria</th>\n      <td>15810.810811</td>\n      <td>27.027027</td>\n      <td>56.567568</td>\n    </tr>\n    <tr>\n      <th>Andorra</th>\n      <td>1000.000000</td>\n      <td>28.000000</td>\n      <td>58.000000</td>\n    </tr>\n    <tr>\n      <th>Angola</th>\n      <td>7100.000000</td>\n      <td>24.700000</td>\n      <td>63.700000</td>\n    </tr>\n    <tr>\n      <th>...</th>\n      <td>...</td>\n      <td>...</td>\n      <td>...</td>\n    </tr>\n    <tr>\n      <th>Uzbekistan</th>\n      <td>9000.000000</td>\n      <td>29.500000</td>\n      <td>71.500000</td>\n    </tr>\n    <tr>\n      <th>Venezuela</th>\n      <td>6611.111111</td>\n      <td>23.638889</td>\n      <td>57.222222</td>\n    </tr>\n    <tr>\n      <th>Wales</th>\n      <td>9529.411765</td>\n      <td>24.754902</td>\n      <td>48.558824</td>\n    </tr>\n    <tr>\n      <th>Zambia</th>\n      <td>2833.333333</td>\n      <td>21.833333</td>\n      <td>66.833333</td>\n    </tr>\n    <tr>\n      <th>Zimbabwe</th>\n      <td>5000.000000</td>\n      <td>26.555556</td>\n      <td>62.888889</td>\n    </tr>\n  </tbody>\n</table>\n<p>156 rows × 3 columns</p>\n</div>"
     },
     "metadata": {},
     "execution_count": 2
    }
   ],
   "source": [
    "df.groupby(['Nationality'])[['Wage','Age','ShotPower']].mean()"
   ]
  },
  {
   "cell_type": "code",
   "execution_count": 3,
   "metadata": {},
   "outputs": [
    {
     "output_type": "execute_result",
     "data": {
      "text/plain": [
       "                            Wage        Age  ShotPower\n",
       "Nationality                                           \n",
       "Dominican Republic  71000.000000  23.000000  75.500000\n",
       "Egypt               35545.454545  25.818182  59.363636\n",
       "Gabon               28900.000000  26.400000  56.900000\n",
       "Croatia             26722.222222  24.819444  54.305556\n",
       "Equatorial Guinea   25666.666667  28.000000  55.333333\n",
       "Belgium             20024.390244  24.030488  56.390244\n",
       "Ecuador             18333.333333  24.619048  60.666667\n",
       "Uruguay             17590.361446  26.771084  56.192771\n",
       "Brazil              17371.158392  27.898345  58.203310\n",
       "Algeria             15810.810811  27.027027  56.567568"
      ],
      "text/html": "<div>\n<style scoped>\n    .dataframe tbody tr th:only-of-type {\n        vertical-align: middle;\n    }\n\n    .dataframe tbody tr th {\n        vertical-align: top;\n    }\n\n    .dataframe thead th {\n        text-align: right;\n    }\n</style>\n<table border=\"1\" class=\"dataframe\">\n  <thead>\n    <tr style=\"text-align: right;\">\n      <th></th>\n      <th>Wage</th>\n      <th>Age</th>\n      <th>ShotPower</th>\n    </tr>\n    <tr>\n      <th>Nationality</th>\n      <th></th>\n      <th></th>\n      <th></th>\n    </tr>\n  </thead>\n  <tbody>\n    <tr>\n      <th>Dominican Republic</th>\n      <td>71000.000000</td>\n      <td>23.000000</td>\n      <td>75.500000</td>\n    </tr>\n    <tr>\n      <th>Egypt</th>\n      <td>35545.454545</td>\n      <td>25.818182</td>\n      <td>59.363636</td>\n    </tr>\n    <tr>\n      <th>Gabon</th>\n      <td>28900.000000</td>\n      <td>26.400000</td>\n      <td>56.900000</td>\n    </tr>\n    <tr>\n      <th>Croatia</th>\n      <td>26722.222222</td>\n      <td>24.819444</td>\n      <td>54.305556</td>\n    </tr>\n    <tr>\n      <th>Equatorial Guinea</th>\n      <td>25666.666667</td>\n      <td>28.000000</td>\n      <td>55.333333</td>\n    </tr>\n    <tr>\n      <th>Belgium</th>\n      <td>20024.390244</td>\n      <td>24.030488</td>\n      <td>56.390244</td>\n    </tr>\n    <tr>\n      <th>Ecuador</th>\n      <td>18333.333333</td>\n      <td>24.619048</td>\n      <td>60.666667</td>\n    </tr>\n    <tr>\n      <th>Uruguay</th>\n      <td>17590.361446</td>\n      <td>26.771084</td>\n      <td>56.192771</td>\n    </tr>\n    <tr>\n      <th>Brazil</th>\n      <td>17371.158392</td>\n      <td>27.898345</td>\n      <td>58.203310</td>\n    </tr>\n    <tr>\n      <th>Algeria</th>\n      <td>15810.810811</td>\n      <td>27.027027</td>\n      <td>56.567568</td>\n    </tr>\n  </tbody>\n</table>\n</div>"
     },
     "metadata": {},
     "execution_count": 3
    }
   ],
   "source": [
    "df.groupby(['Nationality'])[['Wage','Age','ShotPower']].mean().sort_values(['Wage'],ascending=False).head(10)"
   ]
  },
  {
   "cell_type": "code",
   "execution_count": 5,
   "metadata": {},
   "outputs": [
    {
     "output_type": "execute_result",
     "data": {
      "text/plain": [
       "            Name         Club    Wage  Age  ShotPower\n",
       "291      Mariano  Real Madrid  140000   24         85\n",
       "6279  L. Quezada   Córdoba CF    2000   22         66"
      ],
      "text/html": "<div>\n<style scoped>\n    .dataframe tbody tr th:only-of-type {\n        vertical-align: middle;\n    }\n\n    .dataframe tbody tr th {\n        vertical-align: top;\n    }\n\n    .dataframe thead th {\n        text-align: right;\n    }\n</style>\n<table border=\"1\" class=\"dataframe\">\n  <thead>\n    <tr style=\"text-align: right;\">\n      <th></th>\n      <th>Name</th>\n      <th>Club</th>\n      <th>Wage</th>\n      <th>Age</th>\n      <th>ShotPower</th>\n    </tr>\n  </thead>\n  <tbody>\n    <tr>\n      <th>291</th>\n      <td>Mariano</td>\n      <td>Real Madrid</td>\n      <td>140000</td>\n      <td>24</td>\n      <td>85</td>\n    </tr>\n    <tr>\n      <th>6279</th>\n      <td>L. Quezada</td>\n      <td>Córdoba CF</td>\n      <td>2000</td>\n      <td>22</td>\n      <td>66</td>\n    </tr>\n  </tbody>\n</table>\n</div>"
     },
     "metadata": {},
     "execution_count": 5
    }
   ],
   "source": [
    "df.loc[df.Nationality == 'Dominican Republic'][['Name','Club','Wage','Age','ShotPower']]"
   ]
  },
  {
   "source": [
    "# Задание 1\n",
    "Посчитайте среднюю зарплату (Wage) и цену (Value) игроков разных позиций (Position). Представители какой позиции имеют самую высокую среднюю ценность?\n"
   ],
   "cell_type": "markdown",
   "metadata": {}
  },
  {
   "cell_type": "code",
   "execution_count": 25,
   "metadata": {},
   "outputs": [
    {
     "output_type": "execute_result",
     "data": {
      "text/plain": [
       "'LF'"
      ]
     },
     "metadata": {},
     "execution_count": 25
    }
   ],
   "source": [
    "df.groupby(['Position'])[['Value',\"Wage\"]].mean().sort_values(['Value'],ascending=False)[\"Value\"].index.tolist()[0]"
   ]
  },
  {
   "source": [
    "Какова средняя зарплата футболистов на данной позиции?"
   ],
   "cell_type": "markdown",
   "metadata": {}
  },
  {
   "cell_type": "code",
   "execution_count": 28,
   "metadata": {},
   "outputs": [
    {
     "output_type": "execute_result",
     "data": {
      "text/plain": [
       "75125.0"
      ]
     },
     "metadata": {},
     "execution_count": 28
    }
   ],
   "source": [
    "df.groupby(['Position'])[['Value',\"Wage\"]].mean()[\"Wage\"].loc[\"LF\"]"
   ]
  }
 ]
}