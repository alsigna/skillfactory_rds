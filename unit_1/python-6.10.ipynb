{
 "metadata": {
  "language_info": {
   "codemirror_mode": {
    "name": "ipython",
    "version": 3
   },
   "file_extension": ".py",
   "mimetype": "text/x-python",
   "name": "python",
   "nbconvert_exporter": "python",
   "pygments_lexer": "ipython3",
   "version": "3.8.2-final"
  },
  "orig_nbformat": 2,
  "kernelspec": {
   "name": "python382jvsc74a57bd0d46d14bfc67a8d69f82f77af2e60e5b02fcabf25a759a56cf61072a2d590541d",
   "display_name": "Python 3.8.2 64-bit ('venv': venv)"
  }
 },
 "nbformat": 4,
 "nbformat_minor": 2,
 "cells": [
  {
   "cell_type": "code",
   "execution_count": 1,
   "metadata": {},
   "outputs": [],
   "source": [
    "import pandas as pd\n",
    "df = pd.read_csv(\"/Users/alexigna/projects/skillfactory/unit1/data_sf.csv\")"
   ]
  },
  {
   "source": [
    "# Задача 1\n",
    "С помощью функции groupby посчитайте сумму зарплат (Wage) футболистов клуба (Club) \"Chelsea\"."
   ],
   "cell_type": "markdown",
   "metadata": {}
  },
  {
   "cell_type": "code",
   "execution_count": 16,
   "metadata": {},
   "outputs": [
    {
     "output_type": "execute_result",
     "data": {
      "text/plain": [
       "2035000"
      ]
     },
     "metadata": {},
     "execution_count": 16
    }
   ],
   "source": [
    "df.groupby([\"Club\"])[\"Wage\"].sum()[\"Chelsea\"]"
   ]
  },
  {
   "source": [
    "# Задача 2\n",
    "Определите максимальную зарплату футболиста национальности (Nationality) Аргентина (\"Argentina\") в возрасте 20 лет."
   ],
   "cell_type": "markdown",
   "metadata": {}
  },
  {
   "cell_type": "code",
   "execution_count": 30,
   "metadata": {},
   "outputs": [
    {
     "output_type": "execute_result",
     "data": {
      "text/plain": [
       "54000"
      ]
     },
     "metadata": {},
     "execution_count": 30
    }
   ],
   "source": [
    "df[(df.Nationality==\"Argentina\") & (df.Age==20)][\"Wage\"].max()"
   ]
  },
  {
   "source": [
    "# Задача 3\n",
    "Определите максимальную зарплату футболиста национальности (Nationality) Аргентина (\"Argentina\") в возрасте 30 лет."
   ],
   "cell_type": "markdown",
   "metadata": {}
  },
  {
   "cell_type": "code",
   "execution_count": 40,
   "metadata": {},
   "outputs": [
    {
     "output_type": "execute_result",
     "data": {
      "text/plain": [
       "300000"
      ]
     },
     "metadata": {},
     "execution_count": 40
    }
   ],
   "source": [
    "df.groupby([\"Nationality\", \"Age\"])[\"Wage\"].max()[\"Argentina\"][30]"
   ]
  },
  {
   "source": [
    "# Задача 4\n",
    "Определите минимальную зарплату футболиста национальности (Nationality) Аргентина (\"Argentina\") в возрасте 30 лет."
   ],
   "cell_type": "markdown",
   "metadata": {}
  },
  {
   "cell_type": "code",
   "execution_count": 41,
   "metadata": {},
   "outputs": [
    {
     "output_type": "execute_result",
     "data": {
      "text/plain": [
       "1000"
      ]
     },
     "metadata": {},
     "execution_count": 41
    }
   ],
   "source": [
    "df.groupby([\"Nationality\", \"Age\"])[\"Wage\"].min()[\"Argentina\"][30]"
   ]
  },
  {
   "source": [
    "# Задача 5\n",
    "Определите максимальную силу (Strength) и баланс (Balance) среди игроков клуба (Club) \"FC Barcelona\" из Аргентины (\"Argentina\"). Ответ введите через точку с запятой без пробела."
   ],
   "cell_type": "markdown",
   "metadata": {}
  },
  {
   "cell_type": "code",
   "execution_count": 72,
   "metadata": {},
   "outputs": [
    {
     "output_type": "execute_result",
     "data": {
      "text/plain": [
       "Strength    59\n",
       "Balance     95\n",
       "Name: Argentina, dtype: int64"
      ]
     },
     "metadata": {},
     "execution_count": 72
    }
   ],
   "source": [
    "df_new = df.groupby([\"Club\", \"Nationality\"])[[\"Strength\", \"Balance\"]].max()\n",
    "df_new.loc['FC Barcelona'].loc[\"Argentina\"]"
   ]
  }
 ]
}