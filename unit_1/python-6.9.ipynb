{
 "metadata": {
  "language_info": {
   "codemirror_mode": {
    "name": "ipython",
    "version": 3
   },
   "file_extension": ".py",
   "mimetype": "text/x-python",
   "name": "python",
   "nbconvert_exporter": "python",
   "pygments_lexer": "ipython3",
   "version": "3.8.2-final"
  },
  "orig_nbformat": 2,
  "kernelspec": {
   "name": "python382jvsc74a57bd0d46d14bfc67a8d69f82f77af2e60e5b02fcabf25a759a56cf61072a2d590541d",
   "display_name": "Python 3.8.2 64-bit ('venv': venv)"
  }
 },
 "nbformat": 4,
 "nbformat_minor": 2,
 "cells": [
  {
   "cell_type": "code",
   "execution_count": 1,
   "metadata": {},
   "outputs": [],
   "source": [
    "import pandas as pd\n",
    "df = pd.read_csv(\"/Users/alexigna/projects/skillfactory/unit1/data_sf.csv\")"
   ]
  },
  {
   "cell_type": "code",
   "execution_count": 2,
   "metadata": {},
   "outputs": [
    {
     "output_type": "execute_result",
     "data": {
      "text/plain": [
       "             Club  Name\n",
       "Nationality            \n",
       "Afghanistan     4     4\n",
       "Albania        26    29\n",
       "Algeria        33    37\n",
       "Andorra         1     1\n",
       "Angola          9    10\n",
       "...           ...   ...\n",
       "Uzbekistan      2     2\n",
       "Venezuela      34    36\n",
       "Wales          56   101\n",
       "Zambia          5     6\n",
       "Zimbabwe        8     9\n",
       "\n",
       "[156 rows x 2 columns]"
      ],
      "text/html": "<div>\n<style scoped>\n    .dataframe tbody tr th:only-of-type {\n        vertical-align: middle;\n    }\n\n    .dataframe tbody tr th {\n        vertical-align: top;\n    }\n\n    .dataframe thead th {\n        text-align: right;\n    }\n</style>\n<table border=\"1\" class=\"dataframe\">\n  <thead>\n    <tr style=\"text-align: right;\">\n      <th></th>\n      <th>Club</th>\n      <th>Name</th>\n    </tr>\n    <tr>\n      <th>Nationality</th>\n      <th></th>\n      <th></th>\n    </tr>\n  </thead>\n  <tbody>\n    <tr>\n      <th>Afghanistan</th>\n      <td>4</td>\n      <td>4</td>\n    </tr>\n    <tr>\n      <th>Albania</th>\n      <td>26</td>\n      <td>29</td>\n    </tr>\n    <tr>\n      <th>Algeria</th>\n      <td>33</td>\n      <td>37</td>\n    </tr>\n    <tr>\n      <th>Andorra</th>\n      <td>1</td>\n      <td>1</td>\n    </tr>\n    <tr>\n      <th>Angola</th>\n      <td>9</td>\n      <td>10</td>\n    </tr>\n    <tr>\n      <th>...</th>\n      <td>...</td>\n      <td>...</td>\n    </tr>\n    <tr>\n      <th>Uzbekistan</th>\n      <td>2</td>\n      <td>2</td>\n    </tr>\n    <tr>\n      <th>Venezuela</th>\n      <td>34</td>\n      <td>36</td>\n    </tr>\n    <tr>\n      <th>Wales</th>\n      <td>56</td>\n      <td>101</td>\n    </tr>\n    <tr>\n      <th>Zambia</th>\n      <td>5</td>\n      <td>6</td>\n    </tr>\n    <tr>\n      <th>Zimbabwe</th>\n      <td>8</td>\n      <td>9</td>\n    </tr>\n  </tbody>\n</table>\n<p>156 rows × 2 columns</p>\n</div>"
     },
     "metadata": {},
     "execution_count": 2
    }
   ],
   "source": [
    "df.groupby(['Nationality'])[['Club','Name']].nunique()"
   ]
  },
  {
   "cell_type": "code",
   "execution_count": 12,
   "metadata": {},
   "outputs": [
    {
     "output_type": "execute_result",
     "data": {
      "text/plain": [
       "                    Club        Name\n",
       "8402  Sandefjord Fotball  Marc Vales"
      ],
      "text/html": "<div>\n<style scoped>\n    .dataframe tbody tr th:only-of-type {\n        vertical-align: middle;\n    }\n\n    .dataframe tbody tr th {\n        vertical-align: top;\n    }\n\n    .dataframe thead th {\n        text-align: right;\n    }\n</style>\n<table border=\"1\" class=\"dataframe\">\n  <thead>\n    <tr style=\"text-align: right;\">\n      <th></th>\n      <th>Club</th>\n      <th>Name</th>\n    </tr>\n  </thead>\n  <tbody>\n    <tr>\n      <th>8402</th>\n      <td>Sandefjord Fotball</td>\n      <td>Marc Vales</td>\n    </tr>\n  </tbody>\n</table>\n</div>"
     },
     "metadata": {},
     "execution_count": 12
    }
   ],
   "source": [
    "df[df.Nationality=='Andorra'][[\"Club\", \"Name\"]]"
   ]
  },
  {
   "cell_type": "code",
   "execution_count": 13,
   "metadata": {},
   "outputs": [
    {
     "output_type": "execute_result",
     "data": {
      "text/plain": [
       "Club\n",
       " SSV Jahn Regensburg     24\n",
       "1. FC Heidenheim 1846    20\n",
       "1. FC Kaiserslautern     23\n",
       "1. FC Köln               10\n",
       "1. FC Magdeburg          21\n",
       "                         ..\n",
       "Zagłębie Sosnowiec       25\n",
       "Çaykur Rizespor          22\n",
       "Örebro SK                26\n",
       "Östersunds FK            20\n",
       "Śląsk Wrocław            24\n",
       "Name: Name, Length: 650, dtype: int64"
      ]
     },
     "metadata": {},
     "execution_count": 13
    }
   ],
   "source": [
    "df.groupby(['Club'])['Name'].count()"
   ]
  },
  {
   "cell_type": "code",
   "execution_count": 14,
   "metadata": {},
   "outputs": [
    {
     "output_type": "execute_result",
     "data": {
      "text/plain": [
       "Club\n",
       " SSV Jahn Regensburg     57.5\n",
       "1. FC Heidenheim 1846    59.5\n",
       "1. FC Kaiserslautern     54.0\n",
       "1. FC Köln               60.5\n",
       "1. FC Magdeburg          53.0\n",
       "                         ... \n",
       "Zagłębie Sosnowiec       58.0\n",
       "Çaykur Rizespor          62.0\n",
       "Örebro SK                55.0\n",
       "Östersunds FK            61.5\n",
       "Śląsk Wrocław            54.5\n",
       "Name: Dribbling, Length: 650, dtype: float64"
      ]
     },
     "metadata": {},
     "execution_count": 14
    }
   ],
   "source": [
    "df.groupby(['Club'])['Dribbling'].median()"
   ]
  },
  {
   "cell_type": "code",
   "execution_count": 15,
   "metadata": {},
   "outputs": [
    {
     "output_type": "execute_result",
     "data": {
      "text/plain": [
       "Club\n",
       " SSV Jahn Regensburg     92\n",
       "1. FC Heidenheim 1846    86\n",
       "1. FC Kaiserslautern     85\n",
       "1. FC Köln               76\n",
       "1. FC Magdeburg          86\n",
       "                         ..\n",
       "Zagłębie Sosnowiec       84\n",
       "Çaykur Rizespor          81\n",
       "Örebro SK                85\n",
       "Östersunds FK            88\n",
       "Śląsk Wrocław            85\n",
       "Name: Strength, Length: 650, dtype: int64"
      ]
     },
     "metadata": {},
     "execution_count": 15
    }
   ],
   "source": [
    "df.groupby(['Club'])['Strength'].max()"
   ]
  },
  {
   "cell_type": "code",
   "execution_count": 16,
   "metadata": {},
   "outputs": [
    {
     "output_type": "execute_result",
     "data": {
      "text/plain": [
       "Club\n",
       " SSV Jahn Regensburg     49\n",
       "1. FC Heidenheim 1846    40\n",
       "1. FC Kaiserslautern     41\n",
       "1. FC Köln               44\n",
       "1. FC Magdeburg          49\n",
       "                         ..\n",
       "Zagłębie Sosnowiec       36\n",
       "Çaykur Rizespor          42\n",
       "Örebro SK                32\n",
       "Östersunds FK            28\n",
       "Śląsk Wrocław            45\n",
       "Name: Strength, Length: 650, dtype: int64"
      ]
     },
     "metadata": {},
     "execution_count": 16
    }
   ],
   "source": [
    "df.groupby(['Club'])['Strength'].min()"
   ]
  },
  {
   "source": [
    "# Задание 1\n",
    "Посчитайте среднюю (mean) и медианную (median) зарплату (Wage) футболистов из разных клубов (Club). В скольких клубах средняя и медианная зарплаты совпадают?\n",
    "\n",
    "Подсказка: чтобы в процессе группировки применить к данным одновременно две агрегирующие функции, необходимо указать их как аргументы метода agg:\n",
    "\n",
    "df.groupby(столбец_для_группировки)[столбцы_для_отображения].agg(['функция_1', 'функция_2'])\n",
    "\n"
   ],
   "cell_type": "markdown",
   "metadata": {}
  },
  {
   "cell_type": "code",
   "execution_count": 66,
   "metadata": {},
   "outputs": [
    {
     "output_type": "execute_result",
     "data": {
      "text/plain": [
       "52"
      ]
     },
     "metadata": {},
     "execution_count": 66
    }
   ],
   "source": [
    "df_agg = df.groupby('Club')['Wage'].agg(['mean', 'median'])\n",
    "df_eq = df_agg[df_agg[\"mean\"]==df_agg[\"median\"]]\n",
    "len(df_eq)"
   ]
  },
  {
   "source": [
    "# Задание 2\n",
    "Продолжаем работать с клубами, в которых средняя зарплата совпадает с медианной. Каков максимальный размер средней зарплаты в этой группе клубов?"
   ],
   "cell_type": "markdown",
   "metadata": {}
  },
  {
   "cell_type": "code",
   "execution_count": 77,
   "metadata": {},
   "outputs": [
    {
     "output_type": "execute_result",
     "data": {
      "text/plain": [
       "13000.0"
      ]
     },
     "metadata": {},
     "execution_count": 77
    }
   ],
   "source": [
    "df_eq.sort_values(\"mean\", ascending=False)[\"mean\"].to_list()[0]"
   ]
  },
  {
   "source": [
    "Как называется клуб, где игроки получают такую зарплату?"
   ],
   "cell_type": "markdown",
   "metadata": {}
  },
  {
   "cell_type": "code",
   "execution_count": 72,
   "metadata": {},
   "outputs": [
    {
     "output_type": "execute_result",
     "data": {
      "text/plain": [
       "'Cruzeiro'"
      ]
     },
     "metadata": {},
     "execution_count": 72
    }
   ],
   "source": [
    "df_eq.sort_values(\"mean\", ascending=False).index.to_list()[0]"
   ]
  },
  {
   "cell_type": "code",
   "execution_count": null,
   "metadata": {},
   "outputs": [],
   "source": []
  }
 ]
}