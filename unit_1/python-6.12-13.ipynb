{
 "metadata": {
  "language_info": {
   "codemirror_mode": {
    "name": "ipython",
    "version": 3
   },
   "file_extension": ".py",
   "mimetype": "text/x-python",
   "name": "python",
   "nbconvert_exporter": "python",
   "pygments_lexer": "ipython3",
   "version": "3.8.2-final"
  },
  "orig_nbformat": 2,
  "kernelspec": {
   "name": "python382jvsc74a57bd0d46d14bfc67a8d69f82f77af2e60e5b02fcabf25a759a56cf61072a2d590541d",
   "display_name": "Python 3.8.2 64-bit ('venv': venv)"
  }
 },
 "nbformat": 4,
 "nbformat_minor": 2,
 "cells": [
  {
   "cell_type": "code",
   "execution_count": 74,
   "metadata": {},
   "outputs": [],
   "source": [
    "import pandas as pd\n",
    "df = pd.read_csv(\"/Users/alexigna/projects/skillfactory/unit1/data_sf.csv\")"
   ]
  },
  {
   "cell_type": "code",
   "execution_count": 77,
   "metadata": {},
   "outputs": [
    {
     "output_type": "display_data",
     "data": {
      "text/plain": "                           Wage                                           \\\nClub               FC Barcelona   Juventus Manchester United Real Madrid   \nNationality                                                                \nArgentina              565000.0   205000.0          206000.0         NaN   \nBelgium                110000.0        NaN          230000.0    240000.0   \nBosnia Herzegovina          NaN   180000.0               NaN         NaN   \nBrazil                 465000.0   335000.0           91000.0    570000.0   \nChile                  205000.0        NaN          215000.0         NaN   \nCosta Rica                  NaN        NaN               NaN    195000.0   \nCroatia                260000.0   160000.0               NaN    420000.0   \nDominican Republic          NaN        NaN               NaN    140000.0   \nEcuador                     NaN        NaN          120000.0         NaN   \nEngland                     NaN        NaN          478000.0         NaN   \nFrance                 495000.0   145000.0          375000.0    459000.0   \nGermany                240000.0   160000.0               NaN    355000.0   \nItaly                       NaN   460000.0           88000.0         NaN   \nIvory Coast                 NaN        NaN          105000.0         NaN   \nMorocco                     NaN   160000.0               NaN         NaN   \nNetherlands            135000.0        NaN               NaN         NaN   \nPoland                      NaN   125000.0               NaN         NaN   \nPortugal               125000.0   405000.0               NaN         NaN   \nScotland                    NaN        NaN           11000.0         NaN   \nSerbia                      NaN        NaN          165000.0         NaN   \nSpain                  912000.0        NaN          260000.0   1404000.0   \nUruguay                455000.0        NaN               NaN         NaN   \nWales                       NaN        NaN           13000.0    355000.0   \nAll                   3967000.0  2335000.0         2357000.0   4138000.0   \n\n                              \nClub                     All  \nNationality                   \nArgentina             976000  \nBelgium               580000  \nBosnia Herzegovina    180000  \nBrazil               1461000  \nChile                 420000  \nCosta Rica            195000  \nCroatia               840000  \nDominican Republic    140000  \nEcuador               120000  \nEngland               478000  \nFrance               1474000  \nGermany               755000  \nItaly                 548000  \nIvory Coast           105000  \nMorocco               160000  \nNetherlands           135000  \nPoland                125000  \nPortugal              530000  \nScotland               11000  \nSerbia                165000  \nSpain                2576000  \nUruguay               455000  \nWales                 368000  \nAll                 12797000  ",
      "text/html": "<div>\n<style scoped>\n    .dataframe tbody tr th:only-of-type {\n        vertical-align: middle;\n    }\n\n    .dataframe tbody tr th {\n        vertical-align: top;\n    }\n\n    .dataframe thead tr th {\n        text-align: left;\n    }\n\n    .dataframe thead tr:last-of-type th {\n        text-align: right;\n    }\n</style>\n<table border=\"1\" class=\"dataframe\">\n  <thead>\n    <tr>\n      <th></th>\n      <th colspan=\"5\" halign=\"left\">Wage</th>\n    </tr>\n    <tr>\n      <th>Club</th>\n      <th>FC Barcelona</th>\n      <th>Juventus</th>\n      <th>Manchester United</th>\n      <th>Real Madrid</th>\n      <th>All</th>\n    </tr>\n    <tr>\n      <th>Nationality</th>\n      <th></th>\n      <th></th>\n      <th></th>\n      <th></th>\n      <th></th>\n    </tr>\n  </thead>\n  <tbody>\n    <tr>\n      <th>Argentina</th>\n      <td>565000.0</td>\n      <td>205000.0</td>\n      <td>206000.0</td>\n      <td>NaN</td>\n      <td>976000</td>\n    </tr>\n    <tr>\n      <th>Belgium</th>\n      <td>110000.0</td>\n      <td>NaN</td>\n      <td>230000.0</td>\n      <td>240000.0</td>\n      <td>580000</td>\n    </tr>\n    <tr>\n      <th>Bosnia Herzegovina</th>\n      <td>NaN</td>\n      <td>180000.0</td>\n      <td>NaN</td>\n      <td>NaN</td>\n      <td>180000</td>\n    </tr>\n    <tr>\n      <th>Brazil</th>\n      <td>465000.0</td>\n      <td>335000.0</td>\n      <td>91000.0</td>\n      <td>570000.0</td>\n      <td>1461000</td>\n    </tr>\n    <tr>\n      <th>Chile</th>\n      <td>205000.0</td>\n      <td>NaN</td>\n      <td>215000.0</td>\n      <td>NaN</td>\n      <td>420000</td>\n    </tr>\n    <tr>\n      <th>Costa Rica</th>\n      <td>NaN</td>\n      <td>NaN</td>\n      <td>NaN</td>\n      <td>195000.0</td>\n      <td>195000</td>\n    </tr>\n    <tr>\n      <th>Croatia</th>\n      <td>260000.0</td>\n      <td>160000.0</td>\n      <td>NaN</td>\n      <td>420000.0</td>\n      <td>840000</td>\n    </tr>\n    <tr>\n      <th>Dominican Republic</th>\n      <td>NaN</td>\n      <td>NaN</td>\n      <td>NaN</td>\n      <td>140000.0</td>\n      <td>140000</td>\n    </tr>\n    <tr>\n      <th>Ecuador</th>\n      <td>NaN</td>\n      <td>NaN</td>\n      <td>120000.0</td>\n      <td>NaN</td>\n      <td>120000</td>\n    </tr>\n    <tr>\n      <th>England</th>\n      <td>NaN</td>\n      <td>NaN</td>\n      <td>478000.0</td>\n      <td>NaN</td>\n      <td>478000</td>\n    </tr>\n    <tr>\n      <th>France</th>\n      <td>495000.0</td>\n      <td>145000.0</td>\n      <td>375000.0</td>\n      <td>459000.0</td>\n      <td>1474000</td>\n    </tr>\n    <tr>\n      <th>Germany</th>\n      <td>240000.0</td>\n      <td>160000.0</td>\n      <td>NaN</td>\n      <td>355000.0</td>\n      <td>755000</td>\n    </tr>\n    <tr>\n      <th>Italy</th>\n      <td>NaN</td>\n      <td>460000.0</td>\n      <td>88000.0</td>\n      <td>NaN</td>\n      <td>548000</td>\n    </tr>\n    <tr>\n      <th>Ivory Coast</th>\n      <td>NaN</td>\n      <td>NaN</td>\n      <td>105000.0</td>\n      <td>NaN</td>\n      <td>105000</td>\n    </tr>\n    <tr>\n      <th>Morocco</th>\n      <td>NaN</td>\n      <td>160000.0</td>\n      <td>NaN</td>\n      <td>NaN</td>\n      <td>160000</td>\n    </tr>\n    <tr>\n      <th>Netherlands</th>\n      <td>135000.0</td>\n      <td>NaN</td>\n      <td>NaN</td>\n      <td>NaN</td>\n      <td>135000</td>\n    </tr>\n    <tr>\n      <th>Poland</th>\n      <td>NaN</td>\n      <td>125000.0</td>\n      <td>NaN</td>\n      <td>NaN</td>\n      <td>125000</td>\n    </tr>\n    <tr>\n      <th>Portugal</th>\n      <td>125000.0</td>\n      <td>405000.0</td>\n      <td>NaN</td>\n      <td>NaN</td>\n      <td>530000</td>\n    </tr>\n    <tr>\n      <th>Scotland</th>\n      <td>NaN</td>\n      <td>NaN</td>\n      <td>11000.0</td>\n      <td>NaN</td>\n      <td>11000</td>\n    </tr>\n    <tr>\n      <th>Serbia</th>\n      <td>NaN</td>\n      <td>NaN</td>\n      <td>165000.0</td>\n      <td>NaN</td>\n      <td>165000</td>\n    </tr>\n    <tr>\n      <th>Spain</th>\n      <td>912000.0</td>\n      <td>NaN</td>\n      <td>260000.0</td>\n      <td>1404000.0</td>\n      <td>2576000</td>\n    </tr>\n    <tr>\n      <th>Uruguay</th>\n      <td>455000.0</td>\n      <td>NaN</td>\n      <td>NaN</td>\n      <td>NaN</td>\n      <td>455000</td>\n    </tr>\n    <tr>\n      <th>Wales</th>\n      <td>NaN</td>\n      <td>NaN</td>\n      <td>13000.0</td>\n      <td>355000.0</td>\n      <td>368000</td>\n    </tr>\n    <tr>\n      <th>All</th>\n      <td>3967000.0</td>\n      <td>2335000.0</td>\n      <td>2357000.0</td>\n      <td>4138000.0</td>\n      <td>12797000</td>\n    </tr>\n  </tbody>\n</table>\n</div>"
     },
     "metadata": {}
    }
   ],
   "source": [
    "pivot = df.loc[df['Club'].isin(['FC Barcelona','Real Madrid','Juventus','Manchester United'])].pivot_table(\n",
    "    values=['Wage'],\n",
    "    index=['Nationality'],\n",
    "    columns=['Club'],\n",
    "    aggfunc='sum',\n",
    "    margins=True,\n",
    ")\n",
    "display(pivot)"
   ]
  },
  {
   "source": [
    "# Задание 1\n",
    "Сводная таблица, показывающая максимальные зарплаты игроков на разных позициях, играющих за разные клубы, была создана с помощью кода:"
   ],
   "cell_type": "markdown",
   "metadata": {}
  },
  {
   "cell_type": "code",
   "execution_count": 79,
   "metadata": {},
   "outputs": [
    {
     "output_type": "display_data",
     "data": {
      "text/plain": "Position                   CAM       CB      CDM      CF      CM       GK  \\\nClub                                                                        \n SSV Jahn Regensburg       NaN   5000.0   5000.0     NaN  4000.0   5000.0   \n1. FC Heidenheim 1846   5000.0   7000.0      NaN     NaN  1000.0   4000.0   \n1. FC Kaiserslautern       NaN   1000.0   1000.0     NaN     NaN   1000.0   \n1. FC Köln                 NaN   1000.0  10000.0     NaN  3000.0  25000.0   \n1. FC Magdeburg            NaN   7000.0      NaN  4000.0     NaN   6000.0   \n...                        ...      ...      ...     ...     ...      ...   \nZagłębie Sosnowiec      2000.0   1000.0   1000.0     NaN     NaN   1000.0   \nÇaykur Rizespor        11000.0  11000.0  13000.0     NaN     NaN   3000.0   \nÖrebro SK                  NaN   2000.0      NaN     NaN  1000.0   2000.0   \nÖstersunds FK           1000.0   1000.0      NaN  3000.0  8000.0   1000.0   \nŚląsk Wrocław              NaN   1000.0   3000.0     NaN  1000.0   2000.0   \n\nPosition               LAM      LB     LCB     LCM  ...      RB     RCB  \\\nClub                                                ...                   \n SSV Jahn Regensburg   NaN  6000.0     NaN     NaN  ...  4000.0  8000.0   \n1. FC Heidenheim 1846  NaN  6000.0  6000.0     NaN  ...  6000.0  3000.0   \n1. FC Kaiserslautern   NaN  2000.0  2000.0     NaN  ...  2000.0     NaN   \n1. FC Köln             NaN     NaN     NaN     NaN  ...  5000.0     NaN   \n1. FC Magdeburg        NaN  2000.0  5000.0  4000.0  ...     NaN  3000.0   \n...                    ...     ...     ...     ...  ...     ...     ...   \nZagłębie Sosnowiec     NaN  1000.0  1000.0     NaN  ...  1000.0  1000.0   \nÇaykur Rizespor        NaN  7000.0  4000.0     NaN  ...  6000.0     NaN   \nÖrebro SK              NaN     NaN  2000.0  2000.0  ...     NaN  2000.0   \nÖstersunds FK          NaN  2000.0  3000.0  5000.0  ...  1000.0  1000.0   \nŚląsk Wrocław          NaN  3000.0  2000.0     NaN  ...  2000.0  4000.0   \n\nPosition                  RCM      RDM  RF       RM      RS      RW     RWB  \\\nClub                                                                          \n SSV Jahn Regensburg      NaN   5000.0 NaN      NaN     NaN     NaN     NaN   \n1. FC Heidenheim 1846     NaN      NaN NaN   3000.0     NaN     NaN     NaN   \n1. FC Kaiserslautern      NaN   2000.0 NaN   2000.0  2000.0     NaN     NaN   \n1. FC Köln                NaN      NaN NaN  18000.0     NaN     NaN     NaN   \n1. FC Magdeburg        3000.0      NaN NaN   5000.0  8000.0  4000.0     NaN   \n...                       ...      ...  ..      ...     ...     ...     ...   \nZagłębie Sosnowiec        NaN   1000.0 NaN   1000.0     NaN     NaN     NaN   \nÇaykur Rizespor           NaN  10000.0 NaN  12000.0     NaN     NaN     NaN   \nÖrebro SK              2000.0      NaN NaN      NaN     NaN  2000.0  1000.0   \nÖstersunds FK             NaN      NaN NaN   2000.0     NaN  1000.0     NaN   \nŚląsk Wrocław             NaN   3000.0 NaN   3000.0  4000.0     NaN     NaN   \n\nPosition                   ST  \nClub                           \n SSV Jahn Regensburg   3000.0  \n1. FC Heidenheim 1846  4000.0  \n1. FC Kaiserslautern   1000.0  \n1. FC Köln                NaN  \n1. FC Magdeburg        1000.0  \n...                       ...  \nZagłębie Sosnowiec     2000.0  \nÇaykur Rizespor        2000.0  \nÖrebro SK              2000.0  \nÖstersunds FK          1000.0  \nŚląsk Wrocław          1000.0  \n\n[650 rows x 27 columns]",
      "text/html": "<div>\n<style scoped>\n    .dataframe tbody tr th:only-of-type {\n        vertical-align: middle;\n    }\n\n    .dataframe tbody tr th {\n        vertical-align: top;\n    }\n\n    .dataframe thead th {\n        text-align: right;\n    }\n</style>\n<table border=\"1\" class=\"dataframe\">\n  <thead>\n    <tr style=\"text-align: right;\">\n      <th>Position</th>\n      <th>CAM</th>\n      <th>CB</th>\n      <th>CDM</th>\n      <th>CF</th>\n      <th>CM</th>\n      <th>GK</th>\n      <th>LAM</th>\n      <th>LB</th>\n      <th>LCB</th>\n      <th>LCM</th>\n      <th>...</th>\n      <th>RB</th>\n      <th>RCB</th>\n      <th>RCM</th>\n      <th>RDM</th>\n      <th>RF</th>\n      <th>RM</th>\n      <th>RS</th>\n      <th>RW</th>\n      <th>RWB</th>\n      <th>ST</th>\n    </tr>\n    <tr>\n      <th>Club</th>\n      <th></th>\n      <th></th>\n      <th></th>\n      <th></th>\n      <th></th>\n      <th></th>\n      <th></th>\n      <th></th>\n      <th></th>\n      <th></th>\n      <th></th>\n      <th></th>\n      <th></th>\n      <th></th>\n      <th></th>\n      <th></th>\n      <th></th>\n      <th></th>\n      <th></th>\n      <th></th>\n      <th></th>\n    </tr>\n  </thead>\n  <tbody>\n    <tr>\n      <th>SSV Jahn Regensburg</th>\n      <td>NaN</td>\n      <td>5000.0</td>\n      <td>5000.0</td>\n      <td>NaN</td>\n      <td>4000.0</td>\n      <td>5000.0</td>\n      <td>NaN</td>\n      <td>6000.0</td>\n      <td>NaN</td>\n      <td>NaN</td>\n      <td>...</td>\n      <td>4000.0</td>\n      <td>8000.0</td>\n      <td>NaN</td>\n      <td>5000.0</td>\n      <td>NaN</td>\n      <td>NaN</td>\n      <td>NaN</td>\n      <td>NaN</td>\n      <td>NaN</td>\n      <td>3000.0</td>\n    </tr>\n    <tr>\n      <th>1. FC Heidenheim 1846</th>\n      <td>5000.0</td>\n      <td>7000.0</td>\n      <td>NaN</td>\n      <td>NaN</td>\n      <td>1000.0</td>\n      <td>4000.0</td>\n      <td>NaN</td>\n      <td>6000.0</td>\n      <td>6000.0</td>\n      <td>NaN</td>\n      <td>...</td>\n      <td>6000.0</td>\n      <td>3000.0</td>\n      <td>NaN</td>\n      <td>NaN</td>\n      <td>NaN</td>\n      <td>3000.0</td>\n      <td>NaN</td>\n      <td>NaN</td>\n      <td>NaN</td>\n      <td>4000.0</td>\n    </tr>\n    <tr>\n      <th>1. FC Kaiserslautern</th>\n      <td>NaN</td>\n      <td>1000.0</td>\n      <td>1000.0</td>\n      <td>NaN</td>\n      <td>NaN</td>\n      <td>1000.0</td>\n      <td>NaN</td>\n      <td>2000.0</td>\n      <td>2000.0</td>\n      <td>NaN</td>\n      <td>...</td>\n      <td>2000.0</td>\n      <td>NaN</td>\n      <td>NaN</td>\n      <td>2000.0</td>\n      <td>NaN</td>\n      <td>2000.0</td>\n      <td>2000.0</td>\n      <td>NaN</td>\n      <td>NaN</td>\n      <td>1000.0</td>\n    </tr>\n    <tr>\n      <th>1. FC Köln</th>\n      <td>NaN</td>\n      <td>1000.0</td>\n      <td>10000.0</td>\n      <td>NaN</td>\n      <td>3000.0</td>\n      <td>25000.0</td>\n      <td>NaN</td>\n      <td>NaN</td>\n      <td>NaN</td>\n      <td>NaN</td>\n      <td>...</td>\n      <td>5000.0</td>\n      <td>NaN</td>\n      <td>NaN</td>\n      <td>NaN</td>\n      <td>NaN</td>\n      <td>18000.0</td>\n      <td>NaN</td>\n      <td>NaN</td>\n      <td>NaN</td>\n      <td>NaN</td>\n    </tr>\n    <tr>\n      <th>1. FC Magdeburg</th>\n      <td>NaN</td>\n      <td>7000.0</td>\n      <td>NaN</td>\n      <td>4000.0</td>\n      <td>NaN</td>\n      <td>6000.0</td>\n      <td>NaN</td>\n      <td>2000.0</td>\n      <td>5000.0</td>\n      <td>4000.0</td>\n      <td>...</td>\n      <td>NaN</td>\n      <td>3000.0</td>\n      <td>3000.0</td>\n      <td>NaN</td>\n      <td>NaN</td>\n      <td>5000.0</td>\n      <td>8000.0</td>\n      <td>4000.0</td>\n      <td>NaN</td>\n      <td>1000.0</td>\n    </tr>\n    <tr>\n      <th>...</th>\n      <td>...</td>\n      <td>...</td>\n      <td>...</td>\n      <td>...</td>\n      <td>...</td>\n      <td>...</td>\n      <td>...</td>\n      <td>...</td>\n      <td>...</td>\n      <td>...</td>\n      <td>...</td>\n      <td>...</td>\n      <td>...</td>\n      <td>...</td>\n      <td>...</td>\n      <td>...</td>\n      <td>...</td>\n      <td>...</td>\n      <td>...</td>\n      <td>...</td>\n      <td>...</td>\n    </tr>\n    <tr>\n      <th>Zagłębie Sosnowiec</th>\n      <td>2000.0</td>\n      <td>1000.0</td>\n      <td>1000.0</td>\n      <td>NaN</td>\n      <td>NaN</td>\n      <td>1000.0</td>\n      <td>NaN</td>\n      <td>1000.0</td>\n      <td>1000.0</td>\n      <td>NaN</td>\n      <td>...</td>\n      <td>1000.0</td>\n      <td>1000.0</td>\n      <td>NaN</td>\n      <td>1000.0</td>\n      <td>NaN</td>\n      <td>1000.0</td>\n      <td>NaN</td>\n      <td>NaN</td>\n      <td>NaN</td>\n      <td>2000.0</td>\n    </tr>\n    <tr>\n      <th>Çaykur Rizespor</th>\n      <td>11000.0</td>\n      <td>11000.0</td>\n      <td>13000.0</td>\n      <td>NaN</td>\n      <td>NaN</td>\n      <td>3000.0</td>\n      <td>NaN</td>\n      <td>7000.0</td>\n      <td>4000.0</td>\n      <td>NaN</td>\n      <td>...</td>\n      <td>6000.0</td>\n      <td>NaN</td>\n      <td>NaN</td>\n      <td>10000.0</td>\n      <td>NaN</td>\n      <td>12000.0</td>\n      <td>NaN</td>\n      <td>NaN</td>\n      <td>NaN</td>\n      <td>2000.0</td>\n    </tr>\n    <tr>\n      <th>Örebro SK</th>\n      <td>NaN</td>\n      <td>2000.0</td>\n      <td>NaN</td>\n      <td>NaN</td>\n      <td>1000.0</td>\n      <td>2000.0</td>\n      <td>NaN</td>\n      <td>NaN</td>\n      <td>2000.0</td>\n      <td>2000.0</td>\n      <td>...</td>\n      <td>NaN</td>\n      <td>2000.0</td>\n      <td>2000.0</td>\n      <td>NaN</td>\n      <td>NaN</td>\n      <td>NaN</td>\n      <td>NaN</td>\n      <td>2000.0</td>\n      <td>1000.0</td>\n      <td>2000.0</td>\n    </tr>\n    <tr>\n      <th>Östersunds FK</th>\n      <td>1000.0</td>\n      <td>1000.0</td>\n      <td>NaN</td>\n      <td>3000.0</td>\n      <td>8000.0</td>\n      <td>1000.0</td>\n      <td>NaN</td>\n      <td>2000.0</td>\n      <td>3000.0</td>\n      <td>5000.0</td>\n      <td>...</td>\n      <td>1000.0</td>\n      <td>1000.0</td>\n      <td>NaN</td>\n      <td>NaN</td>\n      <td>NaN</td>\n      <td>2000.0</td>\n      <td>NaN</td>\n      <td>1000.0</td>\n      <td>NaN</td>\n      <td>1000.0</td>\n    </tr>\n    <tr>\n      <th>Śląsk Wrocław</th>\n      <td>NaN</td>\n      <td>1000.0</td>\n      <td>3000.0</td>\n      <td>NaN</td>\n      <td>1000.0</td>\n      <td>2000.0</td>\n      <td>NaN</td>\n      <td>3000.0</td>\n      <td>2000.0</td>\n      <td>NaN</td>\n      <td>...</td>\n      <td>2000.0</td>\n      <td>4000.0</td>\n      <td>NaN</td>\n      <td>3000.0</td>\n      <td>NaN</td>\n      <td>3000.0</td>\n      <td>4000.0</td>\n      <td>NaN</td>\n      <td>NaN</td>\n      <td>1000.0</td>\n    </tr>\n  </tbody>\n</table>\n<p>650 rows × 27 columns</p>\n</div>"
     },
     "metadata": {}
    }
   ],
   "source": [
    "df2 = df.pivot_table(\n",
    "    columns = 'Position',\n",
    "    index = 'Club',\n",
    "    values = 'Wage',\n",
    "    aggfunc = 'max',\n",
    ")\n",
    "display(df2)"
   ]
  },
  {
   "source": [
    "С помощью какого кода можно получить из этой таблицы информацию о максимальной зарплате вратаря (GK), играющего за футбольный клуб \"Manchester City\"?"
   ],
   "cell_type": "markdown",
   "metadata": {}
  },
  {
   "cell_type": "code",
   "execution_count": 83,
   "metadata": {},
   "outputs": [
    {
     "output_type": "execute_result",
     "data": {
      "text/plain": [
       "125000.0"
      ]
     },
     "metadata": {},
     "execution_count": 83
    }
   ],
   "source": [
    "df2.loc[\"Manchester City\"][\"GK\"]"
   ]
  },
  {
   "cell_type": "code",
   "execution_count": 86,
   "metadata": {},
   "outputs": [
    {
     "output_type": "execute_result",
     "data": {
      "text/plain": [
       "125000.0"
      ]
     },
     "metadata": {},
     "execution_count": 86
    }
   ],
   "source": [
    "df2.loc[\"Manchester City\"][\"GK\"]"
   ]
  },
  {
   "cell_type": "code",
   "execution_count": 90,
   "metadata": {},
   "outputs": [
    {
     "output_type": "execute_result",
     "data": {
      "text/plain": [
       "      Club             \n",
       "Wage  FC Barcelona         110000.0\n",
       "      Juventus                  NaN\n",
       "      Manchester United    230000.0\n",
       "      Real Madrid          240000.0\n",
       "      All                  580000.0\n",
       "Name: Belgium, dtype: float64"
      ]
     },
     "metadata": {},
     "execution_count": 90
    }
   ],
   "source": [
    "pivot.loc['Belgium']"
   ]
  },
  {
   "cell_type": "code",
   "execution_count": 91,
   "metadata": {},
   "outputs": [
    {
     "output_type": "display_data",
     "data": {
      "text/plain": "                           Wage                                         \\\nClub               FC Barcelona Juventus Manchester United Real Madrid   \nNationality                                                              \nArgentina                565000   205000            206000           0   \nBelgium                  110000        0            230000      240000   \nBosnia Herzegovina            0   180000                 0           0   \nBrazil                   465000   335000             91000      570000   \nChile                    205000        0            215000           0   \nCosta Rica                    0        0                 0      195000   \nCroatia                  260000   160000                 0      420000   \nDominican Republic            0        0                 0      140000   \nEcuador                       0        0            120000           0   \nEngland                       0        0            478000           0   \nFrance                   495000   145000            375000      459000   \nGermany                  240000   160000                 0      355000   \nItaly                         0   460000             88000           0   \nIvory Coast                   0        0            105000           0   \nMorocco                       0   160000                 0           0   \nNetherlands              135000        0                 0           0   \nPoland                        0   125000                 0           0   \nPortugal                 125000   405000                 0           0   \nScotland                      0        0             11000           0   \nSerbia                        0        0            165000           0   \nSpain                    912000        0            260000     1404000   \nUruguay                  455000        0                 0           0   \nWales                         0        0             13000      355000   \nAll                     3967000  2335000           2357000     4138000   \n\n                              \nClub                     All  \nNationality                   \nArgentina             976000  \nBelgium               580000  \nBosnia Herzegovina    180000  \nBrazil               1461000  \nChile                 420000  \nCosta Rica            195000  \nCroatia               840000  \nDominican Republic    140000  \nEcuador               120000  \nEngland               478000  \nFrance               1474000  \nGermany               755000  \nItaly                 548000  \nIvory Coast           105000  \nMorocco               160000  \nNetherlands           135000  \nPoland                125000  \nPortugal              530000  \nScotland               11000  \nSerbia                165000  \nSpain                2576000  \nUruguay               455000  \nWales                 368000  \nAll                 12797000  ",
      "text/html": "<div>\n<style scoped>\n    .dataframe tbody tr th:only-of-type {\n        vertical-align: middle;\n    }\n\n    .dataframe tbody tr th {\n        vertical-align: top;\n    }\n\n    .dataframe thead tr th {\n        text-align: left;\n    }\n\n    .dataframe thead tr:last-of-type th {\n        text-align: right;\n    }\n</style>\n<table border=\"1\" class=\"dataframe\">\n  <thead>\n    <tr>\n      <th></th>\n      <th colspan=\"5\" halign=\"left\">Wage</th>\n    </tr>\n    <tr>\n      <th>Club</th>\n      <th>FC Barcelona</th>\n      <th>Juventus</th>\n      <th>Manchester United</th>\n      <th>Real Madrid</th>\n      <th>All</th>\n    </tr>\n    <tr>\n      <th>Nationality</th>\n      <th></th>\n      <th></th>\n      <th></th>\n      <th></th>\n      <th></th>\n    </tr>\n  </thead>\n  <tbody>\n    <tr>\n      <th>Argentina</th>\n      <td>565000</td>\n      <td>205000</td>\n      <td>206000</td>\n      <td>0</td>\n      <td>976000</td>\n    </tr>\n    <tr>\n      <th>Belgium</th>\n      <td>110000</td>\n      <td>0</td>\n      <td>230000</td>\n      <td>240000</td>\n      <td>580000</td>\n    </tr>\n    <tr>\n      <th>Bosnia Herzegovina</th>\n      <td>0</td>\n      <td>180000</td>\n      <td>0</td>\n      <td>0</td>\n      <td>180000</td>\n    </tr>\n    <tr>\n      <th>Brazil</th>\n      <td>465000</td>\n      <td>335000</td>\n      <td>91000</td>\n      <td>570000</td>\n      <td>1461000</td>\n    </tr>\n    <tr>\n      <th>Chile</th>\n      <td>205000</td>\n      <td>0</td>\n      <td>215000</td>\n      <td>0</td>\n      <td>420000</td>\n    </tr>\n    <tr>\n      <th>Costa Rica</th>\n      <td>0</td>\n      <td>0</td>\n      <td>0</td>\n      <td>195000</td>\n      <td>195000</td>\n    </tr>\n    <tr>\n      <th>Croatia</th>\n      <td>260000</td>\n      <td>160000</td>\n      <td>0</td>\n      <td>420000</td>\n      <td>840000</td>\n    </tr>\n    <tr>\n      <th>Dominican Republic</th>\n      <td>0</td>\n      <td>0</td>\n      <td>0</td>\n      <td>140000</td>\n      <td>140000</td>\n    </tr>\n    <tr>\n      <th>Ecuador</th>\n      <td>0</td>\n      <td>0</td>\n      <td>120000</td>\n      <td>0</td>\n      <td>120000</td>\n    </tr>\n    <tr>\n      <th>England</th>\n      <td>0</td>\n      <td>0</td>\n      <td>478000</td>\n      <td>0</td>\n      <td>478000</td>\n    </tr>\n    <tr>\n      <th>France</th>\n      <td>495000</td>\n      <td>145000</td>\n      <td>375000</td>\n      <td>459000</td>\n      <td>1474000</td>\n    </tr>\n    <tr>\n      <th>Germany</th>\n      <td>240000</td>\n      <td>160000</td>\n      <td>0</td>\n      <td>355000</td>\n      <td>755000</td>\n    </tr>\n    <tr>\n      <th>Italy</th>\n      <td>0</td>\n      <td>460000</td>\n      <td>88000</td>\n      <td>0</td>\n      <td>548000</td>\n    </tr>\n    <tr>\n      <th>Ivory Coast</th>\n      <td>0</td>\n      <td>0</td>\n      <td>105000</td>\n      <td>0</td>\n      <td>105000</td>\n    </tr>\n    <tr>\n      <th>Morocco</th>\n      <td>0</td>\n      <td>160000</td>\n      <td>0</td>\n      <td>0</td>\n      <td>160000</td>\n    </tr>\n    <tr>\n      <th>Netherlands</th>\n      <td>135000</td>\n      <td>0</td>\n      <td>0</td>\n      <td>0</td>\n      <td>135000</td>\n    </tr>\n    <tr>\n      <th>Poland</th>\n      <td>0</td>\n      <td>125000</td>\n      <td>0</td>\n      <td>0</td>\n      <td>125000</td>\n    </tr>\n    <tr>\n      <th>Portugal</th>\n      <td>125000</td>\n      <td>405000</td>\n      <td>0</td>\n      <td>0</td>\n      <td>530000</td>\n    </tr>\n    <tr>\n      <th>Scotland</th>\n      <td>0</td>\n      <td>0</td>\n      <td>11000</td>\n      <td>0</td>\n      <td>11000</td>\n    </tr>\n    <tr>\n      <th>Serbia</th>\n      <td>0</td>\n      <td>0</td>\n      <td>165000</td>\n      <td>0</td>\n      <td>165000</td>\n    </tr>\n    <tr>\n      <th>Spain</th>\n      <td>912000</td>\n      <td>0</td>\n      <td>260000</td>\n      <td>1404000</td>\n      <td>2576000</td>\n    </tr>\n    <tr>\n      <th>Uruguay</th>\n      <td>455000</td>\n      <td>0</td>\n      <td>0</td>\n      <td>0</td>\n      <td>455000</td>\n    </tr>\n    <tr>\n      <th>Wales</th>\n      <td>0</td>\n      <td>0</td>\n      <td>13000</td>\n      <td>355000</td>\n      <td>368000</td>\n    </tr>\n    <tr>\n      <th>All</th>\n      <td>3967000</td>\n      <td>2335000</td>\n      <td>2357000</td>\n      <td>4138000</td>\n      <td>12797000</td>\n    </tr>\n  </tbody>\n</table>\n</div>"
     },
     "metadata": {}
    }
   ],
   "source": [
    "pivot = df.loc[df['Club'].isin(['FC Barcelona','Real Madrid','Juventus','Manchester United'])].pivot_table(\n",
    "    values=['Wage'],\n",
    "    index=['Nationality'],\n",
    "    columns=['Club'],\n",
    "    aggfunc='sum',\n",
    "    margins=True,\n",
    "    fill_value=0,\n",
    ")\n",
    "display(pivot)"
   ]
  },
  {
   "source": [
    "Применим другую агрегирующую функцию count, чтобы посчитать количество футболистов по клубам и национальностям:"
   ],
   "cell_type": "markdown",
   "metadata": {}
  },
  {
   "cell_type": "code",
   "execution_count": 92,
   "metadata": {},
   "outputs": [
    {
     "output_type": "display_data",
     "data": {
      "text/plain": "                           Name                                           \nClub               FC Barcelona Juventus Manchester United Real Madrid All\nNationality                                                               \nArgentina                     1        1                 2           0   4\nBelgium                       1        0                 1           1   3\nBosnia Herzegovina            0        1                 0           0   1\nBrazil                        2        2                 1           2   7\nChile                         1        0                 1           0   2\nCosta Rica                    0        0                 0           1   1\nCroatia                       1        1                 0           1   3\nDominican Republic            0        0                 0           1   1\nEcuador                       0        0                 1           0   1\nEngland                       0        0                 6           0   6\nFrance                        3        1                 2           3   9\nGermany                       1        1                 0           1   3\nItaly                         0        4                 1           0   5\nIvory Coast                   0        0                 1           0   1\nMorocco                       0        1                 0           0   1\nNetherlands                   1        0                 0           0   1\nPoland                        0        1                 0           0   1\nPortugal                      1        1                 0           0   2\nScotland                      0        0                 1           0   1\nSerbia                        0        0                 1           0   1\nSpain                         9        0                 1          11  21\nUruguay                       1        0                 0           0   1\nWales                         0        0                 1           1   2\nAll                          22       14                20          22  78",
      "text/html": "<div>\n<style scoped>\n    .dataframe tbody tr th:only-of-type {\n        vertical-align: middle;\n    }\n\n    .dataframe tbody tr th {\n        vertical-align: top;\n    }\n\n    .dataframe thead tr th {\n        text-align: left;\n    }\n\n    .dataframe thead tr:last-of-type th {\n        text-align: right;\n    }\n</style>\n<table border=\"1\" class=\"dataframe\">\n  <thead>\n    <tr>\n      <th></th>\n      <th colspan=\"5\" halign=\"left\">Name</th>\n    </tr>\n    <tr>\n      <th>Club</th>\n      <th>FC Barcelona</th>\n      <th>Juventus</th>\n      <th>Manchester United</th>\n      <th>Real Madrid</th>\n      <th>All</th>\n    </tr>\n    <tr>\n      <th>Nationality</th>\n      <th></th>\n      <th></th>\n      <th></th>\n      <th></th>\n      <th></th>\n    </tr>\n  </thead>\n  <tbody>\n    <tr>\n      <th>Argentina</th>\n      <td>1</td>\n      <td>1</td>\n      <td>2</td>\n      <td>0</td>\n      <td>4</td>\n    </tr>\n    <tr>\n      <th>Belgium</th>\n      <td>1</td>\n      <td>0</td>\n      <td>1</td>\n      <td>1</td>\n      <td>3</td>\n    </tr>\n    <tr>\n      <th>Bosnia Herzegovina</th>\n      <td>0</td>\n      <td>1</td>\n      <td>0</td>\n      <td>0</td>\n      <td>1</td>\n    </tr>\n    <tr>\n      <th>Brazil</th>\n      <td>2</td>\n      <td>2</td>\n      <td>1</td>\n      <td>2</td>\n      <td>7</td>\n    </tr>\n    <tr>\n      <th>Chile</th>\n      <td>1</td>\n      <td>0</td>\n      <td>1</td>\n      <td>0</td>\n      <td>2</td>\n    </tr>\n    <tr>\n      <th>Costa Rica</th>\n      <td>0</td>\n      <td>0</td>\n      <td>0</td>\n      <td>1</td>\n      <td>1</td>\n    </tr>\n    <tr>\n      <th>Croatia</th>\n      <td>1</td>\n      <td>1</td>\n      <td>0</td>\n      <td>1</td>\n      <td>3</td>\n    </tr>\n    <tr>\n      <th>Dominican Republic</th>\n      <td>0</td>\n      <td>0</td>\n      <td>0</td>\n      <td>1</td>\n      <td>1</td>\n    </tr>\n    <tr>\n      <th>Ecuador</th>\n      <td>0</td>\n      <td>0</td>\n      <td>1</td>\n      <td>0</td>\n      <td>1</td>\n    </tr>\n    <tr>\n      <th>England</th>\n      <td>0</td>\n      <td>0</td>\n      <td>6</td>\n      <td>0</td>\n      <td>6</td>\n    </tr>\n    <tr>\n      <th>France</th>\n      <td>3</td>\n      <td>1</td>\n      <td>2</td>\n      <td>3</td>\n      <td>9</td>\n    </tr>\n    <tr>\n      <th>Germany</th>\n      <td>1</td>\n      <td>1</td>\n      <td>0</td>\n      <td>1</td>\n      <td>3</td>\n    </tr>\n    <tr>\n      <th>Italy</th>\n      <td>0</td>\n      <td>4</td>\n      <td>1</td>\n      <td>0</td>\n      <td>5</td>\n    </tr>\n    <tr>\n      <th>Ivory Coast</th>\n      <td>0</td>\n      <td>0</td>\n      <td>1</td>\n      <td>0</td>\n      <td>1</td>\n    </tr>\n    <tr>\n      <th>Morocco</th>\n      <td>0</td>\n      <td>1</td>\n      <td>0</td>\n      <td>0</td>\n      <td>1</td>\n    </tr>\n    <tr>\n      <th>Netherlands</th>\n      <td>1</td>\n      <td>0</td>\n      <td>0</td>\n      <td>0</td>\n      <td>1</td>\n    </tr>\n    <tr>\n      <th>Poland</th>\n      <td>0</td>\n      <td>1</td>\n      <td>0</td>\n      <td>0</td>\n      <td>1</td>\n    </tr>\n    <tr>\n      <th>Portugal</th>\n      <td>1</td>\n      <td>1</td>\n      <td>0</td>\n      <td>0</td>\n      <td>2</td>\n    </tr>\n    <tr>\n      <th>Scotland</th>\n      <td>0</td>\n      <td>0</td>\n      <td>1</td>\n      <td>0</td>\n      <td>1</td>\n    </tr>\n    <tr>\n      <th>Serbia</th>\n      <td>0</td>\n      <td>0</td>\n      <td>1</td>\n      <td>0</td>\n      <td>1</td>\n    </tr>\n    <tr>\n      <th>Spain</th>\n      <td>9</td>\n      <td>0</td>\n      <td>1</td>\n      <td>11</td>\n      <td>21</td>\n    </tr>\n    <tr>\n      <th>Uruguay</th>\n      <td>1</td>\n      <td>0</td>\n      <td>0</td>\n      <td>0</td>\n      <td>1</td>\n    </tr>\n    <tr>\n      <th>Wales</th>\n      <td>0</td>\n      <td>0</td>\n      <td>1</td>\n      <td>1</td>\n      <td>2</td>\n    </tr>\n    <tr>\n      <th>All</th>\n      <td>22</td>\n      <td>14</td>\n      <td>20</td>\n      <td>22</td>\n      <td>78</td>\n    </tr>\n  </tbody>\n</table>\n</div>"
     },
     "metadata": {}
    }
   ],
   "source": [
    "pivot = df.loc[df['Club'].isin(['FC Barcelona','Real Madrid','Juventus','Manchester United'])].pivot_table(\n",
    "    values=['Name'],\n",
    "    index=['Nationality'],\n",
    "    columns=['Club'],\n",
    "    aggfunc='count',\n",
    "    margins=True,\n",
    "    fill_value=0,\n",
    ")\n",
    "display(pivot)"
   ]
  },
  {
   "cell_type": "code",
   "execution_count": 93,
   "metadata": {},
   "outputs": [
    {
     "output_type": "execute_result",
     "data": {
      "text/plain": [
       "2"
      ]
     },
     "metadata": {},
     "execution_count": 93
    }
   ],
   "source": [
    "pivot.loc['Argentina']['Name']['Manchester United']"
   ]
  },
  {
   "source": [
    "# Задание 1 (6.13)\n",
    "Создайте сводную таблицу, содержащую сведения о количестве игроков, занимающих разные позиции в каждом клубе. Отсутствующие значения замените нулями.\n",
    "\n",
    "Каково среднее количество вратарей (GK) в клубе? Ответ округлите до трёх цифр после запятой."
   ],
   "cell_type": "markdown",
   "metadata": {}
  },
  {
   "cell_type": "code",
   "execution_count": 116,
   "metadata": {},
   "outputs": [
    {
     "output_type": "display_data",
     "data": {
      "text/plain": "2.525"
     },
     "metadata": {}
    }
   ],
   "source": [
    "pivot = df.pivot_table(\n",
    "    index=\"Position\",\n",
    "    columns=\"Club\",\n",
    "    values=\"Name\",\n",
    "    aggfunc=\"count\",\n",
    "    # margins=True,\n",
    "    fill_value=0,\n",
    ")\n",
    "# display(pivot)\n",
    "display(\n",
    "    round(pivot.loc[\"GK\"].mean(), 3)\n",
    ")\n",
    "# pivot.loc[\"GK\"].sort_values()"
   ]
  },
  {
   "source": [
    "# Задание 2\n",
    "Используя таблицу, созданную на предыдущем шаге, определите, сколько клубов не содержат данных о центральных полузащитниках. (CM)\n",
    "\n",
    "Подсказка: для выполнения этого задания желательно сохранить сводную таблицу в виде отдельного датафрейма и сгруппировать часть данных этого датафрейма с помощью value_counts()."
   ],
   "cell_type": "markdown",
   "metadata": {}
  },
  {
   "cell_type": "code",
   "execution_count": 124,
   "metadata": {},
   "outputs": [
    {
     "output_type": "execute_result",
     "data": {
      "text/plain": [
       "136"
      ]
     },
     "metadata": {},
     "execution_count": 124
    }
   ],
   "source": [
    "pivot.loc[\"CM\"].value_counts().sort_index()[0]"
   ]
  },
  {
   "cell_type": "code",
   "execution_count": null,
   "metadata": {},
   "outputs": [],
   "source": []
  }
 ]
}