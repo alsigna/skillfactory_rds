{
 "metadata": {
  "language_info": {
   "codemirror_mode": {
    "name": "ipython",
    "version": 3
   },
   "file_extension": ".py",
   "mimetype": "text/x-python",
   "name": "python",
   "nbconvert_exporter": "python",
   "pygments_lexer": "ipython3",
   "version": "3.8.2-final"
  },
  "orig_nbformat": 2,
  "kernelspec": {
   "name": "python382jvsc74a57bd0d46d14bfc67a8d69f82f77af2e60e5b02fcabf25a759a56cf61072a2d590541d",
   "display_name": "Python 3.8.2 64-bit ('venv': venv)"
  }
 },
 "nbformat": 4,
 "nbformat_minor": 2,
 "cells": [
  {
   "cell_type": "code",
   "execution_count": 2,
   "metadata": {},
   "outputs": [],
   "source": [
    "import pandas as pd"
   ]
  },
  {
   "cell_type": "code",
   "execution_count": 3,
   "metadata": {},
   "outputs": [],
   "source": [
    "# В словаре items_dict (который мы переведем в датафрейм) содержится информация о наличии товара на складе:\n",
    "items_dict = {\n",
    "    'item_id': [417283, 849734, 132223, 573943, 19475, 3294095, 382043, 302948, 100132, 312394], \n",
    "    'vendor': ['Samsung', 'LG', 'Apple', 'Apple', 'LG', 'Apple', 'Samsung', 'Samsung', 'LG', 'ZTE'],\n",
    "    'stock_count': [54, 33, 122, 18, 102, 43, 77, 143, 60, 19]\n",
    "}"
   ]
  },
  {
   "cell_type": "code",
   "execution_count": 4,
   "metadata": {},
   "outputs": [],
   "source": [
    "# А в словаре purchase_log — данные о покупках товаров:\n",
    "purchase_log = {\n",
    "    'purchase_id': [101, 101, 101, 112, 121, 145, 145, 145, 145, 221],\n",
    "    'item_id': [417283, 849734, 132223, 573943, 19475, 3294095, 382043, 302948, 103845, 100132], \n",
    "    'price': [13900, 5330, 38200, 49990, 9890, 33000, 67500, 34500, 89900, 11400]\n",
    "}"
   ]
  },
  {
   "source": [
    "- item_id — идентификатор модели (по этому столбцу будем объединять датафреймы)\n",
    "- vendor — производитель модели\n",
    "- stock_count — имеющееся на складе количество данных моделей (в штуках)\n",
    "- purchase_id — идентификатор покупки\n",
    "- price — стоимость модели в покупке"
   ],
   "cell_type": "markdown",
   "metadata": {}
  },
  {
   "cell_type": "code",
   "execution_count": 5,
   "metadata": {},
   "outputs": [],
   "source": [
    "items_df = pd.DataFrame(items_dict)\n",
    "purchase_df = pd.DataFrame(purchase_log)"
   ]
  },
  {
   "source": [
    "# Задание 1\n",
    "Объедините получившиеся датафреймы по столбцу item_id с типом outer.\n",
    "Определите, модель с каким item_id есть в статистике продаж purchase_df, но не учтена на складе (подсказка: подумайте, какой датафрейм должен быть \"левым\", а какой \"правым\", чтобы получить необходимые данные). Введите ответ в виде целого числа.\n",
    "\n"
   ],
   "cell_type": "markdown",
   "metadata": {}
  },
  {
   "cell_type": "code",
   "execution_count": 6,
   "metadata": {},
   "outputs": [
    {
     "output_type": "execute_result",
     "data": {
      "text/plain": [
       "    item_id   vendor  stock_count  purchase_id    price\n",
       "0    417283  Samsung         54.0        101.0  13900.0\n",
       "1    849734       LG         33.0        101.0   5330.0\n",
       "2    132223    Apple        122.0        101.0  38200.0\n",
       "3    573943    Apple         18.0        112.0  49990.0\n",
       "4     19475       LG        102.0        121.0   9890.0\n",
       "5   3294095    Apple         43.0        145.0  33000.0\n",
       "6    382043  Samsung         77.0        145.0  67500.0\n",
       "7    302948  Samsung        143.0        145.0  34500.0\n",
       "8    100132       LG         60.0        221.0  11400.0\n",
       "9    312394      ZTE         19.0          NaN      NaN\n",
       "10   103845      NaN          NaN        145.0  89900.0"
      ],
      "text/html": "<div>\n<style scoped>\n    .dataframe tbody tr th:only-of-type {\n        vertical-align: middle;\n    }\n\n    .dataframe tbody tr th {\n        vertical-align: top;\n    }\n\n    .dataframe thead th {\n        text-align: right;\n    }\n</style>\n<table border=\"1\" class=\"dataframe\">\n  <thead>\n    <tr style=\"text-align: right;\">\n      <th></th>\n      <th>item_id</th>\n      <th>vendor</th>\n      <th>stock_count</th>\n      <th>purchase_id</th>\n      <th>price</th>\n    </tr>\n  </thead>\n  <tbody>\n    <tr>\n      <th>0</th>\n      <td>417283</td>\n      <td>Samsung</td>\n      <td>54.0</td>\n      <td>101.0</td>\n      <td>13900.0</td>\n    </tr>\n    <tr>\n      <th>1</th>\n      <td>849734</td>\n      <td>LG</td>\n      <td>33.0</td>\n      <td>101.0</td>\n      <td>5330.0</td>\n    </tr>\n    <tr>\n      <th>2</th>\n      <td>132223</td>\n      <td>Apple</td>\n      <td>122.0</td>\n      <td>101.0</td>\n      <td>38200.0</td>\n    </tr>\n    <tr>\n      <th>3</th>\n      <td>573943</td>\n      <td>Apple</td>\n      <td>18.0</td>\n      <td>112.0</td>\n      <td>49990.0</td>\n    </tr>\n    <tr>\n      <th>4</th>\n      <td>19475</td>\n      <td>LG</td>\n      <td>102.0</td>\n      <td>121.0</td>\n      <td>9890.0</td>\n    </tr>\n    <tr>\n      <th>5</th>\n      <td>3294095</td>\n      <td>Apple</td>\n      <td>43.0</td>\n      <td>145.0</td>\n      <td>33000.0</td>\n    </tr>\n    <tr>\n      <th>6</th>\n      <td>382043</td>\n      <td>Samsung</td>\n      <td>77.0</td>\n      <td>145.0</td>\n      <td>67500.0</td>\n    </tr>\n    <tr>\n      <th>7</th>\n      <td>302948</td>\n      <td>Samsung</td>\n      <td>143.0</td>\n      <td>145.0</td>\n      <td>34500.0</td>\n    </tr>\n    <tr>\n      <th>8</th>\n      <td>100132</td>\n      <td>LG</td>\n      <td>60.0</td>\n      <td>221.0</td>\n      <td>11400.0</td>\n    </tr>\n    <tr>\n      <th>9</th>\n      <td>312394</td>\n      <td>ZTE</td>\n      <td>19.0</td>\n      <td>NaN</td>\n      <td>NaN</td>\n    </tr>\n    <tr>\n      <th>10</th>\n      <td>103845</td>\n      <td>NaN</td>\n      <td>NaN</td>\n      <td>145.0</td>\n      <td>89900.0</td>\n    </tr>\n  </tbody>\n</table>\n</div>"
     },
     "metadata": {},
     "execution_count": 6
    }
   ],
   "source": [
    "items_df.merge(purchase_df, how=\"outer\", on=\"item_id\")"
   ]
  },
  {
   "source": [
    "# Задание 3\n",
    "Сформируйте датафрейм merged, в котором в результате объединения purchase_df и items_df останутся модели, которые учтены на складе и имели продажи. Сколько всего таких моделей?"
   ],
   "cell_type": "markdown",
   "metadata": {}
  },
  {
   "cell_type": "code",
   "execution_count": 7,
   "metadata": {},
   "outputs": [
    {
     "output_type": "execute_result",
     "data": {
      "text/plain": [
       "9"
      ]
     },
     "metadata": {},
     "execution_count": 7
    }
   ],
   "source": [
    "merged = items_df.merge(purchase_df, on=\"item_id\", how=\"inner\")\n",
    "len(merged)"
   ]
  },
  {
   "source": [
    "# Задание 4\n",
    "Посчитайте объем выручки для каждой модели, которую можно получить, распродав все остатки на складе. Модель с каким item_id имеет максимальное значение выручки после распродажи остатков? Ответ дайте в виде целого числа.\n",
    "\n",
    "Примечание: перемножение столбцов датафрейма можно производить разными способами, но самый простой - перемножение \"в лоб\" вида df\\['col1'\\] = df\\['col2'\\] * df\\['col3'\\]. Для присоединения новых данных к датафрейму тоже можно использовать различные методы, включая функцию .append(), которая позволяет присоединять к датафрейму другой датафрейм, серии или словари."
   ],
   "cell_type": "markdown",
   "metadata": {}
  },
  {
   "cell_type": "code",
   "execution_count": 8,
   "metadata": {},
   "outputs": [
    {
     "output_type": "stream",
     "name": "stdout",
     "text": [
      "   item_id   vendor  stock_count  purchase_id  price  stock_volume\n0   417283  Samsung           54          101  13900        750600\n1   849734       LG           33          101   5330        175890\n2   132223    Apple          122          101  38200       4660400\n3   573943    Apple           18          112  49990        899820\n4    19475       LG          102          121   9890       1008780\n5  3294095    Apple           43          145  33000       1419000\n6   382043  Samsung           77          145  67500       5197500\n7   302948  Samsung          143          145  34500       4933500\n8   100132       LG           60          221  11400        684000\n"
     ]
    }
   ],
   "source": [
    "merged[\"stock_volume\"] = merged[\"stock_count\"]*merged[\"price\"]\n",
    "print(merged)"
   ]
  },
  {
   "cell_type": "code",
   "execution_count": 9,
   "metadata": {},
   "outputs": [
    {
     "output_type": "execute_result",
     "data": {
      "text/plain": [
       "382043"
      ]
     },
     "metadata": {},
     "execution_count": 9
    }
   ],
   "source": [
    "merged.sort_values(\"stock_volume\", ascending=False)[\"item_id\"].to_list()[0]"
   ]
  },
  {
   "source": [
    "# Задание 5\n",
    "Посчитайте итоговую выручку из прошлого задания по всем моделям. Ответ дайте в виде целого числа.\n",
    "\n"
   ],
   "cell_type": "markdown",
   "metadata": {}
  },
  {
   "cell_type": "code",
   "execution_count": 10,
   "metadata": {},
   "outputs": [
    {
     "output_type": "execute_result",
     "data": {
      "text/plain": [
       "19729490"
      ]
     },
     "metadata": {},
     "execution_count": 10
    }
   ],
   "source": [
    "merged[\"stock_volume\"].sum()"
   ]
  },
  {
   "cell_type": "code",
   "execution_count": 17,
   "metadata": {},
   "outputs": [
    {
     "output_type": "execute_result",
     "data": {
      "text/plain": [
       "   index        0\n",
       "0      0   750600\n",
       "1      1   175890\n",
       "2      2  4660400\n",
       "3      3   899820\n",
       "4      4  1008780\n",
       "5      5  1419000\n",
       "6      6  5197500\n",
       "7      7  4933500\n",
       "8      8   684000"
      ],
      "text/html": "<div>\n<style scoped>\n    .dataframe tbody tr th:only-of-type {\n        vertical-align: middle;\n    }\n\n    .dataframe tbody tr th {\n        vertical-align: top;\n    }\n\n    .dataframe thead th {\n        text-align: right;\n    }\n</style>\n<table border=\"1\" class=\"dataframe\">\n  <thead>\n    <tr style=\"text-align: right;\">\n      <th></th>\n      <th>index</th>\n      <th>0</th>\n    </tr>\n  </thead>\n  <tbody>\n    <tr>\n      <th>0</th>\n      <td>0</td>\n      <td>750600</td>\n    </tr>\n    <tr>\n      <th>1</th>\n      <td>1</td>\n      <td>175890</td>\n    </tr>\n    <tr>\n      <th>2</th>\n      <td>2</td>\n      <td>4660400</td>\n    </tr>\n    <tr>\n      <th>3</th>\n      <td>3</td>\n      <td>899820</td>\n    </tr>\n    <tr>\n      <th>4</th>\n      <td>4</td>\n      <td>1008780</td>\n    </tr>\n    <tr>\n      <th>5</th>\n      <td>5</td>\n      <td>1419000</td>\n    </tr>\n    <tr>\n      <th>6</th>\n      <td>6</td>\n      <td>5197500</td>\n    </tr>\n    <tr>\n      <th>7</th>\n      <td>7</td>\n      <td>4933500</td>\n    </tr>\n    <tr>\n      <th>8</th>\n      <td>8</td>\n      <td>684000</td>\n    </tr>\n  </tbody>\n</table>\n</div>"
     },
     "metadata": {},
     "execution_count": 17
    }
   ],
   "source": [
    "stock = merged[\"stock_count\"]*merged[\"price\"]\n",
    "stock = stock.reset_index()\n",
    "stock"
   ]
  },
  {
   "cell_type": "code",
   "execution_count": 18,
   "metadata": {},
   "outputs": [],
   "source": [
    "full_merged = pd.concat([merged, stock], axis = 1)"
   ]
  },
  {
   "cell_type": "code",
   "execution_count": 19,
   "metadata": {},
   "outputs": [
    {
     "output_type": "execute_result",
     "data": {
      "text/plain": [
       "   item_id   vendor  stock_count  purchase_id  price  stock_volume  index  \\\n",
       "0   417283  Samsung           54          101  13900        750600      0   \n",
       "1   849734       LG           33          101   5330        175890      1   \n",
       "2   132223    Apple          122          101  38200       4660400      2   \n",
       "3   573943    Apple           18          112  49990        899820      3   \n",
       "4    19475       LG          102          121   9890       1008780      4   \n",
       "5  3294095    Apple           43          145  33000       1419000      5   \n",
       "6   382043  Samsung           77          145  67500       5197500      6   \n",
       "7   302948  Samsung          143          145  34500       4933500      7   \n",
       "8   100132       LG           60          221  11400        684000      8   \n",
       "\n",
       "         0  \n",
       "0   750600  \n",
       "1   175890  \n",
       "2  4660400  \n",
       "3   899820  \n",
       "4  1008780  \n",
       "5  1419000  \n",
       "6  5197500  \n",
       "7  4933500  \n",
       "8   684000  "
      ],
      "text/html": "<div>\n<style scoped>\n    .dataframe tbody tr th:only-of-type {\n        vertical-align: middle;\n    }\n\n    .dataframe tbody tr th {\n        vertical-align: top;\n    }\n\n    .dataframe thead th {\n        text-align: right;\n    }\n</style>\n<table border=\"1\" class=\"dataframe\">\n  <thead>\n    <tr style=\"text-align: right;\">\n      <th></th>\n      <th>item_id</th>\n      <th>vendor</th>\n      <th>stock_count</th>\n      <th>purchase_id</th>\n      <th>price</th>\n      <th>stock_volume</th>\n      <th>index</th>\n      <th>0</th>\n    </tr>\n  </thead>\n  <tbody>\n    <tr>\n      <th>0</th>\n      <td>417283</td>\n      <td>Samsung</td>\n      <td>54</td>\n      <td>101</td>\n      <td>13900</td>\n      <td>750600</td>\n      <td>0</td>\n      <td>750600</td>\n    </tr>\n    <tr>\n      <th>1</th>\n      <td>849734</td>\n      <td>LG</td>\n      <td>33</td>\n      <td>101</td>\n      <td>5330</td>\n      <td>175890</td>\n      <td>1</td>\n      <td>175890</td>\n    </tr>\n    <tr>\n      <th>2</th>\n      <td>132223</td>\n      <td>Apple</td>\n      <td>122</td>\n      <td>101</td>\n      <td>38200</td>\n      <td>4660400</td>\n      <td>2</td>\n      <td>4660400</td>\n    </tr>\n    <tr>\n      <th>3</th>\n      <td>573943</td>\n      <td>Apple</td>\n      <td>18</td>\n      <td>112</td>\n      <td>49990</td>\n      <td>899820</td>\n      <td>3</td>\n      <td>899820</td>\n    </tr>\n    <tr>\n      <th>4</th>\n      <td>19475</td>\n      <td>LG</td>\n      <td>102</td>\n      <td>121</td>\n      <td>9890</td>\n      <td>1008780</td>\n      <td>4</td>\n      <td>1008780</td>\n    </tr>\n    <tr>\n      <th>5</th>\n      <td>3294095</td>\n      <td>Apple</td>\n      <td>43</td>\n      <td>145</td>\n      <td>33000</td>\n      <td>1419000</td>\n      <td>5</td>\n      <td>1419000</td>\n    </tr>\n    <tr>\n      <th>6</th>\n      <td>382043</td>\n      <td>Samsung</td>\n      <td>77</td>\n      <td>145</td>\n      <td>67500</td>\n      <td>5197500</td>\n      <td>6</td>\n      <td>5197500</td>\n    </tr>\n    <tr>\n      <th>7</th>\n      <td>302948</td>\n      <td>Samsung</td>\n      <td>143</td>\n      <td>145</td>\n      <td>34500</td>\n      <td>4933500</td>\n      <td>7</td>\n      <td>4933500</td>\n    </tr>\n    <tr>\n      <th>8</th>\n      <td>100132</td>\n      <td>LG</td>\n      <td>60</td>\n      <td>221</td>\n      <td>11400</td>\n      <td>684000</td>\n      <td>8</td>\n      <td>684000</td>\n    </tr>\n  </tbody>\n</table>\n</div>"
     },
     "metadata": {},
     "execution_count": 19
    }
   ],
   "source": [
    "full_merged"
   ]
  },
  {
   "cell_type": "code",
   "execution_count": null,
   "metadata": {},
   "outputs": [],
   "source": []
  }
 ]
}