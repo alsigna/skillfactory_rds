{
 "metadata": {
  "language_info": {
   "codemirror_mode": {
    "name": "ipython",
    "version": 3
   },
   "file_extension": ".py",
   "mimetype": "text/x-python",
   "name": "python",
   "nbconvert_exporter": "python",
   "pygments_lexer": "ipython3",
   "version": "3.8.2-final"
  },
  "orig_nbformat": 2,
  "kernelspec": {
   "name": "python382jvsc74a57bd0d46d14bfc67a8d69f82f77af2e60e5b02fcabf25a759a56cf61072a2d590541d",
   "display_name": "Python 3.8.2 64-bit ('venv': venv)"
  }
 },
 "nbformat": 4,
 "nbformat_minor": 2,
 "cells": [
  {
   "cell_type": "code",
   "execution_count": 2,
   "metadata": {},
   "outputs": [],
   "source": [
    "import pandas as pd\n",
    "df = pd.read_csv(\"/Users/alexigna/projects/skillfactory/unit1/data_sf.csv\")"
   ]
  },
  {
   "source": [
    "# Задача 1\n",
    "С помощью сводной таблицы и функции loc посчитайте, сколько получают (\"Wage\") русские футболисты (\"Russia\"), играющие за ФК \"AS Monaco\"."
   ],
   "cell_type": "markdown",
   "metadata": {}
  },
  {
   "cell_type": "code",
   "execution_count": 3,
   "metadata": {},
   "outputs": [
    {
     "output_type": "execute_result",
     "data": {
      "text/plain": [
       "61000"
      ]
     },
     "metadata": {},
     "execution_count": 3
    }
   ],
   "source": [
    "df.loc[df[\"Nationality\"]==\"Russia\"].pivot_table(\n",
    "    index=\"Club\",\n",
    "    columns=\"Nationality\",\n",
    "    values=\"Wage\",\n",
    "    margins=0,\n",
    "    aggfunc=\"sum\",\n",
    ").loc[\"AS Monaco\"].to_list()[0]"
   ]
  },
  {
   "source": [
    "# Задача 2\n",
    "Создайте сводную таблицу, содержащую сведения о средней скорости футболистов (SprintSpeed), занимающих разные позиции (Position) в разных футбольных клубах (Club).\n",
    "\n",
    "Основываясь на данных таблицы, отметьте три позиции, представители которых в среднем обладают самой высокой скоростью."
   ],
   "cell_type": "markdown",
   "metadata": {}
  },
  {
   "cell_type": "code",
   "execution_count": 49,
   "metadata": {},
   "outputs": [
    {
     "output_type": "execute_result",
     "data": {
      "text/plain": [
       "['LAM',\n",
       " 'RF',\n",
       " 'LF',\n",
       " 'RW',\n",
       " 'RM',\n",
       " 'LW',\n",
       " 'LM',\n",
       " 'RAM',\n",
       " 'RWB',\n",
       " 'LWB',\n",
       " 'LS',\n",
       " 'RS',\n",
       " 'RB',\n",
       " 'LB',\n",
       " 'CF',\n",
       " 'ST',\n",
       " 'CAM',\n",
       " 'LCM',\n",
       " 'RCM',\n",
       " 'CM',\n",
       " 'All',\n",
       " 'RDM',\n",
       " 'LDM',\n",
       " 'CDM',\n",
       " 'LCB',\n",
       " 'RCB',\n",
       " 'CB',\n",
       " 'GK']"
      ]
     },
     "metadata": {},
     "execution_count": 49
    }
   ],
   "source": [
    "df.pivot_table(\n",
    "    values=\"SprintSpeed\",\n",
    "    aggfunc=\"mean\",\n",
    "    columns=\"Club\",\n",
    "    index=\"Position\",\n",
    "    # columns=\"Position\",\n",
    "    # index=\"Club\",\n",
    "\n",
    "    fill_value=0,\n",
    "    margins=True,\n",
    ")[\"All\"].sort_values(ascending=False).index.to_list()\n",
    "#.loc[\"All\"].sort_values(ascending=False)\n",
    "#.sort_values(\"All\", ascending=False)\n",
    "#.loc[\"All\"]#.sort_values(ascending=False)\n",
    "\n",
    "# 12 RB (правый защитник)\n",
    "# 6 LM (левый полузащитник)\n",
    "# 4 RM (правый полузащитник)\n",
    "# 14 CF (центральный отянутый форвард)\n",
    "# RWM (правый атакующий полузащитник)\n",
    "# 11 RS (правый конечный форвард)"
   ]
  },
  {
   "source": [
    "# Задача 3\n",
    "Используя таблицу, созданную на предыдущем шаге, отметьте названия трёх клубов, в которых центральные форварды (ST) обладают наибольшей средней скоростью."
   ],
   "cell_type": "markdown",
   "metadata": {}
  },
  {
   "cell_type": "code",
   "execution_count": 57,
   "metadata": {},
   "outputs": [
    {
     "output_type": "execute_result",
     "data": {
      "text/plain": [
       "Club\n",
       "Vitória           91.000000\n",
       "Sydney FC         88.000000\n",
       "CD Lugo           87.000000\n",
       "Brøndby IF        84.666667\n",
       "Leicester City    84.500000\n",
       "                    ...    \n",
       "BK Häcken          0.000000\n",
       "Spartak Moscow     0.000000\n",
       "BSC Young Boys     0.000000\n",
       "Benevento          0.000000\n",
       "FC Barcelona       0.000000\n",
       "Name: ST, Length: 651, dtype: float64"
      ]
     },
     "metadata": {},
     "execution_count": 57
    }
   ],
   "source": [
    "df.pivot_table(\n",
    "    values=\"SprintSpeed\",\n",
    "    aggfunc=\"mean\",\n",
    "    columns=\"Club\",\n",
    "    index=\"Position\",\n",
    "    # columns=\"Position\",\n",
    "    # index=\"Club\",\n",
    "\n",
    "    fill_value=0,\n",
    "    margins=True,\n",
    ").loc[\"ST\"].sort_values(ascending=False)"
   ]
  },
  {
   "cell_type": "code",
   "execution_count": null,
   "metadata": {},
   "outputs": [],
   "source": []
  }
 ]
}