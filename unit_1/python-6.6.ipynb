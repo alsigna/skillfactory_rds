{
 "metadata": {
  "language_info": {
   "codemirror_mode": {
    "name": "ipython",
    "version": 3
   },
   "file_extension": ".py",
   "mimetype": "text/x-python",
   "name": "python",
   "nbconvert_exporter": "python",
   "pygments_lexer": "ipython3",
   "version": "3.8.2-final"
  },
  "orig_nbformat": 2,
  "kernelspec": {
   "name": "python382jvsc74a57bd0d46d14bfc67a8d69f82f77af2e60e5b02fcabf25a759a56cf61072a2d590541d",
   "display_name": "Python 3.8.2 64-bit ('venv': venv)"
  }
 },
 "nbformat": 4,
 "nbformat_minor": 2,
 "cells": [
  {
   "cell_type": "code",
   "execution_count": 1,
   "metadata": {},
   "outputs": [],
   "source": [
    "import pandas as pd\n",
    "df = pd.read_csv(\"/Users/alexigna/projects/skillfactory/unit1/data_sf.csv\")"
   ]
  },
  {
   "cell_type": "code",
   "execution_count": 2,
   "metadata": {},
   "outputs": [
    {
     "output_type": "display_data",
     "data": {
      "text/plain": "                 Name  Age Nationality                 Club      Value  \\\n0            L. Messi   31   Argentina         FC Barcelona  110500000   \n1   Cristiano Ronaldo   33    Portugal             Juventus   77000000   \n2           Neymar Jr   26      Brazil  Paris Saint-Germain  118500000   \n3              De Gea   27       Spain    Manchester United   72000000   \n4        K. De Bruyne   27     Belgium      Manchester City  102000000   \n5           E. Hazard   27     Belgium              Chelsea   93000000   \n6           L. Modrić   32     Croatia          Real Madrid   67000000   \n7           L. Suárez   31     Uruguay         FC Barcelona   80000000   \n8        Sergio Ramos   32       Spain          Real Madrid   51000000   \n9            J. Oblak   25    Slovenia      Atlético Madrid   68000000   \n10     R. Lewandowski   29      Poland    FC Bayern München   77000000   \n11           T. Kroos   28     Germany          Real Madrid   76500000   \n12           D. Godín   32     Uruguay      Atlético Madrid   44000000   \n13        David Silva   32       Spain      Manchester City   60000000   \n14           N. Kanté   27      France              Chelsea   63000000   \n15          P. Dybala   24   Argentina             Juventus   89000000   \n16            H. Kane   24     England    Tottenham Hotspur   83500000   \n17       A. Griezmann   27      France      Atlético Madrid   78000000   \n18      M. ter Stegen   26     Germany         FC Barcelona   58000000   \n19        T. Courtois   26     Belgium          Real Madrid   53500000   \n20    Sergio Busquets   29       Spain         FC Barcelona   51500000   \n21          E. Cavani   31     Uruguay  Paris Saint-Germain   60000000   \n22           M. Neuer   32     Germany    FC Bayern München   38000000   \n23          S. Agüero   30   Argentina      Manchester City   64500000   \n24       G. Chiellini   33       Italy             Juventus   27000000   \n\n      Wage Position  \n0   565000       RF  \n1   405000       ST  \n2   290000       LW  \n3   260000       GK  \n4   355000      RCM  \n5   340000       LF  \n6   420000      RCM  \n7   455000       RS  \n8   380000      RCB  \n9    94000       GK  \n10  205000       ST  \n11  355000      LCM  \n12  125000       CB  \n13  285000      LCM  \n14  225000      LDM  \n15  205000       LF  \n16  205000       ST  \n17  145000      CAM  \n18  240000       GK  \n19  240000       GK  \n20  315000      CDM  \n21  200000       LS  \n22  130000       GK  \n23  300000       ST  \n24  215000      LCB  ",
      "text/html": "<div>\n<style scoped>\n    .dataframe tbody tr th:only-of-type {\n        vertical-align: middle;\n    }\n\n    .dataframe tbody tr th {\n        vertical-align: top;\n    }\n\n    .dataframe thead th {\n        text-align: right;\n    }\n</style>\n<table border=\"1\" class=\"dataframe\">\n  <thead>\n    <tr style=\"text-align: right;\">\n      <th></th>\n      <th>Name</th>\n      <th>Age</th>\n      <th>Nationality</th>\n      <th>Club</th>\n      <th>Value</th>\n      <th>Wage</th>\n      <th>Position</th>\n    </tr>\n  </thead>\n  <tbody>\n    <tr>\n      <th>0</th>\n      <td>L. Messi</td>\n      <td>31</td>\n      <td>Argentina</td>\n      <td>FC Barcelona</td>\n      <td>110500000</td>\n      <td>565000</td>\n      <td>RF</td>\n    </tr>\n    <tr>\n      <th>1</th>\n      <td>Cristiano Ronaldo</td>\n      <td>33</td>\n      <td>Portugal</td>\n      <td>Juventus</td>\n      <td>77000000</td>\n      <td>405000</td>\n      <td>ST</td>\n    </tr>\n    <tr>\n      <th>2</th>\n      <td>Neymar Jr</td>\n      <td>26</td>\n      <td>Brazil</td>\n      <td>Paris Saint-Germain</td>\n      <td>118500000</td>\n      <td>290000</td>\n      <td>LW</td>\n    </tr>\n    <tr>\n      <th>3</th>\n      <td>De Gea</td>\n      <td>27</td>\n      <td>Spain</td>\n      <td>Manchester United</td>\n      <td>72000000</td>\n      <td>260000</td>\n      <td>GK</td>\n    </tr>\n    <tr>\n      <th>4</th>\n      <td>K. De Bruyne</td>\n      <td>27</td>\n      <td>Belgium</td>\n      <td>Manchester City</td>\n      <td>102000000</td>\n      <td>355000</td>\n      <td>RCM</td>\n    </tr>\n    <tr>\n      <th>5</th>\n      <td>E. Hazard</td>\n      <td>27</td>\n      <td>Belgium</td>\n      <td>Chelsea</td>\n      <td>93000000</td>\n      <td>340000</td>\n      <td>LF</td>\n    </tr>\n    <tr>\n      <th>6</th>\n      <td>L. Modrić</td>\n      <td>32</td>\n      <td>Croatia</td>\n      <td>Real Madrid</td>\n      <td>67000000</td>\n      <td>420000</td>\n      <td>RCM</td>\n    </tr>\n    <tr>\n      <th>7</th>\n      <td>L. Suárez</td>\n      <td>31</td>\n      <td>Uruguay</td>\n      <td>FC Barcelona</td>\n      <td>80000000</td>\n      <td>455000</td>\n      <td>RS</td>\n    </tr>\n    <tr>\n      <th>8</th>\n      <td>Sergio Ramos</td>\n      <td>32</td>\n      <td>Spain</td>\n      <td>Real Madrid</td>\n      <td>51000000</td>\n      <td>380000</td>\n      <td>RCB</td>\n    </tr>\n    <tr>\n      <th>9</th>\n      <td>J. Oblak</td>\n      <td>25</td>\n      <td>Slovenia</td>\n      <td>Atlético Madrid</td>\n      <td>68000000</td>\n      <td>94000</td>\n      <td>GK</td>\n    </tr>\n    <tr>\n      <th>10</th>\n      <td>R. Lewandowski</td>\n      <td>29</td>\n      <td>Poland</td>\n      <td>FC Bayern München</td>\n      <td>77000000</td>\n      <td>205000</td>\n      <td>ST</td>\n    </tr>\n    <tr>\n      <th>11</th>\n      <td>T. Kroos</td>\n      <td>28</td>\n      <td>Germany</td>\n      <td>Real Madrid</td>\n      <td>76500000</td>\n      <td>355000</td>\n      <td>LCM</td>\n    </tr>\n    <tr>\n      <th>12</th>\n      <td>D. Godín</td>\n      <td>32</td>\n      <td>Uruguay</td>\n      <td>Atlético Madrid</td>\n      <td>44000000</td>\n      <td>125000</td>\n      <td>CB</td>\n    </tr>\n    <tr>\n      <th>13</th>\n      <td>David Silva</td>\n      <td>32</td>\n      <td>Spain</td>\n      <td>Manchester City</td>\n      <td>60000000</td>\n      <td>285000</td>\n      <td>LCM</td>\n    </tr>\n    <tr>\n      <th>14</th>\n      <td>N. Kanté</td>\n      <td>27</td>\n      <td>France</td>\n      <td>Chelsea</td>\n      <td>63000000</td>\n      <td>225000</td>\n      <td>LDM</td>\n    </tr>\n    <tr>\n      <th>15</th>\n      <td>P. Dybala</td>\n      <td>24</td>\n      <td>Argentina</td>\n      <td>Juventus</td>\n      <td>89000000</td>\n      <td>205000</td>\n      <td>LF</td>\n    </tr>\n    <tr>\n      <th>16</th>\n      <td>H. Kane</td>\n      <td>24</td>\n      <td>England</td>\n      <td>Tottenham Hotspur</td>\n      <td>83500000</td>\n      <td>205000</td>\n      <td>ST</td>\n    </tr>\n    <tr>\n      <th>17</th>\n      <td>A. Griezmann</td>\n      <td>27</td>\n      <td>France</td>\n      <td>Atlético Madrid</td>\n      <td>78000000</td>\n      <td>145000</td>\n      <td>CAM</td>\n    </tr>\n    <tr>\n      <th>18</th>\n      <td>M. ter Stegen</td>\n      <td>26</td>\n      <td>Germany</td>\n      <td>FC Barcelona</td>\n      <td>58000000</td>\n      <td>240000</td>\n      <td>GK</td>\n    </tr>\n    <tr>\n      <th>19</th>\n      <td>T. Courtois</td>\n      <td>26</td>\n      <td>Belgium</td>\n      <td>Real Madrid</td>\n      <td>53500000</td>\n      <td>240000</td>\n      <td>GK</td>\n    </tr>\n    <tr>\n      <th>20</th>\n      <td>Sergio Busquets</td>\n      <td>29</td>\n      <td>Spain</td>\n      <td>FC Barcelona</td>\n      <td>51500000</td>\n      <td>315000</td>\n      <td>CDM</td>\n    </tr>\n    <tr>\n      <th>21</th>\n      <td>E. Cavani</td>\n      <td>31</td>\n      <td>Uruguay</td>\n      <td>Paris Saint-Germain</td>\n      <td>60000000</td>\n      <td>200000</td>\n      <td>LS</td>\n    </tr>\n    <tr>\n      <th>22</th>\n      <td>M. Neuer</td>\n      <td>32</td>\n      <td>Germany</td>\n      <td>FC Bayern München</td>\n      <td>38000000</td>\n      <td>130000</td>\n      <td>GK</td>\n    </tr>\n    <tr>\n      <th>23</th>\n      <td>S. Agüero</td>\n      <td>30</td>\n      <td>Argentina</td>\n      <td>Manchester City</td>\n      <td>64500000</td>\n      <td>300000</td>\n      <td>ST</td>\n    </tr>\n    <tr>\n      <th>24</th>\n      <td>G. Chiellini</td>\n      <td>33</td>\n      <td>Italy</td>\n      <td>Juventus</td>\n      <td>27000000</td>\n      <td>215000</td>\n      <td>LCB</td>\n    </tr>\n  </tbody>\n</table>\n</div>"
     },
     "metadata": {}
    }
   ],
   "source": [
    "small_df = df[df.columns[1:8]].head(25)\n",
    "display(small_df)"
   ]
  },
  {
   "cell_type": "code",
   "execution_count": 3,
   "metadata": {},
   "outputs": [
    {
     "output_type": "display_data",
     "data": {
      "text/plain": "Spain        4\nArgentina    3\nBelgium      3\nUruguay      3\nGermany      3\nFrance       2\nBrazil       1\nCroatia      1\nPortugal     1\nSlovenia     1\nItaly        1\nEngland      1\nPoland       1\nName: Nationality, dtype: int64"
     },
     "metadata": {}
    }
   ],
   "source": [
    "s = small_df['Nationality'].value_counts()\n",
    "display(s)"
   ]
  },
  {
   "cell_type": "code",
   "execution_count": 4,
   "metadata": {},
   "outputs": [
    {
     "output_type": "execute_result",
     "data": {
      "text/plain": [
       "Spain        4\n",
       "Argentina    3\n",
       "Belgium      3\n",
       "Uruguay      3\n",
       "Germany      3\n",
       "France       2\n",
       "Name: Nationality, dtype: int64"
      ]
     },
     "metadata": {},
     "execution_count": 4
    }
   ],
   "source": [
    "s.loc[s>1]"
   ]
  },
  {
   "source": [
    "Сколько футбольных клубов представлено в датасете?"
   ],
   "cell_type": "markdown",
   "metadata": {}
  },
  {
   "cell_type": "code",
   "execution_count": 5,
   "metadata": {},
   "outputs": [
    {
     "output_type": "execute_result",
     "data": {
      "text/plain": [
       "650"
      ]
     },
     "metadata": {},
     "execution_count": 5
    }
   ],
   "source": [
    "len(df['Club'].value_counts())"
   ]
  },
  {
   "source": [
    "Отметьте названия футбольных клубов, представленных в датасете наибольшим количеством игроков."
   ],
   "cell_type": "markdown",
   "metadata": {}
  },
  {
   "cell_type": "code",
   "execution_count": 6,
   "metadata": {},
   "outputs": [
    {
     "output_type": "execute_result",
     "data": {
      "text/plain": [
       "['Shonan Bellmare', 'V-Varen Nagasaki']"
      ]
     },
     "metadata": {},
     "execution_count": 6
    }
   ],
   "source": [
    "s = df['Club'].value_counts()\n",
    "s.loc[s==s.max()].index.to_list()"
   ]
  },
  {
   "source": [
    "Как называется футбольный клуб, представленный наименьшим количеством игроков в датасете (скопируйте ответ из Jupyter Notebook)?"
   ],
   "cell_type": "markdown",
   "metadata": {}
  },
  {
   "cell_type": "code",
   "execution_count": 7,
   "metadata": {},
   "outputs": [
    {
     "output_type": "stream",
     "name": "stdout",
     "text": [
      "['Atlético Mineiro']\n[6]\n"
     ]
    }
   ],
   "source": [
    "s = df['Club'].value_counts()\n",
    "print(s.loc[s==s.min()].index.to_list())\n",
    "print(s.loc[s==s.min()].to_list())"
   ]
  },
  {
   "cell_type": "code",
   "execution_count": 8,
   "metadata": {},
   "outputs": [
    {
     "output_type": "execute_result",
     "data": {
      "text/plain": [
       "Spain        0.16\n",
       "Argentina    0.12\n",
       "Belgium      0.12\n",
       "Uruguay      0.12\n",
       "Germany      0.12\n",
       "France       0.08\n",
       "Brazil       0.04\n",
       "Croatia      0.04\n",
       "Portugal     0.04\n",
       "Slovenia     0.04\n",
       "Italy        0.04\n",
       "England      0.04\n",
       "Poland       0.04\n",
       "Name: Nationality, dtype: float64"
      ]
     },
     "metadata": {},
     "execution_count": 8
    }
   ],
   "source": [
    "small_df['Nationality'].value_counts(normalize=True)"
   ]
  },
  {
   "source": [
    "Данные об игроках каких позиций (Position) занимают более 10% датасета?"
   ],
   "cell_type": "markdown",
   "metadata": {}
  },
  {
   "cell_type": "code",
   "execution_count": 9,
   "metadata": {},
   "outputs": [
    {
     "output_type": "execute_result",
     "data": {
      "text/plain": [
       "['GK', 'ST', 'CB']"
      ]
     },
     "metadata": {},
     "execution_count": 9
    }
   ],
   "source": [
    "s = df['Position'].value_counts(normalize=True)\n",
    "s.loc[s>0.1].index.to_list()"
   ]
  },
  {
   "source": [
    "Данные об игроках каких позиций (Position) занимают менее 1% датасета?\n"
   ],
   "cell_type": "markdown",
   "metadata": {}
  },
  {
   "cell_type": "code",
   "execution_count": 10,
   "metadata": {},
   "outputs": [
    {
     "output_type": "execute_result",
     "data": {
      "text/plain": [
       "['LS', 'RS', 'RWB', 'LWB', 'CF', 'LF', 'RF', 'LAM', 'RAM']"
      ]
     },
     "metadata": {},
     "execution_count": 10
    }
   ],
   "source": [
    "s = df['Position'].value_counts(normalize=True)\n",
    "s.loc[s<0.01].index.to_list()"
   ]
  },
  {
   "source": [
    "Сначала сгруппируем данные по численному признаку без параметра bins:"
   ],
   "cell_type": "markdown",
   "metadata": {}
  },
  {
   "cell_type": "code",
   "execution_count": 11,
   "metadata": {},
   "outputs": [
    {
     "output_type": "execute_result",
     "data": {
      "text/plain": [
       "32    5\n",
       "27    5\n",
       "26    3\n",
       "31    3\n",
       "33    2\n",
       "24    2\n",
       "29    2\n",
       "25    1\n",
       "28    1\n",
       "30    1\n",
       "Name: Age, dtype: int64"
      ]
     },
     "metadata": {},
     "execution_count": 11
    }
   ],
   "source": [
    "small_df['Age'].value_counts()"
   ]
  },
  {
   "cell_type": "code",
   "execution_count": 12,
   "metadata": {},
   "outputs": [
    {
     "output_type": "execute_result",
     "data": {
      "text/plain": [
       "205000    3\n",
       "240000    2\n",
       "355000    2\n",
       "290000    1\n",
       "200000    1\n",
       "380000    1\n",
       "420000    1\n",
       "455000    1\n",
       "225000    1\n",
       "405000    1\n",
       "260000    1\n",
       "215000    1\n",
       "125000    1\n",
       "145000    1\n",
       "94000     1\n",
       "565000    1\n",
       "340000    1\n",
       "285000    1\n",
       "300000    1\n",
       "130000    1\n",
       "315000    1\n",
       "Name: Wage, dtype: int64"
      ]
     },
     "metadata": {},
     "execution_count": 12
    }
   ],
   "source": [
    "small_df['Wage'].value_counts()"
   ]
  },
  {
   "source": [
    "разобьем весь возможный диапазон зарплат на 4 равных промежутка и подсчитаем количество футболистов, попадающих в каждый из промежутков. Именно для этого нужен параметр bins:"
   ],
   "cell_type": "markdown",
   "metadata": {}
  },
  {
   "cell_type": "code",
   "execution_count": 13,
   "metadata": {},
   "outputs": [
    {
     "output_type": "execute_result",
     "data": {
      "text/plain": [
       "(211750.0, 329500.0]     9\n",
       "(93528.999, 211750.0]    8\n",
       "(329500.0, 447250.0]     6\n",
       "(447250.0, 565000.0]     2\n",
       "Name: Wage, dtype: int64"
      ]
     },
     "metadata": {},
     "execution_count": 13
    }
   ],
   "source": [
    "small_df['Wage'].value_counts(bins=4)"
   ]
  },
  {
   "source": [
    "Теперь видно, что распределение неравномерное и только 2 футболиста из 25 получают сверхвысокую зарплату.\n",
    "Давайте посмотрим, что это за футболисты:"
   ],
   "cell_type": "markdown",
   "metadata": {}
  },
  {
   "cell_type": "code",
   "execution_count": 14,
   "metadata": {},
   "outputs": [
    {
     "output_type": "execute_result",
     "data": {
      "text/plain": [
       "        Name  Age Nationality          Club      Value    Wage Position\n",
       "0   L. Messi   31   Argentina  FC Barcelona  110500000  565000       RF\n",
       "7  L. Suárez   31     Uruguay  FC Barcelona   80000000  455000       RS"
      ],
      "text/html": "<div>\n<style scoped>\n    .dataframe tbody tr th:only-of-type {\n        vertical-align: middle;\n    }\n\n    .dataframe tbody tr th {\n        vertical-align: top;\n    }\n\n    .dataframe thead th {\n        text-align: right;\n    }\n</style>\n<table border=\"1\" class=\"dataframe\">\n  <thead>\n    <tr style=\"text-align: right;\">\n      <th></th>\n      <th>Name</th>\n      <th>Age</th>\n      <th>Nationality</th>\n      <th>Club</th>\n      <th>Value</th>\n      <th>Wage</th>\n      <th>Position</th>\n    </tr>\n  </thead>\n  <tbody>\n    <tr>\n      <th>0</th>\n      <td>L. Messi</td>\n      <td>31</td>\n      <td>Argentina</td>\n      <td>FC Barcelona</td>\n      <td>110500000</td>\n      <td>565000</td>\n      <td>RF</td>\n    </tr>\n    <tr>\n      <th>7</th>\n      <td>L. Suárez</td>\n      <td>31</td>\n      <td>Uruguay</td>\n      <td>FC Barcelona</td>\n      <td>80000000</td>\n      <td>455000</td>\n      <td>RS</td>\n    </tr>\n  </tbody>\n</table>\n</div>"
     },
     "metadata": {},
     "execution_count": 14
    }
   ],
   "source": [
    "s = small_df['Wage'].value_counts(bins=4)\n",
    "small_df.loc[(small_df['Wage'] > s.index[3].left) & (small_df['Wage'] <= s.index[3].right)]"
   ]
  },
  {
   "cell_type": "code",
   "execution_count": 15,
   "metadata": {},
   "outputs": [
    {
     "output_type": "execute_result",
     "data": {
      "text/plain": [
       "565000.0"
      ]
     },
     "metadata": {},
     "execution_count": 15
    }
   ],
   "source": [
    "s.index[3].right"
   ]
  },
  {
   "source": [
    "В каких пределах находятся худшие 20% показателей точности ударов ногой (FKAccuracy)?"
   ],
   "cell_type": "markdown",
   "metadata": {}
  },
  {
   "cell_type": "code",
   "execution_count": 16,
   "metadata": {},
   "outputs": [
    {
     "output_type": "execute_result",
     "data": {
      "text/plain": [
       "Interval(2.908, 21.2, closed='right')"
      ]
     },
     "metadata": {},
     "execution_count": 16
    }
   ],
   "source": [
    "df[\"FKAccuracy\"].value_counts(bins=5).index.sort_values().to_list()[0]"
   ]
  },
  {
   "source": [
    "Какие показатели точности ударов ногой демонстрирует большинство футболистов (FKAccuracy)?"
   ],
   "cell_type": "markdown",
   "metadata": {}
  },
  {
   "cell_type": "code",
   "execution_count": 17,
   "metadata": {},
   "outputs": [
    {
     "output_type": "execute_result",
     "data": {
      "text/plain": [
       "Interval(21.2, 39.4, closed='right')"
      ]
     },
     "metadata": {},
     "execution_count": 17
    }
   ],
   "source": [
    "df[\"FKAccuracy\"].value_counts(bins=5).sort_values(ascending=False).index.to_list()[0]"
   ]
  },
  {
   "cell_type": "code",
   "execution_count": 18,
   "metadata": {},
   "outputs": [
    {
     "output_type": "execute_result",
     "data": {
      "text/plain": [
       "array(['Argentina', 'Portugal', 'Brazil', 'Spain', 'Belgium', 'Croatia',\n",
       "       'Uruguay', 'Slovenia', 'Poland', 'Germany', 'France', 'England',\n",
       "       'Italy'], dtype=object)"
      ]
     },
     "metadata": {},
     "execution_count": 18
    }
   ],
   "source": [
    "small_df['Nationality'].unique()"
   ]
  },
  {
   "cell_type": "code",
   "execution_count": 19,
   "metadata": {},
   "outputs": [
    {
     "output_type": "execute_result",
     "data": {
      "text/plain": [
       "13"
      ]
     },
     "metadata": {},
     "execution_count": 19
    }
   ],
   "source": [
    "len(small_df['Nationality'].unique())"
   ]
  },
  {
   "cell_type": "code",
   "execution_count": 20,
   "metadata": {},
   "outputs": [
    {
     "output_type": "execute_result",
     "data": {
      "text/plain": [
       "13"
      ]
     },
     "metadata": {},
     "execution_count": 20
    }
   ],
   "source": [
    "small_df['Nationality'].nunique()"
   ]
  },
  {
   "source": [
    "Отметьте все варианты кода, после выполнения которого переменная result будет содержать количество видов позиций (Position), которые занимают игроки, представленные в датасете:"
   ],
   "cell_type": "markdown",
   "metadata": {}
  },
  {
   "cell_type": "code",
   "execution_count": 21,
   "metadata": {},
   "outputs": [
    {
     "output_type": "stream",
     "name": "stdout",
     "text": [
      "27\n27\n27\n"
     ]
    }
   ],
   "source": [
    "print(df['Position'].nunique())\n",
    "print(len(df['Position'].unique()))\n",
    "print(len(df['Position'].value_counts()))"
   ]
  },
  {
   "cell_type": "code",
   "execution_count": 22,
   "metadata": {},
   "outputs": [
    {
     "output_type": "stream",
     "name": "stdout",
     "text": [
      "<class 'pandas.core.series.Series'>\n<class 'pandas.core.frame.DataFrame'>\n"
     ]
    }
   ],
   "source": [
    "s = small_df['Nationality'].value_counts()\n",
    "s_df = s.reset_index()\n",
    "print(type(s))\n",
    "print(type(s_df))"
   ]
  },
  {
   "cell_type": "code",
   "execution_count": 23,
   "metadata": {},
   "outputs": [
    {
     "output_type": "display_data",
     "data": {
      "text/plain": "        index  Nationality\n0       Spain            4\n1   Argentina            3\n2     Belgium            3\n3     Uruguay            3\n4     Germany            3\n5      France            2\n6      Brazil            1\n7     Croatia            1\n8    Portugal            1\n9    Slovenia            1\n10      Italy            1\n11    England            1\n12     Poland            1",
      "text/html": "<div>\n<style scoped>\n    .dataframe tbody tr th:only-of-type {\n        vertical-align: middle;\n    }\n\n    .dataframe tbody tr th {\n        vertical-align: top;\n    }\n\n    .dataframe thead th {\n        text-align: right;\n    }\n</style>\n<table border=\"1\" class=\"dataframe\">\n  <thead>\n    <tr style=\"text-align: right;\">\n      <th></th>\n      <th>index</th>\n      <th>Nationality</th>\n    </tr>\n  </thead>\n  <tbody>\n    <tr>\n      <th>0</th>\n      <td>Spain</td>\n      <td>4</td>\n    </tr>\n    <tr>\n      <th>1</th>\n      <td>Argentina</td>\n      <td>3</td>\n    </tr>\n    <tr>\n      <th>2</th>\n      <td>Belgium</td>\n      <td>3</td>\n    </tr>\n    <tr>\n      <th>3</th>\n      <td>Uruguay</td>\n      <td>3</td>\n    </tr>\n    <tr>\n      <th>4</th>\n      <td>Germany</td>\n      <td>3</td>\n    </tr>\n    <tr>\n      <th>5</th>\n      <td>France</td>\n      <td>2</td>\n    </tr>\n    <tr>\n      <th>6</th>\n      <td>Brazil</td>\n      <td>1</td>\n    </tr>\n    <tr>\n      <th>7</th>\n      <td>Croatia</td>\n      <td>1</td>\n    </tr>\n    <tr>\n      <th>8</th>\n      <td>Portugal</td>\n      <td>1</td>\n    </tr>\n    <tr>\n      <th>9</th>\n      <td>Slovenia</td>\n      <td>1</td>\n    </tr>\n    <tr>\n      <th>10</th>\n      <td>Italy</td>\n      <td>1</td>\n    </tr>\n    <tr>\n      <th>11</th>\n      <td>England</td>\n      <td>1</td>\n    </tr>\n    <tr>\n      <th>12</th>\n      <td>Poland</td>\n      <td>1</td>\n    </tr>\n  </tbody>\n</table>\n</div>"
     },
     "metadata": {}
    }
   ],
   "source": [
    "display(s_df)\n",
    "# display(s)"
   ]
  },
  {
   "cell_type": "code",
   "execution_count": 24,
   "metadata": {},
   "outputs": [
    {
     "output_type": "display_data",
     "data": {
      "text/plain": "   Nationality  Players Count\n0        Spain              4\n1    Argentina              3\n2      Belgium              3\n3      Uruguay              3\n4      Germany              3\n5       France              2\n6       Brazil              1\n7      Croatia              1\n8     Portugal              1\n9     Slovenia              1\n10       Italy              1\n11     England              1\n12      Poland              1",
      "text/html": "<div>\n<style scoped>\n    .dataframe tbody tr th:only-of-type {\n        vertical-align: middle;\n    }\n\n    .dataframe tbody tr th {\n        vertical-align: top;\n    }\n\n    .dataframe thead th {\n        text-align: right;\n    }\n</style>\n<table border=\"1\" class=\"dataframe\">\n  <thead>\n    <tr style=\"text-align: right;\">\n      <th></th>\n      <th>Nationality</th>\n      <th>Players Count</th>\n    </tr>\n  </thead>\n  <tbody>\n    <tr>\n      <th>0</th>\n      <td>Spain</td>\n      <td>4</td>\n    </tr>\n    <tr>\n      <th>1</th>\n      <td>Argentina</td>\n      <td>3</td>\n    </tr>\n    <tr>\n      <th>2</th>\n      <td>Belgium</td>\n      <td>3</td>\n    </tr>\n    <tr>\n      <th>3</th>\n      <td>Uruguay</td>\n      <td>3</td>\n    </tr>\n    <tr>\n      <th>4</th>\n      <td>Germany</td>\n      <td>3</td>\n    </tr>\n    <tr>\n      <th>5</th>\n      <td>France</td>\n      <td>2</td>\n    </tr>\n    <tr>\n      <th>6</th>\n      <td>Brazil</td>\n      <td>1</td>\n    </tr>\n    <tr>\n      <th>7</th>\n      <td>Croatia</td>\n      <td>1</td>\n    </tr>\n    <tr>\n      <th>8</th>\n      <td>Portugal</td>\n      <td>1</td>\n    </tr>\n    <tr>\n      <th>9</th>\n      <td>Slovenia</td>\n      <td>1</td>\n    </tr>\n    <tr>\n      <th>10</th>\n      <td>Italy</td>\n      <td>1</td>\n    </tr>\n    <tr>\n      <th>11</th>\n      <td>England</td>\n      <td>1</td>\n    </tr>\n    <tr>\n      <th>12</th>\n      <td>Poland</td>\n      <td>1</td>\n    </tr>\n  </tbody>\n</table>\n</div>"
     },
     "metadata": {}
    }
   ],
   "source": [
    "s_df.columns = ['Nationality','Players Count']\n",
    "display(s_df)"
   ]
  },
  {
   "source": [
    "# Задача 6.1\n",
    "У какого процента испанских футболистов (Nationality = 'Spain') зарплата (Wage) находится в пределах 25% минимума от наблюдаемого уровня зарплат среди испанских игроков? Ответ дайте в виде целого числа (округлите полученный результат) без знака %."
   ],
   "cell_type": "markdown",
   "metadata": {}
  },
  {
   "source": [
    " все испанские футболисты"
   ],
   "cell_type": "markdown",
   "metadata": {}
  },
  {
   "cell_type": "code",
   "execution_count": 25,
   "metadata": {},
   "outputs": [],
   "source": [
    "df_spain = df.loc[df.Nationality==\"Spain\"]"
   ]
  },
  {
   "source": [
    "распределение зарплат (нормализованное) в 4ех группах"
   ],
   "cell_type": "markdown",
   "metadata": {}
  },
  {
   "cell_type": "code",
   "execution_count": 26,
   "metadata": {},
   "outputs": [],
   "source": [
    "df_spain_sorted = df_spain[\"Wage\"].value_counts(bins=4, normalize=True)"
   ]
  },
  {
   "source": [
    "сортируем (хотя и не обязательно, так как 0-25% находится и так на первом месте)  "
   ],
   "cell_type": "markdown",
   "metadata": {}
  },
  {
   "cell_type": "code",
   "execution_count": 27,
   "metadata": {},
   "outputs": [
    {
     "output_type": "display_data",
     "data": {
      "text/plain": "(620.999, 95750.0]      0.970194\n(95750.0, 190500.0]     0.016393\n(190500.0, 285250.0]    0.008942\n(285250.0, 380000.0]    0.004471\nName: Wage, dtype: float64"
     },
     "metadata": {}
    }
   ],
   "source": [
    "s = df_spain_sorted.sort_values(ascending=False)\n",
    "display(s)"
   ]
  },
  {
   "source": [
    "переводим ответ в %"
   ],
   "cell_type": "markdown",
   "metadata": {}
  },
  {
   "cell_type": "code",
   "execution_count": 28,
   "metadata": {},
   "outputs": [
    {
     "output_type": "execute_result",
     "data": {
      "text/plain": [
       "97"
      ]
     },
     "metadata": {},
     "execution_count": 28
    }
   ],
   "source": [
    "round(s.iloc[0]/s.sum()*100)"
   ]
  },
  {
   "source": [
    "# Задача 6.2\n",
    "Укажите количество национальностей (Nationality), к которым относятся футболисты, выступающие за клуб (Club) \"Manchester United\"."
   ],
   "cell_type": "markdown",
   "metadata": {}
  },
  {
   "source": [
    "только нужный клуб"
   ],
   "cell_type": "markdown",
   "metadata": {}
  },
  {
   "cell_type": "code",
   "execution_count": 29,
   "metadata": {},
   "outputs": [],
   "source": [
    "s = df.loc[df.Club==\"Manchester United\"]"
   ]
  },
  {
   "source": [
    "s.Nationality.nunique()"
   ],
   "cell_type": "code",
   "metadata": {},
   "execution_count": 30,
   "outputs": [
    {
     "output_type": "execute_result",
     "data": {
      "text/plain": [
       "13"
      ]
     },
     "metadata": {},
     "execution_count": 30
    }
   ]
  },
  {
   "source": [
    "# Задача 6.3\n",
    "С помощью функции unique определите двух футболистов из Бразилии (Nationality = 'Brazil'), выступающих за клуб (Club) 'Juventus'. Перечислите их имена (Name, как в датафрейме) через запятую в алфавитном порядке."
   ],
   "cell_type": "markdown",
   "metadata": {}
  },
  {
   "cell_type": "code",
   "execution_count": 31,
   "metadata": {},
   "outputs": [
    {
     "output_type": "execute_result",
     "data": {
      "text/plain": [
       "['Alex Sandro', 'Douglas Costa']"
      ]
     },
     "metadata": {},
     "execution_count": 31
    }
   ],
   "source": [
    "df.loc[(df.Nationality==\"Brazil\") & (df.Club==\"Juventus\")][\"Name\"].unique().tolist()"
   ]
  },
  {
   "source": [
    "# Задача 6.4\n",
    "Укажите, какой из клубов (Club) насчитывает большее количество футболистов возрастом (Age) старше 35 лет."
   ],
   "cell_type": "markdown",
   "metadata": {}
  },
  {
   "cell_type": "code",
   "execution_count": 33,
   "metadata": {},
   "outputs": [
    {
     "output_type": "execute_result",
     "data": {
      "text/plain": [
       "Hokkaido Consadole Sapporo       4\n",
       "Club Atlético Huracán            4\n",
       "San Martín de San Juan           3\n",
       "Nagoya Grampus                   3\n",
       "Club Atlético Colón              3\n",
       "                                ..\n",
       "Crawley Town                     1\n",
       "IFK Norrköping                   1\n",
       "La Berrichonne de Châteauroux    1\n",
       "Celtic                           1\n",
       "Deportivo Cali                   1\n",
       "Name: Club, Length: 212, dtype: int64"
      ]
     },
     "metadata": {},
     "execution_count": 33
    }
   ],
   "source": [
    "df.loc[df.Age>35][\"Club\"].value_counts()"
   ]
  },
  {
   "source": [
    "# Задача 6.5\n",
    "С помощью функции value_counts с параметром bins разбейте всех футболистов родом из Аргентины (Nationality = 'Argentina') на 4 равные группы по возрасту. Сколько футболистов из Аргентины в возрасте от 34,75 до 41 года?"
   ],
   "cell_type": "markdown",
   "metadata": {}
  },
  {
   "cell_type": "code",
   "execution_count": 34,
   "metadata": {},
   "outputs": [
    {
     "output_type": "execute_result",
     "data": {
      "text/plain": [
       "(22.25, 28.5]      200\n",
       "(15.974, 22.25]    197\n",
       "(28.5, 34.75]      128\n",
       "(34.75, 41.0]       49\n",
       "Name: Age, dtype: int64"
      ]
     },
     "metadata": {},
     "execution_count": 34
    }
   ],
   "source": [
    "df.loc[df.Nationality==\"Argentina\"][\"Age\"].value_counts(bins=4)"
   ]
  },
  {
   "source": [
    "# Задача 6.6\n",
    "Сколько процентов футболистов из Испании (Nationality = 'Spain') имеют возраст (Age) 21 год? Введите с точностью до 2 знаков после запятой без указания знака % (например, 12.35)."
   ],
   "cell_type": "markdown",
   "metadata": {}
  },
  {
   "cell_type": "code",
   "execution_count": 69,
   "metadata": {},
   "outputs": [
    {
     "output_type": "execute_result",
     "data": {
      "text/plain": [
       "11.77"
      ]
     },
     "metadata": {},
     "execution_count": 69
    }
   ],
   "source": [
    "df_sp_21 = df.loc[df.Nationality==\"Spain\"][\"Age\"].value_counts(normalize=True).loc[21]\n",
    "round(df_sp_21*100, 2)"
   ]
  },
  {
   "cell_type": "code",
   "execution_count": 67,
   "metadata": {},
   "outputs": [
    {
     "output_type": "execute_result",
     "data": {
      "text/plain": [
       "11.77"
      ]
     },
     "metadata": {},
     "execution_count": 67
    }
   ],
   "source": [
    "sp_all = df[df.Nationality == 'Spain']\n",
    "sp_21 = df[(df.Nationality == 'Spain') & (df.Age == 21)]\n",
    "round(len(sp_21)/len(sp_all)*100, 2)"
   ]
  },
  {
   "cell_type": "code",
   "execution_count": null,
   "metadata": {},
   "outputs": [],
   "source": []
  }
 ]
}