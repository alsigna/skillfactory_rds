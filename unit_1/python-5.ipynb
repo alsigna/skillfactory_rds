{
 "metadata": {
  "language_info": {
   "codemirror_mode": {
    "name": "ipython",
    "version": 3
   },
   "file_extension": ".py",
   "mimetype": "text/x-python",
   "name": "python",
   "nbconvert_exporter": "python",
   "pygments_lexer": "ipython3",
   "version": "3.8.2-final"
  },
  "orig_nbformat": 2,
  "kernelspec": {
   "name": "python382jvsc74a57bd0d46d14bfc67a8d69f82f77af2e60e5b02fcabf25a759a56cf61072a2d590541d",
   "display_name": "Python 3.8.2 64-bit ('venv')"
  }
 },
 "nbformat": 4,
 "nbformat_minor": 2,
 "cells": [
  {
   "cell_type": "code",
   "execution_count": 1,
   "metadata": {},
   "outputs": [
    {
     "output_type": "display_data",
     "data": {
      "text/plain": "Первый        Январь\nВторой       Февраль\nТретий          Март\nЧетвёртый     Апрель\ndtype: object"
     },
     "metadata": {}
    },
    {
     "output_type": "display_data",
     "data": {
      "text/plain": "0     Январь\n1    Февраль\n2       Март\n3     Апрель\ndtype: object"
     },
     "metadata": {}
    },
    {
     "output_type": "execute_result",
     "data": {
      "text/plain": [
       "Первый     Январь\n",
       "Второй    Февраль\n",
       "dtype: object"
      ]
     },
     "metadata": {},
     "execution_count": 1
    }
   ],
   "source": [
    "import pandas as pd\n",
    "\n",
    "data_indx = pd.Series(\n",
    "    data = [\"Январь\", \"Февраль\", \"Март\", \"Апрель\"],\n",
    "    index = ['Первый', \"Второй\", \"Третий\", \"Четвёртый\"]\n",
    ")\n",
    "data=pd.Series(\n",
    "    data = [\"Январь\", \"Февраль\", \"Март\", \"Апрель\"],\n",
    ")\n",
    "display(data_indx)\n",
    "display(data)\n",
    "data_indx.loc[[\"Первый\", \"Третий\"]]\n",
    "data_indx.iloc[[0, 1]]\n",
    "\n"
   ]
  },
  {
   "cell_type": "code",
   "execution_count": 27,
   "metadata": {},
   "outputs": [
    {
     "output_type": "stream",
     "name": "stdout",
     "text": [
      "-70\n"
     ]
    }
   ],
   "source": [
    "data = pd.Series(list(range(10, 1001)))\n",
    "print(data.loc[10] + data.loc[23] - data.loc[245] + data.iloc[122])"
   ]
  },
  {
   "cell_type": "code",
   "execution_count": 28,
   "metadata": {},
   "outputs": [
    {
     "output_type": "execute_result",
     "data": {
      "text/plain": [
       "0        10\n",
       "1        11\n",
       "2        12\n",
       "3        13\n",
       "4        14\n",
       "       ... \n",
       "986     996\n",
       "987     997\n",
       "988     998\n",
       "989     999\n",
       "990    1000\n",
       "Length: 991, dtype: int64"
      ]
     },
     "metadata": {},
     "execution_count": 28
    }
   ],
   "source": [
    "data"
   ]
  },
  {
   "cell_type": "code",
   "execution_count": 33,
   "metadata": {},
   "outputs": [
    {
     "output_type": "display_data",
     "data": {
      "text/plain": "   col1  col2  col3\n0     1     3     5\n1     2     4     6",
      "text/html": "<div>\n<style scoped>\n    .dataframe tbody tr th:only-of-type {\n        vertical-align: middle;\n    }\n\n    .dataframe tbody tr th {\n        vertical-align: top;\n    }\n\n    .dataframe thead th {\n        text-align: right;\n    }\n</style>\n<table border=\"1\" class=\"dataframe\">\n  <thead>\n    <tr style=\"text-align: right;\">\n      <th></th>\n      <th>col1</th>\n      <th>col2</th>\n      <th>col3</th>\n    </tr>\n  </thead>\n  <tbody>\n    <tr>\n      <th>0</th>\n      <td>1</td>\n      <td>3</td>\n      <td>5</td>\n    </tr>\n    <tr>\n      <th>1</th>\n      <td>2</td>\n      <td>4</td>\n      <td>6</td>\n    </tr>\n  </tbody>\n</table>\n</div>"
     },
     "metadata": {}
    }
   ],
   "source": [
    "df = pd.DataFrame({\n",
    "    'col1': [1, 2],\n",
    "    'col2': [3, 4],\n",
    "    'col3': [5, 6],\n",
    "})\n",
    "display(df)"
   ]
  },
  {
   "cell_type": "code",
   "execution_count": 36,
   "metadata": {},
   "outputs": [
    {
     "output_type": "display_data",
     "data": {
      "text/plain": "        foo  bar  baz\nfoobar    1    2    3\nfoobaz    2    3    4",
      "text/html": "<div>\n<style scoped>\n    .dataframe tbody tr th:only-of-type {\n        vertical-align: middle;\n    }\n\n    .dataframe tbody tr th {\n        vertical-align: top;\n    }\n\n    .dataframe thead th {\n        text-align: right;\n    }\n</style>\n<table border=\"1\" class=\"dataframe\">\n  <thead>\n    <tr style=\"text-align: right;\">\n      <th></th>\n      <th>foo</th>\n      <th>bar</th>\n      <th>baz</th>\n    </tr>\n  </thead>\n  <tbody>\n    <tr>\n      <th>foobar</th>\n      <td>1</td>\n      <td>2</td>\n      <td>3</td>\n    </tr>\n    <tr>\n      <th>foobaz</th>\n      <td>2</td>\n      <td>3</td>\n      <td>4</td>\n    </tr>\n  </tbody>\n</table>\n</div>"
     },
     "metadata": {}
    }
   ],
   "source": [
    "df = pd.DataFrame([ [1,2,3], [2,3,4] ],\n",
    "                  columns = ['foo', 'bar', 'baz'], \n",
    "                  index = ['foobar', 'foobaz'])\n",
    "display(df)"
   ]
  },
  {
   "cell_type": "code",
   "execution_count": 37,
   "metadata": {},
   "outputs": [
    {
     "output_type": "execute_result",
     "data": {
      "text/plain": [
       "   Тестовая колонка\n",
       "0                 1\n",
       "1                 5"
      ],
      "text/html": "<div>\n<style scoped>\n    .dataframe tbody tr th:only-of-type {\n        vertical-align: middle;\n    }\n\n    .dataframe tbody tr th {\n        vertical-align: top;\n    }\n\n    .dataframe thead th {\n        text-align: right;\n    }\n</style>\n<table border=\"1\" class=\"dataframe\">\n  <thead>\n    <tr style=\"text-align: right;\">\n      <th></th>\n      <th>Тестовая колонка</th>\n    </tr>\n  </thead>\n  <tbody>\n    <tr>\n      <th>0</th>\n      <td>1</td>\n    </tr>\n    <tr>\n      <th>1</th>\n      <td>5</td>\n    </tr>\n  </tbody>\n</table>\n</div>"
     },
     "metadata": {},
     "execution_count": 37
    }
   ],
   "source": [
    "pd.DataFrame({'Тестовая колонка':[1,5]})"
   ]
  },
  {
   "cell_type": "code",
   "execution_count": 39,
   "metadata": {},
   "outputs": [],
   "source": [
    "football = pd.read_csv(\"/Users/alexigna/projects/skillfactory/unit1/data_sf.csv\")"
   ]
  },
  {
   "cell_type": "code",
   "execution_count": 45,
   "metadata": {},
   "outputs": [
    {
     "output_type": "display_data",
     "data": {
      "text/plain": "   Unnamed: 0               Name  Age Nationality                 Club  \\\n0           0           L. Messi   31   Argentina         FC Barcelona   \n1           1  Cristiano Ronaldo   33    Portugal             Juventus   \n2           2          Neymar Jr   26      Brazil  Paris Saint-Germain   \n\n       Value    Wage Position  Crossing  Finishing  ...  Penalties  Composure  \\\n0  110500000  565000       RF        84         95  ...         75         96   \n1   77000000  405000       ST        84         94  ...         85         95   \n2  118500000  290000       LW        79         87  ...         81         94   \n\n   Marking  StandingTackle  SlidingTackle  GKDiving  GKHandling  GKKicking  \\\n0       33              28             26         6          11         15   \n1       28              31             23         7          11         15   \n2       27              24             33         9           9         15   \n\n   GKPositioning  GKReflexes  \n0             14           8  \n1             14          11  \n2             15          11  \n\n[3 rows x 42 columns]",
      "text/html": "<div>\n<style scoped>\n    .dataframe tbody tr th:only-of-type {\n        vertical-align: middle;\n    }\n\n    .dataframe tbody tr th {\n        vertical-align: top;\n    }\n\n    .dataframe thead th {\n        text-align: right;\n    }\n</style>\n<table border=\"1\" class=\"dataframe\">\n  <thead>\n    <tr style=\"text-align: right;\">\n      <th></th>\n      <th>Unnamed: 0</th>\n      <th>Name</th>\n      <th>Age</th>\n      <th>Nationality</th>\n      <th>Club</th>\n      <th>Value</th>\n      <th>Wage</th>\n      <th>Position</th>\n      <th>Crossing</th>\n      <th>Finishing</th>\n      <th>...</th>\n      <th>Penalties</th>\n      <th>Composure</th>\n      <th>Marking</th>\n      <th>StandingTackle</th>\n      <th>SlidingTackle</th>\n      <th>GKDiving</th>\n      <th>GKHandling</th>\n      <th>GKKicking</th>\n      <th>GKPositioning</th>\n      <th>GKReflexes</th>\n    </tr>\n  </thead>\n  <tbody>\n    <tr>\n      <th>0</th>\n      <td>0</td>\n      <td>L. Messi</td>\n      <td>31</td>\n      <td>Argentina</td>\n      <td>FC Barcelona</td>\n      <td>110500000</td>\n      <td>565000</td>\n      <td>RF</td>\n      <td>84</td>\n      <td>95</td>\n      <td>...</td>\n      <td>75</td>\n      <td>96</td>\n      <td>33</td>\n      <td>28</td>\n      <td>26</td>\n      <td>6</td>\n      <td>11</td>\n      <td>15</td>\n      <td>14</td>\n      <td>8</td>\n    </tr>\n    <tr>\n      <th>1</th>\n      <td>1</td>\n      <td>Cristiano Ronaldo</td>\n      <td>33</td>\n      <td>Portugal</td>\n      <td>Juventus</td>\n      <td>77000000</td>\n      <td>405000</td>\n      <td>ST</td>\n      <td>84</td>\n      <td>94</td>\n      <td>...</td>\n      <td>85</td>\n      <td>95</td>\n      <td>28</td>\n      <td>31</td>\n      <td>23</td>\n      <td>7</td>\n      <td>11</td>\n      <td>15</td>\n      <td>14</td>\n      <td>11</td>\n    </tr>\n    <tr>\n      <th>2</th>\n      <td>2</td>\n      <td>Neymar Jr</td>\n      <td>26</td>\n      <td>Brazil</td>\n      <td>Paris Saint-Germain</td>\n      <td>118500000</td>\n      <td>290000</td>\n      <td>LW</td>\n      <td>79</td>\n      <td>87</td>\n      <td>...</td>\n      <td>81</td>\n      <td>94</td>\n      <td>27</td>\n      <td>24</td>\n      <td>33</td>\n      <td>9</td>\n      <td>9</td>\n      <td>15</td>\n      <td>15</td>\n      <td>11</td>\n    </tr>\n  </tbody>\n</table>\n<p>3 rows × 42 columns</p>\n</div>"
     },
     "metadata": {}
    }
   ],
   "source": [
    "display(football.head(3))"
   ]
  },
  {
   "cell_type": "code",
   "execution_count": 46,
   "metadata": {},
   "outputs": [
    {
     "output_type": "display_data",
     "data": {
      "text/plain": "       Unnamed: 0            Name  Age Nationality             Club  Value  \\\n12895       13124  D. Walker-Rice   17     England  Tranmere Rovers  60000   \n12896       13125       G. Nugent   16     England  Tranmere Rovers  60000   \n\n       Wage Position  Crossing  Finishing  ...  Penalties  Composure  Marking  \\\n12895  1000       RW        44         50  ...         50         46       20   \n12896  1000       CM        41         34  ...         33         43       40   \n\n       StandingTackle  SlidingTackle  GKDiving  GKHandling  GKKicking  \\\n12895              25             27        14           6         14   \n12896              43             50        10          15          9   \n\n       GKPositioning  GKReflexes  \n12895              8           9  \n12896             12           9  \n\n[2 rows x 42 columns]",
      "text/html": "<div>\n<style scoped>\n    .dataframe tbody tr th:only-of-type {\n        vertical-align: middle;\n    }\n\n    .dataframe tbody tr th {\n        vertical-align: top;\n    }\n\n    .dataframe thead th {\n        text-align: right;\n    }\n</style>\n<table border=\"1\" class=\"dataframe\">\n  <thead>\n    <tr style=\"text-align: right;\">\n      <th></th>\n      <th>Unnamed: 0</th>\n      <th>Name</th>\n      <th>Age</th>\n      <th>Nationality</th>\n      <th>Club</th>\n      <th>Value</th>\n      <th>Wage</th>\n      <th>Position</th>\n      <th>Crossing</th>\n      <th>Finishing</th>\n      <th>...</th>\n      <th>Penalties</th>\n      <th>Composure</th>\n      <th>Marking</th>\n      <th>StandingTackle</th>\n      <th>SlidingTackle</th>\n      <th>GKDiving</th>\n      <th>GKHandling</th>\n      <th>GKKicking</th>\n      <th>GKPositioning</th>\n      <th>GKReflexes</th>\n    </tr>\n  </thead>\n  <tbody>\n    <tr>\n      <th>12895</th>\n      <td>13124</td>\n      <td>D. Walker-Rice</td>\n      <td>17</td>\n      <td>England</td>\n      <td>Tranmere Rovers</td>\n      <td>60000</td>\n      <td>1000</td>\n      <td>RW</td>\n      <td>44</td>\n      <td>50</td>\n      <td>...</td>\n      <td>50</td>\n      <td>46</td>\n      <td>20</td>\n      <td>25</td>\n      <td>27</td>\n      <td>14</td>\n      <td>6</td>\n      <td>14</td>\n      <td>8</td>\n      <td>9</td>\n    </tr>\n    <tr>\n      <th>12896</th>\n      <td>13125</td>\n      <td>G. Nugent</td>\n      <td>16</td>\n      <td>England</td>\n      <td>Tranmere Rovers</td>\n      <td>60000</td>\n      <td>1000</td>\n      <td>CM</td>\n      <td>41</td>\n      <td>34</td>\n      <td>...</td>\n      <td>33</td>\n      <td>43</td>\n      <td>40</td>\n      <td>43</td>\n      <td>50</td>\n      <td>10</td>\n      <td>15</td>\n      <td>9</td>\n      <td>12</td>\n      <td>9</td>\n    </tr>\n  </tbody>\n</table>\n<p>2 rows × 42 columns</p>\n</div>"
     },
     "metadata": {}
    }
   ],
   "source": [
    "display(football.tail(2))"
   ]
  },
  {
   "cell_type": "code",
   "execution_count": 47,
   "metadata": {},
   "outputs": [
    {
     "output_type": "stream",
     "name": "stdout",
     "text": [
      "<class 'pandas.core.frame.DataFrame'>\nRangeIndex: 12897 entries, 0 to 12896\nData columns (total 42 columns):\n #   Column           Non-Null Count  Dtype \n---  ------           --------------  ----- \n 0   Unnamed: 0       12897 non-null  int64 \n 1   Name             12897 non-null  object\n 2   Age              12897 non-null  int64 \n 3   Nationality      12897 non-null  object\n 4   Club             12897 non-null  object\n 5   Value            12897 non-null  int64 \n 6   Wage             12897 non-null  int64 \n 7   Position         12897 non-null  object\n 8   Crossing         12897 non-null  int64 \n 9   Finishing        12897 non-null  int64 \n 10  HeadingAccuracy  12897 non-null  int64 \n 11  ShortPassing     12897 non-null  int64 \n 12  Volleys          12897 non-null  int64 \n 13  Dribbling        12897 non-null  int64 \n 14  Curve            12897 non-null  int64 \n 15  FKAccuracy       12897 non-null  int64 \n 16  LongPassing      12897 non-null  int64 \n 17  BallControl      12897 non-null  int64 \n 18  Acceleration     12897 non-null  int64 \n 19  SprintSpeed      12897 non-null  int64 \n 20  Agility          12897 non-null  int64 \n 21  Reactions        12897 non-null  int64 \n 22  Balance          12897 non-null  int64 \n 23  ShotPower        12897 non-null  int64 \n 24  Jumping          12897 non-null  int64 \n 25  Stamina          12897 non-null  int64 \n 26  Strength         12897 non-null  int64 \n 27  LongShots        12897 non-null  int64 \n 28  Aggression       12897 non-null  int64 \n 29  Interceptions    12897 non-null  int64 \n 30  Positioning      12897 non-null  int64 \n 31  Vision           12897 non-null  int64 \n 32  Penalties        12897 non-null  int64 \n 33  Composure        12897 non-null  int64 \n 34  Marking          12897 non-null  int64 \n 35  StandingTackle   12897 non-null  int64 \n 36  SlidingTackle    12897 non-null  int64 \n 37  GKDiving         12897 non-null  int64 \n 38  GKHandling       12897 non-null  int64 \n 39  GKKicking        12897 non-null  int64 \n 40  GKPositioning    12897 non-null  int64 \n 41  GKReflexes       12897 non-null  int64 \ndtypes: int64(38), object(4)\nmemory usage: 4.1+ MB\n"
     ]
    },
    {
     "output_type": "display_data",
     "data": {
      "text/plain": "None"
     },
     "metadata": {}
    }
   ],
   "source": [
    "display(football.info())"
   ]
  },
  {
   "cell_type": "code",
   "execution_count": 48,
   "metadata": {},
   "outputs": [
    {
     "output_type": "execute_result",
     "data": {
      "text/plain": [
       "         Unnamed: 0           Age         Value           Wage      Crossing  \\\n",
       "count  12897.000000  12897.000000  1.289700e+04   12897.000000  12897.000000   \n",
       "mean    6605.040862     24.795379  2.112449e+06    7517.562224     47.076374   \n",
       "std     3782.545526      4.872212  6.498424e+06   23061.985387     18.043470   \n",
       "min        0.000000     16.000000  0.000000e+00    1000.000000      5.000000   \n",
       "25%     3357.000000     21.000000  2.500000e+05    1000.000000     35.000000   \n",
       "50%     6622.000000     24.000000  5.000000e+05    2000.000000     51.000000   \n",
       "75%     9876.000000     28.000000  8.500000e+05    4000.000000     61.000000   \n",
       "max    13125.000000     45.000000  1.185000e+08  565000.000000     93.000000   \n",
       "\n",
       "          Finishing  HeadingAccuracy  ShortPassing       Volleys  \\\n",
       "count  12897.000000     12897.000000  12897.000000  12897.000000   \n",
       "mean      42.876328        50.202528     56.026983     40.295030   \n",
       "std       19.096935        17.281593     14.740436     17.080687   \n",
       "min        2.000000         4.000000      7.000000      4.000000   \n",
       "25%       28.000000        43.000000     50.000000     28.000000   \n",
       "50%       45.000000        54.000000     60.000000     41.000000   \n",
       "75%       59.000000        62.000000     65.000000     53.000000   \n",
       "max       95.000000        94.000000     93.000000     90.000000   \n",
       "\n",
       "          Dribbling  ...     Penalties     Composure       Marking  \\\n",
       "count  12897.000000  ...  12897.000000  12897.000000  12897.000000   \n",
       "mean      52.461735  ...     46.459874     55.942932     45.655811   \n",
       "std       18.871643  ...     15.479313     11.280631     19.456346   \n",
       "min        4.000000  ...      5.000000     12.000000      3.000000   \n",
       "25%       45.000000  ...     37.000000     49.000000     29.000000   \n",
       "50%       58.000000  ...     47.000000     56.000000     51.000000   \n",
       "75%       65.000000  ...     58.000000     63.000000     62.000000   \n",
       "max       97.000000  ...     91.000000     96.000000     93.000000   \n",
       "\n",
       "       StandingTackle  SlidingTackle      GKDiving    GKHandling  \\\n",
       "count    12897.000000   12897.000000  12897.000000  12897.000000   \n",
       "mean        46.186710      44.386679     17.218345     16.962317   \n",
       "std         21.172586      20.726546     18.085618     17.349624   \n",
       "min          2.000000       3.000000      1.000000      1.000000   \n",
       "25%         25.000000      23.000000      8.000000      8.000000   \n",
       "50%         54.000000      51.000000     11.000000     11.000000   \n",
       "75%         64.000000      62.000000     14.000000     14.000000   \n",
       "max         93.000000      91.000000     90.000000     92.000000   \n",
       "\n",
       "          GKKicking  GKPositioning    GKReflexes  \n",
       "count  12897.000000   12897.000000  12897.000000  \n",
       "mean      16.797938      16.950221     17.315965  \n",
       "std       16.971411      17.369297     18.335817  \n",
       "min        1.000000       1.000000      1.000000  \n",
       "25%        8.000000       8.000000      8.000000  \n",
       "50%       11.000000      11.000000     11.000000  \n",
       "75%       14.000000      14.000000     14.000000  \n",
       "max       91.000000      90.000000     94.000000  \n",
       "\n",
       "[8 rows x 38 columns]"
      ],
      "text/html": "<div>\n<style scoped>\n    .dataframe tbody tr th:only-of-type {\n        vertical-align: middle;\n    }\n\n    .dataframe tbody tr th {\n        vertical-align: top;\n    }\n\n    .dataframe thead th {\n        text-align: right;\n    }\n</style>\n<table border=\"1\" class=\"dataframe\">\n  <thead>\n    <tr style=\"text-align: right;\">\n      <th></th>\n      <th>Unnamed: 0</th>\n      <th>Age</th>\n      <th>Value</th>\n      <th>Wage</th>\n      <th>Crossing</th>\n      <th>Finishing</th>\n      <th>HeadingAccuracy</th>\n      <th>ShortPassing</th>\n      <th>Volleys</th>\n      <th>Dribbling</th>\n      <th>...</th>\n      <th>Penalties</th>\n      <th>Composure</th>\n      <th>Marking</th>\n      <th>StandingTackle</th>\n      <th>SlidingTackle</th>\n      <th>GKDiving</th>\n      <th>GKHandling</th>\n      <th>GKKicking</th>\n      <th>GKPositioning</th>\n      <th>GKReflexes</th>\n    </tr>\n  </thead>\n  <tbody>\n    <tr>\n      <th>count</th>\n      <td>12897.000000</td>\n      <td>12897.000000</td>\n      <td>1.289700e+04</td>\n      <td>12897.000000</td>\n      <td>12897.000000</td>\n      <td>12897.000000</td>\n      <td>12897.000000</td>\n      <td>12897.000000</td>\n      <td>12897.000000</td>\n      <td>12897.000000</td>\n      <td>...</td>\n      <td>12897.000000</td>\n      <td>12897.000000</td>\n      <td>12897.000000</td>\n      <td>12897.000000</td>\n      <td>12897.000000</td>\n      <td>12897.000000</td>\n      <td>12897.000000</td>\n      <td>12897.000000</td>\n      <td>12897.000000</td>\n      <td>12897.000000</td>\n    </tr>\n    <tr>\n      <th>mean</th>\n      <td>6605.040862</td>\n      <td>24.795379</td>\n      <td>2.112449e+06</td>\n      <td>7517.562224</td>\n      <td>47.076374</td>\n      <td>42.876328</td>\n      <td>50.202528</td>\n      <td>56.026983</td>\n      <td>40.295030</td>\n      <td>52.461735</td>\n      <td>...</td>\n      <td>46.459874</td>\n      <td>55.942932</td>\n      <td>45.655811</td>\n      <td>46.186710</td>\n      <td>44.386679</td>\n      <td>17.218345</td>\n      <td>16.962317</td>\n      <td>16.797938</td>\n      <td>16.950221</td>\n      <td>17.315965</td>\n    </tr>\n    <tr>\n      <th>std</th>\n      <td>3782.545526</td>\n      <td>4.872212</td>\n      <td>6.498424e+06</td>\n      <td>23061.985387</td>\n      <td>18.043470</td>\n      <td>19.096935</td>\n      <td>17.281593</td>\n      <td>14.740436</td>\n      <td>17.080687</td>\n      <td>18.871643</td>\n      <td>...</td>\n      <td>15.479313</td>\n      <td>11.280631</td>\n      <td>19.456346</td>\n      <td>21.172586</td>\n      <td>20.726546</td>\n      <td>18.085618</td>\n      <td>17.349624</td>\n      <td>16.971411</td>\n      <td>17.369297</td>\n      <td>18.335817</td>\n    </tr>\n    <tr>\n      <th>min</th>\n      <td>0.000000</td>\n      <td>16.000000</td>\n      <td>0.000000e+00</td>\n      <td>1000.000000</td>\n      <td>5.000000</td>\n      <td>2.000000</td>\n      <td>4.000000</td>\n      <td>7.000000</td>\n      <td>4.000000</td>\n      <td>4.000000</td>\n      <td>...</td>\n      <td>5.000000</td>\n      <td>12.000000</td>\n      <td>3.000000</td>\n      <td>2.000000</td>\n      <td>3.000000</td>\n      <td>1.000000</td>\n      <td>1.000000</td>\n      <td>1.000000</td>\n      <td>1.000000</td>\n      <td>1.000000</td>\n    </tr>\n    <tr>\n      <th>25%</th>\n      <td>3357.000000</td>\n      <td>21.000000</td>\n      <td>2.500000e+05</td>\n      <td>1000.000000</td>\n      <td>35.000000</td>\n      <td>28.000000</td>\n      <td>43.000000</td>\n      <td>50.000000</td>\n      <td>28.000000</td>\n      <td>45.000000</td>\n      <td>...</td>\n      <td>37.000000</td>\n      <td>49.000000</td>\n      <td>29.000000</td>\n      <td>25.000000</td>\n      <td>23.000000</td>\n      <td>8.000000</td>\n      <td>8.000000</td>\n      <td>8.000000</td>\n      <td>8.000000</td>\n      <td>8.000000</td>\n    </tr>\n    <tr>\n      <th>50%</th>\n      <td>6622.000000</td>\n      <td>24.000000</td>\n      <td>5.000000e+05</td>\n      <td>2000.000000</td>\n      <td>51.000000</td>\n      <td>45.000000</td>\n      <td>54.000000</td>\n      <td>60.000000</td>\n      <td>41.000000</td>\n      <td>58.000000</td>\n      <td>...</td>\n      <td>47.000000</td>\n      <td>56.000000</td>\n      <td>51.000000</td>\n      <td>54.000000</td>\n      <td>51.000000</td>\n      <td>11.000000</td>\n      <td>11.000000</td>\n      <td>11.000000</td>\n      <td>11.000000</td>\n      <td>11.000000</td>\n    </tr>\n    <tr>\n      <th>75%</th>\n      <td>9876.000000</td>\n      <td>28.000000</td>\n      <td>8.500000e+05</td>\n      <td>4000.000000</td>\n      <td>61.000000</td>\n      <td>59.000000</td>\n      <td>62.000000</td>\n      <td>65.000000</td>\n      <td>53.000000</td>\n      <td>65.000000</td>\n      <td>...</td>\n      <td>58.000000</td>\n      <td>63.000000</td>\n      <td>62.000000</td>\n      <td>64.000000</td>\n      <td>62.000000</td>\n      <td>14.000000</td>\n      <td>14.000000</td>\n      <td>14.000000</td>\n      <td>14.000000</td>\n      <td>14.000000</td>\n    </tr>\n    <tr>\n      <th>max</th>\n      <td>13125.000000</td>\n      <td>45.000000</td>\n      <td>1.185000e+08</td>\n      <td>565000.000000</td>\n      <td>93.000000</td>\n      <td>95.000000</td>\n      <td>94.000000</td>\n      <td>93.000000</td>\n      <td>90.000000</td>\n      <td>97.000000</td>\n      <td>...</td>\n      <td>91.000000</td>\n      <td>96.000000</td>\n      <td>93.000000</td>\n      <td>93.000000</td>\n      <td>91.000000</td>\n      <td>90.000000</td>\n      <td>92.000000</td>\n      <td>91.000000</td>\n      <td>90.000000</td>\n      <td>94.000000</td>\n    </tr>\n  </tbody>\n</table>\n<p>8 rows × 38 columns</p>\n</div>"
     },
     "metadata": {},
     "execution_count": 48
    }
   ],
   "source": [
    "football.describe()"
   ]
  },
  {
   "cell_type": "code",
   "execution_count": 49,
   "metadata": {},
   "outputs": [
    {
     "output_type": "execute_result",
     "data": {
      "text/plain": [
       "                Name Nationality             Club Position\n",
       "count          12897       12897            12897    12897\n",
       "unique         12326         156              650       27\n",
       "top     J. Rodríguez     England  Shonan Bellmare       GK\n",
       "freq               9        1368               30     1641"
      ],
      "text/html": "<div>\n<style scoped>\n    .dataframe tbody tr th:only-of-type {\n        vertical-align: middle;\n    }\n\n    .dataframe tbody tr th {\n        vertical-align: top;\n    }\n\n    .dataframe thead th {\n        text-align: right;\n    }\n</style>\n<table border=\"1\" class=\"dataframe\">\n  <thead>\n    <tr style=\"text-align: right;\">\n      <th></th>\n      <th>Name</th>\n      <th>Nationality</th>\n      <th>Club</th>\n      <th>Position</th>\n    </tr>\n  </thead>\n  <tbody>\n    <tr>\n      <th>count</th>\n      <td>12897</td>\n      <td>12897</td>\n      <td>12897</td>\n      <td>12897</td>\n    </tr>\n    <tr>\n      <th>unique</th>\n      <td>12326</td>\n      <td>156</td>\n      <td>650</td>\n      <td>27</td>\n    </tr>\n    <tr>\n      <th>top</th>\n      <td>J. Rodríguez</td>\n      <td>England</td>\n      <td>Shonan Bellmare</td>\n      <td>GK</td>\n    </tr>\n    <tr>\n      <th>freq</th>\n      <td>9</td>\n      <td>1368</td>\n      <td>30</td>\n      <td>1641</td>\n    </tr>\n  </tbody>\n</table>\n</div>"
     },
     "metadata": {},
     "execution_count": 49
    }
   ],
   "source": [
    "football.describe(include = ['object'])"
   ]
  },
  {
   "cell_type": "code",
   "execution_count": 52,
   "metadata": {},
   "outputs": [
    {
     "output_type": "display_data",
     "data": {
      "text/plain": "         Unnamed: 0           Age         Value           Wage      Crossing  \\\ncount  12897.000000  12897.000000  1.289700e+04   12897.000000  12897.000000   \nmean    6605.040862     24.795379  2.112449e+06    7517.562224     47.076374   \nstd     3782.545526      4.872212  6.498424e+06   23061.985387     18.043470   \nmin        0.000000     16.000000  0.000000e+00    1000.000000      5.000000   \n25%     3357.000000     21.000000  2.500000e+05    1000.000000     35.000000   \n50%     6622.000000     24.000000  5.000000e+05    2000.000000     51.000000   \n75%     9876.000000     28.000000  8.500000e+05    4000.000000     61.000000   \nmax    13125.000000     45.000000  1.185000e+08  565000.000000     93.000000   \n\n          Finishing  HeadingAccuracy  ShortPassing       Volleys  \\\ncount  12897.000000     12897.000000  12897.000000  12897.000000   \nmean      42.876328        50.202528     56.026983     40.295030   \nstd       19.096935        17.281593     14.740436     17.080687   \nmin        2.000000         4.000000      7.000000      4.000000   \n25%       28.000000        43.000000     50.000000     28.000000   \n50%       45.000000        54.000000     60.000000     41.000000   \n75%       59.000000        62.000000     65.000000     53.000000   \nmax       95.000000        94.000000     93.000000     90.000000   \n\n          Dribbling         Curve    FKAccuracy   LongPassing   BallControl  \\\ncount  12897.000000  12897.000000  12897.000000  12897.000000  12897.000000   \nmean      52.461735     44.264403     40.321625     50.115143     55.463596   \nstd       18.871643     17.781283     16.718481     15.215160     16.692643   \nmin        4.000000      6.000000      3.000000      9.000000      5.000000   \n25%       45.000000     32.000000     29.000000     40.000000     51.000000   \n50%       58.000000     45.000000     39.000000     53.000000     60.000000   \n75%       65.000000     58.000000     52.000000     61.000000     65.000000   \nmax       97.000000     93.000000     94.000000     93.000000     96.000000   \n\n       Acceleration   SprintSpeed       Agility     Reactions       Balance  \\\ncount  12897.000000  12897.000000  12897.000000  12897.000000  12897.000000   \nmean      63.109715     63.205629     61.819648     59.430565     63.171978   \nstd       15.129988     14.903845     14.858729      8.875832     14.190700   \nmin       12.000000     12.000000     15.000000     21.000000     16.000000   \n25%       55.000000     55.000000     53.000000     54.000000     55.000000   \n50%       66.000000     66.000000     64.000000     59.000000     65.000000   \n75%       74.000000     73.000000     72.000000     65.000000     73.000000   \nmax       97.000000     96.000000     96.000000     96.000000     96.000000   \n\n          ShotPower       Jumping       Stamina      Strength     LongShots  \\\ncount  12897.000000  12897.000000  12897.000000  12897.000000  12897.000000   \nmean      52.530666     64.285415     61.123052     64.271614     43.971931   \nstd       16.975214     11.765467     16.194498     12.550696     18.769749   \nmin        2.000000     15.000000     12.000000     17.000000      3.000000   \n25%       42.000000     57.000000     54.000000     57.000000     29.000000   \n50%       56.000000     65.000000     64.000000     65.000000     47.000000   \n75%       65.000000     72.000000     72.000000     73.000000     59.000000   \nmax       95.000000     95.000000     96.000000     97.000000     94.000000   \n\n         Aggression  Interceptions   Positioning        Vision     Penalties  \\\ncount  12897.000000   12897.000000  12897.000000  12897.000000  12897.000000   \nmean      53.777933      44.875940     47.166008     50.843374     46.459874   \nstd       17.232716      20.188799     19.245882     13.745960     15.479313   \nmin       11.000000       3.000000      2.000000     10.000000      5.000000   \n25%       41.000000      24.000000     35.000000     42.000000     37.000000   \n50%       56.000000      51.000000     52.000000     52.000000     47.000000   \n75%       67.000000      62.000000     61.000000     60.000000     58.000000   \nmax       95.000000      92.000000     95.000000     94.000000     91.000000   \n\n          Composure       Marking  StandingTackle  SlidingTackle  \\\ncount  12897.000000  12897.000000    12897.000000   12897.000000   \nmean      55.942932     45.655811       46.186710      44.386679   \nstd       11.280631     19.456346       21.172586      20.726546   \nmin       12.000000      3.000000        2.000000       3.000000   \n25%       49.000000     29.000000       25.000000      23.000000   \n50%       56.000000     51.000000       54.000000      51.000000   \n75%       63.000000     62.000000       64.000000      62.000000   \nmax       96.000000     93.000000       93.000000      91.000000   \n\n           GKDiving    GKHandling     GKKicking  GKPositioning    GKReflexes  \ncount  12897.000000  12897.000000  12897.000000   12897.000000  12897.000000  \nmean      17.218345     16.962317     16.797938      16.950221     17.315965  \nstd       18.085618     17.349624     16.971411      17.369297     18.335817  \nmin        1.000000      1.000000      1.000000       1.000000      1.000000  \n25%        8.000000      8.000000      8.000000       8.000000      8.000000  \n50%       11.000000     11.000000     11.000000      11.000000     11.000000  \n75%       14.000000     14.000000     14.000000      14.000000     14.000000  \nmax       90.000000     92.000000     91.000000      90.000000     94.000000  ",
      "text/html": "<div>\n<style scoped>\n    .dataframe tbody tr th:only-of-type {\n        vertical-align: middle;\n    }\n\n    .dataframe tbody tr th {\n        vertical-align: top;\n    }\n\n    .dataframe thead th {\n        text-align: right;\n    }\n</style>\n<table border=\"1\" class=\"dataframe\">\n  <thead>\n    <tr style=\"text-align: right;\">\n      <th></th>\n      <th>Unnamed: 0</th>\n      <th>Age</th>\n      <th>Value</th>\n      <th>Wage</th>\n      <th>Crossing</th>\n      <th>Finishing</th>\n      <th>HeadingAccuracy</th>\n      <th>ShortPassing</th>\n      <th>Volleys</th>\n      <th>Dribbling</th>\n      <th>Curve</th>\n      <th>FKAccuracy</th>\n      <th>LongPassing</th>\n      <th>BallControl</th>\n      <th>Acceleration</th>\n      <th>SprintSpeed</th>\n      <th>Agility</th>\n      <th>Reactions</th>\n      <th>Balance</th>\n      <th>ShotPower</th>\n      <th>Jumping</th>\n      <th>Stamina</th>\n      <th>Strength</th>\n      <th>LongShots</th>\n      <th>Aggression</th>\n      <th>Interceptions</th>\n      <th>Positioning</th>\n      <th>Vision</th>\n      <th>Penalties</th>\n      <th>Composure</th>\n      <th>Marking</th>\n      <th>StandingTackle</th>\n      <th>SlidingTackle</th>\n      <th>GKDiving</th>\n      <th>GKHandling</th>\n      <th>GKKicking</th>\n      <th>GKPositioning</th>\n      <th>GKReflexes</th>\n    </tr>\n  </thead>\n  <tbody>\n    <tr>\n      <th>count</th>\n      <td>12897.000000</td>\n      <td>12897.000000</td>\n      <td>1.289700e+04</td>\n      <td>12897.000000</td>\n      <td>12897.000000</td>\n      <td>12897.000000</td>\n      <td>12897.000000</td>\n      <td>12897.000000</td>\n      <td>12897.000000</td>\n      <td>12897.000000</td>\n      <td>12897.000000</td>\n      <td>12897.000000</td>\n      <td>12897.000000</td>\n      <td>12897.000000</td>\n      <td>12897.000000</td>\n      <td>12897.000000</td>\n      <td>12897.000000</td>\n      <td>12897.000000</td>\n      <td>12897.000000</td>\n      <td>12897.000000</td>\n      <td>12897.000000</td>\n      <td>12897.000000</td>\n      <td>12897.000000</td>\n      <td>12897.000000</td>\n      <td>12897.000000</td>\n      <td>12897.000000</td>\n      <td>12897.000000</td>\n      <td>12897.000000</td>\n      <td>12897.000000</td>\n      <td>12897.000000</td>\n      <td>12897.000000</td>\n      <td>12897.000000</td>\n      <td>12897.000000</td>\n      <td>12897.000000</td>\n      <td>12897.000000</td>\n      <td>12897.000000</td>\n      <td>12897.000000</td>\n      <td>12897.000000</td>\n    </tr>\n    <tr>\n      <th>mean</th>\n      <td>6605.040862</td>\n      <td>24.795379</td>\n      <td>2.112449e+06</td>\n      <td>7517.562224</td>\n      <td>47.076374</td>\n      <td>42.876328</td>\n      <td>50.202528</td>\n      <td>56.026983</td>\n      <td>40.295030</td>\n      <td>52.461735</td>\n      <td>44.264403</td>\n      <td>40.321625</td>\n      <td>50.115143</td>\n      <td>55.463596</td>\n      <td>63.109715</td>\n      <td>63.205629</td>\n      <td>61.819648</td>\n      <td>59.430565</td>\n      <td>63.171978</td>\n      <td>52.530666</td>\n      <td>64.285415</td>\n      <td>61.123052</td>\n      <td>64.271614</td>\n      <td>43.971931</td>\n      <td>53.777933</td>\n      <td>44.875940</td>\n      <td>47.166008</td>\n      <td>50.843374</td>\n      <td>46.459874</td>\n      <td>55.942932</td>\n      <td>45.655811</td>\n      <td>46.186710</td>\n      <td>44.386679</td>\n      <td>17.218345</td>\n      <td>16.962317</td>\n      <td>16.797938</td>\n      <td>16.950221</td>\n      <td>17.315965</td>\n    </tr>\n    <tr>\n      <th>std</th>\n      <td>3782.545526</td>\n      <td>4.872212</td>\n      <td>6.498424e+06</td>\n      <td>23061.985387</td>\n      <td>18.043470</td>\n      <td>19.096935</td>\n      <td>17.281593</td>\n      <td>14.740436</td>\n      <td>17.080687</td>\n      <td>18.871643</td>\n      <td>17.781283</td>\n      <td>16.718481</td>\n      <td>15.215160</td>\n      <td>16.692643</td>\n      <td>15.129988</td>\n      <td>14.903845</td>\n      <td>14.858729</td>\n      <td>8.875832</td>\n      <td>14.190700</td>\n      <td>16.975214</td>\n      <td>11.765467</td>\n      <td>16.194498</td>\n      <td>12.550696</td>\n      <td>18.769749</td>\n      <td>17.232716</td>\n      <td>20.188799</td>\n      <td>19.245882</td>\n      <td>13.745960</td>\n      <td>15.479313</td>\n      <td>11.280631</td>\n      <td>19.456346</td>\n      <td>21.172586</td>\n      <td>20.726546</td>\n      <td>18.085618</td>\n      <td>17.349624</td>\n      <td>16.971411</td>\n      <td>17.369297</td>\n      <td>18.335817</td>\n    </tr>\n    <tr>\n      <th>min</th>\n      <td>0.000000</td>\n      <td>16.000000</td>\n      <td>0.000000e+00</td>\n      <td>1000.000000</td>\n      <td>5.000000</td>\n      <td>2.000000</td>\n      <td>4.000000</td>\n      <td>7.000000</td>\n      <td>4.000000</td>\n      <td>4.000000</td>\n      <td>6.000000</td>\n      <td>3.000000</td>\n      <td>9.000000</td>\n      <td>5.000000</td>\n      <td>12.000000</td>\n      <td>12.000000</td>\n      <td>15.000000</td>\n      <td>21.000000</td>\n      <td>16.000000</td>\n      <td>2.000000</td>\n      <td>15.000000</td>\n      <td>12.000000</td>\n      <td>17.000000</td>\n      <td>3.000000</td>\n      <td>11.000000</td>\n      <td>3.000000</td>\n      <td>2.000000</td>\n      <td>10.000000</td>\n      <td>5.000000</td>\n      <td>12.000000</td>\n      <td>3.000000</td>\n      <td>2.000000</td>\n      <td>3.000000</td>\n      <td>1.000000</td>\n      <td>1.000000</td>\n      <td>1.000000</td>\n      <td>1.000000</td>\n      <td>1.000000</td>\n    </tr>\n    <tr>\n      <th>25%</th>\n      <td>3357.000000</td>\n      <td>21.000000</td>\n      <td>2.500000e+05</td>\n      <td>1000.000000</td>\n      <td>35.000000</td>\n      <td>28.000000</td>\n      <td>43.000000</td>\n      <td>50.000000</td>\n      <td>28.000000</td>\n      <td>45.000000</td>\n      <td>32.000000</td>\n      <td>29.000000</td>\n      <td>40.000000</td>\n      <td>51.000000</td>\n      <td>55.000000</td>\n      <td>55.000000</td>\n      <td>53.000000</td>\n      <td>54.000000</td>\n      <td>55.000000</td>\n      <td>42.000000</td>\n      <td>57.000000</td>\n      <td>54.000000</td>\n      <td>57.000000</td>\n      <td>29.000000</td>\n      <td>41.000000</td>\n      <td>24.000000</td>\n      <td>35.000000</td>\n      <td>42.000000</td>\n      <td>37.000000</td>\n      <td>49.000000</td>\n      <td>29.000000</td>\n      <td>25.000000</td>\n      <td>23.000000</td>\n      <td>8.000000</td>\n      <td>8.000000</td>\n      <td>8.000000</td>\n      <td>8.000000</td>\n      <td>8.000000</td>\n    </tr>\n    <tr>\n      <th>50%</th>\n      <td>6622.000000</td>\n      <td>24.000000</td>\n      <td>5.000000e+05</td>\n      <td>2000.000000</td>\n      <td>51.000000</td>\n      <td>45.000000</td>\n      <td>54.000000</td>\n      <td>60.000000</td>\n      <td>41.000000</td>\n      <td>58.000000</td>\n      <td>45.000000</td>\n      <td>39.000000</td>\n      <td>53.000000</td>\n      <td>60.000000</td>\n      <td>66.000000</td>\n      <td>66.000000</td>\n      <td>64.000000</td>\n      <td>59.000000</td>\n      <td>65.000000</td>\n      <td>56.000000</td>\n      <td>65.000000</td>\n      <td>64.000000</td>\n      <td>65.000000</td>\n      <td>47.000000</td>\n      <td>56.000000</td>\n      <td>51.000000</td>\n      <td>52.000000</td>\n      <td>52.000000</td>\n      <td>47.000000</td>\n      <td>56.000000</td>\n      <td>51.000000</td>\n      <td>54.000000</td>\n      <td>51.000000</td>\n      <td>11.000000</td>\n      <td>11.000000</td>\n      <td>11.000000</td>\n      <td>11.000000</td>\n      <td>11.000000</td>\n    </tr>\n    <tr>\n      <th>75%</th>\n      <td>9876.000000</td>\n      <td>28.000000</td>\n      <td>8.500000e+05</td>\n      <td>4000.000000</td>\n      <td>61.000000</td>\n      <td>59.000000</td>\n      <td>62.000000</td>\n      <td>65.000000</td>\n      <td>53.000000</td>\n      <td>65.000000</td>\n      <td>58.000000</td>\n      <td>52.000000</td>\n      <td>61.000000</td>\n      <td>65.000000</td>\n      <td>74.000000</td>\n      <td>73.000000</td>\n      <td>72.000000</td>\n      <td>65.000000</td>\n      <td>73.000000</td>\n      <td>65.000000</td>\n      <td>72.000000</td>\n      <td>72.000000</td>\n      <td>73.000000</td>\n      <td>59.000000</td>\n      <td>67.000000</td>\n      <td>62.000000</td>\n      <td>61.000000</td>\n      <td>60.000000</td>\n      <td>58.000000</td>\n      <td>63.000000</td>\n      <td>62.000000</td>\n      <td>64.000000</td>\n      <td>62.000000</td>\n      <td>14.000000</td>\n      <td>14.000000</td>\n      <td>14.000000</td>\n      <td>14.000000</td>\n      <td>14.000000</td>\n    </tr>\n    <tr>\n      <th>max</th>\n      <td>13125.000000</td>\n      <td>45.000000</td>\n      <td>1.185000e+08</td>\n      <td>565000.000000</td>\n      <td>93.000000</td>\n      <td>95.000000</td>\n      <td>94.000000</td>\n      <td>93.000000</td>\n      <td>90.000000</td>\n      <td>97.000000</td>\n      <td>93.000000</td>\n      <td>94.000000</td>\n      <td>93.000000</td>\n      <td>96.000000</td>\n      <td>97.000000</td>\n      <td>96.000000</td>\n      <td>96.000000</td>\n      <td>96.000000</td>\n      <td>96.000000</td>\n      <td>95.000000</td>\n      <td>95.000000</td>\n      <td>96.000000</td>\n      <td>97.000000</td>\n      <td>94.000000</td>\n      <td>95.000000</td>\n      <td>92.000000</td>\n      <td>95.000000</td>\n      <td>94.000000</td>\n      <td>91.000000</td>\n      <td>96.000000</td>\n      <td>93.000000</td>\n      <td>93.000000</td>\n      <td>91.000000</td>\n      <td>90.000000</td>\n      <td>92.000000</td>\n      <td>91.000000</td>\n      <td>90.000000</td>\n      <td>94.000000</td>\n    </tr>\n  </tbody>\n</table>\n</div>"
     },
     "metadata": {}
    }
   ],
   "source": [
    "with pd.option_context('display.max_rows', None, 'display.max_columns', None):\n",
    "    display(football.describe())"
   ]
  },
  {
   "cell_type": "code",
   "execution_count": 73,
   "metadata": {},
   "outputs": [
    {
     "output_type": "display_data",
     "data": {
      "text/plain": "                Age           Wage\ncount  12897.000000   12897.000000\nmean      24.795379    7517.562224\nstd        4.872212   23061.985387\nmin       16.000000    1000.000000\n25%       21.000000    1000.000000\n50%       24.000000    2000.000000\n75%       28.000000    4000.000000\nmax       45.000000  565000.000000",
      "text/html": "<div>\n<style scoped>\n    .dataframe tbody tr th:only-of-type {\n        vertical-align: middle;\n    }\n\n    .dataframe tbody tr th {\n        vertical-align: top;\n    }\n\n    .dataframe thead th {\n        text-align: right;\n    }\n</style>\n<table border=\"1\" class=\"dataframe\">\n  <thead>\n    <tr style=\"text-align: right;\">\n      <th></th>\n      <th>Age</th>\n      <th>Wage</th>\n    </tr>\n  </thead>\n  <tbody>\n    <tr>\n      <th>count</th>\n      <td>12897.000000</td>\n      <td>12897.000000</td>\n    </tr>\n    <tr>\n      <th>mean</th>\n      <td>24.795379</td>\n      <td>7517.562224</td>\n    </tr>\n    <tr>\n      <th>std</th>\n      <td>4.872212</td>\n      <td>23061.985387</td>\n    </tr>\n    <tr>\n      <th>min</th>\n      <td>16.000000</td>\n      <td>1000.000000</td>\n    </tr>\n    <tr>\n      <th>25%</th>\n      <td>21.000000</td>\n      <td>1000.000000</td>\n    </tr>\n    <tr>\n      <th>50%</th>\n      <td>24.000000</td>\n      <td>2000.000000</td>\n    </tr>\n    <tr>\n      <th>75%</th>\n      <td>28.000000</td>\n      <td>4000.000000</td>\n    </tr>\n    <tr>\n      <th>max</th>\n      <td>45.000000</td>\n      <td>565000.000000</td>\n    </tr>\n  </tbody>\n</table>\n</div>"
     },
     "metadata": {}
    }
   ],
   "source": [
    "display(football[[\"Age\", \"Wage\"]].describe())"
   ]
  },
  {
   "cell_type": "code",
   "execution_count": 74,
   "metadata": {},
   "outputs": [
    {
     "output_type": "execute_result",
     "data": {
      "text/plain": [
       "Age         45\n",
       "Wage    565000\n",
       "dtype: int64"
      ]
     },
     "metadata": {},
     "execution_count": 74
    }
   ],
   "source": [
    "football[[\"Age\", \"Wage\"]].max()"
   ]
  },
  {
   "cell_type": "code",
   "execution_count": 75,
   "metadata": {},
   "outputs": [
    {
     "output_type": "execute_result",
     "data": {
      "text/plain": [
       "Age       24.795379\n",
       "Wage    7517.562224\n",
       "dtype: float64"
      ]
     },
     "metadata": {},
     "execution_count": 75
    }
   ],
   "source": [
    "football[[\"Age\", \"Wage\"]].mean()"
   ]
  },
  {
   "cell_type": "code",
   "execution_count": 77,
   "metadata": {},
   "outputs": [
    {
     "output_type": "display_data",
     "data": {
      "text/plain": "   foo   bar  baz foobar\n0    0   1.2    2     hi\n1    1   2.2    3     hi\n2    2   3.2    4     hi\n3    3   4.2    5     hi\n4    4   5.2    6     hi\n5    5   6.2    7     hi\n6    6   7.2    8     hi\n7    7   8.2    9     hi\n8    8   9.2   10     hi\n9    9  10.2   11     hi",
      "text/html": "<div>\n<style scoped>\n    .dataframe tbody tr th:only-of-type {\n        vertical-align: middle;\n    }\n\n    .dataframe tbody tr th {\n        vertical-align: top;\n    }\n\n    .dataframe thead th {\n        text-align: right;\n    }\n</style>\n<table border=\"1\" class=\"dataframe\">\n  <thead>\n    <tr style=\"text-align: right;\">\n      <th></th>\n      <th>foo</th>\n      <th>bar</th>\n      <th>baz</th>\n      <th>foobar</th>\n    </tr>\n  </thead>\n  <tbody>\n    <tr>\n      <th>0</th>\n      <td>0</td>\n      <td>1.2</td>\n      <td>2</td>\n      <td>hi</td>\n    </tr>\n    <tr>\n      <th>1</th>\n      <td>1</td>\n      <td>2.2</td>\n      <td>3</td>\n      <td>hi</td>\n    </tr>\n    <tr>\n      <th>2</th>\n      <td>2</td>\n      <td>3.2</td>\n      <td>4</td>\n      <td>hi</td>\n    </tr>\n    <tr>\n      <th>3</th>\n      <td>3</td>\n      <td>4.2</td>\n      <td>5</td>\n      <td>hi</td>\n    </tr>\n    <tr>\n      <th>4</th>\n      <td>4</td>\n      <td>5.2</td>\n      <td>6</td>\n      <td>hi</td>\n    </tr>\n    <tr>\n      <th>5</th>\n      <td>5</td>\n      <td>6.2</td>\n      <td>7</td>\n      <td>hi</td>\n    </tr>\n    <tr>\n      <th>6</th>\n      <td>6</td>\n      <td>7.2</td>\n      <td>8</td>\n      <td>hi</td>\n    </tr>\n    <tr>\n      <th>7</th>\n      <td>7</td>\n      <td>8.2</td>\n      <td>9</td>\n      <td>hi</td>\n    </tr>\n    <tr>\n      <th>8</th>\n      <td>8</td>\n      <td>9.2</td>\n      <td>10</td>\n      <td>hi</td>\n    </tr>\n    <tr>\n      <th>9</th>\n      <td>9</td>\n      <td>10.2</td>\n      <td>11</td>\n      <td>hi</td>\n    </tr>\n  </tbody>\n</table>\n</div>"
     },
     "metadata": {}
    }
   ],
   "source": [
    "df = pd.DataFrame([[i,i+1.2,i+2, 'hi'] for i in range(10)],\n",
    "                  columns = ['foo', 'bar', 'baz', 'foobar'])\n",
    "display(df)"
   ]
  },
  {
   "cell_type": "code",
   "execution_count": 78,
   "metadata": {},
   "outputs": [
    {
     "output_type": "execute_result",
     "data": {
      "text/plain": [
       "foo    4.5\n",
       "bar    5.7\n",
       "baz    6.5\n",
       "dtype: float64"
      ]
     },
     "metadata": {},
     "execution_count": 78
    }
   ],
   "source": [
    "df.mean()"
   ]
  },
  {
   "cell_type": "code",
   "execution_count": 79,
   "metadata": {},
   "outputs": [
    {
     "output_type": "execute_result",
     "data": {
      "text/plain": [
       "0     1.066667\n",
       "1     2.066667\n",
       "2     3.066667\n",
       "3     4.066667\n",
       "4     5.066667\n",
       "5     6.066667\n",
       "6     7.066667\n",
       "7     8.066667\n",
       "8     9.066667\n",
       "9    10.066667\n",
       "dtype: float64"
      ]
     },
     "metadata": {},
     "execution_count": 79
    }
   ],
   "source": [
    "df.mean(axis=True)"
   ]
  },
  {
   "cell_type": "code",
   "execution_count": 80,
   "metadata": {},
   "outputs": [
    {
     "output_type": "display_data",
     "data": {
      "text/plain": "0    0\n1    1\n2    2\n3    3\n4    4\n5    5\n6    6\n7    7\n8    8\n9    9\nName: foo, dtype: int64"
     },
     "metadata": {}
    }
   ],
   "source": [
    "display(df['foo'])"
   ]
  },
  {
   "cell_type": "code",
   "execution_count": 81,
   "metadata": {},
   "outputs": [
    {
     "output_type": "execute_result",
     "data": {
      "text/plain": [
       "0    0\n",
       "1    1\n",
       "2    2\n",
       "3    3\n",
       "4    4\n",
       "5    5\n",
       "6    6\n",
       "7    7\n",
       "8    8\n",
       "9    9\n",
       "Name: foo, dtype: int64"
      ]
     },
     "metadata": {},
     "execution_count": 81
    }
   ],
   "source": [
    "df.foo"
   ]
  },
  {
   "source": [
    "Чему равен средний возраст (Age), футболистов в наборе данных, округлённый до целого?"
   ],
   "cell_type": "markdown",
   "metadata": {}
  },
  {
   "cell_type": "code",
   "execution_count": 83,
   "metadata": {},
   "outputs": [
    {
     "output_type": "execute_result",
     "data": {
      "text/plain": [
       "24.795378770256647"
      ]
     },
     "metadata": {},
     "execution_count": 83
    }
   ],
   "source": [
    "football[\"Age\"].mean()"
   ]
  },
  {
   "source": [
    "Каково количество непустых строк в колонке Composure (Хладнокровие) набора данных о футболистах?\n"
   ],
   "cell_type": "markdown",
   "metadata": {}
  },
  {
   "cell_type": "code",
   "execution_count": 87,
   "metadata": {},
   "outputs": [
    {
     "output_type": "execute_result",
     "data": {
      "text/plain": [
       "12897"
      ]
     },
     "metadata": {},
     "execution_count": 87
    }
   ],
   "source": [
    "football[\"Composure\"].count()"
   ]
  },
  {
   "source": [
    "Каково в наборе данных о футболистах стандартное отклонение параметра коротких пасов (ShortPassing), округлённое до второго знака после запятой?\n"
   ],
   "cell_type": "markdown",
   "metadata": {}
  },
  {
   "cell_type": "code",
   "execution_count": 89,
   "metadata": {},
   "outputs": [
    {
     "output_type": "execute_result",
     "data": {
      "text/plain": [
       "14.740435689517005"
      ]
     },
     "metadata": {},
     "execution_count": 89
    }
   ],
   "source": [
    "football[\"ShortPassing\"].std()"
   ]
  },
  {
   "source": [
    "Какова сумма заработных плат за год (Wage) в наборе данных о футболистах?\n"
   ],
   "cell_type": "markdown",
   "metadata": {}
  },
  {
   "cell_type": "code",
   "execution_count": 90,
   "metadata": {},
   "outputs": [
    {
     "output_type": "execute_result",
     "data": {
      "text/plain": [
       "96954000"
      ]
     },
     "metadata": {},
     "execution_count": 90
    }
   ],
   "source": [
    "football[\"Wage\"].sum()"
   ]
  },
  {
   "source": [
    "Какова минимальная стоимость футболиста (Value) в наборе данных о футболистах?\n"
   ],
   "cell_type": "markdown",
   "metadata": {}
  },
  {
   "cell_type": "code",
   "execution_count": 91,
   "metadata": {},
   "outputs": [
    {
     "output_type": "execute_result",
     "data": {
      "text/plain": [
       "0"
      ]
     },
     "metadata": {},
     "execution_count": 91
    }
   ],
   "source": [
    "football[\"Value\"].min()"
   ]
  },
  {
   "cell_type": "code",
   "execution_count": 92,
   "metadata": {},
   "outputs": [
    {
     "output_type": "execute_result",
     "data": {
      "text/plain": [
       "       Unnamed: 0               Name  Age Nationality  \\\n",
       "0               0           L. Messi   31   Argentina   \n",
       "1               1  Cristiano Ronaldo   33    Portugal   \n",
       "2               2          Neymar Jr   26      Brazil   \n",
       "3               3             De Gea   27       Spain   \n",
       "4               4       K. De Bruyne   27     Belgium   \n",
       "...           ...                ...  ...         ...   \n",
       "12838       13067          D. Mackay   21    Scotland   \n",
       "12857       13086             Wu Lei   21    China PR   \n",
       "12861       13090        Y. Uchimura   33       Japan   \n",
       "12870       13099           M. Hurst   22    Scotland   \n",
       "12873       13102      K. Pilkington   44     England   \n",
       "\n",
       "                             Club      Value    Wage Position  Crossing  \\\n",
       "0                    FC Barcelona  110500000  565000       RF        84   \n",
       "1                        Juventus   77000000  405000       ST        84   \n",
       "2             Paris Saint-Germain  118500000  290000       LW        79   \n",
       "3               Manchester United   72000000  260000       GK        17   \n",
       "4                 Manchester City  102000000  355000      RCM        93   \n",
       "...                           ...        ...     ...      ...       ...   \n",
       "12838                  Kilmarnock      30000    1000       GK        14   \n",
       "12857         Tianjin Quanjian FC    9000000    2000      LDM        52   \n",
       "12861  Hokkaido Consadole Sapporo      20000    1000      CAM        51   \n",
       "12870            St. Johnstone FC      40000    1000       GK        19   \n",
       "12873            Cambridge United          0    1000       GK        11   \n",
       "\n",
       "       Finishing  ...  Penalties  Composure  Marking  StandingTackle  \\\n",
       "0             95  ...         75         96       33              28   \n",
       "1             94  ...         85         95       28              31   \n",
       "2             87  ...         81         94       27              24   \n",
       "3             13  ...         40         68       15              21   \n",
       "4             82  ...         79         88       68              58   \n",
       "...          ...  ...        ...        ...      ...             ...   \n",
       "12838         20  ...         24         30       12              18   \n",
       "12857         29  ...         46         39       52              40   \n",
       "12861         31  ...         33         62       45              48   \n",
       "12870         15  ...         29         28       12              15   \n",
       "12873         12  ...         22         56       15              15   \n",
       "\n",
       "       SlidingTackle  GKDiving  GKHandling  GKKicking  GKPositioning  \\\n",
       "0                 26         6          11         15             14   \n",
       "1                 23         7          11         15             14   \n",
       "2                 33         9           9         15             15   \n",
       "3                 13        90          85         87             88   \n",
       "4                 51        15          13          5             10   \n",
       "...              ...       ...         ...        ...            ...   \n",
       "12838             18        48          50         47             48   \n",
       "12857             49         8          15         11              8   \n",
       "12861             42        13          15          7             15   \n",
       "12870             16        45          49         50             50   \n",
       "12873             13        45          48         44             49   \n",
       "\n",
       "       GKReflexes  \n",
       "0               8  \n",
       "1              11  \n",
       "2              11  \n",
       "3              94  \n",
       "4              13  \n",
       "...           ...  \n",
       "12838          48  \n",
       "12857           5  \n",
       "12861          15  \n",
       "12870          45  \n",
       "12873          46  \n",
       "\n",
       "[10025 rows x 42 columns]"
      ],
      "text/html": "<div>\n<style scoped>\n    .dataframe tbody tr th:only-of-type {\n        vertical-align: middle;\n    }\n\n    .dataframe tbody tr th {\n        vertical-align: top;\n    }\n\n    .dataframe thead th {\n        text-align: right;\n    }\n</style>\n<table border=\"1\" class=\"dataframe\">\n  <thead>\n    <tr style=\"text-align: right;\">\n      <th></th>\n      <th>Unnamed: 0</th>\n      <th>Name</th>\n      <th>Age</th>\n      <th>Nationality</th>\n      <th>Club</th>\n      <th>Value</th>\n      <th>Wage</th>\n      <th>Position</th>\n      <th>Crossing</th>\n      <th>Finishing</th>\n      <th>...</th>\n      <th>Penalties</th>\n      <th>Composure</th>\n      <th>Marking</th>\n      <th>StandingTackle</th>\n      <th>SlidingTackle</th>\n      <th>GKDiving</th>\n      <th>GKHandling</th>\n      <th>GKKicking</th>\n      <th>GKPositioning</th>\n      <th>GKReflexes</th>\n    </tr>\n  </thead>\n  <tbody>\n    <tr>\n      <th>0</th>\n      <td>0</td>\n      <td>L. Messi</td>\n      <td>31</td>\n      <td>Argentina</td>\n      <td>FC Barcelona</td>\n      <td>110500000</td>\n      <td>565000</td>\n      <td>RF</td>\n      <td>84</td>\n      <td>95</td>\n      <td>...</td>\n      <td>75</td>\n      <td>96</td>\n      <td>33</td>\n      <td>28</td>\n      <td>26</td>\n      <td>6</td>\n      <td>11</td>\n      <td>15</td>\n      <td>14</td>\n      <td>8</td>\n    </tr>\n    <tr>\n      <th>1</th>\n      <td>1</td>\n      <td>Cristiano Ronaldo</td>\n      <td>33</td>\n      <td>Portugal</td>\n      <td>Juventus</td>\n      <td>77000000</td>\n      <td>405000</td>\n      <td>ST</td>\n      <td>84</td>\n      <td>94</td>\n      <td>...</td>\n      <td>85</td>\n      <td>95</td>\n      <td>28</td>\n      <td>31</td>\n      <td>23</td>\n      <td>7</td>\n      <td>11</td>\n      <td>15</td>\n      <td>14</td>\n      <td>11</td>\n    </tr>\n    <tr>\n      <th>2</th>\n      <td>2</td>\n      <td>Neymar Jr</td>\n      <td>26</td>\n      <td>Brazil</td>\n      <td>Paris Saint-Germain</td>\n      <td>118500000</td>\n      <td>290000</td>\n      <td>LW</td>\n      <td>79</td>\n      <td>87</td>\n      <td>...</td>\n      <td>81</td>\n      <td>94</td>\n      <td>27</td>\n      <td>24</td>\n      <td>33</td>\n      <td>9</td>\n      <td>9</td>\n      <td>15</td>\n      <td>15</td>\n      <td>11</td>\n    </tr>\n    <tr>\n      <th>3</th>\n      <td>3</td>\n      <td>De Gea</td>\n      <td>27</td>\n      <td>Spain</td>\n      <td>Manchester United</td>\n      <td>72000000</td>\n      <td>260000</td>\n      <td>GK</td>\n      <td>17</td>\n      <td>13</td>\n      <td>...</td>\n      <td>40</td>\n      <td>68</td>\n      <td>15</td>\n      <td>21</td>\n      <td>13</td>\n      <td>90</td>\n      <td>85</td>\n      <td>87</td>\n      <td>88</td>\n      <td>94</td>\n    </tr>\n    <tr>\n      <th>4</th>\n      <td>4</td>\n      <td>K. De Bruyne</td>\n      <td>27</td>\n      <td>Belgium</td>\n      <td>Manchester City</td>\n      <td>102000000</td>\n      <td>355000</td>\n      <td>RCM</td>\n      <td>93</td>\n      <td>82</td>\n      <td>...</td>\n      <td>79</td>\n      <td>88</td>\n      <td>68</td>\n      <td>58</td>\n      <td>51</td>\n      <td>15</td>\n      <td>13</td>\n      <td>5</td>\n      <td>10</td>\n      <td>13</td>\n    </tr>\n    <tr>\n      <th>...</th>\n      <td>...</td>\n      <td>...</td>\n      <td>...</td>\n      <td>...</td>\n      <td>...</td>\n      <td>...</td>\n      <td>...</td>\n      <td>...</td>\n      <td>...</td>\n      <td>...</td>\n      <td>...</td>\n      <td>...</td>\n      <td>...</td>\n      <td>...</td>\n      <td>...</td>\n      <td>...</td>\n      <td>...</td>\n      <td>...</td>\n      <td>...</td>\n      <td>...</td>\n      <td>...</td>\n    </tr>\n    <tr>\n      <th>12838</th>\n      <td>13067</td>\n      <td>D. Mackay</td>\n      <td>21</td>\n      <td>Scotland</td>\n      <td>Kilmarnock</td>\n      <td>30000</td>\n      <td>1000</td>\n      <td>GK</td>\n      <td>14</td>\n      <td>20</td>\n      <td>...</td>\n      <td>24</td>\n      <td>30</td>\n      <td>12</td>\n      <td>18</td>\n      <td>18</td>\n      <td>48</td>\n      <td>50</td>\n      <td>47</td>\n      <td>48</td>\n      <td>48</td>\n    </tr>\n    <tr>\n      <th>12857</th>\n      <td>13086</td>\n      <td>Wu Lei</td>\n      <td>21</td>\n      <td>China PR</td>\n      <td>Tianjin Quanjian FC</td>\n      <td>9000000</td>\n      <td>2000</td>\n      <td>LDM</td>\n      <td>52</td>\n      <td>29</td>\n      <td>...</td>\n      <td>46</td>\n      <td>39</td>\n      <td>52</td>\n      <td>40</td>\n      <td>49</td>\n      <td>8</td>\n      <td>15</td>\n      <td>11</td>\n      <td>8</td>\n      <td>5</td>\n    </tr>\n    <tr>\n      <th>12861</th>\n      <td>13090</td>\n      <td>Y. Uchimura</td>\n      <td>33</td>\n      <td>Japan</td>\n      <td>Hokkaido Consadole Sapporo</td>\n      <td>20000</td>\n      <td>1000</td>\n      <td>CAM</td>\n      <td>51</td>\n      <td>31</td>\n      <td>...</td>\n      <td>33</td>\n      <td>62</td>\n      <td>45</td>\n      <td>48</td>\n      <td>42</td>\n      <td>13</td>\n      <td>15</td>\n      <td>7</td>\n      <td>15</td>\n      <td>15</td>\n    </tr>\n    <tr>\n      <th>12870</th>\n      <td>13099</td>\n      <td>M. Hurst</td>\n      <td>22</td>\n      <td>Scotland</td>\n      <td>St. Johnstone FC</td>\n      <td>40000</td>\n      <td>1000</td>\n      <td>GK</td>\n      <td>19</td>\n      <td>15</td>\n      <td>...</td>\n      <td>29</td>\n      <td>28</td>\n      <td>12</td>\n      <td>15</td>\n      <td>16</td>\n      <td>45</td>\n      <td>49</td>\n      <td>50</td>\n      <td>50</td>\n      <td>45</td>\n    </tr>\n    <tr>\n      <th>12873</th>\n      <td>13102</td>\n      <td>K. Pilkington</td>\n      <td>44</td>\n      <td>England</td>\n      <td>Cambridge United</td>\n      <td>0</td>\n      <td>1000</td>\n      <td>GK</td>\n      <td>11</td>\n      <td>12</td>\n      <td>...</td>\n      <td>22</td>\n      <td>56</td>\n      <td>15</td>\n      <td>15</td>\n      <td>13</td>\n      <td>45</td>\n      <td>48</td>\n      <td>44</td>\n      <td>49</td>\n      <td>46</td>\n    </tr>\n  </tbody>\n</table>\n<p>10025 rows × 42 columns</p>\n</div>"
     },
     "metadata": {},
     "execution_count": 92
    }
   ],
   "source": [
    "football[football.Age > 20]"
   ]
  },
  {
   "cell_type": "code",
   "execution_count": 97,
   "metadata": {},
   "outputs": [
    {
     "output_type": "execute_result",
     "data": {
      "text/plain": [
       "6191"
      ]
     },
     "metadata": {},
     "execution_count": 97
    }
   ],
   "source": [
    "football[football.Age > football.Age.mean()].Age.count()"
   ]
  },
  {
   "cell_type": "code",
   "execution_count": 98,
   "metadata": {},
   "outputs": [
    {
     "output_type": "execute_result",
     "data": {
      "text/plain": [
       "77454.54545454546"
      ]
     },
     "metadata": {},
     "execution_count": 98
    }
   ],
   "source": [
    "football[(football.Age < football.Age.mean())&\n",
    "        (football.Club == 'FC Barcelona')].Wage.mean()"
   ]
  },
  {
   "source": [
    "Какова средняя скорость (SprintSpeed) футболистов, зарплата (Wage) которых выше среднего? Ответ округлите до сотых."
   ],
   "cell_type": "markdown",
   "metadata": {}
  },
  {
   "cell_type": "code",
   "execution_count": 99,
   "metadata": {},
   "outputs": [
    {
     "output_type": "execute_result",
     "data": {
      "text/plain": [
       "67.56638061585058"
      ]
     },
     "metadata": {},
     "execution_count": 99
    }
   ],
   "source": [
    "football[football.Wage > football.Wage.mean()].SprintSpeed.mean()"
   ]
  },
  {
   "source": [
    "Какова средняя скорость (SprintSpeed) футболистов, зарплата (Wage) которых ниже среднего? Ответ округлите до сотых.       "
   ],
   "cell_type": "markdown",
   "metadata": {}
  },
  {
   "cell_type": "code",
   "execution_count": 100,
   "metadata": {},
   "outputs": [
    {
     "output_type": "execute_result",
     "data": {
      "text/plain": [
       "62.41425430560645"
      ]
     },
     "metadata": {},
     "execution_count": 100
    }
   ],
   "source": [
    "football[football.Wage < football.Wage.mean()].SprintSpeed.mean()"
   ]
  },
  {
   "source": [
    "Какую позицию (Position) занимает футболист с самой высокой зарплатой (Wage)?"
   ],
   "cell_type": "markdown",
   "metadata": {}
  },
  {
   "cell_type": "code",
   "execution_count": 103,
   "metadata": {},
   "outputs": [
    {
     "output_type": "execute_result",
     "data": {
      "text/plain": [
       "0    RF\n",
       "Name: Position, dtype: object"
      ]
     },
     "metadata": {},
     "execution_count": 103
    }
   ],
   "source": [
    "football[football.Wage == football.Wage.max()].Position"
   ]
  },
  {
   "source": [
    "Сколько пенальти (Penalties) забили бразильские (Nationality, Brazil) футболисты за период, данные о котором представлены в датасете?"
   ],
   "cell_type": "markdown",
   "metadata": {}
  },
  {
   "cell_type": "code",
   "execution_count": 106,
   "metadata": {},
   "outputs": [
    {
     "output_type": "execute_result",
     "data": {
      "text/plain": [
       "22789"
      ]
     },
     "metadata": {},
     "execution_count": 106
    }
   ],
   "source": [
    "football[football.Nationality == 'Brazil'].Penalties.sum()"
   ]
  },
  {
   "source": [
    "Укажите средний возраст (Age) игроков, у которых точность удара головой (HeadingAccuracy) > 50. Ответ округлите до сотых."
   ],
   "cell_type": "markdown",
   "metadata": {}
  },
  {
   "cell_type": "code",
   "execution_count": 108,
   "metadata": {},
   "outputs": [
    {
     "output_type": "execute_result",
     "data": {
      "text/plain": [
       "25.58771113179944"
      ]
     },
     "metadata": {},
     "execution_count": 108
    }
   ],
   "source": [
    "football[football.HeadingAccuracy > 50].Age.mean()"
   ]
  },
  {
   "source": [
    "Укажите возраст (Age) самого молодого игрока, у которого хладнокровие (Composure) и реакция (Reactions) превышают 90% от максимального значения, представленного в датасете."
   ],
   "cell_type": "markdown",
   "metadata": {}
  },
  {
   "cell_type": "code",
   "execution_count": 120,
   "metadata": {},
   "outputs": [
    {
     "output_type": "execute_result",
     "data": {
      "text/plain": [
       "24"
      ]
     },
     "metadata": {},
     "execution_count": 120
    }
   ],
   "source": [
    "football[\n",
    "    (football.Composure > 0.9*football.Composure.max())\n",
    "    & (football.Reactions > 0.9*football.Reactions.max())\n",
    "].Age.min()"
   ]
  },
  {
   "source": [
    "Определите, на сколько средняя реакция (Reactions) самых взрослых игроков (т.е. игроков, чей возраст (Age) равен максимальному) больше средней реакции самых молодых игроков. Ответ округлите до сотых."
   ],
   "cell_type": "markdown",
   "metadata": {}
  },
  {
   "cell_type": "code",
   "execution_count": 126,
   "metadata": {},
   "outputs": [
    {
     "output_type": "execute_result",
     "data": {
      "text/plain": [
       "22.642857142857146"
      ]
     },
     "metadata": {},
     "execution_count": 126
    }
   ],
   "source": [
    "old_reaction = football[football.Age == football.Age.max()].Reactions.mean()\n",
    "yang_reaction = football[football.Age == football.Age.min()].Reactions.mean()\n",
    "old_reaction - yang_reaction"
   ]
  },
  {
   "source": [
    "Из какой страны (Nationality) происходит больше всего игроков, чья стоимость (Value) превышает среднее значение?"
   ],
   "cell_type": "markdown",
   "metadata": {}
  },
  {
   "cell_type": "code",
   "execution_count": 144,
   "metadata": {},
   "outputs": [
    {
     "output_type": "execute_result",
     "data": {
      "text/plain": [
       "'Spain'"
      ]
     },
     "metadata": {},
     "execution_count": 144
    }
   ],
   "source": [
    "over_value = football[football.Value > football.Value.mean()]\n",
    "# over_value.describe(include = ['object'])\n",
    "over_value.Nationality.value_counts().index[0]"
   ]
  },
  {
   "source": [
    "Определите, во сколько раз средняя зарплата (Wage) голкипера (Position, GK) с максимальным значением показателя \" Рефлексы\" (GKReflexes) выше средней зарплаты голкипера с максимальным значением показателя \"Владение мячом\" (GKHandling). Ответ округлите до сотых."
   ],
   "cell_type": "markdown",
   "metadata": {}
  },
  {
   "cell_type": "code",
   "execution_count": 152,
   "metadata": {},
   "outputs": [
    {
     "output_type": "execute_result",
     "data": {
      "text/plain": [
       "2.77"
      ]
     },
     "metadata": {},
     "execution_count": 152
    }
   ],
   "source": [
    "gk_reflex_wage = football[football.GKReflexes == football.GKReflexes.max()].Wage.mean()\n",
    "gk_handling_wage = football[football.GKHandling == football.GKHandling.max()].Wage.mean()\n",
    "round(gk_reflex_wage / gk_handling_wage, 2)"
   ]
  },
  {
   "source": [
    "Определите, во сколько раз средняя сила удара (ShotPower) самых агрессивных игроков (игроков с максимальным значением показателя \"Агрессивность\" (Aggression)) выше средней силы удара игроков с минимальной агрессией. Ответ округлите до сотых."
   ],
   "cell_type": "markdown",
   "metadata": {}
  },
  {
   "cell_type": "code",
   "execution_count": 153,
   "metadata": {},
   "outputs": [
    {
     "output_type": "execute_result",
     "data": {
      "text/plain": [
       "2.08"
      ]
     },
     "metadata": {},
     "execution_count": 153
    }
   ],
   "source": [
    "shot_aggressive = football[football.Aggression == football.Aggression.max()].ShotPower.mean()\n",
    "shot_passive = football[football.Aggression == football.Aggression.min()].ShotPower.mean()\n",
    "round(shot_aggressive / shot_passive, 2)"
   ]
  },
  {
   "cell_type": "code",
   "execution_count": null,
   "metadata": {},
   "outputs": [],
   "source": []
  }
 ]
}