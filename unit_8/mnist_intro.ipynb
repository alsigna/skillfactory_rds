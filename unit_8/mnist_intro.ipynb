{
  "cells": [
    {
      "cell_type": "markdown",
      "metadata": {
        "colab_type": "text",
        "id": "iJRLGIMdOVRK"
      },
      "source": [
        "# MNIST: мотивация использовать нейросети"
      ]
    },
    {
      "cell_type": "code",
      "execution_count": 2,
      "metadata": {
        "colab": {},
        "colab_type": "code",
        "id": "NPDfQS-kNO1v"
      },
      "outputs": [],
      "source": [
        "import tensorflow as tf  # пока что используем этот пакет только для скачки данных :)\n",
        "import numpy as np\n",
        "import sklearn\n",
        "import matplotlib.pyplot as plt"
      ]
    },
    {
      "cell_type": "code",
      "execution_count": 3,
      "metadata": {
        "colab": {},
        "colab_type": "code",
        "id": "5ynJ91PONjLN"
      },
      "outputs": [
        {
          "name": "stdout",
          "output_type": "stream",
          "text": [
            "Downloading data from https://storage.googleapis.com/tensorflow/tf-keras-datasets/mnist.npz\n",
            "11493376/11490434 [==============================] - 1s 0us/step\n",
            "11501568/11490434 [==============================] - 1s 0us/step\n"
          ]
        }
      ],
      "source": [
        "# скачиваем данные\n",
        "(x_train, y_train), (x_val, y_val) = tf.keras.datasets.mnist.load_data()"
      ]
    },
    {
      "cell_type": "code",
      "execution_count": 4,
      "metadata": {
        "colab": {
          "base_uri": "https://localhost:8080/",
          "height": 85
        },
        "colab_type": "code",
        "id": "gFOePELMN8KM",
        "outputId": "2f971407-6e5b-45d0-b5b7-54ce323ae481"
      },
      "outputs": [
        {
          "name": "stdout",
          "output_type": "stream",
          "text": [
            "(60000, 28, 28)\n",
            "(10000, 28, 28)\n",
            "[5 0 4 1 9 2 1 3 1 4]\n",
            "[7 2 1 0 4 1 4 9 5 9]\n"
          ]
        }
      ],
      "source": [
        "# что за данные\n",
        "print(x_train.shape)\n",
        "print(x_val.shape)\n",
        "print(y_train[:10])\n",
        "print(y_val[:10])\n"
      ]
    },
    {
      "cell_type": "code",
      "execution_count": 7,
      "metadata": {
        "colab": {
          "base_uri": "https://localhost:8080/",
          "height": 745
        },
        "colab_type": "code",
        "id": "S_1_CbatN_Kt",
        "outputId": "d8463379-66d2-4e23-b7f6-687a0ad72ca1"
      },
      "outputs": [
        {
          "name": "stdout",
          "output_type": "stream",
          "text": [
            "Пример кусочка картинки (пиксели со значениями от 0 до 255):\n"
          ]
        },
        {
          "data": {
            "image/png": "[encoded data removed]",
            "text/plain": [
              "<Figure size 432x288 with 1 Axes>"
            ]
          },
          "metadata": {},
          "output_type": "display_data"
        },
        {
          "name": "stdout",
          "output_type": "stream",
          "text": [
            "Пример картинки:\n"
          ]
        },
        {
          "data": {
            "image/png": "[encoded data removed]",
            "text/plain": [
              "<Figure size 432x288 with 1 Axes>"
            ]
          },
          "metadata": {},
          "output_type": "display_data"
        },
        {
          "name": "stdout",
          "output_type": "stream",
          "text": [
            "y_train [shape (60000,)] 10 примеров:\n",
            " [5 0 4 1 9 2 1 3 1 4]\n"
          ]
        }
      ],
      "source": [
        "# нарисуем картинку\n",
        "plt.style.use(\"ggplot\")\n",
        "x_train_image = np.tile(x_train[5, :, :].reshape((28, 28))[:, :, np.newaxis], (1, 1, 3))\n",
        "print(\"Пример кусочка картинки (пиксели со значениями от 0 до 255):\")\n",
        "plt.imshow(x_train_image[15:20, 5:10], cmap=\"Greys\")\n",
        "plt.show()\n",
        "print(\"Пример картинки:\")\n",
        "plt.imshow(x_train_image, cmap=\"Greys\")\n",
        "plt.show()\n",
        "print(\"y_train [shape %s] 10 примеров:\\n\" % (str(y_train.shape)), y_train[:10])"
      ]
    },
    {
      "cell_type": "markdown",
      "metadata": {
        "colab_type": "text",
        "id": "wZ_4gaiqOPlR"
      },
      "source": [
        "# Линейная модель\n",
        "\n",
        "Линейная модель не умеет работать с двумерным входом, поэтому предлагается превратить картинку 28x28 в вектор длины 28*28=784, выписав ее построчно!\n",
        "\n",
        "<img src=\"https://camo.githubusercontent.com/f663cd4f29335972950dded4d422c07aeee8af55/68747470733a2f2f63646e2d696d616765732d312e6d656469756d2e636f6d2f6d61782f313630302f312a34473067737539327250684e2d636f397076315035414032782e706e67\" width=\"400\">\n"
      ]
    },
    {
      "cell_type": "code",
      "execution_count": 13,
      "metadata": {
        "colab": {
          "base_uri": "https://localhost:8080/",
          "height": 51
        },
        "colab_type": "code",
        "id": "VqB1Agb4OSwn",
        "outputId": "13f4c9d1-e617-4883-f2cf-28000cd21488"
      },
      "outputs": [
        {
          "name": "stdout",
          "output_type": "stream",
          "text": [
            "(60000, 784)\n",
            "(10000, 784)\n"
          ]
        }
      ],
      "source": [
        "x_train_flat = x_train.reshape(-1, 28 * 28).astype(float)\n",
        "print(x_train_flat.shape)\n",
        "\n",
        "x_val_flat = x_val.reshape(-1, 28 * 28).astype(float)\n",
        "print(x_val_flat.shape)"
      ]
    },
    {
      "cell_type": "code",
      "execution_count": 14,
      "metadata": {
        "colab": {},
        "colab_type": "code",
        "id": "0D5Yh8npubt9"
      },
      "outputs": [],
      "source": [
        "from sklearn.preprocessing import StandardScaler\n",
        "\n",
        "scaler = StandardScaler()\n",
        "x_train_flat = scaler.fit_transform(x_train_flat)\n",
        "x_val_flat = scaler.transform(x_val_flat)"
      ]
    },
    {
      "cell_type": "code",
      "execution_count": 15,
      "metadata": {
        "colab": {
          "base_uri": "https://localhost:8080/",
          "height": 153
        },
        "colab_type": "code",
        "id": "PPfvt_z8uzzA",
        "outputId": "331c0640-d2f7-4eb3-ca4c-c2d91e352d3a"
      },
      "outputs": [
        {
          "data": {
            "text/plain": [
              "array([ 0.        ,  0.        , -0.03059266, -0.00852241, -0.01408835,\n",
              "       -0.2625969 , -0.16124756,  0.        ,  1.71565971,  0.74933951,\n",
              "       -0.11300485, -0.19700703,  1.12192712,  0.27021375, -0.00577281,\n",
              "       -0.70132425,  1.64634567, -0.1273685 , -0.15382451, -0.19833719,\n",
              "       -0.70732309, -0.00477028, -0.60978718, -0.9194134 , -0.17786005,\n",
              "       -0.16833376,  0.65022085, -0.63188648,  0.        , -0.48806277,\n",
              "        1.17394853, -0.14774138, -0.07003976, -0.61257571,  3.52099754,\n",
              "        0.        , -0.09396514, -0.1826269 , -0.00579016,  0.        ])"
            ]
          },
          "execution_count": 15,
          "metadata": {},
          "output_type": "execute_result"
        }
      ],
      "source": [
        "# кусочек фичей\n",
        "x_train_flat[0, ::20]"
      ]
    },
    {
      "cell_type": "code",
      "execution_count": 17,
      "metadata": {
        "colab": {
          "base_uri": "https://localhost:8080/",
          "height": 105
        },
        "colab_type": "code",
        "id": "TOfQsfBHPh0Z",
        "outputId": "35b6c8f8-6bbb-4201-f8d4-960ee4b8f999"
      },
      "outputs": [
        {
          "name": "stdout",
          "output_type": "stream",
          "text": [
            "CPU times: user 1min 51s, sys: 5.66 s, total: 1min 57s\n",
            "Wall time: 33 s\n"
          ]
        },
        {
          "name": "stderr",
          "output_type": "stream",
          "text": [
            "/Users/alexigna/projects/skillfactory/data science/skillfactory_rds/venv/lib/python3.8/site-packages/sklearn/linear_model/_logistic.py:814: ConvergenceWarning: lbfgs failed to converge (status=1):\n",
            "STOP: TOTAL NO. of ITERATIONS REACHED LIMIT.\n",
            "\n",
            "Increase the number of iterations (max_iter) or scale the data as shown in:\n",
            "    https://scikit-learn.org/stable/modules/preprocessing.html\n",
            "Please also refer to the documentation for alternative solver options:\n",
            "    https://scikit-learn.org/stable/modules/linear_model.html#logistic-regression\n",
            "  n_iter_i = _check_optimize_result(\n"
          ]
        },
        {
          "data": {
            "text/plain": [
              "LogisticRegression(max_iter=200, multi_class='multinomial')"
            ]
          },
          "execution_count": 17,
          "metadata": {},
          "output_type": "execute_result"
        }
      ],
      "source": [
        "%%time\n",
        "# обучаем линейную модель, обучается градиентными методами оптимизации\n",
        "from sklearn.linear_model import LogisticRegression\n",
        "\n",
        "clf = LogisticRegression(\n",
        "    max_iter=200,\n",
        "    multi_class=\"multinomial\",\n",
        "    solver=\"lbfgs\",\n",
        ")\n",
        "clf.fit(x_train_flat, y_train)"
      ]
    },
    {
      "cell_type": "code",
      "execution_count": 18,
      "metadata": {
        "colab": {
          "base_uri": "https://localhost:8080/",
          "height": 34
        },
        "colab_type": "code",
        "id": "VAo61IJMQF1t",
        "outputId": "3c23adfb-cdb3-4624-fa14-57cbdda57987"
      },
      "outputs": [
        {
          "data": {
            "text/plain": [
              "0.9219"
            ]
          },
          "execution_count": 18,
          "metadata": {},
          "output_type": "execute_result"
        }
      ],
      "source": [
        "# не так плохо работает!\n",
        "from sklearn.metrics import accuracy_score\n",
        "\n",
        "accuracy_score(y_val, clf.predict(x_val_flat))"
      ]
    },
    {
      "cell_type": "markdown",
      "metadata": {
        "colab_type": "text",
        "id": "1FWx3v7iQajc"
      },
      "source": [
        "# Градиентный бустинг\n",
        "\n",
        "<img src=\"https://www.researchgate.net/profile/Maria_Peraita-Adrados/publication/326379229/figure/fig5/AS:647978477948928@1531501516288/A-simple-example-of-visualizing-gradient-boosting_W640.jpg\" width=\"300\">\n",
        "\n",
        "Над деревьями делают бустинг и это алгоритм №1 на Kaggle! Проверим в нашей задаче!"
      ]
    },
    {
      "cell_type": "code",
      "execution_count": 19,
      "metadata": {
        "colab": {
          "base_uri": "https://localhost:8080/",
          "height": 238
        },
        "colab_type": "code",
        "id": "_0Dy7dGNQwlW",
        "outputId": "9bb7ccdb-ef67-47b8-dd7c-b2bb4974a5f2"
      },
      "outputs": [
        {
          "name": "stdout",
          "output_type": "stream",
          "text": [
            "      Iter       Train Loss      OOB Improve   Remaining Time \n",
            "         1           1.3367           0.9505            2.59m\n",
            "         2           1.0356           0.2978            2.27m\n",
            "         3           0.8603           0.1810            1.99m\n",
            "         4           0.7189           0.1283            1.73m\n",
            "         5           0.6367           0.0890            1.45m\n",
            "         6           0.5682           0.0610            1.16m\n",
            "         7           0.5132           0.0512           52.09s\n",
            "         8           0.4708           0.0450           34.73s\n",
            "         9           0.4305           0.0332           17.34s\n",
            "        10           0.4058           0.0258            0.00s\n",
            "CPU times: user 2min 49s, sys: 1.93 s, total: 2min 51s\n",
            "Wall time: 2min 53s\n"
          ]
        },
        {
          "data": {
            "text/plain": [
              "GradientBoostingClassifier(learning_rate=0.3, n_estimators=10, subsample=0.5,\n",
              "                           verbose=1)"
            ]
          },
          "execution_count": 19,
          "metadata": {},
          "output_type": "execute_result"
        }
      ],
      "source": [
        "%%time\n",
        "# очень долго работает (потому что алгоритм переборный)!\n",
        "from sklearn.ensemble import GradientBoostingClassifier\n",
        "\n",
        "clf = GradientBoostingClassifier(\n",
        "    learning_rate=0.3,\n",
        "    n_estimators=10,\n",
        "    verbose=1,\n",
        "    subsample=0.5,\n",
        ")\n",
        "clf.fit(x_train_flat, y_train)"
      ]
    },
    {
      "cell_type": "code",
      "execution_count": 20,
      "metadata": {
        "colab": {
          "base_uri": "https://localhost:8080/",
          "height": 34
        },
        "colab_type": "code",
        "id": "lLYqL37qQ9ux",
        "outputId": "e872d0f9-21dd-42ce-cf86-0fa15a52a3fa"
      },
      "outputs": [
        {
          "data": {
            "text/plain": [
              "0.8899"
            ]
          },
          "execution_count": 20,
          "metadata": {},
          "output_type": "execute_result"
        }
      ],
      "source": [
        "# качество так себе, а если картинка будет 300x300 это будет еще и вечность работать!\n",
        "accuracy_score(y_val, clf.predict(x_val_flat))"
      ]
    },
    {
      "cell_type": "markdown",
      "metadata": {
        "colab_type": "text",
        "id": "n8jUd6IORgQh"
      },
      "source": [
        "# Нейросети\n",
        "\n",
        "Соберем сложную функцию как комбинацию простых линейных моделей (например, логистических регрессий):\n",
        "\n",
        "<img src=\"https://cdn-images-1.medium.com/max/1600/1*Gh5PS4R_A5drl5ebd_gNrg@2x.png\" width=\"300\">\n",
        "\n",
        "Для оптимизации всех параметров нам не нужен перебор, мы можем честно посчитать производную потерь по каждому параметру и чуточку их подвинуть! Это работает очень быстро!\n"
      ]
    },
    {
      "cell_type": "code",
      "execution_count": 34,
      "metadata": {
        "colab": {
          "base_uri": "https://localhost:8080/",
          "height": 105
        },
        "colab_type": "code",
        "id": "sJHszdc1Ri1m",
        "outputId": "63e05ec0-6fc5-4d88-8c33-95d0f1dc7338"
      },
      "outputs": [
        {
          "data": {
            "text/plain": [
              "0.976"
            ]
          },
          "execution_count": 34,
          "metadata": {},
          "output_type": "execute_result"
        }
      ],
      "source": [
        "# %%time\n",
        "from sklearn.neural_network import MLPClassifier  # многослойный персептрон (просто много полносвязных слоев)\n",
        "\n",
        "clf = MLPClassifier(\n",
        "    hidden_layer_sizes=(150,100,50),\n",
        "    # solver=\"lbfgs\",\n",
        "    max_iter=50,\n",
        "    random_state=0,\n",
        ")\n",
        "clf.fit(x_train_flat, y_train)\n",
        "accuracy_score(y_val, clf.predict(x_val_flat))"
      ]
    },
    {
      "cell_type": "code",
      "execution_count": 32,
      "metadata": {
        "colab": {
          "base_uri": "https://localhost:8080/",
          "height": 34
        },
        "colab_type": "code",
        "id": "E44ErFPpSDIy",
        "outputId": "e98fccdc-8636-4e8b-c3ad-78d25cb9e153"
      },
      "outputs": [
        {
          "data": {
            "text/plain": [
              "0.9744"
            ]
          },
          "execution_count": 32,
          "metadata": {},
          "output_type": "execute_result"
        }
      ],
      "source": [
        "# качество выше линейной модели, скорость на высоте!\n",
        "# будем копать в сторону нейросетей!\n",
        "accuracy_score(y_val, clf.predict(x_val_flat))"
      ]
    },
    {
      "cell_type": "code",
      "execution_count": null,
      "metadata": {
        "colab": {},
        "colab_type": "code",
        "id": "e3p6CJJXW9f4"
      },
      "outputs": [],
      "source": []
    }
  ],
  "metadata": {
    "colab": {
      "collapsed_sections": [],
      "name": "mnist_intro.ipynb",
      "provenance": [],
      "version": "0.3.2"
    },
    "kernelspec": {
      "display_name": "Python 3",
      "name": "python3"
    },
    "language_info": {
      "codemirror_mode": {
        "name": "ipython",
        "version": 3
      },
      "file_extension": ".py",
      "mimetype": "text/x-python",
      "name": "python",
      "nbconvert_exporter": "python",
      "pygments_lexer": "ipython3",
      "version": "3.8.9"
    }
  },
  "nbformat": 4,
  "nbformat_minor": 0
}
