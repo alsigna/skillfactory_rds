{
 "cells": [
  {
   "cell_type": "code",
   "execution_count": 1,
   "metadata": {},
   "outputs": [],
   "source": [
    "# подгрузим необходимые модули\n",
    "import matplotlib.pyplot as plt\n",
    "import numpy as np\n",
    "import pandas as pd\n",
    "import pandas_profiling\n",
    "from IPython.display import display\n",
    "from sklearn.feature_selection import f_classif, mutual_info_classif\n",
    "from sklearn.linear_model import LogisticRegression\n",
    "from sklearn.metrics import (ConfusionMatrixDisplay, accuracy_score,\n",
    "                             confusion_matrix, f1_score,\n",
    "                             precision_score, recall_score, roc_auc_score,\n",
    "                             roc_curve)\n",
    "from sklearn.model_selection import GridSearchCV, train_test_split\n",
    "from sklearn.preprocessing import StandardScaler\n",
    "\n",
    "%matplotlib inline\n",
    "\n",
    "RANDOM_SEED = 42 # фиксируем рандом\n",
    "TEST_SIZE = 0.30 # размер валидационной выбоки\n"
   ]
  },
  {
   "cell_type": "code",
   "execution_count": 2,
   "metadata": {},
   "outputs": [],
   "source": [
    "def describe_data(df):\n",
    "    \"\"\"сводная информация о датасете, описание параметров, пропуски, типы данных\n",
    "    \"\"\"\n",
    "    DESCR = {\n",
    "        \"client_id\": \"id клиента\",\n",
    "        \"app_date\": \"дата подачи\",\n",
    "        \"education\": \"образования\",\n",
    "        \"sex\": \"пол\",\n",
    "        \"age\": \"возраст\",\n",
    "        \"car\": \"автомобиль\",\n",
    "        \"car_type\": \"иномарка\",\n",
    "        \"decline_app_cnt\": \"отказы\",\n",
    "        \"good_work\": \"хорошая работа\",\n",
    "        \"score_bki\": \"балл БКИ\",\n",
    "        \"bki_request_cnt\": \"запросы БКИ\",\n",
    "        \"region_rating\": \"рейтинг региона\",\n",
    "        \"home_address\": \"домашний адрес\",\n",
    "        \"work_address\": \"рабочий адрес\",\n",
    "        \"income\": \"доход\",\n",
    "        \"sna\": \"связь с клиентами\",\n",
    "        \"first_time\": \"давность информации о человеке\",\n",
    "        \"foreign_passport\": \"загранпаспорт\",\n",
    "        \"default\": \"дефолт\",\n",
    "    }\n",
    "    display(\n",
    "        pd.concat(\n",
    "            [\n",
    "                pd.Series(list(DESCR.values()), index=list(DESCR.keys()), name=\"description\"),\n",
    "                pd.Series(df.isnull().sum(), name=\"missed\"),\n",
    "                pd.Series(df.dtypes, name=\"type\"),\n",
    "                pd.Series(df.nunique(), name=\"nunique\"),\n",
    "                pd.Series([df[col].unique()[:5] for col in df.columns], index=df.columns, name=\"unique values\"),\n",
    "            ],\n",
    "            axis=1,\n",
    "        )\n",
    "    )\n",
    "\n",
    "\n",
    "def transform_binary(df):\n",
    "    \"\"\"преобразование yes/no и m/f в 1 и 0\n",
    "    \"\"\"\n",
    "    yes_no = {\"N\": 0, \"Y\": 1, 0: 0, 1: 1}\n",
    "    gender = {\"M\": 0, \"F\": 1, 0: 0, 1: 1}\n",
    "    df.sex = df.sex.map(gender)\n",
    "    df.car = df.car.map(yes_no)\n",
    "    df.car_type = df.car_type.map(yes_no)\n",
    "    df.good_work = df.good_work.map(yes_no)\n",
    "    df.foreign_passport = df.foreign_passport.map(yes_no)\n",
    "\n",
    "\n",
    "def plot_roc_curve(y_true, y_score):\n",
    "    \"\"\"построение ROC кривой и подсчет AUC\n",
    "    \"\"\"\n",
    "    fpr, tpr, _ = roc_curve(y_true, y_score)\n",
    "    auc = roc_auc_score(y_true, y_score)\n",
    "    plt.figure()\n",
    "    plt.plot(fpr, tpr, lw=2, label=f\"Regression\")\n",
    "    plt.plot([0, 1], [0, 1], lw=2, label=\"Baseline\", linestyle=\"--\")\n",
    "    plt.title(f\"ROC curve (AUC = {round(auc, 3)})\")\n",
    "    plt.xlabel(\"False Positive Rate\")\n",
    "    plt.ylabel(\"True Positive Rate\")\n",
    "    plt.legend(loc=\"lower right\")\n",
    "    plt.show()\n",
    "\n",
    "\n",
    "def age_to_group(age):\n",
    "    \"\"\"разделение возраста на группы\n",
    "    \"\"\"\n",
    "    if age < 26:\n",
    "        return 1\n",
    "    elif 26 <= age < 36:\n",
    "        return 2\n",
    "    elif 36 <= age < 55:\n",
    "        return 3\n",
    "    else:\n",
    "        return 4\n",
    "\n",
    "\n",
    "def plot_cmatrix(y, y_pred):\n",
    "    \"\"\"построение confusion матрицы в абсолютных и нормализованных значениях\n",
    "    \"\"\"\n",
    "    _, axes = plt.subplots(1, 2, figsize=(15, 5))\n",
    "    labels = [0, 1]\n",
    "    cm = confusion_matrix(y, y_pred, labels=labels)\n",
    "    cm_norm = confusion_matrix(y, y_pred, labels=labels, normalize=\"all\")\n",
    "    # cm_norm = confusion_matrix(y, y_pred, labels=labels, normalize='pred')\n",
    "    disp = ConfusionMatrixDisplay(confusion_matrix=cm)\n",
    "    disp_norm = ConfusionMatrixDisplay(confusion_matrix=cm_norm)\n",
    "    disp.plot(ax=axes[0])\n",
    "    disp_norm.plot(ax=axes[1])\n",
    "    plt.show()\n",
    "\n",
    "\n",
    "def print_metrics(y_true, y_pred):\n",
    "    \"\"\"вывод метрик\n",
    "    \"\"\"\n",
    "    print(f\"accuracy: {round(accuracy_score(y_true,y_pred), 3)}\")\n",
    "    print(f\"precision: {round(precision_score(y_true,y_pred), 3)}\")\n",
    "    print(f\"recall_score: {round(recall_score(y_true,y_pred), 3)}\")\n",
    "    print(f\"f1_score: {round(f1_score(y_true,y_pred), 3)}\")\n"
   ]
  },
  {
   "cell_type": "code",
   "execution_count": 3,
   "metadata": {},
   "outputs": [
    {
     "data": {
      "text/html": [
       "<div>\n",
       "<style scoped>\n",
       "    .dataframe tbody tr th:only-of-type {\n",
       "        vertical-align: middle;\n",
       "    }\n",
       "\n",
       "    .dataframe tbody tr th {\n",
       "        vertical-align: top;\n",
       "    }\n",
       "\n",
       "    .dataframe thead th {\n",
       "        text-align: right;\n",
       "    }\n",
       "</style>\n",
       "<table border=\"1\" class=\"dataframe\">\n",
       "  <thead>\n",
       "    <tr style=\"text-align: right;\">\n",
       "      <th></th>\n",
       "      <th>description</th>\n",
       "      <th>missed</th>\n",
       "      <th>type</th>\n",
       "      <th>nunique</th>\n",
       "      <th>unique values</th>\n",
       "    </tr>\n",
       "  </thead>\n",
       "  <tbody>\n",
       "    <tr>\n",
       "      <th>client_id</th>\n",
       "      <td>id клиента</td>\n",
       "      <td>0</td>\n",
       "      <td>int64</td>\n",
       "      <td>73799</td>\n",
       "      <td>[25905, 63161, 25887, 16222, 101655]</td>\n",
       "    </tr>\n",
       "    <tr>\n",
       "      <th>app_date</th>\n",
       "      <td>дата подачи</td>\n",
       "      <td>0</td>\n",
       "      <td>object</td>\n",
       "      <td>120</td>\n",
       "      <td>[01FEB2014, 12MAR2014, 23JAN2014, 18APR2014, 1...</td>\n",
       "    </tr>\n",
       "    <tr>\n",
       "      <th>education</th>\n",
       "      <td>образования</td>\n",
       "      <td>307</td>\n",
       "      <td>object</td>\n",
       "      <td>5</td>\n",
       "      <td>[SCH, GRD, UGR, PGR, ACD]</td>\n",
       "    </tr>\n",
       "    <tr>\n",
       "      <th>sex</th>\n",
       "      <td>пол</td>\n",
       "      <td>0</td>\n",
       "      <td>object</td>\n",
       "      <td>2</td>\n",
       "      <td>[M, F]</td>\n",
       "    </tr>\n",
       "    <tr>\n",
       "      <th>age</th>\n",
       "      <td>возраст</td>\n",
       "      <td>0</td>\n",
       "      <td>int64</td>\n",
       "      <td>52</td>\n",
       "      <td>[62, 59, 25, 53, 48]</td>\n",
       "    </tr>\n",
       "    <tr>\n",
       "      <th>car</th>\n",
       "      <td>автомобиль</td>\n",
       "      <td>0</td>\n",
       "      <td>object</td>\n",
       "      <td>2</td>\n",
       "      <td>[Y, N]</td>\n",
       "    </tr>\n",
       "    <tr>\n",
       "      <th>car_type</th>\n",
       "      <td>иномарка</td>\n",
       "      <td>0</td>\n",
       "      <td>object</td>\n",
       "      <td>2</td>\n",
       "      <td>[Y, N]</td>\n",
       "    </tr>\n",
       "    <tr>\n",
       "      <th>decline_app_cnt</th>\n",
       "      <td>отказы</td>\n",
       "      <td>0</td>\n",
       "      <td>int64</td>\n",
       "      <td>21</td>\n",
       "      <td>[0, 2, 1, 3, 4]</td>\n",
       "    </tr>\n",
       "    <tr>\n",
       "      <th>good_work</th>\n",
       "      <td>хорошая работа</td>\n",
       "      <td>0</td>\n",
       "      <td>int64</td>\n",
       "      <td>2</td>\n",
       "      <td>[0, 1]</td>\n",
       "    </tr>\n",
       "    <tr>\n",
       "      <th>score_bki</th>\n",
       "      <td>балл БКИ</td>\n",
       "      <td>0</td>\n",
       "      <td>float64</td>\n",
       "      <td>69096</td>\n",
       "      <td>[-2.00875292, -1.53227621, -1.40814226, -2.057...</td>\n",
       "    </tr>\n",
       "    <tr>\n",
       "      <th>bki_request_cnt</th>\n",
       "      <td>запросы БКИ</td>\n",
       "      <td>0</td>\n",
       "      <td>int64</td>\n",
       "      <td>38</td>\n",
       "      <td>[1, 3, 2, 0, 4]</td>\n",
       "    </tr>\n",
       "    <tr>\n",
       "      <th>region_rating</th>\n",
       "      <td>рейтинг региона</td>\n",
       "      <td>0</td>\n",
       "      <td>int64</td>\n",
       "      <td>7</td>\n",
       "      <td>[50, 80, 60, 40, 70]</td>\n",
       "    </tr>\n",
       "    <tr>\n",
       "      <th>home_address</th>\n",
       "      <td>домашний адрес</td>\n",
       "      <td>0</td>\n",
       "      <td>int64</td>\n",
       "      <td>3</td>\n",
       "      <td>[1, 2, 3]</td>\n",
       "    </tr>\n",
       "    <tr>\n",
       "      <th>work_address</th>\n",
       "      <td>рабочий адрес</td>\n",
       "      <td>0</td>\n",
       "      <td>int64</td>\n",
       "      <td>3</td>\n",
       "      <td>[2, 3, 1]</td>\n",
       "    </tr>\n",
       "    <tr>\n",
       "      <th>income</th>\n",
       "      <td>доход</td>\n",
       "      <td>0</td>\n",
       "      <td>int64</td>\n",
       "      <td>966</td>\n",
       "      <td>[18000, 19000, 30000, 10000, 15000]</td>\n",
       "    </tr>\n",
       "    <tr>\n",
       "      <th>sna</th>\n",
       "      <td>связь с клиентами</td>\n",
       "      <td>0</td>\n",
       "      <td>int64</td>\n",
       "      <td>4</td>\n",
       "      <td>[4, 1, 2, 3]</td>\n",
       "    </tr>\n",
       "    <tr>\n",
       "      <th>first_time</th>\n",
       "      <td>давность информации о человеке</td>\n",
       "      <td>0</td>\n",
       "      <td>int64</td>\n",
       "      <td>4</td>\n",
       "      <td>[1, 4, 3, 2]</td>\n",
       "    </tr>\n",
       "    <tr>\n",
       "      <th>foreign_passport</th>\n",
       "      <td>загранпаспорт</td>\n",
       "      <td>0</td>\n",
       "      <td>object</td>\n",
       "      <td>2</td>\n",
       "      <td>[N, Y]</td>\n",
       "    </tr>\n",
       "    <tr>\n",
       "      <th>default</th>\n",
       "      <td>дефолт</td>\n",
       "      <td>0</td>\n",
       "      <td>int64</td>\n",
       "      <td>2</td>\n",
       "      <td>[0, 1]</td>\n",
       "    </tr>\n",
       "  </tbody>\n",
       "</table>\n",
       "</div>"
      ],
      "text/plain": [
       "                                     description  missed     type  nunique  \\\n",
       "client_id                             id клиента       0    int64    73799   \n",
       "app_date                             дата подачи       0   object      120   \n",
       "education                            образования     307   object        5   \n",
       "sex                                          пол       0   object        2   \n",
       "age                                      возраст       0    int64       52   \n",
       "car                                   автомобиль       0   object        2   \n",
       "car_type                                иномарка       0   object        2   \n",
       "decline_app_cnt                           отказы       0    int64       21   \n",
       "good_work                         хорошая работа       0    int64        2   \n",
       "score_bki                               балл БКИ       0  float64    69096   \n",
       "bki_request_cnt                      запросы БКИ       0    int64       38   \n",
       "region_rating                    рейтинг региона       0    int64        7   \n",
       "home_address                      домашний адрес       0    int64        3   \n",
       "work_address                       рабочий адрес       0    int64        3   \n",
       "income                                     доход       0    int64      966   \n",
       "sna                            связь с клиентами       0    int64        4   \n",
       "first_time        давность информации о человеке       0    int64        4   \n",
       "foreign_passport                   загранпаспорт       0   object        2   \n",
       "default                                   дефолт       0    int64        2   \n",
       "\n",
       "                                                      unique values  \n",
       "client_id                      [25905, 63161, 25887, 16222, 101655]  \n",
       "app_date          [01FEB2014, 12MAR2014, 23JAN2014, 18APR2014, 1...  \n",
       "education                                 [SCH, GRD, UGR, PGR, ACD]  \n",
       "sex                                                          [M, F]  \n",
       "age                                            [62, 59, 25, 53, 48]  \n",
       "car                                                          [Y, N]  \n",
       "car_type                                                     [Y, N]  \n",
       "decline_app_cnt                                     [0, 2, 1, 3, 4]  \n",
       "good_work                                                    [0, 1]  \n",
       "score_bki         [-2.00875292, -1.53227621, -1.40814226, -2.057...  \n",
       "bki_request_cnt                                     [1, 3, 2, 0, 4]  \n",
       "region_rating                                  [50, 80, 60, 40, 70]  \n",
       "home_address                                              [1, 2, 3]  \n",
       "work_address                                              [2, 3, 1]  \n",
       "income                          [18000, 19000, 30000, 10000, 15000]  \n",
       "sna                                                    [4, 1, 2, 3]  \n",
       "first_time                                             [1, 4, 3, 2]  \n",
       "foreign_passport                                             [N, Y]  \n",
       "default                                                      [0, 1]  "
      ]
     },
     "metadata": {},
     "output_type": "display_data"
    },
    {
     "data": {
      "text/html": [
       "<div>\n",
       "<style scoped>\n",
       "    .dataframe tbody tr th:only-of-type {\n",
       "        vertical-align: middle;\n",
       "    }\n",
       "\n",
       "    .dataframe tbody tr th {\n",
       "        vertical-align: top;\n",
       "    }\n",
       "\n",
       "    .dataframe thead th {\n",
       "        text-align: right;\n",
       "    }\n",
       "</style>\n",
       "<table border=\"1\" class=\"dataframe\">\n",
       "  <thead>\n",
       "    <tr style=\"text-align: right;\">\n",
       "      <th></th>\n",
       "      <th>description</th>\n",
       "      <th>missed</th>\n",
       "      <th>type</th>\n",
       "      <th>nunique</th>\n",
       "      <th>unique values</th>\n",
       "    </tr>\n",
       "  </thead>\n",
       "  <tbody>\n",
       "    <tr>\n",
       "      <th>client_id</th>\n",
       "      <td>id клиента</td>\n",
       "      <td>0.0</td>\n",
       "      <td>int64</td>\n",
       "      <td>36349.0</td>\n",
       "      <td>[74835, 17527, 75683, 26883, 28862]</td>\n",
       "    </tr>\n",
       "    <tr>\n",
       "      <th>app_date</th>\n",
       "      <td>дата подачи</td>\n",
       "      <td>0.0</td>\n",
       "      <td>object</td>\n",
       "      <td>120.0</td>\n",
       "      <td>[22MAR2014, 24JAN2014, 23MAR2014, 03FEB2014, 0...</td>\n",
       "    </tr>\n",
       "    <tr>\n",
       "      <th>education</th>\n",
       "      <td>образования</td>\n",
       "      <td>171.0</td>\n",
       "      <td>object</td>\n",
       "      <td>5.0</td>\n",
       "      <td>[GRD, SCH, UGR, PGR, nan]</td>\n",
       "    </tr>\n",
       "    <tr>\n",
       "      <th>sex</th>\n",
       "      <td>пол</td>\n",
       "      <td>0.0</td>\n",
       "      <td>object</td>\n",
       "      <td>2.0</td>\n",
       "      <td>[M, F]</td>\n",
       "    </tr>\n",
       "    <tr>\n",
       "      <th>age</th>\n",
       "      <td>возраст</td>\n",
       "      <td>0.0</td>\n",
       "      <td>int64</td>\n",
       "      <td>51.0</td>\n",
       "      <td>[29, 39, 50, 56, 38]</td>\n",
       "    </tr>\n",
       "    <tr>\n",
       "      <th>car</th>\n",
       "      <td>автомобиль</td>\n",
       "      <td>0.0</td>\n",
       "      <td>object</td>\n",
       "      <td>2.0</td>\n",
       "      <td>[Y, N]</td>\n",
       "    </tr>\n",
       "    <tr>\n",
       "      <th>car_type</th>\n",
       "      <td>иномарка</td>\n",
       "      <td>0.0</td>\n",
       "      <td>object</td>\n",
       "      <td>2.0</td>\n",
       "      <td>[Y, N]</td>\n",
       "    </tr>\n",
       "    <tr>\n",
       "      <th>decline_app_cnt</th>\n",
       "      <td>отказы</td>\n",
       "      <td>0.0</td>\n",
       "      <td>int64</td>\n",
       "      <td>19.0</td>\n",
       "      <td>[0, 5, 3, 1, 2]</td>\n",
       "    </tr>\n",
       "    <tr>\n",
       "      <th>good_work</th>\n",
       "      <td>хорошая работа</td>\n",
       "      <td>0.0</td>\n",
       "      <td>int64</td>\n",
       "      <td>2.0</td>\n",
       "      <td>[0, 1]</td>\n",
       "    </tr>\n",
       "    <tr>\n",
       "      <th>score_bki</th>\n",
       "      <td>балл БКИ</td>\n",
       "      <td>0.0</td>\n",
       "      <td>float64</td>\n",
       "      <td>34287.0</td>\n",
       "      <td>[-2.27188367, -1.50499915, -1.69133904, -2.374...</td>\n",
       "    </tr>\n",
       "    <tr>\n",
       "      <th>bki_request_cnt</th>\n",
       "      <td>запросы БКИ</td>\n",
       "      <td>0.0</td>\n",
       "      <td>int64</td>\n",
       "      <td>34.0</td>\n",
       "      <td>[3, 2, 1, 0, 7]</td>\n",
       "    </tr>\n",
       "    <tr>\n",
       "      <th>region_rating</th>\n",
       "      <td>рейтинг региона</td>\n",
       "      <td>0.0</td>\n",
       "      <td>int64</td>\n",
       "      <td>7.0</td>\n",
       "      <td>[50, 40, 80, 60, 70]</td>\n",
       "    </tr>\n",
       "    <tr>\n",
       "      <th>home_address</th>\n",
       "      <td>домашний адрес</td>\n",
       "      <td>0.0</td>\n",
       "      <td>int64</td>\n",
       "      <td>3.0</td>\n",
       "      <td>[1, 2, 3]</td>\n",
       "    </tr>\n",
       "    <tr>\n",
       "      <th>work_address</th>\n",
       "      <td>рабочий адрес</td>\n",
       "      <td>0.0</td>\n",
       "      <td>int64</td>\n",
       "      <td>3.0</td>\n",
       "      <td>[2, 3, 1]</td>\n",
       "    </tr>\n",
       "    <tr>\n",
       "      <th>income</th>\n",
       "      <td>доход</td>\n",
       "      <td>0.0</td>\n",
       "      <td>int64</td>\n",
       "      <td>685.0</td>\n",
       "      <td>[50000, 5000, 30000, 17000, 120000]</td>\n",
       "    </tr>\n",
       "    <tr>\n",
       "      <th>sna</th>\n",
       "      <td>связь с клиентами</td>\n",
       "      <td>0.0</td>\n",
       "      <td>int64</td>\n",
       "      <td>4.0</td>\n",
       "      <td>[1, 4, 2, 3]</td>\n",
       "    </tr>\n",
       "    <tr>\n",
       "      <th>first_time</th>\n",
       "      <td>давность информации о человеке</td>\n",
       "      <td>0.0</td>\n",
       "      <td>int64</td>\n",
       "      <td>4.0</td>\n",
       "      <td>[4, 3, 1, 2]</td>\n",
       "    </tr>\n",
       "    <tr>\n",
       "      <th>foreign_passport</th>\n",
       "      <td>загранпаспорт</td>\n",
       "      <td>0.0</td>\n",
       "      <td>object</td>\n",
       "      <td>2.0</td>\n",
       "      <td>[N, Y]</td>\n",
       "    </tr>\n",
       "    <tr>\n",
       "      <th>default</th>\n",
       "      <td>дефолт</td>\n",
       "      <td>NaN</td>\n",
       "      <td>NaN</td>\n",
       "      <td>NaN</td>\n",
       "      <td>NaN</td>\n",
       "    </tr>\n",
       "  </tbody>\n",
       "</table>\n",
       "</div>"
      ],
      "text/plain": [
       "                                     description  missed     type  nunique  \\\n",
       "client_id                             id клиента     0.0    int64  36349.0   \n",
       "app_date                             дата подачи     0.0   object    120.0   \n",
       "education                            образования   171.0   object      5.0   \n",
       "sex                                          пол     0.0   object      2.0   \n",
       "age                                      возраст     0.0    int64     51.0   \n",
       "car                                   автомобиль     0.0   object      2.0   \n",
       "car_type                                иномарка     0.0   object      2.0   \n",
       "decline_app_cnt                           отказы     0.0    int64     19.0   \n",
       "good_work                         хорошая работа     0.0    int64      2.0   \n",
       "score_bki                               балл БКИ     0.0  float64  34287.0   \n",
       "bki_request_cnt                      запросы БКИ     0.0    int64     34.0   \n",
       "region_rating                    рейтинг региона     0.0    int64      7.0   \n",
       "home_address                      домашний адрес     0.0    int64      3.0   \n",
       "work_address                       рабочий адрес     0.0    int64      3.0   \n",
       "income                                     доход     0.0    int64    685.0   \n",
       "sna                            связь с клиентами     0.0    int64      4.0   \n",
       "first_time        давность информации о человеке     0.0    int64      4.0   \n",
       "foreign_passport                   загранпаспорт     0.0   object      2.0   \n",
       "default                                   дефолт     NaN      NaN      NaN   \n",
       "\n",
       "                                                      unique values  \n",
       "client_id                       [74835, 17527, 75683, 26883, 28862]  \n",
       "app_date          [22MAR2014, 24JAN2014, 23MAR2014, 03FEB2014, 0...  \n",
       "education                                 [GRD, SCH, UGR, PGR, nan]  \n",
       "sex                                                          [M, F]  \n",
       "age                                            [29, 39, 50, 56, 38]  \n",
       "car                                                          [Y, N]  \n",
       "car_type                                                     [Y, N]  \n",
       "decline_app_cnt                                     [0, 5, 3, 1, 2]  \n",
       "good_work                                                    [0, 1]  \n",
       "score_bki         [-2.27188367, -1.50499915, -1.69133904, -2.374...  \n",
       "bki_request_cnt                                     [3, 2, 1, 0, 7]  \n",
       "region_rating                                  [50, 40, 80, 60, 70]  \n",
       "home_address                                              [1, 2, 3]  \n",
       "work_address                                              [2, 3, 1]  \n",
       "income                          [50000, 5000, 30000, 17000, 120000]  \n",
       "sna                                                    [1, 4, 2, 3]  \n",
       "first_time                                             [4, 3, 1, 2]  \n",
       "foreign_passport                                             [N, Y]  \n",
       "default                                                         NaN  "
      ]
     },
     "metadata": {},
     "output_type": "display_data"
    }
   ],
   "source": [
    "# загрузим данные и посмотрим их характеристику\n",
    "df_train = pd.read_csv(\"./train.csv\")\n",
    "df_test = pd.read_csv(\"./test.csv\")\n",
    "\n",
    "describe_data(df_train)\n",
    "describe_data(df_test)"
   ]
  },
  {
   "cell_type": "markdown",
   "metadata": {},
   "source": [
    "## Интуитивная модель"
   ]
  },
  {
   "cell_type": "markdown",
   "metadata": {},
   "source": [
    "Сделаем минимальную обработку данных:\n",
    "- дропнем пропуски в образовании\n",
    "- дропнем дату подачи анкеты\n",
    "- дропнем id клиента\n",
    "- категориальные признаки превратим в dummy, бинарные в 0/1\n",
    "\n",
    "и построим интуитивную модель"
   ]
  },
  {
   "cell_type": "code",
   "execution_count": 4,
   "metadata": {},
   "outputs": [],
   "source": [
    "df_first_look = df_train.copy()  # df для модификации\n",
    "df_first_look.drop([\"client_id\", \"app_date\"], axis=1, inplace=True)  # дропаем ненужные столбцы\n",
    "df_first_look.dropna(inplace=True)  # дропаем пропуски\n",
    "transform_binary(df_first_look)  # меняем  N/Y и F/M на 0/1\n",
    "df_first_look = pd.get_dummies(df_first_look, columns=[\"education\"])  # делаем dummy характеристики"
   ]
  },
  {
   "cell_type": "code",
   "execution_count": 5,
   "metadata": {},
   "outputs": [
    {
     "data": {
      "image/png": "[encoded data removed]",
      "text/plain": [
       "<Figure size 432x288 with 1 Axes>"
      ]
     },
     "metadata": {
      "needs_background": "light"
     },
     "output_type": "display_data"
    }
   ],
   "source": [
    "# бьем выборку, строим нативную модель и получем ROC\n",
    "X = df_first_look[list(set(df_first_look.columns) - set([\"default\"]))]\n",
    "y = df_first_look[\"default\"]\n",
    "X_train, X_val, y_train, y_val = train_test_split(X, y, test_size=TEST_SIZE, random_state=RANDOM_SEED)\n",
    "model = LogisticRegression(max_iter=1000)\n",
    "model.fit(X_train, y_train)\n",
    "y_proba = model.predict_proba(X_val)[:, 1]\n",
    "y_pred = model.predict(X_val)\n",
    "plot_roc_curve(y_val, y_proba)"
   ]
  },
  {
   "cell_type": "markdown",
   "metadata": {},
   "source": [
    "Данное значение AUC будем использовать как опорное значение"
   ]
  },
  {
   "cell_type": "code",
   "execution_count": 6,
   "metadata": {},
   "outputs": [
    {
     "name": "stdout",
     "output_type": "stream",
     "text": [
      "accuracy: 0.872\n",
      "precision: 0.489\n",
      "recall_score: 0.016\n",
      "f1_score: 0.03\n"
     ]
    },
    {
     "data": {
      "image/png": "[encoded data removed]",
      "text/plain": [
       "<Figure size 1080x360 with 4 Axes>"
      ]
     },
     "metadata": {
      "needs_background": "light"
     },
     "output_type": "display_data"
    }
   ],
   "source": [
    "print_metrics(y_val, y_pred)\n",
    "plot_cmatrix(y_val, y_pred)"
   ]
  },
  {
   "cell_type": "markdown",
   "metadata": {},
   "source": [
    "## Pandas профайл"
   ]
  },
  {
   "cell_type": "code",
   "execution_count": 7,
   "metadata": {},
   "outputs": [],
   "source": [
    "# сгерим отчет отчет по исходным данным\n",
    "# profile = pandas_profiling.ProfileReport(df_train, title=\"Profiling Report\")\n",
    "# profile.to_file(\"sf-credit-scoring-alexigna.html\")"
   ]
  },
  {
   "cell_type": "markdown",
   "metadata": {},
   "source": [
    "Что видим из отчета:\n",
    "1. client_id - в id клиента нет повторений и это просто идентификатор, его не будем включать в модель\n",
    "2. app_date - нужно преобразовать дату обращения в dt, что с ней делать пока не понятно, но как минимум разбить на сезоны и/или рабочий/выходной день был и сколько дней прошло с подачи;\n",
    "3. Бинарные признаки:\n",
    "    - sex - меняем на 0/1, как в нативной модели\n",
    "    - car - аналогично\n",
    "    - car_type - аналогично + по описанию это машина иномарка, значит нужно проверить, что 1 стоит только там, где car стоит 1.\n",
    "    - good_work - больше 80% не имееют хорошую работу, пока мыслей нет, оствляем как есть\n",
    "    - foreign_passport - меняем на 0/1\n",
    "4. Категориальные признаки\n",
    "    - education - пропуски в образовании (меньше 0.5%), в принципе можно удалить такой малый объем, с другой стороны у нас школа составляет более 50%, да и скорее всего есть у всех как минимальный уровень, поэтому просто заполним пропуски наиболее частым занчением. Потом в dummy преобразовать, как в нативной модели\n",
    "    - home_address - категориальный признак, с первого взгляда ничего можно не делать\n",
    "    - work_address - аналогично\n",
    "    - sna - аналогично\n",
    "    - first_time - аналогично\n",
    "5. Числовые признаки\n",
    "    - age - средний возраст 39.2 лет, минимум 21, максимум 72. Хвост смещен влево, будем брать логарифм. Так же можно ввести группы по возрасту: <=25, 26-35, 36-55, >=56.\n",
    "    - decline_app_cnt - хвост смещен влево - берем логарифм, + посколько больше 80% вообще не получало отказ, можно ввести доп признак, показывающий был ли хотя бы один отказ или нет\n",
    "    - score_bki - по графику красивое распределение\n",
    "    - bki_request_cnt - хвост смещен влево, берем логарифм, + я бы ввел еще один признак много/мало запросов. Скажем если  4 и более запросов, то это много. Вероятно человек бегает по банкам или у него проблемы с долгами\n",
    "    - region_rating - возможно шкала была от 0 до 100 и рейтинг с шагом 10,\n",
    "    - income - логарифмируем, + на текущих данных явно есть выбросы, посмотрим как будет на логарифмированных данных. Но предположительно можно ввести (или вообще заменить) income на диапазоны"
   ]
  },
  {
   "cell_type": "markdown",
   "metadata": {},
   "source": [
    "# Дата"
   ]
  },
  {
   "cell_type": "code",
   "execution_count": 8,
   "metadata": {},
   "outputs": [
    {
     "name": "stdout",
     "output_type": "stream",
     "text": [
      "3    21178\n",
      "2    18028\n",
      "4    17683\n",
      "1    16910\n",
      "Name: app_date, dtype: int64\n",
      "3    10419\n",
      "2     9069\n",
      "4     8583\n",
      "1     8278\n",
      "Name: app_date, dtype: int64\n"
     ]
    }
   ],
   "source": [
    "# преобразуем значение в dt формат\n",
    "df_train.app_date = pd.to_datetime(df_train.app_date, format=\"%d%b%Y\")\n",
    "df_test.app_date = pd.to_datetime(df_test.app_date, format=\"%d%b%Y\")\n",
    "\n",
    "# добавим признак выходных\n",
    "df_train[\"weekend\"] = (df_train.app_date.dt.weekday // 5 == 1).astype(int)\n",
    "df_test[\"weekend\"] = (df_test.app_date.dt.weekday // 5 == 1).astype(int)\n",
    "\n",
    "# посмотрим, какие месяцы есть в выборке, что бы понять, делать признак по кварталам/сезонам или оставлять месяцы\n",
    "print(df_train.app_date.dt.month.value_counts())\n",
    "print(df_test.app_date.dt.month.value_counts())\n",
    "\n",
    "# видно, что только 4 месяца есть, поэтому о кварталах/сезонах речь не идет, оставляем просто месяц\n",
    "df_train[\"month\"] = df_train.app_date.dt.month\n",
    "df_test[\"month\"] = df_test.app_date.dt.month"
   ]
  },
  {
   "cell_type": "markdown",
   "metadata": {},
   "source": [
    "# Бинарные признаки"
   ]
  },
  {
   "cell_type": "code",
   "execution_count": 9,
   "metadata": {},
   "outputs": [
    {
     "name": "stdout",
     "output_type": "stream",
     "text": [
      "0    49832\n",
      "Name: car_type, dtype: int64\n",
      "0    24458\n",
      "Name: car_type, dtype: int64\n"
     ]
    }
   ],
   "source": [
    "# bin_cols = [\"sex\", \"car\", \"car_type\", \"good_work\", \"foreign_passport\"]\n",
    "\n",
    "# преобразуем значения\n",
    "transform_binary(df_train)\n",
    "transform_binary(df_test)\n",
    "\n",
    "# проверим, что у нас нет иномарок, если нет машины вовсе\n",
    "print(df_train[df_train.car == 0].car_type.value_counts())\n",
    "print(df_test[df_test.car == 0].car_type.value_counts())\n"
   ]
  },
  {
   "cell_type": "markdown",
   "metadata": {},
   "source": [
    "# Категориальные признаки"
   ]
  },
  {
   "cell_type": "code",
   "execution_count": 10,
   "metadata": {},
   "outputs": [],
   "source": [
    "# cat_cols = [\"education\", \"home_address\", \"work_address\", \"sna\", \"first_time\"]"
   ]
  },
  {
   "cell_type": "code",
   "execution_count": 11,
   "metadata": {},
   "outputs": [],
   "source": [
    "# заполняем пропуски в образовании на наиболее популярное значение\n",
    "df_train.education.fillna(df_train.education.value_counts().index[0], inplace=True)\n",
    "df_test.education.fillna(df_train.education.value_counts().index[0], inplace=True)\n",
    "\n",
    "# делаем dummy характеристики из образования\n",
    "df_train = pd.get_dummies(df_train, columns=[\"education\"])\n",
    "df_test = pd.get_dummies(df_test, columns=[\"education\"])"
   ]
  },
  {
   "cell_type": "markdown",
   "metadata": {},
   "source": [
    "# Числовые признаки"
   ]
  },
  {
   "cell_type": "markdown",
   "metadata": {},
   "source": [
    "## age"
   ]
  },
  {
   "cell_type": "code",
   "execution_count": 12,
   "metadata": {},
   "outputs": [],
   "source": [
    "# добавим группу возраста\n",
    "df_train[\"age_gruop\"] = df_train.age.apply(age_to_group)\n",
    "df_test[\"age_gruop\"] = df_test.age.apply(age_to_group)\n",
    "\n",
    "# логарифмируем\n",
    "df_train[\"age_log\"] = df_train.age.apply(lambda age: np.log(age + 1))\n",
    "df_test[\"age_log\"] = df_test.age.apply(lambda age: np.log(age + 1))"
   ]
  },
  {
   "cell_type": "markdown",
   "metadata": {},
   "source": [
    "## decline_app_cnt"
   ]
  },
  {
   "cell_type": "code",
   "execution_count": 13,
   "metadata": {},
   "outputs": [],
   "source": [
    "# добавляем флаг хотя бы одного отказа\n",
    "df_train[\"decline\"] = (df_train.decline_app_cnt != 0).astype(int)\n",
    "df_test[\"decline\"] = (df_test.decline_app_cnt != 0).astype(int)\n",
    "\n",
    "# логарифмируем\n",
    "df_train[\"decline_log\"] = df_train.decline_app_cnt.apply(lambda decline: np.log(decline + 1))\n",
    "df_test[\"decline_log\"] = df_test.decline_app_cnt.apply(lambda decline: np.log(decline + 1))"
   ]
  },
  {
   "cell_type": "markdown",
   "metadata": {},
   "source": [
    "## bki_request_cnt"
   ]
  },
  {
   "cell_type": "code",
   "execution_count": 14,
   "metadata": {},
   "outputs": [],
   "source": [
    "# добавляем флаг большого числа запросов\n",
    "df_train[\"bki_request_many\"] = (df_train.bki_request_cnt >= 4).astype(int)\n",
    "df_test[\"bki_request_many\"] = (df_test.bki_request_cnt >= 4).astype(int)\n",
    "\n",
    "# логарифмируем\n",
    "df_train[\"bki_request_cnt_log\"] = df_train.bki_request_cnt.apply(lambda req: np.log(req + 1))\n",
    "df_test[\"bki_request_cnt_log\"] = df_test.bki_request_cnt.apply(lambda req: np.log(req + 1))"
   ]
  },
  {
   "cell_type": "markdown",
   "metadata": {},
   "source": [
    "## income"
   ]
  },
  {
   "cell_type": "code",
   "execution_count": 15,
   "metadata": {},
   "outputs": [],
   "source": [
    "# добавляем флаг большого дохода, взял Q3, 48000\n",
    "df_train[\"income_big\"] = (df_train.income >= 48000).astype(int)\n",
    "df_test[\"income_big\"] = (df_test.income >= 48000).astype(int)\n",
    "\n",
    "# логарифмируем\n",
    "df_train[\"income_log\"] = df_train.income.apply(lambda income: np.log(income + 1))\n",
    "df_test[\"income_log\"] = df_test.income.apply(lambda income: np.log(income + 1))"
   ]
  },
  {
   "cell_type": "markdown",
   "metadata": {},
   "source": [
    "# Оценим влияние числовых признаков"
   ]
  },
  {
   "cell_type": "code",
   "execution_count": 16,
   "metadata": {},
   "outputs": [
    {
     "data": {
      "text/plain": [
       "Text(0.5, 1.0, 'Significance of num variables')"
      ]
     },
     "execution_count": 16,
     "metadata": {},
     "output_type": "execute_result"
    },
    {
     "data": {
      "image/png": "[encoded data removed]",
      "text/plain": [
       "<Figure size 1080x216 with 1 Axes>"
      ]
     },
     "metadata": {
      "needs_background": "light"
     },
     "output_type": "display_data"
    }
   ],
   "source": [
    "imp_cols = [\n",
    "    \"age\",\n",
    "    \"age_log\",\n",
    "    \"decline_app_cnt\",\n",
    "    \"decline_log\",\n",
    "    \"score_bki\",\n",
    "    \"bki_request_cnt\",\n",
    "    \"bki_request_cnt_log\",\n",
    "    \"region_rating\",\n",
    "    \"income\",\n",
    "    \"income_log\",\n",
    "]\n",
    "\n",
    "imp_num = pd.Series(\n",
    "    f_classif(\n",
    "        df_train[imp_cols],\n",
    "        df_train[\"default\"],\n",
    "    )[0],\n",
    "    index=imp_cols,\n",
    ")\n",
    "imp_num.sort_values(inplace=True, ascending=False)\n",
    "imp_num.plot(kind=\"bar\", figsize=(15, 3))\n",
    "plt.title(\"Significance of num variables\")\n"
   ]
  },
  {
   "cell_type": "markdown",
   "metadata": {},
   "source": [
    "score_bki наиболее влиятельный параметр, логотифм от признаков тоже оказались с бОльшим влиянием, чем оригинальные признаки. Оставим их и сформируем целевой набор параметров."
   ]
  },
  {
   "cell_type": "code",
   "execution_count": 17,
   "metadata": {},
   "outputs": [],
   "source": [
    "num_cols = list(set(imp_cols) - {\"decline_app_cnt\", \"bki_request_cnt\", \"income\", \"age\"})\n",
    "final_cols = num_cols.copy()"
   ]
  },
  {
   "cell_type": "markdown",
   "metadata": {},
   "source": [
    "# Оценим влияние бинарных и категориальных признаков"
   ]
  },
  {
   "cell_type": "code",
   "execution_count": 18,
   "metadata": {},
   "outputs": [
    {
     "data": {
      "text/plain": [
       "<AxesSubplot:>"
      ]
     },
     "execution_count": 18,
     "metadata": {},
     "output_type": "execute_result"
    },
    {
     "data": {
      "image/png": "[encoded data removed]",
      "text/plain": [
       "<Figure size 1080x216 with 1 Axes>"
      ]
     },
     "metadata": {
      "needs_background": "light"
     },
     "output_type": "display_data"
    }
   ],
   "source": [
    "imp_cols = [\n",
    "    \"age_gruop\",\n",
    "    \"bki_request_many\",\n",
    "    \"car\",\n",
    "    \"car_type\",\n",
    "    \"decline\",\n",
    "    \"education_ACD\",\n",
    "    \"education_GRD\",\n",
    "    \"education_PGR\",\n",
    "    \"education_SCH\",\n",
    "    \"education_UGR\",\n",
    "    \"first_time\",\n",
    "    \"foreign_passport\",\n",
    "    \"good_work\",\n",
    "    \"home_address\",\n",
    "    \"work_address\",\n",
    "    \"income_big\",\n",
    "    \"month\",\n",
    "    \"weekend\",\n",
    "    \"sex\",\n",
    "    \"sna\",\n",
    "]\n",
    "\n",
    "imp_cat = pd.Series(\n",
    "    mutual_info_classif(\n",
    "        df_train[imp_cols],\n",
    "        df_train[\"default\"],\n",
    "        discrete_features=True,\n",
    "    ),\n",
    "    index=imp_cols,\n",
    ")\n",
    "imp_cat.sort_values(inplace=True, ascending=False)\n",
    "imp_cat.plot(kind=\"bar\", figsize=(15, 3))\n"
   ]
  },
  {
   "cell_type": "markdown",
   "metadata": {},
   "source": [
    "Тут уберем weekend, оказался не нужен, в отличии от месяца"
   ]
  },
  {
   "cell_type": "code",
   "execution_count": 19,
   "metadata": {},
   "outputs": [],
   "source": [
    "cat_cols = list(set(imp_cols) - {\"weekend\"})\n",
    "final_cols.extend(cat_cols)"
   ]
  },
  {
   "cell_type": "markdown",
   "metadata": {},
   "source": [
    "# Обучение модели"
   ]
  },
  {
   "cell_type": "code",
   "execution_count": 20,
   "metadata": {},
   "outputs": [],
   "source": [
    "# разбиение выборки на тестовую и валидационную\n",
    "X = df_train[final_cols]\n",
    "y = df_train[\"default\"]\n",
    "X_train, X_val, y_train, y_val = train_test_split(X, y, test_size=TEST_SIZE, random_state=RANDOM_SEED)\n",
    "\n",
    "# тестовые данные\n",
    "X_test = df_test[final_cols]"
   ]
  },
  {
   "cell_type": "code",
   "execution_count": 21,
   "metadata": {},
   "outputs": [],
   "source": [
    "# нормализация\n",
    "scaler = StandardScaler()\n",
    "scaler.fit(X_train)\n",
    "X_train = scaler.transform(X_train)\n",
    "X_val = scaler.transform(X_val)\n",
    "X_test = scaler.transform(X_test)"
   ]
  },
  {
   "cell_type": "code",
   "execution_count": 22,
   "metadata": {},
   "outputs": [
    {
     "data": {
      "image/png": "[encoded data removed]",
      "text/plain": [
       "<Figure size 432x288 with 1 Axes>"
      ]
     },
     "metadata": {
      "needs_background": "light"
     },
     "output_type": "display_data"
    }
   ],
   "source": [
    "# обучаем модель и стром ROC кривую\n",
    "model = LogisticRegression(max_iter=1000)\n",
    "model.fit(X_train, y_train)\n",
    "y_proba = model.predict_proba(X_val)[:, 1]\n",
    "y_pred = model.predict(X_val)\n",
    "plot_roc_curve(y_val, y_proba)"
   ]
  },
  {
   "cell_type": "markdown",
   "metadata": {},
   "source": [
    "значение AUC получилось немного лучше, посмотрим еще на confusion matrix и метрики"
   ]
  },
  {
   "cell_type": "code",
   "execution_count": 23,
   "metadata": {},
   "outputs": [
    {
     "name": "stdout",
     "output_type": "stream",
     "text": [
      "accuracy: 0.873\n",
      "precision: 0.416\n",
      "recall_score: 0.024\n",
      "f1_score: 0.046\n"
     ]
    },
    {
     "data": {
      "image/png": "[encoded data removed]",
      "text/plain": [
       "<Figure size 1080x360 with 4 Axes>"
      ]
     },
     "metadata": {
      "needs_background": "light"
     },
     "output_type": "display_data"
    }
   ],
   "source": [
    "print_metrics(y_val, y_pred)\n",
    "plot_cmatrix(y_val, y_pred)"
   ]
  },
  {
   "cell_type": "markdown",
   "metadata": {},
   "source": [
    "12% предсказанных как не-дефолт, на самом деле оказались плохими заемщиками, это прямые потери, поэтом попробуем добавить региляризацию"
   ]
  },
  {
   "cell_type": "markdown",
   "metadata": {},
   "source": [
    "# Регуляризация"
   ]
  },
  {
   "cell_type": "code",
   "execution_count": 24,
   "metadata": {},
   "outputs": [
    {
     "name": "stdout",
     "output_type": "stream",
     "text": [
      "Лучшее C: 0.01\n",
      "Лучшей solver: liblinear\n"
     ]
    }
   ],
   "source": [
    "hyperparameters = {\n",
    "    \"C\": [0.01, 0.1, 1, 10, 100],\n",
    "    \"solver\": [\"lbfgs\", \"liblinear\", \"sag\", \"saga\"],\n",
    "}\n",
    "\n",
    "model = LogisticRegression(penalty=\"l2\", max_iter=1000, class_weight=\"balanced\")\n",
    "model.fit(X_train, y_train)\n",
    "\n",
    "clf = GridSearchCV(model, hyperparameters, cv=5, verbose=0, scoring=\"f1\")\n",
    "\n",
    "best_model = clf.fit(X_train, y_train)\n",
    "\n",
    "print(\"Лучшее C:\", best_model.best_estimator_.get_params()[\"C\"])\n",
    "print(\"Лучшей solver:\", best_model.best_estimator_.get_params()[\"solver\"])\n"
   ]
  },
  {
   "cell_type": "markdown",
   "metadata": {},
   "source": [
    "Используем полученные параметры и посмотрим на модель"
   ]
  },
  {
   "cell_type": "code",
   "execution_count": 25,
   "metadata": {},
   "outputs": [
    {
     "data": {
      "image/png": "[encoded data removed]",
      "text/plain": [
       "<Figure size 432x288 with 1 Axes>"
      ]
     },
     "metadata": {
      "needs_background": "light"
     },
     "output_type": "display_data"
    }
   ],
   "source": [
    "params = best_model.best_estimator_.get_params()\n",
    "model = LogisticRegression(**params)\n",
    "model.fit(X_train, y_train)\n",
    "y_proba = model.predict_proba(X_val)[:, 1]\n",
    "y_pred = model.predict(X_val)\n",
    "plot_roc_curve(y_val, y_proba)"
   ]
  },
  {
   "cell_type": "markdown",
   "metadata": {},
   "source": [
    "AUC не поменялся, посмотрим на confusion matrix и метрики"
   ]
  },
  {
   "cell_type": "code",
   "execution_count": 26,
   "metadata": {},
   "outputs": [
    {
     "name": "stdout",
     "output_type": "stream",
     "text": [
      "accuracy: 0.668\n",
      "precision: 0.226\n",
      "recall_score: 0.68\n",
      "f1_score: 0.34\n"
     ]
    },
    {
     "data": {
      "image/png": "[encoded data removed]",
      "text/plain": [
       "<Figure size 1080x360 with 4 Axes>"
      ]
     },
     "metadata": {
      "needs_background": "light"
     },
     "output_type": "display_data"
    }
   ],
   "source": [
    "print_metrics(y_val, y_pred)\n",
    "plot_cmatrix(y_val, y_pred)"
   ]
  },
  {
   "cell_type": "markdown",
   "metadata": {},
   "source": [
    "В этом случае доля FN упала до 0.4%, что значительно луше. Но за счет увеличения FP, т.е. за счет бОльшего числа отказов хорошим клиентам."
   ]
  },
  {
   "cell_type": "markdown",
   "metadata": {},
   "source": [
    "# Submission"
   ]
  },
  {
   "cell_type": "code",
   "execution_count": 27,
   "metadata": {},
   "outputs": [],
   "source": [
    "y_proba_test = model.predict_proba(X_test)[:, 1]\n",
    "y_pred_test = model.predict(X_test)\n",
    "\n",
    "submission = df_test[[\"client_id\"]].copy()\n",
    "submission[\"default\"] = y_proba_test\n",
    "submission.to_csv(\"submission.csv\", index=False)"
   ]
  }
 ],
 "metadata": {
  "interpreter": {
   "hash": "265455998716544771fe8f8e46d3bc336b7ce25fc2914091372dd288abc92a2d"
  },
  "kernelspec": {
   "display_name": "Python 3.8.2 64-bit ('venv': venv)",
   "name": "python3"
  },
  "language_info": {
   "codemirror_mode": {
    "name": "ipython",
    "version": 3
   },
   "file_extension": ".py",
   "mimetype": "text/x-python",
   "name": "python",
   "nbconvert_exporter": "python",
   "pygments_lexer": "ipython3",
   "version": "3.8.2"
  },
  "orig_nbformat": 4
 },
 "nbformat": 4,
 "nbformat_minor": 2
}
