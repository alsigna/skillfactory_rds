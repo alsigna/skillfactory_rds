{
 "cells": [
  {
   "cell_type": "code",
   "execution_count": 1,
   "metadata": {},
   "outputs": [],
   "source": [
    "import pandas as pd\n",
    "import matplotlib.pyplot as plt\n",
    "import numpy as np\n",
    "import random\n",
    "\n",
    "from sklearn.ensemble import RandomForestClassifier\n",
    "from sklearn.model_selection import train_test_split\n",
    "\n",
    "from sklearn.metrics import confusion_matrix\n",
    "from sklearn.metrics import roc_curve, auc\n",
    "from math import isnan\n",
    "\n",
    "plt.style.use(\"ggplot\")"
   ]
  },
  {
   "cell_type": "code",
   "execution_count": 2,
   "metadata": {},
   "outputs": [
    {
     "name": "stdout",
     "output_type": "stream",
     "text": [
      "len(data) = 10792\n"
     ]
    },
    {
     "data": {
      "text/html": [
       "<div>\n",
       "<style scoped>\n",
       "    .dataframe tbody tr th:only-of-type {\n",
       "        vertical-align: middle;\n",
       "    }\n",
       "\n",
       "    .dataframe tbody tr th {\n",
       "        vertical-align: top;\n",
       "    }\n",
       "\n",
       "    .dataframe thead th {\n",
       "        text-align: right;\n",
       "    }\n",
       "</style>\n",
       "<table border=\"1\" class=\"dataframe\">\n",
       "  <thead>\n",
       "    <tr style=\"text-align: right;\">\n",
       "      <th></th>\n",
       "      <th>unixtime</th>\n",
       "      <th>open</th>\n",
       "      <th>high</th>\n",
       "      <th>low</th>\n",
       "      <th>close</th>\n",
       "      <th>vol</th>\n",
       "      <th>ts</th>\n",
       "    </tr>\n",
       "  </thead>\n",
       "  <tbody>\n",
       "    <tr>\n",
       "      <th>39280</th>\n",
       "      <td>1518220800000000000</td>\n",
       "      <td>1316.7</td>\n",
       "      <td>1317.1</td>\n",
       "      <td>1316.7</td>\n",
       "      <td>1317.0</td>\n",
       "      <td>259</td>\n",
       "      <td>2018-02-10 00:00:00</td>\n",
       "    </tr>\n",
       "    <tr>\n",
       "      <th>39281</th>\n",
       "      <td>1518220860000000000</td>\n",
       "      <td>1317.0</td>\n",
       "      <td>1317.0</td>\n",
       "      <td>1316.6</td>\n",
       "      <td>1316.7</td>\n",
       "      <td>103</td>\n",
       "      <td>2018-02-10 00:01:00</td>\n",
       "    </tr>\n",
       "    <tr>\n",
       "      <th>39282</th>\n",
       "      <td>1518220920000000000</td>\n",
       "      <td>1316.8</td>\n",
       "      <td>1317.1</td>\n",
       "      <td>1316.7</td>\n",
       "      <td>1317.1</td>\n",
       "      <td>139</td>\n",
       "      <td>2018-02-10 00:02:00</td>\n",
       "    </tr>\n",
       "    <tr>\n",
       "      <th>39283</th>\n",
       "      <td>1518220980000000000</td>\n",
       "      <td>1317.0</td>\n",
       "      <td>1317.6</td>\n",
       "      <td>1317.0</td>\n",
       "      <td>1317.5</td>\n",
       "      <td>198</td>\n",
       "      <td>2018-02-10 00:03:00</td>\n",
       "    </tr>\n",
       "    <tr>\n",
       "      <th>39284</th>\n",
       "      <td>1518221040000000000</td>\n",
       "      <td>1317.6</td>\n",
       "      <td>1318.3</td>\n",
       "      <td>1317.6</td>\n",
       "      <td>1318.1</td>\n",
       "      <td>218</td>\n",
       "      <td>2018-02-10 00:04:00</td>\n",
       "    </tr>\n",
       "  </tbody>\n",
       "</table>\n",
       "</div>"
      ],
      "text/plain": [
       "                  unixtime    open    high     low   close  vol  \\\n",
       "39280  1518220800000000000  1316.7  1317.1  1316.7  1317.0  259   \n",
       "39281  1518220860000000000  1317.0  1317.0  1316.6  1316.7  103   \n",
       "39282  1518220920000000000  1316.8  1317.1  1316.7  1317.1  139   \n",
       "39283  1518220980000000000  1317.0  1317.6  1317.0  1317.5  198   \n",
       "39284  1518221040000000000  1317.6  1318.3  1317.6  1318.1  218   \n",
       "\n",
       "                       ts  \n",
       "39280 2018-02-10 00:00:00  \n",
       "39281 2018-02-10 00:01:00  \n",
       "39282 2018-02-10 00:02:00  \n",
       "39283 2018-02-10 00:03:00  \n",
       "39284 2018-02-10 00:04:00  "
      ]
     },
     "execution_count": 2,
     "metadata": {},
     "output_type": "execute_result"
    }
   ],
   "source": [
    "data = pd.read_csv(\"./data/gold_clean.csv\")\n",
    "data = data.rename(columns={\"ts\": \"unixtime\"})\n",
    "data[\"ts\"] = pd.to_datetime(data.unixtime)\n",
    "data = data[(data.ts >= \"2018-02-10\") & (data.ts <= \"2018-02-22\")]\n",
    "\n",
    "print(f\"len(data) = {len(data)}\")\n",
    "data.head()"
   ]
  },
  {
   "cell_type": "markdown",
   "metadata": {},
   "source": [
    "Сделайте линейное (последовательное) разбиение, используя функцию np.split, в качестве коэффициента разбиения возьмите 0.6 (60% - тренировочный сет, 40% - тестовый). Укажите значение объёма (vol) первой строки тестового сета.\n",
    "\n"
   ]
  },
  {
   "cell_type": "code",
   "execution_count": 7,
   "metadata": {},
   "outputs": [
    {
     "data": {
      "text/plain": [
       "934"
      ]
     },
     "execution_count": 7,
     "metadata": {},
     "output_type": "execute_result"
    }
   ],
   "source": [
    "train, test = np.split(data, [int(0.6 * data.shape[0])])\n",
    "test.iloc[0].vol\n"
   ]
  },
  {
   "cell_type": "markdown",
   "metadata": {},
   "source": [
    "Напишите фунцкию множественного разбиения, используя np.array_split и pd.concat. Сделайте разбиение на пять частей, используйте три из них для тренировочного сета. Укажите значение объёма (vol) последней строки тренировочного сета.\n",
    "\n"
   ]
  },
  {
   "cell_type": "code",
   "execution_count": 10,
   "metadata": {},
   "outputs": [
    {
     "data": {
      "text/html": [
       "<div>\n",
       "<style scoped>\n",
       "    .dataframe tbody tr th:only-of-type {\n",
       "        vertical-align: middle;\n",
       "    }\n",
       "\n",
       "    .dataframe tbody tr th {\n",
       "        vertical-align: top;\n",
       "    }\n",
       "\n",
       "    .dataframe thead th {\n",
       "        text-align: right;\n",
       "    }\n",
       "</style>\n",
       "<table border=\"1\" class=\"dataframe\">\n",
       "  <thead>\n",
       "    <tr style=\"text-align: right;\">\n",
       "      <th></th>\n",
       "      <th>unixtime</th>\n",
       "      <th>open</th>\n",
       "      <th>high</th>\n",
       "      <th>low</th>\n",
       "      <th>close</th>\n",
       "      <th>vol</th>\n",
       "      <th>ts</th>\n",
       "    </tr>\n",
       "  </thead>\n",
       "  <tbody>\n",
       "    <tr>\n",
       "      <th>45750</th>\n",
       "      <td>1518800160000000000</td>\n",
       "      <td>1358.3</td>\n",
       "      <td>1358.9</td>\n",
       "      <td>1358.2</td>\n",
       "      <td>1358.7</td>\n",
       "      <td>344</td>\n",
       "      <td>2018-02-16 16:56:00</td>\n",
       "    </tr>\n",
       "    <tr>\n",
       "      <th>45751</th>\n",
       "      <td>1518800220000000000</td>\n",
       "      <td>1358.7</td>\n",
       "      <td>1358.7</td>\n",
       "      <td>1358.2</td>\n",
       "      <td>1358.2</td>\n",
       "      <td>244</td>\n",
       "      <td>2018-02-16 16:57:00</td>\n",
       "    </tr>\n",
       "    <tr>\n",
       "      <th>45752</th>\n",
       "      <td>1518800280000000000</td>\n",
       "      <td>1358.2</td>\n",
       "      <td>1358.4</td>\n",
       "      <td>1358.2</td>\n",
       "      <td>1358.2</td>\n",
       "      <td>100</td>\n",
       "      <td>2018-02-16 16:58:00</td>\n",
       "    </tr>\n",
       "    <tr>\n",
       "      <th>45753</th>\n",
       "      <td>1518800340000000000</td>\n",
       "      <td>1358.2</td>\n",
       "      <td>1358.4</td>\n",
       "      <td>1358.0</td>\n",
       "      <td>1358.2</td>\n",
       "      <td>293</td>\n",
       "      <td>2018-02-16 16:59:00</td>\n",
       "    </tr>\n",
       "    <tr>\n",
       "      <th>45754</th>\n",
       "      <td>1518800400000000000</td>\n",
       "      <td>1358.3</td>\n",
       "      <td>1358.3</td>\n",
       "      <td>1357.8</td>\n",
       "      <td>1358.0</td>\n",
       "      <td>143</td>\n",
       "      <td>2018-02-16 17:00:00</td>\n",
       "    </tr>\n",
       "  </tbody>\n",
       "</table>\n",
       "</div>"
      ],
      "text/plain": [
       "                  unixtime    open    high     low   close  vol  \\\n",
       "45750  1518800160000000000  1358.3  1358.9  1358.2  1358.7  344   \n",
       "45751  1518800220000000000  1358.7  1358.7  1358.2  1358.2  244   \n",
       "45752  1518800280000000000  1358.2  1358.4  1358.2  1358.2  100   \n",
       "45753  1518800340000000000  1358.2  1358.4  1358.0  1358.2  293   \n",
       "45754  1518800400000000000  1358.3  1358.3  1357.8  1358.0  143   \n",
       "\n",
       "                       ts  \n",
       "45750 2018-02-16 16:56:00  \n",
       "45751 2018-02-16 16:57:00  \n",
       "45752 2018-02-16 16:58:00  \n",
       "45753 2018-02-16 16:59:00  \n",
       "45754 2018-02-16 17:00:00  "
      ]
     },
     "execution_count": 10,
     "metadata": {},
     "output_type": "execute_result"
    }
   ],
   "source": [
    "train, test = np.split(data, [int(0.6 * data.shape[0])])\n",
    "# train.tail()\n"
   ]
  },
  {
   "cell_type": "code",
   "execution_count": 13,
   "metadata": {},
   "outputs": [
    {
     "data": {
      "text/plain": [
       "934"
      ]
     },
     "execution_count": 13,
     "metadata": {},
     "output_type": "execute_result"
    }
   ],
   "source": [
    "np.array_split(data, 5)[2].iloc[-1].vol\n"
   ]
  },
  {
   "cell_type": "markdown",
   "metadata": {},
   "source": [
    "Напишите функцию walk forward разбиения. Запустите её с параметрами n_splits=10, n_train=3, n_test=1, fold=1, укажите значение последнего элемента unixtime тестового сета.\n"
   ]
  },
  {
   "cell_type": "code",
   "execution_count": 14,
   "metadata": {},
   "outputs": [
    {
     "data": {
      "text/plain": [
       "1518667200000000000"
      ]
     },
     "execution_count": 14,
     "metadata": {},
     "output_type": "execute_result"
    }
   ],
   "source": [
    "np.array_split(data, 10)[3].iloc[-1].unixtime"
   ]
  }
 ],
 "metadata": {
  "interpreter": {
   "hash": "550056ff3b6c24ef08b20d0608428d73c2737dc12cdd6267fe4ea38c5eab2d02"
  },
  "kernelspec": {
   "display_name": "Python 3.8.9 ('venv': venv)",
   "language": "python",
   "name": "python3"
  },
  "language_info": {
   "codemirror_mode": {
    "name": "ipython",
    "version": 3
   },
   "file_extension": ".py",
   "mimetype": "text/x-python",
   "name": "python",
   "nbconvert_exporter": "python",
   "pygments_lexer": "ipython3",
   "version": "3.8.9"
  },
  "orig_nbformat": 4
 },
 "nbformat": 4,
 "nbformat_minor": 2
}
