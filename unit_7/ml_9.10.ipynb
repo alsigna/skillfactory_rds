{
 "cells": [
  {
   "cell_type": "code",
   "execution_count": 1,
   "metadata": {},
   "outputs": [],
   "source": [
    "import pandas as pd\n",
    "import numpy as np\n",
    "import surprise\n",
    "import apyori\n",
    "# from surprise.prediction_algorithms.knns import KNNBasic\n",
    "from surprise import KNNBasic, SVD\n",
    "from surprise.accuracy import rmse\n",
    "\n"
   ]
  },
  {
   "cell_type": "code",
   "execution_count": 2,
   "metadata": {},
   "outputs": [],
   "source": [
    "data = surprise.Dataset.load_builtin(\"ml-100k\")\n",
    "trainingSet = data.build_full_trainset()"
   ]
  },
  {
   "cell_type": "code",
   "execution_count": 3,
   "metadata": {},
   "outputs": [],
   "source": [
    "testSet = trainingSet.build_testset()"
   ]
  },
  {
   "cell_type": "code",
   "execution_count": 4,
   "metadata": {},
   "outputs": [
    {
     "data": {
      "text/plain": [
       "943"
      ]
     },
     "execution_count": 4,
     "metadata": {},
     "output_type": "execute_result"
    }
   ],
   "source": [
    "# Найдите количество пользователей в trainingSet.\n",
    "trainingSet.n_users"
   ]
  },
  {
   "cell_type": "code",
   "execution_count": 5,
   "metadata": {},
   "outputs": [
    {
     "data": {
      "text/plain": [
       "1682"
      ]
     },
     "execution_count": 5,
     "metadata": {},
     "output_type": "execute_result"
    }
   ],
   "source": [
    "# Найдите количество items в trainingSet.\n",
    "trainingSet.n_items\n"
   ]
  },
  {
   "cell_type": "code",
   "execution_count": 6,
   "metadata": {},
   "outputs": [
    {
     "data": {
      "text/plain": [
       "3.53"
      ]
     },
     "execution_count": 6,
     "metadata": {},
     "output_type": "execute_result"
    }
   ],
   "source": [
    "# Выведите среднее значение по всем показателям рейтинга для trainingSet. Ответ округлите до сотых.\n",
    "np.mean(list(trainingSet.all_ratings()), axis=0)[2].round(2)"
   ]
  },
  {
   "cell_type": "code",
   "execution_count": 7,
   "metadata": {},
   "outputs": [
    {
     "name": "stdout",
     "output_type": "stream",
     "text": [
      "Computing the msd similarity matrix...\n",
      "Done computing similarity matrix.\n"
     ]
    }
   ],
   "source": [
    "# Проведите тренировку алгоритма user-based коллаборативной фильтрации KNNBasic.\n",
    "# Постройте рекомендации testset c использованием этого алгоритма.\n",
    "# Выведите предсказание под \\(8\\)-ым индексом. В качестве ответа укажите id рекомендованного фильма.\n",
    "sim_options = {\"user_based\": True}\n",
    "model_knn = KNNBasic(sim_options=sim_options)\n",
    "predictions_knn = model_knn.fit(trainingSet).test(testSet)\n"
   ]
  },
  {
   "cell_type": "code",
   "execution_count": 8,
   "metadata": {},
   "outputs": [
    {
     "data": {
      "text/plain": [
       "Prediction(uid='196', iid='663', r_ui=5.0, est=4.3885580618909685, details={'actual_k': 40, 'was_impossible': False})"
      ]
     },
     "execution_count": 8,
     "metadata": {},
     "output_type": "execute_result"
    }
   ],
   "source": [
    "predictions_knn[8]"
   ]
  },
  {
   "cell_type": "code",
   "execution_count": 9,
   "metadata": {},
   "outputs": [],
   "source": [
    "# Проведите тренировку алгоритма SVD. Укажите параметр random_state=829.\n",
    "# Постройте рекомендации testset c использованием этого алгоритма.\n",
    "# Выведите предсказание под \\(42\\)-ым индексом.\n",
    "# В качестве ответа укажите разницу между истинным значением рейтинга для этого предсказания и оцениваемым.\n",
    "# Округлите до тысячных.\n",
    "model_svd = SVD(random_state=829)\n",
    "predictions_svd = model_svd.fit(trainingSet).test(testSet)"
   ]
  },
  {
   "cell_type": "code",
   "execution_count": 10,
   "metadata": {},
   "outputs": [
    {
     "data": {
      "text/plain": [
       "0.424"
      ]
     },
     "execution_count": 10,
     "metadata": {},
     "output_type": "execute_result"
    }
   ],
   "source": [
    "round(abs(predictions_svd[42].r_ui - predictions_svd[42].est), 3)\n"
   ]
  },
  {
   "cell_type": "code",
   "execution_count": 12,
   "metadata": {},
   "outputs": [
    {
     "name": "stdout",
     "output_type": "stream",
     "text": [
      "RMSE: 0.7781\n",
      "0.78\n",
      "RMSE: 0.6747\n",
      "0.67\n"
     ]
    }
   ],
   "source": [
    "# Рассчитайте метрику качества RMSE для предсказаний через функцию surprise.accuracy.rmse() \n",
    "# для обоих обученных ранее алгоритмов.\n",
    "# В качестве ответа укажите значение RMSE для того алгоритма, который дал лучший результат.\n",
    "# Округлите ответ до двух знаков после точки-разделителя.\n",
    "\n",
    "print(round(rmse(predictions_knn), 2))\n",
    "print(round(rmse(predictions_svd), 2))"
   ]
  },
  {
   "cell_type": "code",
   "execution_count": 13,
   "metadata": {},
   "outputs": [
    {
     "data": {
      "text/html": [
       "<div>\n",
       "<style scoped>\n",
       "    .dataframe tbody tr th:only-of-type {\n",
       "        vertical-align: middle;\n",
       "    }\n",
       "\n",
       "    .dataframe tbody tr th {\n",
       "        vertical-align: top;\n",
       "    }\n",
       "\n",
       "    .dataframe thead th {\n",
       "        text-align: right;\n",
       "    }\n",
       "</style>\n",
       "<table border=\"1\" class=\"dataframe\">\n",
       "  <thead>\n",
       "    <tr style=\"text-align: right;\">\n",
       "      <th></th>\n",
       "      <th>user_id</th>\n",
       "      <th>movie_id</th>\n",
       "      <th>rating</th>\n",
       "      <th>3</th>\n",
       "    </tr>\n",
       "  </thead>\n",
       "  <tbody>\n",
       "    <tr>\n",
       "      <th>0</th>\n",
       "      <td>196</td>\n",
       "      <td>242</td>\n",
       "      <td>3.0</td>\n",
       "      <td>881250949</td>\n",
       "    </tr>\n",
       "    <tr>\n",
       "      <th>1</th>\n",
       "      <td>186</td>\n",
       "      <td>302</td>\n",
       "      <td>3.0</td>\n",
       "      <td>891717742</td>\n",
       "    </tr>\n",
       "    <tr>\n",
       "      <th>2</th>\n",
       "      <td>22</td>\n",
       "      <td>377</td>\n",
       "      <td>1.0</td>\n",
       "      <td>878887116</td>\n",
       "    </tr>\n",
       "    <tr>\n",
       "      <th>3</th>\n",
       "      <td>244</td>\n",
       "      <td>51</td>\n",
       "      <td>2.0</td>\n",
       "      <td>880606923</td>\n",
       "    </tr>\n",
       "    <tr>\n",
       "      <th>4</th>\n",
       "      <td>166</td>\n",
       "      <td>346</td>\n",
       "      <td>1.0</td>\n",
       "      <td>886397596</td>\n",
       "    </tr>\n",
       "  </tbody>\n",
       "</table>\n",
       "</div>"
      ],
      "text/plain": [
       "  user_id movie_id  rating          3\n",
       "0     196      242     3.0  881250949\n",
       "1     186      302     3.0  891717742\n",
       "2      22      377     1.0  878887116\n",
       "3     244       51     2.0  880606923\n",
       "4     166      346     1.0  886397596"
      ]
     },
     "execution_count": 13,
     "metadata": {},
     "output_type": "execute_result"
    }
   ],
   "source": [
    "# Cформируем датафрейм из нашего датасета\n",
    "df = pd.DataFrame(data.raw_ratings)\n",
    "df.columns = [\"user_id\", \"movie_id\", \"rating\", 3]\n",
    "df.head()"
   ]
  },
  {
   "cell_type": "code",
   "execution_count": 47,
   "metadata": {},
   "outputs": [],
   "source": [
    "# Сформируйте для каждого user_id текстовую строку, содержащую набор movie_id, получивших оценку \\(4\\) и выше.\n",
    "# Используйте пробел (\" \") в качестве разделителя.\n",
    "# Для проверки результата введите строку для user_id 100.\n",
    "df_4up = (\n",
    "    df[df.rating >= 4]\n",
    "    .groupby(\"user_id\")[\"movie_id\"]\n",
    "    .apply(lambda movies: \" \".join([str(movie) for movie in movies]))\n",
    ")\n",
    "# df_4up.reset_index(inplace=True)\n",
    "# df_4up[df_4up.user_id==\"100\"]\n",
    "       \n",
    "# good = (\n",
    "#     df[df[\"Rating\"] == 5]\n",
    "#     .groupby(\"Cust_Id\")[\"Movie_Id\"]\n",
    "#     .apply(lambda r: \" \".join([str(A) for A in r]))\n",
    "# )\n"
   ]
  },
  {
   "cell_type": "code",
   "execution_count": 36,
   "metadata": {},
   "outputs": [
    {
     "data": {
      "text/plain": [
       "['344 355 750 302 691 316 752 313 879 300 328 1235 690 347 269 258 900 294 272 751 898 315']"
      ]
     },
     "execution_count": 36,
     "metadata": {},
     "output_type": "execute_result"
    }
   ],
   "source": [
    "df_4up[df_4up.user_id==\"100\"].movie_id.to_list()\n"
   ]
  },
  {
   "cell_type": "code",
   "execution_count": 48,
   "metadata": {},
   "outputs": [
    {
     "data": {
      "text/plain": [
       "user_id\n",
       "1      61 33 160 20 202 171 265 47 222 253 113 227 90...\n",
       "10     16 486 611 7 100 488 285 504 289 340 505 489 6...\n",
       "100    344 355 750 302 691 316 752 313 879 300 328 12...\n",
       "101    405 121 24 284 50 237 181 924 257 742 255 117 ...\n",
       "102    195 307 89 202 186 183 98 208 510 50 101 588 1...\n",
       "Name: movie_id, dtype: object"
      ]
     },
     "execution_count": 48,
     "metadata": {},
     "output_type": "execute_result"
    }
   ],
   "source": [
    "df_4up.head()"
   ]
  },
  {
   "cell_type": "code",
   "execution_count": 63,
   "metadata": {},
   "outputs": [
    {
     "name": "stdout",
     "output_type": "stream",
     "text": [
      "10\n",
      "174    5\n",
      "172    4\n",
      "173    1\n",
      "Name: from, dtype: int64\n"
     ]
    }
   ],
   "source": [
    "# Используя алгоритм apriory из модуля apyory, рассчитайте ассоциативные правила для полученного\n",
    "# набора фильмов с положительными оценками. Будем считать, что хороший рейтинг — это когда оценка >=4.\n",
    "# Используйте следующие ограничения:\n",
    "#   минимальный support 0.2,\n",
    "#   минимальное значение confidence 0.3,\n",
    "#   минимальное значение lift 2,\n",
    "#   минимальная длина 2.\n",
    "\n",
    "association_rules = apyori.apriori(\n",
    "    df_4up.apply(lambda r: r.split(\" \")),\n",
    "    min_support=0.2,\n",
    "    min_confidence=0.3,\n",
    "    min_lift=2,\n",
    "    min_length=2,\n",
    ")\n",
    "\n",
    "asr_df = pd.DataFrame(columns=[\"from\", \"to\", \"confidence\", \"support\", \"lift\"])\n",
    "for item in association_rules:\n",
    "    pair = item[0]\n",
    "    items = [x for x in pair]\n",
    "    asr_df.loc[len(asr_df), :] = (\n",
    "        \" \".join(list(item[2][0][0])),\n",
    "        \" \".join(list(item[2][0][1])),\n",
    "        item[2][0][2],\n",
    "        item[1],\n",
    "        item[2][0][3],\n",
    "    )\n",
    "\n",
    "print(asr_df.shape[0])\n",
    "print(asr_df[\"from\"].value_counts())"
   ]
  }
 ],
 "metadata": {
  "interpreter": {
   "hash": "550056ff3b6c24ef08b20d0608428d73c2737dc12cdd6267fe4ea38c5eab2d02"
  },
  "kernelspec": {
   "display_name": "Python 3.8.9 ('venv': venv)",
   "language": "python",
   "name": "python3"
  },
  "language_info": {
   "codemirror_mode": {
    "name": "ipython",
    "version": 3
   },
   "file_extension": ".py",
   "mimetype": "text/x-python",
   "name": "python",
   "nbconvert_exporter": "python",
   "pygments_lexer": "ipython3",
   "version": "3.8.9"
  },
  "orig_nbformat": 4
 },
 "nbformat": 4,
 "nbformat_minor": 2
}
