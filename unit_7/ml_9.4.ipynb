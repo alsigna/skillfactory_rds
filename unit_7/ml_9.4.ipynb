{
 "cells": [
  {
   "cell_type": "code",
   "execution_count": 8,
   "metadata": {},
   "outputs": [],
   "source": [
    "import pandas as pd\n",
    "import apyori\n",
    "\n"
   ]
  },
  {
   "cell_type": "code",
   "execution_count": null,
   "metadata": {},
   "outputs": [],
   "source": [
    "df = pd.read_csv(\"./data/netflix/data_fin.csv\", sep=\";\")\n"
   ]
  },
  {
   "cell_type": "code",
   "execution_count": 2,
   "metadata": {},
   "outputs": [
    {
     "name": "stdout",
     "output_type": "stream",
     "text": [
      "<class 'pandas.core.frame.DataFrame'>\n",
      "RangeIndex: 100480507 entries, 0 to 100480506\n",
      "Data columns (total 3 columns):\n",
      " #   Column    Dtype  \n",
      "---  ------    -----  \n",
      " 0   Cust_Id   int64  \n",
      " 1   Rating    float64\n",
      " 2   Movie_Id  int64  \n",
      "dtypes: float64(1), int64(2)\n",
      "memory usage: 2.2 GB\n"
     ]
    }
   ],
   "source": [
    "df.info()"
   ]
  },
  {
   "cell_type": "code",
   "execution_count": 3,
   "metadata": {},
   "outputs": [],
   "source": [
    "good = (\n",
    "    df[df[\"Rating\"] == 5]\n",
    "    .groupby(\"Cust_Id\")[\"Movie_Id\"]\n",
    "    .apply(lambda r: \" \".join([str(A) for A in r]))\n",
    ")\n"
   ]
  },
  {
   "cell_type": "code",
   "execution_count": 7,
   "metadata": {},
   "outputs": [
    {
     "name": "stdout",
     "output_type": "stream",
     "text": [
      "Cust_Id\n",
      "6          175 457 886 1467 2372 2452 2782 3290 4043 4633...\n",
      "7          8 30 83 175 257 283 285 313 357 457 458 468 50...\n",
      "8          1202 1799 1905 2186 3610 3925 4306 5054 5317 5...\n",
      "10         473 985 1542 1905 2172 3124 3371 3962 4043 430...\n",
      "25                     4432 6786 7605 9326 10643 15107 15270\n",
      "                                 ...                        \n",
      "2649404    550 2174 2200 3427 3936 4996 6972 9340 10378 1...\n",
      "2649409    2913 4951 5327 10229 11077 11722 11812 14103 1...\n",
      "2649421    1877 2152 3078 4640 5317 6287 7617 8438 9756 1...\n",
      "2649426    197 273 406 468 937 1073 1220 1803 1905 2457 2...\n",
      "2649429    30 143 199 533 607 759 1798 1799 1962 1975 209...\n",
      "Name: Movie_Id, Length: 463616, dtype: object\n"
     ]
    }
   ],
   "source": [
    "from pprint import pprint\n",
    "pprint(good)"
   ]
  },
  {
   "cell_type": "code",
   "execution_count": 19,
   "metadata": {},
   "outputs": [],
   "source": [
    "association_rules = apyori.apriori(\n",
    "    good.apply(lambda r: r.split(\" \")),\n",
    "    min_support=0.04,\n",
    "    min_confidence=0.1,\n",
    "    min_lift=2,\n",
    "    min_length=2,\n",
    ")"
   ]
  },
  {
   "cell_type": "code",
   "execution_count": 10,
   "metadata": {},
   "outputs": [],
   "source": [
    "asr_df = pd.DataFrame(columns=[\"from\", \"to\", \"confidence\", \"support\", \"lift\"])\n",
    "for item in association_rules:\n",
    "    pair = item[0]\n",
    "    items = [x for x in pair]\n",
    "    asr_df.loc[len(asr_df), :] = (\n",
    "        \" \".join(list(item[2][0][0])),\n",
    "        \" \".join(list(item[2][0][1])),\n",
    "        item[2][0][2],\n",
    "        item[1],\n",
    "        item[2][0][3],\n",
    "    )\n",
    "asr_df.head()"
   ]
  },
  {
   "cell_type": "code",
   "execution_count": 11,
   "metadata": {},
   "outputs": [],
   "source": [
    "titles = pd.read_csv(\n",
    "    \"./data/netflix/movie_titles.csv\",\n",
    "    encoding=\"ISO-8859-1\",\n",
    "    header=None,\n",
    "    names=[\"Movie_Id\", \"Year\", \"Name\"],\n",
    ")\n"
   ]
  },
  {
   "cell_type": "code",
   "execution_count": 12,
   "metadata": {},
   "outputs": [],
   "source": [
    "def get_rule_title(rule):\n",
    "    print(titles[titles.Movie_Id.isin(rule[\"from\"].split(\" \"))][\"Name\"].values)\n",
    "    print(\"----------->\")\n",
    "    print(titles[titles.Movie_Id == int(rule[\"to\"])][\"Name\"].values)\n"
   ]
  },
  {
   "cell_type": "code",
   "execution_count": 13,
   "metadata": {},
   "outputs": [
    {
     "name": "stdout",
     "output_type": "stream",
     "text": [
      "['Monsters']\n",
      "----------->\n",
      "['Finding Nemo (Widescreen)']\n"
     ]
    }
   ],
   "source": [
    "get_rule_title(asr_df.loc[99])\n"
   ]
  },
  {
   "cell_type": "code",
   "execution_count": 14,
   "metadata": {},
   "outputs": [
    {
     "data": {
      "text/plain": [
       "1144     The Wedding Planner\n",
       "2151         What Women Want\n",
       "5316       Miss Congeniality\n",
       "6286            Pretty Woman\n",
       "6385              Sister Act\n",
       "7233            Men of Honor\n",
       "10358          Runaway Bride\n",
       "11148      Maid in Manhattan\n",
       "13049       Two Weeks Notice\n",
       "15581     Sweet Home Alabama\n",
       "Name: Name, dtype: object"
      ]
     },
     "execution_count": 14,
     "metadata": {},
     "output_type": "execute_result"
    }
   ],
   "source": [
    "j = 159992\n",
    "titles[titles.Movie_Id.isin(good.iloc[j].split(\" \"))][\"Name\"]\n"
   ]
  },
  {
   "cell_type": "code",
   "execution_count": 15,
   "metadata": {},
   "outputs": [
    {
     "name": "stdout",
     "output_type": "stream",
     "text": [
      "{'Dirty Dancing', 'Pretty Woman'}\n"
     ]
    }
   ],
   "source": [
    "def print_rule_title(rule):\n",
    "    return titles[titles.Movie_Id == int(rule[\"to\"])][\"Name\"].values\n",
    "\n",
    "\n",
    "result = []\n",
    "for A in asr_df.index:\n",
    "    if len(set(good.iloc[j].split(\" \")) & set(asr_df[\"from\"].loc[A].split(\" \"))) == len(\n",
    "        asr_df[\"from\"].loc[A].split(\" \")\n",
    "    ):\n",
    "        result.append(print_rule_title(asr_df.loc[A])[0])\n",
    "print(set(result))"
   ]
  },
  {
   "cell_type": "code",
   "execution_count": 16,
   "metadata": {},
   "outputs": [
    {
     "name": "stdout",
     "output_type": "stream",
     "text": [
      "5806                Raising Helen\n",
      "10079    Six Feet Under: Season 2\n",
      "14620         Shrek (Full-screen)\n",
      "Name: Name, dtype: object\n"
     ]
    }
   ],
   "source": [
    "j = 130\n",
    "pprint(titles[titles.Movie_Id.isin(good.iloc[j].split(\" \"))][\"Name\"])\n"
   ]
  },
  {
   "cell_type": "code",
   "execution_count": 39,
   "metadata": {},
   "outputs": [
    {
     "data": {
      "text/plain": [
       "[1865,\n",
       " 3456,\n",
       " 3962,\n",
       " 5515,\n",
       " 6029,\n",
       " 6428,\n",
       " 8159,\n",
       " 8327,\n",
       " 8782,\n",
       " 8784,\n",
       " 11165,\n",
       " 11242,\n",
       " 11701,\n",
       " 12084,\n",
       " 12232,\n",
       " 14482]"
      ]
     },
     "execution_count": 39,
     "metadata": {},
     "output_type": "execute_result"
    }
   ],
   "source": [
    "df.loc[(df.Cust_Id==130)&(df.Rating==5), [\"Movie_Id\"]].Movie_Id.to_list()"
   ]
  },
  {
   "cell_type": "code",
   "execution_count": 17,
   "metadata": {},
   "outputs": [
    {
     "name": "stdout",
     "output_type": "stream",
     "text": [
      "['The Patriot']\n",
      "----------->\n",
      "['The Green Mile']\n"
     ]
    }
   ],
   "source": [
    "get_rule_title(asr_df.loc[315])\n"
   ]
  },
  {
   "cell_type": "code",
   "execution_count": 20,
   "metadata": {},
   "outputs": [
    {
     "data": {
      "text/html": [
       "<div>\n",
       "<style scoped>\n",
       "    .dataframe tbody tr th:only-of-type {\n",
       "        vertical-align: middle;\n",
       "    }\n",
       "\n",
       "    .dataframe tbody tr th {\n",
       "        vertical-align: top;\n",
       "    }\n",
       "\n",
       "    .dataframe thead th {\n",
       "        text-align: right;\n",
       "    }\n",
       "</style>\n",
       "<table border=\"1\" class=\"dataframe\">\n",
       "  <thead>\n",
       "    <tr style=\"text-align: right;\">\n",
       "      <th></th>\n",
       "      <th>from</th>\n",
       "      <th>to</th>\n",
       "      <th>confidence</th>\n",
       "      <th>support</th>\n",
       "      <th>lift</th>\n",
       "    </tr>\n",
       "  </thead>\n",
       "  <tbody>\n",
       "    <tr>\n",
       "      <th>0</th>\n",
       "      <td>10042</td>\n",
       "      <td>10820</td>\n",
       "      <td>0.266215</td>\n",
       "      <td>0.0415732</td>\n",
       "      <td>4.11022</td>\n",
       "    </tr>\n",
       "    <tr>\n",
       "      <th>1</th>\n",
       "      <td>10042</td>\n",
       "      <td>10947</td>\n",
       "      <td>0.351478</td>\n",
       "      <td>0.0548881</td>\n",
       "      <td>2.42194</td>\n",
       "    </tr>\n",
       "    <tr>\n",
       "      <th>2</th>\n",
       "      <td>10042</td>\n",
       "      <td>11064</td>\n",
       "      <td>0.348135</td>\n",
       "      <td>0.0543661</td>\n",
       "      <td>2.3007</td>\n",
       "    </tr>\n",
       "    <tr>\n",
       "      <th>3</th>\n",
       "      <td>10042</td>\n",
       "      <td>11089</td>\n",
       "      <td>0.331616</td>\n",
       "      <td>0.0517864</td>\n",
       "      <td>2.48827</td>\n",
       "    </tr>\n",
       "    <tr>\n",
       "      <th>4</th>\n",
       "      <td>10042</td>\n",
       "      <td>11283</td>\n",
       "      <td>0.454613</td>\n",
       "      <td>0.0709941</td>\n",
       "      <td>2.20623</td>\n",
       "    </tr>\n",
       "    <tr>\n",
       "      <th>...</th>\n",
       "      <td>...</td>\n",
       "      <td>...</td>\n",
       "      <td>...</td>\n",
       "      <td>...</td>\n",
       "      <td>...</td>\n",
       "    </tr>\n",
       "    <tr>\n",
       "      <th>2018</th>\n",
       "      <td>11521</td>\n",
       "      <td>7057 16265 7230 14961 5582 2452</td>\n",
       "      <td>0.199233</td>\n",
       "      <td>0.0414848</td>\n",
       "      <td>4.63066</td>\n",
       "    </tr>\n",
       "    <tr>\n",
       "      <th>2019</th>\n",
       "      <td>11521</td>\n",
       "      <td>7057 7230 14961 9628 5582 2452</td>\n",
       "      <td>0.195898</td>\n",
       "      <td>0.0407902</td>\n",
       "      <td>4.63469</td>\n",
       "    </tr>\n",
       "    <tr>\n",
       "      <th>2020</th>\n",
       "      <td>14240</td>\n",
       "      <td>7057 16265 7230 14961 5582 2452</td>\n",
       "      <td>0.208372</td>\n",
       "      <td>0.0417112</td>\n",
       "      <td>4.84307</td>\n",
       "    </tr>\n",
       "    <tr>\n",
       "      <th>2021</th>\n",
       "      <td>14240</td>\n",
       "      <td>7057 7230 14961 9628 5582 2452</td>\n",
       "      <td>0.204569</td>\n",
       "      <td>0.0409498</td>\n",
       "      <td>4.83983</td>\n",
       "    </tr>\n",
       "    <tr>\n",
       "      <th>2022</th>\n",
       "      <td>11521</td>\n",
       "      <td>7057 16265 14240 7230 14961 5582 2452</td>\n",
       "      <td>0.194634</td>\n",
       "      <td>0.0405271</td>\n",
       "      <td>4.66623</td>\n",
       "    </tr>\n",
       "  </tbody>\n",
       "</table>\n",
       "<p>2023 rows × 5 columns</p>\n",
       "</div>"
      ],
      "text/plain": [
       "       from                                     to confidence    support  \\\n",
       "0     10042                                  10820   0.266215  0.0415732   \n",
       "1     10042                                  10947   0.351478  0.0548881   \n",
       "2     10042                                  11064   0.348135  0.0543661   \n",
       "3     10042                                  11089   0.331616  0.0517864   \n",
       "4     10042                                  11283   0.454613  0.0709941   \n",
       "...     ...                                    ...        ...        ...   \n",
       "2018  11521        7057 16265 7230 14961 5582 2452   0.199233  0.0414848   \n",
       "2019  11521         7057 7230 14961 9628 5582 2452   0.195898  0.0407902   \n",
       "2020  14240        7057 16265 7230 14961 5582 2452   0.208372  0.0417112   \n",
       "2021  14240         7057 7230 14961 9628 5582 2452   0.204569  0.0409498   \n",
       "2022  11521  7057 16265 14240 7230 14961 5582 2452   0.194634  0.0405271   \n",
       "\n",
       "         lift  \n",
       "0     4.11022  \n",
       "1     2.42194  \n",
       "2      2.3007  \n",
       "3     2.48827  \n",
       "4     2.20623  \n",
       "...       ...  \n",
       "2018  4.63066  \n",
       "2019  4.63469  \n",
       "2020  4.84307  \n",
       "2021  4.83983  \n",
       "2022  4.66623  \n",
       "\n",
       "[2023 rows x 5 columns]"
      ]
     },
     "execution_count": 20,
     "metadata": {},
     "output_type": "execute_result"
    }
   ],
   "source": [
    "asr_df"
   ]
  },
  {
   "cell_type": "code",
   "execution_count": 22,
   "metadata": {},
   "outputs": [
    {
     "name": "stdout",
     "output_type": "stream",
     "text": [
      "{'Finding Nemo (Widescreen)',\n",
      " 'Lord of the Rings: The Two Towers: Extended Edition',\n",
      " 'Star Wars: Episode V: The Empire Strikes Back',\n",
      " 'The Lord of the Rings: The Fellowship of the Ring: Extended Edition',\n",
      " 'The Sixth Sense'}\n"
     ]
    }
   ],
   "source": [
    "j = 21\n",
    "result = []\n",
    "for A in asr_df.index:\n",
    "    if len(set(good.iloc[j].split(\" \")) & set(asr_df[\"from\"].loc[A].split(\" \"))) == len(\n",
    "        asr_df[\"from\"].loc[A].split(\" \")\n",
    "    ):\n",
    "        result.append(print_rule_title(asr_df.loc[A])[0])\n",
    "pprint(set(result))"
   ]
  }
 ],
 "metadata": {
  "interpreter": {
   "hash": "550056ff3b6c24ef08b20d0608428d73c2737dc12cdd6267fe4ea38c5eab2d02"
  },
  "kernelspec": {
   "display_name": "Python 3.8.9 ('venv': venv)",
   "language": "python",
   "name": "python3"
  },
  "language_info": {
   "codemirror_mode": {
    "name": "ipython",
    "version": 3
   },
   "file_extension": ".py",
   "mimetype": "text/x-python",
   "name": "python",
   "nbconvert_exporter": "python",
   "pygments_lexer": "ipython3",
   "version": "3.8.9"
  },
  "orig_nbformat": 4
 },
 "nbformat": 4,
 "nbformat_minor": 2
}
