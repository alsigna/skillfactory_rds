{
 "cells": [
  {
   "cell_type": "code",
   "execution_count": 8,
   "metadata": {},
   "outputs": [],
   "source": [
    "import numpy as np\n",
    "import scipy.linalg"
   ]
  },
  {
   "cell_type": "code",
   "execution_count": 4,
   "metadata": {},
   "outputs": [
    {
     "data": {
      "text/plain": [
       "array([[1, 5, 0, 5, 4],\n",
       "       [5, 4, 4, 3, 2],\n",
       "       [0, 4, 0, 0, 5],\n",
       "       [4, 4, 1, 4, 0],\n",
       "       [0, 4, 3, 5, 0],\n",
       "       [2, 4, 3, 5, 3]])"
      ]
     },
     "execution_count": 4,
     "metadata": {},
     "output_type": "execute_result"
    }
   ],
   "source": [
    "user_movie_matrix = np.array(\n",
    "    (\n",
    "        (1, 5, 0, 5, 4),\n",
    "        (5, 4, 4, 3, 2),\n",
    "        (0, 4, 0, 0, 5),\n",
    "        (4, 4, 1, 4, 0),\n",
    "        (0, 4, 3, 5, 0),\n",
    "        (2, 4, 3, 5, 3),\n",
    "    )\n",
    ")\n",
    "user_movie_matrix\n"
   ]
  },
  {
   "cell_type": "code",
   "execution_count": 9,
   "metadata": {},
   "outputs": [],
   "source": [
    "U, s, V = scipy.linalg.svd(user_movie_matrix) "
   ]
  },
  {
   "cell_type": "code",
   "execution_count": 22,
   "metadata": {},
   "outputs": [],
   "source": [
    "low_U = U[:2]\n",
    "low_V = V[:2]\n"
   ]
  },
  {
   "cell_type": "code",
   "execution_count": 24,
   "metadata": {},
   "outputs": [
    {
     "data": {
      "text/plain": [
       "array([-4.09679486,  4.68635611])"
      ]
     },
     "execution_count": 24,
     "metadata": {},
     "output_type": "execute_result"
    }
   ],
   "source": [
    "lowdim  = user_movie_matrix[2] @ low_V.T\n",
    "lowdim"
   ]
  },
  {
   "cell_type": "code",
   "execution_count": 25,
   "metadata": {},
   "outputs": [
    {
     "data": {
      "text/plain": [
       "array([-0.6096677 ,  3.54684982, -0.57140075,  1.15887633,  4.9116525 ])"
      ]
     },
     "execution_count": 25,
     "metadata": {},
     "output_type": "execute_result"
    }
   ],
   "source": [
    "user2 = lowdim @ low_V\n",
    "user2"
   ]
  },
  {
   "cell_type": "code",
   "execution_count": 27,
   "metadata": {},
   "outputs": [
    {
     "data": {
      "text/plain": [
       "0.088"
      ]
     },
     "execution_count": 27,
     "metadata": {},
     "output_type": "execute_result"
    }
   ],
   "source": [
    "round(5-4.9116525, 3)"
   ]
  },
  {
   "cell_type": "code",
   "execution_count": 30,
   "metadata": {},
   "outputs": [
    {
     "data": {
      "text/plain": [
       "array([ 0.40015936,  1.52990144,  1.47154395,  3.57090597, -1.13168846])"
      ]
     },
     "execution_count": 30,
     "metadata": {},
     "output_type": "execute_result"
    }
   ],
   "source": [
    "new_user = np.array((0, 0, 3, 4, 0))\n",
    "new_low_U = U[:3]\n",
    "new_low_V = V[:3]\n",
    "lowdim  = new_user @ new_low_V.T\n",
    "new_user_pred = lowdim @ new_low_V\n",
    "new_user_pred"
   ]
  }
 ],
 "metadata": {
  "interpreter": {
   "hash": "550056ff3b6c24ef08b20d0608428d73c2737dc12cdd6267fe4ea38c5eab2d02"
  },
  "kernelspec": {
   "display_name": "Python 3.8.9 ('venv': venv)",
   "language": "python",
   "name": "python3"
  },
  "language_info": {
   "codemirror_mode": {
    "name": "ipython",
    "version": 3
   },
   "file_extension": ".py",
   "mimetype": "text/x-python",
   "name": "python",
   "nbconvert_exporter": "python",
   "pygments_lexer": "ipython3",
   "version": "3.8.9"
  },
  "orig_nbformat": 4
 },
 "nbformat": 4,
 "nbformat_minor": 2
}
