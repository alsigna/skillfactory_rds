{
 "cells": [
  {
   "cell_type": "code",
   "execution_count": 1,
   "metadata": {},
   "outputs": [],
   "source": [
    "file_list = !ls"
   ]
  },
  {
   "cell_type": "code",
   "execution_count": 2,
   "metadata": {},
   "outputs": [
    {
     "name": "stdout",
     "output_type": "stream",
     "text": [
      "['2020.11.27 Seminar', 'ARL.ipynb', 'M8_10_Изменение_разрешения_данных.ipynb', 'M8_17_Цифровые_фильтры.ipynb', 'M8_19_TSFresh.ipynb', 'M8_21_NNMF.ipynb', 'M8_23_Особенности_MO_на_временных_рядах.ipynb', 'M8_8_интерполяция.ipynb', 'SMA_uniqlo_analysis.ipynb', 'acf_pacf.ipynb', 'collab.ipynb', 'data', 'decomp_air.ipynb', 'math_7.10.ipynb', 'math_7.14.1.ipynb', 'math_7.14.ipynb', 'math_7.3.ipynb', 'math_7.6.ipynb', 'math_7.8.ipynb', 'ml_8.10.ipynb', 'ml_8.12.ipynb', 'ml_8.17.ipynb', 'ml_8.19.ipynb', 'ml_8.21.ipynb', 'ml_8.23.ipynb', 'ml_8.6.ipynb', 'ml_8.8.ipynb', 'ml_9.10.ipynb', 'ml_9.4.ipynb', 'ml_9.7.ipynb', 'ml_9.8.ipynb', 'prod-1.ipynb', 'random_walk.ipynb', 'temp-plot.html', 'white_noise.ipynb', 'ноутбук_перед_8.21.4.ipynb']\n"
     ]
    }
   ],
   "source": [
    "print(file_list)"
   ]
  },
  {
   "cell_type": "code",
   "execution_count": 3,
   "metadata": {},
   "outputs": [
    {
     "name": "stdout",
     "output_type": "stream",
     "text": [
      "-rw-r--r--@ 1 alexigna  staff  3490482 Feb 10 17:33 temp-plot.html\n"
     ]
    }
   ],
   "source": [
    "html_files = \"*.html\"\n",
    "!ls -l {html_files}\n"
   ]
  },
  {
   "cell_type": "code",
   "execution_count": 10,
   "metadata": {},
   "outputs": [
    {
     "name": "stdout",
     "output_type": "stream",
     "text": [
      "html file: temp-plot.html\n"
     ]
    }
   ],
   "source": [
    "%%bash\n",
    "for fn in `ls *.html`\n",
    "do\n",
    "    echo \"html file:\" $fn\n",
    "done"
   ]
  },
  {
   "cell_type": "code",
   "execution_count": 11,
   "metadata": {},
   "outputs": [
    {
     "name": "stdout",
     "output_type": "stream",
     "text": [
      "alexigna\n"
     ]
    }
   ],
   "source": [
    "!whoami"
   ]
  },
  {
   "cell_type": "code",
   "execution_count": null,
   "metadata": {},
   "outputs": [],
   "source": [
    "!id"
   ]
  },
  {
   "cell_type": "code",
   "execution_count": null,
   "metadata": {},
   "outputs": [],
   "source": [
    "!cat /etc/passwd"
   ]
  },
  {
   "cell_type": "code",
   "execution_count": 27,
   "metadata": {},
   "outputs": [
    {
     "name": "stdout",
     "output_type": "stream",
     "text": [
      "processing:  temp-plot-2.html\n",
      "filename:  temp-plot-2\n",
      "processing:  temp-plot.html\n",
      "filename:  temp-plot\n"
     ]
    }
   ],
   "source": [
    "%%bash\n",
    "for fname in `ls *.html`\n",
    "do\n",
    "    bname=`basename $fname .html`\n",
    "    echo \"processing: \" $fname\n",
    "    echo \"filename: \" $bname\n",
    "    cp $fname $bname.bkp.html\n",
    "done"
   ]
  },
  {
   "cell_type": "code",
   "execution_count": 28,
   "metadata": {},
   "outputs": [
    {
     "name": "stdout",
     "output_type": "stream",
     "text": [
      "1\n",
      "2\n",
      "3\n",
      "4\n",
      "5\n"
     ]
    }
   ],
   "source": [
    "%%bash\n",
    "for i in {1..5}\n",
    "do \n",
    "    echo $i\n",
    "done"
   ]
  },
  {
   "cell_type": "code",
   "execution_count": 30,
   "metadata": {},
   "outputs": [
    {
     "name": "stderr",
     "output_type": "stream",
     "text": [
      "bash: line 1: 1: command not found\n"
     ]
    }
   ],
   "source": [
    "%%bash\n",
    "test -z `1`"
   ]
  }
 ],
 "metadata": {
  "interpreter": {
   "hash": "550056ff3b6c24ef08b20d0608428d73c2737dc12cdd6267fe4ea38c5eab2d02"
  },
  "kernelspec": {
   "display_name": "Python 3.8.9 ('venv': venv)",
   "language": "python",
   "name": "python3"
  },
  "language_info": {
   "codemirror_mode": {
    "name": "ipython",
    "version": 3
   },
   "file_extension": ".py",
   "mimetype": "text/x-python",
   "name": "python",
   "nbconvert_exporter": "python",
   "pygments_lexer": "ipython3",
   "version": "3.8.9"
  },
  "orig_nbformat": 4
 },
 "nbformat": 4,
 "nbformat_minor": 2
}
