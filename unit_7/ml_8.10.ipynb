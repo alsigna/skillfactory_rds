{
 "cells": [
  {
   "cell_type": "code",
   "execution_count": 22,
   "metadata": {},
   "outputs": [],
   "source": [
    "import numpy as np, pandas as pd\n",
    "import matplotlib.pyplot as plt\n",
    "import plotly.graph_objects as go\n",
    "import time, datetime\n",
    "import plotly.io as pio\n",
    "from datetime import datetime\n",
    "# pio.renderers.default = \"notebook\"\n",
    "pio.renderers.default = \"browser\"\n"
   ]
  },
  {
   "cell_type": "code",
   "execution_count": 6,
   "metadata": {},
   "outputs": [
    {
     "data": {
      "text/plain": [
       "Renderers configuration\n",
       "-----------------------\n",
       "    Default renderer: 'vscode'\n",
       "    Available renderers:\n",
       "        ['plotly_mimetype', 'jupyterlab', 'nteract', 'vscode',\n",
       "         'notebook', 'notebook_connected', 'kaggle', 'azure', 'colab',\n",
       "         'cocalc', 'databricks', 'json', 'png', 'jpeg', 'jpg', 'svg',\n",
       "         'pdf', 'browser', 'firefox', 'chrome', 'chromium', 'iframe',\n",
       "         'iframe_connected', 'sphinx_gallery', 'sphinx_gallery_png']"
      ]
     },
     "execution_count": 6,
     "metadata": {},
     "output_type": "execute_result"
    }
   ],
   "source": [
    "# pio.renderers"
   ]
  },
  {
   "cell_type": "code",
   "execution_count": 2,
   "metadata": {},
   "outputs": [
    {
     "name": "stdout",
     "output_type": "stream",
     "text": [
      "data.shape = (121674, 6)\n"
     ]
    },
    {
     "data": {
      "text/html": [
       "<div>\n",
       "<style scoped>\n",
       "    .dataframe tbody tr th:only-of-type {\n",
       "        vertical-align: middle;\n",
       "    }\n",
       "\n",
       "    .dataframe tbody tr th {\n",
       "        vertical-align: top;\n",
       "    }\n",
       "\n",
       "    .dataframe thead th {\n",
       "        text-align: right;\n",
       "    }\n",
       "</style>\n",
       "<table border=\"1\" class=\"dataframe\">\n",
       "  <thead>\n",
       "    <tr style=\"text-align: right;\">\n",
       "      <th></th>\n",
       "      <th>open</th>\n",
       "      <th>high</th>\n",
       "      <th>low</th>\n",
       "      <th>close</th>\n",
       "      <th>vol</th>\n",
       "      <th>ts</th>\n",
       "    </tr>\n",
       "  </thead>\n",
       "  <tbody>\n",
       "    <tr>\n",
       "      <th>0</th>\n",
       "      <td>1.05135</td>\n",
       "      <td>1.05192</td>\n",
       "      <td>1.05134</td>\n",
       "      <td>1.05187</td>\n",
       "      <td>65</td>\n",
       "      <td>2017-01-02 09:00:00</td>\n",
       "    </tr>\n",
       "    <tr>\n",
       "      <th>1</th>\n",
       "      <td>1.05185</td>\n",
       "      <td>1.05198</td>\n",
       "      <td>1.05153</td>\n",
       "      <td>1.05168</td>\n",
       "      <td>58</td>\n",
       "      <td>2017-01-02 09:01:00</td>\n",
       "    </tr>\n",
       "    <tr>\n",
       "      <th>2</th>\n",
       "      <td>1.05175</td>\n",
       "      <td>1.05201</td>\n",
       "      <td>1.05149</td>\n",
       "      <td>1.05154</td>\n",
       "      <td>33</td>\n",
       "      <td>2017-01-02 09:02:00</td>\n",
       "    </tr>\n",
       "    <tr>\n",
       "      <th>3</th>\n",
       "      <td>1.05177</td>\n",
       "      <td>1.05202</td>\n",
       "      <td>1.05177</td>\n",
       "      <td>1.05200</td>\n",
       "      <td>20</td>\n",
       "      <td>2017-01-02 09:03:00</td>\n",
       "    </tr>\n",
       "    <tr>\n",
       "      <th>4</th>\n",
       "      <td>1.05202</td>\n",
       "      <td>1.05202</td>\n",
       "      <td>1.05198</td>\n",
       "      <td>1.05202</td>\n",
       "      <td>7</td>\n",
       "      <td>2017-01-02 09:04:00</td>\n",
       "    </tr>\n",
       "  </tbody>\n",
       "</table>\n",
       "</div>"
      ],
      "text/plain": [
       "      open     high      low    close  vol                  ts\n",
       "0  1.05135  1.05192  1.05134  1.05187   65 2017-01-02 09:00:00\n",
       "1  1.05185  1.05198  1.05153  1.05168   58 2017-01-02 09:01:00\n",
       "2  1.05175  1.05201  1.05149  1.05154   33 2017-01-02 09:02:00\n",
       "3  1.05177  1.05202  1.05177  1.05200   20 2017-01-02 09:03:00\n",
       "4  1.05202  1.05202  1.05198  1.05202    7 2017-01-02 09:04:00"
      ]
     },
     "execution_count": 2,
     "metadata": {},
     "output_type": "execute_result"
    }
   ],
   "source": [
    "filePath = './data/EURUSD_1.csv'\n",
    "data = pd.read_csv(filePath)\n",
    "data['ts'] = pd.to_datetime(data.ts)\n",
    "print(f'data.shape = {data.shape}')\n",
    "\n",
    "data.head()"
   ]
  },
  {
   "cell_type": "code",
   "execution_count": 8,
   "metadata": {},
   "outputs": [],
   "source": [
    "df = data.copy()\n",
    "\n",
    "fig = go.Figure(data  = [go.Candlestick(\n",
    "            x=df['ts'],\n",
    "            open  = df['open'],\n",
    "            high  = df['high'],\n",
    "            low   = df['low'],\n",
    "            close = df['close']\n",
    "        )])\n",
    "\n",
    "fig.show()"
   ]
  },
  {
   "cell_type": "code",
   "execution_count": 19,
   "metadata": {},
   "outputs": [
    {
     "data": {
      "text/html": [
       "<div>\n",
       "<style scoped>\n",
       "    .dataframe tbody tr th:only-of-type {\n",
       "        vertical-align: middle;\n",
       "    }\n",
       "\n",
       "    .dataframe tbody tr th {\n",
       "        vertical-align: top;\n",
       "    }\n",
       "\n",
       "    .dataframe thead th {\n",
       "        text-align: right;\n",
       "    }\n",
       "</style>\n",
       "<table border=\"1\" class=\"dataframe\">\n",
       "  <thead>\n",
       "    <tr style=\"text-align: right;\">\n",
       "      <th></th>\n",
       "      <th>open</th>\n",
       "      <th>high</th>\n",
       "      <th>low</th>\n",
       "      <th>close</th>\n",
       "      <th>vol</th>\n",
       "    </tr>\n",
       "    <tr>\n",
       "      <th>ts</th>\n",
       "      <th></th>\n",
       "      <th></th>\n",
       "      <th></th>\n",
       "      <th></th>\n",
       "      <th></th>\n",
       "    </tr>\n",
       "  </thead>\n",
       "  <tbody>\n",
       "    <tr>\n",
       "      <th>2017-01-02 09:00:00</th>\n",
       "      <td>1.05135</td>\n",
       "      <td>1.05192</td>\n",
       "      <td>1.05134</td>\n",
       "      <td>1.05187</td>\n",
       "      <td>65</td>\n",
       "    </tr>\n",
       "    <tr>\n",
       "      <th>2017-01-02 09:01:00</th>\n",
       "      <td>1.05185</td>\n",
       "      <td>1.05198</td>\n",
       "      <td>1.05153</td>\n",
       "      <td>1.05168</td>\n",
       "      <td>58</td>\n",
       "    </tr>\n",
       "  </tbody>\n",
       "</table>\n",
       "</div>"
      ],
      "text/plain": [
       "                        open     high      low    close  vol\n",
       "ts                                                          \n",
       "2017-01-02 09:00:00  1.05135  1.05192  1.05134  1.05187   65\n",
       "2017-01-02 09:01:00  1.05185  1.05198  1.05153  1.05168   58"
      ]
     },
     "execution_count": 19,
     "metadata": {},
     "output_type": "execute_result"
    }
   ],
   "source": [
    "df.head(2)"
   ]
  },
  {
   "cell_type": "code",
   "execution_count": 21,
   "metadata": {},
   "outputs": [
    {
     "name": "stdout",
     "output_type": "stream",
     "text": [
      "1    1.04649\n",
      "Name: open, dtype: float64\n",
      "1    1.04637\n",
      "Name: close, dtype: float64\n",
      "5    1.04236\n",
      "Name: high, dtype: float64\n",
      "5    1.03898\n",
      "Name: low, dtype: float64\n",
      "9    481.3\n",
      "Name: vol, dtype: float64\n"
     ]
    }
   ],
   "source": [
    "def vol_count(value):\n",
    "    return (value.median() + value.mean()) / 2\n",
    "\n",
    "\n",
    "conversion = {\n",
    "    \"open\": \"median\",\n",
    "    \"close\": \"mean\",\n",
    "    \"vol\": vol_count,\n",
    "    \"high\": \"max\",\n",
    "    \"low\": \"min\",\n",
    "}\n",
    "\n",
    "df = df.set_index(\"ts\")\n",
    "\n",
    "downsampled = df.resample(\"8H\").apply(conversion)\n",
    "df = df.reset_index()\n",
    "downsampled = downsampled.reset_index()\n",
    "\n",
    "print(downsampled[downsampled.ts == \"2017-01-02 16:00:00\"].open.round(5))\n",
    "print(downsampled[downsampled.ts == \"2017-01-02 16:00:00\"].close.round(5))\n",
    "print(downsampled[downsampled.ts == \"2017-01-04 00:00:00\"].high.round(5))\n",
    "print(downsampled[downsampled.ts == \"2017-01-04 00:00:00\"].low.round(5))\n",
    "print(downsampled[downsampled.ts == \"2017-01-05 08:00:00\"].vol.round(1))\n"
   ]
  },
  {
   "cell_type": "code",
   "execution_count": 28,
   "metadata": {},
   "outputs": [],
   "source": [
    "df_filtered = df[df.ts <= datetime(2017, 1, 3, 0, 0, 0)]\n",
    "df_filtered.tail()\n",
    "\n",
    "df_filtered = df_filtered.set_index(\"ts\")\n",
    "\n",
    "upsampled = df_filtered.resample(\"10S\").apply(conversion)\n",
    "df_filtered = df_filtered.reset_index()\n",
    "upsampled = upsampled.reset_index()\n"
   ]
  },
  {
   "cell_type": "code",
   "execution_count": 30,
   "metadata": {},
   "outputs": [
    {
     "data": {
      "text/plain": [
       "4508"
      ]
     },
     "execution_count": 30,
     "metadata": {},
     "output_type": "execute_result"
    }
   ],
   "source": [
    "upsampled.open.isna().sum()"
   ]
  },
  {
   "cell_type": "code",
   "execution_count": 32,
   "metadata": {},
   "outputs": [],
   "source": [
    "upsampled.open.interpolate(method=\"linear\", inplace=True)\n"
   ]
  },
  {
   "cell_type": "code",
   "execution_count": 33,
   "metadata": {},
   "outputs": [
    {
     "data": {
      "text/plain": [
       "4    1.051683\n",
       "Name: open, dtype: float64"
      ]
     },
     "execution_count": 33,
     "metadata": {},
     "output_type": "execute_result"
    }
   ],
   "source": [
    "upsampled[upsampled.ts==datetime(2017,1,2,9,0,40)].open"
   ]
  },
  {
   "cell_type": "code",
   "execution_count": null,
   "metadata": {},
   "outputs": [],
   "source": [
    "upsampled.close.interpolate(method=\"nearest\", inplace=True)\n"
   ]
  },
  {
   "cell_type": "code",
   "execution_count": 35,
   "metadata": {},
   "outputs": [
    {
     "data": {
      "text/plain": [
       "4    1.05168\n",
       "Name: close, dtype: float64"
      ]
     },
     "execution_count": 35,
     "metadata": {},
     "output_type": "execute_result"
    }
   ],
   "source": [
    "upsampled[upsampled.ts==datetime(2017,1,2,9,0,40)].close.round(5)\n"
   ]
  },
  {
   "cell_type": "code",
   "execution_count": 40,
   "metadata": {},
   "outputs": [
    {
     "data": {
      "text/html": [
       "<div>\n",
       "<style scoped>\n",
       "    .dataframe tbody tr th:only-of-type {\n",
       "        vertical-align: middle;\n",
       "    }\n",
       "\n",
       "    .dataframe tbody tr th {\n",
       "        vertical-align: top;\n",
       "    }\n",
       "\n",
       "    .dataframe thead th {\n",
       "        text-align: right;\n",
       "    }\n",
       "</style>\n",
       "<table border=\"1\" class=\"dataframe\">\n",
       "  <thead>\n",
       "    <tr style=\"text-align: right;\">\n",
       "      <th></th>\n",
       "      <th>ts</th>\n",
       "      <th>open</th>\n",
       "      <th>high</th>\n",
       "      <th>low</th>\n",
       "      <th>close</th>\n",
       "      <th>vol</th>\n",
       "      <th>unixtime</th>\n",
       "    </tr>\n",
       "  </thead>\n",
       "  <tbody>\n",
       "    <tr>\n",
       "      <th>4491</th>\n",
       "      <td>2017-01-05 12:00:00</td>\n",
       "      <td>1.05044</td>\n",
       "      <td>1.05052</td>\n",
       "      <td>1.05032</td>\n",
       "      <td>1.05048</td>\n",
       "      <td>530</td>\n",
       "      <td>1483617600000000000</td>\n",
       "    </tr>\n",
       "    <tr>\n",
       "      <th>4492</th>\n",
       "      <td>2017-01-05 12:01:00</td>\n",
       "      <td>1.05048</td>\n",
       "      <td>1.05053</td>\n",
       "      <td>1.05031</td>\n",
       "      <td>1.05046</td>\n",
       "      <td>447</td>\n",
       "      <td>1483617660000000000</td>\n",
       "    </tr>\n",
       "    <tr>\n",
       "      <th>4493</th>\n",
       "      <td>2017-01-05 12:02:00</td>\n",
       "      <td>1.05046</td>\n",
       "      <td>1.05080</td>\n",
       "      <td>1.05046</td>\n",
       "      <td>1.05075</td>\n",
       "      <td>516</td>\n",
       "      <td>1483617720000000000</td>\n",
       "    </tr>\n",
       "    <tr>\n",
       "      <th>4494</th>\n",
       "      <td>2017-01-05 12:03:00</td>\n",
       "      <td>1.05075</td>\n",
       "      <td>1.05093</td>\n",
       "      <td>1.05063</td>\n",
       "      <td>1.05087</td>\n",
       "      <td>477</td>\n",
       "      <td>1483617780000000000</td>\n",
       "    </tr>\n",
       "    <tr>\n",
       "      <th>4495</th>\n",
       "      <td>2017-01-05 12:04:00</td>\n",
       "      <td>1.05087</td>\n",
       "      <td>1.05118</td>\n",
       "      <td>1.05087</td>\n",
       "      <td>1.05101</td>\n",
       "      <td>456</td>\n",
       "      <td>1483617840000000000</td>\n",
       "    </tr>\n",
       "  </tbody>\n",
       "</table>\n",
       "</div>"
      ],
      "text/plain": [
       "                      ts     open     high      low    close  vol  \\\n",
       "4491 2017-01-05 12:00:00  1.05044  1.05052  1.05032  1.05048  530   \n",
       "4492 2017-01-05 12:01:00  1.05048  1.05053  1.05031  1.05046  447   \n",
       "4493 2017-01-05 12:02:00  1.05046  1.05080  1.05046  1.05075  516   \n",
       "4494 2017-01-05 12:03:00  1.05075  1.05093  1.05063  1.05087  477   \n",
       "4495 2017-01-05 12:04:00  1.05087  1.05118  1.05087  1.05101  456   \n",
       "\n",
       "                 unixtime  \n",
       "4491  1483617600000000000  \n",
       "4492  1483617660000000000  \n",
       "4493  1483617720000000000  \n",
       "4494  1483617780000000000  \n",
       "4495  1483617840000000000  "
      ]
     },
     "execution_count": 40,
     "metadata": {},
     "output_type": "execute_result"
    }
   ],
   "source": [
    "df = df[(df.ts >= \"2017-01-05 12:00:00\") & (df.ts <= \"2017-01-05 13:00:00\")]\n",
    "df[\"unixtime\"] = df.ts.astype(np.int64)\n",
    "\n",
    "fig = go.Figure(\n",
    "    data=[\n",
    "        go.Candlestick(\n",
    "            x=df[\"ts\"],\n",
    "            open=df[\"open\"],\n",
    "            high=df[\"high\"],\n",
    "            low=df[\"low\"],\n",
    "            close=df[\"close\"],\n",
    "        )\n",
    "    ]\n",
    ")\n",
    "\n",
    "# fig.show()\n",
    "\n",
    "df.head()"
   ]
  },
  {
   "cell_type": "code",
   "execution_count": 41,
   "metadata": {},
   "outputs": [],
   "source": [
    "ti = np.linspace(df.unixtime.min(), df.unixtime.max(), 135)\n"
   ]
  },
  {
   "cell_type": "code",
   "execution_count": 45,
   "metadata": {},
   "outputs": [
    {
     "data": {
      "text/plain": [
       "1.050295"
      ]
     },
     "execution_count": 45,
     "metadata": {},
     "output_type": "execute_result"
    }
   ],
   "source": [
    "np.interp(ti, df.unixtime, df.close).mean().round(6)"
   ]
  }
 ],
 "metadata": {
  "interpreter": {
   "hash": "550056ff3b6c24ef08b20d0608428d73c2737dc12cdd6267fe4ea38c5eab2d02"
  },
  "kernelspec": {
   "display_name": "Python 3.8.9 ('venv': venv)",
   "language": "python",
   "name": "python3"
  },
  "language_info": {
   "codemirror_mode": {
    "name": "ipython",
    "version": 3
   },
   "file_extension": ".py",
   "mimetype": "text/x-python",
   "name": "python",
   "nbconvert_exporter": "python",
   "pygments_lexer": "ipython3",
   "version": "3.8.9"
  },
  "orig_nbformat": 4
 },
 "nbformat": 4,
 "nbformat_minor": 2
}
