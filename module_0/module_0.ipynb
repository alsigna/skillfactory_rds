{
 "metadata": {
  "language_info": {
   "codemirror_mode": {
    "name": "ipython",
    "version": 3
   },
   "file_extension": ".py",
   "mimetype": "text/x-python",
   "name": "python",
   "nbconvert_exporter": "python",
   "pygments_lexer": "ipython3",
   "version": "3.8.2-final"
  },
  "orig_nbformat": 2,
  "kernelspec": {
   "name": "python382jvsc74a57bd0f4a482af2786227ba8a2c798765867f857ec1995a7424cfb71a94f0902afc7b9",
   "display_name": "Python 3.8.2 64-bit ('venv')"
  },
  "metadata": {
   "interpreter": {
    "hash": "f4a482af2786227ba8a2c798765867f857ec1995a7424cfb71a94f0902afc7b9"
   }
  }
 },
 "nbformat": 4,
 "nbformat_minor": 2,
 "cells": [
  {
   "source": [
    "## Иницализация"
   ],
   "cell_type": "markdown",
   "metadata": {}
  },
  {
   "cell_type": "code",
   "execution_count": 10,
   "metadata": {},
   "outputs": [],
   "source": [
    "import numpy as np\n",
    "\n",
    "# random number from 0 to MAX_NUMBER for guessing\n",
    "MAX_NUMBER = 100\n",
    "# how many times to test algorithm\n",
    "ITERATION_COUNT = 10000\n",
    "\n",
    "def score_game(game_core):\n",
    "    '''Запускаем игру 1000 раз, чтобы узнать, как быстро игра угадывает число'''\n",
    "    count_ls = []\n",
    "    np.random.seed(1)  # фиксируем RANDOM SEED, чтобы ваш эксперимент был воспроизводим!\n",
    "    random_array = np.random.randint(1, MAX_NUMBER+1, size=(ITERATION_COUNT))\n",
    "    for number in random_array:\n",
    "        count_ls.append(game_core(number))\n",
    "    score = int(np.mean(count_ls))\n",
    "    print(f\"Ваш алгоритм угадывает число в среднем за {score} попыток\")\n",
    "    return(score)"
   ]
  },
  {
   "source": [
    "##  Алгоритм пользователя v1\n",
    "начинаем с середины диапазона загадывания двигаемся в сторону числа, вдвое уменьшая шаг (четверть диапазона изначально) с каждой попыткой"
   ],
   "cell_type": "markdown",
   "metadata": {}
  },
  {
   "cell_type": "code",
   "execution_count": 11,
   "metadata": {},
   "outputs": [
    {
     "output_type": "stream",
     "name": "stdout",
     "text": [
      "Ваш алгоритм угадывает число в среднем за 5 попыток\n"
     ]
    },
    {
     "output_type": "execute_result",
     "data": {
      "text/plain": [
       "5"
      ]
     },
     "metadata": {},
     "execution_count": 11
    }
   ],
   "source": [
    "def game_core_v3(number):\n",
    "    \"\"\"Custom algorithm for guessing random number.\n",
    "\n",
    "    Args:\n",
    "        number (int): Number to guess\n",
    "\n",
    "    Returns:\n",
    "        int: Number of attempts\n",
    "    \"\"\"\n",
    "    count = 1\n",
    "    predict = MAX_NUMBER // 2\n",
    "    step = predict // 2 + int(predict % 2 > 0)\n",
    "    while number != predict:\n",
    "        count += 1\n",
    "        if number > predict: \n",
    "            predict += step\n",
    "        elif number < predict: \n",
    "            predict -= step\n",
    "        step = step // 2 + int(step % 2 > 0)\n",
    "    return(count)\n",
    "\n",
    "\n",
    "score_game(game_core_v3)"
   ]
  },
  {
   "source": [
    "##  Алгоритм пользователя v2\n",
    "поиск со сдвигом границ (биинарный?)"
   ],
   "cell_type": "markdown",
   "metadata": {}
  },
  {
   "cell_type": "code",
   "execution_count": 12,
   "metadata": {},
   "outputs": [
    {
     "output_type": "stream",
     "name": "stdout",
     "text": [
      "Ваш алгоритм угадывает число в среднем за 5 попыток\n"
     ]
    },
    {
     "output_type": "execute_result",
     "data": {
      "text/plain": [
       "5"
      ]
     },
     "metadata": {},
     "execution_count": 12
    }
   ],
   "source": [
    "def game_core_v4(number):\n",
    "    \"\"\"Guessing based on Binary Search.\n",
    "\n",
    "    Args:\n",
    "        number (int): Number to guess\n",
    "\n",
    "    Returns:\n",
    "        int: Number of attempts\n",
    "    \"\"\"\n",
    "    left = 0\n",
    "    right = MAX_NUMBER+1\n",
    "    count = 1\n",
    "    predict = MAX_NUMBER // 2\n",
    "    \n",
    "    while number != predict:\n",
    "        count += 1\n",
    "        if predict < number:\n",
    "            left = predict\n",
    "        else:\n",
    "            right = predict\n",
    "        predict = (left + right) // 2\n",
    "    \n",
    "    return(count)\n",
    "\n",
    "\n",
    "score_game(game_core_v4)"
   ]
  },
  {
   "source": [
    "# Алгоритм задания v1\n",
    "рандомно пытаемся угадать число"
   ],
   "cell_type": "markdown",
   "metadata": {}
  },
  {
   "cell_type": "code",
   "execution_count": 13,
   "metadata": {},
   "outputs": [
    {
     "output_type": "stream",
     "name": "stdout",
     "text": [
      "Ваш алгоритм угадывает число в среднем за 100 попыток\n"
     ]
    },
    {
     "output_type": "execute_result",
     "data": {
      "text/plain": [
       "100"
      ]
     },
     "metadata": {},
     "execution_count": 13
    }
   ],
   "source": [
    "def game_core_v1(number):\n",
    "    '''Просто угадываем на random, никак не используя информацию о больше или меньше.\n",
    "       Функция принимает загаданное число и возвращает число попыток'''\n",
    "    count = 0\n",
    "    while True:\n",
    "        count+=1\n",
    "        predict = np.random.randint(1,101) # предполагаемое число\n",
    "        if number == predict: \n",
    "            return count # выход из цикла, если угадали\n",
    "\n",
    "\n",
    "score_game(game_core_v1)"
   ]
  },
  {
   "source": [
    "# Алгоритм задания v2\n",
    "рандомно выбираем число, а потом двигаемся от него к угадываемому с шагом 1"
   ],
   "cell_type": "markdown",
   "metadata": {}
  },
  {
   "cell_type": "code",
   "execution_count": 14,
   "metadata": {},
   "outputs": [
    {
     "output_type": "stream",
     "name": "stdout",
     "text": [
      "Ваш алгоритм угадывает число в среднем за 33 попыток\n"
     ]
    },
    {
     "output_type": "execute_result",
     "data": {
      "text/plain": [
       "33"
      ]
     },
     "metadata": {},
     "execution_count": 14
    }
   ],
   "source": [
    "def game_core_v2(number):\n",
    "    '''Сначала устанавливаем любое random число, а потом уменьшаем или увеличиваем его в зависимости от того, больше оно или меньше нужного.\n",
    "       Функция принимает загаданное число и возвращает число попыток'''\n",
    "    count = 1\n",
    "    predict = np.random.randint(1,101)\n",
    "    while number != predict:\n",
    "        count+=1\n",
    "        if number > predict: \n",
    "            predict += 1\n",
    "        elif number < predict: \n",
    "            predict -= 1\n",
    "    return(count) # выход из цикла, если угадали\n",
    "\n",
    "\n",
    "score_game(game_core_v2)"
   ]
  }
 ]
}