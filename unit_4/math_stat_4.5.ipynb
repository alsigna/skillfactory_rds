{
 "cells": [
  {
   "cell_type": "code",
   "execution_count": 16,
   "source": [
    "values = [4, 2, 1, 7, 3, 6]\n",
    "weights = [5, 9, 8, 2, 6, 5]\n",
    "C = 15\n",
    "n = 6"
   ],
   "outputs": [],
   "metadata": {}
  },
  {
   "cell_type": "code",
   "execution_count": 17,
   "source": [
    "import numpy as np"
   ],
   "outputs": [],
   "metadata": {}
  },
  {
   "cell_type": "code",
   "execution_count": 18,
   "source": [
    "c = - np.array(values)\n",
    "A = np.array(weights)         #shape = (6,)\n",
    "A = np.expand_dims(A, 0)      #shape = (1,6)\n",
    "b = np.array([C])"
   ],
   "outputs": [],
   "metadata": {}
  },
  {
   "cell_type": "code",
   "execution_count": 19,
   "source": [
    "from scipy.optimize import linprog"
   ],
   "outputs": [],
   "metadata": {}
  },
  {
   "cell_type": "code",
   "execution_count": 20,
   "source": [
    "linprog(c=c, A_ub=A, b_ub=b)"
   ],
   "outputs": [
    {
     "output_type": "execute_result",
     "data": {
      "text/plain": [
       "     con: array([], dtype=float64)\n",
       "     fun: -52.50000000003075\n",
       " message: 'Optimization terminated successfully.'\n",
       "     nit: 5\n",
       "   slack: array([-2.24904539e-11])\n",
       "  status: 0\n",
       " success: True\n",
       "       x: array([6.18738537e-14, 1.05853307e-12, 1.21475944e-13, 7.50000000e+00,\n",
       "       4.00246695e-13, 4.71394166e-13])"
      ]
     },
     "metadata": {},
     "execution_count": 20
    }
   ],
   "metadata": {}
  },
  {
   "cell_type": "code",
   "execution_count": 42,
   "source": [
    "import cvxpy"
   ],
   "outputs": [],
   "metadata": {}
  },
  {
   "cell_type": "code",
   "execution_count": 43,
   "source": [
    "x = cvxpy.Variable(shape=n, integer = True)\n",
    "constraint = (A @ x <= b)\n",
    "total_value = (c * x)"
   ],
   "outputs": [
    {
     "output_type": "stream",
     "name": "stderr",
     "text": [
      "/Users/alexigna/projects/skillfactory/data science/skillfactory_rds/venv/lib/python3.8/site-packages/cvxpy/expressions/expression.py:556: UserWarning: \n",
      "This use of ``*`` has resulted in matrix multiplication.\n",
      "Using ``*`` for matrix multiplication has been deprecated since CVXPY 1.1.\n",
      "    Use ``*`` for matrix-scalar and vector-scalar multiplication.\n",
      "    Use ``@`` for matrix-matrix and matrix-vector multiplication.\n",
      "    Use ``multiply`` for elementwise multiplication.\n",
      "This code path has been hit 8 times so far.\n",
      "\n",
      "  warnings.warn(msg, UserWarning)\n"
     ]
    }
   ],
   "metadata": {}
  },
  {
   "cell_type": "code",
   "execution_count": 44,
   "source": [
    "problem = cvxpy.Problem(cvxpy.Minimize(total_value), constraints=[constraint])"
   ],
   "outputs": [],
   "metadata": {}
  },
  {
   "cell_type": "code",
   "execution_count": 45,
   "source": [
    "problem.solve(solver='ECOS_BB')"
   ],
   "outputs": [
    {
     "output_type": "execute_result",
     "data": {
      "text/plain": [
       "-138412039.00000018"
      ]
     },
     "metadata": {},
     "execution_count": 45
    }
   ],
   "metadata": {}
  },
  {
   "cell_type": "code",
   "execution_count": 46,
   "source": [
    "x = cvxpy.Variable(shape=n, integer = True)\n",
    "constraint = (A @ x <= b)\n",
    "x_positive = (x >= 0)\n",
    "total_value = (c * x)"
   ],
   "outputs": [
    {
     "output_type": "stream",
     "name": "stderr",
     "text": [
      "/Users/alexigna/projects/skillfactory/data science/skillfactory_rds/venv/lib/python3.8/site-packages/cvxpy/expressions/expression.py:556: UserWarning: \n",
      "This use of ``*`` has resulted in matrix multiplication.\n",
      "Using ``*`` for matrix multiplication has been deprecated since CVXPY 1.1.\n",
      "    Use ``*`` for matrix-scalar and vector-scalar multiplication.\n",
      "    Use ``@`` for matrix-matrix and matrix-vector multiplication.\n",
      "    Use ``multiply`` for elementwise multiplication.\n",
      "This code path has been hit 9 times so far.\n",
      "\n",
      "  warnings.warn(msg, UserWarning)\n"
     ]
    }
   ],
   "metadata": {}
  },
  {
   "cell_type": "code",
   "execution_count": 48,
   "source": [
    "problem = cvxpy.Problem(cvxpy.Minimize(total_value), constraints=[constraint, x_positive])\n",
    "problem.solve(solver='ECOS_BB')"
   ],
   "outputs": [
    {
     "output_type": "stream",
     "name": "stderr",
     "text": [
      "/Users/alexigna/projects/skillfactory/data science/skillfactory_rds/venv/lib/python3.8/site-packages/cvxpy/problems/problem.py:1278: UserWarning: Solution may be inaccurate. Try another solver, adjusting the solver settings, or solve with verbose=True for more information.\n",
      "  warnings.warn(\n"
     ]
    },
    {
     "output_type": "execute_result",
     "data": {
      "text/plain": [
       "-49.00000001590603"
      ]
     },
     "metadata": {},
     "execution_count": 48
    }
   ],
   "metadata": {}
  },
  {
   "cell_type": "code",
   "execution_count": 52,
   "source": [
    "x = cvxpy.Variable(shape=n, boolean = True)\n",
    "constraint = (A @ x <= b)\n",
    "x_positive = (x >= 0)\n",
    "total_value = (c * x)\n",
    "problem = cvxpy.Problem(cvxpy.Minimize(total_value), constraints=[constraint, x_positive])\n",
    "print(problem.solve(solver='ECOS_BB'))\n",
    "print(x.value)"
   ],
   "outputs": [
    {
     "output_type": "stream",
     "name": "stdout",
     "text": [
      "-17.00000000382157\n",
      "[1.00000000e+00 2.25474413e-10 2.07396078e-10 1.00000000e+00\n",
      " 2.24003299e-10 1.00000000e+00]\n"
     ]
    },
    {
     "output_type": "stream",
     "name": "stderr",
     "text": [
      "/Users/alexigna/projects/skillfactory/data science/skillfactory_rds/venv/lib/python3.8/site-packages/cvxpy/expressions/expression.py:556: UserWarning: \n",
      "This use of ``*`` has resulted in matrix multiplication.\n",
      "Using ``*`` for matrix multiplication has been deprecated since CVXPY 1.1.\n",
      "    Use ``*`` for matrix-scalar and vector-scalar multiplication.\n",
      "    Use ``@`` for matrix-matrix and matrix-vector multiplication.\n",
      "    Use ``multiply`` for elementwise multiplication.\n",
      "This code path has been hit 13 times so far.\n",
      "\n",
      "  warnings.warn(msg, UserWarning)\n"
     ]
    }
   ],
   "metadata": {}
  },
  {
   "cell_type": "markdown",
   "source": [
    "Составьте оптимальный план перевозок, со Склада № 1 и Склада № 2, в три торговых центра, с учётом тарифов, запасов и потребностей, которые указаны в таблице:\n",
    "\n",
    "\n",
    "|                 | ТЦ1 (110шт) | ТЦ2 (150шт) | ТЦ3 (140шт) |\n",
    "|:---------------:|:-----------:|:-----------:|:-----------:|\n",
    "| Склад 1 (180шт) | 2 у.е.      | 5 у.е.      | 3 у.е.      |\n",
    "| Склад 2 (220шт) | 7 у.е.      | 7 у.е.      | 6 у.е.      |\n",
    "\n",
    "\n",
    "Сформулируйте задачу, как задачу линейного программирования, и решите её любым способом (желательно программным).\n",
    "\n"
   ],
   "metadata": {}
  },
  {
   "cell_type": "code",
   "execution_count": 54,
   "source": [
    "#x - вектор кол-ва перевезенных товаров (сначала из 1-го склада в 3 ТЦ, затем из 2-го склада в 3 ТЦ)\n",
    "# ограничения-неравенства: x1+x2+x3 <=180, x4+x5+x6 <= 220\n",
    "# ограничения-равенства: x1+x4=110, x2+x5=150, x3+x6=140\n",
    "\n",
    "c1=[2, 5, 3, 7, 7, 6]\n",
    "A_ub1=[[1, 1, 1, 0, 0, 0], [0, 0, 0, 1, 1, 1]]\n",
    "b_ub1=[180, 220]\n",
    "A_eq1=[[1, 0, 0, 1, 0, 0], [0, 1, 0, 0, 1, 0], [0, 0, 1, 0, 0, 1]]\n",
    "b_eq1=[110, 150, 140]\n",
    "\n",
    "from scipy.optimize import linprog\n",
    "import numpy as np\n",
    "result = linprog(c1, A_ub1, b_ub1, A_eq1, b_eq1)\n",
    "result.fun"
   ],
   "outputs": [
    {
     "output_type": "execute_result",
     "data": {
      "text/plain": [
       "1899.9999256826582"
      ]
     },
     "metadata": {},
     "execution_count": 54
    }
   ],
   "metadata": {}
  },
  {
   "cell_type": "markdown",
   "source": [
    "Решите задачу о назначениях\n",
    "\n",
    "![table](https://lms.skillfactory.ru/assets/courseware/v1/304a4fb2612ca0e3c68b1f681bd1876c/asset-v1:Skillfactory+DST-WEEKLY-2.0+08JULY2020+type@asset+block/MAT_4_unit_61.png)"
   ],
   "metadata": {}
  },
  {
   "cell_type": "code",
   "execution_count": 58,
   "source": [
    "import cvxpy as cvx\n",
    "c = np.array([[1000, 12, 10, 19, 8],\n",
    "    [12, 1000, 3, 7, 2],\n",
    "    [10, 3, 1000, 6, 20],\n",
    "    [19, 7, 6, 1000, 4],\n",
    "    [8, 2, 20, 4, 1000]])\n",
    "\n",
    "x = cvx.Variable(shape=(5,5), boolean=True)\n",
    "constraints = [\n",
    "    cvx.sum(x, axis=0) == np.ones(5),\n",
    "    cvx.sum(x, axis=1) == np.ones(5),\n",
    "]\n",
    "func = cvx.sum(cvx.multiply(x,c))\n",
    "problem = cvx.Problem(cvx.Minimize(func), constraints = constraints)\n",
    "problem.solve(solver='ECOS_BB') "
   ],
   "outputs": [
    {
     "output_type": "execute_result",
     "data": {
      "text/plain": [
       "31.99999999996136"
      ]
     },
     "metadata": {},
     "execution_count": 58
    }
   ],
   "metadata": {}
  },
  {
   "cell_type": "markdown",
   "source": [
    "Необходимо найти кратчайший маршрут из точки , который проходит через все другие точки и возвращается в .\n",
    "Сформулируйте эту задачу как задачу ЦЛП и решите её.\n",
    "\n",
    "![alt](https://lms.skillfactory.ru/assets/courseware/v1/1dbdee74e890f6f4a8142e80d5799db3/asset-v1:Skillfactory+DST-WEEKLY-2.0+08JULY2020+type@asset+block/MAT_4_unit_62.png)"
   ],
   "metadata": {}
  },
  {
   "cell_type": "code",
   "execution_count": 59,
   "source": [
    "x = cvx.Variable(shape=(5,5), boolean=True)\n",
    "u = cvx.Variable(shape=5, integer=True)\n",
    "from itertools import product\n",
    "constraints = [\n",
    "    cvx.sum(x, axis=0) == np.ones(5),\n",
    "    cvx.sum(x, axis=1) == np.ones(5),\n",
    "    u >= 0,\n",
    "    u <= 4,\n",
    "    cvx.sum(cvx.diag(x)) == 0\n",
    "]\n",
    "for i, j in product(range(5), range(5)):\n",
    "    if i >= 0 and j >= 1 and i != j:\n",
    "        constraints.append(u[i] - u[j] + 5 * x[i,j] <= 4)\n",
    "\n",
    "d = np.array([[0, 12, 10, 19, 8], \n",
    "              [12, 0, 3, 7, 2], \n",
    "              [10, 3, 0, 6, 20], \n",
    "              [19, 7, 6, 0, 4], \n",
    "              [8, 2, 20, 4, 0]])\n",
    "func = cvx.sum(cvx.multiply(x, d))\n",
    "problem = cvx.Problem(cvx.Minimize(func), constraints=constraints)\n",
    "result = problem.solve(solver='ECOS_BB')\n",
    "print(np.round(result))"
   ],
   "outputs": [
    {
     "output_type": "stream",
     "name": "stdout",
     "text": [
      "32.0\n"
     ]
    }
   ],
   "metadata": {}
  }
 ],
 "metadata": {
  "orig_nbformat": 4,
  "language_info": {
   "name": "python",
   "version": "3.8.2",
   "mimetype": "text/x-python",
   "codemirror_mode": {
    "name": "ipython",
    "version": 3
   },
   "pygments_lexer": "ipython3",
   "nbconvert_exporter": "python",
   "file_extension": ".py"
  },
  "kernelspec": {
   "name": "python3",
   "display_name": "Python 3.8.2 64-bit ('venv': venv)"
  },
  "interpreter": {
   "hash": "a7ef03c113a9ff7e401e4f5b09b4413a5a8d6bd31242b59d5133bbf684243222"
  }
 },
 "nbformat": 4,
 "nbformat_minor": 2
}