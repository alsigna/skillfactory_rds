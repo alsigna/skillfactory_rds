{
  "cells": [
    {
      "cell_type": "markdown",
      "source": [
        "Думаю, вы уже познакомились со стандартными функциями в numpy для вычисления станадртных оценок (среднего, медианы и проч), однако в анализе реальных данных вы, как правило, будете работать с целым датасетом.\n",
        "\n",
        "В этом разделе мы познакомимся с вычислением описательных статистик для целого датасета.\n",
        "\n",
        "Большинство из них вычиляются одной командой (методом) describe\n",
        "\n",
        "С вычислением корреляцонной матрицы мы уже сталкивались во 2 модуле, но освежим и ее\n",
        "\n",
        "И отдельное внимание уделим вычислению условных и безусловных пропорций.\n"
      ],
      "metadata": {
        "id": "wfs8rM4U-4AT",
        "colab_type": "text"
      }
    },
    {
      "cell_type": "markdown",
      "source": [
        "В датасете framingham.csv представлены данные, которые группа ученых из Фрамингема (США) использовала для выявления риска заболевания ишемической болезнью сердца в течение 10 лет.\n",
        "\n",
        "Демографические данные: \n",
        "\n",
        "    sex (male): пол, мужчина (1) или женщина (0) \n",
        "\n",
        "    age: возраст \n",
        "    \n",
        "    education: уровень образования (0-4: школа-колледж)\n",
        "    \n",
        "Поведенческие данные: \n",
        "\n",
        "    currentSmoker: курильщик (1) или нет (0)\n",
        "\n",
        "    cigsPerDay: количество выкуриваемых сигарет в день (шт.)\n",
        "\n",
        "Медицинская история:\n",
        "\n",
        "    BPMeds: принимает ли пациент препараты для регулировки артериального давления (0 - нет, 1 - да)\n",
        "\n",
        "    prevalentStroke: случался ли у пациента сердечный приступ (0 - нет, 1 - да)\n",
        "\n",
        "    prevalentHyp: страдает ли пациент гипертонией (0 - нет, 1 - да)\n",
        "\n",
        "    diabetes: страдает ли пациент диабетом (0 - нет, 1 - да)\n",
        "\n",
        "Физическое состояние:\n",
        "\n",
        "    totChol: уровень холестерина\n",
        "\n",
        "    sysBP: систолическое (верхнее) артериальное давление \n",
        "\n",
        "    diaBP: диастолическое (нижнее) артериальное давление \n",
        "\n",
        "    BMI: индекс массы тела - масса (кг) / рост^2 (в метрах)\n",
        "\n",
        "    heartRate: пульс\n",
        "\n",
        "    glucose: уровень глюкозы\n",
        "\n",
        "Целевая переменная (на которую авторы строили регрессию):\n",
        "\n",
        "    TenYearCHD: риск заболевания ишемической болезнью сердца в течение 10 лет"
      ],
      "metadata": {
        "id": "-IgdK2ja-4Ac",
        "colab_type": "text"
      }
    },
    {
      "cell_type": "markdown",
      "source": [
        "Импорт библиотек:"
      ],
      "metadata": {
        "id": "KAPvNzfy-4Ag",
        "colab_type": "text"
      }
    },
    {
      "cell_type": "code",
      "source": [
        "import pandas as pd\n",
        "import numpy as np\n",
        "import matplotlib.pyplot as plt\n",
        "import seaborn as sn\n",
        "import matplotlib.mlab as mlab\n",
        "%matplotlib inline"
      ],
      "outputs": [],
      "execution_count": 0,
      "metadata": {
        "id": "TYeT_FtB-4Am",
        "colab_type": "code",
        "colab": {}
      }
    },
    {
      "cell_type": "markdown",
      "source": [
        "Импорт датасета:"
      ],
      "metadata": {
        "id": "RljnPEK0-4A3",
        "colab_type": "text"
      }
    },
    {
      "cell_type": "code",
      "source": [
        "df = pd.read_csv('framingham.csv')"
      ],
      "outputs": [],
      "execution_count": 0,
      "metadata": {
        "id": "hnvbVple-4A7",
        "colab_type": "code",
        "colab": {}
      }
    },
    {
      "cell_type": "markdown",
      "source": [
        "Шапка датасета:"
      ],
      "metadata": {
        "id": "F4UnM5M--4BG",
        "colab_type": "text"
      }
    },
    {
      "cell_type": "code",
      "source": [
        "df.head()"
      ],
      "outputs": [],
      "execution_count": 0,
      "metadata": {
        "id": "F4XPaDXW-4BI",
        "colab_type": "code",
        "colab": {}
      }
    },
    {
      "cell_type": "markdown",
      "source": [
        "Размер датасета:"
      ],
      "metadata": {
        "id": "9USrZY45-4BU",
        "colab_type": "text"
      }
    },
    {
      "cell_type": "code",
      "source": [
        "df.shape"
      ],
      "outputs": [],
      "execution_count": 0,
      "metadata": {
        "id": "Fwvx9Pg--4BX",
        "colab_type": "code",
        "colab": {}
      }
    },
    {
      "cell_type": "markdown",
      "source": [
        "Названия столбцов датасета понадобятся нам, чтобы обращаться к отдельным признакам пациентов:"
      ],
      "metadata": {
        "id": "d7ZVZz6J-4Bk",
        "colab_type": "text"
      }
    },
    {
      "cell_type": "code",
      "source": [
        "df.columns"
      ],
      "outputs": [],
      "execution_count": 0,
      "metadata": {
        "id": "6_PgsTeo-4Bn",
        "colab_type": "code",
        "colab": {}
      }
    },
    {
      "cell_type": "markdown",
      "source": [
        "Поиск missing values:"
      ],
      "metadata": {
        "id": "V3MI_qLW-4Bx",
        "colab_type": "text"
      }
    },
    {
      "cell_type": "code",
      "source": [
        "df.isnull().sum()"
      ],
      "outputs": [],
      "execution_count": 0,
      "metadata": {
        "scrolled": true,
        "id": "NuiYzLyO-4B0",
        "colab_type": "code",
        "colab": {}
      }
    },
    {
      "cell_type": "markdown",
      "source": [
        "Видим, что у 105 пациентов нет данных об образовании, у 388 - об уровне глюкозы. Недостающие данные могут стать причиной некорректных значений оценок, и от них лучше избавиться."
      ],
      "metadata": {
        "id": "EXTsHpsy-4B-",
        "colab_type": "text"
      }
    },
    {
      "cell_type": "markdown",
      "source": [
        "Количество строк, в которых есть missing values"
      ],
      "metadata": {
        "id": "LjqRmXZm-4CA",
        "colab_type": "text"
      }
    },
    {
      "cell_type": "code",
      "source": [
        "count=0\n",
        "for i in df.isnull().sum(axis=1):\n",
        "    if i>0:\n",
        "        count=count+1\n",
        "print('Общее количество строк с пропущенными значениями: ', count)"
      ],
      "outputs": [],
      "execution_count": 0,
      "metadata": {
        "scrolled": true,
        "id": "ZhKlR2_O-4CD",
        "colab_type": "code",
        "colab": {}
      }
    },
    {
      "cell_type": "markdown",
      "source": [
        "Итого у нас 582 строки, в которых не хватает каких-нибудь данных"
      ],
      "metadata": {
        "id": "LCm1A2VV-4CM",
        "colab_type": "text"
      }
    },
    {
      "cell_type": "markdown",
      "source": [
        "Найдем соотношение строк с недостающими данными и общего кол-ва строк\n",
        "\n",
        "Если их будет относительно немного, то выгоднее избавиться от неполных строк, а если много, то надо посмотреть, в каких столбцах больше всего не хватает данных - возможно, выгоднее будет избавляться от них."
      ],
      "metadata": {
        "id": "nJgoLIEn-4CR",
        "colab_type": "text"
      }
    },
    {
      "cell_type": "code",
      "source": [
        "count/df.shape[0]"
      ],
      "outputs": [],
      "execution_count": 0,
      "metadata": {
        "id": "eQflme5B-4CU",
        "colab_type": "code",
        "colab": {}
      }
    },
    {
      "cell_type": "markdown",
      "source": [
        "Т.к. соотношение мало (13%), можем отбросить строки с отсутствующими данными):"
      ],
      "metadata": {
        "id": "9hypSyoT-4Cb",
        "colab_type": "text"
      }
    },
    {
      "cell_type": "code",
      "source": [
        "df.dropna(axis=0,inplace=True)"
      ],
      "outputs": [],
      "execution_count": 0,
      "metadata": {
        "id": "Y6rA77w_-4Ce",
        "colab_type": "code",
        "colab": {}
      }
    },
    {
      "cell_type": "markdown",
      "source": [
        "Размеры датасета после удаления missing values:"
      ],
      "metadata": {
        "id": "1yqWcS3r-4Cm",
        "colab_type": "text"
      }
    },
    {
      "cell_type": "code",
      "source": [
        "df.shape"
      ],
      "outputs": [],
      "execution_count": 0,
      "metadata": {
        "id": "okpXEm7d-4Co",
        "colab_type": "code",
        "colab": {}
      }
    },
    {
      "cell_type": "markdown",
      "source": [
        "Получение описательных статистик при помощи фунции describe: "
      ],
      "metadata": {
        "id": "x3VAQuUh-4Cx",
        "colab_type": "text"
      }
    },
    {
      "cell_type": "code",
      "source": [
        "df.describe()"
      ],
      "outputs": [],
      "execution_count": 0,
      "metadata": {
        "id": "dyLQuohX-4Cz",
        "colab_type": "code",
        "colab": {}
      }
    },
    {
      "cell_type": "markdown",
      "source": [
        "Данные полученные из describe:\n",
        "\n",
        "    mean - среднее значение\n",
        "    std - стандартное (среднеквадратичное) отклонение. \n",
        "    min - минимальное значение \n",
        "    max - максимальное значение\n",
        "    25% - нижняя квартиль (медиана меньшей/левой половины выборки)\n",
        "    50% - медиана\n",
        "    75% - верхняя квартиль (медиана большей/правой половины выборки)"
      ],
      "metadata": {
        "id": "QIpHmha9-4C7",
        "colab_type": "text"
      }
    },
    {
      "cell_type": "markdown",
      "source": [
        "Далее строим тепловую карту корреляционной матрицы при помощи функции heatmap и саму корреляционную матрицу. Чем насыщеннее цвет, тем сильнее корреляция."
      ],
      "metadata": {
        "id": "UHAmovu6-4C_",
        "colab_type": "text"
      }
    },
    {
      "cell_type": "code",
      "source": [
        "sn.heatmap(df.corr())"
      ],
      "outputs": [],
      "execution_count": 0,
      "metadata": {
        "id": "ahhaWQ1q-4DD",
        "colab_type": "code",
        "colab": {}
      }
    },
    {
      "cell_type": "markdown",
      "source": [
        "Можем увидеть сильную корреляцию между диастолическим и систолическим давлением. Корреляции целевой переменной со всеми признаками невелики. Это значит, что линейная связь между ними очень слабая"
      ],
      "metadata": {
        "id": "tp8bjgek-4DK",
        "colab_type": "text"
      }
    },
    {
      "cell_type": "code",
      "source": [
        "df.corr()"
      ],
      "outputs": [],
      "execution_count": 0,
      "metadata": {
        "scrolled": true,
        "id": "bF3bUSbK-4DM",
        "colab_type": "code",
        "colab": {}
      }
    },
    {
      "cell_type": "markdown",
      "source": [
        "Со средним, стандартным отклонением, медианой и корреляцией все ясно.\n",
        "\n",
        "Давайте выясним, как вычислять выборочные пропорции в датасете"
      ],
      "metadata": {
        "id": "o9QIDPTf-4DX",
        "colab_type": "text"
      }
    },
    {
      "cell_type": "markdown",
      "source": [
        "как вычислить долю мужчин в выборке?"
      ],
      "metadata": {
        "id": "r1FUl-Xp-4DZ",
        "colab_type": "text"
      }
    },
    {
      "cell_type": "markdown",
      "source": [
        "Длинный способ: посчитаем количество всех мужчин в выборке при помощи метода value_counts() и поделим его на общее количество пациентов"
      ],
      "metadata": {
        "id": "aivWxkD--4Db",
        "colab_type": "text"
      }
    },
    {
      "cell_type": "code",
      "source": [
        "m=df['male'].value_counts() # счетчик разных значений в dataframe\n",
        "print(\"Общее количество мужчин и женщин\\n\", m)\n",
        "print(\"Общее количество мужчин:\", m[1])"
      ],
      "outputs": [],
      "execution_count": 0,
      "metadata": {
        "id": "MYWWwN0U-4Df",
        "colab_type": "code",
        "colab": {}
      }
    },
    {
      "cell_type": "code",
      "source": [
        "p_male=m[1]/df.shape[0] # считаем пропорцию мужчин среди всех пациентов\n",
        "print(\"Доля мужчин среди всех пациентов:\", p_male)"
      ],
      "outputs": [],
      "execution_count": 0,
      "metadata": {
        "id": "HYtIsEoL-4Dq",
        "colab_type": "code",
        "colab": {}
      }
    },
    {
      "cell_type": "markdown",
      "source": [
        "Короткий способ: задать в методе value_counts() специальный параметр, который будет вычислиять не абсолютные частоты (количества), а относительные (пропорции)"
      ],
      "metadata": {
        "id": "MTBgRJKL-4Dx",
        "colab_type": "text"
      }
    },
    {
      "cell_type": "code",
      "source": [
        "df['male'].value_counts(normalize = True ) # параметр normalize = True позволяет считать сразу пропорцию вместо количества"
      ],
      "outputs": [],
      "execution_count": 0,
      "metadata": {
        "id": "NGvYUznj-4Dz",
        "colab_type": "code",
        "colab": {}
      }
    },
    {
      "cell_type": "markdown",
      "source": [
        "С абсолютными пропорциями тоже ясно. Как насчет условных?"
      ],
      "metadata": {
        "id": "-gJ57OVV-4D-",
        "colab_type": "text"
      }
    },
    {
      "cell_type": "markdown",
      "source": [
        "Как вычислить долю курильщиков среди мужчин и среди женщин:"
      ],
      "metadata": {
        "id": "yvXnf8bH-4D_",
        "colab_type": "text"
      }
    },
    {
      "cell_type": "code",
      "source": [
        "male_groups=df.groupby('male') # groupgy разбивает датасет на группы по признаку пола"
      ],
      "outputs": [],
      "execution_count": 0,
      "metadata": {
        "id": "pTyhhDRT-4EB",
        "colab_type": "code",
        "colab": {}
      }
    },
    {
      "cell_type": "markdown",
      "source": [
        "Внутри каждой группы можем взять счетчик value_counts() для признака currentSmoker\n",
        "\n",
        "пол 0 - женщина, пол 1 - мужчина."
      ],
      "metadata": {
        "id": "j_QZ2Z67-4EG",
        "colab_type": "text"
      }
    },
    {
      "cell_type": "code",
      "source": [
        "male_groups['currentSmoker'].value_counts() # можем отдельно вычислить количество курильщиков среди мужчин и среди женщин"
      ],
      "outputs": [],
      "execution_count": 0,
      "metadata": {
        "id": "D4uZG06--4EI",
        "colab_type": "code",
        "colab": {}
      }
    },
    {
      "cell_type": "markdown",
      "source": [
        "Итак: курит 808 женщин и 981 мужчин"
      ],
      "metadata": {
        "id": "ZT51MPpa-4EO",
        "colab_type": "text"
      }
    },
    {
      "cell_type": "markdown",
      "source": [
        "Теперь вычислим пропорции курильщиков внутри каждого пола.\n",
        "\n",
        "Вы можете убедиться, что это именно условные пропорции, поделив количество курящих мужчин на общее количество мужчин и сравнив результаты, или если заметите, что вероятности внутри каждой группы пола дают в сумме 1"
      ],
      "metadata": {
        "id": "Ehkh6n9U-4EP",
        "colab_type": "text"
      }
    },
    {
      "cell_type": "code",
      "source": [
        "ms=male_groups['currentSmoker'].value_counts(normalize = True) \n",
        "print('Доли курильщиков среди мужчин и среди женщин\\n',ms)\n",
        "print('Доля курильщиков среди мужчин:',ms[1,1])"
      ],
      "outputs": [],
      "execution_count": 0,
      "metadata": {
        "id": "U1etvSSm-4ER",
        "colab_type": "code",
        "colab": {}
      }
    },
    {
      "cell_type": "markdown",
      "source": [
        "Как вычислить среднее значение пульса у курящих и не курящих:"
      ],
      "metadata": {
        "id": "nMFgVay4-4Ed",
        "colab_type": "text"
      }
    },
    {
      "cell_type": "code",
      "source": [
        "smok_groups=df.groupby('currentSmoker')"
      ],
      "outputs": [],
      "execution_count": 0,
      "metadata": {
        "id": "9Uhd5HEh-4Eh",
        "colab_type": "code",
        "colab": {}
      }
    },
    {
      "cell_type": "code",
      "source": [
        "smok_groups['heartRate'].mean()"
      ],
      "outputs": [],
      "execution_count": 0,
      "metadata": {
        "id": "I-g2AGbq-4Eo",
        "colab_type": "code",
        "colab": {}
      }
    },
    {
      "cell_type": "markdown",
      "source": [
        "Как вычислить долю пациентов группы риска среди курящих и не курящих:"
      ],
      "metadata": {
        "id": "y_JyAdo8-4Eu",
        "colab_type": "text"
      }
    },
    {
      "cell_type": "code",
      "source": [
        "srisk=smok_groups['TenYearCHD'].value_counts(normalize = True)\n",
        "print('Доли группы риска среди курильщиков и не курильщиков\\n',srisk)\n",
        "print('Доля группы риска среди курильщиков:',srisk[1,1])"
      ],
      "outputs": [],
      "execution_count": 0,
      "metadata": {
        "id": "hqW-wv1s-4Ex",
        "colab_type": "code",
        "colab": {}
      }
    },
    {
      "cell_type": "markdown",
      "source": [
        "Трюк по вычислению частот для переменных-индикаторов (значения 1 и 0): сумма значений равна количеству единиц в выборке, а значит, среднее равно доле единиц, то есть частоте:"
      ],
      "metadata": {
        "id": "KuoDiUlE-4E3",
        "colab_type": "text"
      }
    },
    {
      "cell_type": "code",
      "source": [
        "smok_groups['TenYearCHD'].mean()"
      ],
      "outputs": [],
      "execution_count": 0,
      "metadata": {
        "id": "lEYeoxYN-4E4",
        "colab_type": "code",
        "colab": {}
      }
    },
    {
      "cell_type": "code",
      "source": [],
      "outputs": [],
      "execution_count": 0,
      "metadata": {
        "id": "94e4TvZl-4E-",
        "colab_type": "code",
        "colab": {}
      }
    }
  ],
  "metadata": {
    "kernelspec": {
      "display_name": "Python 3",
      "language": "python",
      "name": "python3"
    },
    "language_info": {
      "codemirror_mode": {
        "name": "ipython",
        "version": 3
      },
      "file_extension": ".py",
      "mimetype": "text/x-python",
      "name": "python",
      "nbconvert_exporter": "python",
      "pygments_lexer": "ipython3",
      "version": "3.7.1"
    },
    "colab": {
      "name": "Descriptive_stats.ipynb",
      "provenance": []
    },
    "nteract": {
      "version": "0.27.0"
    }
  },
  "nbformat": 4,
  "nbformat_minor": 0
}