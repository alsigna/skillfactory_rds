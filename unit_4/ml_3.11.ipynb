{
 "cells": [
  {
   "cell_type": "code",
   "execution_count": 2,
   "metadata": {},
   "outputs": [],
   "source": [
    "import numpy as np\n",
    "import pandas as pd\n",
    "from sklearn.datasets import load_boston\n",
    "from sklearn.metrics import mean_squared_error, f1_score, accuracy_score, roc_curve, roc_auc_score\n",
    "from sklearn.model_selection import train_test_split\n",
    "\n",
    "from matplotlib import pyplot as plt\n",
    "from sklearn.linear_model import LogisticRegression\n",
    "from sklearn.metrics import f1_score"
   ]
  },
  {
   "cell_type": "code",
   "execution_count": 5,
   "metadata": {},
   "outputs": [
    {
     "name": "stdout",
     "output_type": "stream",
     "text": [
      "0.66\n"
     ]
    },
    {
     "name": "stderr",
     "output_type": "stream",
     "text": [
      "/Users/alexigna/projects/skillfactory/data science/skillfactory_rds/venv/lib/python3.8/site-packages/sklearn/linear_model/_logistic.py:763: ConvergenceWarning: lbfgs failed to converge (status=1):\n",
      "STOP: TOTAL NO. of ITERATIONS REACHED LIMIT.\n",
      "\n",
      "Increase the number of iterations (max_iter) or scale the data as shown in:\n",
      "    https://scikit-learn.org/stable/modules/preprocessing.html\n",
      "Please also refer to the documentation for alternative solver options:\n",
      "    https://scikit-learn.org/stable/modules/linear_model.html#logistic-regression\n",
      "  n_iter_i = _check_optimize_result(\n"
     ]
    }
   ],
   "source": [
    "adult_w_country = pd.read_csv('adult.data',\n",
    "                    names=['age', 'workclass', 'fnlwgt', 'education',\n",
    "                           'education_num', 'marital_status', 'occupation',\n",
    "                           'relationship', 'race', 'sex', 'capital_gain',\n",
    "                           'capital_loss', 'hours_per_week', 'native_country', 'salary'])\n",
    "\n",
    "adult_w_country.native_country = adult_w_country.native_country.apply(str.strip)\n",
    "\n",
    "country_count_list = adult_w_country.groupby(\"native_country\")[\"native_country\"].count()\n",
    "\n",
    "def country_count(name):\n",
    "    if country_count_list[name] < 100:\n",
    "        return \"Other\"\n",
    "    else:\n",
    "        return name\n",
    "\n",
    "adult_w_country.native_country = adult_w_country.native_country.apply(country_count)\n",
    "adult_w_country['salary'] = (adult_w_country['salary'] != ' <=50K').astype('int32')\n",
    "adult_w_country = pd.get_dummies(adult_w_country, columns=['workclass', 'education', 'marital_status', 'occupation', 'relationship', 'race', 'sex', \"native_country\"])\n",
    "# adult_w_country = pd.get_dummies(adult_w_country, columns=[\"native_country\"])\n",
    "\n",
    "# Нормализовать нуждающиеся в этом признаки\n",
    "a_features = adult_w_country[['age', 'education_num', 'hours_per_week', 'fnlwgt', 'capital_gain', 'capital_loss']].values\n",
    "norm_features = (a_features - a_features.mean(axis=0)) / a_features.std(axis=0)\n",
    "adult_w_country.loc[:, ['age', 'education_num', 'hours_per_week', 'fnlwgt', 'capital_gain', 'capital_loss']] = norm_features\n",
    "\n",
    "X = adult_w_country[list(set(adult_w_country.columns) - set(['salary']))].values\n",
    "y = adult_w_country['salary'].values\n",
    "\n",
    "# Добавить фиктивный столбец единиц (bias линейной модели)\n",
    "# X = np.hstack([np.ones(X.shape[0])[:, np.newaxis], X])\n",
    "\n",
    "model_4 = LogisticRegression()\n",
    "model_4.fit(X, y)\n",
    "y_pred = model_4.predict(X)\n",
    "print(round(f1_score(y,y_pred), 2))"
   ]
  }
 ],
 "metadata": {
  "interpreter": {
   "hash": "265455998716544771fe8f8e46d3bc336b7ce25fc2914091372dd288abc92a2d"
  },
  "kernelspec": {
   "display_name": "Python 3.8.2 64-bit ('venv': venv)",
   "name": "python3"
  },
  "language_info": {
   "codemirror_mode": {
    "name": "ipython",
    "version": 3
   },
   "file_extension": ".py",
   "mimetype": "text/x-python",
   "name": "python",
   "nbconvert_exporter": "python",
   "pygments_lexer": "ipython3",
   "version": "3.8.2"
  },
  "orig_nbformat": 4
 },
 "nbformat": 4,
 "nbformat_minor": 2
}
