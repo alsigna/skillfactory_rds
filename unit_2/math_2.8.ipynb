{
 "cells": [
  {
   "cell_type": "code",
   "execution_count": 2,
   "metadata": {},
   "outputs": [],
   "source": [
    "from scipy.stats import norm\n"
   ]
  },
  {
   "cell_type": "code",
   "execution_count": 3,
   "metadata": {},
   "outputs": [
    {
     "data": {
      "text/plain": "0.9331927987311419"
     },
     "execution_count": 3,
     "metadata": {},
     "output_type": "execute_result"
    }
   ],
   "source": [
    "norm.cdf(1.5)"
   ]
  },
  {
   "cell_type": "code",
   "execution_count": 4,
   "metadata": {},
   "outputs": [
    {
     "data": {
      "text/plain": "1.2815515655446004"
     },
     "execution_count": 4,
     "metadata": {},
     "output_type": "execute_result"
    }
   ],
   "source": [
    "norm.ppf(0.9)"
   ]
  },
  {
   "cell_type": "code",
   "execution_count": 5,
   "metadata": {},
   "outputs": [
    {
     "data": {
      "text/plain": "0.84"
     },
     "execution_count": 5,
     "metadata": {},
     "output_type": "execute_result"
    }
   ],
   "source": [
    "round(norm.cdf(1),2)"
   ]
  },
  {
   "cell_type": "code",
   "execution_count": 6,
   "metadata": {},
   "outputs": [
    {
     "data": {
      "text/plain": "0.87"
     },
     "execution_count": 6,
     "metadata": {},
     "output_type": "execute_result"
    }
   ],
   "source": [
    "round(norm.cdf(1.12),2)"
   ]
  },
  {
   "cell_type": "code",
   "execution_count": 7,
   "metadata": {},
   "outputs": [
    {
     "data": {
      "text/plain": "0.03"
     },
     "execution_count": 7,
     "metadata": {},
     "output_type": "execute_result"
    }
   ],
   "source": [
    "round(norm.cdf(-1.87),2)"
   ]
  },
  {
   "cell_type": "code",
   "execution_count": 8,
   "metadata": {},
   "outputs": [
    {
     "data": {
      "text/plain": "0.020000000000000018"
     },
     "execution_count": 8,
     "metadata": {},
     "output_type": "execute_result"
    }
   ],
   "source": [
    "1-round(norm.cdf(2),2)"
   ]
  },
  {
   "cell_type": "code",
   "execution_count": 9,
   "metadata": {},
   "outputs": [
    {
     "data": {
      "text/plain": "2.33"
     },
     "execution_count": 9,
     "metadata": {},
     "output_type": "execute_result"
    }
   ],
   "source": [
    "round(norm.ppf(0.99), 2)"
   ]
  },
  {
   "cell_type": "markdown",
   "metadata": {},
   "source": [
    "Известно, что вес жителя Гонконга распределен нормально со средним в  кг и стандартным отклонением  кг. Лифт в одном бизнес-центре может поднять не более  кг. Также на нем указана вместимость не более  человек. Другими словами, если человек входят в лифт, их средний вес не должен превысить  кг (как ).\n",
    "\n",
    "Какова вероятность, что средний вес случайно подошедших к лифту  человек превысит  кг и не позволит лифту подняться? Укажите ответ в виде десяточной дроби с 3 знаками после точки-разделителя."
   ]
  },
  {
   "cell_type": "code",
   "execution_count": 10,
   "metadata": {},
   "outputs": [
    {
     "data": {
      "text/plain": "0.013"
     },
     "execution_count": 10,
     "metadata": {},
     "output_type": "execute_result"
    }
   ],
   "source": [
    "round(1-norm.cdf(75, 70, 5**0.5),3)"
   ]
  },
  {
   "cell_type": "markdown",
   "metadata": {},
   "source": [
    "Известно, что 20 % взрослого населения в городе Пало Альто, Калифорния, обладают машиной Tesla (другими словами, p, истинная пропорция обладателей Tesla в городе равна ). Допустим, вы берете выборку из  взрослых людей из Пало Альто. Какова вероятность, что выборочная пропорция не превысит 16 % (то есть вероятность что p <= 0.16)?"
   ]
  },
  {
   "cell_type": "code",
   "execution_count": 11,
   "metadata": {},
   "outputs": [
    {
     "data": {
      "text/plain": "0.067"
     },
     "execution_count": 11,
     "metadata": {},
     "output_type": "execute_result"
    }
   ],
   "source": [
    "round(norm.cdf(0.16, 0.2, (0.2*(1-0.2)/225)**0.5),3)"
   ]
  },
  {
   "cell_type": "markdown",
   "metadata": {},
   "source": [
    "Оценки студентов на международной онлайн олимпиаде распределены нормально со средним 700 баллов и стандартным отклонением 120 баллов. Диплом первой категории выдается участникам, набравшим более 820 баллов. Диплом второй категории — участникам, набравшим от 730 до 820 баллов. Для решения задачи используйте функции norm.cdf() и norm.ppf() из пакета scipy.stats.\n",
    "\n",
    "1. Какая доля участников получает диплом 1 категории? Ответ укажите с округлением до 2 знаков после точки-разделителя.\n",
    "2. Какая доля участников получает диплом 2 категории? Ответ укажите с округлением до 2 знаков после точки-разделителя.\n",
    "3. Некоторые участники порой выставляли ответы, даже не пытаясь решить задачу, случайным образом, стремясь набрать минимальное количество баллов лишь для того, чтобы получить сертификат об участии. Оргкомитет олимпиады принял решение не выдавать сертификатов тем, кто попал в 5 % участников с наименьшими баллами. Какое минимальное количество баллов нужно было набрать, чтобы получить сертификат об участии? Количество баллов – это целое число."
   ]
  },
  {
   "cell_type": "code",
   "execution_count": 12,
   "metadata": {},
   "outputs": [
    {
     "data": {
      "text/plain": "0.16"
     },
     "execution_count": 12,
     "metadata": {},
     "output_type": "execute_result"
    }
   ],
   "source": [
    "round(1-norm.cdf(820, 700, 120), 2)"
   ]
  },
  {
   "cell_type": "markdown",
   "metadata": {},
   "source": [
    "## header 1"
   ]
  },
  {
   "cell_type": "code",
   "execution_count": 13,
   "metadata": {},
   "outputs": [
    {
     "data": {
      "text/plain": "0.24"
     },
     "execution_count": 13,
     "metadata": {},
     "output_type": "execute_result"
    }
   ],
   "source": [
    "round(norm.cdf(820, 700, 120)-norm.cdf(730, 700, 120), 2)"
   ]
  },
  {
   "cell_type": "code",
   "execution_count": 14,
   "metadata": {},
   "outputs": [
    {
     "data": {
      "text/plain": "503"
     },
     "execution_count": 14,
     "metadata": {},
     "output_type": "execute_result"
    }
   ],
   "source": [
    "round(norm.ppf(0.05, 700, 120))"
   ]
  },
  {
   "cell_type": "markdown",
   "metadata": {},
   "source": [
    "## Header 2"
   ]
  },
  {
   "cell_type": "code",
   "execution_count": 15,
   "metadata": {},
   "outputs": [
    {
     "data": {
      "text/plain": "0.0494714680336481"
     },
     "execution_count": 15,
     "metadata": {},
     "output_type": "execute_result"
    }
   ],
   "source": [
    "norm.cdf(502, 700, 120)"
   ]
  }
 ],
 "metadata": {
  "kernelspec": {
   "display_name": "Python 3.8.2  ('venv': venv)",
   "name": "pythonjvsc74a57bd0a7ef03c113a9ff7e401e4f5b09b4413a5a8d6bd31242b59d5133bbf684243222"
  },
  "language_info": {
   "codemirror_mode": {
    "name": "ipython",
    "version": 3
   },
   "file_extension": ".py",
   "mimetype": "text/x-python",
   "name": "python",
   "nbconvert_exporter": "python",
   "pygments_lexer": "ipython3",
   "version": "3.8.2"
  },
  "metadata": {
   "interpreter": {
    "hash": "a7ef03c113a9ff7e401e4f5b09b4413a5a8d6bd31242b59d5133bbf684243222"
   }
  },
  "orig_nbformat": 2
 },
 "nbformat": 4,
 "nbformat_minor": 2
}