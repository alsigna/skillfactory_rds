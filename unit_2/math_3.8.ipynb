{
 "cells": [
  {
   "cell_type": "code",
   "execution_count": 1,
   "metadata": {},
   "outputs": [],
   "source": [
    "from scipy.stats import norm, t\n"
   ]
  },
  {
   "cell_type": "markdown",
   "metadata": {},
   "source": [
    "Чтобы оценить удовлетворенность клиентов сети отелей, менеджер взял случайную выборку из 189 комментариев, оставленных посетителями на онлайн-платформе по бронированию, и провел анализ их содержания. Выяснилось, что 132 комментария были положительными, остальные — негативными.\n",
    "Давайте поможем менеджеру ответить на несколько вопросов!\n",
    "\n"
   ]
  },
  {
   "cell_type": "markdown",
   "metadata": {},
   "source": [
    "3.8.1 Задание 1\n",
    "Чему равна выборочная пропорция положительных комментариев? Укажите с точностью до трех знаков после разделительной точки."
   ]
  },
  {
   "cell_type": "code",
   "execution_count": 3,
   "metadata": {},
   "outputs": [
    {
     "output_type": "stream",
     "name": "stdout",
     "text": [
      "0.698\n"
     ]
    }
   ],
   "source": [
    "p = 132/189\n",
    "print(round(p, 3))"
   ]
  },
  {
   "cell_type": "markdown",
   "metadata": {},
   "source": [
    "3.8.2 Задание 2\n",
    "Найдите 90 %-ный доверительный интервал для истинной пропорции положительных комментариев. Ответ введите с точностью до трех знаков после разделительной точки.\n",
    "\n"
   ]
  },
  {
   "cell_type": "code",
   "execution_count": 4,
   "metadata": {},
   "outputs": [
    {
     "name": "stdout",
     "output_type": "stream",
     "text": [
      "0.643\n",
      "0.754\n",
      "1.6529991125709202\n"
     ]
    }
   ],
   "source": [
    "z = abs(t.ppf(0.05, 188))\n",
    "z = abs(t.ppf((1+0.9)/2, 188))\n",
    "n = 189\n",
    "\n",
    "l = round(p-z*(p*(1-p)/n)**0.5 , 3)\n",
    "h = round(p+z*(p*(1-p)/n)**0.5 , 3)\n",
    "print(l)\n",
    "print(h)\n",
    "print(z)"
   ]
  },
  {
   "cell_type": "code",
   "execution_count": 5,
   "metadata": {},
   "outputs": [
    {
     "data": {
      "text/plain": "1.832"
     },
     "execution_count": 5,
     "metadata": {},
     "output_type": "execute_result"
    }
   ],
   "source": [
    "round(t.ppf((1 + 0.93)/2, 100-1), 3)"
   ]
  },
  {
   "cell_type": "code",
   "execution_count": 6,
   "metadata": {},
   "outputs": [
    {
     "name": "stdout",
     "output_type": "stream",
     "text": [
      "2.58\n",
      "3.25\n",
      "1.98\n",
      "1.96\n"
     ]
    }
   ],
   "source": [
    "print(round(abs(norm.ppf(0.01/2)), 2))\n",
    "print(round(abs(t.ppf((1 + 0.99)/2, 10-1)), 2))\n",
    "print(round(abs(t.ppf((1 + 0.95)/2, 100-1)), 2))\n",
    "print(round(abs(norm.ppf(0.05/2)), 2))\n"
   ]
  },
  {
   "cell_type": "code",
   "execution_count": null,
   "metadata": {},
   "outputs": [],
   "source": []
  }
 ],
 "metadata": {
  "interpreter": {
   "hash": "265455998716544771fe8f8e46d3bc336b7ce25fc2914091372dd288abc92a2d"
  },
  "kernelspec": {
   "name": "python382jvsc74a57bd0265455998716544771fe8f8e46d3bc336b7ce25fc2914091372dd288abc92a2d",
   "display_name": "Python 3.8.2 64-bit ('venv': venv)"
  },
  "language_info": {
   "codemirror_mode": {
    "name": "ipython",
    "version": 3
   },
   "file_extension": ".py",
   "mimetype": "text/x-python",
   "name": "python",
   "nbconvert_exporter": "python",
   "pygments_lexer": "ipython3",
   "version": "3.8.2"
  },
  "metadata": {
   "interpreter": {
    "hash": "a7ef03c113a9ff7e401e4f5b09b4413a5a8d6bd31242b59d5133bbf684243222"
   }
  },
  "orig_nbformat": 2
 },
 "nbformat": 4,
 "nbformat_minor": 2
}