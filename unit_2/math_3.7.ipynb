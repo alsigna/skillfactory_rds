{
 "cells": [
  {
   "cell_type": "markdown",
   "metadata": {},
   "source": [
    "Управляющий супермаркета хочет оценить, сколько денег покупатели тратят за один поход в супермаркет в среднем. На основании ранее собранных данных известно, что расходы одного покупателя распределены приблизительно нормально. Управляющий взял случайную выборку из 15 покупателей и выяснил, что их средние расходы равны  рублей, а выборочное стандартное отклонение равно  рублей.\n",
    "Давайте поможем управляющему, решив несколько задачек с помощью Python."
   ]
  },
  {
   "cell_type": "code",
   "execution_count": 3,
   "metadata": {},
   "outputs": [],
   "source": [
    "from scipy.stats import norm, t\n",
    "import math\n",
    "import pandas as pd\n",
    "import numpy as np\n",
    "\n",
    "\n",
    "def confidence_interval_norm(alpha, sigma, n, mean):\n",
    "    value = -norm.ppf(alpha / 2) * sigma / math.sqrt(n)\n",
    "    return mean - value, mean + value\n",
    "\n",
    "\n",
    "def confidence_interval_t(alpha, s, n, mean):\n",
    "    value = -t.ppf(alpha / 2, n - 1) * s / math.sqrt(n)\n",
    "    return mean - value, mean + value\n"
   ]
  },
  {
   "cell_type": "markdown",
   "metadata": {},
   "source": [
    "3.7.4 Задание 4\n",
    "Теперь, используя эту функцию, найдите доверительные интервалы для среднего значения расходов μ. Ответ округлите до целого числа (количества рублей):"
   ]
  },
  {
   "cell_type": "code",
   "execution_count": 4,
   "metadata": {},
   "outputs": [
    {
     "name": "stdout",
     "output_type": "stream",
     "text": [
      "1818 2182\n",
      "1778 2222\n",
      "1693 2307\n"
     ]
    }
   ],
   "source": [
    "# На 90% уровне доверия\n",
    "l, h = confidence_interval_t(0.1, 400, 15, 2000)\n",
    "print(round(l), round(h))\n",
    "\n",
    "# На 95% уровне доверия\n",
    "l, h = confidence_interval_t(0.05, 400, 15, 2000)\n",
    "print(round(l), round(h))\n",
    "\n",
    "# На 99% уровне доверия\n",
    "l, h = confidence_interval_t(0.01, 400, 15, 2000)\n",
    "print(round(l), round(h))"
   ]
  },
  {
   "cell_type": "markdown",
   "metadata": {},
   "source": [
    "Чиновника интересует сумма подоходного налога, выплачиваемого домохозяйствами за год. На случайной выборке из 250 домохозяйств был посчитан средний размер выплаченного налога, и он составил $3540. Также на основании ранее предоставленных данных из налоговой инспекции известно истинное стандартное отклонение величины подоходного налога, равное $1150.\n",
    "Необходимо найти 99% доверительный интервал для истинного среднего значения налоговых выплат за год."
   ]
  },
  {
   "cell_type": "markdown",
   "metadata": {},
   "source": [
    "3.7.7 Задание 7\n",
    "Теперь, используя эту функцию, найдите 99%-ный доверительный интервал для среднего значения годовых отчислений на подоходный налог . Ответы необходимо округлить до целых значений."
   ]
  },
  {
   "cell_type": "code",
   "execution_count": 5,
   "metadata": {},
   "outputs": [
    {
     "name": "stdout",
     "output_type": "stream",
     "text": [
      "3353 3727\n"
     ]
    }
   ],
   "source": [
    "# На 99% уровне доверия\n",
    "l, h = confidence_interval_norm(0.01, 1150, 250, 3540)\n",
    "print(round(l), round(h))"
   ]
  },
  {
   "cell_type": "markdown",
   "metadata": {},
   "source": [
    "Ниже представлена случайная выборка значений величины , распределенной нормально. \n",
    "\n",
    "1.2 0.2 1.6 1.9 -0.4    0.5\t1.4\t1.7\t2.5\t1.3\n",
    "\n",
    "Необходимо построить доверительный интервал для истинного среднего значения .\n",
    "3.7.8 Задание 8\n",
    "Вычислите необходимые выборочные статистики и найдите 95%-ный доверительный интервал для . Укажите нижнюю и верхнюю границу интервала с округлением до двух знаков после разделительной точки."
   ]
  },
  {
   "cell_type": "code",
   "execution_count": 14,
   "metadata": {},
   "outputs": [
    {
     "name": "stdout",
     "output_type": "stream",
     "text": [
      "0.57 1.81\n"
     ]
    }
   ],
   "source": [
    "a = np.array([1.2, 0.2, 1.6, 1.9, -0.4, 0.5, 1.4, 1.7, 2.5, 1.3])\n",
    "mean = a.mean() # среднее\n",
    "s = a.std(ddof=1) # выборочное отклонение\n",
    "l, h = confidence_interval_t(0.05, s, 10, mean)\n",
    "print(round(l, 2), round(h, 2))"
   ]
  }
 ],
 "metadata": {
  "kernelspec": {
   "display_name": "Python 3.8.2 64-bit ('venv': venv)",
   "language": "python",
   "name": "python382jvsc74a57bd0265455998716544771fe8f8e46d3bc336b7ce25fc2914091372dd288abc92a2d"
  },
  "language_info": {
   "codemirror_mode": {
    "name": "ipython",
    "version": 3
   },
   "file_extension": ".py",
   "mimetype": "text/x-python",
   "name": "python",
   "nbconvert_exporter": "python",
   "pygments_lexer": "ipython3",
   "version": "3.8.2"
  },
  "metadata": {
   "interpreter": {
    "hash": "a7ef03c113a9ff7e401e4f5b09b4413a5a8d6bd31242b59d5133bbf684243222"
   }
  },
  "orig_nbformat": 2
 },
 "nbformat": 4,
 "nbformat_minor": 2
}