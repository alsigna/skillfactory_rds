{
 "metadata": {
  "language_info": {
   "codemirror_mode": {
    "name": "ipython",
    "version": 3
   },
   "file_extension": ".py",
   "mimetype": "text/x-python",
   "name": "python",
   "nbconvert_exporter": "python",
   "pygments_lexer": "ipython3",
   "version": "3.8.2"
  },
  "orig_nbformat": 2,
  "kernelspec": {
   "name": "python382jvsc74a57bd0265455998716544771fe8f8e46d3bc336b7ce25fc2914091372dd288abc92a2d",
   "display_name": "Python 3.8.2 64-bit ('venv': venv)"
  }
 },
 "nbformat": 4,
 "nbformat_minor": 2,
 "cells": [
  {
   "source": [
    "Производитель аккумуляторных батарей заявляет, что средний срок службы батарейки АА составляет 14 месяцев. Вы подозреваете, что на самом деле это число преувеличено.\n",
    "\n",
    "Чтобы проверить утверждение производителя, вы взяли случайную выборку из 64 батареек и посчитали выборочное среднее — 13.5 месяцев. Известно, что срок службы батарейки имеет стандартное отклонение 2 месяца. Для тестирования гипотезы используйте уровень значимости 0.05.\n",
    "\n",
    "Обратите внимание, что как постановка альтернативной гипотезы, так и выбор уровня значимости  может повлиять на вывод, который вы делаете в результате тестирования гипотезы.\n",
    "\n"
   ],
   "cell_type": "markdown",
   "metadata": {}
  },
  {
   "cell_type": "code",
   "execution_count": 13,
   "metadata": {},
   "outputs": [],
   "source": [
    "from scipy.stats import norm, t\n",
    "from statsmodels.stats import weightstats \n",
    "\n",
    "n = 64\n",
    "x_mean = 13.5\n",
    "sigma = 2\n",
    "mu = 14\n"
   ]
  },
  {
   "cell_type": "code",
   "execution_count": 2,
   "metadata": {},
   "outputs": [],
   "source": [
    "z_st = (x_mean - mu) / sigma * n**0.5"
   ]
  },
  {
   "cell_type": "code",
   "execution_count": 3,
   "metadata": {},
   "outputs": [
    {
     "output_type": "execute_result",
     "data": {
      "text/plain": [
       "-2.0"
      ]
     },
     "metadata": {},
     "execution_count": 3
    }
   ],
   "source": [
    "z_st"
   ]
  },
  {
   "cell_type": "code",
   "execution_count": 4,
   "metadata": {},
   "outputs": [
    {
     "output_type": "execute_result",
     "data": {
      "text/plain": [
       "0.023"
      ]
     },
     "metadata": {},
     "execution_count": 4
    }
   ],
   "source": [
    "round(norm.cdf(z_st), 3)"
   ]
  },
  {
   "source": [
    "На упаковке муки указана ее масса —  455 г. Известно, что масса муки в упаковке распределена приблизительно нормально, и что ее стандартное отклонение составляет 12.5 граммов. В случайной выборке из 16 упаковок средняя масса составила 449 граммов.\n",
    "\n",
    "Протестируйте на уровне значимости 5% нулевую гипотезу о том, что средняя масса упаковки с мукой составляет 455 граммов.\n",
    "\n",
    "\n"
   ],
   "cell_type": "markdown",
   "metadata": {}
  },
  {
   "cell_type": "code",
   "execution_count": 5,
   "metadata": {},
   "outputs": [
    {
     "output_type": "execute_result",
     "data": {
      "text/plain": [
       "0.027"
      ]
     },
     "metadata": {},
     "execution_count": 5
    }
   ],
   "source": [
    "mu = 455\n",
    "sigma = 12.5\n",
    "n = 16\n",
    "x_mean = 449\n",
    "z_st = (x_mean - mu) / sigma * n**0.5\n",
    "round(norm.cdf(z_st), 3)"
   ]
  },
  {
   "source": [
    "Производитель утверждает, что новая модель кондиционера для воздуха потребляет только 6.5 кВт⋅ч электричества в день. Однако в союзе потребителей убеждены, что истинное среднее количество потребляемой энергии выше этого значения.\n",
    "\n",
    "Союз проводит собственное исследование на основании случайной выборки в 25 кондиционеров и находит, что выборочное среднее значение равно 7 кВт⋅ч. Известно, что количество потребляемой кондиционером энергии распределено нормально и его истинное стандартное отклонение равно 1.4 кВт⋅ч.\n",
    "\n"
   ],
   "cell_type": "markdown",
   "metadata": {}
  },
  {
   "cell_type": "code",
   "execution_count": 6,
   "metadata": {},
   "outputs": [
    {
     "output_type": "execute_result",
     "data": {
      "text/plain": [
       "0.037"
      ]
     },
     "metadata": {},
     "execution_count": 6
    }
   ],
   "source": [
    "mu = 6.5\n",
    "sigma = 1.4\n",
    "n = 25\n",
    "x_mean = 7\n",
    "z_st = (x_mean - mu) / sigma * n**0.5\n",
    "round(1-norm.cdf(z_st), 3)"
   ]
  },
  {
   "source": [
    "Региональные власти утверждают, что средний годовой доход домохозяйства составляет 12000. Экономист, подозревая, что истинный средний доход может быть меньше, находит на случайной выборке из 135 домохозяйств этого региона, что средний доход равен 11500, а стандартное отклонение равно 5110."
   ],
   "cell_type": "markdown",
   "metadata": {}
  },
  {
   "cell_type": "code",
   "execution_count": 7,
   "metadata": {},
   "outputs": [
    {
     "output_type": "execute_result",
     "data": {
      "text/plain": [
       "-1.137"
      ]
     },
     "metadata": {},
     "execution_count": 7
    }
   ],
   "source": [
    "mu = 12000\n",
    "s = 5110\n",
    "n = 135\n",
    "x_mean = 11500\n",
    "t_st = (x_mean - mu) / s * n**0.5\n",
    "round(t_st, 3)"
   ]
  },
  {
   "cell_type": "code",
   "execution_count": 8,
   "metadata": {},
   "outputs": [
    {
     "output_type": "execute_result",
     "data": {
      "text/plain": [
       "0.129"
      ]
     },
     "metadata": {},
     "execution_count": 8
    }
   ],
   "source": [
    "round(t.cdf(t_st, df=n-1), 3)"
   ]
  },
  {
   "source": [
    "Сотрудники компании, специализирующейся на продаже франшиз, заявляют, что процент возврата на инвестиции в проданные ими франшизы уже в первый год составляет 10 (все дальнейшие значения приведены в процентах, их можно игнорировать как единицы измерения). Была взята выборка из 10 различных сделок данной компании и рассчитан процент возврата на инвестиции в первый год в каждой из них. Значения приведены в таблице ниже:\n",
    "\n",
    "6.1, 9.2, 11.5, 8.6, 12.1, 3.9, 8.4, 10.1, 9.4, 8.9\n",
    "\n",
    "Вы хотите проверить достоверность заявления, сделанного компанией, подозревая, что на самом деле средний процент возврата на инвестиции в первый год ниже 10. Чтобы протестировать соответствующую гипотезу, сначала рассчитайте в Python значение среднего и стандартного отклонения.\n",
    "\n"
   ],
   "cell_type": "markdown",
   "metadata": {}
  },
  {
   "cell_type": "code",
   "execution_count": 9,
   "metadata": {},
   "outputs": [
    {
     "output_type": "execute_result",
     "data": {
      "text/plain": [
       "0.077"
      ]
     },
     "metadata": {},
     "execution_count": 9
    }
   ],
   "source": [
    "import numpy as np \n",
    "\n",
    "a = np.array([6.1, 9.2, 11.5, 8.6, 12.1, 3.9, 8.4, 10.1, 9.4, 8.9])\n",
    "x_mean = a.mean() # среднее\n",
    "s = a.std(ddof=1) # выборочное отклонение\n",
    "mu = 10\n",
    "n = 10\n",
    "t_st = (x_mean - mu) / s * n**0.5\n",
    "p_value = t.cdf(t_st, df=n-1)\n",
    "round(p_value, 3)"
   ]
  },
  {
   "source": [
    "Представитель профсоюза утверждает, что 75% сотрудников готовы присоединиться к забастовке, если их требования не будут удовлетворены. Сотрудник компании, ведущий переговоры с профсоюзом, считает, что эта пропорция сильно преувеличена. Он решает проверить утверждение представителя профсоюза, используя уровень значимости 5%. Таким образом, ему надо протестировать следующий набор гипотез:\n",
    "\n",
    "\n",
    "В выборке из 125 сотрудников 87 ответили, что будут готовы поддержать забастовку в случае неудовлетворения требования профсоюза.\n",
    "\n"
   ],
   "cell_type": "markdown",
   "metadata": {}
  },
  {
   "cell_type": "code",
   "execution_count": 10,
   "metadata": {},
   "outputs": [
    {
     "output_type": "execute_result",
     "data": {
      "text/plain": [
       "-1.394"
      ]
     },
     "metadata": {},
     "execution_count": 10
    }
   ],
   "source": [
    "p = 87/125\n",
    "n = 125\n",
    "p0 = 0.75\n",
    "z_st = (p-p0)/(p0*(1-p0)/n)**0.5\n",
    "round(z_st, 3)"
   ]
  },
  {
   "cell_type": "code",
   "execution_count": 11,
   "metadata": {},
   "outputs": [
    {
     "output_type": "execute_result",
     "data": {
      "text/plain": [
       "0.082"
      ]
     },
     "metadata": {},
     "execution_count": 11
    }
   ],
   "source": [
    "round(norm.cdf(z_st), 3)"
   ]
  },
  {
   "cell_type": "code",
   "execution_count": 14,
   "metadata": {},
   "outputs": [],
   "source": [
    "import pandas as pd\n",
    "df = pd.DataFrame({\n",
    "    'x': [6.1, 9.2, 11.5, 8.6, 12.1, 3.9, 8.4, 10.1, 9.4, 8.9],\n",
    "    'y': [7.3, 8.7, 12.6, 6.8, 12, 6.9, 10.2, 17.1, 9.2, 11.6]\n",
    "})"
   ]
  },
  {
   "cell_type": "code",
   "execution_count": 17,
   "metadata": {},
   "outputs": [
    {
     "output_type": "execute_result",
     "data": {
      "text/plain": [
       "(-1.1204320654469324, 0.2784090399452127, 16.673890238780608)"
      ]
     },
     "metadata": {},
     "execution_count": 17
    }
   ],
   "source": [
    "weightstats.ttest_ind(df['x'], df['y'], usevar='unequal')"
   ]
  },
  {
   "source": [
    "## 5.9 Практика"
   ],
   "cell_type": "markdown",
   "metadata": {}
  },
  {
   "cell_type": "code",
   "execution_count": 20,
   "metadata": {},
   "outputs": [],
   "source": [
    "n1 = 100\n",
    "n2 = 100\n",
    "p1_cap = 62/n1\n",
    "p2_cap = 29/n1\n",
    "p_cap = (62+29)/200\n",
    "z_st = (p1_cap-p2_cap)/(p_cap*(1-p_cap))**0.5/(1/n1+1/n2)**0.5"
   ]
  },
  {
   "cell_type": "code",
   "execution_count": 22,
   "metadata": {},
   "outputs": [
    {
     "output_type": "execute_result",
     "data": {
      "text/plain": [
       "4.69"
      ]
     },
     "metadata": {},
     "execution_count": 22
    }
   ],
   "source": [
    "round(z_st,2)"
   ]
  },
  {
   "cell_type": "code",
   "execution_count": 31,
   "metadata": {},
   "outputs": [
    {
     "output_type": "execute_result",
     "data": {
      "text/plain": [
       "0.9999986064834058"
      ]
     },
     "metadata": {},
     "execution_count": 31
    }
   ],
   "source": [
    "norm.cdf(z_st)"
   ]
  },
  {
   "cell_type": "code",
   "execution_count": null,
   "metadata": {},
   "outputs": [],
   "source": []
  }
 ]
}