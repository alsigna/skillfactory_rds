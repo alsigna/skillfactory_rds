{
 "metadata": {
  "language_info": {
   "codemirror_mode": {
    "name": "ipython",
    "version": 3
   },
   "file_extension": ".py",
   "mimetype": "text/x-python",
   "name": "python",
   "nbconvert_exporter": "python",
   "pygments_lexer": "ipython3",
   "version": "3.8.2"
  },
  "orig_nbformat": 2,
  "kernelspec": {
   "name": "python382jvsc74a57bd0265455998716544771fe8f8e46d3bc336b7ce25fc2914091372dd288abc92a2d",
   "display_name": "Python 3.8.2 64-bit ('venv': venv)",
   "language": "python"
  }
 },
 "nbformat": 4,
 "nbformat_minor": 2,
 "cells": [
  {
   "cell_type": "code",
   "execution_count": 33,
   "metadata": {},
   "outputs": [],
   "source": [
    "import pandas as pd\n",
    "import numpy as np\n",
    "log = pd.read_csv(\"./00_log.csv\", header = None)\n",
    "users = pd.read_csv(\"./00_users.csv\", encoding=\"koi8-r\", sep=\"\\t\")\n",
    "log.columns = [\"user_id\",\"time\",\"bet\",\"win\"]\n",
    "users.columns = [\"user_id\",\"mail\",\"address\"]\n",
    "\n",
    "log = log[log.user_id != '#error']\n",
    "log.user_id = log.user_id.str.split(' - ').apply(lambda x: x[1])\n",
    "users.user_id = users.user_id.apply(lambda x: x.lower())  "
   ]
  },
  {
   "cell_type": "code",
   "execution_count": 34,
   "metadata": {},
   "outputs": [],
   "source": [
    "# преобразование времени\n",
    "log.time = log.time.apply(lambda s: s[1:] if type(s) == str else s)\n",
    "log.time = pd.to_datetime(log.time)\n"
   ]
  },
  {
   "cell_type": "code",
   "execution_count": 35,
   "metadata": {},
   "outputs": [],
   "source": [
    "log.bet.fillna(0, inplace=True)"
   ]
  },
  {
   "cell_type": "code",
   "execution_count": 36,
   "metadata": {},
   "outputs": [],
   "source": [
    "def fillna_win(row):\n",
    "    if not np.isnan(row.win):\n",
    "        return row.win\n",
    "    elif row.bet == 0:\n",
    "        return 0\n",
    "    elif row.bet != 0:\n",
    "        return -row.bet\n",
    "    else:\n",
    "        return \"\"\n",
    "\n",
    "new_win = log.apply(lambda row: fillna_win(row), axis=1)\n",
    "log.win = new_win"
   ]
  },
  {
   "cell_type": "code",
   "execution_count": 37,
   "metadata": {},
   "outputs": [],
   "source": [
    "def net(row):\n",
    "    if row.win < 0:\n",
    "        return row.win\n",
    "    else:\n",
    "        return row.win - row.bet\n",
    "\n",
    "log[\"net\"] = log.apply(lambda row: net(row), axis=1)"
   ]
  },
  {
   "source": [
    "Объедините датасеты log.csv и users.csv по признаку user_id по примеру выше. Ответ запишите в поле ниже.\n",
    "\n"
   ],
   "cell_type": "markdown",
   "metadata": {}
  },
  {
   "cell_type": "code",
   "execution_count": 38,
   "metadata": {},
   "outputs": [],
   "source": [
    "df = pd.merge(log, users, on=\"user_id\")  "
   ]
  },
  {
   "cell_type": "code",
   "execution_count": 40,
   "metadata": {},
   "outputs": [
    {
     "output_type": "execute_result",
     "data": {
      "text/plain": [
       "      user_id                time    bet     win     net  \\\n",
       "0    user_919 2019-01-01 14:06:51    0.0     0.0     0.0   \n",
       "1    user_919 2019-01-30 10:06:00    0.0     0.0     0.0   \n",
       "2    user_919 2019-02-05 14:33:44    0.0     0.0     0.0   \n",
       "3    user_919 2019-02-14 11:38:05    0.0     0.0     0.0   \n",
       "4    user_919 2019-03-02 04:23:36  300.0  -300.0  -300.0   \n",
       "..        ...                 ...    ...     ...     ...   \n",
       "970  user_932 2019-02-24 22:40:06    0.0     0.0     0.0   \n",
       "971  user_932 2019-03-15 10:56:14    0.0     0.0     0.0   \n",
       "972  user_932 2019-03-18 10:13:24    0.0     0.0     0.0   \n",
       "973  user_932 2019-03-27 12:18:24    0.0     0.0     0.0   \n",
       "974  user_932 2019-04-18 14:55:26  700.0  6640.0  5940.0   \n",
       "\n",
       "                       mail     address  \n",
       "0    Chikkaverle@icloud.com   Хабаровск  \n",
       "1    Chikkaverle@icloud.com   Хабаровск  \n",
       "2    Chikkaverle@icloud.com   Хабаровск  \n",
       "3    Chikkaverle@icloud.com   Хабаровск  \n",
       "4    Chikkaverle@icloud.com   Хабаровск  \n",
       "..                      ...         ...  \n",
       "970       BraceWalker@bk.ru  Красноярск  \n",
       "971       BraceWalker@bk.ru  Красноярск  \n",
       "972       BraceWalker@bk.ru  Красноярск  \n",
       "973       BraceWalker@bk.ru  Красноярск  \n",
       "974       BraceWalker@bk.ru  Красноярск  \n",
       "\n",
       "[975 rows x 7 columns]"
      ],
      "text/html": "<div>\n<style scoped>\n    .dataframe tbody tr th:only-of-type {\n        vertical-align: middle;\n    }\n\n    .dataframe tbody tr th {\n        vertical-align: top;\n    }\n\n    .dataframe thead th {\n        text-align: right;\n    }\n</style>\n<table border=\"1\" class=\"dataframe\">\n  <thead>\n    <tr style=\"text-align: right;\">\n      <th></th>\n      <th>user_id</th>\n      <th>time</th>\n      <th>bet</th>\n      <th>win</th>\n      <th>net</th>\n      <th>mail</th>\n      <th>address</th>\n    </tr>\n  </thead>\n  <tbody>\n    <tr>\n      <th>0</th>\n      <td>user_919</td>\n      <td>2019-01-01 14:06:51</td>\n      <td>0.0</td>\n      <td>0.0</td>\n      <td>0.0</td>\n      <td>Chikkaverle@icloud.com</td>\n      <td>Хабаровск</td>\n    </tr>\n    <tr>\n      <th>1</th>\n      <td>user_919</td>\n      <td>2019-01-30 10:06:00</td>\n      <td>0.0</td>\n      <td>0.0</td>\n      <td>0.0</td>\n      <td>Chikkaverle@icloud.com</td>\n      <td>Хабаровск</td>\n    </tr>\n    <tr>\n      <th>2</th>\n      <td>user_919</td>\n      <td>2019-02-05 14:33:44</td>\n      <td>0.0</td>\n      <td>0.0</td>\n      <td>0.0</td>\n      <td>Chikkaverle@icloud.com</td>\n      <td>Хабаровск</td>\n    </tr>\n    <tr>\n      <th>3</th>\n      <td>user_919</td>\n      <td>2019-02-14 11:38:05</td>\n      <td>0.0</td>\n      <td>0.0</td>\n      <td>0.0</td>\n      <td>Chikkaverle@icloud.com</td>\n      <td>Хабаровск</td>\n    </tr>\n    <tr>\n      <th>4</th>\n      <td>user_919</td>\n      <td>2019-03-02 04:23:36</td>\n      <td>300.0</td>\n      <td>-300.0</td>\n      <td>-300.0</td>\n      <td>Chikkaverle@icloud.com</td>\n      <td>Хабаровск</td>\n    </tr>\n    <tr>\n      <th>...</th>\n      <td>...</td>\n      <td>...</td>\n      <td>...</td>\n      <td>...</td>\n      <td>...</td>\n      <td>...</td>\n      <td>...</td>\n    </tr>\n    <tr>\n      <th>970</th>\n      <td>user_932</td>\n      <td>2019-02-24 22:40:06</td>\n      <td>0.0</td>\n      <td>0.0</td>\n      <td>0.0</td>\n      <td>BraceWalker@bk.ru</td>\n      <td>Красноярск</td>\n    </tr>\n    <tr>\n      <th>971</th>\n      <td>user_932</td>\n      <td>2019-03-15 10:56:14</td>\n      <td>0.0</td>\n      <td>0.0</td>\n      <td>0.0</td>\n      <td>BraceWalker@bk.ru</td>\n      <td>Красноярск</td>\n    </tr>\n    <tr>\n      <th>972</th>\n      <td>user_932</td>\n      <td>2019-03-18 10:13:24</td>\n      <td>0.0</td>\n      <td>0.0</td>\n      <td>0.0</td>\n      <td>BraceWalker@bk.ru</td>\n      <td>Красноярск</td>\n    </tr>\n    <tr>\n      <th>973</th>\n      <td>user_932</td>\n      <td>2019-03-27 12:18:24</td>\n      <td>0.0</td>\n      <td>0.0</td>\n      <td>0.0</td>\n      <td>BraceWalker@bk.ru</td>\n      <td>Красноярск</td>\n    </tr>\n    <tr>\n      <th>974</th>\n      <td>user_932</td>\n      <td>2019-04-18 14:55:26</td>\n      <td>700.0</td>\n      <td>6640.0</td>\n      <td>5940.0</td>\n      <td>BraceWalker@bk.ru</td>\n      <td>Красноярск</td>\n    </tr>\n  </tbody>\n</table>\n<p>975 rows × 7 columns</p>\n</div>"
     },
     "metadata": {},
     "execution_count": 40
    }
   ],
   "source": [
    "df"
   ]
  },
  {
   "source": [
    "В данном случае мы группируем данные по признаку user_id.\n",
    "\n",
    "После этого мы в каждой группе выбираем признак win.\n",
    "\n",
    "Затем мы берем медиану каждой группы по признаку win и на выходе получаем таблицу, в которой индексом является признак user_id. В этой таблице единственный столбец - медиана по каждой группе (то есть по каждому пользователю).\n",
    "\n",
    "Наконец, последний вызов median() дает нам медиану по предыдущему столбцу, то есть возвращает одно число."
   ],
   "cell_type": "markdown",
   "metadata": {}
  },
  {
   "cell_type": "code",
   "execution_count": 44,
   "metadata": {},
   "outputs": [
    {
     "output_type": "execute_result",
     "data": {
      "text/plain": [
       "0.0"
      ]
     },
     "metadata": {},
     "execution_count": 44
    }
   ],
   "source": [
    "df.groupby('user_id').win.median().median()"
   ]
  },
  {
   "source": [
    "Посчитайте медиану баланса по каждому пользователю. Для этого сгруппируйте по пользователям, возьмите признак net, просуммируйте по каждому пользователю и получите медиану.\n"
   ],
   "cell_type": "markdown",
   "metadata": {}
  },
  {
   "cell_type": "code",
   "execution_count": 42,
   "metadata": {},
   "outputs": [
    {
     "output_type": "execute_result",
     "data": {
      "text/plain": [
       "1986.0"
      ]
     },
     "metadata": {},
     "execution_count": 42
    }
   ],
   "source": [
    "df.groupby('user_id').net.sum().median()  "
   ]
  },
  {
   "source": [
    "Сколько раз в среднем каждый человек приходит, не делая ставок, при условии, что у этого человека все-таки есть хотя бы одна ставка? Например: Человек посетил букмекерскую контору 5 раз из них 1 раз сделал ставку, 4 раза нет - условие выполняется. Человек посетил букмекерскую контору 5 раз из них ни разу ставку не сделал - условие не выполняется. Для того, чтобы узнать это, просуммируйте в каждой группе количество записей со ставкой, равной 0, и поделите на общее количество групп. Если при этом в группе нет записей со ставкой больше 0, считаем количество записей в данной группе равным 0.\n",
    "\n"
   ],
   "cell_type": "markdown",
   "metadata": {}
  },
  {
   "cell_type": "code",
   "execution_count": 134,
   "metadata": {},
   "outputs": [],
   "source": [
    "def get_user_stat(user):\n",
    "    s = []\n",
    "    s.append(user.bet.sum())\n",
    "    s.append(user.bet.max())\n",
    "    s.append(user.bet.count())\n",
    "    counter = 0\n",
    "    if user.bet.sum() != 0:\n",
    "        for bet in user.bet:\n",
    "            if bet == 0:\n",
    "                counter += 1\n",
    "    s.append(counter)    \n",
    "    return pd.Series(\n",
    "        s, index=[\n",
    "            [\"bet\", \"bet\", \"bet\", \"bet\"],\n",
    "            [\"sum\", \"max\", \"count\", \"zero_bet_count\"]\n",
    "        ]\n",
    "    )\n"
   ]
  },
  {
   "cell_type": "code",
   "execution_count": 139,
   "metadata": {},
   "outputs": [],
   "source": [
    "df1 = df.groupby('user_id').apply(get_user_stat)"
   ]
  },
  {
   "cell_type": "code",
   "execution_count": 141,
   "metadata": {},
   "outputs": [
    {
     "output_type": "execute_result",
     "data": {
      "text/plain": [
       "5.05"
      ]
     },
     "metadata": {},
     "execution_count": 141
    }
   ],
   "source": [
    "df1[\"bet\"][\"zero_bet_count\"].mean()"
   ]
  },
  {
   "source": [
    "for k,i in df.groupby('user_id').bet:\n",
    "    print(i)"
   ],
   "cell_type": "code",
   "metadata": {},
   "execution_count": 142,
   "outputs": [
    {
     "output_type": "stream",
     "name": "stdout",
     "text": [
      "829      0.0\n830    800.0\n831      0.0\n832      0.0\n833      0.0\n834      0.0\n835      0.0\n836      0.0\n837    100.0\n838    400.0\n839    300.0\n840      0.0\nName: bet, dtype: float64\n56      0.0\n57      0.0\n58      0.0\n59      0.0\n60      0.0\n61      0.0\n62    200.0\n63    200.0\n64    300.0\n65    300.0\n66    400.0\n67    600.0\n68    900.0\n69    900.0\nName: bet, dtype: float64\n512      0.0\n513      0.0\n514      0.0\n515      0.0\n516      0.0\n517      0.0\n518    100.0\n519    500.0\nName: bet, dtype: float64\n917      0.0\n918      0.0\n919      0.0\n920      0.0\n921    200.0\n922    300.0\n923    400.0\n924    800.0\nName: bet, dtype: float64\n23        0.0\n24        0.0\n25        0.0\n26        0.0\n27      500.0\n28      700.0\n29      900.0\n30     1000.0\n31    10454.0\nName: bet, dtype: float64\n813      0.0\n814      0.0\n815      0.0\n816      0.0\n817      0.0\n818    600.0\nName: bet, dtype: float64\n388        0.0\n389        0.0\n390        0.0\n391     8700.0\n392      950.0\n393    12945.0\n394    27000.0\n395      500.0\n396      500.0\n397      800.0\n398     1000.0\n399     1000.0\nName: bet, dtype: float64\n79      0.0\n80      0.0\n81      0.0\n82      0.0\n83      0.0\n84      0.0\n85      0.0\n86    100.0\n87    400.0\n88    600.0\n89    900.0\nName: bet, dtype: float64\n606       0.0\n607       0.0\n608       0.0\n609    9954.0\n610       0.0\n611     100.0\n612     600.0\nName: bet, dtype: float64\n729        0.0\n730        0.0\n731        0.0\n732        0.0\n733      700.0\n734        0.0\n735      300.0\n736      200.0\n737      400.0\n738        0.0\n739      800.0\n740    10054.0\n741    10254.0\nName: bet, dtype: float64\n897       0.0\n898       0.0\n899     200.0\n900     400.0\n901    1000.0\nName: bet, dtype: float64\n584    123981.0\n585         0.0\n586         0.0\n587         0.0\n588         0.0\n589         0.0\n590         0.0\n591       100.0\n592       300.0\n593       600.0\n594       600.0\n595      1000.0\n596      1000.0\n597    104540.0\nName: bet, dtype: float64\n876       0.0\n877       0.0\n878       0.0\n879       0.0\n880       0.0\n881       0.0\n882       0.0\n883     100.0\n884     400.0\n885     500.0\n886     700.0\n887    9754.0\nName: bet, dtype: float64\n494        0.0\n495        0.0\n496        0.0\n497        0.0\n498      100.0\n499      300.0\n500      600.0\n501      600.0\n502      700.0\n503    10554.0\nName: bet, dtype: float64\n314        0.0\n315        0.0\n316      100.0\n317        0.0\n318        0.0\n319      100.0\n320      500.0\n321      700.0\n322      700.0\n323    10754.0\nName: bet, dtype: float64\n681        0.0\n682        0.0\n683        0.0\n684        0.0\n685        0.0\n686        0.0\n687      200.0\n688      600.0\n689      700.0\n690      800.0\n691    10154.0\nName: bet, dtype: float64\n449      0.0\n450      0.0\n451      0.0\n452      0.0\n453    800.0\nName: bet, dtype: float64\n333      0.0\n334      0.0\n335      0.0\n336      0.0\n337      0.0\n338      0.0\n339      0.0\n340      0.0\n341    200.0\n342    800.0\nName: bet, dtype: float64\n45    156789.0\n46    145732.0\n47         0.0\n48         0.0\n49         0.0\n50         0.0\n51         0.0\n52         0.0\n53       500.0\n54       600.0\n55       600.0\nName: bet, dtype: float64\n366       0.0\n367       0.0\n368       0.0\n369       0.0\n370       0.0\n371     300.0\n372     400.0\n373     500.0\n374     600.0\n375     600.0\n376    1000.0\n377    1000.0\nName: bet, dtype: float64\n0      0.0\n1      0.0\n2      0.0\n3      0.0\n4    300.0\n5    400.0\n6    600.0\n7    700.0\nName: bet, dtype: float64\n419       0.0\n420       0.0\n421       0.0\n422       0.0\n423       0.0\n424       0.0\n425     700.0\n426    1000.0\n427     800.0\nName: bet, dtype: float64\n454      0.0\n455      0.0\n456    400.0\n457    900.0\nName: bet, dtype: float64\n770    100.0\n771      0.0\n772      0.0\n773      0.0\n774    200.0\n775    300.0\n776    300.0\n777    400.0\n778    600.0\n779    700.0\nName: bet, dtype: float64\n699      0.0\n700      0.0\n701      0.0\n702      0.0\n703    200.0\n704    500.0\n705    500.0\n706    800.0\nName: bet, dtype: float64\n400       0.0\n401       0.0\n402       0.0\n403       0.0\n404     100.0\n405     300.0\n406     300.0\n407     800.0\n408    9754.0\nName: bet, dtype: float64\n950       0.0\n951       0.0\n952       0.0\n953       0.0\n954       0.0\n955       0.0\n956     200.0\n957    1000.0\nName: bet, dtype: float64\n656        0.0\n657        0.0\n658        0.0\n659        0.0\n660      300.0\n661      600.0\n662    10354.0\nName: bet, dtype: float64\n225      0.0\n226      0.0\n227      0.0\n228    100.0\n229      0.0\n230      0.0\n231      0.0\n232    200.0\n233    200.0\n234    200.0\n235    300.0\n236    500.0\n237    800.0\n238    800.0\nName: bet, dtype: float64\n477        0.0\n478        0.0\n479        0.0\n480        0.0\n481        0.0\n482      400.0\n483      600.0\n484      900.0\n485    10754.0\nName: bet, dtype: float64\n205       0.0\n206       0.0\n207       0.0\n208       0.0\n209       0.0\n210     200.0\n211     500.0\n212     800.0\n213    1000.0\nName: bet, dtype: float64\n742        0.0\n743      100.0\n744      300.0\n745      400.0\n746      600.0\n747      700.0\n748      900.0\n749     1000.0\n750     9854.0\n751    10554.0\nName: bet, dtype: float64\n819        0.0\n820      400.0\n821        0.0\n822      300.0\n823      700.0\n824      700.0\n825      900.0\n826      900.0\n827      900.0\n828    10454.0\nName: bet, dtype: float64\n970      0.0\n971      0.0\n972      0.0\n973      0.0\n974    700.0\nName: bet, dtype: float64\n530      0.0\n531      0.0\n532      0.0\n533      0.0\n534      0.0\n535      0.0\n536      0.0\n537    100.0\n538    300.0\n539    600.0\n540    600.0\nName: bet, dtype: float64\n958        0.0\n959        0.0\n960        0.0\n961        0.0\n962        0.0\n963        0.0\n964        0.0\n965        0.0\n966        0.0\n967        0.0\n968      300.0\n969    10554.0\nName: bet, dtype: float64\n437      0.0\n438      0.0\n439      0.0\n440      0.0\n441      0.0\n442      0.0\n443      0.0\n444    300.0\n445    500.0\n446    700.0\n447    700.0\n448    800.0\nName: bet, dtype: float64\n762      0.0\n763      0.0\n764      0.0\n765      0.0\n766      0.0\n767    100.0\n768    300.0\n769    400.0\nName: bet, dtype: float64\n299      0.0\n300      0.0\n301    100.0\n302      0.0\n303      0.0\n304      0.0\n305    200.0\n306    100.0\n307    300.0\n308    500.0\n309    600.0\n310    700.0\n311    700.0\n312    800.0\n313    800.0\nName: bet, dtype: float64\n343       0.0\n344       0.0\n345       0.0\n346       0.0\n347     100.0\n348     700.0\n349     200.0\n350     900.0\n351     900.0\n352    9954.0\nName: bet, dtype: float64\n858      0.0\n859      0.0\n860      0.0\n861      0.0\n862      0.0\n863    200.0\n864    400.0\n865    500.0\n866    500.0\nName: bet, dtype: float64\n359        0.0\n360        0.0\n361        0.0\n362        0.0\n363      500.0\n364      700.0\n365    10754.0\nName: bet, dtype: float64\n613       0.0\n614       0.0\n615       0.0\n616       0.0\n617     300.0\n618     700.0\n619     800.0\n620    9754.0\nName: bet, dtype: float64\n193      98753.0\n194    1678321.0\n195          0.0\n196          0.0\n197          0.0\n198          0.0\n199        600.0\n200        800.0\n201        800.0\n202       1000.0\n203       1000.0\n204      10254.0\nName: bet, dtype: float64\n428       0.0\n429     100.0\n430     100.0\n431     100.0\n432     300.0\n433     700.0\n434     800.0\n435     800.0\n436    1000.0\nName: bet, dtype: float64\n486      0.0\n487      0.0\n488      0.0\n489      0.0\n490    100.0\n491      0.0\n492    500.0\n493    700.0\nName: bet, dtype: float64\n718      0.0\n719      0.0\n720      0.0\n721    500.0\n722    700.0\nName: bet, dtype: float64\n841      0.0\n842    100.0\n843      0.0\n844      0.0\n845      0.0\n846    100.0\n847    500.0\n848    500.0\n849    700.0\nName: bet, dtype: float64\n925        0.0\n926        0.0\n927      100.0\n928      200.0\n929      200.0\n930      300.0\n931      400.0\n932      700.0\n933     1000.0\n934     1000.0\n935    10654.0\nName: bet, dtype: float64\n324        0.0\n325        0.0\n326        0.0\n327        0.0\n328        0.0\n329        0.0\n330      300.0\n331      800.0\n332    10554.0\nName: bet, dtype: float64\n249        0.0\n250        0.0\n251        0.0\n252        0.0\n253        0.0\n254        0.0\n255      100.0\n256      300.0\n257      500.0\n258      600.0\n259      800.0\n260    10054.0\n261    10154.0\n262    10554.0\nName: bet, dtype: float64\n888       0.0\n889       0.0\n890       0.0\n891       0.0\n892       0.0\n893     500.0\n894     600.0\n895    1000.0\n896    1000.0\nName: bet, dtype: float64\n239        0.0\n240      100.0\n241        0.0\n242      500.0\n243      600.0\n244      600.0\n245      900.0\n246     9754.0\n247    10154.0\n248    10254.0\nName: bet, dtype: float64\n90       0.0\n91       0.0\n92       0.0\n93     200.0\n94     300.0\n95     600.0\n96     800.0\n97    1000.0\n98    9754.0\n99    9754.0\nName: bet, dtype: float64\n942       0.0\n943       0.0\n944       0.0\n945       0.0\n946     400.0\n947     600.0\n948     800.0\n949    9954.0\nName: bet, dtype: float64\n32       0.0\n33       0.0\n34       0.0\n35       0.0\n36       0.0\n37       0.0\n38       0.0\n39       0.0\n40     100.0\n41     400.0\n42     800.0\n43    1000.0\n44    9854.0\nName: bet, dtype: float64\n632        0.0\n633        0.0\n634        0.0\n635      100.0\n636        0.0\n637        0.0\n638        0.0\n639        0.0\n640      500.0\n641      600.0\n642    10754.0\nName: bet, dtype: float64\n676      0.0\n677      0.0\n678    200.0\n679    500.0\n680    700.0\nName: bet, dtype: float64\n409       0.0\n410       0.0\n411       0.0\n412       0.0\n413       0.0\n414       0.0\n415       0.0\n416     400.0\n417     500.0\n418    1000.0\nName: bet, dtype: float64\n797      0.0\n798      0.0\n799      0.0\n800      0.0\n801      0.0\n802    700.0\n803    900.0\nName: bet, dtype: float64\n378      0.0\n379      0.0\n380      0.0\n381      0.0\n382      0.0\n383    400.0\n384    400.0\n385    400.0\n386    500.0\n387    900.0\nName: bet, dtype: float64\n867       0.0\n868     100.0\n869     300.0\n870     300.0\n871     500.0\n872     600.0\n873     700.0\n874     800.0\n875    1000.0\nName: bet, dtype: float64\n780        0.0\n781        0.0\n782        0.0\n783        0.0\n784        0.0\n785        0.0\n786        0.0\n787      200.0\n788      800.0\n789    10354.0\nName: bet, dtype: float64\n804      0.0\n805      0.0\n806      0.0\n807      0.0\n808    100.0\n809    200.0\n810    500.0\n811    500.0\n812    800.0\nName: bet, dtype: float64\n134        0.0\n135        0.0\n136      100.0\n137      200.0\n138      300.0\n139      400.0\n140      400.0\n141      500.0\n142      800.0\n143     8734.0\n144    10554.0\nName: bet, dtype: float64\n790      0.0\n791      0.0\n792      0.0\n793      0.0\n794    100.0\n795    300.0\n796    800.0\nName: bet, dtype: float64\n116        0.0\n117        0.0\n118        0.0\n119        0.0\n120        0.0\n121        0.0\n122        0.0\n123        0.0\n124        0.0\n125      200.0\n126      200.0\n127      200.0\n128      500.0\n129      700.0\n130      900.0\n131    10254.0\n132    10254.0\n133    10654.0\nName: bet, dtype: float64\n707        0.0\n708        0.0\n709        0.0\n710        0.0\n711        0.0\n712        0.0\n713        0.0\n714        0.0\n715        0.0\n716      200.0\n717    10154.0\nName: bet, dtype: float64\n153      0.0\n154      0.0\n155      0.0\n156      0.0\n157    200.0\n158    300.0\n159    500.0\n160    800.0\nName: bet, dtype: float64\n504      0.0\n505    100.0\n506      0.0\n507      0.0\n508      0.0\n509      0.0\n510    200.0\n511    800.0\nName: bet, dtype: float64\n850        0.0\n851        0.0\n852      400.0\n853      500.0\n854      700.0\n855     9754.0\n856    10054.0\n857    10354.0\nName: bet, dtype: float64\n555        0.0\n556        0.0\n557        0.0\n558        0.0\n559        0.0\n560        0.0\n561        0.0\n562      500.0\n563      900.0\n564     1000.0\n565    10454.0\n566    10654.0\nName: bet, dtype: float64\n100        0.0\n101        0.0\n102      100.0\n103        0.0\n104        0.0\n105        0.0\n106      300.0\n107      400.0\n108      400.0\n109      500.0\n110      700.0\n111      500.0\n112      900.0\n113     1000.0\n114     1000.0\n115    10154.0\nName: bet, dtype: float64\n8         0.0\n9         0.0\n10        0.0\n11        0.0\n12        0.0\n13        0.0\n14        0.0\n15        0.0\n16      100.0\n17      200.0\n18      400.0\n19      400.0\n20     1000.0\n21     9754.0\n22    10254.0\nName: bet, dtype: float64\n161      0.0\n162      0.0\n163      0.0\n164      0.0\n165    200.0\n166    400.0\n167    500.0\n168    700.0\nName: bet, dtype: float64\n936       0.0\n937       0.0\n938       0.0\n939     100.0\n940     700.0\n941    1000.0\nName: bet, dtype: float64\n214      0.0\n215      0.0\n216      0.0\n217      0.0\n218      0.0\n219      0.0\n220      0.0\n221      0.0\n222    100.0\n223    300.0\n224    400.0\nName: bet, dtype: float64\n567        0.0\n568        0.0\n569        0.0\n570        0.0\n571        0.0\n572        0.0\n573        0.0\n574      200.0\n575      500.0\n576    10354.0\nName: bet, dtype: float64\n145       0.0\n146       0.0\n147       0.0\n148       0.0\n149       0.0\n150       0.0\n151     600.0\n152    1000.0\nName: bet, dtype: float64\n577        0.0\n578        0.0\n579        0.0\n580      100.0\n581      300.0\n582      900.0\n583    10654.0\nName: bet, dtype: float64\n70      0.0\n71      0.0\n72      0.0\n73      0.0\n74      0.0\n75      0.0\n76    500.0\n77    800.0\n78    900.0\nName: bet, dtype: float64\n752       0.0\n753       0.0\n754       0.0\n755       0.0\n756       0.0\n757       0.0\n758     500.0\n759     600.0\n760     900.0\n761    1000.0\nName: bet, dtype: float64\n466        0.0\n467        0.0\n468      100.0\n469        0.0\n470        0.0\n471      500.0\n472      800.0\n473      800.0\n474      900.0\n475     9954.0\n476    10154.0\nName: bet, dtype: float64\n902      0.0\n903      0.0\n904      0.0\n905      0.0\n906      0.0\n907      0.0\n908      0.0\n909      0.0\n910      0.0\n911      0.0\n912      0.0\n913      0.0\n914    100.0\n915    400.0\n916    400.0\nName: bet, dtype: float64\n663       0.0\n664       0.0\n665       0.0\n666       0.0\n667       0.0\n668       0.0\n669       0.0\n670       0.0\n671     200.0\n672     200.0\n673     500.0\n674     900.0\n675    9754.0\nName: bet, dtype: float64\n275        0.0\n276        0.0\n277        0.0\n278        0.0\n279        0.0\n280        0.0\n281        0.0\n282        0.0\n283      100.0\n284      300.0\n285      400.0\n286      400.0\n287      700.0\n288    10154.0\nName: bet, dtype: float64\n541        0.0\n542        0.0\n543        0.0\n544        0.0\n545        0.0\n546        0.0\n547        0.0\n548        0.0\n549        0.0\n550      200.0\n551      900.0\n552     1000.0\n553    10254.0\n554    10554.0\nName: bet, dtype: float64\n263        0.0\n264     5000.0\n265     7650.0\n266     9876.0\n267        0.0\n268    12548.0\n269        0.0\n270      300.0\n271      300.0\n272      300.0\n273      400.0\n274     9754.0\nName: bet, dtype: float64\n692        0.0\n693        0.0\n694        0.0\n695        0.0\n696        0.0\n697      200.0\n698    10554.0\nName: bet, dtype: float64\n621      0.0\n622      0.0\n623      0.0\n624      0.0\n625      0.0\n626      0.0\n627      0.0\n628      0.0\n629      0.0\n630    400.0\n631    600.0\nName: bet, dtype: float64\n180       0.0\n181       0.0\n182       0.0\n183       0.0\n184       0.0\n185       0.0\n186       0.0\n187       0.0\n188       0.0\n189       0.0\n190     700.0\n191     900.0\n192    1000.0\nName: bet, dtype: float64\n643      0.0\n644      0.0\n645      0.0\n646      0.0\n647      0.0\n648      0.0\n649    100.0\n650    700.0\nName: bet, dtype: float64\n289       0.0\n290       0.0\n291       0.0\n292       0.0\n293       0.0\n294     100.0\n295     200.0\n296     500.0\n297     600.0\n298    9954.0\nName: bet, dtype: float64\n723      0.0\n724      0.0\n725      0.0\n726      0.0\n727    300.0\n728    600.0\nName: bet, dtype: float64\n598      0.0\n599      0.0\n600      0.0\n601    300.0\n602    600.0\n603    800.0\n604    800.0\n605    900.0\nName: bet, dtype: float64\n520       0.0\n521       0.0\n522       0.0\n523       0.0\n524     200.0\n525     400.0\n526     500.0\n527     800.0\n528    1000.0\n529    9954.0\nName: bet, dtype: float64\n651    100.0\n652      0.0\n653      0.0\n654    100.0\n655    800.0\nName: bet, dtype: float64\n353       0.0\n354       0.0\n355       0.0\n356       0.0\n357     200.0\n358    1000.0\nName: bet, dtype: float64\n169        0.0\n170        0.0\n171        0.0\n172      500.0\n173      500.0\n174      500.0\n175      600.0\n176      900.0\n177      900.0\n178     1000.0\n179    10654.0\nName: bet, dtype: float64\n458      0.0\n459      0.0\n460      0.0\n461      0.0\n462      0.0\n463    100.0\n464    700.0\n465    800.0\nName: bet, dtype: float64\n"
     ]
    }
   ]
  },
  {
   "cell_type": "code",
   "execution_count": 131,
   "metadata": {},
   "outputs": [
    {
     "output_type": "stream",
     "name": "stdout",
     "text": [
      "6\n"
     ]
    }
   ],
   "source": [
    "counter = 0\n",
    "for bet in df[df.user_id==\"user_900\"].bet:\n",
    "    if bet == 0:\n",
    "        counter += 1\n",
    "print(counter)"
   ]
  },
  {
   "cell_type": "code",
   "execution_count": 144,
   "metadata": {},
   "outputs": [
    {
     "output_type": "execute_result",
     "data": {
      "text/plain": [
       "      user_id                time    bet     win     net  \\\n",
       "0    user_919 2019-01-01 14:06:51    0.0     0.0     0.0   \n",
       "1    user_919 2019-01-30 10:06:00    0.0     0.0     0.0   \n",
       "2    user_919 2019-02-05 14:33:44    0.0     0.0     0.0   \n",
       "3    user_919 2019-02-14 11:38:05    0.0     0.0     0.0   \n",
       "4    user_919 2019-03-02 04:23:36  300.0  -300.0  -300.0   \n",
       "..        ...                 ...    ...     ...     ...   \n",
       "970  user_932 2019-02-24 22:40:06    0.0     0.0     0.0   \n",
       "971  user_932 2019-03-15 10:56:14    0.0     0.0     0.0   \n",
       "972  user_932 2019-03-18 10:13:24    0.0     0.0     0.0   \n",
       "973  user_932 2019-03-27 12:18:24    0.0     0.0     0.0   \n",
       "974  user_932 2019-04-18 14:55:26  700.0  6640.0  5940.0   \n",
       "\n",
       "                       mail     address  \n",
       "0    Chikkaverle@icloud.com   Хабаровск  \n",
       "1    Chikkaverle@icloud.com   Хабаровск  \n",
       "2    Chikkaverle@icloud.com   Хабаровск  \n",
       "3    Chikkaverle@icloud.com   Хабаровск  \n",
       "4    Chikkaverle@icloud.com   Хабаровск  \n",
       "..                      ...         ...  \n",
       "970       BraceWalker@bk.ru  Красноярск  \n",
       "971       BraceWalker@bk.ru  Красноярск  \n",
       "972       BraceWalker@bk.ru  Красноярск  \n",
       "973       BraceWalker@bk.ru  Красноярск  \n",
       "974       BraceWalker@bk.ru  Красноярск  \n",
       "\n",
       "[975 rows x 7 columns]"
      ],
      "text/html": "<div>\n<style scoped>\n    .dataframe tbody tr th:only-of-type {\n        vertical-align: middle;\n    }\n\n    .dataframe tbody tr th {\n        vertical-align: top;\n    }\n\n    .dataframe thead th {\n        text-align: right;\n    }\n</style>\n<table border=\"1\" class=\"dataframe\">\n  <thead>\n    <tr style=\"text-align: right;\">\n      <th></th>\n      <th>user_id</th>\n      <th>time</th>\n      <th>bet</th>\n      <th>win</th>\n      <th>net</th>\n      <th>mail</th>\n      <th>address</th>\n    </tr>\n  </thead>\n  <tbody>\n    <tr>\n      <th>0</th>\n      <td>user_919</td>\n      <td>2019-01-01 14:06:51</td>\n      <td>0.0</td>\n      <td>0.0</td>\n      <td>0.0</td>\n      <td>Chikkaverle@icloud.com</td>\n      <td>Хабаровск</td>\n    </tr>\n    <tr>\n      <th>1</th>\n      <td>user_919</td>\n      <td>2019-01-30 10:06:00</td>\n      <td>0.0</td>\n      <td>0.0</td>\n      <td>0.0</td>\n      <td>Chikkaverle@icloud.com</td>\n      <td>Хабаровск</td>\n    </tr>\n    <tr>\n      <th>2</th>\n      <td>user_919</td>\n      <td>2019-02-05 14:33:44</td>\n      <td>0.0</td>\n      <td>0.0</td>\n      <td>0.0</td>\n      <td>Chikkaverle@icloud.com</td>\n      <td>Хабаровск</td>\n    </tr>\n    <tr>\n      <th>3</th>\n      <td>user_919</td>\n      <td>2019-02-14 11:38:05</td>\n      <td>0.0</td>\n      <td>0.0</td>\n      <td>0.0</td>\n      <td>Chikkaverle@icloud.com</td>\n      <td>Хабаровск</td>\n    </tr>\n    <tr>\n      <th>4</th>\n      <td>user_919</td>\n      <td>2019-03-02 04:23:36</td>\n      <td>300.0</td>\n      <td>-300.0</td>\n      <td>-300.0</td>\n      <td>Chikkaverle@icloud.com</td>\n      <td>Хабаровск</td>\n    </tr>\n    <tr>\n      <th>...</th>\n      <td>...</td>\n      <td>...</td>\n      <td>...</td>\n      <td>...</td>\n      <td>...</td>\n      <td>...</td>\n      <td>...</td>\n    </tr>\n    <tr>\n      <th>970</th>\n      <td>user_932</td>\n      <td>2019-02-24 22:40:06</td>\n      <td>0.0</td>\n      <td>0.0</td>\n      <td>0.0</td>\n      <td>BraceWalker@bk.ru</td>\n      <td>Красноярск</td>\n    </tr>\n    <tr>\n      <th>971</th>\n      <td>user_932</td>\n      <td>2019-03-15 10:56:14</td>\n      <td>0.0</td>\n      <td>0.0</td>\n      <td>0.0</td>\n      <td>BraceWalker@bk.ru</td>\n      <td>Красноярск</td>\n    </tr>\n    <tr>\n      <th>972</th>\n      <td>user_932</td>\n      <td>2019-03-18 10:13:24</td>\n      <td>0.0</td>\n      <td>0.0</td>\n      <td>0.0</td>\n      <td>BraceWalker@bk.ru</td>\n      <td>Красноярск</td>\n    </tr>\n    <tr>\n      <th>973</th>\n      <td>user_932</td>\n      <td>2019-03-27 12:18:24</td>\n      <td>0.0</td>\n      <td>0.0</td>\n      <td>0.0</td>\n      <td>BraceWalker@bk.ru</td>\n      <td>Красноярск</td>\n    </tr>\n    <tr>\n      <th>974</th>\n      <td>user_932</td>\n      <td>2019-04-18 14:55:26</td>\n      <td>700.0</td>\n      <td>6640.0</td>\n      <td>5940.0</td>\n      <td>BraceWalker@bk.ru</td>\n      <td>Красноярск</td>\n    </tr>\n  </tbody>\n</table>\n<p>975 rows × 7 columns</p>\n</div>"
     },
     "metadata": {},
     "execution_count": 144
    }
   ],
   "source": [
    "df"
   ]
  },
  {
   "source": [
    "Сколько в среднем времени проходит между появлением человека в сервисе и первой ставкой? Считать нужно только тех, кто делал ставку. Для того, чтобы узнать это, напишите метод, считающий минимальное время среди ставок, равных 0, и минимальное время среди ставок больше 0. После этого верните разницу между вторым и первым числом. Пройдитесь по всем группам. Если в группе нет ставок больше 0, пропустите эту группу. Просуммируйте разницу во времени для каждой группы (с помощью метода, описанного выше) и поделите на количество групп, которые вы не пропустили.\n"
   ],
   "cell_type": "markdown",
   "metadata": {}
  },
  {
   "cell_type": "code",
   "execution_count": 173,
   "metadata": {},
   "outputs": [],
   "source": [
    "def get_bet_time(user):\n",
    "    s = []\n",
    "    min_zero = user[user.bet == 0].time.min()\n",
    "    min_bet = user[user.bet != 0].time.min()\n",
    "    delta = min_bet - min_zero\n",
    "    if delta < pd.Timedelta(0):\n",
    "        delta = pd.Timedelta(0)\n",
    "    s.append(min_zero)\n",
    "    s.append(min_bet)\n",
    "    s.append(delta)\n",
    "    return pd.Series(\n",
    "        s, index=[\n",
    "            [\"time\", \"time\", \"time\"],\n",
    "            [\"min_zero\", \"min_bet\", \"delta\"]\n",
    "        ]\n",
    "    )\n"
   ]
  },
  {
   "cell_type": "code",
   "execution_count": 175,
   "metadata": {},
   "outputs": [
    {
     "output_type": "execute_result",
     "data": {
      "text/plain": [
       "Timedelta('47 days 01:34:33.930000')"
      ]
     },
     "metadata": {},
     "execution_count": 175
    }
   ],
   "source": [
    "df1 = df.groupby('user_id').apply(get_bet_time)\n",
    "df1[\"time\"][\"delta\"].mean()"
   ]
  },
  {
   "cell_type": "code",
   "execution_count": 166,
   "metadata": {},
   "outputs": [
    {
     "output_type": "stream",
     "name": "stderr",
     "text": [
      "<ipython-input-166-6c108c32b528>:1: UserWarning: Boolean Series key will be reindexed to match DataFrame index.\n  df[df.user_id==\"user_996\"][df.bet == 0].time.min()\n"
     ]
    },
    {
     "output_type": "execute_result",
     "data": {
      "text/plain": [
       "Timestamp('2019-03-03 11:43:38')"
      ]
     },
     "metadata": {},
     "execution_count": 166
    }
   ],
   "source": [
    "df[df.user_id==\"user_996\"][df.bet == 0].time.min()"
   ]
  },
  {
   "cell_type": "code",
   "execution_count": 157,
   "metadata": {},
   "outputs": [
    {
     "output_type": "execute_result",
     "data": {
      "text/plain": [
       "829   2019-01-21 19:31:34\n",
       "830   2019-01-28 20:57:37\n",
       "831   2019-02-10 05:33:25\n",
       "832   2019-02-17 02:34:32\n",
       "833   2019-02-21 12:01:29\n",
       "834   2019-03-02 17:17:13\n",
       "835   2019-03-03 12:34:16\n",
       "836   2019-03-23 23:47:07\n",
       "837   2019-03-27 03:39:36\n",
       "838   2019-04-05 14:45:54\n",
       "839   2019-04-05 06:48:33\n",
       "840   2019-04-06 22:07:35\n",
       "Name: time, dtype: datetime64[ns]"
      ]
     },
     "metadata": {},
     "execution_count": 157
    }
   ],
   "source": [
    "df[df.user_id==\"user_996\"].time"
   ]
  },
  {
   "cell_type": "code",
   "execution_count": 170,
   "metadata": {},
   "outputs": [
    {
     "output_type": "stream",
     "name": "stderr",
     "text": [
      "<ipython-input-170-c24619bccf5d>:1: UserWarning: Boolean Series key will be reindexed to match DataFrame index.\n  td = df[df.user_id==\"user_996\"][df.bet != 0].time.min() - df[df.user_id==\"user_996\"][df.bet == 0].time.min()\n<ipython-input-170-c24619bccf5d>:1: UserWarning: Boolean Series key will be reindexed to match DataFrame index.\n  td = df[df.user_id==\"user_996\"][df.bet != 0].time.min() - df[df.user_id==\"user_996\"][df.bet == 0].time.min()\n"
     ]
    }
   ],
   "source": [
    "td = df[df.user_id==\"user_996\"][df.bet != 0].time.min() - df[df.user_id==\"user_996\"][df.bet == 0].time.min()"
   ]
  },
  {
   "cell_type": "code",
   "execution_count": 172,
   "metadata": {},
   "outputs": [
    {
     "output_type": "stream",
     "name": "stdout",
     "text": [
      "s\n"
     ]
    }
   ],
   "source": [
    "if td < pd.Timedelta(0):\n",
    "    print('s')"
   ]
  },
  {
   "cell_type": "code",
   "execution_count": 168,
   "metadata": {},
   "outputs": [
    {
     "output_type": "execute_result",
     "data": {
      "text/plain": [
       "       bet                time\n",
       "651  100.0 2019-01-10 07:32:17\n",
       "652    0.0 2019-03-03 11:43:38\n",
       "653    0.0 2019-03-09 12:51:58\n",
       "654  100.0 2019-03-10 10:57:52\n",
       "655  800.0 2019-04-10 04:42:20"
      ],
      "text/html": "<div>\n<style scoped>\n    .dataframe tbody tr th:only-of-type {\n        vertical-align: middle;\n    }\n\n    .dataframe tbody tr th {\n        vertical-align: top;\n    }\n\n    .dataframe thead th {\n        text-align: right;\n    }\n</style>\n<table border=\"1\" class=\"dataframe\">\n  <thead>\n    <tr style=\"text-align: right;\">\n      <th></th>\n      <th>bet</th>\n      <th>time</th>\n    </tr>\n  </thead>\n  <tbody>\n    <tr>\n      <th>651</th>\n      <td>100.0</td>\n      <td>2019-01-10 07:32:17</td>\n    </tr>\n    <tr>\n      <th>652</th>\n      <td>0.0</td>\n      <td>2019-03-03 11:43:38</td>\n    </tr>\n    <tr>\n      <th>653</th>\n      <td>0.0</td>\n      <td>2019-03-09 12:51:58</td>\n    </tr>\n    <tr>\n      <th>654</th>\n      <td>100.0</td>\n      <td>2019-03-10 10:57:52</td>\n    </tr>\n    <tr>\n      <th>655</th>\n      <td>800.0</td>\n      <td>2019-04-10 04:42:20</td>\n    </tr>\n  </tbody>\n</table>\n</div>"
     },
     "metadata": {},
     "execution_count": 168
    }
   ],
   "source": [
    "df[df.user_id==\"user_996\"][[\"bet\", \"time\"]]"
   ]
  },
  {
   "source": [
    "Используйте датасет, который получился в результате всех преобразований в прошлой секции (в том числе, заполнение пропусков).\n",
    "\n",
    "Ответ запишите в поле ниже в виде одного слова, с большой буквы.\n",
    "\n",
    "Наибольший суммарный выигрыш среди всех городов имеет Москва. Посчитайте следующий за ней город. Для этого сгруппируйте по городам, возьмите признак win, просуммируйте по каждому городу, отсортируйте и получите второй город.\n"
   ],
   "cell_type": "markdown",
   "metadata": {}
  },
  {
   "cell_type": "code",
   "execution_count": 188,
   "metadata": {
    "tags": []
   },
   "outputs": [
    {
     "output_type": "execute_result",
     "data": {
      "text/plain": [
       "address\n",
       "Москва             11379755.0\n",
       "Воронеж              107514.0\n",
       "Санкт-Петербург      105345.0\n",
       "Казань                75352.0\n",
       "Ярославль             46845.0\n",
       "Ижевск                34479.0\n",
       "Хабаровск             33451.0\n",
       "Екатеринбург          28582.0\n",
       "Красноярск            27397.0\n",
       "Арзангелтск           25813.0\n",
       "Пермь                 19518.0\n",
       "Краснодар              3248.0\n",
       "Ставрополь              487.0\n",
       "Тюмень                 -499.0\n",
       "Name: win, dtype: float64"
      ]
     },
     "metadata": {},
     "execution_count": 188
    }
   ],
   "source": [
    "df.groupby(\"address\").win.sum().sort_values(ascending=False)"
   ]
  },
  {
   "source": [
    "Подсказки:\n",
    "\n",
    "1. Можно использовать методы min() и max().\n",
    "\n",
    "2. Учитывайте, что минимальная ставка, это ставка, которая была сделана, т.е. если ставка равна нулю - значит ставки не было.\n",
    "\n",
    "3. Ответ запишите в поле ниже в виде целого числа (нужно отбросить дробную часть).\n",
    "\n",
    "Во сколько раз различаются максимальное и минимальное значение средней ставки по городам? Для того, чтобы это посчитать, нужно сгруппировать по городам, взять среднее от признака bet, найти максимальное и минимальное значения, затем поделить одно на другое.\n"
   ],
   "cell_type": "markdown",
   "metadata": {}
  },
  {
   "cell_type": "code",
   "execution_count": 196,
   "metadata": {},
   "outputs": [
    {
     "output_type": "execute_result",
     "data": {
      "text/plain": [
       "127.81602335164835"
      ]
     },
     "metadata": {},
     "execution_count": 196
    }
   ],
   "source": [
    "max_ = df[df.bet != 0].groupby(\"address\").bet.mean().max()\n",
    "min_ = df[df.bet != 0].groupby(\"address\").bet.mean().min()\n",
    "max_ / min_"
   ]
  },
  {
   "source": [
    "Давайте повторим все, что мы прошли в этой секции. Напишите код, который посчитает, сколько раз пользователи приходили в букмекерскую контору в каждом городе. Для этого:\n",
    "\n",
    "1. загрузите датасеты log.csv и users.csv;\n",
    "\n",
    "2. удалите user_id с ошибкой (#error) и приведите признак user_id к одному виду в обоих датасетах;\n",
    "\n",
    "3. слейте два датасета в один по признаку user_id;\n",
    "\n",
    "4. сгруппируйте данные по правильному признаку (какому - вам нужно понять самим), затем выберите user_id и воспользуйтесь функцией count() для подсчета наблюдений в каждой группе;\n",
    "\n",
    "5. результат запишите в sample2 (объект Series).\n",
    "\n"
   ],
   "cell_type": "markdown",
   "metadata": {}
  },
  {
   "cell_type": "code",
   "execution_count": 200,
   "metadata": {},
   "outputs": [
    {
     "output_type": "execute_result",
     "data": {
      "text/plain": [
       "pandas.core.series.Series"
      ]
     },
     "metadata": {},
     "execution_count": 200
    }
   ],
   "source": [
    "type(df.groupby(\"address\").bet.count())"
   ]
  },
  {
   "cell_type": "code",
   "execution_count": 201,
   "metadata": {},
   "outputs": [],
   "source": [
    "df1 = df.copy()"
   ]
  },
  {
   "cell_type": "code",
   "execution_count": 206,
   "metadata": {},
   "outputs": [
    {
     "output_type": "execute_result",
     "data": {
      "text/plain": [
       "0      1\n",
       "1      1\n",
       "2      2\n",
       "3      2\n",
       "4      3\n",
       "      ..\n",
       "970    2\n",
       "971    3\n",
       "972    3\n",
       "973    3\n",
       "974    4\n",
       "Name: time, Length: 975, dtype: int64"
      ]
     },
     "metadata": {},
     "execution_count": 206
    }
   ],
   "source": [
    "df1['time'].apply(lambda pandas_dataframe: pandas_dataframe.month)"
   ]
  },
  {
   "cell_type": "code",
   "execution_count": null,
   "metadata": {},
   "outputs": [],
   "source": []
  }
 ]
}