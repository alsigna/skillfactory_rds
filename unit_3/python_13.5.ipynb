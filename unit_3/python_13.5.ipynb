{
 "metadata": {
  "language_info": {
   "codemirror_mode": {
    "name": "ipython",
    "version": 3
   },
   "file_extension": ".py",
   "mimetype": "text/x-python",
   "name": "python",
   "nbconvert_exporter": "python",
   "pygments_lexer": "ipython3",
   "version": "3.8.2"
  },
  "orig_nbformat": 4,
  "kernelspec": {
   "name": "python3",
   "display_name": "Python 3.8.2 64-bit ('venv': venv)"
  },
  "interpreter": {
   "hash": "a7ef03c113a9ff7e401e4f5b09b4413a5a8d6bd31242b59d5133bbf684243222"
  }
 },
 "nbformat": 4,
 "nbformat_minor": 2,
 "cells": [
  {
   "cell_type": "code",
   "execution_count": 2,
   "metadata": {},
   "outputs": [],
   "source": [
    "import pandas as pd\n",
    "df = pd.read_csv('recipes.csv')"
   ]
  },
  {
   "cell_type": "code",
   "execution_count": 4,
   "metadata": {},
   "outputs": [],
   "source": [
    "ids = df.id.to_list()"
   ]
  },
  {
   "cell_type": "code",
   "execution_count": 11,
   "metadata": {},
   "outputs": [],
   "source": [
    "ingredients = list(df.columns)\n",
    "ingredients.remove(\"id\")\n",
    "ingredients.remove(\"cuisine\")\n",
    "ingredients.remove(\"ingredients\")\n"
   ]
  },
  {
   "cell_type": "code",
   "execution_count": 12,
   "metadata": {},
   "outputs": [],
   "source": [
    "new_recipes = []\n"
   ]
  },
  {
   "cell_type": "code",
   "execution_count": 42,
   "metadata": {},
   "outputs": [],
   "source": [
    "def make_list(row):\n",
    "    row.pop(\"id\")\n",
    "    row.pop(\"cuisine\")\n",
    "    row.pop(\"ingredients\")\n",
    "    row_t = row.T\n",
    "    row_t.columns = [\"value\"]\n",
    "    return (row_t[row_t.value == 1]).index.to_list()\n"
   ]
  },
  {
   "cell_type": "code",
   "execution_count": 43,
   "metadata": {},
   "outputs": [],
   "source": [
    "for current_id in ids:\n",
    "    cuisine = df[df['id'] == current_id]['cuisine'].iloc[0]\n",
    "    current_ingredients = make_list(df[df['id'] == current_id])\n",
    "    current_recipe = {'cuisine': cuisine, 'id': int(current_id), 'ingredients': current_ingredients}\n",
    "    new_recipes.append(current_recipe)\n"
   ]
  },
  {
   "cell_type": "code",
   "execution_count": 44,
   "metadata": {},
   "outputs": [],
   "source": [
    "import json\n",
    "with open(\"new_recipes.json\", \"w\") as write_file:\n",
    "    json.dump(new_recipes, write_file)"
   ]
  },
  {
   "cell_type": "code",
   "execution_count": null,
   "metadata": {},
   "outputs": [],
   "source": []
  }
 ]
}