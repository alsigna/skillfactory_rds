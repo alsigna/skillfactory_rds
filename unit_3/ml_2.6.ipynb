{
 "metadata": {
  "language_info": {
   "codemirror_mode": {
    "name": "ipython",
    "version": 3
   },
   "file_extension": ".py",
   "mimetype": "text/x-python",
   "name": "python",
   "nbconvert_exporter": "python",
   "pygments_lexer": "ipython3",
   "version": "3.8.2"
  },
  "orig_nbformat": 4,
  "kernelspec": {
   "name": "python3",
   "display_name": "Python 3.8.2 64-bit ('venv': venv)"
  },
  "interpreter": {
   "hash": "a7ef03c113a9ff7e401e4f5b09b4413a5a8d6bd31242b59d5133bbf684243222"
  }
 },
 "nbformat": 4,
 "nbformat_minor": 2,
 "cells": [
  {
   "cell_type": "code",
   "execution_count": 83,
   "metadata": {},
   "outputs": [
    {
     "output_type": "stream",
     "name": "stdout",
     "text": [
      "<class 'pandas.core.frame.DataFrame'>\nRangeIndex: 250306 entries, 0 to 250305\nData columns (total 34 columns):\n #   Column                      Non-Null Count   Dtype  \n---  ------                      --------------   -----  \n 0   ticket_id                   250306 non-null  int64  \n 1   agency_name                 250306 non-null  object \n 2   inspector_name              250306 non-null  object \n 3   violator_name               250272 non-null  object \n 4   violation_street_number     250306 non-null  float64\n 5   violation_street_name       250306 non-null  object \n 6   violation_zip_code          0 non-null       float64\n 7   mailing_address_str_number  246704 non-null  float64\n 8   mailing_address_str_name    250302 non-null  object \n 9   city                        250306 non-null  object \n 10  state                       250213 non-null  object \n 11  zip_code                    250305 non-null  object \n 12  non_us_str_code             3 non-null       object \n 13  country                     250306 non-null  object \n 14  ticket_issued_date          250306 non-null  object \n 15  hearing_date                237815 non-null  object \n 16  violation_code              250306 non-null  object \n 17  violation_description       250306 non-null  object \n 18  disposition                 250306 non-null  object \n 19  fine_amount                 250305 non-null  float64\n 20  admin_fee                   250306 non-null  float64\n 21  state_fee                   250306 non-null  float64\n 22  late_fee                    250306 non-null  float64\n 23  discount_amount             250306 non-null  float64\n 24  clean_up_cost               250306 non-null  float64\n 25  judgment_amount             250306 non-null  float64\n 26  payment_amount              250306 non-null  float64\n 27  balance_due                 250306 non-null  float64\n 28  payment_date                41113 non-null   object \n 29  payment_status              250306 non-null  object \n 30  collection_status           36897 non-null   object \n 31  grafitti_status             1 non-null       object \n 32  compliance_detail           250306 non-null  object \n 33  compliance                  159880 non-null  float64\ndtypes: float64(13), int64(1), object(20)\nmemory usage: 64.9+ MB\n"
     ]
    }
   ],
   "source": [
    "import pandas as pd\n",
    "vis_data = pd.read_csv(\"train.csv\", encoding = 'ISO-8859-1', low_memory = False)\n",
    "vis_data.info()"
   ]
  },
  {
   "cell_type": "code",
   "execution_count": 8,
   "metadata": {},
   "outputs": [
    {
     "output_type": "execute_result",
     "data": {
      "text/plain": [
       "0         IL\n",
       "1         MI\n",
       "2         MI\n",
       "3         MI\n",
       "4         MI\n",
       "          ..\n",
       "250301    MI\n",
       "250302    MI\n",
       "250303    MI\n",
       "250304    MI\n",
       "250305    MI\n",
       "Name: state, Length: 250306, dtype: object"
      ]
     },
     "metadata": {},
     "execution_count": 8
    }
   ],
   "source": [
    "state = vis_data.state.value_counts().index[0]\n",
    "vis_data.state.fillna(state)"
   ]
  },
  {
   "cell_type": "code",
   "execution_count": 11,
   "metadata": {},
   "outputs": [],
   "source": [
    "from sklearn.preprocessing import StandardScaler\n",
    "scaler = StandardScaler()\n",
    "# scaler.fit_transform(test_data)"
   ]
  },
  {
   "cell_type": "code",
   "execution_count": 31,
   "metadata": {},
   "outputs": [
    {
     "output_type": "execute_result",
     "data": {
      "text/plain": [
       "array([[ 0.13613444],\n",
       "       [-0.24315767],\n",
       "       [-0.36683987],\n",
       "       ...,\n",
       "       [-0.36683987],\n",
       "       [-0.36683987],\n",
       "       [-0.36683987]])"
      ]
     },
     "metadata": {},
     "execution_count": 31
    }
   ],
   "source": [
    "scaler.fit_transform(vis_data[[\"balance_due\"]])"
   ]
  },
  {
   "cell_type": "code",
   "execution_count": 37,
   "metadata": {},
   "outputs": [
    {
     "output_type": "execute_result",
     "data": {
      "text/plain": [
       "-13.14733"
      ]
     },
     "metadata": {},
     "execution_count": 37
    }
   ],
   "source": [
    "import numpy as np\n",
    "scaler.fit_transform(vis_data.balance_due.to_numpy().reshape(-1, 1)).min().round(5)"
   ]
  },
  {
   "cell_type": "code",
   "execution_count": 47,
   "metadata": {},
   "outputs": [
    {
     "output_type": "stream",
     "name": "stdout",
     "text": [
      "17.011653135663007\n"
     ]
    }
   ],
   "source": [
    "mean = np.sqrt(vis_data.balance_due[vis_data.balance_due > 0]).mean()\n",
    "print(mean)"
   ]
  },
  {
   "cell_type": "code",
   "execution_count": 48,
   "metadata": {},
   "outputs": [
    {
     "output_type": "stream",
     "name": "stdout",
     "text": [
      "17.46424919657298\n"
     ]
    }
   ],
   "source": [
    "median = np.sqrt(vis_data.balance_due[vis_data.balance_due > 0]).median()\n",
    "print(median)"
   ]
  },
  {
   "cell_type": "code",
   "execution_count": 46,
   "metadata": {},
   "outputs": [
    {
     "output_type": "execute_result",
     "data": {
      "text/plain": [
       "0.45259606090997195"
      ]
     },
     "metadata": {},
     "execution_count": 46
    }
   ],
   "source": [
    "abs(mean-median)"
   ]
  },
  {
   "cell_type": "code",
   "execution_count": 50,
   "metadata": {},
   "outputs": [
    {
     "output_type": "stream",
     "name": "stdout",
     "text": [
      "<class 'pandas.core.frame.DataFrame'>\nRangeIndex: 250306 entries, 0 to 250305\nData columns (total 34 columns):\n #   Column                      Non-Null Count   Dtype  \n---  ------                      --------------   -----  \n 0   ticket_id                   250306 non-null  int64  \n 1   agency_name                 250306 non-null  object \n 2   inspector_name              250306 non-null  object \n 3   violator_name               250272 non-null  object \n 4   violation_street_number     250306 non-null  float64\n 5   violation_street_name       250306 non-null  object \n 6   violation_zip_code          0 non-null       float64\n 7   mailing_address_str_number  246704 non-null  float64\n 8   mailing_address_str_name    250302 non-null  object \n 9   city                        250306 non-null  object \n 10  state                       250213 non-null  object \n 11  zip_code                    250305 non-null  object \n 12  non_us_str_code             3 non-null       object \n 13  country                     250306 non-null  object \n 14  ticket_issued_date          250306 non-null  object \n 15  hearing_date                237815 non-null  object \n 16  violation_code              250306 non-null  object \n 17  violation_description       250306 non-null  object \n 18  disposition                 250306 non-null  object \n 19  fine_amount                 250305 non-null  float64\n 20  admin_fee                   250306 non-null  float64\n 21  state_fee                   250306 non-null  float64\n 22  late_fee                    250306 non-null  float64\n 23  discount_amount             250306 non-null  float64\n 24  clean_up_cost               250306 non-null  float64\n 25  judgment_amount             250306 non-null  float64\n 26  payment_amount              250306 non-null  float64\n 27  balance_due                 250306 non-null  float64\n 28  payment_date                41113 non-null   object \n 29  payment_status              250306 non-null  object \n 30  collection_status           36897 non-null   object \n 31  grafitti_status             1 non-null       object \n 32  compliance_detail           250306 non-null  object \n 33  compliance                  159880 non-null  float64\ndtypes: float64(13), int64(1), object(20)\nmemory usage: 64.9+ MB\n"
     ]
    }
   ],
   "source": [
    "vis_data.info()"
   ]
  },
  {
   "cell_type": "code",
   "execution_count": 63,
   "metadata": {},
   "outputs": [
    {
     "output_type": "execute_result",
     "data": {
      "text/plain": [
       "8   -3.509170e+06\n",
       "0    1.000000e+00\n",
       "2    4.889899e+01\n",
       "1    2.224491e+02\n",
       "4    6.670276e+02\n",
       "5    5.186265e+04\n",
       "3    4.171958e+05\n",
       "7    8.597853e+06\n",
       "9    1.779981e+08\n",
       "6    2.042001e+09\n",
       "dtype: float64"
      ]
     },
     "metadata": {},
     "execution_count": 63
    }
   ],
   "source": [
    "from sklearn.preprocessing import PolynomialFeatures\n",
    "\n",
    "pf = PolynomialFeatures(3)\n",
    "poly_features = pf.fit_transform(vis_data[['balance_due', 'payment_amount']])\n",
    "pf_df = pd.DataFrame(poly_features)\n",
    "pf_df.mean().sort_values()\n"
   ]
  },
  {
   "cell_type": "code",
   "execution_count": 74,
   "metadata": {},
   "outputs": [
    {
     "output_type": "execute_result",
     "data": {
      "text/plain": [
       "1620"
      ]
     },
     "metadata": {},
     "execution_count": 74
    }
   ],
   "source": [
    "(pd.to_datetime(vis_data.ticket_issued_date).dt.weekday >= 5).value_counts()[True]"
   ]
  },
  {
   "cell_type": "code",
   "execution_count": 96,
   "metadata": {},
   "outputs": [],
   "source": [
    "def outliers_iqr(ys):\n",
    "    quartile_1, quartile_3 = np.percentile(ys, [25, 75])\n",
    "    iqr = quartile_3 - quartile_1\n",
    "    lower_bound = quartile_1 - (iqr * 1.5)\n",
    "    upper_bound = quartile_3 + (iqr * 1.5)\n",
    "    print(lower_bound)\n",
    "    print(upper_bound)\n",
    "    return ys[(ys < upper_bound) & (ys > lower_bound)]\n"
   ]
  },
  {
   "cell_type": "code",
   "execution_count": 76,
   "metadata": {},
   "outputs": [
    {
     "output_type": "execute_result",
     "data": {
      "text/plain": [
       "0         305.0\n",
       "1          75.0\n",
       "2           0.0\n",
       "3           0.0\n",
       "4           0.0\n",
       "          ...  \n",
       "250301      0.0\n",
       "250302      0.0\n",
       "250303      0.0\n",
       "250304      0.0\n",
       "250305      0.0\n",
       "Name: balance_due, Length: 250306, dtype: float64"
      ]
     },
     "metadata": {},
     "execution_count": 76
    }
   ],
   "source": [
    "vis_data.balance_due"
   ]
  },
  {
   "cell_type": "code",
   "execution_count": 97,
   "metadata": {},
   "outputs": [
    {
     "output_type": "stream",
     "name": "stdout",
     "text": [
      "-457.5\n762.5\n"
     ]
    }
   ],
   "source": [
    "o = outliers_iqr(vis_data.balance_due.dropna())"
   ]
  },
  {
   "cell_type": "code",
   "execution_count": 102,
   "metadata": {},
   "outputs": [
    {
     "output_type": "execute_result",
     "data": {
      "text/plain": [
       "1201.3"
      ]
     },
     "metadata": {},
     "execution_count": 102
    }
   ],
   "source": [
    "o.max()-o.min()"
   ]
  },
  {
   "cell_type": "code",
   "execution_count": 82,
   "metadata": {},
   "outputs": [
    {
     "output_type": "execute_result",
     "data": {
      "text/plain": [
       "0"
      ]
     },
     "metadata": {},
     "execution_count": 82
    }
   ],
   "source": [
    "min(o)"
   ]
  },
  {
   "cell_type": "code",
   "execution_count": null,
   "metadata": {},
   "outputs": [],
   "source": []
  }
 ]
}