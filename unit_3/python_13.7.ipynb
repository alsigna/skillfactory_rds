{
 "metadata": {
  "language_info": {
   "codemirror_mode": {
    "name": "ipython",
    "version": 3
   },
   "file_extension": ".py",
   "mimetype": "text/x-python",
   "name": "python",
   "nbconvert_exporter": "python",
   "pygments_lexer": "ipython3",
   "version": "3.8.2"
  },
  "orig_nbformat": 4,
  "kernelspec": {
   "name": "python3",
   "display_name": "Python 3.8.2 64-bit ('venv': venv)"
  },
  "interpreter": {
   "hash": "a7ef03c113a9ff7e401e4f5b09b4413a5a8d6bd31242b59d5133bbf684243222"
  }
 },
 "nbformat": 4,
 "nbformat_minor": 2,
 "cells": [
  {
   "cell_type": "code",
   "execution_count": 7,
   "metadata": {},
   "outputs": [],
   "source": [
    "import pandas as pd\n",
    "pd.set_option('display.max_columns', None)  "
   ]
  },
  {
   "cell_type": "code",
   "execution_count": 9,
   "metadata": {},
   "outputs": [
    {
     "output_type": "stream",
     "name": "stdout",
     "text": [
      "<class 'pandas.core.frame.DataFrame'>\nRangeIndex: 864 entries, 0 to 863\nData columns (total 19 columns):\n #   Column  Non-Null Count  Dtype  \n---  ------  --------------  -----  \n 0   0       860 non-null    object \n 1   1       860 non-null    object \n 2   2       131 non-null    object \n 3   3       133 non-null    object \n 4   4       133 non-null    object \n 5   5       131 non-null    object \n 6   6       132 non-null    object \n 7   7       857 non-null    object \n 8   8       861 non-null    object \n 9   9       858 non-null    object \n 10  10      130 non-null    object \n 11  11      4 non-null      object \n 12  12      131 non-null    object \n 13  13      858 non-null    object \n 14  14      860 non-null    object \n 15  15      859 non-null    object \n 16  16      0 non-null      float64\n 17  17      131 non-null    object \n 18  18      132 non-null    object \ndtypes: float64(1), object(18)\nmemory usage: 128.4+ KB\n"
     ]
    }
   ],
   "source": [
    "data = pd.read_excel('Fig3-1.xls', header=None)  \n",
    "data.info()\n"
   ]
  },
  {
   "cell_type": "code",
   "execution_count": null,
   "metadata": {},
   "outputs": [],
   "source": []
  }
 ]
}