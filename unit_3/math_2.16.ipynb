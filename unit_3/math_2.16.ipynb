{
 "metadata": {
  "language_info": {
   "codemirror_mode": {
    "name": "ipython",
    "version": 3
   },
   "file_extension": ".py",
   "mimetype": "text/x-python",
   "name": "python",
   "nbconvert_exporter": "python",
   "pygments_lexer": "ipython3",
   "version": "3.8.2"
  },
  "orig_nbformat": 4,
  "kernelspec": {
   "name": "python3",
   "display_name": "Python 3.8.2 64-bit ('venv': venv)"
  },
  "interpreter": {
   "hash": "265455998716544771fe8f8e46d3bc336b7ce25fc2914091372dd288abc92a2d"
  }
 },
 "nbformat": 4,
 "nbformat_minor": 2,
 "cells": [
  {
   "cell_type": "code",
   "execution_count": 1,
   "metadata": {},
   "outputs": [],
   "source": [
    "import numpy as np # для работы с массивами\n",
    "# import pandas as pd # для работы DataFrame \n",
    "# import seaborn as sns # библиотека для визуализации статистических данных\n",
    "# import matplotlib.pyplot as plt # для построения графиков\n",
    "\n",
    "# %matplotlib inline"
   ]
  },
  {
   "cell_type": "code",
   "execution_count": 85,
   "metadata": {},
   "outputs": [],
   "source": [
    "x1 = np.array([1,2,1,1]).T\n",
    "x2 = np.array([70,130,65,60]).T"
   ]
  },
  {
   "cell_type": "code",
   "execution_count": 95,
   "metadata": {},
   "outputs": [
    {
     "output_type": "stream",
     "name": "stdout",
     "text": [
      "[-0.25  0.75 -0.25 -0.25]\n[-11.25  48.75 -16.25 -21.25]\n"
     ]
    }
   ],
   "source": [
    "x1_c = x1-x1.mean()\n",
    "x2_c = x2-x2.mean()\n",
    "print(x1_c)\n",
    "print(x2_c)"
   ]
  },
  {
   "cell_type": "code",
   "execution_count": 96,
   "metadata": {},
   "outputs": [
    {
     "output_type": "stream",
     "name": "stdout",
     "text": [
      "0.8660254037844386\n56.73402858955109\n"
     ]
    }
   ],
   "source": [
    "x1_c_norm = np.linalg.norm(x1_c)\n",
    "x2_c_norm = np.linalg.norm(x2_c)\n",
    "print(x1_c_norm)\n",
    "print(x2_c_norm)"
   ]
  },
  {
   "cell_type": "code",
   "execution_count": 97,
   "metadata": {},
   "outputs": [
    {
     "output_type": "stream",
     "name": "stdout",
     "text": [
      "[-0.28867513  0.8660254  -0.28867513 -0.28867513]\n[-0.19829369  0.85927267 -0.28642422 -0.37455475]\n"
     ]
    }
   ],
   "source": [
    "x1_st = x1_c / x1_c_norm\n",
    "x2_st = x2_c / x2_c_norm\n",
    "print(x1_st)\n",
    "print(x2_st)"
   ]
  },
  {
   "cell_type": "code",
   "execution_count": 89,
   "metadata": {},
   "outputs": [
    {
     "output_type": "execute_result",
     "data": {
      "text/plain": [
       "(array([1.9922, 0.0078]),\n",
       " array([[ 0.70710678, -0.70710678],\n",
       "        [ 0.70710678,  0.70710678]]))"
      ]
     },
     "metadata": {},
     "execution_count": 89
    }
   ],
   "source": [
    "A = np.array([\n",
    "    [1, 0.9922],\n",
    "    [0.9922, 1]\n",
    "])\n",
    "B = np.linalg.eig(A)\n",
    "B"
   ]
  },
  {
   "cell_type": "code",
   "execution_count": 90,
   "metadata": {},
   "outputs": [
    {
     "output_type": "execute_result",
     "data": {
      "text/plain": [
       "array([0.70710678, 0.70710678])"
      ]
     },
     "metadata": {},
     "execution_count": 90
    }
   ],
   "source": [
    "B[1][:,0]"
   ]
  },
  {
   "cell_type": "code",
   "execution_count": 107,
   "metadata": {},
   "outputs": [],
   "source": [
    "# pca1 = np.column_stack((x1,x2))@B[1][:,0]\n",
    "pca1 = np.column_stack((x1_st,x2_st))@np.array([1,1])"
   ]
  },
  {
   "cell_type": "code",
   "execution_count": 108,
   "metadata": {},
   "outputs": [
    {
     "output_type": "execute_result",
     "data": {
      "text/plain": [
       "array([-0.244 ,  0.8643, -0.2881, -0.3323])"
      ]
     },
     "metadata": {},
     "execution_count": 108
    }
   ],
   "source": [
    "pca1_c = pca1 - pca1.mean()\n",
    "pca1_c_norm = np.linalg.norm(pca1_c)\n",
    "pca1_st = pca1_c / pca1_c_norm\n",
    "pca1_st.round(4)"
   ]
  },
  {
   "cell_type": "code",
   "execution_count": 98,
   "metadata": {},
   "outputs": [
    {
     "output_type": "execute_result",
     "data": {
      "text/plain": [
       "(array([1.77, 0.23]),\n",
       " array([[ 0.70710678,  0.70710678],\n",
       "        [-0.70710678,  0.70710678]]))"
      ]
     },
     "metadata": {},
     "execution_count": 98
    }
   ],
   "source": [
    "A1 = np.array([\n",
    "    [1, -0.77],\n",
    "    [-0.77, 1]\n",
    "])\n",
    "B1 = np.linalg.eig(A1)\n",
    "B1"
   ]
  },
  {
   "cell_type": "code",
   "execution_count": null,
   "metadata": {},
   "outputs": [],
   "source": []
  }
 ]
}