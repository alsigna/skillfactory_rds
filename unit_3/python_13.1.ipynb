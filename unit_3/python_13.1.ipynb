{
 "metadata": {
  "language_info": {
   "codemirror_mode": {
    "name": "ipython",
    "version": 3
   },
   "file_extension": ".py",
   "mimetype": "text/x-python",
   "name": "python",
   "nbconvert_exporter": "python",
   "pygments_lexer": "ipython3",
   "version": "3.8.2"
  },
  "orig_nbformat": 4,
  "kernelspec": {
   "name": "python3",
   "display_name": "Python 3.8.2 64-bit ('venv': venv)"
  },
  "interpreter": {
   "hash": "a7ef03c113a9ff7e401e4f5b09b4413a5a8d6bd31242b59d5133bbf684243222"
  }
 },
 "nbformat": 4,
 "nbformat_minor": 2,
 "cells": [
  {
   "cell_type": "code",
   "execution_count": 1,
   "metadata": {},
   "outputs": [],
   "source": [
    "import json\n",
    "from pprint import pprint"
   ]
  },
  {
   "cell_type": "code",
   "execution_count": 2,
   "metadata": {},
   "outputs": [],
   "source": [
    "with open('recipes.json') as f:\n",
    "   recipes = json.load(f)\n"
   ]
  },
  {
   "cell_type": "code",
   "execution_count": 31,
   "metadata": {},
   "outputs": [
    {
     "output_type": "execute_result",
     "data": {
      "text/plain": [
       "list"
      ]
     },
     "metadata": {},
     "execution_count": 31
    }
   ],
   "source": [
    "type(recipes)"
   ]
  },
  {
   "cell_type": "code",
   "execution_count": 32,
   "metadata": {},
   "outputs": [
    {
     "output_type": "execute_result",
     "data": {
      "text/plain": [
       "500"
      ]
     },
     "metadata": {},
     "execution_count": 32
    }
   ],
   "source": [
    "len(recipes)"
   ]
  },
  {
   "cell_type": "code",
   "execution_count": 33,
   "metadata": {},
   "outputs": [
    {
     "output_type": "execute_result",
     "data": {
      "text/plain": [
       "{'id': 24410,\n",
       " 'cuisine': 'british',\n",
       " 'ingredients': ['mint',\n",
       "  'large eggs',\n",
       "  'heavy cream',\n",
       "  'berries',\n",
       "  'ground cinnamon',\n",
       "  'ground nutmeg',\n",
       "  'whole milk',\n",
       "  'salt',\n",
       "  'grated lemon peel',\n",
       "  'melted butter',\n",
       "  'granulated sugar',\n",
       "  'baking powder',\n",
       "  'all-purpose flour',\n",
       "  'figs',\n",
       "  'graham cracker crumbs',\n",
       "  'sprinkles',\n",
       "  'confectioners sugar']}"
      ]
     },
     "metadata": {},
     "execution_count": 33
    }
   ],
   "source": [
    "recipes[-1]"
   ]
  },
  {
   "cell_type": "code",
   "execution_count": 34,
   "metadata": {},
   "outputs": [
    {
     "output_type": "execute_result",
     "data": {
      "text/plain": [
       "['eggs',\n",
       " 'russet potatoes',\n",
       " 'mexican chorizo',\n",
       " 'black beans',\n",
       " 'salsa',\n",
       " 'canola oil',\n",
       " 'colby cheese',\n",
       " 'black olives',\n",
       " 'sour cream',\n",
       " 'avocado',\n",
       " 'half & half',\n",
       " 'goat cheese']"
      ]
     },
     "metadata": {},
     "execution_count": 34
    }
   ],
   "source": [
    "list(filter(lambda x: x[\"id\"] == 23629, recipes))[0][\"ingredients\"]"
   ]
  },
  {
   "cell_type": "code",
   "execution_count": 3,
   "metadata": {},
   "outputs": [],
   "source": [
    "ingredients = set()\n",
    "for i in recipes:\n",
    "    # if i['cuisine'] == \"russian\":\n",
    "    for r in i[\"ingredients\"]:\n",
    "        ingredients.add(r)\n",
    "# ingredients"
   ]
  },
  {
   "cell_type": "code",
   "execution_count": 36,
   "metadata": {},
   "outputs": [],
   "source": [
    "food = {}  # создаём пустой словарь для хранения информации об ингредиентах\n",
    "for item in ingredients:  # перебираем список ингредиентов\n",
    "   food[item] = 0 # добавляем в словарь ключ, соответствующий очередному ингредиенту\n",
    "for recipe in recipes:   # перебираем список рецептов\n",
    "    for item in recipe['ingredients']:   # и список ингредиентов в каждом рецепте\n",
    "        food[item] += 1   # увеличиваем значение нужного ключа в словаре на 1\n"
   ]
  },
  {
   "cell_type": "code",
   "execution_count": 37,
   "metadata": {
    "tags": []
   },
   "outputs": [
    {
     "output_type": "execute_result",
     "data": {
      "text/plain": [
       "81"
      ]
     },
     "metadata": {},
     "execution_count": 37
    }
   ],
   "source": [
    "food['sugar']"
   ]
  },
  {
   "cell_type": "code",
   "execution_count": 38,
   "metadata": {},
   "outputs": [
    {
     "output_type": "stream",
     "name": "stdout",
     "text": [
      "garlic\nsalt\n"
     ]
    }
   ],
   "source": [
    "for k,v in food.items():\n",
    "    if v >= 100:\n",
    "        print(k)"
   ]
  },
  {
   "cell_type": "code",
   "execution_count": 39,
   "metadata": {},
   "outputs": [],
   "source": [
    "food_list = list(food.items())\n",
    "food_list.sort(key=lambda i: i[1])"
   ]
  },
  {
   "cell_type": "code",
   "execution_count": 40,
   "metadata": {},
   "outputs": [
    {
     "output_type": "execute_result",
     "data": {
      "text/plain": [
       "('salt', 217)"
      ]
     },
     "metadata": {},
     "execution_count": 40
    }
   ],
   "source": [
    "food_list[-1]"
   ]
  },
  {
   "cell_type": "code",
   "execution_count": 41,
   "metadata": {},
   "outputs": [
    {
     "output_type": "execute_result",
     "data": {
      "text/plain": [
       "684"
      ]
     },
     "metadata": {},
     "execution_count": 41
    }
   ],
   "source": [
    "len(list(filter(lambda x: x[1] == 1, food.items())))"
   ]
  },
  {
   "cell_type": "code",
   "execution_count": 4,
   "metadata": {},
   "outputs": [],
   "source": [
    "import pandas as pd\n",
    "df = pd.DataFrame(recipes)"
   ]
  },
  {
   "cell_type": "code",
   "execution_count": 43,
   "metadata": {},
   "outputs": [
    {
     "output_type": "execute_result",
     "data": {
      "text/plain": [
       "      id      cuisine                                        ingredients\n",
       "0  10259        greek  [romaine lettuce, black olives, grape tomatoes...\n",
       "1  25693  southern_us  [plain flour, ground pepper, salt, tomatoes, g...\n",
       "2  20130     filipino  [eggs, pepper, salt, mayonaise, cooking oil, g...\n",
       "3  22213       indian                [water, vegetable oil, wheat, salt]\n",
       "4  13162       indian  [black pepper, shallots, cornflour, cayenne pe..."
      ],
      "text/html": "<div>\n<style scoped>\n    .dataframe tbody tr th:only-of-type {\n        vertical-align: middle;\n    }\n\n    .dataframe tbody tr th {\n        vertical-align: top;\n    }\n\n    .dataframe thead th {\n        text-align: right;\n    }\n</style>\n<table border=\"1\" class=\"dataframe\">\n  <thead>\n    <tr style=\"text-align: right;\">\n      <th></th>\n      <th>id</th>\n      <th>cuisine</th>\n      <th>ingredients</th>\n    </tr>\n  </thead>\n  <tbody>\n    <tr>\n      <th>0</th>\n      <td>10259</td>\n      <td>greek</td>\n      <td>[romaine lettuce, black olives, grape tomatoes...</td>\n    </tr>\n    <tr>\n      <th>1</th>\n      <td>25693</td>\n      <td>southern_us</td>\n      <td>[plain flour, ground pepper, salt, tomatoes, g...</td>\n    </tr>\n    <tr>\n      <th>2</th>\n      <td>20130</td>\n      <td>filipino</td>\n      <td>[eggs, pepper, salt, mayonaise, cooking oil, g...</td>\n    </tr>\n    <tr>\n      <th>3</th>\n      <td>22213</td>\n      <td>indian</td>\n      <td>[water, vegetable oil, wheat, salt]</td>\n    </tr>\n    <tr>\n      <th>4</th>\n      <td>13162</td>\n      <td>indian</td>\n      <td>[black pepper, shallots, cornflour, cayenne pe...</td>\n    </tr>\n  </tbody>\n</table>\n</div>"
     },
     "metadata": {},
     "execution_count": 43
    }
   ],
   "source": [
    "df.head()"
   ]
  },
  {
   "cell_type": "code",
   "execution_count": 5,
   "metadata": {},
   "outputs": [],
   "source": [
    "def find_item(cell):\n",
    "    if item in cell:\n",
    "        return 1\n",
    "    return 0\n",
    "\n",
    "for item in ingredients:\n",
    "    df[item] = df['ingredients'].apply(find_item)\n",
    "\n",
    "df['ingredients'] = df['ingredients'].apply(len)"
   ]
  },
  {
   "cell_type": "code",
   "execution_count": 6,
   "metadata": {},
   "outputs": [
    {
     "output_type": "execute_result",
     "data": {
      "text/plain": [
       "      id      cuisine  ingredients  cooked quinoa  chinese noodles  \\\n",
       "0  10259        greek            9              0                0   \n",
       "1  25693  southern_us           11              0                0   \n",
       "2  20130     filipino           12              0                0   \n",
       "3  22213       indian            4              0                0   \n",
       "4  13162       indian           20              0                0   \n",
       "\n",
       "   minced ginger  matcha green tea powder  large egg whites  \\\n",
       "0              0                        0                 0   \n",
       "1              0                        0                 0   \n",
       "2              0                        0                 0   \n",
       "3              0                        0                 0   \n",
       "4              0                        0                 0   \n",
       "\n",
       "   chinese black bean  fresh lime  ...  vinaigrette dressing  mini cucumbers  \\\n",
       "0                   0           0  ...                     0               0   \n",
       "1                   0           0  ...                     0               0   \n",
       "2                   0           0  ...                     0               0   \n",
       "3                   0           0  ...                     0               0   \n",
       "4                   0           0  ...                     0               0   \n",
       "\n",
       "   fresh herbs  flank steak  chicken breasts  grated lemon zest  couscous  \\\n",
       "0            0            0                0                  0         0   \n",
       "1            0            0                0                  0         0   \n",
       "2            0            0                0                  0         0   \n",
       "3            0            0                0                  0         0   \n",
       "4            0            0                0                  0         0   \n",
       "\n",
       "   pecan pie  wheat  mango  \n",
       "0          0      0      0  \n",
       "1          0      0      0  \n",
       "2          0      0      0  \n",
       "3          0      1      0  \n",
       "4          0      0      0  \n",
       "\n",
       "[5 rows x 1321 columns]"
      ],
      "text/html": "<div>\n<style scoped>\n    .dataframe tbody tr th:only-of-type {\n        vertical-align: middle;\n    }\n\n    .dataframe tbody tr th {\n        vertical-align: top;\n    }\n\n    .dataframe thead th {\n        text-align: right;\n    }\n</style>\n<table border=\"1\" class=\"dataframe\">\n  <thead>\n    <tr style=\"text-align: right;\">\n      <th></th>\n      <th>id</th>\n      <th>cuisine</th>\n      <th>ingredients</th>\n      <th>cooked quinoa</th>\n      <th>chinese noodles</th>\n      <th>minced ginger</th>\n      <th>matcha green tea powder</th>\n      <th>large egg whites</th>\n      <th>chinese black bean</th>\n      <th>fresh lime</th>\n      <th>...</th>\n      <th>vinaigrette dressing</th>\n      <th>mini cucumbers</th>\n      <th>fresh herbs</th>\n      <th>flank steak</th>\n      <th>chicken breasts</th>\n      <th>grated lemon zest</th>\n      <th>couscous</th>\n      <th>pecan pie</th>\n      <th>wheat</th>\n      <th>mango</th>\n    </tr>\n  </thead>\n  <tbody>\n    <tr>\n      <th>0</th>\n      <td>10259</td>\n      <td>greek</td>\n      <td>9</td>\n      <td>0</td>\n      <td>0</td>\n      <td>0</td>\n      <td>0</td>\n      <td>0</td>\n      <td>0</td>\n      <td>0</td>\n      <td>...</td>\n      <td>0</td>\n      <td>0</td>\n      <td>0</td>\n      <td>0</td>\n      <td>0</td>\n      <td>0</td>\n      <td>0</td>\n      <td>0</td>\n      <td>0</td>\n      <td>0</td>\n    </tr>\n    <tr>\n      <th>1</th>\n      <td>25693</td>\n      <td>southern_us</td>\n      <td>11</td>\n      <td>0</td>\n      <td>0</td>\n      <td>0</td>\n      <td>0</td>\n      <td>0</td>\n      <td>0</td>\n      <td>0</td>\n      <td>...</td>\n      <td>0</td>\n      <td>0</td>\n      <td>0</td>\n      <td>0</td>\n      <td>0</td>\n      <td>0</td>\n      <td>0</td>\n      <td>0</td>\n      <td>0</td>\n      <td>0</td>\n    </tr>\n    <tr>\n      <th>2</th>\n      <td>20130</td>\n      <td>filipino</td>\n      <td>12</td>\n      <td>0</td>\n      <td>0</td>\n      <td>0</td>\n      <td>0</td>\n      <td>0</td>\n      <td>0</td>\n      <td>0</td>\n      <td>...</td>\n      <td>0</td>\n      <td>0</td>\n      <td>0</td>\n      <td>0</td>\n      <td>0</td>\n      <td>0</td>\n      <td>0</td>\n      <td>0</td>\n      <td>0</td>\n      <td>0</td>\n    </tr>\n    <tr>\n      <th>3</th>\n      <td>22213</td>\n      <td>indian</td>\n      <td>4</td>\n      <td>0</td>\n      <td>0</td>\n      <td>0</td>\n      <td>0</td>\n      <td>0</td>\n      <td>0</td>\n      <td>0</td>\n      <td>...</td>\n      <td>0</td>\n      <td>0</td>\n      <td>0</td>\n      <td>0</td>\n      <td>0</td>\n      <td>0</td>\n      <td>0</td>\n      <td>0</td>\n      <td>1</td>\n      <td>0</td>\n    </tr>\n    <tr>\n      <th>4</th>\n      <td>13162</td>\n      <td>indian</td>\n      <td>20</td>\n      <td>0</td>\n      <td>0</td>\n      <td>0</td>\n      <td>0</td>\n      <td>0</td>\n      <td>0</td>\n      <td>0</td>\n      <td>...</td>\n      <td>0</td>\n      <td>0</td>\n      <td>0</td>\n      <td>0</td>\n      <td>0</td>\n      <td>0</td>\n      <td>0</td>\n      <td>0</td>\n      <td>0</td>\n      <td>0</td>\n    </tr>\n  </tbody>\n</table>\n<p>5 rows × 1321 columns</p>\n</div>"
     },
     "metadata": {},
     "execution_count": 6
    }
   ],
   "source": [
    "df.head()"
   ]
  },
  {
   "cell_type": "code",
   "execution_count": 7,
   "metadata": {},
   "outputs": [],
   "source": [
    "df.to_csv('recipes_df.csv', index = False)"
   ]
  },
  {
   "cell_type": "code",
   "execution_count": null,
   "metadata": {},
   "outputs": [],
   "source": []
  }
 ]
}