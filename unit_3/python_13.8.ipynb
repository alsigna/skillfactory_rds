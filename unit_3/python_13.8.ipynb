{
 "metadata": {
  "language_info": {
   "codemirror_mode": {
    "name": "ipython",
    "version": 3
   },
   "file_extension": ".py",
   "mimetype": "text/x-python",
   "name": "python",
   "nbconvert_exporter": "python",
   "pygments_lexer": "ipython3",
   "version": "3.8.2"
  },
  "orig_nbformat": 4,
  "kernelspec": {
   "name": "python3",
   "display_name": "Python 3.8.2 64-bit ('venv': venv)"
  },
  "interpreter": {
   "hash": "a7ef03c113a9ff7e401e4f5b09b4413a5a8d6bd31242b59d5133bbf684243222"
  }
 },
 "nbformat": 4,
 "nbformat_minor": 2,
 "cells": [
  {
   "cell_type": "code",
   "execution_count": 11,
   "metadata": {},
   "outputs": [],
   "source": [
    "import pandas as pd"
   ]
  },
  {
   "cell_type": "code",
   "execution_count": 12,
   "metadata": {},
   "outputs": [],
   "source": [
    "data = pd.read_excel(\"./nakladnaya.xls\", header=None, skiprows=2)"
   ]
  },
  {
   "cell_type": "code",
   "execution_count": 13,
   "metadata": {},
   "outputs": [
    {
     "output_type": "execute_result",
     "data": {
      "text/plain": [
       "    0                                  1   \\\n",
       "0  NaN                                NaN   \n",
       "2  NaN                  Грузоотправитель:   \n",
       "4  NaN                   Грузополучатель:   \n",
       "6  NaN  Основание для отпуска: Договор №    \n",
       "9  NaN                                  №   \n",
       "10 NaN                                п/п   \n",
       "11 NaN                                  1   \n",
       "12 NaN                                  2   \n",
       "14 NaN                                NaN   \n",
       "16 NaN                                NaN   \n",
       "18 NaN                                NaN   \n",
       "20 NaN                                NaN   \n",
       "22 NaN                                NaN   \n",
       "23 NaN                                NaN   \n",
       "25 NaN                                NaN   \n",
       "\n",
       "                                             2   \\\n",
       "0                                           NaN   \n",
       "2                                           NaN   \n",
       "4                                           NaN   \n",
       "6                                           NaN   \n",
       "9   Наименование товарно-материальных ценностей   \n",
       "10                                          NaN   \n",
       "11                        Велосипед \"Спринтер\"    \n",
       "12                          Велосипед \"Малютка\"   \n",
       "14                              Всего отпущено    \n",
       "16                                   На сумму     \n",
       "18                            Отпуск разрешил     \n",
       "20                                         М.П.   \n",
       "22                                   Отпустил     \n",
       "23                                    Получил     \n",
       "25                                         М.П.   \n",
       "\n",
       "                                   3                                  4   \\\n",
       "0                           НАКЛАДНАЯ  № 5764809  от \"08\" апреля 2018 г.   \n",
       "2              ООО \"Первый строитель\"                                NaN   \n",
       "4                 ООО \"Стройка века\"                                 NaN   \n",
       "6                                 NaN                                 86   \n",
       "9                                 NaN                                NaN   \n",
       "10                                NaN                                NaN   \n",
       "11                                NaN                                NaN   \n",
       "12                                NaN                                NaN   \n",
       "14               2 (два) наименования                                NaN   \n",
       "16  80 000 (восемьдесят тысяч) рублей                                NaN   \n",
       "18                     Зам. Директора                                NaN   \n",
       "20                                NaN                                NaN   \n",
       "22                         Кладовщик                                 NaN   \n",
       "23                          Водитель                                 NaN   \n",
       "25                                NaN                                NaN   \n",
       "\n",
       "                       5         6   7          8           9   10  \\\n",
       "0                     NaN       NaN NaN        NaN         NaN NaN   \n",
       "2                     NaN       NaN NaN        NaN         NaN NaN   \n",
       "4                     NaN       NaN NaN        NaN         NaN NaN   \n",
       "6   от \"02\"апреля 2018 г.       NaN NaN        NaN         NaN NaN   \n",
       "9                     NaN  Ед. изм. NaN        NaN  Количество NaN   \n",
       "10                    NaN       NaN NaN        NaN         NaN NaN   \n",
       "11                    NaN        шт NaN        NaN           5 NaN   \n",
       "12                    NaN        шт NaN        NaN          10 NaN   \n",
       "14                    NaN       NaN NaN        NaN         NaN NaN   \n",
       "16                    NaN       NaN NaN        NaN         NaN NaN   \n",
       "18                    NaN       NaN NaN    Куликов         NaN NaN   \n",
       "20                    NaN       NaN NaN        NaN         NaN NaN   \n",
       "22                    NaN       NaN NaN      Мазов         NaN NaN   \n",
       "23                    NaN       NaN NaN  Дроценко          NaN NaN   \n",
       "25                    NaN       NaN NaN        NaN         NaN NaN   \n",
       "\n",
       "                11         12  \n",
       "0              NaN        NaN  \n",
       "2              NaN        NaN  \n",
       "4              NaN        NaN  \n",
       "6              NaN        NaN  \n",
       "9           Цена,     Сумма,   \n",
       "10       руб. коп.  руб. коп.  \n",
       "11            9000      45000  \n",
       "12            3500      35000  \n",
       "14             NaN        NaN  \n",
       "16             NaN        NaN  \n",
       "18   Куликов П.Д.         NaN  \n",
       "20             NaN        NaN  \n",
       "22      Мазов Р.К.        NaN  \n",
       "23  Дроценко А.С.         NaN  \n",
       "25             NaN        NaN  "
      ],
      "text/html": "<div>\n<style scoped>\n    .dataframe tbody tr th:only-of-type {\n        vertical-align: middle;\n    }\n\n    .dataframe tbody tr th {\n        vertical-align: top;\n    }\n\n    .dataframe thead th {\n        text-align: right;\n    }\n</style>\n<table border=\"1\" class=\"dataframe\">\n  <thead>\n    <tr style=\"text-align: right;\">\n      <th></th>\n      <th>0</th>\n      <th>1</th>\n      <th>2</th>\n      <th>3</th>\n      <th>4</th>\n      <th>5</th>\n      <th>6</th>\n      <th>7</th>\n      <th>8</th>\n      <th>9</th>\n      <th>10</th>\n      <th>11</th>\n      <th>12</th>\n    </tr>\n  </thead>\n  <tbody>\n    <tr>\n      <th>0</th>\n      <td>NaN</td>\n      <td>NaN</td>\n      <td>NaN</td>\n      <td>НАКЛАДНАЯ</td>\n      <td>№ 5764809  от \"08\" апреля 2018 г.</td>\n      <td>NaN</td>\n      <td>NaN</td>\n      <td>NaN</td>\n      <td>NaN</td>\n      <td>NaN</td>\n      <td>NaN</td>\n      <td>NaN</td>\n      <td>NaN</td>\n    </tr>\n    <tr>\n      <th>2</th>\n      <td>NaN</td>\n      <td>Грузоотправитель:</td>\n      <td>NaN</td>\n      <td>ООО \"Первый строитель\"</td>\n      <td>NaN</td>\n      <td>NaN</td>\n      <td>NaN</td>\n      <td>NaN</td>\n      <td>NaN</td>\n      <td>NaN</td>\n      <td>NaN</td>\n      <td>NaN</td>\n      <td>NaN</td>\n    </tr>\n    <tr>\n      <th>4</th>\n      <td>NaN</td>\n      <td>Грузополучатель:</td>\n      <td>NaN</td>\n      <td>ООО \"Стройка века\"</td>\n      <td>NaN</td>\n      <td>NaN</td>\n      <td>NaN</td>\n      <td>NaN</td>\n      <td>NaN</td>\n      <td>NaN</td>\n      <td>NaN</td>\n      <td>NaN</td>\n      <td>NaN</td>\n    </tr>\n    <tr>\n      <th>6</th>\n      <td>NaN</td>\n      <td>Основание для отпуска: Договор №</td>\n      <td>NaN</td>\n      <td>NaN</td>\n      <td>86</td>\n      <td>от \"02\"апреля 2018 г.</td>\n      <td>NaN</td>\n      <td>NaN</td>\n      <td>NaN</td>\n      <td>NaN</td>\n      <td>NaN</td>\n      <td>NaN</td>\n      <td>NaN</td>\n    </tr>\n    <tr>\n      <th>9</th>\n      <td>NaN</td>\n      <td>№</td>\n      <td>Наименование товарно-материальных ценностей</td>\n      <td>NaN</td>\n      <td>NaN</td>\n      <td>NaN</td>\n      <td>Ед. изм.</td>\n      <td>NaN</td>\n      <td>NaN</td>\n      <td>Количество</td>\n      <td>NaN</td>\n      <td>Цена,</td>\n      <td>Сумма,</td>\n    </tr>\n    <tr>\n      <th>10</th>\n      <td>NaN</td>\n      <td>п/п</td>\n      <td>NaN</td>\n      <td>NaN</td>\n      <td>NaN</td>\n      <td>NaN</td>\n      <td>NaN</td>\n      <td>NaN</td>\n      <td>NaN</td>\n      <td>NaN</td>\n      <td>NaN</td>\n      <td>руб. коп.</td>\n      <td>руб. коп.</td>\n    </tr>\n    <tr>\n      <th>11</th>\n      <td>NaN</td>\n      <td>1</td>\n      <td>Велосипед \"Спринтер\"</td>\n      <td>NaN</td>\n      <td>NaN</td>\n      <td>NaN</td>\n      <td>шт</td>\n      <td>NaN</td>\n      <td>NaN</td>\n      <td>5</td>\n      <td>NaN</td>\n      <td>9000</td>\n      <td>45000</td>\n    </tr>\n    <tr>\n      <th>12</th>\n      <td>NaN</td>\n      <td>2</td>\n      <td>Велосипед \"Малютка\"</td>\n      <td>NaN</td>\n      <td>NaN</td>\n      <td>NaN</td>\n      <td>шт</td>\n      <td>NaN</td>\n      <td>NaN</td>\n      <td>10</td>\n      <td>NaN</td>\n      <td>3500</td>\n      <td>35000</td>\n    </tr>\n    <tr>\n      <th>14</th>\n      <td>NaN</td>\n      <td>NaN</td>\n      <td>Всего отпущено</td>\n      <td>2 (два) наименования</td>\n      <td>NaN</td>\n      <td>NaN</td>\n      <td>NaN</td>\n      <td>NaN</td>\n      <td>NaN</td>\n      <td>NaN</td>\n      <td>NaN</td>\n      <td>NaN</td>\n      <td>NaN</td>\n    </tr>\n    <tr>\n      <th>16</th>\n      <td>NaN</td>\n      <td>NaN</td>\n      <td>На сумму</td>\n      <td>80 000 (восемьдесят тысяч) рублей</td>\n      <td>NaN</td>\n      <td>NaN</td>\n      <td>NaN</td>\n      <td>NaN</td>\n      <td>NaN</td>\n      <td>NaN</td>\n      <td>NaN</td>\n      <td>NaN</td>\n      <td>NaN</td>\n    </tr>\n    <tr>\n      <th>18</th>\n      <td>NaN</td>\n      <td>NaN</td>\n      <td>Отпуск разрешил</td>\n      <td>Зам. Директора</td>\n      <td>NaN</td>\n      <td>NaN</td>\n      <td>NaN</td>\n      <td>NaN</td>\n      <td>Куликов</td>\n      <td>NaN</td>\n      <td>NaN</td>\n      <td>Куликов П.Д.</td>\n      <td>NaN</td>\n    </tr>\n    <tr>\n      <th>20</th>\n      <td>NaN</td>\n      <td>NaN</td>\n      <td>М.П.</td>\n      <td>NaN</td>\n      <td>NaN</td>\n      <td>NaN</td>\n      <td>NaN</td>\n      <td>NaN</td>\n      <td>NaN</td>\n      <td>NaN</td>\n      <td>NaN</td>\n      <td>NaN</td>\n      <td>NaN</td>\n    </tr>\n    <tr>\n      <th>22</th>\n      <td>NaN</td>\n      <td>NaN</td>\n      <td>Отпустил</td>\n      <td>Кладовщик</td>\n      <td>NaN</td>\n      <td>NaN</td>\n      <td>NaN</td>\n      <td>NaN</td>\n      <td>Мазов</td>\n      <td>NaN</td>\n      <td>NaN</td>\n      <td>Мазов Р.К.</td>\n      <td>NaN</td>\n    </tr>\n    <tr>\n      <th>23</th>\n      <td>NaN</td>\n      <td>NaN</td>\n      <td>Получил</td>\n      <td>Водитель</td>\n      <td>NaN</td>\n      <td>NaN</td>\n      <td>NaN</td>\n      <td>NaN</td>\n      <td>Дроценко</td>\n      <td>NaN</td>\n      <td>NaN</td>\n      <td>Дроценко А.С.</td>\n      <td>NaN</td>\n    </tr>\n    <tr>\n      <th>25</th>\n      <td>NaN</td>\n      <td>NaN</td>\n      <td>М.П.</td>\n      <td>NaN</td>\n      <td>NaN</td>\n      <td>NaN</td>\n      <td>NaN</td>\n      <td>NaN</td>\n      <td>NaN</td>\n      <td>NaN</td>\n      <td>NaN</td>\n      <td>NaN</td>\n      <td>NaN</td>\n    </tr>\n  </tbody>\n</table>\n</div>"
     },
     "metadata": {},
     "execution_count": 13
    }
   ],
   "source": [
    "data.dropna(how=\"all\", inplace=True)\n",
    "# data.dropna(how=\"all\", inplace=True, axis=1)\n",
    "data"
   ]
  },
  {
   "cell_type": "code",
   "execution_count": 16,
   "metadata": {},
   "outputs": [
    {
     "output_type": "execute_result",
     "data": {
      "text/plain": [
       "'5764809'"
      ]
     },
     "metadata": {},
     "execution_count": 16
    }
   ],
   "source": [
    "data.iloc[0, 4][2:9]"
   ]
  },
  {
   "cell_type": "code",
   "execution_count": 21,
   "metadata": {},
   "outputs": [
    {
     "output_type": "execute_result",
     "data": {
      "text/plain": [
       "   1                      2   6   9     11     12\n",
       "11  1  Велосипед \"Спринтер\"   шт   5  9000  45000\n",
       "12  2    Велосипед \"Малютка\"  шт  10  3500  35000"
      ],
      "text/html": "<div>\n<style scoped>\n    .dataframe tbody tr th:only-of-type {\n        vertical-align: middle;\n    }\n\n    .dataframe tbody tr th {\n        vertical-align: top;\n    }\n\n    .dataframe thead th {\n        text-align: right;\n    }\n</style>\n<table border=\"1\" class=\"dataframe\">\n  <thead>\n    <tr style=\"text-align: right;\">\n      <th></th>\n      <th>1</th>\n      <th>2</th>\n      <th>6</th>\n      <th>9</th>\n      <th>11</th>\n      <th>12</th>\n    </tr>\n  </thead>\n  <tbody>\n    <tr>\n      <th>11</th>\n      <td>1</td>\n      <td>Велосипед \"Спринтер\"</td>\n      <td>шт</td>\n      <td>5</td>\n      <td>9000</td>\n      <td>45000</td>\n    </tr>\n    <tr>\n      <th>12</th>\n      <td>2</td>\n      <td>Велосипед \"Малютка\"</td>\n      <td>шт</td>\n      <td>10</td>\n      <td>3500</td>\n      <td>35000</td>\n    </tr>\n  </tbody>\n</table>\n</div>"
     },
     "metadata": {},
     "execution_count": 21
    }
   ],
   "source": [
    "data.iloc[6:8, :].dropna(axis=1, how='all')"
   ]
  },
  {
   "cell_type": "code",
   "execution_count": 22,
   "metadata": {},
   "outputs": [
    {
     "output_type": "execute_result",
     "data": {
      "text/plain": [
       "   1                      2   6   9     11     12\n",
       "11  1  Велосипед \"Спринтер\"   шт   5  9000  45000\n",
       "12  2    Велосипед \"Малютка\"  шт  10  3500  35000"
      ],
      "text/html": "<div>\n<style scoped>\n    .dataframe tbody tr th:only-of-type {\n        vertical-align: middle;\n    }\n\n    .dataframe tbody tr th {\n        vertical-align: top;\n    }\n\n    .dataframe thead th {\n        text-align: right;\n    }\n</style>\n<table border=\"1\" class=\"dataframe\">\n  <thead>\n    <tr style=\"text-align: right;\">\n      <th></th>\n      <th>1</th>\n      <th>2</th>\n      <th>6</th>\n      <th>9</th>\n      <th>11</th>\n      <th>12</th>\n    </tr>\n  </thead>\n  <tbody>\n    <tr>\n      <th>11</th>\n      <td>1</td>\n      <td>Велосипед \"Спринтер\"</td>\n      <td>шт</td>\n      <td>5</td>\n      <td>9000</td>\n      <td>45000</td>\n    </tr>\n    <tr>\n      <th>12</th>\n      <td>2</td>\n      <td>Велосипед \"Малютка\"</td>\n      <td>шт</td>\n      <td>10</td>\n      <td>3500</td>\n      <td>35000</td>\n    </tr>\n  </tbody>\n</table>\n</div>"
     },
     "metadata": {},
     "execution_count": 22
    }
   ],
   "source": [
    "data.iloc[6:8, [1, 2, 6, 9, 11, 12]]"
   ]
  },
  {
   "cell_type": "code",
   "execution_count": 23,
   "metadata": {},
   "outputs": [
    {
     "output_type": "execute_result",
     "data": {
      "text/plain": [
       "    0                      2   6   9     11     12\n",
       "11 NaN  Велосипед \"Спринтер\"   шт   5  9000  45000\n",
       "12 NaN    Велосипед \"Малютка\"  шт  10  3500  35000"
      ],
      "text/html": "<div>\n<style scoped>\n    .dataframe tbody tr th:only-of-type {\n        vertical-align: middle;\n    }\n\n    .dataframe tbody tr th {\n        vertical-align: top;\n    }\n\n    .dataframe thead th {\n        text-align: right;\n    }\n</style>\n<table border=\"1\" class=\"dataframe\">\n  <thead>\n    <tr style=\"text-align: right;\">\n      <th></th>\n      <th>0</th>\n      <th>2</th>\n      <th>6</th>\n      <th>9</th>\n      <th>11</th>\n      <th>12</th>\n    </tr>\n  </thead>\n  <tbody>\n    <tr>\n      <th>11</th>\n      <td>NaN</td>\n      <td>Велосипед \"Спринтер\"</td>\n      <td>шт</td>\n      <td>5</td>\n      <td>9000</td>\n      <td>45000</td>\n    </tr>\n    <tr>\n      <th>12</th>\n      <td>NaN</td>\n      <td>Велосипед \"Малютка\"</td>\n      <td>шт</td>\n      <td>10</td>\n      <td>3500</td>\n      <td>35000</td>\n    </tr>\n  </tbody>\n</table>\n</div>"
     },
     "metadata": {},
     "execution_count": 23
    }
   ],
   "source": [
    "data.iloc[6:8, [0, 2, 6, 9, 11, 12]]"
   ]
  },
  {
   "cell_type": "code",
   "execution_count": 24,
   "metadata": {},
   "outputs": [
    {
     "output_type": "execute_result",
     "data": {
      "text/plain": [
       "   1                    2   6   9     11     12\n",
       "12  2  Велосипед \"Малютка\"  шт  10  3500  35000"
      ],
      "text/html": "<div>\n<style scoped>\n    .dataframe tbody tr th:only-of-type {\n        vertical-align: middle;\n    }\n\n    .dataframe tbody tr th {\n        vertical-align: top;\n    }\n\n    .dataframe thead th {\n        text-align: right;\n    }\n</style>\n<table border=\"1\" class=\"dataframe\">\n  <thead>\n    <tr style=\"text-align: right;\">\n      <th></th>\n      <th>1</th>\n      <th>2</th>\n      <th>6</th>\n      <th>9</th>\n      <th>11</th>\n      <th>12</th>\n    </tr>\n  </thead>\n  <tbody>\n    <tr>\n      <th>12</th>\n      <td>2</td>\n      <td>Велосипед \"Малютка\"</td>\n      <td>шт</td>\n      <td>10</td>\n      <td>3500</td>\n      <td>35000</td>\n    </tr>\n  </tbody>\n</table>\n</div>"
     },
     "metadata": {},
     "execution_count": 24
    }
   ],
   "source": [
    "data.iloc[7:8, :].dropna(axis=1, how='all')"
   ]
  },
  {
   "cell_type": "code",
   "execution_count": 26,
   "metadata": {},
   "outputs": [],
   "source": [
    "table = data.iloc[6:8, :].dropna(axis=1, how='any')"
   ]
  },
  {
   "cell_type": "code",
   "execution_count": 27,
   "metadata": {},
   "outputs": [
    {
     "output_type": "execute_result",
     "data": {
      "text/plain": [
       "   1                      2   6   9     11     12\n",
       "11  1  Велосипед \"Спринтер\"   шт   5  9000  45000\n",
       "12  2    Велосипед \"Малютка\"  шт  10  3500  35000"
      ],
      "text/html": "<div>\n<style scoped>\n    .dataframe tbody tr th:only-of-type {\n        vertical-align: middle;\n    }\n\n    .dataframe tbody tr th {\n        vertical-align: top;\n    }\n\n    .dataframe thead th {\n        text-align: right;\n    }\n</style>\n<table border=\"1\" class=\"dataframe\">\n  <thead>\n    <tr style=\"text-align: right;\">\n      <th></th>\n      <th>1</th>\n      <th>2</th>\n      <th>6</th>\n      <th>9</th>\n      <th>11</th>\n      <th>12</th>\n    </tr>\n  </thead>\n  <tbody>\n    <tr>\n      <th>11</th>\n      <td>1</td>\n      <td>Велосипед \"Спринтер\"</td>\n      <td>шт</td>\n      <td>5</td>\n      <td>9000</td>\n      <td>45000</td>\n    </tr>\n    <tr>\n      <th>12</th>\n      <td>2</td>\n      <td>Велосипед \"Малютка\"</td>\n      <td>шт</td>\n      <td>10</td>\n      <td>3500</td>\n      <td>35000</td>\n    </tr>\n  </tbody>\n</table>\n</div>"
     },
     "metadata": {},
     "execution_count": 27
    }
   ],
   "source": [
    "table"
   ]
  },
  {
   "cell_type": "code",
   "execution_count": 30,
   "metadata": {},
   "outputs": [
    {
     "output_type": "stream",
     "name": "stderr",
     "text": [
      "<ipython-input-30-3539b97d958b>:1: FutureWarning: As the xlwt package is no longer maintained, the xlwt engine will be removed in a future version of pandas. This is the only engine in pandas that supports writing in the xls format. Install openpyxl and write to an xlsx file instead. You can set the option io.excel.xls.writer to 'xlwt' to silence this warning. While this option is deprecated and will also raise a warning, it can be globally set and the warning suppressed.\n  table.to_excel(\"table.xls\", index=False)\n"
     ]
    }
   ],
   "source": [
    "table.to_excel(\"table.xls\", index=False)  "
   ]
  },
  {
   "cell_type": "code",
   "execution_count": 34,
   "metadata": {},
   "outputs": [],
   "source": [
    "table.to_excel(writer, index=False, sheet_name='Таблица')  \n",
    "# writer.save()  \n"
   ]
  },
  {
   "cell_type": "code",
   "execution_count": null,
   "metadata": {},
   "outputs": [],
   "source": []
  }
 ]
}