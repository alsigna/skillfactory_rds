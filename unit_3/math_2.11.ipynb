{
 "metadata": {
  "language_info": {
   "codemirror_mode": {
    "name": "ipython",
    "version": 3
   },
   "file_extension": ".py",
   "mimetype": "text/x-python",
   "name": "python",
   "nbconvert_exporter": "python",
   "pygments_lexer": "ipython3",
   "version": "3.8.2"
  },
  "orig_nbformat": 2,
  "kernelspec": {
   "name": "python382jvsc74a57bd0265455998716544771fe8f8e46d3bc336b7ce25fc2914091372dd288abc92a2d",
   "display_name": "Python 3.8.2 64-bit ('venv': venv)",
   "language": "python"
  }
 },
 "nbformat": 4,
 "nbformat_minor": 2,
 "cells": [
  {
   "cell_type": "code",
   "execution_count": 1,
   "metadata": {},
   "outputs": [],
   "source": [
    "import numpy as np # для работы с массивами\n",
    "import pandas as pd # для работы DataFrame \n",
    "import seaborn as sns # библиотека для визуализации статистических данных\n",
    "import matplotlib.pyplot as plt # для построения графиков\n",
    "\n",
    "%matplotlib inline"
   ]
  },
  {
   "cell_type": "code",
   "execution_count": 3,
   "metadata": {},
   "outputs": [],
   "source": [
    "df = pd.read_csv(\"./Admission_Predict_Ver1.1.csv\")"
   ]
  },
  {
   "cell_type": "code",
   "execution_count": 6,
   "metadata": {},
   "outputs": [
    {
     "output_type": "stream",
     "name": "stdout",
     "text": [
      "<class 'pandas.core.frame.DataFrame'>\nRangeIndex: 500 entries, 0 to 499\nData columns (total 9 columns):\n #   Column             Non-Null Count  Dtype  \n---  ------             --------------  -----  \n 0   Serial No.         500 non-null    int64  \n 1   GRE Score          500 non-null    int64  \n 2   TOEFL Score        500 non-null    int64  \n 3   University Rating  500 non-null    int64  \n 4   SOP                500 non-null    float64\n 5   LOR                500 non-null    float64\n 6   CGPA               500 non-null    float64\n 7   Research           500 non-null    int64  \n 8   Chance of Admit    500 non-null    float64\ndtypes: float64(4), int64(5)\nmemory usage: 35.3 KB\n"
     ]
    }
   ],
   "source": [
    "df.info()"
   ]
  },
  {
   "cell_type": "code",
   "execution_count": 8,
   "metadata": {},
   "outputs": [
    {
     "output_type": "execute_result",
     "data": {
      "text/plain": [
       "                   Serial No.  GRE Score  TOEFL Score  University Rating  \\\n",
       "Serial No.               1.00      -0.10        -0.14              -0.07   \n",
       "GRE Score               -0.10       1.00         0.83               0.64   \n",
       "TOEFL Score             -0.14       0.83         1.00               0.65   \n",
       "University Rating       -0.07       0.64         0.65               1.00   \n",
       "SOP                     -0.14       0.61         0.64               0.73   \n",
       "LOR                     -0.00       0.52         0.54               0.61   \n",
       "CGPA                    -0.07       0.83         0.81               0.71   \n",
       "Research                -0.01       0.56         0.47               0.43   \n",
       "Chance of Admit          0.01       0.81         0.79               0.69   \n",
       "\n",
       "                    SOP  LOR   CGPA  Research  Chance of Admit   \n",
       "Serial No.        -0.14 -0.00 -0.07     -0.01              0.01  \n",
       "GRE Score          0.61  0.52  0.83      0.56              0.81  \n",
       "TOEFL Score        0.64  0.54  0.81      0.47              0.79  \n",
       "University Rating  0.73  0.61  0.71      0.43              0.69  \n",
       "SOP                1.00  0.66  0.71      0.41              0.68  \n",
       "LOR                0.66  1.00  0.64      0.37              0.65  \n",
       "CGPA               0.71  0.64  1.00      0.50              0.88  \n",
       "Research           0.41  0.37  0.50      1.00              0.55  \n",
       "Chance of Admit    0.68  0.65  0.88      0.55              1.00  "
      ],
      "text/html": "<div>\n<style scoped>\n    .dataframe tbody tr th:only-of-type {\n        vertical-align: middle;\n    }\n\n    .dataframe tbody tr th {\n        vertical-align: top;\n    }\n\n    .dataframe thead th {\n        text-align: right;\n    }\n</style>\n<table border=\"1\" class=\"dataframe\">\n  <thead>\n    <tr style=\"text-align: right;\">\n      <th></th>\n      <th>Serial No.</th>\n      <th>GRE Score</th>\n      <th>TOEFL Score</th>\n      <th>University Rating</th>\n      <th>SOP</th>\n      <th>LOR</th>\n      <th>CGPA</th>\n      <th>Research</th>\n      <th>Chance of Admit</th>\n    </tr>\n  </thead>\n  <tbody>\n    <tr>\n      <th>Serial No.</th>\n      <td>1.00</td>\n      <td>-0.10</td>\n      <td>-0.14</td>\n      <td>-0.07</td>\n      <td>-0.14</td>\n      <td>-0.00</td>\n      <td>-0.07</td>\n      <td>-0.01</td>\n      <td>0.01</td>\n    </tr>\n    <tr>\n      <th>GRE Score</th>\n      <td>-0.10</td>\n      <td>1.00</td>\n      <td>0.83</td>\n      <td>0.64</td>\n      <td>0.61</td>\n      <td>0.52</td>\n      <td>0.83</td>\n      <td>0.56</td>\n      <td>0.81</td>\n    </tr>\n    <tr>\n      <th>TOEFL Score</th>\n      <td>-0.14</td>\n      <td>0.83</td>\n      <td>1.00</td>\n      <td>0.65</td>\n      <td>0.64</td>\n      <td>0.54</td>\n      <td>0.81</td>\n      <td>0.47</td>\n      <td>0.79</td>\n    </tr>\n    <tr>\n      <th>University Rating</th>\n      <td>-0.07</td>\n      <td>0.64</td>\n      <td>0.65</td>\n      <td>1.00</td>\n      <td>0.73</td>\n      <td>0.61</td>\n      <td>0.71</td>\n      <td>0.43</td>\n      <td>0.69</td>\n    </tr>\n    <tr>\n      <th>SOP</th>\n      <td>-0.14</td>\n      <td>0.61</td>\n      <td>0.64</td>\n      <td>0.73</td>\n      <td>1.00</td>\n      <td>0.66</td>\n      <td>0.71</td>\n      <td>0.41</td>\n      <td>0.68</td>\n    </tr>\n    <tr>\n      <th>LOR</th>\n      <td>-0.00</td>\n      <td>0.52</td>\n      <td>0.54</td>\n      <td>0.61</td>\n      <td>0.66</td>\n      <td>1.00</td>\n      <td>0.64</td>\n      <td>0.37</td>\n      <td>0.65</td>\n    </tr>\n    <tr>\n      <th>CGPA</th>\n      <td>-0.07</td>\n      <td>0.83</td>\n      <td>0.81</td>\n      <td>0.71</td>\n      <td>0.71</td>\n      <td>0.64</td>\n      <td>1.00</td>\n      <td>0.50</td>\n      <td>0.88</td>\n    </tr>\n    <tr>\n      <th>Research</th>\n      <td>-0.01</td>\n      <td>0.56</td>\n      <td>0.47</td>\n      <td>0.43</td>\n      <td>0.41</td>\n      <td>0.37</td>\n      <td>0.50</td>\n      <td>1.00</td>\n      <td>0.55</td>\n    </tr>\n    <tr>\n      <th>Chance of Admit</th>\n      <td>0.01</td>\n      <td>0.81</td>\n      <td>0.79</td>\n      <td>0.69</td>\n      <td>0.68</td>\n      <td>0.65</td>\n      <td>0.88</td>\n      <td>0.55</td>\n      <td>1.00</td>\n    </tr>\n  </tbody>\n</table>\n</div>"
     },
     "metadata": {},
     "execution_count": 8
    }
   ],
   "source": [
    "df.corr().round(2)"
   ]
  },
  {
   "cell_type": "code",
   "execution_count": 9,
   "metadata": {},
   "outputs": [
    {
     "output_type": "execute_result",
     "data": {
      "text/plain": [
       "   Serial No.  GRE Score  TOEFL Score  University Rating  SOP  LOR   CGPA  \\\n",
       "0           1        337          118                  4  4.5   4.5  9.65   \n",
       "1           2        324          107                  4  4.0   4.5  8.87   \n",
       "2           3        316          104                  3  3.0   3.5  8.00   \n",
       "3           4        322          110                  3  3.5   2.5  8.67   \n",
       "4           5        314          103                  2  2.0   3.0  8.21   \n",
       "\n",
       "   Research  Chance of Admit   \n",
       "0         1              0.92  \n",
       "1         1              0.76  \n",
       "2         1              0.72  \n",
       "3         1              0.80  \n",
       "4         0              0.65  "
      ],
      "text/html": "<div>\n<style scoped>\n    .dataframe tbody tr th:only-of-type {\n        vertical-align: middle;\n    }\n\n    .dataframe tbody tr th {\n        vertical-align: top;\n    }\n\n    .dataframe thead th {\n        text-align: right;\n    }\n</style>\n<table border=\"1\" class=\"dataframe\">\n  <thead>\n    <tr style=\"text-align: right;\">\n      <th></th>\n      <th>Serial No.</th>\n      <th>GRE Score</th>\n      <th>TOEFL Score</th>\n      <th>University Rating</th>\n      <th>SOP</th>\n      <th>LOR</th>\n      <th>CGPA</th>\n      <th>Research</th>\n      <th>Chance of Admit</th>\n    </tr>\n  </thead>\n  <tbody>\n    <tr>\n      <th>0</th>\n      <td>1</td>\n      <td>337</td>\n      <td>118</td>\n      <td>4</td>\n      <td>4.5</td>\n      <td>4.5</td>\n      <td>9.65</td>\n      <td>1</td>\n      <td>0.92</td>\n    </tr>\n    <tr>\n      <th>1</th>\n      <td>2</td>\n      <td>324</td>\n      <td>107</td>\n      <td>4</td>\n      <td>4.0</td>\n      <td>4.5</td>\n      <td>8.87</td>\n      <td>1</td>\n      <td>0.76</td>\n    </tr>\n    <tr>\n      <th>2</th>\n      <td>3</td>\n      <td>316</td>\n      <td>104</td>\n      <td>3</td>\n      <td>3.0</td>\n      <td>3.5</td>\n      <td>8.00</td>\n      <td>1</td>\n      <td>0.72</td>\n    </tr>\n    <tr>\n      <th>3</th>\n      <td>4</td>\n      <td>322</td>\n      <td>110</td>\n      <td>3</td>\n      <td>3.5</td>\n      <td>2.5</td>\n      <td>8.67</td>\n      <td>1</td>\n      <td>0.80</td>\n    </tr>\n    <tr>\n      <th>4</th>\n      <td>5</td>\n      <td>314</td>\n      <td>103</td>\n      <td>2</td>\n      <td>2.0</td>\n      <td>3.0</td>\n      <td>8.21</td>\n      <td>0</td>\n      <td>0.65</td>\n    </tr>\n  </tbody>\n</table>\n</div>"
     },
     "metadata": {},
     "execution_count": 9
    }
   ],
   "source": [
    "df.head()"
   ]
  },
  {
   "cell_type": "code",
   "execution_count": 12,
   "metadata": {},
   "outputs": [
    {
     "output_type": "execute_result",
     "data": {
      "text/plain": [
       "                   Serial No.  GRE Score  TOEFL Score  University Rating  \\\n",
       "Serial No.               1.00      -0.17        -0.19              -0.09   \n",
       "GRE Score               -0.17       1.00         0.68               0.38   \n",
       "TOEFL Score             -0.19       0.68         1.00               0.50   \n",
       "University Rating       -0.09       0.38         0.50               1.00   \n",
       "SOP                     -0.20       0.37         0.48               0.61   \n",
       "LOR                     -0.02       0.37         0.47               0.48   \n",
       "CGPA                    -0.14       0.68         0.70               0.52   \n",
       "Research                  NaN        NaN          NaN                NaN   \n",
       "Chance of Admit         -0.00       0.60         0.62               0.43   \n",
       "\n",
       "                    SOP  LOR   CGPA  Research  Chance of Admit   \n",
       "Serial No.        -0.20 -0.02 -0.14       NaN             -0.00  \n",
       "GRE Score          0.37  0.37  0.68       NaN              0.60  \n",
       "TOEFL Score        0.48  0.47  0.70       NaN              0.62  \n",
       "University Rating  0.61  0.48  0.52       NaN              0.43  \n",
       "SOP                1.00  0.62  0.55       NaN              0.47  \n",
       "LOR                0.62  1.00  0.56       NaN              0.54  \n",
       "CGPA               0.55  0.56  1.00       NaN              0.75  \n",
       "Research            NaN   NaN   NaN       NaN               NaN  \n",
       "Chance of Admit    0.47  0.54  0.75       NaN              1.00  "
      ],
      "text/html": "<div>\n<style scoped>\n    .dataframe tbody tr th:only-of-type {\n        vertical-align: middle;\n    }\n\n    .dataframe tbody tr th {\n        vertical-align: top;\n    }\n\n    .dataframe thead th {\n        text-align: right;\n    }\n</style>\n<table border=\"1\" class=\"dataframe\">\n  <thead>\n    <tr style=\"text-align: right;\">\n      <th></th>\n      <th>Serial No.</th>\n      <th>GRE Score</th>\n      <th>TOEFL Score</th>\n      <th>University Rating</th>\n      <th>SOP</th>\n      <th>LOR</th>\n      <th>CGPA</th>\n      <th>Research</th>\n      <th>Chance of Admit</th>\n    </tr>\n  </thead>\n  <tbody>\n    <tr>\n      <th>Serial No.</th>\n      <td>1.00</td>\n      <td>-0.17</td>\n      <td>-0.19</td>\n      <td>-0.09</td>\n      <td>-0.20</td>\n      <td>-0.02</td>\n      <td>-0.14</td>\n      <td>NaN</td>\n      <td>-0.00</td>\n    </tr>\n    <tr>\n      <th>GRE Score</th>\n      <td>-0.17</td>\n      <td>1.00</td>\n      <td>0.68</td>\n      <td>0.38</td>\n      <td>0.37</td>\n      <td>0.37</td>\n      <td>0.68</td>\n      <td>NaN</td>\n      <td>0.60</td>\n    </tr>\n    <tr>\n      <th>TOEFL Score</th>\n      <td>-0.19</td>\n      <td>0.68</td>\n      <td>1.00</td>\n      <td>0.50</td>\n      <td>0.48</td>\n      <td>0.47</td>\n      <td>0.70</td>\n      <td>NaN</td>\n      <td>0.62</td>\n    </tr>\n    <tr>\n      <th>University Rating</th>\n      <td>-0.09</td>\n      <td>0.38</td>\n      <td>0.50</td>\n      <td>1.00</td>\n      <td>0.61</td>\n      <td>0.48</td>\n      <td>0.52</td>\n      <td>NaN</td>\n      <td>0.43</td>\n    </tr>\n    <tr>\n      <th>SOP</th>\n      <td>-0.20</td>\n      <td>0.37</td>\n      <td>0.48</td>\n      <td>0.61</td>\n      <td>1.00</td>\n      <td>0.62</td>\n      <td>0.55</td>\n      <td>NaN</td>\n      <td>0.47</td>\n    </tr>\n    <tr>\n      <th>LOR</th>\n      <td>-0.02</td>\n      <td>0.37</td>\n      <td>0.47</td>\n      <td>0.48</td>\n      <td>0.62</td>\n      <td>1.00</td>\n      <td>0.56</td>\n      <td>NaN</td>\n      <td>0.54</td>\n    </tr>\n    <tr>\n      <th>CGPA</th>\n      <td>-0.14</td>\n      <td>0.68</td>\n      <td>0.70</td>\n      <td>0.52</td>\n      <td>0.55</td>\n      <td>0.56</td>\n      <td>1.00</td>\n      <td>NaN</td>\n      <td>0.75</td>\n    </tr>\n    <tr>\n      <th>Research</th>\n      <td>NaN</td>\n      <td>NaN</td>\n      <td>NaN</td>\n      <td>NaN</td>\n      <td>NaN</td>\n      <td>NaN</td>\n      <td>NaN</td>\n      <td>NaN</td>\n      <td>NaN</td>\n    </tr>\n    <tr>\n      <th>Chance of Admit</th>\n      <td>-0.00</td>\n      <td>0.60</td>\n      <td>0.62</td>\n      <td>0.43</td>\n      <td>0.47</td>\n      <td>0.54</td>\n      <td>0.75</td>\n      <td>NaN</td>\n      <td>1.00</td>\n    </tr>\n  </tbody>\n</table>\n</div>"
     },
     "metadata": {},
     "execution_count": 12
    }
   ],
   "source": [
    "df[df.Research==0].corr().round(2)"
   ]
  },
  {
   "cell_type": "code",
   "execution_count": 13,
   "metadata": {},
   "outputs": [
    {
     "output_type": "execute_result",
     "data": {
      "text/plain": [
       "                   Serial No.  GRE Score  TOEFL Score  University Rating  \\\n",
       "Serial No.               1.00      -0.09        -0.14              -0.06   \n",
       "GRE Score               -0.09       1.00         0.82               0.61   \n",
       "TOEFL Score             -0.14       0.82         1.00               0.60   \n",
       "University Rating       -0.06       0.61         0.60               1.00   \n",
       "SOP                     -0.11       0.61         0.63               0.72   \n",
       "LOR                      0.01       0.44         0.44               0.57   \n",
       "CGPA                    -0.05       0.81         0.78               0.69   \n",
       "Research                  NaN        NaN          NaN                NaN   \n",
       "Chance of Admit          0.02       0.80         0.79               0.71   \n",
       "\n",
       "                    SOP  LOR   CGPA  Research  Chance of Admit   \n",
       "Serial No.        -0.11  0.01 -0.05       NaN              0.02  \n",
       "GRE Score          0.61  0.44  0.81       NaN              0.80  \n",
       "TOEFL Score        0.63  0.44  0.78       NaN              0.79  \n",
       "University Rating  0.72  0.57  0.69       NaN              0.71  \n",
       "SOP                1.00  0.59  0.72       NaN              0.71  \n",
       "LOR                0.59  1.00  0.56       NaN              0.59  \n",
       "CGPA               0.72  0.56  1.00       NaN              0.89  \n",
       "Research            NaN   NaN   NaN       NaN               NaN  \n",
       "Chance of Admit    0.71  0.59  0.89       NaN              1.00  "
      ],
      "text/html": "<div>\n<style scoped>\n    .dataframe tbody tr th:only-of-type {\n        vertical-align: middle;\n    }\n\n    .dataframe tbody tr th {\n        vertical-align: top;\n    }\n\n    .dataframe thead th {\n        text-align: right;\n    }\n</style>\n<table border=\"1\" class=\"dataframe\">\n  <thead>\n    <tr style=\"text-align: right;\">\n      <th></th>\n      <th>Serial No.</th>\n      <th>GRE Score</th>\n      <th>TOEFL Score</th>\n      <th>University Rating</th>\n      <th>SOP</th>\n      <th>LOR</th>\n      <th>CGPA</th>\n      <th>Research</th>\n      <th>Chance of Admit</th>\n    </tr>\n  </thead>\n  <tbody>\n    <tr>\n      <th>Serial No.</th>\n      <td>1.00</td>\n      <td>-0.09</td>\n      <td>-0.14</td>\n      <td>-0.06</td>\n      <td>-0.11</td>\n      <td>0.01</td>\n      <td>-0.05</td>\n      <td>NaN</td>\n      <td>0.02</td>\n    </tr>\n    <tr>\n      <th>GRE Score</th>\n      <td>-0.09</td>\n      <td>1.00</td>\n      <td>0.82</td>\n      <td>0.61</td>\n      <td>0.61</td>\n      <td>0.44</td>\n      <td>0.81</td>\n      <td>NaN</td>\n      <td>0.80</td>\n    </tr>\n    <tr>\n      <th>TOEFL Score</th>\n      <td>-0.14</td>\n      <td>0.82</td>\n      <td>1.00</td>\n      <td>0.60</td>\n      <td>0.63</td>\n      <td>0.44</td>\n      <td>0.78</td>\n      <td>NaN</td>\n      <td>0.79</td>\n    </tr>\n    <tr>\n      <th>University Rating</th>\n      <td>-0.06</td>\n      <td>0.61</td>\n      <td>0.60</td>\n      <td>1.00</td>\n      <td>0.72</td>\n      <td>0.57</td>\n      <td>0.69</td>\n      <td>NaN</td>\n      <td>0.71</td>\n    </tr>\n    <tr>\n      <th>SOP</th>\n      <td>-0.11</td>\n      <td>0.61</td>\n      <td>0.63</td>\n      <td>0.72</td>\n      <td>1.00</td>\n      <td>0.59</td>\n      <td>0.72</td>\n      <td>NaN</td>\n      <td>0.71</td>\n    </tr>\n    <tr>\n      <th>LOR</th>\n      <td>0.01</td>\n      <td>0.44</td>\n      <td>0.44</td>\n      <td>0.57</td>\n      <td>0.59</td>\n      <td>1.00</td>\n      <td>0.56</td>\n      <td>NaN</td>\n      <td>0.59</td>\n    </tr>\n    <tr>\n      <th>CGPA</th>\n      <td>-0.05</td>\n      <td>0.81</td>\n      <td>0.78</td>\n      <td>0.69</td>\n      <td>0.72</td>\n      <td>0.56</td>\n      <td>1.00</td>\n      <td>NaN</td>\n      <td>0.89</td>\n    </tr>\n    <tr>\n      <th>Research</th>\n      <td>NaN</td>\n      <td>NaN</td>\n      <td>NaN</td>\n      <td>NaN</td>\n      <td>NaN</td>\n      <td>NaN</td>\n      <td>NaN</td>\n      <td>NaN</td>\n      <td>NaN</td>\n    </tr>\n    <tr>\n      <th>Chance of Admit</th>\n      <td>0.02</td>\n      <td>0.80</td>\n      <td>0.79</td>\n      <td>0.71</td>\n      <td>0.71</td>\n      <td>0.59</td>\n      <td>0.89</td>\n      <td>NaN</td>\n      <td>1.00</td>\n    </tr>\n  </tbody>\n</table>\n</div>"
     },
     "metadata": {},
     "execution_count": 13
    }
   ],
   "source": [
    "df[df.Research==1].corr().round(2)"
   ]
  },
  {
   "cell_type": "code",
   "execution_count": 17,
   "metadata": {},
   "outputs": [],
   "source": [
    "toefl = df[df.Research==0][[\"TOEFL Score\"]]\n",
    "cgpa = df[df.Research==0][[\"CGPA\"]]"
   ]
  },
  {
   "cell_type": "code",
   "execution_count": 19,
   "metadata": {},
   "outputs": [],
   "source": [
    "A = np.column_stack((np.ones(220), toefl, cgpa))"
   ]
  },
  {
   "cell_type": "code",
   "execution_count": 45,
   "metadata": {},
   "outputs": [],
   "source": [
    "y = df[df.Research==0][[\"Chance of Admit \"]]"
   ]
  },
  {
   "cell_type": "code",
   "execution_count": 58,
   "metadata": {},
   "outputs": [
    {
     "output_type": "execute_result",
     "data": {
      "text/plain": [
       "(array([[-1.04486443],\n",
       "        [ 0.00442727],\n",
       "        [ 0.14807744]]),\n",
       " array([1.13772786]),\n",
       " 3,\n",
       " array([1.54898055e+03, 5.02503482e+00, 6.75329627e-01]))"
      ]
     },
     "metadata": {},
     "execution_count": 58
    }
   ],
   "source": [
    "w_hat = np.linalg.inv(A.T@A)@A.T@y\n",
    "np.linalg.lstsq(A, y, rcond=None)"
   ]
  },
  {
   "cell_type": "code",
   "execution_count": 59,
   "metadata": {},
   "outputs": [
    {
     "output_type": "execute_result",
     "data": {
      "text/plain": [
       "   Chance of Admit \n",
       "0         -1.044864\n",
       "1          0.004427\n",
       "2          0.148077"
      ],
      "text/html": "<div>\n<style scoped>\n    .dataframe tbody tr th:only-of-type {\n        vertical-align: middle;\n    }\n\n    .dataframe tbody tr th {\n        vertical-align: top;\n    }\n\n    .dataframe thead th {\n        text-align: right;\n    }\n</style>\n<table border=\"1\" class=\"dataframe\">\n  <thead>\n    <tr style=\"text-align: right;\">\n      <th></th>\n      <th>Chance of Admit</th>\n    </tr>\n  </thead>\n  <tbody>\n    <tr>\n      <th>0</th>\n      <td>-1.044864</td>\n    </tr>\n    <tr>\n      <th>1</th>\n      <td>0.004427</td>\n    </tr>\n    <tr>\n      <th>2</th>\n      <td>0.148077</td>\n    </tr>\n  </tbody>\n</table>\n</div>"
     },
     "metadata": {},
     "execution_count": 59
    }
   ],
   "source": [
    "w_hat"
   ]
  },
  {
   "cell_type": "code",
   "execution_count": 54,
   "metadata": {},
   "outputs": [],
   "source": [
    "w_tmp = w_hat.round(3)"
   ]
  },
  {
   "cell_type": "code",
   "execution_count": 94,
   "metadata": {},
   "outputs": [
    {
     "output_type": "execute_result",
     "data": {
      "text/plain": [
       "Chance of Admit     0.7298\n",
       "dtype: float64"
      ]
     },
     "metadata": {},
     "execution_count": 94
    }
   ],
   "source": [
    "toefl_new=107\n",
    "cgpa_new=9.1\n",
    "c = w_tmp.loc[0] + w_tmp.loc[1]*toefl_new + w_tmp.loc[2]*cgpa_new\n",
    "c"
   ]
  },
  {
   "cell_type": "code",
   "execution_count": 125,
   "metadata": {},
   "outputs": [],
   "source": [
    "toefl_mean = df[df.Research==0][\"TOEFL Score\"].mean()\n",
    "cgpa_mean = df[df.Research==0][\"CGPA\"].mean()\n",
    "y_mean = df[df.Research==0][\"Chance of Admit \"].mean()"
   ]
  },
  {
   "cell_type": "code",
   "execution_count": 126,
   "metadata": {},
   "outputs": [],
   "source": [
    "toefl_c = df[df.Research==0][[\"TOEFL Score\"]] - toefl_mean\n",
    "cgpa_c = df[df.Research==0][[\"CGPA\"]] - cgpa_mean\n",
    "y_c = df[df.Research==0][[\"Chance of Admit \"]] - y_mean"
   ]
  },
  {
   "cell_type": "code",
   "execution_count": 127,
   "metadata": {},
   "outputs": [],
   "source": [
    "toefl_norm = np.linalg.norm(toefl_c)\n",
    "cgpa_norm = np.linalg.norm(cgpa_c)\n",
    "y_norm = np.linalg.norm(y_c)"
   ]
  },
  {
   "cell_type": "code",
   "execution_count": 128,
   "metadata": {},
   "outputs": [],
   "source": [
    "toefl_st = toefl_c / toefl_norm\n",
    "cgpa_st = cgpa_c / cgpa_norm\n",
    "y_st = y_c / y_norm"
   ]
  },
  {
   "cell_type": "code",
   "execution_count": 129,
   "metadata": {},
   "outputs": [],
   "source": [
    "A_st = np.column_stack((toefl_st, cgpa_st))"
   ]
  },
  {
   "cell_type": "code",
   "execution_count": 130,
   "metadata": {},
   "outputs": [
    {
     "output_type": "execute_result",
     "data": {
      "text/plain": [
       "   Chance of Admit \n",
       "0          0.190448\n",
       "1          0.620015"
      ],
      "text/html": "<div>\n<style scoped>\n    .dataframe tbody tr th:only-of-type {\n        vertical-align: middle;\n    }\n\n    .dataframe tbody tr th {\n        vertical-align: top;\n    }\n\n    .dataframe thead th {\n        text-align: right;\n    }\n</style>\n<table border=\"1\" class=\"dataframe\">\n  <thead>\n    <tr style=\"text-align: right;\">\n      <th></th>\n      <th>Chance of Admit</th>\n    </tr>\n  </thead>\n  <tbody>\n    <tr>\n      <th>0</th>\n      <td>0.190448</td>\n    </tr>\n    <tr>\n      <th>1</th>\n      <td>0.620015</td>\n    </tr>\n  </tbody>\n</table>\n</div>"
     },
     "metadata": {},
     "execution_count": 130
    }
   ],
   "source": [
    "w_hat_st = np.linalg.inv(A_st.T@A_st)@A_st.T@y_st\n",
    "w_hat_st"
   ]
  },
  {
   "cell_type": "code",
   "execution_count": 131,
   "metadata": {},
   "outputs": [],
   "source": [
    "toefl_new_st = (toefl_new - toefl_mean) / toefl_norm\n",
    "cgpa_new_st = (cgpa_new - cgpa_mean) / cgpa_norm"
   ]
  },
  {
   "cell_type": "code",
   "execution_count": 133,
   "metadata": {},
   "outputs": [
    {
     "output_type": "stream",
     "name": "stdout",
     "text": [
      "[0.08540446]\n"
     ]
    }
   ],
   "source": [
    "y_new_st = w_hat_st.values[0]*toefl_new_st + w_hat_st.values[1]*cgpa_new_st\n",
    "print(y_new_st)"
   ]
  },
  {
   "cell_type": "code",
   "execution_count": 139,
   "metadata": {},
   "outputs": [
    {
     "output_type": "stream",
     "name": "stdout",
     "text": [
      "[0.77635853]\n[0.77635853]\n"
     ]
    }
   ],
   "source": [
    "print(y_new_st * y_norm + y_mean)\n",
    "print((w_hat.loc[0] + w_hat.loc[1]*toefl_new + w_hat.loc[2]*cgpa_new).values)"
   ]
  },
  {
   "cell_type": "code",
   "execution_count": null,
   "metadata": {},
   "outputs": [],
   "source": []
  }
 ]
}