{
 "metadata": {
  "language_info": {
   "codemirror_mode": {
    "name": "ipython",
    "version": 3
   },
   "file_extension": ".py",
   "mimetype": "text/x-python",
   "name": "python",
   "nbconvert_exporter": "python",
   "pygments_lexer": "ipython3",
   "version": "3.8.2"
  },
  "orig_nbformat": 4,
  "kernelspec": {
   "name": "python3",
   "display_name": "Python 3.8.2 64-bit ('venv': venv)"
  },
  "interpreter": {
   "hash": "a7ef03c113a9ff7e401e4f5b09b4413a5a8d6bd31242b59d5133bbf684243222"
  }
 },
 "nbformat": 4,
 "nbformat_minor": 2,
 "cells": [
  {
   "cell_type": "code",
   "execution_count": 1,
   "metadata": {},
   "outputs": [],
   "source": [
    "import pandas as pd\n",
    "data = pd.read_csv('data_flats.csv',sep=\";\")\n"
   ]
  },
  {
   "cell_type": "code",
   "execution_count": 2,
   "metadata": {},
   "outputs": [
    {
     "output_type": "execute_result",
     "data": {
      "text/plain": [
       "   id  full_sq  life_sq  floor           sub_area  preschool_quota  \\\n",
       "0   1       43     27.0    4.0           Bibirevo           5001.0   \n",
       "1   2       34     19.0    3.0  Nagatinskij Zaton           3119.0   \n",
       "2   3       43     29.0    2.0     Tekstil'shhiki           1463.0   \n",
       "3   4       89     50.0    9.0             Mitino           6839.0   \n",
       "4   5       77     77.0    4.0          Basmannoe           3240.0   \n",
       "\n",
       "   preschool_education_centers_raion  school_quota  \\\n",
       "0                                  5       11065.0   \n",
       "1                                  5        6237.0   \n",
       "2                                  4        5580.0   \n",
       "3                                  9       17063.0   \n",
       "4                                  7        7770.0   \n",
       "\n",
       "   school_education_centers_raion  school_education_centers_top_20_raion  ...  \\\n",
       "0                               5                                      0  ...   \n",
       "1                               8                                      0  ...   \n",
       "2                               7                                      0  ...   \n",
       "3                              10                                      0  ...   \n",
       "4                               9                                      0  ...   \n",
       "\n",
       "   shopping_centers_km  office_km  additional_education_km  preschool_km  \\\n",
       "0             0.648488   0.637189                 0.947962      0.177975   \n",
       "1             0.519311   0.688796                 1.072315      0.273345   \n",
       "2             1.486533   1.543049                 0.391957      0.158072   \n",
       "3             0.599914   0.934273                 0.892674      0.236455   \n",
       "4             0.429052   0.077901                 0.810801      0.376838   \n",
       "\n",
       "   big_church_km  church_synagogue_km  theater_km  museum_km    ecology  \\\n",
       "0       0.625783             0.628187   14.053047   7.389498       good   \n",
       "1       0.967821             0.471447    6.829889   0.709260  excellent   \n",
       "2       3.178751             0.755946    4.273200   3.156423       poor   \n",
       "3       1.031777             1.561505   16.990677  16.041521       good   \n",
       "4       0.378756             0.121681    1.112486   1.800125  excellent   \n",
       "\n",
       "   price_doc  \n",
       "0    5850000  \n",
       "1    6000000  \n",
       "2    5700000  \n",
       "3   13100000  \n",
       "4   16331452  \n",
       "\n",
       "[5 rows x 56 columns]"
      ],
      "text/html": "<div>\n<style scoped>\n    .dataframe tbody tr th:only-of-type {\n        vertical-align: middle;\n    }\n\n    .dataframe tbody tr th {\n        vertical-align: top;\n    }\n\n    .dataframe thead th {\n        text-align: right;\n    }\n</style>\n<table border=\"1\" class=\"dataframe\">\n  <thead>\n    <tr style=\"text-align: right;\">\n      <th></th>\n      <th>id</th>\n      <th>full_sq</th>\n      <th>life_sq</th>\n      <th>floor</th>\n      <th>sub_area</th>\n      <th>preschool_quota</th>\n      <th>preschool_education_centers_raion</th>\n      <th>school_quota</th>\n      <th>school_education_centers_raion</th>\n      <th>school_education_centers_top_20_raion</th>\n      <th>...</th>\n      <th>shopping_centers_km</th>\n      <th>office_km</th>\n      <th>additional_education_km</th>\n      <th>preschool_km</th>\n      <th>big_church_km</th>\n      <th>church_synagogue_km</th>\n      <th>theater_km</th>\n      <th>museum_km</th>\n      <th>ecology</th>\n      <th>price_doc</th>\n    </tr>\n  </thead>\n  <tbody>\n    <tr>\n      <th>0</th>\n      <td>1</td>\n      <td>43</td>\n      <td>27.0</td>\n      <td>4.0</td>\n      <td>Bibirevo</td>\n      <td>5001.0</td>\n      <td>5</td>\n      <td>11065.0</td>\n      <td>5</td>\n      <td>0</td>\n      <td>...</td>\n      <td>0.648488</td>\n      <td>0.637189</td>\n      <td>0.947962</td>\n      <td>0.177975</td>\n      <td>0.625783</td>\n      <td>0.628187</td>\n      <td>14.053047</td>\n      <td>7.389498</td>\n      <td>good</td>\n      <td>5850000</td>\n    </tr>\n    <tr>\n      <th>1</th>\n      <td>2</td>\n      <td>34</td>\n      <td>19.0</td>\n      <td>3.0</td>\n      <td>Nagatinskij Zaton</td>\n      <td>3119.0</td>\n      <td>5</td>\n      <td>6237.0</td>\n      <td>8</td>\n      <td>0</td>\n      <td>...</td>\n      <td>0.519311</td>\n      <td>0.688796</td>\n      <td>1.072315</td>\n      <td>0.273345</td>\n      <td>0.967821</td>\n      <td>0.471447</td>\n      <td>6.829889</td>\n      <td>0.709260</td>\n      <td>excellent</td>\n      <td>6000000</td>\n    </tr>\n    <tr>\n      <th>2</th>\n      <td>3</td>\n      <td>43</td>\n      <td>29.0</td>\n      <td>2.0</td>\n      <td>Tekstil'shhiki</td>\n      <td>1463.0</td>\n      <td>4</td>\n      <td>5580.0</td>\n      <td>7</td>\n      <td>0</td>\n      <td>...</td>\n      <td>1.486533</td>\n      <td>1.543049</td>\n      <td>0.391957</td>\n      <td>0.158072</td>\n      <td>3.178751</td>\n      <td>0.755946</td>\n      <td>4.273200</td>\n      <td>3.156423</td>\n      <td>poor</td>\n      <td>5700000</td>\n    </tr>\n    <tr>\n      <th>3</th>\n      <td>4</td>\n      <td>89</td>\n      <td>50.0</td>\n      <td>9.0</td>\n      <td>Mitino</td>\n      <td>6839.0</td>\n      <td>9</td>\n      <td>17063.0</td>\n      <td>10</td>\n      <td>0</td>\n      <td>...</td>\n      <td>0.599914</td>\n      <td>0.934273</td>\n      <td>0.892674</td>\n      <td>0.236455</td>\n      <td>1.031777</td>\n      <td>1.561505</td>\n      <td>16.990677</td>\n      <td>16.041521</td>\n      <td>good</td>\n      <td>13100000</td>\n    </tr>\n    <tr>\n      <th>4</th>\n      <td>5</td>\n      <td>77</td>\n      <td>77.0</td>\n      <td>4.0</td>\n      <td>Basmannoe</td>\n      <td>3240.0</td>\n      <td>7</td>\n      <td>7770.0</td>\n      <td>9</td>\n      <td>0</td>\n      <td>...</td>\n      <td>0.429052</td>\n      <td>0.077901</td>\n      <td>0.810801</td>\n      <td>0.376838</td>\n      <td>0.378756</td>\n      <td>0.121681</td>\n      <td>1.112486</td>\n      <td>1.800125</td>\n      <td>excellent</td>\n      <td>16331452</td>\n    </tr>\n  </tbody>\n</table>\n<p>5 rows × 56 columns</p>\n</div>"
     },
     "metadata": {},
     "execution_count": 2
    }
   ],
   "source": [
    "data.head()"
   ]
  },
  {
   "cell_type": "code",
   "execution_count": 3,
   "metadata": {},
   "outputs": [
    {
     "output_type": "execute_result",
     "data": {
      "text/plain": [
       "          id  full_sq  life_sq  floor           sub_area  preschool_quota  \\\n",
       "0          1       43     27.0    4.0           Bibirevo           5001.0   \n",
       "1          2       34     19.0    3.0  Nagatinskij Zaton           3119.0   \n",
       "2          3       43     29.0    2.0     Tekstil'shhiki           1463.0   \n",
       "4          5       77     77.0    4.0          Basmannoe           3240.0   \n",
       "6          7       25     14.0   10.0         Sokol'niki            933.0   \n",
       "...      ...      ...      ...    ...                ...              ...   \n",
       "30461  30466       56     29.0   13.0   Severnoe Tushino           4116.0   \n",
       "30462  30467       56     51.0   19.0           Sviblovo           2057.0   \n",
       "30465  30470       86     59.0    3.0           Tverskoe           1874.0   \n",
       "30467  30472       64     32.0    5.0       Obruchevskoe           2372.0   \n",
       "30468  30473       43     28.0    1.0        Novogireevo           2215.0   \n",
       "\n",
       "       preschool_education_centers_raion  school_quota  \\\n",
       "0                                      5       11065.0   \n",
       "1                                      5        6237.0   \n",
       "2                                      4        5580.0   \n",
       "4                                      7        7770.0   \n",
       "6                                      5        5050.0   \n",
       "...                                  ...           ...   \n",
       "30461                                  5        9891.0   \n",
       "30462                                  1        3741.0   \n",
       "30465                                  4        6772.0   \n",
       "30467                                  6        6083.0   \n",
       "30468                                  4        5824.0   \n",
       "\n",
       "       school_education_centers_raion  school_education_centers_top_20_raion  \\\n",
       "0                                   5                                      0   \n",
       "1                                   8                                      0   \n",
       "2                                   7                                      0   \n",
       "4                                   9                                      0   \n",
       "6                                   5                                      0   \n",
       "...                               ...                                    ...   \n",
       "30461                               5                                      0   \n",
       "30462                               2                                      0   \n",
       "30465                               4                                      1   \n",
       "30467                               8                                      0   \n",
       "30468                               4                                      0   \n",
       "\n",
       "       ...  shopping_centers_km  office_km  additional_education_km  \\\n",
       "0      ...             0.648488   0.637189                 0.947962   \n",
       "1      ...             0.519311   0.688796                 1.072315   \n",
       "2      ...             1.486533   1.543049                 0.391957   \n",
       "4      ...             0.429052   0.077901                 0.810801   \n",
       "6      ...             0.513689   0.067725                 0.273019   \n",
       "...    ...                  ...        ...                      ...   \n",
       "30461  ...             0.232778   1.491458                 0.648281   \n",
       "30462  ...             0.187828   0.969990                 0.510751   \n",
       "30465  ...             0.540003   0.069986                 0.086552   \n",
       "30467  ...             1.108672   1.204798                 1.340017   \n",
       "30468  ...             0.224601   2.108265                 0.825811   \n",
       "\n",
       "       preschool_km  big_church_km  church_synagogue_km  theater_km  \\\n",
       "0          0.177975       0.625783             0.628187   14.053047   \n",
       "1          0.273345       0.967821             0.471447    6.829889   \n",
       "2          0.158072       3.178751             0.755946    4.273200   \n",
       "4          0.376838       0.378756             0.121681    1.112486   \n",
       "6          0.516979       0.822377             0.318230    0.752223   \n",
       "...             ...            ...                  ...         ...   \n",
       "30461      0.193474       0.283044             2.040548   23.720332   \n",
       "30462      0.566309       1.261711             0.532268    3.672399   \n",
       "30465      0.362681       0.850385             0.310021    0.778428   \n",
       "30467      0.130667       1.644053             0.476021    2.088193   \n",
       "30468      0.378950       0.480531             0.867332    0.688707   \n",
       "\n",
       "       museum_km       ecology  price_doc  \n",
       "0       7.389498          good    5850000  \n",
       "1       0.709260     excellent    6000000  \n",
       "2       3.156423          poor    5700000  \n",
       "4       1.800125     excellent   16331452  \n",
       "6       2.969315          poor    5500000  \n",
       "...          ...           ...        ...  \n",
       "30461  12.198090  satisfactory   12000000  \n",
       "30462   2.988268          poor   10262010  \n",
       "30465   1.450108          poor   25000000  \n",
       "30467   4.119706  satisfactory   13500000  \n",
       "30468   0.127867          poor    5600000  \n",
       "\n",
       "[13652 rows x 56 columns]"
      ],
      "text/html": "<div>\n<style scoped>\n    .dataframe tbody tr th:only-of-type {\n        vertical-align: middle;\n    }\n\n    .dataframe tbody tr th {\n        vertical-align: top;\n    }\n\n    .dataframe thead th {\n        text-align: right;\n    }\n</style>\n<table border=\"1\" class=\"dataframe\">\n  <thead>\n    <tr style=\"text-align: right;\">\n      <th></th>\n      <th>id</th>\n      <th>full_sq</th>\n      <th>life_sq</th>\n      <th>floor</th>\n      <th>sub_area</th>\n      <th>preschool_quota</th>\n      <th>preschool_education_centers_raion</th>\n      <th>school_quota</th>\n      <th>school_education_centers_raion</th>\n      <th>school_education_centers_top_20_raion</th>\n      <th>...</th>\n      <th>shopping_centers_km</th>\n      <th>office_km</th>\n      <th>additional_education_km</th>\n      <th>preschool_km</th>\n      <th>big_church_km</th>\n      <th>church_synagogue_km</th>\n      <th>theater_km</th>\n      <th>museum_km</th>\n      <th>ecology</th>\n      <th>price_doc</th>\n    </tr>\n  </thead>\n  <tbody>\n    <tr>\n      <th>0</th>\n      <td>1</td>\n      <td>43</td>\n      <td>27.0</td>\n      <td>4.0</td>\n      <td>Bibirevo</td>\n      <td>5001.0</td>\n      <td>5</td>\n      <td>11065.0</td>\n      <td>5</td>\n      <td>0</td>\n      <td>...</td>\n      <td>0.648488</td>\n      <td>0.637189</td>\n      <td>0.947962</td>\n      <td>0.177975</td>\n      <td>0.625783</td>\n      <td>0.628187</td>\n      <td>14.053047</td>\n      <td>7.389498</td>\n      <td>good</td>\n      <td>5850000</td>\n    </tr>\n    <tr>\n      <th>1</th>\n      <td>2</td>\n      <td>34</td>\n      <td>19.0</td>\n      <td>3.0</td>\n      <td>Nagatinskij Zaton</td>\n      <td>3119.0</td>\n      <td>5</td>\n      <td>6237.0</td>\n      <td>8</td>\n      <td>0</td>\n      <td>...</td>\n      <td>0.519311</td>\n      <td>0.688796</td>\n      <td>1.072315</td>\n      <td>0.273345</td>\n      <td>0.967821</td>\n      <td>0.471447</td>\n      <td>6.829889</td>\n      <td>0.709260</td>\n      <td>excellent</td>\n      <td>6000000</td>\n    </tr>\n    <tr>\n      <th>2</th>\n      <td>3</td>\n      <td>43</td>\n      <td>29.0</td>\n      <td>2.0</td>\n      <td>Tekstil'shhiki</td>\n      <td>1463.0</td>\n      <td>4</td>\n      <td>5580.0</td>\n      <td>7</td>\n      <td>0</td>\n      <td>...</td>\n      <td>1.486533</td>\n      <td>1.543049</td>\n      <td>0.391957</td>\n      <td>0.158072</td>\n      <td>3.178751</td>\n      <td>0.755946</td>\n      <td>4.273200</td>\n      <td>3.156423</td>\n      <td>poor</td>\n      <td>5700000</td>\n    </tr>\n    <tr>\n      <th>4</th>\n      <td>5</td>\n      <td>77</td>\n      <td>77.0</td>\n      <td>4.0</td>\n      <td>Basmannoe</td>\n      <td>3240.0</td>\n      <td>7</td>\n      <td>7770.0</td>\n      <td>9</td>\n      <td>0</td>\n      <td>...</td>\n      <td>0.429052</td>\n      <td>0.077901</td>\n      <td>0.810801</td>\n      <td>0.376838</td>\n      <td>0.378756</td>\n      <td>0.121681</td>\n      <td>1.112486</td>\n      <td>1.800125</td>\n      <td>excellent</td>\n      <td>16331452</td>\n    </tr>\n    <tr>\n      <th>6</th>\n      <td>7</td>\n      <td>25</td>\n      <td>14.0</td>\n      <td>10.0</td>\n      <td>Sokol'niki</td>\n      <td>933.0</td>\n      <td>5</td>\n      <td>5050.0</td>\n      <td>5</td>\n      <td>0</td>\n      <td>...</td>\n      <td>0.513689</td>\n      <td>0.067725</td>\n      <td>0.273019</td>\n      <td>0.516979</td>\n      <td>0.822377</td>\n      <td>0.318230</td>\n      <td>0.752223</td>\n      <td>2.969315</td>\n      <td>poor</td>\n      <td>5500000</td>\n    </tr>\n    <tr>\n      <th>...</th>\n      <td>...</td>\n      <td>...</td>\n      <td>...</td>\n      <td>...</td>\n      <td>...</td>\n      <td>...</td>\n      <td>...</td>\n      <td>...</td>\n      <td>...</td>\n      <td>...</td>\n      <td>...</td>\n      <td>...</td>\n      <td>...</td>\n      <td>...</td>\n      <td>...</td>\n      <td>...</td>\n      <td>...</td>\n      <td>...</td>\n      <td>...</td>\n      <td>...</td>\n      <td>...</td>\n    </tr>\n    <tr>\n      <th>30461</th>\n      <td>30466</td>\n      <td>56</td>\n      <td>29.0</td>\n      <td>13.0</td>\n      <td>Severnoe Tushino</td>\n      <td>4116.0</td>\n      <td>5</td>\n      <td>9891.0</td>\n      <td>5</td>\n      <td>0</td>\n      <td>...</td>\n      <td>0.232778</td>\n      <td>1.491458</td>\n      <td>0.648281</td>\n      <td>0.193474</td>\n      <td>0.283044</td>\n      <td>2.040548</td>\n      <td>23.720332</td>\n      <td>12.198090</td>\n      <td>satisfactory</td>\n      <td>12000000</td>\n    </tr>\n    <tr>\n      <th>30462</th>\n      <td>30467</td>\n      <td>56</td>\n      <td>51.0</td>\n      <td>19.0</td>\n      <td>Sviblovo</td>\n      <td>2057.0</td>\n      <td>1</td>\n      <td>3741.0</td>\n      <td>2</td>\n      <td>0</td>\n      <td>...</td>\n      <td>0.187828</td>\n      <td>0.969990</td>\n      <td>0.510751</td>\n      <td>0.566309</td>\n      <td>1.261711</td>\n      <td>0.532268</td>\n      <td>3.672399</td>\n      <td>2.988268</td>\n      <td>poor</td>\n      <td>10262010</td>\n    </tr>\n    <tr>\n      <th>30465</th>\n      <td>30470</td>\n      <td>86</td>\n      <td>59.0</td>\n      <td>3.0</td>\n      <td>Tverskoe</td>\n      <td>1874.0</td>\n      <td>4</td>\n      <td>6772.0</td>\n      <td>4</td>\n      <td>1</td>\n      <td>...</td>\n      <td>0.540003</td>\n      <td>0.069986</td>\n      <td>0.086552</td>\n      <td>0.362681</td>\n      <td>0.850385</td>\n      <td>0.310021</td>\n      <td>0.778428</td>\n      <td>1.450108</td>\n      <td>poor</td>\n      <td>25000000</td>\n    </tr>\n    <tr>\n      <th>30467</th>\n      <td>30472</td>\n      <td>64</td>\n      <td>32.0</td>\n      <td>5.0</td>\n      <td>Obruchevskoe</td>\n      <td>2372.0</td>\n      <td>6</td>\n      <td>6083.0</td>\n      <td>8</td>\n      <td>0</td>\n      <td>...</td>\n      <td>1.108672</td>\n      <td>1.204798</td>\n      <td>1.340017</td>\n      <td>0.130667</td>\n      <td>1.644053</td>\n      <td>0.476021</td>\n      <td>2.088193</td>\n      <td>4.119706</td>\n      <td>satisfactory</td>\n      <td>13500000</td>\n    </tr>\n    <tr>\n      <th>30468</th>\n      <td>30473</td>\n      <td>43</td>\n      <td>28.0</td>\n      <td>1.0</td>\n      <td>Novogireevo</td>\n      <td>2215.0</td>\n      <td>4</td>\n      <td>5824.0</td>\n      <td>4</td>\n      <td>0</td>\n      <td>...</td>\n      <td>0.224601</td>\n      <td>2.108265</td>\n      <td>0.825811</td>\n      <td>0.378950</td>\n      <td>0.480531</td>\n      <td>0.867332</td>\n      <td>0.688707</td>\n      <td>0.127867</td>\n      <td>poor</td>\n      <td>5600000</td>\n    </tr>\n  </tbody>\n</table>\n<p>13652 rows × 56 columns</p>\n</div>"
     },
     "metadata": {},
     "execution_count": 3
    }
   ],
   "source": [
    "data.dropna()"
   ]
  },
  {
   "cell_type": "code",
   "execution_count": null,
   "metadata": {},
   "outputs": [],
   "source": []
  }
 ]
}