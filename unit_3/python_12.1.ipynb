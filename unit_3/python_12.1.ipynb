{
 "metadata": {
  "language_info": {
   "codemirror_mode": {
    "name": "ipython",
    "version": 3
   },
   "file_extension": ".py",
   "mimetype": "text/x-python",
   "name": "python",
   "nbconvert_exporter": "python",
   "pygments_lexer": "ipython3",
   "version": "3.8.2"
  },
  "orig_nbformat": 2,
  "kernelspec": {
   "name": "python382jvsc74a57bd0265455998716544771fe8f8e46d3bc336b7ce25fc2914091372dd288abc92a2d",
   "display_name": "Python 3.8.2 64-bit ('venv': venv)"
  }
 },
 "nbformat": 4,
 "nbformat_minor": 2,
 "cells": [
  {
   "cell_type": "code",
   "execution_count": 2,
   "metadata": {},
   "outputs": [],
   "source": [
    "import pandas as pd\n",
    "log = pd.read_csv(\"./00_log.csv\", header = None)\n",
    "users = pd.read_csv(\"./00_users.csv\", encoding=\"koi8-r\", sep=\"\\t\")"
   ]
  },
  {
   "cell_type": "code",
   "execution_count": 3,
   "metadata": {},
   "outputs": [],
   "source": [
    "log.columns = [\"user_id\",\"time\",\"bet\",\"win\"]"
   ]
  },
  {
   "source": [
    "Посчитайте количество пропусков в столбце time. Метод isna() есть не только у DataFrame, но и у Series. Это значит, что применять его можно не только ко всей таблице, но и к каждому столбцу отдельно."
   ],
   "cell_type": "markdown",
   "metadata": {}
  },
  {
   "cell_type": "code",
   "execution_count": 4,
   "metadata": {},
   "outputs": [
    {
     "output_type": "execute_result",
     "data": {
      "text/plain": [
       "15"
      ]
     },
     "metadata": {},
     "execution_count": 4
    }
   ],
   "source": [
    "log.time.isna().value_counts()[True]"
   ]
  },
  {
   "source": [
    "Удалите все столбцы, где есть пропуски. Запишите в поле, сколько осталось столбцов в данных после этого."
   ],
   "cell_type": "markdown",
   "metadata": {}
  },
  {
   "cell_type": "code",
   "execution_count": 5,
   "metadata": {},
   "outputs": [
    {
     "output_type": "stream",
     "name": "stdout",
     "text": [
      "<class 'pandas.core.frame.DataFrame'>\nRangeIndex: 1000 entries, 0 to 999\nData columns (total 1 columns):\n #   Column   Non-Null Count  Dtype \n---  ------   --------------  ----- \n 0   user_id  1000 non-null   object\ndtypes: object(1)\nmemory usage: 7.9+ KB\n"
     ]
    }
   ],
   "source": [
    "tmp_log = log.copy()\n",
    "tmp_log.dropna(axis=1,inplace=True)\n",
    "tmp_log.info()"
   ]
  },
  {
   "source": [
    "Удалите все строки, где есть пропуски. Запишите в поле, сколько осталось строк в данных после этого."
   ],
   "cell_type": "markdown",
   "metadata": {}
  },
  {
   "cell_type": "code",
   "execution_count": 6,
   "metadata": {},
   "outputs": [
    {
     "output_type": "stream",
     "name": "stdout",
     "text": [
      "<class 'pandas.core.frame.DataFrame'>\nInt64Index: 133 entries, 14 to 991\nData columns (total 4 columns):\n #   Column   Non-Null Count  Dtype  \n---  ------   --------------  -----  \n 0   user_id  133 non-null    object \n 1   time     133 non-null    object \n 2   bet      133 non-null    float64\n 3   win      133 non-null    float64\ndtypes: float64(2), object(2)\nmemory usage: 5.2+ KB\n"
     ]
    }
   ],
   "source": [
    "tmp_log = log.copy()\n",
    "tmp_log.dropna(axis=0, inplace=True)\n",
    "tmp_log.info()"
   ]
  },
  {
   "cell_type": "code",
   "execution_count": 7,
   "metadata": {},
   "outputs": [
    {
     "output_type": "execute_result",
     "data": {
      "text/plain": [
       "user_id    False\n",
       "time       False\n",
       "bet         True\n",
       "win         True\n",
       "Name: 10, dtype: bool"
      ]
     },
     "metadata": {},
     "execution_count": 7
    }
   ],
   "source": [
    "tmp_log = log.copy()\n",
    "tmp_log.loc[10].isna()\n"
   ]
  },
  {
   "source": [
    "Удалите дубли среди столбцов user_id и time. Запишите в поле ниже, сколько осталось строк после удаления дублей.\n"
   ],
   "cell_type": "markdown",
   "metadata": {}
  },
  {
   "cell_type": "code",
   "execution_count": 8,
   "metadata": {},
   "outputs": [
    {
     "output_type": "stream",
     "name": "stdout",
     "text": [
      "<class 'pandas.core.frame.DataFrame'>\nInt64Index: 986 entries, 0 to 995\nData columns (total 4 columns):\n #   Column   Non-Null Count  Dtype  \n---  ------   --------------  -----  \n 0   user_id  986 non-null    object \n 1   time     985 non-null    object \n 2   bet      472 non-null    float64\n 3   win      133 non-null    float64\ndtypes: float64(2), object(2)\nmemory usage: 38.5+ KB\n"
     ]
    }
   ],
   "source": [
    "tmp_log = log.copy()\n",
    "tmp_log.drop_duplicates(subset=[\"user_id\", \"time\"], inplace=True)\n",
    "tmp_log.info()"
   ]
  },
  {
   "cell_type": "code",
   "execution_count": 10,
   "metadata": {},
   "outputs": [
    {
     "output_type": "execute_result",
     "data": {
      "text/plain": [
       "                            user_id                 time  bet  win\n",
       "0  Запись пользователя № - user_919  2019-01-01 14:06:51  NaN  NaN\n",
       "1  Запись пользователя № - user_973  2019-01-01 14:51:16  NaN  NaN\n",
       "2  Запись пользователя № - user_903  2019-01-01 16:31:16  NaN  NaN\n",
       "3  Запись пользователя № - user_954  2019-01-01 17:17:51  NaN  NaN\n",
       "4  Запись пользователя № - user_954  2019-01-01 21:31:18  NaN  NaN"
      ],
      "text/html": "<div>\n<style scoped>\n    .dataframe tbody tr th:only-of-type {\n        vertical-align: middle;\n    }\n\n    .dataframe tbody tr th {\n        vertical-align: top;\n    }\n\n    .dataframe thead th {\n        text-align: right;\n    }\n</style>\n<table border=\"1\" class=\"dataframe\">\n  <thead>\n    <tr style=\"text-align: right;\">\n      <th></th>\n      <th>user_id</th>\n      <th>time</th>\n      <th>bet</th>\n      <th>win</th>\n    </tr>\n  </thead>\n  <tbody>\n    <tr>\n      <th>0</th>\n      <td>Запись пользователя № - user_919</td>\n      <td>2019-01-01 14:06:51</td>\n      <td>NaN</td>\n      <td>NaN</td>\n    </tr>\n    <tr>\n      <th>1</th>\n      <td>Запись пользователя № - user_973</td>\n      <td>2019-01-01 14:51:16</td>\n      <td>NaN</td>\n      <td>NaN</td>\n    </tr>\n    <tr>\n      <th>2</th>\n      <td>Запись пользователя № - user_903</td>\n      <td>2019-01-01 16:31:16</td>\n      <td>NaN</td>\n      <td>NaN</td>\n    </tr>\n    <tr>\n      <th>3</th>\n      <td>Запись пользователя № - user_954</td>\n      <td>2019-01-01 17:17:51</td>\n      <td>NaN</td>\n      <td>NaN</td>\n    </tr>\n    <tr>\n      <th>4</th>\n      <td>Запись пользователя № - user_954</td>\n      <td>2019-01-01 21:31:18</td>\n      <td>NaN</td>\n      <td>NaN</td>\n    </tr>\n  </tbody>\n</table>\n</div>"
     },
     "metadata": {},
     "execution_count": 10
    }
   ],
   "source": [
    "log.time = log.time.apply(lambda s: s[1:] if type(s) == str else s)\n",
    "log.head()"
   ]
  },
  {
   "cell_type": "code",
   "execution_count": 18,
   "metadata": {},
   "outputs": [],
   "source": [
    "log.time = pd.to_datetime(log.time)"
   ]
  },
  {
   "cell_type": "code",
   "execution_count": 21,
   "metadata": {},
   "outputs": [
    {
     "output_type": "execute_result",
     "data": {
      "text/plain": [
       "pandas._libs.tslibs.timestamps.Timestamp"
      ]
     },
     "metadata": {},
     "execution_count": 21
    }
   ],
   "source": [
    "type(log.loc[3].time)"
   ]
  },
  {
   "cell_type": "code",
   "execution_count": 25,
   "metadata": {},
   "outputs": [],
   "source": [
    "log.dropna(axis=0, inplace=True, subset=[\"time\"])"
   ]
  },
  {
   "cell_type": "code",
   "execution_count": 26,
   "metadata": {},
   "outputs": [
    {
     "output_type": "stream",
     "name": "stdout",
     "text": [
      "<class 'pandas.core.frame.DataFrame'>\nInt64Index: 985 entries, 0 to 995\nData columns (total 4 columns):\n #   Column   Non-Null Count  Dtype         \n---  ------   --------------  -----         \n 0   user_id  985 non-null    object        \n 1   time     985 non-null    datetime64[ns]\n 2   bet      472 non-null    float64       \n 3   win      133 non-null    float64       \ndtypes: datetime64[ns](1), float64(2), object(1)\nmemory usage: 38.5+ KB\n"
     ]
    }
   ],
   "source": [
    "log.info()"
   ]
  },
  {
   "cell_type": "code",
   "execution_count": 27,
   "metadata": {},
   "outputs": [
    {
     "output_type": "execute_result",
     "data": {
      "text/plain": [
       "Timestamp('2019-04-20 18:10:07')"
      ]
     },
     "metadata": {},
     "execution_count": 27
    }
   ],
   "source": [
    "log.time.max()"
   ]
  },
  {
   "source": [
    "log.time.apply(lambda x: x.minute).loc[13]"
   ],
   "cell_type": "code",
   "metadata": {},
   "execution_count": 37,
   "outputs": [
    {
     "output_type": "execute_result",
     "data": {
      "text/plain": [
       "25"
      ]
     },
     "metadata": {},
     "execution_count": 37
    }
   ]
  },
  {
   "cell_type": "code",
   "execution_count": 42,
   "metadata": {},
   "outputs": [
    {
     "output_type": "execute_result",
     "data": {
      "text/plain": [
       "14     57\n",
       "29     59\n",
       "151    54\n",
       "189    34\n",
       "205    26\n",
       "Name: time, dtype: int64"
      ]
     },
     "metadata": {},
     "execution_count": 42
    }
   ],
   "source": [
    "log = pd.read_csv(\"./00_log.csv\", header = None)\n",
    "log = log.dropna()  \n",
    "log.columns = ['user_id', 'time', 'bet', 'win']  \n",
    "log['time'] = log['time'].apply(lambda x: x[1:])  \n",
    "log['time'] = pd.to_datetime(log['time'])\n",
    "log['time'] = log.time.apply(lambda x: x.minute)\n",
    "log['time'].head() "
   ]
  },
  {
   "cell_type": "code",
   "execution_count": null,
   "metadata": {},
   "outputs": [],
   "source": []
  }
 ]
}