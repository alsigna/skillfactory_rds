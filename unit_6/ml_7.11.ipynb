{
 "cells": [
  {
   "cell_type": "code",
   "execution_count": 10,
   "metadata": {},
   "outputs": [],
   "source": [
    "import numpy as np\n",
    "import matplotlib.pyplot as plt\n",
    "from sklearn import datasets\n",
    "from sklearn.mixture import GaussianMixture\n",
    "from sklearn.cluster import KMeans\n",
    "from sklearn.cluster import AgglomerativeClustering\n",
    "from sklearn.cluster import DBSCAN\n",
    "\n",
    "\n",
    "n_samples = 1500\n",
    "dataset = datasets.make_blobs(n_samples=n_samples, centers=2, center_box=(-7.0, 7.5),\n",
    "                              cluster_std=[1.4, 1.7],\n",
    "                              random_state=42)\n",
    "X_2, _ = datasets.make_blobs(n_samples=n_samples, random_state=170, centers=[[-4, -3]], cluster_std=[1.9])\n",
    "transformation = [[1.2, -0.8], [-0.4, 1.7]]\n",
    "X_2 = np.dot(X_2, transformation)\n",
    "X, y = np.concatenate((dataset[0], X_2)), np.concatenate((dataset[1], np.array([2] * len(X_2))))\n"
   ]
  },
  {
   "cell_type": "code",
   "execution_count": 2,
   "metadata": {},
   "outputs": [
    {
     "data": {
      "text/plain": [
       "0.5131209788437305"
      ]
     },
     "execution_count": 2,
     "metadata": {},
     "output_type": "execute_result"
    }
   ],
   "source": [
    "from sklearn.cluster import KMeans\n",
    "from sklearn.metrics import silhouette_score\n",
    "\n",
    "# сначала получим предсказанные кластеры при помощи метода кластеризации\n",
    "kmeans = KMeans(n_clusters=3, random_state=42)\n",
    "kmeans.fit(X)\n",
    "kmeans_pred = kmeans.labels_\n",
    "\n",
    "# теперь посчитаем коэффициент силуэта\n",
    "silhouette_score(X=X, labels=kmeans_pred, metric='euclidean')"
   ]
  },
  {
   "cell_type": "code",
   "execution_count": 8,
   "metadata": {},
   "outputs": [
    {
     "data": {
      "text/plain": [
       "0.49893287606943293"
      ]
     },
     "execution_count": 8,
     "metadata": {},
     "output_type": "execute_result"
    }
   ],
   "source": [
    "gm = GaussianMixture(n_components=3, random_state=42)\n",
    "gm.fit(X)\n",
    "y_pred = gm.predict(X)\n",
    "y_pred\n",
    "silhouette_score(X=X, labels=y_pred, metric='euclidean')"
   ]
  },
  {
   "cell_type": "code",
   "execution_count": 16,
   "metadata": {},
   "outputs": [
    {
     "name": "stdout",
     "output_type": "stream",
     "text": [
      "0.5131209788437305\n",
      "0.49893287606943293\n",
      "0.4811992210663849\n",
      "0.4454335539277996\n"
     ]
    }
   ],
   "source": [
    "k_means = KMeans(n_clusters=3, random_state=42)\n",
    "k_means.fit(X)\n",
    "print(silhouette_score(X=X, labels=k_means.labels_, metric=\"euclidean\"))\n",
    "\n",
    "gm = GaussianMixture(n_components=3, random_state=42)\n",
    "gm_labels = gm.fit_predict(X)\n",
    "print(silhouette_score(X=X, labels=gm_labels, metric=\"euclidean\"))\n",
    "\n",
    "agg = AgglomerativeClustering(n_clusters=3)\n",
    "agg_labels = agg.fit_predict(X)\n",
    "print(silhouette_score(X=X, labels=agg_labels, metric=\"euclidean\"))\n",
    "\n",
    "dbs = DBSCAN(eps=0.9, min_samples=35)\n",
    "dbs_labels = dbs.fit_predict(X)\n",
    "print(silhouette_score(X=X, labels=dbs_labels, metric=\"euclidean\"))\n",
    "\n"
   ]
  },
  {
   "cell_type": "code",
   "execution_count": 17,
   "metadata": {},
   "outputs": [],
   "source": [
    "clusters = list(range(2,11))"
   ]
  },
  {
   "cell_type": "code",
   "execution_count": 20,
   "metadata": {},
   "outputs": [
    {
     "name": "stdout",
     "output_type": "stream",
     "text": [
      "2\t0.4553109501667062\n",
      "3\t0.5131209788437305\n",
      "4\t0.5114911234090096\n",
      "5\t0.48124147837648434\n",
      "6\t0.4617161738600555\n",
      "7\t0.39702814018472976\n",
      "8\t0.33335049057121036\n",
      "9\t0.3295856272928711\n",
      "10\t0.3325217295314097\n"
     ]
    }
   ],
   "source": [
    "for n_clusters in clusters:\n",
    "    k_means = KMeans(n_clusters=n_clusters, random_state=42)\n",
    "    k_means.fit(X)\n",
    "    sil = silhouette_score(X=X, labels=k_means.labels_, metric=\"euclidean\")\n",
    "    print(f\"{n_clusters}\\t{sil}\")\n"
   ]
  },
  {
   "cell_type": "code",
   "execution_count": 22,
   "metadata": {},
   "outputs": [
    {
     "name": "stdout",
     "output_type": "stream",
     "text": [
      "2\t0.45506572865005773\n",
      "3\t0.49893287606943293\n",
      "4\t0.510682306926087\n",
      "5\t0.481377079675046\n",
      "6\t0.462912077774331\n",
      "7\t0.44345594385628\n",
      "8\t0.32796642598251413\n",
      "9\t0.3096981122180304\n",
      "10\t0.30558600896830485\n"
     ]
    }
   ],
   "source": [
    "for n_clusters in clusters:\n",
    "    gm = GaussianMixture(n_components=n_clusters, random_state=42)\n",
    "    gm_labels = gm.fit_predict(X)\n",
    "    sil = silhouette_score(X=X, labels=gm_labels, metric=\"euclidean\")\n",
    "    print(f\"{n_clusters}\\t{sil}\")"
   ]
  },
  {
   "cell_type": "code",
   "execution_count": 23,
   "metadata": {},
   "outputs": [
    {
     "name": "stdout",
     "output_type": "stream",
     "text": [
      "2\t0.40560374862968174\n",
      "3\t0.4811992210663849\n",
      "4\t0.48470679039805054\n",
      "5\t0.4732978942735451\n",
      "6\t0.4360547281175275\n",
      "7\t0.3610107002721555\n",
      "8\t0.3470279907723165\n",
      "9\t0.27831000812401474\n",
      "10\t0.281314682459535\n"
     ]
    }
   ],
   "source": [
    "for n_clusters in clusters:\n",
    "    agg = AgglomerativeClustering(n_clusters=n_clusters)\n",
    "    agg_labels = agg.fit_predict(X)\n",
    "    sil = silhouette_score(X=X, labels=agg_labels, metric=\"euclidean\")\n",
    "    print(f\"{n_clusters}\\t{sil}\")"
   ]
  }
 ],
 "metadata": {
  "interpreter": {
   "hash": "550056ff3b6c24ef08b20d0608428d73c2737dc12cdd6267fe4ea38c5eab2d02"
  },
  "kernelspec": {
   "display_name": "Python 3.8.9 64-bit ('venv': venv)",
   "language": "python",
   "name": "python3"
  },
  "language_info": {
   "codemirror_mode": {
    "name": "ipython",
    "version": 3
   },
   "file_extension": ".py",
   "mimetype": "text/x-python",
   "name": "python",
   "nbconvert_exporter": "python",
   "pygments_lexer": "ipython3",
   "version": "3.8.9"
  },
  "orig_nbformat": 4
 },
 "nbformat": 4,
 "nbformat_minor": 2
}
