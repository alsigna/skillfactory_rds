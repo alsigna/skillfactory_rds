{
 "cells": [
  {
   "cell_type": "code",
   "execution_count": 26,
   "metadata": {},
   "outputs": [
    {
     "data": {
      "text/plain": [
       "0.8025180661661425"
      ]
     },
     "execution_count": 26,
     "metadata": {},
     "output_type": "execute_result"
    }
   ],
   "source": [
    "from sklearn.cluster import KMeans\n",
    "from sklearn.metrics.cluster import homogeneity_score\n",
    "from sklearn.preprocessing import StandardScaler\n",
    "import numpy as np\n",
    "import matplotlib.pyplot as plt\n",
    "from sklearn import datasets\n",
    "from sklearn.mixture import GaussianMixture\n",
    "from sklearn.cluster import KMeans\n",
    "from sklearn.cluster import AgglomerativeClustering\n",
    "from sklearn.cluster import DBSCAN\n",
    "\n",
    "\n",
    "n_samples = 1500\n",
    "dataset = datasets.make_blobs(n_samples=n_samples, centers=2, center_box=(-7.0, 7.5),\n",
    "                              cluster_std=[1.4, 1.7],\n",
    "                              random_state=42)\n",
    "X_2, _ = datasets.make_blobs(n_samples=n_samples, random_state=170, centers=[[-4, -3]], cluster_std=[1.9])\n",
    "transformation = [[1.2, -0.8], [-0.4, 1.7]]\n",
    "X_2 = np.dot(X_2, transformation)\n",
    "X, y = np.concatenate((dataset[0], X_2)), np.concatenate((dataset[1], np.array([2] * len(X_2))))\n",
    "\n",
    "\n",
    "# сначала получим предсказанные кластеры при помощи метода кластеризации\n",
    "kmeans = KMeans(n_clusters=3, random_state=42)\n",
    "X = StandardScaler().fit_transform(X)\n",
    "kmeans.fit(X)\n",
    "kmeans_pred = kmeans.labels_ \n",
    "# теперь посчитаем однородность\n",
    "homogeneity_score(labels_true=y, labels_pred=kmeans_pred)"
   ]
  },
  {
   "cell_type": "code",
   "execution_count": 4,
   "metadata": {},
   "outputs": [
    {
     "name": "stdout",
     "output_type": "stream",
     "text": [
      "0.8025180661661425\n",
      "0.9339791347507893\n",
      "0.9099781767383747\n",
      "0.00044465831964150197\n"
     ]
    }
   ],
   "source": [
    "k_means = KMeans(n_clusters=3, random_state=42)\n",
    "k_means.fit(X)\n",
    "print(homogeneity_score(labels_true=y, labels_pred=k_means.labels_))\n",
    "\n",
    "gm = GaussianMixture(n_components=3, random_state=42)\n",
    "gm_labels = gm.fit_predict(X)\n",
    "print(homogeneity_score(labels_true=y, labels_pred=gm_labels))\n",
    "\n",
    "agg = AgglomerativeClustering(n_clusters=3)\n",
    "agg_labels = agg.fit_predict(X)\n",
    "print(homogeneity_score(labels_true=y, labels_pred=agg_labels))\n",
    "\n",
    "dbs = DBSCAN(eps=0.9, min_samples=35)\n",
    "dbs_labels = dbs.fit_predict(X)\n",
    "print(homogeneity_score(labels_true=y, labels_pred=dbs_labels))\n"
   ]
  },
  {
   "cell_type": "code",
   "execution_count": 6,
   "metadata": {},
   "outputs": [
    {
     "name": "stdout",
     "output_type": "stream",
     "text": [
      "0.9325740421656737\n"
     ]
    }
   ],
   "source": [
    "from sklearn.metrics.cluster import completeness_score\n",
    "from sklearn.preprocessing import StandardScaler\n",
    "\n",
    "scaler = StandardScaler()\n",
    "X_scaled = scaler.fit_transform(X)\n",
    "\n",
    "gm = GaussianMixture(n_components=3, random_state=42)\n",
    "gm_labels = gm.fit_predict(X_scaled)\n",
    "print(completeness_score(labels_true=y, labels_pred=gm_labels))\n"
   ]
  },
  {
   "cell_type": "code",
   "execution_count": 7,
   "metadata": {},
   "outputs": [
    {
     "name": "stdout",
     "output_type": "stream",
     "text": [
      "0.7808712092278982\n",
      "0.9325740421656737\n",
      "0.9058386997451113\n",
      "0.08342237034907717\n"
     ]
    }
   ],
   "source": [
    "k_means = KMeans(n_clusters=3, random_state=42)\n",
    "k_means.fit(X_scaled)\n",
    "print(completeness_score(labels_true=y, labels_pred=k_means.labels_))\n",
    "\n",
    "gm = GaussianMixture(n_components=3, random_state=42)\n",
    "gm_labels = gm.fit_predict(X_scaled)\n",
    "print(completeness_score(labels_true=y, labels_pred=gm_labels))\n",
    "\n",
    "agg = AgglomerativeClustering(n_clusters=3)\n",
    "agg_labels = agg.fit_predict(X_scaled)\n",
    "print(completeness_score(labels_true=y, labels_pred=agg_labels))\n",
    "\n",
    "dbs = DBSCAN(eps=0.9, min_samples=35)\n",
    "dbs_labels = dbs.fit_predict(X_scaled)\n",
    "print(completeness_score(labels_true=y, labels_pred=dbs_labels))\n"
   ]
  },
  {
   "cell_type": "code",
   "execution_count": 8,
   "metadata": {},
   "outputs": [
    {
     "name": "stdout",
     "output_type": "stream",
     "text": [
      "0.791546668267586\n",
      "0.9332760595996924\n",
      "0.9079037199053294\n",
      "0.000884601531943088\n"
     ]
    }
   ],
   "source": [
    "from sklearn.metrics.cluster import v_measure_score\n",
    "\n",
    "k_means = KMeans(n_clusters=3, random_state=42)\n",
    "k_means.fit(X_scaled)\n",
    "print(v_measure_score(labels_true=y, labels_pred=k_means.labels_))\n",
    "\n",
    "gm = GaussianMixture(n_components=3, random_state=42)\n",
    "gm_labels = gm.fit_predict(X_scaled)\n",
    "print(v_measure_score(labels_true=y, labels_pred=gm_labels))\n",
    "\n",
    "agg = AgglomerativeClustering(n_clusters=3)\n",
    "agg_labels = agg.fit_predict(X_scaled)\n",
    "print(v_measure_score(labels_true=y, labels_pred=agg_labels))\n",
    "\n",
    "dbs = DBSCAN(eps=0.9, min_samples=35)\n",
    "dbs_labels = dbs.fit_predict(X_scaled)\n",
    "print(v_measure_score(labels_true=y, labels_pred=dbs_labels))"
   ]
  },
  {
   "cell_type": "code",
   "execution_count": 9,
   "metadata": {},
   "outputs": [
    {
     "name": "stdout",
     "output_type": "stream",
     "text": [
      "0.7892280957870129\n",
      "0.7903450330611903\n"
     ]
    }
   ],
   "source": [
    "k_means = KMeans(n_clusters=3, init='k-means++', n_init=1, random_state=42)\n",
    "k_means.fit(X_scaled)\n",
    "print(v_measure_score(labels_true=y, labels_pred=k_means.labels_))\n",
    "\n",
    "k_means = KMeans(n_clusters=3, init='random', n_init=1, random_state=42)\n",
    "k_means.fit(X_scaled)\n",
    "print(v_measure_score(labels_true=y, labels_pred=k_means.labels_))\n"
   ]
  },
  {
   "cell_type": "code",
   "execution_count": 10,
   "metadata": {},
   "outputs": [
    {
     "name": "stdout",
     "output_type": "stream",
     "text": [
      "0.7497460092948622\n",
      "0.7892280957870129\n"
     ]
    }
   ],
   "source": [
    "from sklearn.cluster import MiniBatchKMeans\n",
    "\n",
    "kmeans_mini_batch = MiniBatchKMeans(n_clusters=3, n_init=1, random_state=42)\n",
    "k_means = KMeans(n_clusters=3, n_init=1, random_state=42)\n",
    "\n",
    "kmeans_mini_batch.fit(X_scaled)\n",
    "k_means.fit(X_scaled)\n",
    "\n",
    "print(v_measure_score(labels_true=y, labels_pred=kmeans_mini_batch.labels_))\n",
    "print(v_measure_score(labels_true=y, labels_pred=k_means.labels_))\n"
   ]
  },
  {
   "cell_type": "code",
   "execution_count": 12,
   "metadata": {},
   "outputs": [
    {
     "name": "stdout",
     "output_type": "stream",
     "text": [
      "0.9079037199053294\n",
      "0.5805530251504777\n",
      "0.678656551579543\n",
      "0.0008842106330108959\n"
     ]
    }
   ],
   "source": [
    "agg = AgglomerativeClustering(n_clusters=3, linkage=\"ward\")\n",
    "agg_labels = agg.fit_predict(X_scaled)\n",
    "print(v_measure_score(labels_true=y, labels_pred=agg_labels))\n",
    "\n",
    "agg = AgglomerativeClustering(n_clusters=3, linkage=\"complete\")\n",
    "agg_labels = agg.fit_predict(X_scaled)\n",
    "print(v_measure_score(labels_true=y, labels_pred=agg_labels))\n",
    "\n",
    "agg = AgglomerativeClustering(n_clusters=3, linkage=\"average\")\n",
    "agg_labels = agg.fit_predict(X_scaled)\n",
    "print(v_measure_score(labels_true=y, labels_pred=agg_labels))\n",
    "\n",
    "agg = AgglomerativeClustering(n_clusters=3, linkage=\"single\")\n",
    "agg_labels = agg.fit_predict(X_scaled)\n",
    "print(v_measure_score(labels_true=y, labels_pred=agg_labels))\n"
   ]
  },
  {
   "cell_type": "code",
   "execution_count": 13,
   "metadata": {},
   "outputs": [
    {
     "name": "stdout",
     "output_type": "stream",
     "text": [
      "0.9079037199053294\n",
      "0.883942992495597\n"
     ]
    }
   ],
   "source": [
    "from sklearn.neighbors import kneighbors_graph\n",
    "\n",
    "connectivity = kneighbors_graph(X, n_neighbors=6, include_self=False)\n",
    "connectivity = 0.5 * (connectivity + connectivity.T)\n",
    "\n",
    "agg = AgglomerativeClustering(n_clusters=3)\n",
    "agg_labels = agg.fit_predict(X)\n",
    "print(v_measure_score(labels_true=y, labels_pred=agg_labels))\n",
    "\n",
    "agg = AgglomerativeClustering(n_clusters=3, connectivity=connectivity)\n",
    "agg_labels = agg.fit_predict(X)\n",
    "print(v_measure_score(labels_true=y, labels_pred=agg_labels))"
   ]
  },
  {
   "cell_type": "code",
   "execution_count": 27,
   "metadata": {},
   "outputs": [
    {
     "name": "stdout",
     "output_type": "stream",
     "text": [
      "0.08342237034907717\n",
      "0.08772294194361933\n"
     ]
    }
   ],
   "source": [
    "dbs = DBSCAN(eps=0.9, min_samples=35)\n",
    "dbs_labels = dbs.fit_predict(X)\n",
    "print(completeness_score(labels_true=y, labels_pred=dbs_labels))\n",
    "\n",
    "dbs = DBSCAN(eps=0.6, min_samples=35)\n",
    "dbs_labels = dbs.fit_predict(X)\n",
    "print(completeness_score(labels_true=y, labels_pred=dbs_labels))\n"
   ]
  },
  {
   "cell_type": "code",
   "execution_count": 38,
   "metadata": {},
   "outputs": [
    {
     "name": "stdout",
     "output_type": "stream",
     "text": [
      "0.77\n",
      "0.71\n"
     ]
    }
   ],
   "source": [
    "import numpy as np\n",
    "import matplotlib.pyplot as plt\n",
    "from sklearn import datasets\n",
    "\n",
    "n_samples = 1500\n",
    "dataset = datasets.make_blobs(\n",
    "    n_samples=n_samples,\n",
    "    centers=2,\n",
    "    center_box=(-7.0, 7.5),\n",
    "    cluster_std=[1.4, 1.7],\n",
    "    random_state=42,\n",
    ")\n",
    "X_2, _ = datasets.make_blobs(\n",
    "    n_samples=n_samples,\n",
    "    random_state=170,\n",
    "    centers=[[-4, -3]],\n",
    "    cluster_std=[1.9],\n",
    ")\n",
    "transformation = [[1.2, -0.8], [-0.4, 1.7]]\n",
    "X_2 = np.dot(X_2, transformation)\n",
    "X, y = np.concatenate((dataset[0], X_2)), np.concatenate((dataset[1], np.array([2] * len(X_2))))\n",
    "\n",
    "dbscan_eps_09 = DBSCAN(eps=0.9, min_samples=35)\n",
    "dbscan_eps_08 = DBSCAN(eps=0.8, min_samples=35)\n",
    "\n",
    "for algo in [dbscan_eps_09, dbscan_eps_08]:\n",
    "    labels = algo.fit_predict(X)\n",
    "    v_measure = v_measure_score(y, labels)\n",
    "    print(np.round(v_measure, 2))"
   ]
  },
  {
   "cell_type": "code",
   "execution_count": 39,
   "metadata": {},
   "outputs": [
    {
     "data": {
      "text/plain": [
       "(array([-1,  0,  1,  2]), array([ 368,  656,  721, 1255]))"
      ]
     },
     "execution_count": 39,
     "metadata": {},
     "output_type": "execute_result"
    }
   ],
   "source": [
    "y_predict = dbscan_eps_09.fit_predict(X)\n",
    "np.unique(y_predict, return_counts=True)"
   ]
  },
  {
   "cell_type": "code",
   "execution_count": 41,
   "metadata": {},
   "outputs": [
    {
     "name": "stdout",
     "output_type": "stream",
     "text": [
      "0.9667281300681958\n"
     ]
    }
   ],
   "source": [
    "not_noise_ind = np.where(y_predict != -1)\n",
    "v_measure = v_measure_score(y[not_noise_ind], y_predict[not_noise_ind])\n",
    "print(v_measure)"
   ]
  },
  {
   "cell_type": "code",
   "execution_count": 42,
   "metadata": {},
   "outputs": [
    {
     "name": "stdout",
     "output_type": "stream",
     "text": [
      "0.703747024360433\n"
     ]
    }
   ],
   "source": [
    "agg = AgglomerativeClustering(n_clusters=3)\n",
    "agg_labels = agg.fit_predict(X)\n",
    "print(v_measure_score(labels_true=y, labels_pred=agg_labels))\n"
   ]
  },
  {
   "cell_type": "code",
   "execution_count": 43,
   "metadata": {},
   "outputs": [
    {
     "name": "stdout",
     "output_type": "stream",
     "text": [
      "0.9079037199053294\n"
     ]
    }
   ],
   "source": [
    "scaler = StandardScaler()\n",
    "X_scaled = scaler.fit_transform(X)\n",
    "agg_labels = agg.fit_predict(X_scaled)\n",
    "print(v_measure_score(labels_true=y, labels_pred=agg_labels))\n"
   ]
  },
  {
   "cell_type": "code",
   "execution_count": 44,
   "metadata": {},
   "outputs": [
    {
     "name": "stdout",
     "output_type": "stream",
     "text": [
      "0.8929241488344335\n"
     ]
    }
   ],
   "source": [
    "from sklearn.preprocessing import MinMaxScaler\n",
    "min_max_scaler = MinMaxScaler()\n",
    "X_scaled = min_max_scaler.fit_transform(X)\n",
    "agg_labels = agg.fit_predict(X_scaled)\n",
    "print(v_measure_score(labels_true=y, labels_pred=agg_labels))\n"
   ]
  }
 ],
 "metadata": {
  "interpreter": {
   "hash": "550056ff3b6c24ef08b20d0608428d73c2737dc12cdd6267fe4ea38c5eab2d02"
  },
  "kernelspec": {
   "display_name": "Python 3.8.9 64-bit ('venv': venv)",
   "language": "python",
   "name": "python3"
  },
  "language_info": {
   "codemirror_mode": {
    "name": "ipython",
    "version": 3
   },
   "file_extension": ".py",
   "mimetype": "text/x-python",
   "name": "python",
   "nbconvert_exporter": "python",
   "pygments_lexer": "ipython3",
   "version": "3.8.9"
  },
  "orig_nbformat": 4
 },
 "nbformat": 4,
 "nbformat_minor": 2
}
