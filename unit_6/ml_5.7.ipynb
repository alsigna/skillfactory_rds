{
 "cells": [
  {
   "cell_type": "code",
   "execution_count": 1,
   "metadata": {},
   "outputs": [
    {
     "name": "stdout",
     "output_type": "stream",
     "text": [
      "Index(['satisfaction_level', 'last_evaluation', 'number_project',\n",
      "       'average_montly_hours', 'time_spend_company', 'Work_accident',\n",
      "       'promotion_last_5years', 'dept', 'salary'],\n",
      "      dtype='object')\n"
     ]
    }
   ],
   "source": [
    "import pandas as pd\n",
    "import numpy as np\n",
    "import matplotlib.pyplot as plt\n",
    "\n",
    "from sklearn.model_selection import cross_val_score, train_test_split\n",
    "from sklearn.ensemble import BaggingClassifier, RandomForestClassifier\n",
    "from sklearn.tree import DecisionTreeClassifier\n",
    "from sklearn.linear_model import LogisticRegression\n",
    "from sklearn.preprocessing import StandardScaler\n",
    "df = pd.read_csv('HR-dataset.csv')\n",
    "\n",
    "np.random.seed(42)\n",
    "%matplotlib inline\n",
    "%config InlineBackend.figure_format = 'retina'\n",
    "\n",
    "target = 'left'\n",
    "features = df.columns.drop(target)\n",
    "features = features.drop('empid')  # Удалим идентификатор пользователя как нерепрезентативный признак\n",
    "print(features)\n",
    "\n",
    "X, y = df[features].copy(), df[target]"
   ]
  },
  {
   "cell_type": "code",
   "execution_count": 2,
   "metadata": {},
   "outputs": [],
   "source": [
    "salary_ordinals = {'low': 1, 'medium': 2, 'high': 3}\n",
    "\n",
    "X['dept'] = X['dept'].apply(X['dept'].value_counts().get)\n",
    "X['salary'] = X['salary'].apply(salary_ordinals.get)"
   ]
  },
  {
   "cell_type": "code",
   "execution_count": 3,
   "metadata": {},
   "outputs": [],
   "source": [
    "scaler = StandardScaler()\n",
    "X = pd.DataFrame(data=scaler.fit_transform(X), columns=X.columns)"
   ]
  },
  {
   "cell_type": "code",
   "execution_count": 4,
   "metadata": {},
   "outputs": [],
   "source": [
    "def estimate_accuracy(clf, X, y, cv=5):\n",
    "    return cross_val_score(clf, X, y, cv=5, scoring='accuracy').mean()"
   ]
  },
  {
   "cell_type": "code",
   "execution_count": 9,
   "metadata": {},
   "outputs": [
    {
     "name": "stdout",
     "output_type": "stream",
     "text": [
      "Decision tree: 0.9737977325775258\n"
     ]
    }
   ],
   "source": [
    "tree = DecisionTreeClassifier(max_depth=30)\n",
    "print(\"Decision tree:\", estimate_accuracy(tree, X, y))"
   ]
  },
  {
   "cell_type": "code",
   "execution_count": 10,
   "metadata": {},
   "outputs": [
    {
     "name": "stdout",
     "output_type": "stream",
     "text": [
      "Decision tree bagging: 0.9879328665110594\n"
     ]
    }
   ],
   "source": [
    "bagging_trees = BaggingClassifier(tree)\n",
    "print(\"Decision tree bagging:\", estimate_accuracy(bagging_trees, X, y))"
   ]
  },
  {
   "cell_type": "code",
   "execution_count": 11,
   "metadata": {},
   "outputs": [
    {
     "name": "stdout",
     "output_type": "stream",
     "text": [
      "Random tree: 0.9774656441035899\n"
     ]
    }
   ],
   "source": [
    "random_tree = DecisionTreeClassifier(max_features=int(np.sqrt(len(features))), max_depth=30)\n",
    "print(\"Random tree:\", estimate_accuracy(random_tree, X, y))"
   ]
  },
  {
   "cell_type": "code",
   "execution_count": 12,
   "metadata": {},
   "outputs": [
    {
     "name": "stdout",
     "output_type": "stream",
     "text": [
      "Random tree bagging: 0.9903328887406913\n"
     ]
    }
   ],
   "source": [
    "bagging_random_trees = BaggingClassifier(random_tree)\n",
    "print(\"Random tree bagging:\", estimate_accuracy(bagging_random_trees, X, y))"
   ]
  },
  {
   "cell_type": "code",
   "execution_count": 13,
   "metadata": {},
   "outputs": [
    {
     "name": "stdout",
     "output_type": "stream",
     "text": [
      "Random Forest: 0.9918663109925531\n"
     ]
    }
   ],
   "source": [
    "random_forest = RandomForestClassifier(\n",
    "    n_estimators=100,\n",
    "    n_jobs=-1,\n",
    "    max_features=int(np.sqrt(len(features))),\n",
    "    max_depth=30)\n",
    "print(\"Random Forest:\", estimate_accuracy(random_forest, X, y))"
   ]
  },
  {
   "cell_type": "code",
   "execution_count": 14,
   "metadata": {},
   "outputs": [
    {
     "data": {
      "text/plain": [
       "0.993132875525035"
      ]
     },
     "execution_count": 14,
     "metadata": {},
     "output_type": "execute_result"
    }
   ],
   "source": [
    "random_forest = RandomForestClassifier(\n",
    "    n_estimators=100,\n",
    "    max_features=int(np.sqrt(len(features))),\n",
    "    max_depth=30,\n",
    "    oob_score=True,\n",
    "    n_jobs=-1\n",
    ")\n",
    "random_forest.fit(X, y)\n",
    "random_forest.oob_score_.mean()"
   ]
  },
  {
   "cell_type": "code",
   "execution_count": 15,
   "metadata": {},
   "outputs": [
    {
     "name": "stdout",
     "output_type": "stream",
     "text": [
      "LR: 0.7709770367900411\n"
     ]
    }
   ],
   "source": [
    "lr = LogisticRegression(solver='saga', max_iter=200)\n",
    "lr.fit(X, y)\n",
    "print(\"LR:\", estimate_accuracy(lr, X, y))"
   ]
  },
  {
   "cell_type": "code",
   "execution_count": 16,
   "metadata": {},
   "outputs": [
    {
     "name": "stdout",
     "output_type": "stream",
     "text": [
      "Bagging for LR: 0.7701104368122708\n"
     ]
    }
   ],
   "source": [
    "random_logreg = BaggingClassifier(\n",
    "    lr,\n",
    "    n_estimators=10,\n",
    "    n_jobs=-1,\n",
    "    random_state=42\n",
    ")\n",
    "print(\"Bagging for LR:\", estimate_accuracy(random_logreg, X, y))"
   ]
  },
  {
   "cell_type": "code",
   "execution_count": 17,
   "metadata": {},
   "outputs": [
    {
     "name": "stdout",
     "output_type": "stream",
     "text": [
      "Bagging for LR: 0.7569754140268978\n"
     ]
    }
   ],
   "source": [
    "random_logreg = BaggingClassifier(\n",
    "    lr,\n",
    "    n_estimators=10,\n",
    "    n_jobs=-1,\n",
    "    max_features=0.5,\n",
    "    random_state=42\n",
    ")\n",
    "print(\"Bagging for LR:\", estimate_accuracy(random_logreg, X, y))"
   ]
  },
  {
   "cell_type": "code",
   "execution_count": 18,
   "metadata": {},
   "outputs": [],
   "source": [
    "def plot_predictions(X, y, clf, proba=False, points_size=7, xlabel='x', ylabel='y'):\n",
    "    \"\"\"Fits the classifier on the data (X, y) and plots the result on a 2-D plane.\"\"\"\n",
    "    def get_grid(data):\n",
    "        x_std, y_std = data.std(axis=0)\n",
    "        x_min, x_max = data[:, 0].min() - x_std / 2, data[:, 0].max() + x_std / 2\n",
    "        y_min, y_max = data[:, 1].min() - y_std / 2, data[:, 1].max() + y_std / 2\n",
    "        return np.meshgrid(np.linspace(x_min, x_max, num=200),\n",
    "                           np.linspace(y_min, y_max, num=200))\n",
    "    \n",
    "    clf.fit(X, y)\n",
    "    xx, yy = get_grid(X)\n",
    "    if proba:\n",
    "        predicted = clf.predict_proba(np.c_[xx.ravel(), yy.ravel()])[:, 1].reshape(xx.shape)\n",
    "    else:\n",
    "        predicted = clf.predict(np.c_[xx.ravel(), yy.ravel()]).reshape(xx.shape)\n",
    "        \n",
    "    plt.figure(figsize=(10.0, 10.0))\n",
    "    plt.pcolormesh(xx, yy, predicted, cmap=plt.cm.coolwarm, alpha=0.1)\n",
    "    plt.scatter(X[:, 0], X[:, 1], c=y, s=points_size, cmap=plt.cm.coolwarm, alpha=0.90)\n",
    "    plt.ylim([yy.min(),yy.max()])\n",
    "    plt.xlim([xx.min(),xx.max()])\n",
    "    plt.xlabel(xlabel)\n",
    "    plt.ylabel(ylabel)\n",
    "    \n",
    "    return clf"
   ]
  }
 ],
 "metadata": {
  "interpreter": {
   "hash": "550056ff3b6c24ef08b20d0608428d73c2737dc12cdd6267fe4ea38c5eab2d02"
  },
  "kernelspec": {
   "display_name": "Python 3.8.9 64-bit ('venv': venv)",
   "language": "python",
   "name": "python3"
  },
  "language_info": {
   "codemirror_mode": {
    "name": "ipython",
    "version": 3
   },
   "file_extension": ".py",
   "mimetype": "text/x-python",
   "name": "python",
   "nbconvert_exporter": "python",
   "pygments_lexer": "ipython3",
   "version": "3.8.9"
  },
  "orig_nbformat": 4
 },
 "nbformat": 4,
 "nbformat_minor": 2
}
